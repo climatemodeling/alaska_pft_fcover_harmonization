{
 "cells": [
  {
   "cell_type": "markdown",
   "id": "2d2f2be4",
   "metadata": {},
   "source": [
    "# AVA Standardization Notebook\n",
    "---\n",
    "---"
   ]
  },
  {
   "cell_type": "markdown",
   "id": "1e3b45bb-486a-46a0-abcb-3b62b091c629",
   "metadata": {},
   "source": [
    "# Table of contents\n",
    "1. [PRE-PROCESSING](#preprocess)\n",
    "    1. [Select post-2010 data](#post2010)\n",
    "    2. [Select Alaskan tundra data](#aktundra)\n",
    "    3. [Access data](#dataaccess)\n",
    "        1. [Auxiliary data](#auxdata)\n",
    "        2. [Non-foliar fcover data](#nonfoliar)\n",
    "        3. [Foliar fcover data](#foliar)\n",
    "    4. [Join fcover to species checklist table](#joinchecklist)\n",
    "    5. [Join fcover to leaf retention table](#joinleafretention)\n",
    "    6. [Export species-PFT tables](#exporthabits)\n",
    "    7. [Clean exported species-PFT tables](#cleanhabits)\n",
    "2. [STANDARDIZATION](#standardization)\n",
    "    1. [Standardize PFT names](#pftnames)\n",
    "    2. [Sum species fcover to PFT-level](#sumfcover)\n",
    "    3. [Standardize table layout](#tablelayout)\n",
    "    4. [Standardize auxiliary columns](#aux)\n",
    "        1. [Basic plot information](#basics)\n",
    "        2. [Geographical intersections](#geo)\n",
    "        3. [Duplicate coordinates](#dupes)\n",
    "3. [EXPORT](#export)"
   ]
  },
  {
   "cell_type": "markdown",
   "id": "ffea5950",
   "metadata": {},
   "source": [
    "# Load required packages"
   ]
  },
  {
   "cell_type": "code",
   "execution_count": 55,
   "id": "e0a5f5a9",
   "metadata": {},
   "outputs": [],
   "source": [
    "import geopandas as gpd\n",
    "import pandas as pd\n",
    "import numpy as np\n",
    "from datetime import date, timedelta\n",
    "from pyogrio import read_dataframe\n",
    "import glob\n",
    "import geopandas as gpd\n",
    "import sys\n",
    "import os\n",
    "import chardet\n",
    "import tarfile\n",
    "from urllib.request import urlretrieve\n",
    "import regex as re\n",
    "from shapely.validation import make_valid"
   ]
  },
  {
   "cell_type": "code",
   "execution_count": 56,
   "id": "8ab065c9-05f7-4b11-a0d4-5f37af4bbfa7",
   "metadata": {},
   "outputs": [],
   "source": [
    "# import local functions\n",
    "current_dir = os.path.abspath('..')\n",
    "if current_dir not in sys.path:\n",
    "    sys.path.append(current_dir)\n",
    "import standardize_pft_funcs as spf"
   ]
  },
  {
   "cell_type": "markdown",
   "id": "8c8b841c",
   "metadata": {},
   "source": [
    "---\n",
    "---\n",
    "# 1. Pre-processing <a name=\"preprocess\"></a>\n",
    "After visually inspecting each species-level fcover table for obvious errors, we saved the \"cleaned\" tables to a folder that we then standardized here."
   ]
  },
  {
   "cell_type": "code",
   "execution_count": 57,
   "id": "8d7a3e71-184b-45d8-83fc-c414769d553c",
   "metadata": {},
   "outputs": [],
   "source": [
    "source = 'ava'"
   ]
  },
  {
   "cell_type": "code",
   "execution_count": 58,
   "id": "a48c72d6",
   "metadata": {},
   "outputs": [],
   "source": [
    "# read .xlsx table data stored on local machine\n",
    "data_path = f'input_data/ava_ancillary_data.xlsx'\n",
    "data = read_dataframe(data_path)\n",
    "data = data.tail(-1)\n",
    "ava_points = gpd.GeoDataFrame(data, \n",
    "                              geometry=gpd.points_from_xy(data['Longitude (decimal degrees)'], \n",
    "                                                          data['Latitude (decimal degrees)']), \n",
    "                              crs='EPSG:4326')\n",
    "ava_points.rename(columns={'Field releve number':'plotName'}, inplace=True)\n",
    "ava_points['plotName'] = ava_points['plotName']\n",
    "ava_points.index = ava_points['plotName']\n",
    "na_values=[-9, -9.0, '-9', '-9.0']\n",
    "ava_points.replace(na_values, np.nan, inplace=True)"
   ]
  },
  {
   "cell_type": "markdown",
   "id": "9a1e0275",
   "metadata": {},
   "source": [
    "---\n",
    "## 1.1. Select post-2010 data <a name=\"post2010\"></a>\n",
    "Context: In Zhang et al. (in preparation), plot data collected prior to 2010 was deemed too old for usage. The plot data collected prior to 2010 likely did not match satellite imagery from 2019 that was used in the project."
   ]
  },
  {
   "cell_type": "code",
   "execution_count": 59,
   "id": "8a5ef15d",
   "metadata": {},
   "outputs": [
    {
     "name": "stdout",
     "output_type": "stream",
     "text": [
      "Number of post-2010 plot points: 382\n"
     ]
    }
   ],
   "source": [
    "# function to extract year as an integer\n",
    "def get_year(row):\n",
    "    string = str(row)\n",
    "    year = string[:4]\n",
    "    return int(year)\n",
    "\n",
    "# extract data collected after 2010\n",
    "temp = ava_points.copy()\n",
    "temp['surveyYear'] = temp['Date (yyyymmdd)'].apply(get_year)\n",
    "ava_points = temp[temp['surveyYear'] >= 2010]\n",
    "print('Number of post-2010 plot points:', len(ava_points))"
   ]
  },
  {
   "cell_type": "markdown",
   "id": "6160bba7",
   "metadata": {},
   "source": [
    "---\n",
    "## 1.2. Select Alaskan tundra data <a name=\"aktundra\"></a>\n",
    "In Zhang et al. (in preparation), the plot data was limited to those collected in the arctic tundra. The Alaska Tundra polygon here was derived from the CAVM bioclimate zones, clipped to Alaska, and re-projected to EPSG 4326. The polygons were accessed in 2023 from the Alaska Arctic Geoecological Atlas Circumpolar Arctic Vegetation Map (CAVM Team 2003) webpage [linked here](https://arcticatlas.geobotany.org/catalog/dataset/circumpolar-arctic-vegetation-map-cavm-team-2003)."
   ]
  },
  {
   "cell_type": "code",
   "execution_count": 60,
   "id": "1ce11634",
   "metadata": {},
   "outputs": [
    {
     "name": "stdout",
     "output_type": "stream",
     "text": [
      "Shapefile coordinate reference system is EPSG:4326\n",
      "Number of post-2010 plot points in Alaska tundra: 308\n"
     ]
    }
   ],
   "source": [
    "# load the local shapefile using geopandas\n",
    "path = '../etc/tundra_alaska_latlon/tundra_alaska_wgs84.shp'\n",
    "ak_tundra = gpd.read_file(path)\n",
    "print(f'Shapefile coordinate reference system is {ak_tundra.crs}')\n",
    "\n",
    "# ensure point and tundra polygon crs's match\n",
    "ava_points = ava_points.to_crs(ak_tundra.crs)\n",
    "\n",
    "# clip points to study area\n",
    "ava_points = ava_points.clip(ak_tundra)\n",
    "print(f'Number of post-2010 plot points in Alaska tundra: {len(ava_points)}')"
   ]
  },
  {
   "cell_type": "code",
   "execution_count": 61,
   "id": "7807f1d1",
   "metadata": {},
   "outputs": [
    {
     "data": {
      "text/plain": [
       "<Axes: >"
      ]
     },
     "execution_count": 61,
     "metadata": {},
     "output_type": "execute_result"
    },
    {
     "data": {
      "image/png": "[encoded data removed]",
      "text/plain": [
       "<Figure size 640x480 with 1 Axes>"
      ]
     },
     "metadata": {},
     "output_type": "display_data"
    }
   ],
   "source": [
    "# plot the post-2010 alaskan tundra points\n",
    "ax = ak_tundra.plot(edgecolor='black', facecolor='none')\n",
    "ava_points.plot(ax=ax, color='red', markersize=3)"
   ]
  },
  {
   "cell_type": "code",
   "execution_count": 62,
   "id": "9db4a3ae",
   "metadata": {},
   "outputs": [
    {
     "name": "stdout",
     "output_type": "stream",
     "text": [
      "['Atqasuk_Vera Komarkova (Komarkova and Webber 1980)', 'Barrow IBP Tundra Biome_Pat Webber (Webber 1978)', 'Barrow_DOE_NGEE_Victoria Sloan (Sloan et al. 2014)', 'Flux Tower Zona_Scott Davidson (Davidson et al. 2016)', 'Prudhoe ArcSEES road study_Donald Walker (Walker et al. 2015)', 'Prudhoe Bay Airport ArcSEES_Donald Walker (Walker et al. 2016)']\n"
     ]
    }
   ],
   "source": [
    "# export a list of the AVA datasets we will be harmonizing\n",
    "ava_datasets = sorted(ava_points['Dataset'].unique())\n",
    "print(ava_datasets)"
   ]
  },
  {
   "cell_type": "markdown",
   "id": "c769f68e",
   "metadata": {},
   "source": [
    "---\n",
    "## 1.3. Access data  <a name=\"dataaccess\"></a>"
   ]
  },
  {
   "cell_type": "markdown",
   "id": "18a1bbc7-97d6-4aa1-9f4d-fecb2caff4a4",
   "metadata": {},
   "source": [
    "### 1.3.1. Auxiliary data  <a name=\"auxdata\"></a>"
   ]
  },
  {
   "cell_type": "code",
   "execution_count": 63,
   "id": "63960f31",
   "metadata": {},
   "outputs": [],
   "source": [
    "# extract columns that DO NOT have \"cover\" in the name; this is auxiliary info\n",
    "aux_cols = [col for col in ava_points.columns if 'Cover' not in col]\n",
    "aux = ava_points[aux_cols].copy()"
   ]
  },
  {
   "cell_type": "markdown",
   "id": "8a373802-b324-4551-ab03-05f1201ac98e",
   "metadata": {},
   "source": [
    "### 1.3.2. Non-foliar fcover data  <a name=\"nonfoliar\"></a>"
   ]
  },
  {
   "cell_type": "code",
   "execution_count": 64,
   "id": "0f264f2b",
   "metadata": {},
   "outputs": [],
   "source": [
    "# extract columns with \"cover\" in the name; these contain the fcover data\n",
    "cover_cols = [col for col in ava_points.columns if 'Cover' in col]\n",
    "fcover = ava_points[cover_cols].copy()\n",
    "fcover.drop(columns=['Cover abundance scale'], inplace=True) # not fcover"
   ]
  },
  {
   "cell_type": "code",
   "execution_count": 65,
   "id": "6d95eb3c",
   "metadata": {},
   "outputs": [],
   "source": [
    "# extract non-vegetation fcover columns\n",
    "non_veg = fcover[['Cover of soil crust (%)',\n",
    "                  'Cover bare soil (%)',\n",
    "                  'Cover rock (%)',\n",
    "                  'Cover water (%)']]\n",
    "litter = fcover[['Cover litter (%)']]"
   ]
  },
  {
   "cell_type": "markdown",
   "id": "8adf9b45",
   "metadata": {},
   "source": [
    "### 1.3.3. Foliar fcover data  <a name=\"foliar\"></a>"
   ]
  },
  {
   "cell_type": "code",
   "execution_count": 66,
   "id": "e5024a90",
   "metadata": {},
   "outputs": [],
   "source": [
    "# get paths to tables\n",
    "species_csv_paths = sorted(glob.glob(f'input_data/ava_cover_tables/*.csv'))"
   ]
  },
  {
   "cell_type": "code",
   "execution_count": 67,
   "id": "64949700",
   "metadata": {},
   "outputs": [
    {
     "data": {
      "text/html": [
       "<div>\n",
       "<style scoped>\n",
       "    .dataframe tbody tr th:only-of-type {\n",
       "        vertical-align: middle;\n",
       "    }\n",
       "\n",
       "    .dataframe tbody tr th {\n",
       "        vertical-align: top;\n",
       "    }\n",
       "\n",
       "    .dataframe thead th {\n",
       "        text-align: right;\n",
       "    }\n",
       "</style>\n",
       "<table border=\"1\" class=\"dataframe\">\n",
       "  <thead>\n",
       "    <tr style=\"text-align: right;\">\n",
       "      <th></th>\n",
       "      <th>Unnamed: 0</th>\n",
       "      <th>Unnamed: 1</th>\n",
       "      <th>Unnamed: 2</th>\n",
       "      <th>11379</th>\n",
       "      <th>11380</th>\n",
       "      <th>11381</th>\n",
       "      <th>11382</th>\n",
       "      <th>11383</th>\n",
       "      <th>11384</th>\n",
       "      <th>11385</th>\n",
       "      <th>...</th>\n",
       "      <th>11421</th>\n",
       "      <th>11422</th>\n",
       "      <th>11423</th>\n",
       "      <th>11424</th>\n",
       "      <th>11425</th>\n",
       "      <th>11426</th>\n",
       "      <th>11427</th>\n",
       "      <th>11428</th>\n",
       "      <th>11429</th>\n",
       "      <th>11430</th>\n",
       "    </tr>\n",
       "  </thead>\n",
       "  <tbody>\n",
       "    <tr>\n",
       "      <th>0</th>\n",
       "      <td>NaN</td>\n",
       "      <td>NaN</td>\n",
       "      <td>NaN</td>\n",
       "      <td>C1</td>\n",
       "      <td>C2-A</td>\n",
       "      <td>C2-B</td>\n",
       "      <td>C2-C</td>\n",
       "      <td>C3-A</td>\n",
       "      <td>C3-B</td>\n",
       "      <td>C4-A</td>\n",
       "      <td>...</td>\n",
       "      <td>LAVA-B</td>\n",
       "      <td>LAVA-C</td>\n",
       "      <td>QC25-A</td>\n",
       "      <td>QC25-B</td>\n",
       "      <td>QC35A</td>\n",
       "      <td>QC35-B</td>\n",
       "      <td>QC38-A</td>\n",
       "      <td>QC38-B</td>\n",
       "      <td>QC-45</td>\n",
       "      <td>QC-49</td>\n",
       "    </tr>\n",
       "    <tr>\n",
       "      <th>1</th>\n",
       "      <td>Aconitum delphinifolium [s. delphinifolium]</td>\n",
       "      <td>Aconitum delphinifolium [s. delphinifolium] DC.</td>\n",
       "      <td>Aconitum delphinifolium s. delphinifolium</td>\n",
       "      <td>0</td>\n",
       "      <td>0</td>\n",
       "      <td>0</td>\n",
       "      <td>0</td>\n",
       "      <td>+</td>\n",
       "      <td>0</td>\n",
       "      <td>0</td>\n",
       "      <td>...</td>\n",
       "      <td>0</td>\n",
       "      <td>0</td>\n",
       "      <td>0</td>\n",
       "      <td>+</td>\n",
       "      <td>0</td>\n",
       "      <td>0</td>\n",
       "      <td>0</td>\n",
       "      <td>0</td>\n",
       "      <td>0</td>\n",
       "      <td>0</td>\n",
       "    </tr>\n",
       "    <tr>\n",
       "      <th>2</th>\n",
       "      <td>Alectoria ochroleuca</td>\n",
       "      <td>Alectoria ochroleuca (Hoffm.) Massal.</td>\n",
       "      <td>Alectoria ochroleuca</td>\n",
       "      <td>0</td>\n",
       "      <td>0</td>\n",
       "      <td>0</td>\n",
       "      <td>0</td>\n",
       "      <td>0</td>\n",
       "      <td>0</td>\n",
       "      <td>0</td>\n",
       "      <td>...</td>\n",
       "      <td>1</td>\n",
       "      <td>2</td>\n",
       "      <td>0</td>\n",
       "      <td>0</td>\n",
       "      <td>+</td>\n",
       "      <td>+</td>\n",
       "      <td>2</td>\n",
       "      <td>+</td>\n",
       "      <td>0</td>\n",
       "      <td>0</td>\n",
       "    </tr>\n",
       "  </tbody>\n",
       "</table>\n",
       "<p>3 rows × 55 columns</p>\n",
       "</div>"
      ],
      "text/plain": [
       "                                    Unnamed: 0  \\\n",
       "0                                          NaN   \n",
       "1  Aconitum delphinifolium [s. delphinifolium]   \n",
       "2                         Alectoria ochroleuca   \n",
       "\n",
       "                                        Unnamed: 1  \\\n",
       "0                                              NaN   \n",
       "1  Aconitum delphinifolium [s. delphinifolium] DC.   \n",
       "2            Alectoria ochroleuca (Hoffm.) Massal.   \n",
       "\n",
       "                                  Unnamed: 2 11379 11380 11381 11382 11383  \\\n",
       "0                                        NaN    C1  C2-A  C2-B  C2-C  C3-A   \n",
       "1  Aconitum delphinifolium s. delphinifolium     0     0     0     0     +   \n",
       "2                       Alectoria ochroleuca     0     0     0     0     0   \n",
       "\n",
       "  11384 11385  ...   11421   11422   11423   11424  11425   11426   11427  \\\n",
       "0  C3-B  C4-A  ...  LAVA-B  LAVA-C  QC25-A  QC25-B  QC35A  QC35-B  QC38-A   \n",
       "1     0     0  ...       0       0       0       +      0       0       0   \n",
       "2     0     0  ...       1       2       0       0      +       +       2   \n",
       "\n",
       "    11428  11429  11430  \n",
       "0  QC38-B  QC-45  QC-49  \n",
       "1       0      0      0  \n",
       "2       +      0      0  \n",
       "\n",
       "[3 rows x 55 columns]"
      ]
     },
     "execution_count": 67,
     "metadata": {},
     "output_type": "execute_result"
    }
   ],
   "source": [
    "# load tables in pandas; not all tables have known encoding\n",
    "fcover_dfs = []\n",
    "for path in species_csv_paths:\n",
    "    with open(path, 'rb') as file:\n",
    "        # dynamically detect file encoding because it is not consistent\n",
    "        result = chardet.detect(file.read())\n",
    "    df = pd.read_csv(path, encoding=result['encoding'], \n",
    "                     na_values=[-9, -9.0, '-9', '-9.0'])\n",
    "    fcover_dfs.append(df)\n",
    "fcover_dfs[3].head(3)"
   ]
  },
  {
   "cell_type": "code",
   "execution_count": 68,
   "id": "7a412b1a",
   "metadata": {},
   "outputs": [],
   "source": [
    "# get unique species names from ALL tables (not just post-2000)\n",
    "species_names = []\n",
    "for df in fcover_dfs: \n",
    "    names = df.iloc[:, 0] # first col without author\n",
    "    for name in names:\n",
    "        if pd.notnull(name):\n",
    "            name = name.strip('[]')\n",
    "            name = name.strip()\n",
    "            species_names.append(name)\n",
    "u_species_names = list(set(species_names))\n",
    "\n",
    "# remove null species names\n",
    "u_species_names = [x for x in u_species_names if pd.notnull(x)]\n",
    "species_names_df = pd.DataFrame(u_species_names, columns=['datasetSpeciesName'])"
   ]
  },
  {
   "cell_type": "markdown",
   "id": "aba5f9c4",
   "metadata": {},
   "source": [
    "---\n",
    "## 1.4. Join fcover to species checklist table <a name=\"joinchecklist\"></a>"
   ]
  },
  {
   "cell_type": "code",
   "execution_count": 69,
   "id": "6b909227",
   "metadata": {},
   "outputs": [
    {
     "data": {
      "text/html": [
       "<div>\n",
       "<style scoped>\n",
       "    .dataframe tbody tr th:only-of-type {\n",
       "        vertical-align: middle;\n",
       "    }\n",
       "\n",
       "    .dataframe tbody tr th {\n",
       "        vertical-align: top;\n",
       "    }\n",
       "\n",
       "    .dataframe thead th {\n",
       "        text-align: right;\n",
       "    }\n",
       "</style>\n",
       "<table border=\"1\" class=\"dataframe\">\n",
       "  <thead>\n",
       "    <tr style=\"text-align: right;\">\n",
       "      <th></th>\n",
       "      <th>nameCode</th>\n",
       "      <th>checklistSpeciesName</th>\n",
       "      <th>nameStatus</th>\n",
       "      <th>nameAccepted</th>\n",
       "      <th>nameFamily</th>\n",
       "      <th>acceptedNameSource</th>\n",
       "      <th>nameLevel</th>\n",
       "      <th>speciesForm</th>\n",
       "      <th>speciesHabit</th>\n",
       "    </tr>\n",
       "  </thead>\n",
       "  <tbody>\n",
       "    <tr>\n",
       "      <th>0</th>\n",
       "      <td>abroth</td>\n",
       "      <td>Abrothallus De Not.</td>\n",
       "      <td>accepted</td>\n",
       "      <td>Abrothallus De Not.</td>\n",
       "      <td>Abrothallaceae</td>\n",
       "      <td>CNALH</td>\n",
       "      <td>genus</td>\n",
       "      <td>lichen</td>\n",
       "      <td>lichen</td>\n",
       "    </tr>\n",
       "    <tr>\n",
       "      <th>1</th>\n",
       "      <td>abrpar</td>\n",
       "      <td>Abrothallus parmeliarum (Sommerf.) Arnold</td>\n",
       "      <td>accepted</td>\n",
       "      <td>Abrothallus parmeliarum (Sommerf.) Arnold</td>\n",
       "      <td>Abrothallaceae</td>\n",
       "      <td>CNALH</td>\n",
       "      <td>species</td>\n",
       "      <td>lichen</td>\n",
       "      <td>lichen</td>\n",
       "    </tr>\n",
       "    <tr>\n",
       "      <th>2</th>\n",
       "      <td>abrpey</td>\n",
       "      <td>Abrothallus peyritschii (Stein) Kotte</td>\n",
       "      <td>accepted</td>\n",
       "      <td>Abrothallus peyritschii (Stein) Kotte</td>\n",
       "      <td>Abrothallaceae</td>\n",
       "      <td>Dillman et al. 2012</td>\n",
       "      <td>species</td>\n",
       "      <td>lichen</td>\n",
       "      <td>lichen</td>\n",
       "    </tr>\n",
       "  </tbody>\n",
       "</table>\n",
       "</div>"
      ],
      "text/plain": [
       "  nameCode                       checklistSpeciesName nameStatus  \\\n",
       "0   abroth                        Abrothallus De Not.   accepted   \n",
       "1   abrpar  Abrothallus parmeliarum (Sommerf.) Arnold   accepted   \n",
       "2   abrpey      Abrothallus peyritschii (Stein) Kotte   accepted   \n",
       "\n",
       "                                nameAccepted      nameFamily  \\\n",
       "0                        Abrothallus De Not.  Abrothallaceae   \n",
       "1  Abrothallus parmeliarum (Sommerf.) Arnold  Abrothallaceae   \n",
       "2      Abrothallus peyritschii (Stein) Kotte  Abrothallaceae   \n",
       "\n",
       "    acceptedNameSource nameLevel speciesForm speciesHabit  \n",
       "0                CNALH     genus      lichen       lichen  \n",
       "1                CNALH   species      lichen       lichen  \n",
       "2  Dillman et al. 2012   species      lichen       lichen  "
      ]
     },
     "execution_count": 69,
     "metadata": {},
     "output_type": "execute_result"
    }
   ],
   "source": [
    "# load species checklist and prep for joining\n",
    "checklist_path = '../etc/akveg_species_checklist.csv'\n",
    "checklist_df = spf.checklist_df(checklist_path)\n",
    "checklist_df.head(3)"
   ]
  },
  {
   "cell_type": "code",
   "execution_count": 70,
   "id": "b1a63e49",
   "metadata": {},
   "outputs": [
    {
     "data": {
      "text/html": [
       "<div>\n",
       "<style scoped>\n",
       "    .dataframe tbody tr th:only-of-type {\n",
       "        vertical-align: middle;\n",
       "    }\n",
       "\n",
       "    .dataframe tbody tr th {\n",
       "        vertical-align: top;\n",
       "    }\n",
       "\n",
       "    .dataframe thead th {\n",
       "        text-align: right;\n",
       "    }\n",
       "</style>\n",
       "<table border=\"1\" class=\"dataframe\">\n",
       "  <thead>\n",
       "    <tr style=\"text-align: right;\">\n",
       "      <th></th>\n",
       "      <th>datasetSpeciesName</th>\n",
       "    </tr>\n",
       "  </thead>\n",
       "  <tbody>\n",
       "    <tr>\n",
       "      <th>0</th>\n",
       "      <td>Lecanora geophila</td>\n",
       "    </tr>\n",
       "    <tr>\n",
       "      <th>1</th>\n",
       "      <td>Uknown lichen crustose</td>\n",
       "    </tr>\n",
       "    <tr>\n",
       "      <th>2</th>\n",
       "      <td>Ochrolechia inaequatula</td>\n",
       "    </tr>\n",
       "  </tbody>\n",
       "</table>\n",
       "</div>"
      ],
      "text/plain": [
       "        datasetSpeciesName\n",
       "0        Lecanora geophila\n",
       "1   Uknown lichen crustose\n",
       "2  Ochrolechia inaequatula"
      ]
     },
     "execution_count": 70,
     "metadata": {},
     "output_type": "execute_result"
    }
   ],
   "source": [
    "species_names_df.head(3)"
   ]
  },
  {
   "cell_type": "code",
   "execution_count": 71,
   "id": "284d8254",
   "metadata": {},
   "outputs": [
    {
     "name": "stdout",
     "output_type": "stream",
     "text": [
      "450 species are missing habits.\n",
      "236 species still missing habits.\n",
      "43 species still missing habits.\n",
      "39 species still missing habits.\n"
     ]
    },
    {
     "data": {
      "text/html": [
       "<div>\n",
       "<style scoped>\n",
       "    .dataframe tbody tr th:only-of-type {\n",
       "        vertical-align: middle;\n",
       "    }\n",
       "\n",
       "    .dataframe tbody tr th {\n",
       "        vertical-align: top;\n",
       "    }\n",
       "\n",
       "    .dataframe thead th {\n",
       "        text-align: right;\n",
       "    }\n",
       "</style>\n",
       "<table border=\"1\" class=\"dataframe\">\n",
       "  <thead>\n",
       "    <tr style=\"text-align: right;\">\n",
       "      <th></th>\n",
       "      <th>datasetSpeciesName</th>\n",
       "      <th>joinKey</th>\n",
       "      <th>speciesHabit</th>\n",
       "    </tr>\n",
       "    <tr>\n",
       "      <th>index</th>\n",
       "      <th></th>\n",
       "      <th></th>\n",
       "      <th></th>\n",
       "    </tr>\n",
       "  </thead>\n",
       "  <tbody>\n",
       "    <tr>\n",
       "      <th>0</th>\n",
       "      <td>Lecanora geophila</td>\n",
       "      <td>Lecanora geophila</td>\n",
       "      <td>lichen</td>\n",
       "    </tr>\n",
       "    <tr>\n",
       "      <th>1</th>\n",
       "      <td>Uknown lichen crustose</td>\n",
       "      <td>Uknown lichen</td>\n",
       "      <td>NaN</td>\n",
       "    </tr>\n",
       "    <tr>\n",
       "      <th>2</th>\n",
       "      <td>Ochrolechia inaequatula</td>\n",
       "      <td>Ochrolechia inaequatula</td>\n",
       "      <td>lichen</td>\n",
       "    </tr>\n",
       "  </tbody>\n",
       "</table>\n",
       "</div>"
      ],
      "text/plain": [
       "            datasetSpeciesName                  joinKey speciesHabit\n",
       "index                                                               \n",
       "0            Lecanora geophila        Lecanora geophila       lichen\n",
       "1       Uknown lichen crustose            Uknown lichen          NaN\n",
       "2      Ochrolechia inaequatula  Ochrolechia inaequatula       lichen"
      ]
     },
     "execution_count": 71,
     "metadata": {},
     "output_type": "execute_result"
    }
   ],
   "source": [
    "# get first 2 words (genus-species) from checklist accepted name and data species name\n",
    "checklist_df['joinKey'] = checklist_df['checklistSpeciesName'].apply(spf.get_substrings)\n",
    "species_names_df['joinKey'] = species_names_df['datasetSpeciesName'].apply(spf.get_substrings)\n",
    "habits = spf.join_to_checklist(unique_species=species_names_df, \n",
    "                               checklist=checklist_df, \n",
    "                               u_name='datasetSpeciesName', \n",
    "                               c_unofficial_name='checklistSpeciesName', \n",
    "                               c_official_name='nameAccepted', \n",
    "                               mapping_name='joinKey',\n",
    "                               habit='speciesHabit')\n",
    "habits.head(3)"
   ]
  },
  {
   "cell_type": "code",
   "execution_count": 72,
   "id": "0b0264dd",
   "metadata": {},
   "outputs": [
    {
     "data": {
      "text/html": [
       "<div>\n",
       "<style scoped>\n",
       "    .dataframe tbody tr th:only-of-type {\n",
       "        vertical-align: middle;\n",
       "    }\n",
       "\n",
       "    .dataframe tbody tr th {\n",
       "        vertical-align: top;\n",
       "    }\n",
       "\n",
       "    .dataframe thead th {\n",
       "        text-align: right;\n",
       "    }\n",
       "</style>\n",
       "<table border=\"1\" class=\"dataframe\">\n",
       "  <thead>\n",
       "    <tr style=\"text-align: right;\">\n",
       "      <th></th>\n",
       "      <th>datasetSpeciesName</th>\n",
       "      <th>joinKey</th>\n",
       "    </tr>\n",
       "  </thead>\n",
       "  <tbody>\n",
       "    <tr>\n",
       "      <th>0</th>\n",
       "      <td>Lecanora geophila</td>\n",
       "      <td>Lecanora geophila</td>\n",
       "    </tr>\n",
       "    <tr>\n",
       "      <th>1</th>\n",
       "      <td>Uknown lichen crustose</td>\n",
       "      <td>Uknown lichen</td>\n",
       "    </tr>\n",
       "    <tr>\n",
       "      <th>2</th>\n",
       "      <td>Ochrolechia inaequatula</td>\n",
       "      <td>Ochrolechia inaequatula</td>\n",
       "    </tr>\n",
       "  </tbody>\n",
       "</table>\n",
       "</div>"
      ],
      "text/plain": [
       "        datasetSpeciesName                  joinKey\n",
       "0        Lecanora geophila        Lecanora geophila\n",
       "1   Uknown lichen crustose            Uknown lichen\n",
       "2  Ochrolechia inaequatula  Ochrolechia inaequatula"
      ]
     },
     "execution_count": 72,
     "metadata": {},
     "output_type": "execute_result"
    }
   ],
   "source": [
    "species_names_df.head(3)"
   ]
  },
  {
   "cell_type": "code",
   "execution_count": 73,
   "id": "13263160",
   "metadata": {},
   "outputs": [],
   "source": [
    "habits = species_names_df.merge(habits, how='left', left_on='datasetSpeciesName', right_on='datasetSpeciesName', suffixes=(None, '_1'))\n",
    "habits = habits[['joinKey', 'datasetSpeciesName', 'speciesHabit']]"
   ]
  },
  {
   "cell_type": "markdown",
   "id": "f865fa98",
   "metadata": {},
   "source": [
    "---\n",
    "## 1.5. Join fcover to leaf retention table <a name=\"joinleafretention\"></a>"
   ]
  },
  {
   "cell_type": "code",
   "execution_count": 74,
   "id": "925a5a13",
   "metadata": {},
   "outputs": [
    {
     "data": {
      "text/html": [
       "<div>\n",
       "<style scoped>\n",
       "    .dataframe tbody tr th:only-of-type {\n",
       "        vertical-align: middle;\n",
       "    }\n",
       "\n",
       "    .dataframe tbody tr th {\n",
       "        vertical-align: top;\n",
       "    }\n",
       "\n",
       "    .dataframe thead th {\n",
       "        text-align: right;\n",
       "    }\n",
       "</style>\n",
       "<table border=\"1\" class=\"dataframe\">\n",
       "  <thead>\n",
       "    <tr style=\"text-align: right;\">\n",
       "      <th></th>\n",
       "      <th>leafRetention</th>\n",
       "      <th>retentionSpeciesName</th>\n",
       "    </tr>\n",
       "  </thead>\n",
       "  <tbody>\n",
       "    <tr>\n",
       "      <th>0</th>\n",
       "      <td>deciduous</td>\n",
       "      <td>Salix</td>\n",
       "    </tr>\n",
       "    <tr>\n",
       "      <th>1</th>\n",
       "      <td>deciduous</td>\n",
       "      <td>Betula nana</td>\n",
       "    </tr>\n",
       "    <tr>\n",
       "      <th>2</th>\n",
       "      <td>deciduous</td>\n",
       "      <td>Vaccinium uliginosum</td>\n",
       "    </tr>\n",
       "  </tbody>\n",
       "</table>\n",
       "</div>"
      ],
      "text/plain": [
       "  leafRetention  retentionSpeciesName\n",
       "0     deciduous                 Salix\n",
       "1     deciduous           Betula nana\n",
       "2     deciduous  Vaccinium uliginosum"
      ]
     },
     "execution_count": 74,
     "metadata": {},
     "output_type": "execute_result"
    }
   ],
   "source": [
    "# load leaf retention table and clean\n",
    "path = '../etc/macander_leaf_retention.csv'\n",
    "leaf_ret = spf.leaf_retention_df(path)\n",
    "leaf_ret.head(3)"
   ]
  },
  {
   "cell_type": "code",
   "execution_count": 75,
   "id": "a00ccec6",
   "metadata": {},
   "outputs": [
    {
     "data": {
      "text/html": [
       "<div>\n",
       "<style scoped>\n",
       "    .dataframe tbody tr th:only-of-type {\n",
       "        vertical-align: middle;\n",
       "    }\n",
       "\n",
       "    .dataframe tbody tr th {\n",
       "        vertical-align: top;\n",
       "    }\n",
       "\n",
       "    .dataframe thead th {\n",
       "        text-align: right;\n",
       "    }\n",
       "</style>\n",
       "<table border=\"1\" class=\"dataframe\">\n",
       "  <thead>\n",
       "    <tr style=\"text-align: right;\">\n",
       "      <th></th>\n",
       "      <th>datasetSpeciesName</th>\n",
       "      <th>joinKey</th>\n",
       "      <th>speciesHabit</th>\n",
       "      <th>leafRetention</th>\n",
       "    </tr>\n",
       "  </thead>\n",
       "  <tbody>\n",
       "    <tr>\n",
       "      <th>0</th>\n",
       "      <td>Lecanora geophila</td>\n",
       "      <td>Lecanora geophila</td>\n",
       "      <td>lichen</td>\n",
       "      <td></td>\n",
       "    </tr>\n",
       "    <tr>\n",
       "      <th>1</th>\n",
       "      <td>Uknown lichen crustose</td>\n",
       "      <td>Uknown lichen</td>\n",
       "      <td>NaN</td>\n",
       "      <td></td>\n",
       "    </tr>\n",
       "    <tr>\n",
       "      <th>2</th>\n",
       "      <td>Ochrolechia inaequatula</td>\n",
       "      <td>Ochrolechia inaequatula</td>\n",
       "      <td>lichen</td>\n",
       "      <td></td>\n",
       "    </tr>\n",
       "  </tbody>\n",
       "</table>\n",
       "</div>"
      ],
      "text/plain": [
       "        datasetSpeciesName                  joinKey speciesHabit leafRetention\n",
       "0        Lecanora geophila        Lecanora geophila       lichen              \n",
       "1   Uknown lichen crustose            Uknown lichen          NaN              \n",
       "2  Ochrolechia inaequatula  Ochrolechia inaequatula       lichen              "
      ]
     },
     "execution_count": 75,
     "metadata": {},
     "output_type": "execute_result"
    }
   ],
   "source": [
    "# add leaf retention column\n",
    "habits_wleaf = spf.add_leaf_retention(habits, leaf_ret, 'leafRetention')\n",
    "habits_wleaf = habits_wleaf[['datasetSpeciesName', 'joinKey', 'speciesHabit', 'leafRetention']]\n",
    "habits_wleaf.head(3)"
   ]
  },
  {
   "cell_type": "code",
   "execution_count": 76,
   "id": "ca056f2b",
   "metadata": {},
   "outputs": [
    {
     "data": {
      "text/plain": [
       "['lichen',\n",
       " nan,\n",
       " 'forb',\n",
       " 'liverwort',\n",
       " 'spore-bearing',\n",
       " 'graminoid',\n",
       " 'moss',\n",
       " 'shrub',\n",
       " 'coniferous tree',\n",
       " 'deciduous tree']"
      ]
     },
     "execution_count": 76,
     "metadata": {},
     "output_type": "execute_result"
    }
   ],
   "source": [
    "# apply function\n",
    "habits_wleaf['speciesHabit'] = habits_wleaf['speciesHabit'].apply(spf.clean_shrub_habits)\n",
    "list(habits_wleaf['speciesHabit'].unique())"
   ]
  },
  {
   "cell_type": "markdown",
   "id": "e05b0452",
   "metadata": {},
   "source": [
    "---\n",
    "## 1.6. Export species-PFT tables <a name=\"exporthabits\"></a>"
   ]
  },
  {
   "cell_type": "code",
   "execution_count": 77,
   "id": "f03a4a2a-979c-456a-a41b-832d3543706c",
   "metadata": {},
   "outputs": [],
   "source": [
    "# generate 3 files and dataframe of habit types\n",
    "shrubs, nonshrubs, null = spf.export_habit_files(habits_wleaf,\n",
    "                                                 'temp_data', \n",
    "                                                 source, \n",
    "                                                 'speciesHabit')"
   ]
  },
  {
   "cell_type": "code",
   "execution_count": 78,
   "id": "024a0f2f",
   "metadata": {},
   "outputs": [
    {
     "data": {
      "text/plain": [
       "True"
      ]
     },
     "execution_count": 78,
     "metadata": {},
     "output_type": "execute_result"
    }
   ],
   "source": [
    "# check to make sure the files make sense\n",
    "len(habits_wleaf) == (len(null) + len(nonshrubs) + len(shrubs))"
   ]
  },
  {
   "cell_type": "markdown",
   "id": "0a74280d",
   "metadata": {},
   "source": [
    "---\n",
    "## 1.7. Clean exported species-PFT tables <a name=\"cleanhabits\"></a>\n",
    "Here, we manually assessed each file. The nonshrubs were usually correct and did not have to be adjusted. Some shrubs were missing leaf retention information, so we consulted with arctic ecologists to determine it. For unknown (null) habits, we consulted arctic ecology expert, Amy Breen, to determine the issue and correct habit. After the tables were complete, all species names had a single associated habit.\n",
    "- null habits\n",
    "    - assign missing habits and consult ecologist when needed\n",
    "- non-shrubs\n",
    "    - assign leaf habit to all trees (ctrl-f to find all trees in excel)\n",
    "        - coniferous tree = evergreen\n",
    "        - deciduous tree  = deciduous\n",
    "    - remove leaf habit if misapplied\n",
    "- shrubs\n",
    "    - check current leaf habits and correct if necessary\n",
    "    - fill empty leaf habits\n",
    "    - choose leaf habit if both evergreen & deciduous listed\n",
    "    - add Stature column (dwarf shrub or not)"
   ]
  },
  {
   "cell_type": "markdown",
   "id": "07c141e1",
   "metadata": {},
   "source": [
    "---\n",
    "---\n",
    "# 2. Standardization <a name=\"standardization\"></a>"
   ]
  },
  {
   "cell_type": "markdown",
   "id": "a9e4d1b9",
   "metadata": {},
   "source": [
    "---\n",
    "## 2.1. Standardize PFT names <a name=\"pftnames\"></a>\n",
    "deciduous shrub, evergreen shrub, graminoid, forb, litter, non-vascular (lichen, brophyte)"
   ]
  },
  {
   "cell_type": "code",
   "execution_count": 79,
   "id": "fdf122cc-21c0-45d3-ad2f-e0ab4eafeca5",
   "metadata": {},
   "outputs": [],
   "source": [
    "# paths to visually assessed and cleaned habit files\n",
    "all_habit_types = [f'temp_data/{source}_nonshrubs_01.csv',\n",
    "                   f'temp_data/{source}_shrubs_01.csv',\n",
    "                   f'temp_data/{source}_nullhabit_01.csv']\n",
    "\n",
    "# create list of habit dataframes\n",
    "habit_dfs = []\n",
    "for path in all_habit_types:\n",
    "    habit_df = pd.read_csv(path, index_col=0)\n",
    "    habit_dfs.append(habit_df)\n",
    "all_habits = pd.concat(habit_dfs)"
   ]
  },
  {
   "cell_type": "code",
   "execution_count": 80,
   "id": "d9ffe33b",
   "metadata": {},
   "outputs": [
    {
     "data": {
      "text/plain": [
       "['moss',\n",
       " 'lichen',\n",
       " 'forb',\n",
       " 'graminoid',\n",
       " 'liverwort',\n",
       " 'spore-bearing',\n",
       " 'deciduous tree',\n",
       " 'coniferous tree',\n",
       " 'shrub',\n",
       " 'cyanobacteria',\n",
       " 'algae',\n",
       " 'bryophyte',\n",
       " 'fungus']"
      ]
     },
     "execution_count": 80,
     "metadata": {},
     "output_type": "execute_result"
    }
   ],
   "source": [
    "# show unique habit names we're working with\n",
    "all_habits['speciesHabit'].unique().tolist()"
   ]
  },
  {
   "cell_type": "code",
   "execution_count": 81,
   "id": "7099ddc6",
   "metadata": {},
   "outputs": [],
   "source": [
    "# ava-specific habit name standardization function\n",
    "def standardize_habit(habitrow, leafrow):\n",
    "    \n",
    "    habitrow = habitrow.to_numpy()\n",
    "    leafrow = leafrow.to_numpy()\n",
    "    new_row = []\n",
    "    \n",
    "    for habit, leaf in zip(habitrow, leafrow):\n",
    "        \n",
    "        habit = habit.lower()\n",
    "        # non-shrubs\n",
    "        if 'algae' in habit or 'cyanobacteria' in habit:\n",
    "            new_habit = 'lichen'\n",
    "        elif habit == np.nan or 'unknown' in habit:\n",
    "            new_habit = 'unknown'\n",
    "        elif 'moss' in habit or 'liverwort' in habit:\n",
    "            new_habit = 'bryophyte'\n",
    "        elif 'spore-bearing' in habit:\n",
    "            new_habit = 'forb'\n",
    "        elif 'grass' in habit:\n",
    "            new_habit = 'graminoid'\n",
    "            \n",
    "        # shrubs and trees\n",
    "        elif 'shrub' in habit:\n",
    "            new_habit = f'{leaf} shrub'\n",
    "        elif 'tree' in habit:\n",
    "            new_habit = f'{leaf} tree'\n",
    "            \n",
    "        else:\n",
    "            new_habit = f'{habit}'\n",
    "        new_row.append(new_habit)\n",
    "    \n",
    "    return new_row"
   ]
  },
  {
   "cell_type": "code",
   "execution_count": 82,
   "id": "c8a28a7d",
   "metadata": {},
   "outputs": [
    {
     "data": {
      "text/html": [
       "<div>\n",
       "<style scoped>\n",
       "    .dataframe tbody tr th:only-of-type {\n",
       "        vertical-align: middle;\n",
       "    }\n",
       "\n",
       "    .dataframe tbody tr th {\n",
       "        vertical-align: top;\n",
       "    }\n",
       "\n",
       "    .dataframe thead th {\n",
       "        text-align: right;\n",
       "    }\n",
       "</style>\n",
       "<table border=\"1\" class=\"dataframe\">\n",
       "  <thead>\n",
       "    <tr style=\"text-align: right;\">\n",
       "      <th></th>\n",
       "      <th>datasetSpeciesName</th>\n",
       "      <th>joinKey</th>\n",
       "      <th>speciesHabit</th>\n",
       "      <th>leafRetention</th>\n",
       "      <th>speciesStature</th>\n",
       "      <th>standardHabit</th>\n",
       "    </tr>\n",
       "  </thead>\n",
       "  <tbody>\n",
       "    <tr>\n",
       "      <th>1515</th>\n",
       "      <td>Abietinella abietina</td>\n",
       "      <td>Abietinella abietina</td>\n",
       "      <td>moss</td>\n",
       "      <td>NaN</td>\n",
       "      <td>NaN</td>\n",
       "      <td>bryophyte</td>\n",
       "    </tr>\n",
       "    <tr>\n",
       "      <th>1420</th>\n",
       "      <td>Acarospora schleicheri</td>\n",
       "      <td>Acarospora schleicheri</td>\n",
       "      <td>lichen</td>\n",
       "      <td>NaN</td>\n",
       "      <td>NaN</td>\n",
       "      <td>lichen</td>\n",
       "    </tr>\n",
       "    <tr>\n",
       "      <th>971</th>\n",
       "      <td>Achillea lanulosa</td>\n",
       "      <td>Achillea lanulosa</td>\n",
       "      <td>forb</td>\n",
       "      <td>NaN</td>\n",
       "      <td>NaN</td>\n",
       "      <td>forb</td>\n",
       "    </tr>\n",
       "  </tbody>\n",
       "</table>\n",
       "</div>"
      ],
      "text/plain": [
       "          datasetSpeciesName                 joinKey speciesHabit  \\\n",
       "1515    Abietinella abietina    Abietinella abietina         moss   \n",
       "1420  Acarospora schleicheri  Acarospora schleicheri       lichen   \n",
       "971        Achillea lanulosa       Achillea lanulosa         forb   \n",
       "\n",
       "     leafRetention speciesStature standardHabit  \n",
       "1515           NaN            NaN     bryophyte  \n",
       "1420           NaN            NaN        lichen  \n",
       "971            NaN            NaN          forb  "
      ]
     },
     "execution_count": 82,
     "metadata": {},
     "output_type": "execute_result"
    }
   ],
   "source": [
    "# standardized PFT\n",
    "standard_habit_col = standardize_habit(all_habits['speciesHabit'], \n",
    "                                       all_habits['leafRetention'])\n",
    "all_habits['standardHabit'] = standard_habit_col\n",
    "all_habits.to_csv(f'output_data/{source}_all_habits.csv')\n",
    "all_habits.head(3)"
   ]
  },
  {
   "cell_type": "markdown",
   "id": "dcf42ea6",
   "metadata": {},
   "source": [
    "---\n",
    "## 2.2. Sum species fcover to PFT-level <a name=\"sumfcover\"></a>"
   ]
  },
  {
   "cell_type": "code",
   "execution_count": 83,
   "id": "d92925b1",
   "metadata": {},
   "outputs": [],
   "source": [
    "# ava-specific function to clean fcover values\n",
    "from IPython.display import display, clear_output\n",
    "import time\n",
    "def get_fcover_percent(paths, all_habits, habit_col, species_col):\n",
    "    \n",
    "    pft_fcover_tables = []\n",
    "    cover_types = []\n",
    "    \n",
    "    # get fcover type from filename\n",
    "    basenames = [os.path.basename(path) for path in paths]\n",
    "    for name in basenames:\n",
    "        cover_type = name.split('_')[-2]\n",
    "        cover_types.append(cover_type)\n",
    "    all_habits = all_habits[[species_col, habit_col]]\n",
    "    \n",
    "    # loop through each fcover table\n",
    "    for path, cover_type in zip(paths, cover_types):\n",
    "\n",
    "        # read table\n",
    "        with open(path, 'rb') as file:\n",
    "            result = chardet.detect(file.read())\n",
    "            df = pd.read_csv(path, encoding=result['encoding'], \n",
    "                             header=1, \n",
    "                             na_values=[-9, -9.0, '-9', '-9.0'])\n",
    "        clear_output(wait=True)\n",
    "        display(habit_col, path)\n",
    "        time.sleep(1)\n",
    "\n",
    "        # rename columns\n",
    "        cols = df.columns.to_numpy()\n",
    "        cols[0] = 'speciesNameNoAuth'\n",
    "        cols[1] = 'speciesNameAccepted'\n",
    "        cols[2] = 'speciesName'\n",
    "        df.columns = cols\n",
    "\n",
    "        # get list of plot IDs\n",
    "        plot_id_cols = df.columns.to_list()[3:]\n",
    "\n",
    "        # get associated habit for each species\n",
    "        df = df.merge(all_habits, left_on='speciesNameNoAuth', right_on=species_col)\n",
    "\n",
    "        # br-bq to percentage conversion dict\n",
    "        bb_dict = {'r': 0.05, '+': 0.55, '1': 3.0, '2': 15.0, '3': 37.5, '4': 62.5, '5': 87.5, '-9': np.nan}\n",
    "        # Westoff converstion dict\n",
    "        wv_dict = {'1': 0.05, '2': 1.0, '3': 2.5, '4': 4.5, '5': 9.0, '6': 18.5, '7': 37.0, '8': 62.0, '9': 87.5}\n",
    "        # Hult-Serander conversion dict\n",
    "        hs_dict = {'+': 0.5, '1': 4.0, '2': 9.0, '3': 18.0, '4': 38.0, '5': 63.0, '6': 87.0}\n",
    "\n",
    "        # convert wv codes\n",
    "        if cover_type == 'wv':\n",
    "\n",
    "            # replace westoff-van den maarel code with percentage\n",
    "            cols = df.columns.to_list()\n",
    "            df = df.astype(str)\n",
    "            for col in cols:\n",
    "                df.replace({col: wv_dict}, inplace=True)\n",
    "\n",
    "        # covert br-bl codes        \n",
    "        elif cover_type == 'brbl':\n",
    "\n",
    "            # replace br-bl code with percentage\n",
    "            cols = df.columns.to_list()\n",
    "            df = df.astype(str)\n",
    "            for col in cols:\n",
    "                df.replace({col: bb_dict}, inplace=True)\n",
    "\n",
    "        elif cover_type == 'hs':\n",
    "\n",
    "            # replace hs code with percentage\n",
    "            cols = df.columns.to_list()\n",
    "            df = df.astype(str)\n",
    "            for col in cols:\n",
    "                df.replace({col: hs_dict}, inplace=True)\n",
    "\n",
    "        # if already percent\n",
    "        else:\n",
    "\n",
    "            df = df.astype(str)\n",
    "\n",
    "        # clean % data\n",
    "        fcover = df.drop(columns=['speciesNameNoAuth', 'speciesNameAccepted', 'speciesName', species_col])\n",
    "        fcover = fcover.loc[:, fcover.columns != habit_col].replace(' ', '0', regex=True)\n",
    "        fcover = fcover.loc[:, fcover.columns != habit_col].replace('', '0', regex=True)\n",
    "        fcover = fcover.loc[:, fcover.columns != habit_col].replace('\\*', '0', regex=True)\n",
    "        fcover = fcover.loc[:, fcover.columns != habit_col].astype(float)\n",
    "\n",
    "        # add back the standard habit column\n",
    "        fcover = fcover.copy()\n",
    "        fcover[habit_col] = df[habit_col] # replace codes with new fcover %\n",
    "\n",
    "        # loop through each plot and sum fcover per pft\n",
    "        pft_fcover = fcover.groupby(by=[habit_col]).sum().T\n",
    "        pft_fcover.index = plot_id_cols\n",
    "        pft_fcover['fcoverScale'] = cover_type\n",
    "        pft_fcover_tables.append(pft_fcover)\n",
    "        \n",
    "    return pft_fcover_tables"
   ]
  },
  {
   "cell_type": "code",
   "execution_count": 84,
   "id": "74990767",
   "metadata": {},
   "outputs": [
    {
     "data": {
      "text/plain": [
       "'standardHabit'"
      ]
     },
     "metadata": {},
     "output_type": "display_data"
    },
    {
     "data": {
      "text/plain": [
       "'input_data/ava_cover_tables/aava_willows_uschickhoff_2002_spp_brbl_modsrc.csv'"
      ]
     },
     "metadata": {},
     "output_type": "display_data"
    }
   ],
   "source": [
    "# this section is working on ALL plot data\n",
    "fcover_dfs = get_fcover_percent(species_csv_paths, all_habits, \n",
    "                                'standardHabit', 'datasetSpeciesName')"
   ]
  },
  {
   "cell_type": "code",
   "execution_count": 85,
   "id": "3190e893",
   "metadata": {},
   "outputs": [
    {
     "data": {
      "text/html": [
       "<div>\n",
       "<style scoped>\n",
       "    .dataframe tbody tr th:only-of-type {\n",
       "        vertical-align: middle;\n",
       "    }\n",
       "\n",
       "    .dataframe tbody tr th {\n",
       "        vertical-align: top;\n",
       "    }\n",
       "\n",
       "    .dataframe thead th {\n",
       "        text-align: right;\n",
       "    }\n",
       "</style>\n",
       "<table border=\"1\" class=\"dataframe\">\n",
       "  <thead>\n",
       "    <tr style=\"text-align: right;\">\n",
       "      <th></th>\n",
       "      <th>bryophyte</th>\n",
       "      <th>deciduous shrub</th>\n",
       "      <th>deciduous tree</th>\n",
       "      <th>evergreen shrub</th>\n",
       "      <th>evergreen tree</th>\n",
       "      <th>forb</th>\n",
       "      <th>graminoid</th>\n",
       "      <th>lichen</th>\n",
       "      <th>fcoverScale</th>\n",
       "      <th>fungus</th>\n",
       "    </tr>\n",
       "    <tr>\n",
       "      <th>siteCode</th>\n",
       "      <th></th>\n",
       "      <th></th>\n",
       "      <th></th>\n",
       "      <th></th>\n",
       "      <th></th>\n",
       "      <th></th>\n",
       "      <th></th>\n",
       "      <th></th>\n",
       "      <th></th>\n",
       "      <th></th>\n",
       "    </tr>\n",
       "  </thead>\n",
       "  <tbody>\n",
       "    <tr>\n",
       "      <th>BELA_T01_02_2002</th>\n",
       "      <td>0.0</td>\n",
       "      <td>0.0</td>\n",
       "      <td>0.0</td>\n",
       "      <td>0.0</td>\n",
       "      <td>0.0</td>\n",
       "      <td>0.1</td>\n",
       "      <td>0.0</td>\n",
       "      <td>0.0</td>\n",
       "      <td>perc</td>\n",
       "      <td>NaN</td>\n",
       "    </tr>\n",
       "    <tr>\n",
       "      <th>BELA_T01_03_2002</th>\n",
       "      <td>0.0</td>\n",
       "      <td>2.0</td>\n",
       "      <td>0.0</td>\n",
       "      <td>0.0</td>\n",
       "      <td>0.0</td>\n",
       "      <td>2.2</td>\n",
       "      <td>9.0</td>\n",
       "      <td>0.0</td>\n",
       "      <td>perc</td>\n",
       "      <td>NaN</td>\n",
       "    </tr>\n",
       "    <tr>\n",
       "      <th>BELA_T01_04_2002</th>\n",
       "      <td>2.0</td>\n",
       "      <td>56.0</td>\n",
       "      <td>0.0</td>\n",
       "      <td>0.0</td>\n",
       "      <td>0.0</td>\n",
       "      <td>13.2</td>\n",
       "      <td>18.0</td>\n",
       "      <td>0.0</td>\n",
       "      <td>perc</td>\n",
       "      <td>NaN</td>\n",
       "    </tr>\n",
       "  </tbody>\n",
       "</table>\n",
       "</div>"
      ],
      "text/plain": [
       "                  bryophyte  deciduous shrub  deciduous tree  evergreen shrub  \\\n",
       "siteCode                                                                        \n",
       "BELA_T01_02_2002        0.0              0.0             0.0              0.0   \n",
       "BELA_T01_03_2002        0.0              2.0             0.0              0.0   \n",
       "BELA_T01_04_2002        2.0             56.0             0.0              0.0   \n",
       "\n",
       "                  evergreen tree  forb  graminoid  lichen fcoverScale  fungus  \n",
       "siteCode                                                                       \n",
       "BELA_T01_02_2002             0.0   0.1        0.0     0.0        perc     NaN  \n",
       "BELA_T01_03_2002             0.0   2.2        9.0     0.0        perc     NaN  \n",
       "BELA_T01_04_2002             0.0  13.2       18.0     0.0        perc     NaN  "
      ]
     },
     "execution_count": 85,
     "metadata": {},
     "output_type": "execute_result"
    }
   ],
   "source": [
    "standard_fcover = pd.concat(fcover_dfs, axis=0)\n",
    "standard_fcover.index.name = 'siteCode'\n",
    "standard_fcover.index = standard_fcover.index.astype(str)\n",
    "standard_fcover.columns.name = None\n",
    "standard_fcover.head(3)"
   ]
  },
  {
   "cell_type": "markdown",
   "id": "fd714f8b",
   "metadata": {},
   "source": [
    "---\n",
    "## 2.3. Standardize table layout <a name=\"tablelayout\"></a>"
   ]
  },
  {
   "cell_type": "code",
   "execution_count": 86,
   "id": "7294c744",
   "metadata": {},
   "outputs": [],
   "source": [
    "# list of necessary PFTs\n",
    "pfts = ['deciduous shrub', 'deciduous tree',\n",
    "        'evergreen shrub', 'evergreen tree',\n",
    "        'forb', 'graminoid', 'non-vascular',\n",
    "        'bryophyte', 'lichen', 'litter']"
   ]
  },
  {
   "cell_type": "code",
   "execution_count": 87,
   "id": "59d00eeb",
   "metadata": {},
   "outputs": [],
   "source": [
    "# add litter\n",
    "litter = litter.copy()\n",
    "litter.rename(columns={'Cover litter (%)': 'litter'}, inplace=True)\n",
    "standard_fcover = litter.merge(standard_fcover, how='left', left_index=True, right_index=True)"
   ]
  },
  {
   "cell_type": "code",
   "execution_count": 88,
   "id": "9c8de499",
   "metadata": {},
   "outputs": [],
   "source": [
    "# create non-vascular\n",
    "standard_fcover['non-vascular'] = standard_fcover['bryophyte'] + standard_fcover['lichen']"
   ]
  },
  {
   "cell_type": "code",
   "execution_count": 89,
   "id": "a088c358",
   "metadata": {},
   "outputs": [
    {
     "data": {
      "text/html": [
       "<div>\n",
       "<style scoped>\n",
       "    .dataframe tbody tr th:only-of-type {\n",
       "        vertical-align: middle;\n",
       "    }\n",
       "\n",
       "    .dataframe tbody tr th {\n",
       "        vertical-align: top;\n",
       "    }\n",
       "\n",
       "    .dataframe thead th {\n",
       "        text-align: right;\n",
       "    }\n",
       "</style>\n",
       "<table border=\"1\" class=\"dataframe\">\n",
       "  <thead>\n",
       "    <tr style=\"text-align: right;\">\n",
       "      <th></th>\n",
       "      <th>deciduous shrub</th>\n",
       "      <th>deciduous tree</th>\n",
       "      <th>evergreen shrub</th>\n",
       "      <th>evergreen tree</th>\n",
       "      <th>forb</th>\n",
       "      <th>graminoid</th>\n",
       "      <th>non-vascular</th>\n",
       "      <th>bryophyte</th>\n",
       "      <th>lichen</th>\n",
       "      <th>litter</th>\n",
       "    </tr>\n",
       "    <tr>\n",
       "      <th>plotName</th>\n",
       "      <th></th>\n",
       "      <th></th>\n",
       "      <th></th>\n",
       "      <th></th>\n",
       "      <th></th>\n",
       "      <th></th>\n",
       "      <th></th>\n",
       "      <th></th>\n",
       "      <th></th>\n",
       "      <th></th>\n",
       "    </tr>\n",
       "  </thead>\n",
       "  <tbody>\n",
       "    <tr>\n",
       "      <th>14-1</th>\n",
       "      <td>38.6</td>\n",
       "      <td>NaN</td>\n",
       "      <td>0.0</td>\n",
       "      <td>NaN</td>\n",
       "      <td>3.55</td>\n",
       "      <td>62.5</td>\n",
       "      <td>1.1</td>\n",
       "      <td>1.1</td>\n",
       "      <td>0.0</td>\n",
       "      <td>5</td>\n",
       "    </tr>\n",
       "    <tr>\n",
       "      <th>14-2</th>\n",
       "      <td>0.0</td>\n",
       "      <td>NaN</td>\n",
       "      <td>0.0</td>\n",
       "      <td>NaN</td>\n",
       "      <td>0.00</td>\n",
       "      <td>15.0</td>\n",
       "      <td>0.0</td>\n",
       "      <td>0.0</td>\n",
       "      <td>0.0</td>\n",
       "      <td>1</td>\n",
       "    </tr>\n",
       "    <tr>\n",
       "      <th>14-3</th>\n",
       "      <td>0.0</td>\n",
       "      <td>NaN</td>\n",
       "      <td>0.0</td>\n",
       "      <td>NaN</td>\n",
       "      <td>0.00</td>\n",
       "      <td>65.5</td>\n",
       "      <td>0.0</td>\n",
       "      <td>0.0</td>\n",
       "      <td>0.0</td>\n",
       "      <td>7</td>\n",
       "    </tr>\n",
       "  </tbody>\n",
       "</table>\n",
       "</div>"
      ],
      "text/plain": [
       "          deciduous shrub  deciduous tree  evergreen shrub  evergreen tree  \\\n",
       "plotName                                                                     \n",
       "14-1                 38.6             NaN              0.0             NaN   \n",
       "14-2                  0.0             NaN              0.0             NaN   \n",
       "14-3                  0.0             NaN              0.0             NaN   \n",
       "\n",
       "          forb  graminoid  non-vascular  bryophyte  lichen litter  \n",
       "plotName                                                           \n",
       "14-1      3.55       62.5           1.1        1.1     0.0      5  \n",
       "14-2      0.00       15.0           0.0        0.0     0.0      1  \n",
       "14-3      0.00       65.5           0.0        0.0     0.0      7  "
      ]
     },
     "execution_count": 89,
     "metadata": {},
     "output_type": "execute_result"
    }
   ],
   "source": [
    "# create standard columns\n",
    "standard_fcover = spf.add_standard_cols(standard_fcover, pfts)\n",
    "standard_fcover = standard_fcover[pfts]\n",
    "standard_fcover.head(3)"
   ]
  },
  {
   "cell_type": "code",
   "execution_count": 90,
   "id": "98ffc798",
   "metadata": {},
   "outputs": [
    {
     "data": {
      "text/html": [
       "<div>\n",
       "<style scoped>\n",
       "    .dataframe tbody tr th:only-of-type {\n",
       "        vertical-align: middle;\n",
       "    }\n",
       "\n",
       "    .dataframe tbody tr th {\n",
       "        vertical-align: top;\n",
       "    }\n",
       "\n",
       "    .dataframe thead th {\n",
       "        text-align: right;\n",
       "    }\n",
       "</style>\n",
       "<table border=\"1\" class=\"dataframe\">\n",
       "  <thead>\n",
       "    <tr style=\"text-align: right;\">\n",
       "      <th></th>\n",
       "      <th>deciduous shrub</th>\n",
       "      <th>deciduous tree</th>\n",
       "      <th>evergreen shrub</th>\n",
       "      <th>evergreen tree</th>\n",
       "      <th>forb</th>\n",
       "      <th>graminoid</th>\n",
       "      <th>non-vascular</th>\n",
       "      <th>bryophyte</th>\n",
       "      <th>lichen</th>\n",
       "      <th>litter</th>\n",
       "      <th>bare ground</th>\n",
       "      <th>water</th>\n",
       "    </tr>\n",
       "    <tr>\n",
       "      <th>plotName</th>\n",
       "      <th></th>\n",
       "      <th></th>\n",
       "      <th></th>\n",
       "      <th></th>\n",
       "      <th></th>\n",
       "      <th></th>\n",
       "      <th></th>\n",
       "      <th></th>\n",
       "      <th></th>\n",
       "      <th></th>\n",
       "      <th></th>\n",
       "      <th></th>\n",
       "    </tr>\n",
       "  </thead>\n",
       "  <tbody>\n",
       "    <tr>\n",
       "      <th>14-1</th>\n",
       "      <td>38.6</td>\n",
       "      <td>NaN</td>\n",
       "      <td>0.0</td>\n",
       "      <td>NaN</td>\n",
       "      <td>3.55</td>\n",
       "      <td>62.5</td>\n",
       "      <td>1.1</td>\n",
       "      <td>1.1</td>\n",
       "      <td>0.0</td>\n",
       "      <td>5</td>\n",
       "      <td>30.0</td>\n",
       "      <td>0.0</td>\n",
       "    </tr>\n",
       "    <tr>\n",
       "      <th>14-2</th>\n",
       "      <td>0.0</td>\n",
       "      <td>NaN</td>\n",
       "      <td>0.0</td>\n",
       "      <td>NaN</td>\n",
       "      <td>0.00</td>\n",
       "      <td>15.0</td>\n",
       "      <td>0.0</td>\n",
       "      <td>0.0</td>\n",
       "      <td>0.0</td>\n",
       "      <td>1</td>\n",
       "      <td>80.0</td>\n",
       "      <td>0.0</td>\n",
       "    </tr>\n",
       "    <tr>\n",
       "      <th>14-3</th>\n",
       "      <td>0.0</td>\n",
       "      <td>NaN</td>\n",
       "      <td>0.0</td>\n",
       "      <td>NaN</td>\n",
       "      <td>0.00</td>\n",
       "      <td>65.5</td>\n",
       "      <td>0.0</td>\n",
       "      <td>0.0</td>\n",
       "      <td>0.0</td>\n",
       "      <td>7</td>\n",
       "      <td>42.0</td>\n",
       "      <td>0.0</td>\n",
       "    </tr>\n",
       "  </tbody>\n",
       "</table>\n",
       "</div>"
      ],
      "text/plain": [
       "          deciduous shrub  deciduous tree  evergreen shrub  evergreen tree  \\\n",
       "plotName                                                                     \n",
       "14-1                 38.6             NaN              0.0             NaN   \n",
       "14-2                  0.0             NaN              0.0             NaN   \n",
       "14-3                  0.0             NaN              0.0             NaN   \n",
       "\n",
       "          forb  graminoid  non-vascular  bryophyte  lichen litter  \\\n",
       "plotName                                                            \n",
       "14-1      3.55       62.5           1.1        1.1     0.0      5   \n",
       "14-2      0.00       15.0           0.0        0.0     0.0      1   \n",
       "14-3      0.00       65.5           0.0        0.0     0.0      7   \n",
       "\n",
       "          bare ground  water  \n",
       "plotName                      \n",
       "14-1             30.0    0.0  \n",
       "14-2             80.0    0.0  \n",
       "14-3             42.0    0.0  "
      ]
     },
     "execution_count": 90,
     "metadata": {},
     "output_type": "execute_result"
    }
   ],
   "source": [
    "# add non-vegetation\n",
    "non_veg = non_veg.rename(columns={'Cover of soil crust (%)':'bare ground',\n",
    "                       'Cover bare soil (%)':'bare ground',\n",
    "                       'Cover rock (%)':'bare ground',\n",
    "                       'Cover water (%)':'water'})\n",
    "non_veg = non_veg.groupby(lambda x:x, axis=1).sum()\n",
    "standard_fcover = standard_fcover.merge(non_veg, how='left', left_index=True, right_index=True)\n",
    "standard_fcover.head(3)"
   ]
  },
  {
   "cell_type": "markdown",
   "id": "62a236d0",
   "metadata": {},
   "source": [
    "---\n",
    "## 2.4. Standardize auxiliary columns <a name=\"aux\"></a>"
   ]
  },
  {
   "cell_type": "markdown",
   "id": "b9f9c4e8",
   "metadata": {},
   "source": [
    "Plot information:\n",
    "- [ ] UID\n",
    "- [x] plotName\n",
    "- [x] dataSource\n",
    "- [x] dataSubsource\n",
    "- [x] fcoverScale\n",
    "- [x] surveyMethod\n",
    "- [x] surveyPurpose\n",
    "- [x] duplicatedCoords\n",
    "- [x] duplicatedDate\n",
    "- [x] surveyYear\n",
    "- [x] surveyMonth\n",
    "- [x] surveyDay\n",
    "\n",
    "Geographical information:\n",
    "- [x] bioclimateSubzone\n",
    "- [x] adminCountry\n",
    "- [x] adminUnit\n",
    "- [x] fireYears\n",
    "- [x] coordEpsg\n",
    "- [x] georefSource\n",
    "- [x] georefAccuracy\n",
    "- [x] plotRadius\n",
    "- [x] longitueX\n",
    "- [x] latitudeY"
   ]
  },
  {
   "cell_type": "code",
   "execution_count": 91,
   "id": "9c160b80",
   "metadata": {},
   "outputs": [],
   "source": [
    "# sampling methods, coverscale, data source\n",
    "methods_path = '../etc/sampling_methods.csv'\n",
    "methods = pd.read_csv(methods_path)"
   ]
  },
  {
   "cell_type": "markdown",
   "id": "7cd7931b-fd38-451e-9e8c-e10a360bbff3",
   "metadata": {},
   "source": [
    "### 2.4.1. Basic plot information <a name=\"basics\"></a>"
   ]
  },
  {
   "cell_type": "code",
   "execution_count": 92,
   "id": "5c399e1d",
   "metadata": {},
   "outputs": [],
   "source": [
    "new_aux = pd.DataFrame()\n",
    "\n",
    "# date columns\n",
    "aux['Date (yyyymmdd)'] = (aux['Date (yyyymmdd)'].astype(int)).astype(str)\n",
    "aux['surveyDate'] = pd.to_datetime(aux['Date (yyyymmdd)'], format='mixed')\n",
    "new_aux['surveyYear'] = aux['surveyDate'].dt.year.astype(int)\n",
    "new_aux['surveyMonth'] = aux['surveyDate'].dt.month.astype(int)\n",
    "new_aux['surveyDay'] = aux['surveyDate'].dt.day.astype(int)\n",
    "\n",
    "# plot size\n",
    "aux['Releve area (m2)'].replace(-1, np.NaN)\n",
    "new_aux['plotRadius'] = np.sqrt(aux['Releve area (m2)'].astype(float)) / 2\n",
    "\n",
    "# geographical information\n",
    "new_aux['latitudeY'] = aux['Latitude (decimal degrees)']\n",
    "new_aux['longitudeX'] = aux['Longitude (decimal degrees)']\n",
    "new_aux['georefSource'] = aux['Georeference source']\n",
    "new_aux['georefAccuracy'] = aux['Georeference accuracy (m)'].astype('Float32')\n",
    "new_aux['coordEPSG'] = 'EPSG:4326'\n",
    "\n",
    "# main\n",
    "new_aux['plotName'] = aux['plotName']\n",
    "new_aux['dataSubsource'] = aux['Dataset'].apply(lambda name: name.replace('_', ' '))\n",
    "new_aux['dataSubsource'] = new_aux['dataSubsource'].apply(lambda name: re.sub(r'\\([^)]*\\)', '', name))\n",
    "new_aux['dataSubsource'] = new_aux['dataSubsource'].apply(lambda name: name.strip())\n",
    "new_aux = new_aux.merge(methods, how='left', left_on='dataSubsource', right_on='dataSubsource')\n",
    "new_aux = new_aux.set_index(new_aux['plotName'])"
   ]
  },
  {
   "cell_type": "markdown",
   "id": "4bbf4212",
   "metadata": {},
   "source": [
    "### 2.4.2. Geographical intersections <a name=\"geo\"></a>"
   ]
  },
  {
   "cell_type": "code",
   "execution_count": 93,
   "id": "96e15567-9803-4813-b0ff-f78d75971450",
   "metadata": {},
   "outputs": [],
   "source": [
    "# set geo info\n",
    "geo_paths = ['../etc/gaul1/gaul1_asap.shp',\n",
    "             '../etc/fire/InterAgencyFirePerimeterHistory_All_Years_View.shp',\n",
    "             '../etc/bioclim/bioclimate_la_latlon.shp']\n",
    "geo_names = ['gaul1',\n",
    "             'fire',\n",
    "             'bioclim']\n",
    "geo_cols = [['name1', 'name0', 'geometry'],\n",
    "            ['FIRE_YEAR', 'geometry'],\n",
    "            ['zone', 'geometry']]"
   ]
  },
  {
   "cell_type": "code",
   "execution_count": 94,
   "id": "b3336526-f4c0-4879-a18c-49630d9cbdae",
   "metadata": {},
   "outputs": [],
   "source": [
    "# create geospatial information\n",
    "fcover_epsg = 'EPSG:4326' # wgs 84\n",
    "intersect_epsg = 'EPSG:5936' # alaska projected datum\n",
    "fcover_and_aux = pd.concat([standard_fcover, new_aux], join='inner', axis=1)\n",
    "fcover_and_aux = gpd.GeoDataFrame(fcover_and_aux, \n",
    "                                  geometry=gpd.points_from_xy(fcover_and_aux['longitudeX'],\n",
    "                                                              fcover_and_aux['latitudeY']),\n",
    "                                  crs=fcover_epsg)\n",
    "fcover_and_aux = fcover_and_aux.to_crs(intersect_epsg)\n",
    "\n",
    "# add new geospatial intersections\n",
    "fcover_and_aux = spf.add_geospatial_aux(fcover_and_aux, \n",
    "                                        geo_paths, \n",
    "                                        geo_names, \n",
    "                                        geo_cols,\n",
    "                                        intersect_epsg)\n",
    "\n",
    "# drop unneccesary columns\n",
    "fcover_and_aux = fcover_and_aux.drop(columns=['index_gaul1', \n",
    "                                              'index_fire', \n",
    "                                              'index_bioclim', \n",
    "                                              'plotName'])"
   ]
  },
  {
   "cell_type": "code",
   "execution_count": 95,
   "id": "579bc83c-8523-4baa-91b6-f970566ff765",
   "metadata": {},
   "outputs": [],
   "source": [
    "# rename new columns\n",
    "fcover_and_aux.rename(columns={'name1':'adminUnit',\n",
    "                               'name0':'adminCountry',\n",
    "                               'FIRE_YEAR':'fireYears',\n",
    "                               'zone':'bioclimSubzone'}, inplace=True)"
   ]
  },
  {
   "cell_type": "markdown",
   "id": "a64b01e9",
   "metadata": {},
   "source": [
    "### 2.4.3. Duplicate coordinates <a name=\"dupes\"></a>\n",
    "This indicates that plots may have been revisited, they were very close and GPS accuracy was too low, or there is human error"
   ]
  },
  {
   "cell_type": "code",
   "execution_count": 96,
   "id": "bb99da23-4ace-42ae-b2a5-c9d398ff5667",
   "metadata": {},
   "outputs": [
    {
     "name": "stdout",
     "output_type": "stream",
     "text": [
      "duplicates found\n",
      "duplicates found\n"
     ]
    }
   ],
   "source": [
    "# duplicate coord column\n",
    "coords = ['longitudeX', 'latitudeY']\n",
    "fcover_and_aux['duplicatedCoords'] = np.nan\n",
    "fcover_and_aux = spf.find_duplicates(fcover_and_aux, coords, 'duplicatedCoords')\n",
    "\n",
    "# duplicate date column\n",
    "date = ['surveyYear', 'surveyMonth', 'surveyDay']\n",
    "fcover_and_aux['duplicatedDate'] = np.nan\n",
    "fcover_and_aux = spf.find_duplicates(fcover_and_aux, date, 'duplicatedDate')"
   ]
  },
  {
   "cell_type": "markdown",
   "id": "181d15a7-a8b1-49cf-a654-f496ed3d1402",
   "metadata": {},
   "source": [
    "---\n",
    "# 3. Export <a name=\"export\"></a>"
   ]
  },
  {
   "cell_type": "code",
   "execution_count": 97,
   "id": "5ec55dd5-c574-42b0-b913-b870c7ac3855",
   "metadata": {},
   "outputs": [],
   "source": [
    "# clean up\n",
    "pfts = {'deciduous shrub':'deciduousShrubCover',\n",
    "        'evergreen shrub':'evergreenShrubCover',\n",
    "        'deciduous tree':'deciduousTreeCover',\n",
    "        'evergreen tree':'evergreenTreeCover',\n",
    "        'forb':'forbCover',\n",
    "        'graminoid':'graminoidCover',\n",
    "        'non-vascular':'nonvascularSumCover',\n",
    "        'bryophyte':'bryophyteCover',\n",
    "        'lichen':'lichenCover',\n",
    "        'litter':'litterCover',\n",
    "        'bare ground':'baregroundCover',\n",
    "        'water':'waterCover'}\n",
    "\n",
    "# rename columns and replace NaN cover with 0\n",
    "fcover_and_aux.rename(columns=pfts, inplace=True)\n",
    "fcover_cols = list(pfts.values())\n",
    "fcover_and_aux[fcover_cols] = fcover_and_aux[fcover_cols].fillna(0.0)\n",
    "\n",
    "# reproject and set cover data type\n",
    "fcover_and_aux = fcover_and_aux.to_crs('EPSG:4326')\n",
    "fcover_and_aux[fcover_cols] = fcover_and_aux[fcover_cols].astype(np.float32)\n",
    "fcover_and_aux.index.name = 'plotName'"
   ]
  },
  {
   "cell_type": "code",
   "execution_count": 98,
   "id": "bf159ba9-e80b-4f14-9d46-383ff1e09ddf",
   "metadata": {},
   "outputs": [],
   "source": [
    "fcover_and_aux.to_csv(f'output_data/{source}_standardized_fcover.csv')"
   ]
  },
  {
   "cell_type": "code",
   "execution_count": 58,
   "id": "d138918a-0258-47b6-83f1-8dbe1a1b0fbb",
   "metadata": {},
   "outputs": [],
   "source": [
    "# some points may be outside of intersection polygons;\n",
    "# must manually identify missing admin units and bioclim zones"
   ]
  },
  {
   "cell_type": "code",
   "execution_count": null,
   "id": "b7647586-7e98-4021-bfe4-d7afdb4b4671",
   "metadata": {},
   "outputs": [],
   "source": []
  }
 ],
 "metadata": {
  "kernelspec": {
   "display_name": "Python 3 (ipykernel)",
   "language": "python",
   "name": "python3"
  },
  "language_info": {
   "codemirror_mode": {
    "name": "ipython",
    "version": 3
   },
   "file_extension": ".py",
   "mimetype": "text/x-python",
   "name": "python",
   "nbconvert_exporter": "python",
   "pygments_lexer": "ipython3",
   "version": "3.11.5"
  }
 },
 "nbformat": 4,
 "nbformat_minor": 5
}
