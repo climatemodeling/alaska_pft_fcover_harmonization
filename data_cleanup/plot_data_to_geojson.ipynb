{
 "cells": [
  {
   "cell_type": "code",
   "execution_count": 3,
   "id": "9ab73afb-c750-4bef-a31a-b1770c13a450",
   "metadata": {},
   "outputs": [],
   "source": [
    "# This script is to clean up the data in csv format from DAAC to create GeoJSONs with some consistency in column names\n",
    "\n",
    "import pandas as pd\n",
    "import geopandas as gpd\n",
    "\n",
    "import numpy as np\n",
    "\n",
    "import matplotlib.pyplot as plt\n",
    "#from geodatasets import get_path"
   ]
  },
  {
   "cell_type": "code",
   "execution_count": 4,
   "id": "e9e16f9a-9f8d-44ec-be7b-064c31923888",
   "metadata": {},
   "outputs": [],
   "source": [
    "dfiles = ['/home/jbk/projects/data/arctic/veg_plot_data/Alder_Shrub_Soil_Alaska_2120/data/ABoVE_alder_data_2019.csv', \n",
    "          '/home/jbk/projects/data/arctic/veg_plot_data/Arctic_Network_Veg_plots_1542/data/arctic_network_environmental_data.csv', \n",
    "#          '/home/jbk/projects/data/arctic/veg_plot_data/Arrigetch_Peaks_Veg_Plots_1358/data/Arrigetch_Peaks_Environmental_Data.csv', \n",
    "          '/home/jbk/projects/data/arctic/veg_plot_data/ATLAS_Veg_Plots_1541/data/atlas-1_environmental_data.csv', \n",
    "          '/home/jbk/projects/data/arctic/veg_plot_data/ATLAS_Veg_Plots_1541/data/atlas-2_environmental_data.csv',\n",
    "          '/home/jbk/projects/data/arctic/veg_plot_data/Atqasuk_Veg_Plots_1371/data/Atqasuk_Environmental_Data.csv',\n",
    "          '/home/jbk/projects/data/arctic/veg_plot_data/Barrow_NGEE_Arctic_Veg_Plots_1505/data/Barrow_NGEE_Arctic_Environmental_Data.csv',\n",
    "          '/home/jbk/projects/data/arctic/veg_plot_data/Barrow_Tundra_Veg_Plots_1535/data/Barrow_Tundra_IBP_Environmental_Data_Repeat_Plots_2010.csv',\n",
    "          '/home/jbk/projects/data/arctic/veg_plot_data/Barter_Barrow_Veg_Plots_1534/data/Barter_Barrow_Environmental_Data.csv',\n",
    "          '/home/jbk/projects/data/arctic/veg_plot_data/Canadian_West_Arctic_Veg_Plots_1543/data/Canadian_West_Arctic_Environmental_Data.csv',\n",
    "          '/home/jbk/projects/data/arctic/veg_plot_data/Flux_Tower_Zona_Veg_Plots_1546/data/flux_tower_zona_enivronmental_data.csv',\n",
    "          '/home/jbk/projects/data/arctic/veg_plot_data/Frost_Boils_Veg_Plots_1361/data/Frost_Boils_Environmental_Data.csv',\n",
    "          '/home/jbk/projects/data/arctic/veg_plot_data/Happy_Valley_Veg_Plots_1354/data/Happy_Valley_Environmental_Data.csv',\n",
    "          '/home/jbk/projects/data/arctic/veg_plot_data/Imnavait_Creek_Veg_Plots_1356/data/Imnavait_Creek_Environmental_Data.csv',\n",
    "#          '/home/jbk/projects/data/arctic/veg_plot_data/Nome_Veg_Plots_1372/data/Nome_Environmental_Data.csv',\n",
    "          '/home/jbk/projects/data/arctic/veg_plot_data/North_Slope_Veg_Plots_1536/data/North_Slope_Veg_Plots_Environmental_Data.csv',\n",
    "          '/home/jbk/projects/data/arctic/veg_plot_data/Oumalik_Veg_plots_1506/data/oumalik_environmental_data.csv',\n",
    "          '/home/jbk/projects/data/arctic/veg_plot_data/Pingo_Veg_Plots_1507/data/pingos_environmental_data.csv',\n",
    "          '/home/jbk/projects/data/arctic/veg_plot_data/Poplar_Veg_Plots_1376/data/Poplar_Veg_Plots_Environmental.csv',\n",
    "          '/home/jbk/projects/data/arctic/veg_plot_data/Prudhoe_Bay_ArcSEES_Veg_Plots_1555/data/spine_rd_prudhoe_bay_veg_plots_environmental.csv',\n",
    "          '/home/jbk/projects/data/arctic/veg_plot_data/Prudhoe_Bay_Veg_Plots_1360/data/Prudhoe_Bay_Environmental_Data.csv',\n",
    "          '/home/jbk/projects/data/arctic/veg_plot_data/Toolik_Lake_Veg_Plots_1333/data/Toolik_Lake_Environmental_Data.csv',\n",
    "          '/home/jbk/projects/data/arctic/veg_plot_data/Tundra_Fire_Veg_Plots_1547/data/tundra_fire_veg_plots_environmental_data.csv',\n",
    "#          '/home/jbk/projects/data/arctic/veg_plot_data/Umiat_Veg_Plots_1370/data/Umiat_Environmental_Data.csv',\n",
    "          '/home/jbk/projects/data/arctic/veg_plot_data/Unalaska_Veg_Plots_1375/data/Unalaska_Environmental_Data.csv',\n",
    "          '/home/jbk/projects/data/arctic/veg_plot_data/Willow_Veg_Plots_1368/data/Willow_Environmental_Data.csv',\n",
    "         ]\n",
    "nsites=len(dfiles)"
   ]
  },
  {
   "cell_type": "code",
   "execution_count": null,
   "id": "13430f2b-7910-48c6-9798-b5fa1902bb06",
   "metadata": {},
   "outputs": [],
   "source": []
  },
  {
   "cell_type": "code",
   "execution_count": 139,
   "id": "c245b977-34a1-4277-b968-97c5812e88b5",
   "metadata": {},
   "outputs": [],
   "source": [
    "n=0\n",
    "dset = pd.read_csv(dfiles[n], na_values=[-9999.0])\n",
    "dset = dset0.rename(columns={\"lat\":\"latitude\", \"long\":\"longitude\", \"percent_bare_mean\":\"cover_bare_mean\", \"percent_moss_mean\":\"cover_moss_mean\", \"percent_lichen_mean\":\"cover_lichen_mean\", \"percent_dwarf_shrub_mean\":\"cover_dwarf_shrub_mean\", \"percent_graminoid_mean\":\"cover_graminoid_mean\", \"percent_alder_mean\":\"cover_alder_mean\", \"percent_willow_mean\":\"cover_willow_mean\", \"percent_aspen_mean\":\"cover_aspen_mean\", \"percent_paper_birch_mean\":\"cover_paper_birch_mean\"})\n",
    "gdf = gpd.GeoDataFrame(dset, geometry=gpd.points_from_xy(dset.longitude, dset.latitude), crs=\"EPSG:4326\")\n",
    "with open(dfiles[n].replace('csv', 'geojson') , 'w') as file:\n",
    "    file.write(gdf.to_json())"
   ]
  },
  {
   "cell_type": "code",
   "execution_count": 128,
   "id": "e7839a47-4ed5-4df2-b668-03ecaaadec3b",
   "metadata": {},
   "outputs": [
    {
     "data": {
      "text/plain": [
       "percent_bare_mean            NaN\n",
       "percent_moss_mean            5.0\n",
       "percent_lichen_mean         15.0\n",
       "percent_dwarf_shrub_mean    50.0\n",
       "percent_graminoid_mean      30.0\n",
       "percent_alder_mean          12.0\n",
       "percent_willow_mean          NaN\n",
       "percent_aspen_mean           NaN\n",
       "percent_paper_birch_mean     NaN\n",
       "percent_alder_max_mean      30.0\n",
       "percent_alder_upper_mean    30.0\n",
       "percent_alder_mid_mean       5.0\n",
       "percent_alder_lower_mean     1.0\n",
       "Name: 113, dtype: object"
      ]
     },
     "execution_count": 128,
     "metadata": {},
     "output_type": "execute_result"
    }
   ],
   "source": [
    "dset0.columns\n",
    "dset0.loc[113, dset0.columns.str.contains(r'percent_.*_mean')]"
   ]
  },
  {
   "cell_type": "code",
   "execution_count": 13,
   "id": "d1576e70-f69e-499f-903a-34bc511314a1",
   "metadata": {},
   "outputs": [],
   "source": [
    "for s in range(nsites):\n",
    "    data=pd.read_csv(dfiles[s], na_values=[-9999.0])"
   ]
  },
  {
   "cell_type": "code",
   "execution_count": 39,
   "id": "90ceb227-09ae-4597-b4c9-dfe7aa40cd5a",
   "metadata": {},
   "outputs": [
    {
     "data": {
      "text/plain": [
       "Index(['campaign', 'date', 'location_id', 'site', 'transect', 'transect_stop',\n",
       "       'lat', 'long', 'elevation', 'vwc_20',\n",
       "       ...\n",
       "       'percent_alder_mid_mean', 'percent_alder_mid_sd',\n",
       "       'percent_alder_mid_se', 'percent_alder_mid_n',\n",
       "       'percent_alder_lower_mean', 'percent_alder_lower_sd',\n",
       "       'percent_alder_lower_se', 'percent_alder_lower_n',\n",
       "       'shrub_size_coverage', 'shrub_size_biomass'],\n",
       "      dtype='object', length=121)"
      ]
     },
     "execution_count": 39,
     "metadata": {},
     "output_type": "execute_result"
    }
   ],
   "source": [
    "data.columns"
   ]
  },
  {
   "cell_type": "code",
   "execution_count": 47,
   "id": "61e6cb38-1b8f-4a43-b2a4-c67cb66a60b2",
   "metadata": {},
   "outputs": [
    {
     "data": {
      "text/plain": [
       "percent_bare_mean            NaN\n",
       "percent_moss_mean            5.0\n",
       "percent_lichen_mean         15.0\n",
       "percent_dwarf_shrub_mean    50.0\n",
       "percent_graminoid_mean      30.0\n",
       "percent_alder_mean          12.0\n",
       "percent_willow_mean          NaN\n",
       "percent_aspen_mean           NaN\n",
       "percent_paper_birch_mean     NaN\n",
       "percent_alder_max_mean      30.0\n",
       "percent_alder_upper_mean    30.0\n",
       "percent_alder_mid_mean       5.0\n",
       "percent_alder_lower_mean     1.0\n",
       "Name: 113, dtype: object"
      ]
     },
     "execution_count": 47,
     "metadata": {},
     "output_type": "execute_result"
    }
   ],
   "source": [
    "#data.loc[:, data.columns.str.endswith(\"mean\")]#.sum(axis=1)\n",
    "#data.loc[:, data.columns.str.contains(r'percent_.*_mean')].sum(axis=1)\n",
    "data.loc[113, data.columns.str.contains(r'percent_.*_mean')]"
   ]
  },
  {
   "cell_type": "code",
   "execution_count": 27,
   "id": "81b15e94-1975-4b70-9159-968f5945ac37",
   "metadata": {},
   "outputs": [
    {
     "data": {
      "text/plain": [
       "0      128.828427\n",
       "1      110.000000\n",
       "2      109.000000\n",
       "3      117.207107\n",
       "4      117.207107\n",
       "          ...    \n",
       "109    235.426407\n",
       "110    171.071068\n",
       "111    309.406177\n",
       "112    222.863777\n",
       "113    222.863777\n",
       "Length: 114, dtype: float64"
      ]
     },
     "execution_count": 27,
     "metadata": {},
     "output_type": "execute_result"
    }
   ],
   "source": [
    "data.loc[:, data.columns.str.startswith(\"percent\")].sum(axis=1)"
   ]
  },
  {
   "cell_type": "code",
   "execution_count": 123,
   "id": "4f13dc50-7c0c-49d5-a734-9029b24f9377",
   "metadata": {},
   "outputs": [
    {
     "name": "stdout",
     "output_type": "stream",
     "text": [
      "/home/jbk/projects/data/arctic/veg_plot_data/Alder_Shrub_Soil_Alaska_2120/data/ABoVE_alder_data_2019.csv\n"
     ]
    }
   ],
   "source": [
    "n=0\n",
    "print(dfiles[n])\n",
    "data1=pd.read_csv(dfiles[n], quotechar='\"', encoding=\"ISO-8859-1\")"
   ]
  },
  {
   "cell_type": "code",
   "execution_count": 124,
   "id": "6a1e7c68-b12a-464c-9cb0-35b1e9651633",
   "metadata": {},
   "outputs": [
    {
     "data": {
      "text/plain": [
       "array([False, False, False, False, False, False, False, False, False,\n",
       "       False, False, False, False, False, False, False, False, False,\n",
       "       False, False, False, False, False, False, False, False, False,\n",
       "       False, False, False, False, False, False, False, False, False,\n",
       "       False, False, False, False, False, False, False, False, False,\n",
       "       False, False, False, False, False, False, False, False, False,\n",
       "       False, False, False, False, False, False, False, False, False,\n",
       "       False, False, False, False, False, False, False, False, False,\n",
       "       False, False, False, False, False, False, False, False, False,\n",
       "       False, False, False, False, False, False, False, False, False,\n",
       "       False, False, False, False, False, False, False, False, False,\n",
       "       False, False, False, False, False, False, False, False, False,\n",
       "       False, False, False, False, False, False, False, False, False,\n",
       "       False, False, False, False])"
      ]
     },
     "execution_count": 124,
     "metadata": {},
     "output_type": "execute_result"
    }
   ],
   "source": [
    "data1.columns.str.contains(r'cover_.*|latitude|longitude|field_plot_number|plot_size', case=False)\n"
   ]
  },
  {
   "cell_type": "code",
   "execution_count": 122,
   "id": "038f5725-9f12-4fa6-a02d-acee8c569df1",
   "metadata": {},
   "outputs": [
    {
     "data": {
      "text/plain": [
       "Index(['Filename:', 'Nome_Environmental_Data.csv', 'Unnamed: 2', 'Unnamed: 3',\n",
       "       'Unnamed: 4', 'Unnamed: 5', 'Unnamed: 6', 'Unnamed: 7', 'Unnamed: 8',\n",
       "       'Unnamed: 9', 'Unnamed: 10', 'Unnamed: 11', 'Unnamed: 12',\n",
       "       'Unnamed: 13', 'Unnamed: 14', 'Unnamed: 15', 'Unnamed: 16',\n",
       "       'Unnamed: 17', 'Unnamed: 18'],\n",
       "      dtype='object')"
      ]
     },
     "execution_count": 122,
     "metadata": {},
     "output_type": "execute_result"
    }
   ],
   "source": [
    "data1.columns"
   ]
  },
  {
   "cell_type": "code",
   "execution_count": 142,
   "id": "989a0e7a-319d-43eb-80e0-5b0b3d8e3ee1",
   "metadata": {},
   "outputs": [],
   "source": [
    "n=0\n",
    "dset = pd.read_csv(dfiles[n], na_values=[-9999.0], quotechar='\"', encoding=\"ISO-8859-1\")\n",
    "dset = dset.rename(columns={\"lat\":\"latitude\", \"long\":\"longitude\", \"percent_bare_mean\":\"cover_bare_mean\", \"percent_moss_mean\":\"cover_moss_mean\", \"percent_lichen_mean\":\"cover_lichen_mean\", \"percent_dwarf_shrub_mean\":\"cover_dwarf_shrub_mean\", \"percent_graminoid_mean\":\"cover_graminoid_mean\", \"percent_alder_mean\":\"cover_alder_mean\", \"percent_willow_mean\":\"cover_willow_mean\", \"percent_aspen_mean\":\"cover_aspen_mean\", \"percent_paper_birch_mean\":\"cover_paper_birch_mean\"})\n",
    "gdf = gpd.GeoDataFrame(dset, geometry=gpd.points_from_xy(dset.longitude, dset.latitude), crs=\"EPSG:4326\")\n",
    "with open(dfiles[n].replace('csv', 'geojson') , 'w') as file:\n",
    "    file.write(gdf.to_json())"
   ]
  },
  {
   "cell_type": "code",
   "execution_count": 145,
   "id": "a977f21e-7720-4315-99b1-927e9db4aa19",
   "metadata": {},
   "outputs": [],
   "source": [
    "n=1\n",
    "dset = pd.read_csv(dfiles[n], na_values=[-9999.0], quotechar='\"', encoding=\"ISO-8859-1\")\n",
    "gdf = gpd.GeoDataFrame(dset, geometry=gpd.points_from_xy(dset.longitude, dset.latitude), crs=\"EPSG:4326\")\n",
    "with open(dfiles[n].replace('csv', 'geojson') , 'w') as file:\n",
    "    file.write(gdf.to_json())"
   ]
  },
  {
   "cell_type": "code",
   "execution_count": 159,
   "id": "9b0be732-c20c-4b79-87f1-1153b0b6700a",
   "metadata": {},
   "outputs": [
    {
     "name": "stdout",
     "output_type": "stream",
     "text": [
      "/home/jbk/projects/data/arctic/veg_plot_data/ATLAS_Veg_Plots_1541/data/atlas-1_environmental_data.csv\n"
     ]
    }
   ],
   "source": [
    "n=2\n",
    "print(dfiles[n])\n",
    "dset = pd.read_csv(dfiles[n], na_values=[-9999.0], quotechar='\"', encoding=\"ISO-8859-1\", skiprows=[])\n",
    "gdf = gpd.GeoDataFrame(dset, geometry=gpd.points_from_xy(dset.longitude, dset.latitude), crs=\"EPSG:4326\")\n",
    "with open(dfiles[n].replace('csv', 'geojson') , 'w') as file:\n",
    "    file.write(gdf.to_json())"
   ]
  },
  {
   "cell_type": "code",
   "execution_count": 162,
   "id": "741a797c-afd6-4629-b43c-23c43c174998",
   "metadata": {},
   "outputs": [
    {
     "name": "stdout",
     "output_type": "stream",
     "text": [
      "/home/jbk/projects/data/arctic/veg_plot_data/ATLAS_Veg_Plots_1541/data/atlas-2_environmental_data.csv\n"
     ]
    }
   ],
   "source": [
    "n=3\n",
    "print(dfiles[n])\n",
    "dset = pd.read_csv(dfiles[n], na_values=[-9999.0], quotechar='\"', encoding=\"ISO-8859-1\", skiprows=[])\n",
    "gdf = gpd.GeoDataFrame(dset, geometry=gpd.points_from_xy(dset.longitude, dset.latitude), crs=\"EPSG:4326\")\n",
    "with open(dfiles[n].replace('csv', 'geojson') , 'w') as file:\n",
    "    file.write(gdf.to_json())"
   ]
  },
  {
   "cell_type": "code",
   "execution_count": 175,
   "id": "3f404561-36cc-4850-b18d-ed6cd3198f02",
   "metadata": {},
   "outputs": [
    {
     "name": "stdout",
     "output_type": "stream",
     "text": [
      "/home/jbk/projects/data/arctic/veg_plot_data/Atqasuk_Veg_Plots_1371/data/Atqasuk_Environmental_Data.csv\n"
     ]
    }
   ],
   "source": [
    "n=4\n",
    "print(dfiles[n])\n",
    "dset = pd.read_csv(dfiles[n], na_values=[-9999.0], quotechar='\"', encoding=\"ISO-8859-1\", skiprows=[1])\n",
    "dset.columns=dset.columns.str.lower()\n",
    "dset = dset.rename(columns={\"longitude_wgs_84\":\"longitude\", \"latitude_wgs_84\":\"latitude\"})\n",
    "gdf = gpd.GeoDataFrame(dset, geometry=gpd.points_from_xy(dset.longitude, dset.latitude), crs=\"EPSG:4326\")\n",
    "with open(dfiles[n].replace('csv', 'geojson') , 'w') as file:\n",
    "    file.write(gdf.to_json())"
   ]
  },
  {
   "cell_type": "code",
   "execution_count": 178,
   "id": "f474f0c3-67db-49b7-b6de-189b730f803f",
   "metadata": {},
   "outputs": [
    {
     "name": "stdout",
     "output_type": "stream",
     "text": [
      "/home/jbk/projects/data/arctic/veg_plot_data/Barrow_NGEE_Arctic_Veg_Plots_1505/data/Barrow_NGEE_Arctic_Environmental_Data.csv\n"
     ]
    }
   ],
   "source": [
    "n=5\n",
    "print(dfiles[n])\n",
    "dset = pd.read_csv(dfiles[n], na_values=[-9999.0], quotechar='\"', encoding=\"ISO-8859-1\", skiprows=[1])\n",
    "dset.columns=dset.columns.str.lower()\n",
    "gdf = gpd.GeoDataFrame(dset, geometry=gpd.points_from_xy(dset.longitude, dset.latitude), crs=\"EPSG:4326\")\n",
    "with open(dfiles[n].replace('csv', 'geojson') , 'w') as file:\n",
    "    file.write(gdf.to_json())"
   ]
  },
  {
   "cell_type": "code",
   "execution_count": 179,
   "id": "016c16a0-d58d-4041-83c8-5d2663f78275",
   "metadata": {},
   "outputs": [
    {
     "name": "stdout",
     "output_type": "stream",
     "text": [
      "/home/jbk/projects/data/arctic/veg_plot_data/Barrow_Tundra_Veg_Plots_1535/data/Barrow_Tundra_IBP_Environmental_Data_Repeat_Plots_2010.csv\n"
     ]
    }
   ],
   "source": [
    "n=6\n",
    "print(dfiles[n])\n",
    "dset = pd.read_csv(dfiles[n], na_values=[-9999.0], quotechar='\"', encoding=\"ISO-8859-1\", skiprows=[1])\n",
    "dset.columns=dset.columns.str.lower()\n",
    "gdf = gpd.GeoDataFrame(dset, geometry=gpd.points_from_xy(dset.longitude, dset.latitude), crs=\"EPSG:4326\")\n",
    "with open(dfiles[n].replace('csv', 'geojson') , 'w') as file:\n",
    "    file.write(gdf.to_json())"
   ]
  },
  {
   "cell_type": "code",
   "execution_count": 180,
   "id": "324df188-a008-4428-aaae-185b44eb69f5",
   "metadata": {},
   "outputs": [
    {
     "name": "stdout",
     "output_type": "stream",
     "text": [
      "/home/jbk/projects/data/arctic/veg_plot_data/Barter_Barrow_Veg_Plots_1534/data/Barter_Barrow_Environmental_Data.csv\n"
     ]
    }
   ],
   "source": [
    "n=7\n",
    "print(dfiles[n])\n",
    "dset = pd.read_csv(dfiles[n], na_values=[-9999.0], quotechar='\"', encoding=\"ISO-8859-1\", skiprows=[1])\n",
    "dset.columns=dset.columns.str.lower()\n",
    "gdf = gpd.GeoDataFrame(dset, geometry=gpd.points_from_xy(dset.longitude, dset.latitude), crs=\"EPSG:4326\")\n",
    "with open(dfiles[n].replace('csv', 'geojson') , 'w') as file:\n",
    "    file.write(gdf.to_json())"
   ]
  },
  {
   "cell_type": "code",
   "execution_count": 182,
   "id": "d4e4dade-fb09-45df-9ec1-14d2b95f5600",
   "metadata": {},
   "outputs": [
    {
     "name": "stdout",
     "output_type": "stream",
     "text": [
      "/home/jbk/projects/data/arctic/veg_plot_data/Canadian_West_Arctic_Veg_Plots_1543/data/Canadian_West_Arctic_Environmental_Data.csv\n"
     ]
    }
   ],
   "source": [
    "n=8\n",
    "print(dfiles[n])\n",
    "dset = pd.read_csv(dfiles[n], na_values=[-9999.0], quotechar='\"', encoding=\"ISO-8859-1\", skiprows=[])\n",
    "dset.columns=dset.columns.str.lower()\n",
    "gdf = gpd.GeoDataFrame(dset, geometry=gpd.points_from_xy(dset.longitude, dset.latitude), crs=\"EPSG:4326\")\n",
    "with open(dfiles[n].replace('csv', 'geojson') , 'w') as file:\n",
    "    file.write(gdf.to_json())"
   ]
  },
  {
   "cell_type": "code",
   "execution_count": 188,
   "id": "618196e9-45b4-4678-875e-2f87ca82fd1b",
   "metadata": {},
   "outputs": [
    {
     "name": "stdout",
     "output_type": "stream",
     "text": [
      "/home/jbk/projects/data/arctic/veg_plot_data/Flux_Tower_Zona_Veg_Plots_1546/data/flux_tower_zona_enivronmental_data.csv\n"
     ]
    }
   ],
   "source": [
    "n=9\n",
    "print(dfiles[n])\n",
    "dset = pd.read_csv(dfiles[n], na_values=[-9999.0], quotechar='\"', encoding=\"ISO-8859-1\", skiprows=[])\n",
    "dset = dset.rename(columns={\"TREE_COVER_PERCENT\":\"cover_tree\",\"SHRUB_COVER_PERCENT\":\"cover_shrub\",\"TALL_SHRUB_COVER_PERCENT\":\"cover_tall_shrub\",\"LOW_SHRUB_COVER_PERCENT\":\"cover_low_shrub\",\"DWARF_SHRUB_COVER_PERCENT\":\"cover_dwarf_shrub\",\"PROSTRATE_DWARF_SHRUB_COVER_PERCENT\":\"cover_prostrate_dwarf_shrub\",\"GRAMINOID_COVER_PERCENT\":\"cover_graminoids\",\"TUSSOCK_GRAMINOID_COVER_PERCENT\":\"cover_tussock_graminoids\",\"FORB_COVER_PERCENT\":\"cover_forb\",\"SEEDLESS_VASCULAR_PLANT_COVER_PERCENT\":\"cover_seedless_vascular_plant\",\"MOSS_COVER_PERCENT\":\"cover_moss\",\"LICHEN_COVER_PERCENT\":\"cover_lichen\",\"CRUSTOSE_LICHEN_COVER_PERCENT\":\"cover_crustose_lichen\",\"ALGAE_COVER_PERCENT\":\"cover_algae\",\"SOIL_COVER_PERCENT\":\"cover_soil\",\"ROCK_COVER_PERCENT\":\"cover_rock\",\"WATER_COVER_PERCENT\":\"cover_water\",\"LITTER_COVER_PERCENT\":\"cover_litter\",\"TOTAL_VEGETATION_COVER_PERCENT\":\"cover_total_vegetation\"})\n",
    "dset.columns=dset.columns.str.lower()\n",
    "gdf = gpd.GeoDataFrame(dset, geometry=gpd.points_from_xy(dset.longitude, dset.latitude), crs=\"EPSG:4326\")\n",
    "with open(dfiles[n].replace('csv', 'geojson') , 'w') as file:\n",
    "    file.write(gdf.to_json())"
   ]
  },
  {
   "cell_type": "code",
   "execution_count": 197,
   "id": "9789ee98-3ed5-466b-ae8d-70a8ba3c7a88",
   "metadata": {},
   "outputs": [
    {
     "name": "stdout",
     "output_type": "stream",
     "text": [
      "/home/jbk/projects/data/arctic/veg_plot_data/Frost_Boils_Veg_Plots_1361/data/Frost_Boils_Environmental_Data.csv\n"
     ]
    }
   ],
   "source": [
    "n=10\n",
    "print(dfiles[n])\n",
    "dset = pd.read_csv(dfiles[n], na_values=[-9999.0], quotechar='\"', encoding=\"ISO-8859-1\", skiprows=[0,1,2,3,4,5,7])\n",
    "dset.columns=dset.columns.str.lower()\n",
    "\n",
    "dset = dset.rename(columns={\"longitude\":\"longitude1\", \"latitude\":\"latitude1\", \"longitude_wgs_84\":\"longitude\", \"latitude_wgs_84\":\"latitude\"})\n",
    "\n",
    "gdf = gpd.GeoDataFrame(dset, geometry=gpd.points_from_xy(dset.longitude, dset.latitude), crs=\"EPSG:4326\")\n",
    "with open(dfiles[n].replace('csv', 'geojson') , 'w') as file:\n",
    "    file.write(gdf.to_json())"
   ]
  },
  {
   "cell_type": "code",
   "execution_count": 202,
   "id": "967c7c11-0777-4ba2-96d9-b14382e1f97d",
   "metadata": {},
   "outputs": [
    {
     "name": "stdout",
     "output_type": "stream",
     "text": [
      "/home/jbk/projects/data/arctic/veg_plot_data/Happy_Valley_Veg_Plots_1354/data/Happy_Valley_Environmental_Data.csv\n"
     ]
    }
   ],
   "source": [
    "n=11\n",
    "print(dfiles[n])\n",
    "dset = pd.read_csv(dfiles[n], na_values=[-9999.0], quotechar='\"', encoding=\"ISO-8859-1\", skiprows=[])\n",
    "dset.columns=dset.columns.str.lower()\n",
    "\n",
    "#dset = dset.rename(columns={\"longitude\":\"longitude1\", \"latitude\":\"latitude1\", \"longitude_wgs_84\":\"longitude\", \"latitude_wgs_84\":\"latitude\"})\n",
    "\n",
    "gdf = gpd.GeoDataFrame(dset, geometry=gpd.points_from_xy(dset.longitude, dset.latitude), crs=\"EPSG:4326\")\n",
    "with open(dfiles[n].replace('csv', 'geojson') , 'w') as file:\n",
    "    file.write(gdf.to_json())"
   ]
  },
  {
   "cell_type": "code",
   "execution_count": 205,
   "id": "b07efd78-6962-4901-bb94-5d795b6935cb",
   "metadata": {},
   "outputs": [
    {
     "name": "stdout",
     "output_type": "stream",
     "text": [
      "/home/jbk/projects/data/arctic/veg_plot_data/Imnavait_Creek_Veg_Plots_1356/data/Imnavait_Creek_Environmental_Data.csv\n"
     ]
    }
   ],
   "source": [
    "n=12\n",
    "print(dfiles[n])\n",
    "dset = pd.read_csv(dfiles[n], na_values=[-9999.0], quotechar='\"', encoding=\"ISO-8859-1\", skiprows=[])\n",
    "dset.columns=dset.columns.str.lower()\n",
    "\n",
    "#dset = dset.rename(columns={\"longitude\":\"longitude1\", \"latitude\":\"latitude1\", \"longitude_wgs_84\":\"longitude\", \"latitude_wgs_84\":\"latitude\"})\n",
    "\n",
    "gdf = gpd.GeoDataFrame(dset, geometry=gpd.points_from_xy(dset.longitude, dset.latitude), crs=\"EPSG:4326\")\n",
    "with open(dfiles[n].replace('csv', 'geojson') , 'w') as file:\n",
    "    file.write(gdf.to_json())"
   ]
  },
  {
   "cell_type": "code",
   "execution_count": 213,
   "id": "4bbd7f8f-d752-4a09-a7a6-00676cbfd2b4",
   "metadata": {},
   "outputs": [
    {
     "name": "stdout",
     "output_type": "stream",
     "text": [
      "/home/jbk/projects/data/arctic/veg_plot_data/North_Slope_Veg_Plots_1536/data/North_Slope_Veg_Plots_Environmental_Data.csv\n"
     ]
    }
   ],
   "source": [
    "n=13\n",
    "print(dfiles[n])\n",
    "dset = pd.read_csv(dfiles[n], na_values=[-9999.0], quotechar='\"', encoding=\"ISO-8859-1\", skiprows=[0,1,2,3,4,5,6,8])\n",
    "dset.columns=dset.columns.str.lower()\n",
    "dset = dset.rename(columns={\"DECIDUOUS_SHRUB_COVER\":\"cover_deciduous_shrub\", \"EVERGREEN_SHRUB_COVER\":\"cover_evergreen_shrub\", \"FORB_COVER\":\"cover_forb\", \"GRAMINOID_COVER\":\"cover_graminoid\", \"MOSS_COVER\":\"cover_moss\", \"LICHEN_COVER\":\"cover_lichen\", \"ROCK_COVER\":\"cover_rock\", \"BARE_SOIL_COVER\":\"cover_bare_soil\", \"WATER_COVER\":\"cover_water\"})\n",
    "\n",
    "gdf = gpd.GeoDataFrame(dset, geometry=gpd.points_from_xy(dset.longitude, dset.latitude), crs=\"EPSG:4326\")\n",
    "with open(dfiles[n].replace('csv', 'geojson') , 'w') as file:\n",
    "    file.write(gdf.to_json())"
   ]
  },
  {
   "cell_type": "code",
   "execution_count": 217,
   "id": "2f35b4e2-a339-4caa-bd08-8009cbf3cdcb",
   "metadata": {},
   "outputs": [
    {
     "name": "stdout",
     "output_type": "stream",
     "text": [
      "/home/jbk/projects/data/arctic/veg_plot_data/Oumalik_Veg_plots_1506/data/oumalik_environmental_data.csv\n"
     ]
    }
   ],
   "source": [
    "n=14\n",
    "print(dfiles[n])\n",
    "dset = pd.read_csv(dfiles[n], na_values=[-9999.0], quotechar='\"', encoding=\"ISO-8859-1\", skiprows=[])\n",
    "dset.columns=dset.columns.str.lower()\n",
    "\n",
    "gdf = gpd.GeoDataFrame(dset, geometry=gpd.points_from_xy(dset.longitude, dset.latitude), crs=\"EPSG:4326\")\n",
    "with open(dfiles[n].replace('csv', 'geojson') , 'w') as file:\n",
    "    file.write(gdf.to_json())"
   ]
  },
  {
   "cell_type": "code",
   "execution_count": 221,
   "id": "687daff6-97ab-46b6-ab75-4217864b1402",
   "metadata": {},
   "outputs": [
    {
     "name": "stdout",
     "output_type": "stream",
     "text": [
      "/home/jbk/projects/data/arctic/veg_plot_data/Pingo_Veg_Plots_1507/data/pingos_environmental_data.csv\n"
     ]
    }
   ],
   "source": [
    "n=15\n",
    "print(dfiles[n])\n",
    "dset = pd.read_csv(dfiles[n], na_values=[-9999.0], quotechar='\"', encoding=\"ISO-8859-1\", skiprows=[])\n",
    "dset.columns=dset.columns.str.lower()\n",
    "#dset = dset.rename(columns={\"DECIDUOUS_SHRUB_COVER\":\"cover_deciduous_shrub\", \"EVERGREEN_SHRUB_COVER\":\"cover_evergreen_shrub\", \"FORB_COVER\":\"cover_forb\", \"GRAMINOID_COVER\":\"cover_graminoid\", \"MOSS_COVER\":\"cover_moss\", \"LICHEN_COVER\":\"cover_lichen\", \"ROCK_COVER\":\"cover_rock\", \"BARE_SOIL_COVER\":\"cover_bare_soil\", \"WATER_COVER\":\"cover_water\"})\n",
    "\n",
    "gdf = gpd.GeoDataFrame(dset, geometry=gpd.points_from_xy(dset.longitude, dset.latitude), crs=\"EPSG:4326\")\n",
    "with open(dfiles[n].replace('csv', 'geojson') , 'w') as file:\n",
    "    file.write(gdf.to_json())"
   ]
  },
  {
   "cell_type": "code",
   "execution_count": 224,
   "id": "275b6893-5d95-4359-9aca-96246c997751",
   "metadata": {},
   "outputs": [
    {
     "name": "stdout",
     "output_type": "stream",
     "text": [
      "/home/jbk/projects/data/arctic/veg_plot_data/Poplar_Veg_Plots_1376/data/Poplar_Veg_Plots_Environmental.csv\n"
     ]
    }
   ],
   "source": [
    "n=16\n",
    "print(dfiles[n])\n",
    "dset = pd.read_csv(dfiles[n], na_values=[-9999.0], quotechar='\"', encoding=\"ISO-8859-1\", skiprows=[])\n",
    "#dset = dset.rename(columns={\"DECIDUOUS_SHRUB_COVER\":\"cover_deciduous_shrub\", \"EVERGREEN_SHRUB_COVER\":\"cover_evergreen_shrub\", \"FORB_COVER\":\"cover_forb\", \"GRAMINOID_COVER\":\"cover_graminoid\", \"MOSS_COVER\":\"cover_moss\", \"LICHEN_COVER\":\"cover_lichen\", \"ROCK_COVER\":\"cover_rock\", \"BARE_SOIL_COVER\":\"cover_bare_soil\", \"WATER_COVER\":\"cover_water\"})\n",
    "dset = dset.rename(columns={\"LATITUDE GOOGLE EARTH WGS 84 (DD)\":\"latitude\",\"LONGITUDE GOOGLE EARTH WGS 84 (DD)\":\"longitude\"})\n",
    "dset.columns=dset.columns.str.lower()\n",
    "\n",
    "gdf = gpd.GeoDataFrame(dset, geometry=gpd.points_from_xy(dset.longitude, dset.latitude), crs=\"EPSG:4326\")\n",
    "with open(dfiles[n].replace('csv', 'geojson') , 'w') as file:\n",
    "    file.write(gdf.to_json())"
   ]
  },
  {
   "cell_type": "code",
   "execution_count": 226,
   "id": "77695df2-d6af-4fe5-b5d0-81160d1da679",
   "metadata": {},
   "outputs": [
    {
     "name": "stdout",
     "output_type": "stream",
     "text": [
      "/home/jbk/projects/data/arctic/veg_plot_data/Prudhoe_Bay_ArcSEES_Veg_Plots_1555/data/spine_rd_prudhoe_bay_veg_plots_environmental.csv\n"
     ]
    }
   ],
   "source": [
    "n=17\n",
    "print(dfiles[n])\n",
    "dset = pd.read_csv(dfiles[n], na_values=[-9999.0], quotechar='\"', encoding=\"ISO-8859-1\", skiprows=[])\n",
    "dset.columns=dset.columns.str.lower()\n",
    "#dset = dset.rename(columns={\"DECIDUOUS_SHRUB_COVER\":\"cover_deciduous_shrub\", \"EVERGREEN_SHRUB_COVER\":\"cover_evergreen_shrub\", \"FORB_COVER\":\"cover_forb\", \"GRAMINOID_COVER\":\"cover_graminoid\", \"MOSS_COVER\":\"cover_moss\", \"LICHEN_COVER\":\"cover_lichen\", \"ROCK_COVER\":\"cover_rock\", \"BARE_SOIL_COVER\":\"cover_bare_soil\", \"WATER_COVER\":\"cover_water\"})\n",
    "\n",
    "gdf = gpd.GeoDataFrame(dset, geometry=gpd.points_from_xy(dset.longitude, dset.latitude), crs=\"EPSG:4326\")\n",
    "with open(dfiles[n].replace('csv', 'geojson') , 'w') as file:\n",
    "    file.write(gdf.to_json())"
   ]
  },
  {
   "cell_type": "code",
   "execution_count": 244,
   "id": "09b9d40b-df99-44ad-8f08-331eadb171a3",
   "metadata": {},
   "outputs": [
    {
     "name": "stdout",
     "output_type": "stream",
     "text": [
      "/home/jbk/projects/data/arctic/veg_plot_data/Prudhoe_Bay_Veg_Plots_1360/data/Prudhoe_Bay_Environmental_Data.csv\n"
     ]
    }
   ],
   "source": [
    "n=18\n",
    "print(dfiles[n])\n",
    "dset = pd.read_csv(dfiles[n], na_values=[-9999.0], quotechar='\"', encoding=\"ISO-8859-1\", skiprows=[0,1,2,3,4,5,7])\n",
    "dset.columns=dset.columns.str.lower()\n",
    "#dset = dset.rename(columns={\"DECIDUOUS_SHRUB_COVER\":\"cover_deciduous_shrub\", \"EVERGREEN_SHRUB_COVER\":\"cover_evergreen_shrub\", \"FORB_COVER\":\"cover_forb\", \"GRAMINOID_COVER\":\"cover_graminoid\", \"MOSS_COVER\":\"cover_moss\", \"LICHEN_COVER\":\"cover_lichen\", \"ROCK_COVER\":\"cover_rock\", \"BARE_SOIL_COVER\":\"cover_bare_soil\", \"WATER_COVER\":\"cover_water\"})\n",
    "\n",
    "gdf = gpd.GeoDataFrame(dset, geometry=gpd.points_from_xy(dset.longitude, dset.latitude), crs=\"EPSG:4326\")\n",
    "with open(dfiles[n].replace('csv', 'geojson') , 'w') as file:\n",
    "    file.write(gdf.to_json())"
   ]
  },
  {
   "cell_type": "code",
   "execution_count": 247,
   "id": "f218939c-7996-47ae-a3df-6b82b141cbaf",
   "metadata": {},
   "outputs": [
    {
     "name": "stdout",
     "output_type": "stream",
     "text": [
      "/home/jbk/projects/data/arctic/veg_plot_data/Toolik_Lake_Veg_Plots_1333/data/Toolik_Lake_Environmental_Data.csv\n"
     ]
    }
   ],
   "source": [
    "n=19\n",
    "print(dfiles[n])\n",
    "dset = pd.read_csv(dfiles[n], na_values=[-9999.0], quotechar='\"', encoding=\"ISO-8859-1\", skiprows=[])\n",
    "dset.columns=dset.columns.str.lower()\n",
    "#dset = dset.rename(columns={\"DECIDUOUS_SHRUB_COVER\":\"cover_deciduous_shrub\", \"EVERGREEN_SHRUB_COVER\":\"cover_evergreen_shrub\", \"FORB_COVER\":\"cover_forb\", \"GRAMINOID_COVER\":\"cover_graminoid\", \"MOSS_COVER\":\"cover_moss\", \"LICHEN_COVER\":\"cover_lichen\", \"ROCK_COVER\":\"cover_rock\", \"BARE_SOIL_COVER\":\"cover_bare_soil\", \"WATER_COVER\":\"cover_water\"})\n",
    "\n",
    "gdf = gpd.GeoDataFrame(dset, geometry=gpd.points_from_xy(dset.longitude, dset.latitude), crs=\"EPSG:4326\")\n",
    "with open(dfiles[n].replace('csv', 'geojson') , 'w') as file:\n",
    "    file.write(gdf.to_json())"
   ]
  },
  {
   "cell_type": "code",
   "execution_count": 249,
   "id": "a3939e32-d41f-4bd0-bc37-fb2e9f718f7a",
   "metadata": {},
   "outputs": [
    {
     "name": "stdout",
     "output_type": "stream",
     "text": [
      "/home/jbk/projects/data/arctic/veg_plot_data/Tundra_Fire_Veg_Plots_1547/data/tundra_fire_veg_plots_environmental_data.csv\n"
     ]
    }
   ],
   "source": [
    "n=20\n",
    "print(dfiles[n])\n",
    "dset = pd.read_csv(dfiles[n], na_values=[-9999.0], quotechar='\"', encoding=\"ISO-8859-1\", skiprows=[])\n",
    "dset.columns=dset.columns.str.lower()\n",
    "#dset = dset.rename(columns={\"DECIDUOUS_SHRUB_COVER\":\"cover_deciduous_shrub\", \"EVERGREEN_SHRUB_COVER\":\"cover_evergreen_shrub\", \"FORB_COVER\":\"cover_forb\", \"GRAMINOID_COVER\":\"cover_graminoid\", \"MOSS_COVER\":\"cover_moss\", \"LICHEN_COVER\":\"cover_lichen\", \"ROCK_COVER\":\"cover_rock\", \"BARE_SOIL_COVER\":\"cover_bare_soil\", \"WATER_COVER\":\"cover_water\"})\n",
    "\n",
    "gdf = gpd.GeoDataFrame(dset, geometry=gpd.points_from_xy(dset.longitude, dset.latitude), crs=\"EPSG:4326\")\n",
    "with open(dfiles[n].replace('csv', 'geojson') , 'w') as file:\n",
    "    file.write(gdf.to_json())"
   ]
  },
  {
   "cell_type": "code",
   "execution_count": 258,
   "id": "5e24385b-ff3a-4fcb-a098-c891dc9ec30b",
   "metadata": {},
   "outputs": [
    {
     "name": "stdout",
     "output_type": "stream",
     "text": [
      "/home/jbk/projects/data/arctic/veg_plot_data/Unalaska_Veg_Plots_1375/data/Unalaska_Environmental_Data.csv\n"
     ]
    }
   ],
   "source": [
    "n=21\n",
    "print(dfiles[n])\n",
    "dset = pd.read_csv(dfiles[n], na_values=[-9999.0], quotechar='\"', encoding=\"ISO-8859-1\", skiprows=[0,1,2,3,5])\n",
    "dset = dset.rename(columns={\"LONGITUDE (DMS, WGS 84)\":\"longitude\"})\n",
    "dset.columns=dset.columns.str.lower()\n",
    "\n",
    "gdf = gpd.GeoDataFrame(dset, geometry=gpd.points_from_xy(dset.longitude, dset.latitude), crs=\"EPSG:4326\")\n",
    "with open(dfiles[n].replace('csv', 'geojson') , 'w') as file:\n",
    "    file.write(gdf.to_json())"
   ]
  },
  {
   "cell_type": "code",
   "execution_count": 262,
   "id": "d7a99667-ca32-4ba9-a7ce-ca9a6f27d317",
   "metadata": {},
   "outputs": [
    {
     "name": "stdout",
     "output_type": "stream",
     "text": [
      "/home/jbk/projects/data/arctic/veg_plot_data/Willow_Veg_Plots_1368/data/Willow_Environmental_Data.csv\n"
     ]
    }
   ],
   "source": [
    "n=22\n",
    "print(dfiles[n])\n",
    "dset = pd.read_csv(dfiles[n], na_values=[-9999.0], quotechar='\"', encoding=\"ISO-8859-1\", skiprows=[0,1,2,3,4,6])\n",
    "dset = dset.rename(columns={\"ESTIMATED_LONGITUDE\":\"longitude\", \"ESTIMATED_LATITUDE\":\"latitude\"})\n",
    "dset.columns=dset.columns.str.lower()\n",
    "\n",
    "gdf = gpd.GeoDataFrame(dset, geometry=gpd.points_from_xy(dset.longitude, dset.latitude), crs=\"EPSG:4326\")\n",
    "with open(dfiles[n].replace('csv', 'geojson') , 'w') as file:\n",
    "    file.write(gdf.to_json())"
   ]
  },
  {
   "cell_type": "code",
   "execution_count": 2,
   "id": "b3946972-d20d-4983-86d2-b399455a983c",
   "metadata": {},
   "outputs": [
    {
     "ename": "NameError",
     "evalue": "name 'dset' is not defined",
     "output_type": "error",
     "traceback": [
      "\u001b[0;31m---------------------------------------------------------------------------\u001b[0m",
      "\u001b[0;31mNameError\u001b[0m                                 Traceback (most recent call last)",
      "Cell \u001b[0;32mIn [2], line 1\u001b[0m\n\u001b[0;32m----> 1\u001b[0m dset\u001b[38;5;241m.\u001b[39mshape\n",
      "\u001b[0;31mNameError\u001b[0m: name 'dset' is not defined"
     ]
    }
   ],
   "source": [
    "dset.shape"
   ]
  },
  {
   "cell_type": "code",
   "execution_count": 6,
   "id": "4ff53cca-eb44-4454-9a61-a4c7d23b4829",
   "metadata": {},
   "outputs": [],
   "source": [
    "gfiles = [f.replace('csv', 'geojson') for f in dfiles ]"
   ]
  },
  {
   "cell_type": "code",
   "execution_count": 7,
   "id": "cd0e23bd-56f0-45f4-b2e5-0100b913d737",
   "metadata": {},
   "outputs": [
    {
     "data": {
      "text/plain": [
       "['/home/jbk/projects/data/arctic/veg_plot_data/Alder_Shrub_Soil_Alaska_2120/data/ABoVE_alder_data_2019.geojson',\n",
       " '/home/jbk/projects/data/arctic/veg_plot_data/Arctic_Network_Veg_plots_1542/data/arctic_network_environmental_data.geojson',\n",
       " '/home/jbk/projects/data/arctic/veg_plot_data/ATLAS_Veg_Plots_1541/data/atlas-1_environmental_data.geojson',\n",
       " '/home/jbk/projects/data/arctic/veg_plot_data/ATLAS_Veg_Plots_1541/data/atlas-2_environmental_data.geojson',\n",
       " '/home/jbk/projects/data/arctic/veg_plot_data/Atqasuk_Veg_Plots_1371/data/Atqasuk_Environmental_Data.geojson',\n",
       " '/home/jbk/projects/data/arctic/veg_plot_data/Barrow_NGEE_Arctic_Veg_Plots_1505/data/Barrow_NGEE_Arctic_Environmental_Data.geojson',\n",
       " '/home/jbk/projects/data/arctic/veg_plot_data/Barrow_Tundra_Veg_Plots_1535/data/Barrow_Tundra_IBP_Environmental_Data_Repeat_Plots_2010.geojson',\n",
       " '/home/jbk/projects/data/arctic/veg_plot_data/Barter_Barrow_Veg_Plots_1534/data/Barter_Barrow_Environmental_Data.geojson',\n",
       " '/home/jbk/projects/data/arctic/veg_plot_data/Canadian_West_Arctic_Veg_Plots_1543/data/Canadian_West_Arctic_Environmental_Data.geojson',\n",
       " '/home/jbk/projects/data/arctic/veg_plot_data/Flux_Tower_Zona_Veg_Plots_1546/data/flux_tower_zona_enivronmental_data.geojson',\n",
       " '/home/jbk/projects/data/arctic/veg_plot_data/Frost_Boils_Veg_Plots_1361/data/Frost_Boils_Environmental_Data.geojson',\n",
       " '/home/jbk/projects/data/arctic/veg_plot_data/Happy_Valley_Veg_Plots_1354/data/Happy_Valley_Environmental_Data.geojson',\n",
       " '/home/jbk/projects/data/arctic/veg_plot_data/Imnavait_Creek_Veg_Plots_1356/data/Imnavait_Creek_Environmental_Data.geojson',\n",
       " '/home/jbk/projects/data/arctic/veg_plot_data/North_Slope_Veg_Plots_1536/data/North_Slope_Veg_Plots_Environmental_Data.geojson',\n",
       " '/home/jbk/projects/data/arctic/veg_plot_data/Oumalik_Veg_plots_1506/data/oumalik_environmental_data.geojson',\n",
       " '/home/jbk/projects/data/arctic/veg_plot_data/Pingo_Veg_Plots_1507/data/pingos_environmental_data.geojson',\n",
       " '/home/jbk/projects/data/arctic/veg_plot_data/Poplar_Veg_Plots_1376/data/Poplar_Veg_Plots_Environmental.geojson',\n",
       " '/home/jbk/projects/data/arctic/veg_plot_data/Prudhoe_Bay_ArcSEES_Veg_Plots_1555/data/spine_rd_prudhoe_bay_veg_plots_environmental.geojson',\n",
       " '/home/jbk/projects/data/arctic/veg_plot_data/Prudhoe_Bay_Veg_Plots_1360/data/Prudhoe_Bay_Environmental_Data.geojson',\n",
       " '/home/jbk/projects/data/arctic/veg_plot_data/Toolik_Lake_Veg_Plots_1333/data/Toolik_Lake_Environmental_Data.geojson',\n",
       " '/home/jbk/projects/data/arctic/veg_plot_data/Tundra_Fire_Veg_Plots_1547/data/tundra_fire_veg_plots_environmental_data.geojson',\n",
       " '/home/jbk/projects/data/arctic/veg_plot_data/Unalaska_Veg_Plots_1375/data/Unalaska_Environmental_Data.geojson',\n",
       " '/home/jbk/projects/data/arctic/veg_plot_data/Willow_Veg_Plots_1368/data/Willow_Environmental_Data.geojson']"
      ]
     },
     "execution_count": 7,
     "metadata": {},
     "output_type": "execute_result"
    }
   ],
   "source": [
    "gfiles"
   ]
  },
  {
   "cell_type": "code",
   "execution_count": 13,
   "id": "070144e6-10ff-4551-b7cb-98bd5e39f8e7",
   "metadata": {},
   "outputs": [
    {
     "name": "stdout",
     "output_type": "stream",
     "text": [
      "/home/jbk/projects/data/arctic/veg_plot_data/Alder_Shrub_Soil_Alaska_2120/data/ABoVE_alder_data_2019.geojson\n"
     ]
    }
   ],
   "source": [
    "print(gfiles[0])\n",
    "gf = gpd.read_file(gfiles[0])"
   ]
  },
  {
   "cell_type": "code",
   "execution_count": 16,
   "id": "6e19f8d9-1bd7-460e-815f-533b7802a077",
   "metadata": {},
   "outputs": [
    {
     "data": {
      "text/plain": [
       "114"
      ]
     },
     "execution_count": 16,
     "metadata": {},
     "output_type": "execute_result"
    }
   ],
   "source": [
    "gf.shape[0]"
   ]
  },
  {
   "cell_type": "code",
   "execution_count": 18,
   "id": "3696541b-ab72-4c4d-99fe-c76d8423f03e",
   "metadata": {},
   "outputs": [
    {
     "name": "stdout",
     "output_type": "stream",
     "text": [
      "114\n",
      "936\n",
      "15\n",
      "54\n",
      "62\n",
      "48\n",
      "33\n",
      "61\n",
      "154\n",
      "140\n",
      "117\n",
      "56\n",
      "84\n",
      "29\n",
      "87\n",
      "293\n",
      "32\n",
      "29\n",
      "89\n",
      "81\n",
      "64\n",
      "70\n",
      "85\n",
      "2733\n"
     ]
    }
   ],
   "source": [
    "counter=0\n",
    "for f in gfiles:\n",
    "    gf = gpd.read_file(f)\n",
    "    counter=counter+gf.shape[0]\n",
    "    print(gf.shape[0])\n",
    "print(counter)"
   ]
  },
  {
   "cell_type": "code",
   "execution_count": null,
   "id": "86814b59-fe10-4931-a936-5cc5fa61e0f3",
   "metadata": {},
   "outputs": [],
   "source": []
  }
 ],
 "metadata": {
  "kernelspec": {
   "display_name": "ilamb-dev",
   "language": "python",
   "name": "ilamb-dev"
  },
  "language_info": {
   "codemirror_mode": {
    "name": "ipython",
    "version": 3
   },
   "file_extension": ".py",
   "mimetype": "text/x-python",
   "name": "python",
   "nbconvert_exporter": "python",
   "pygments_lexer": "ipython3",
   "version": "3.10.6"
  }
 },
 "nbformat": 4,
 "nbformat_minor": 5
}
