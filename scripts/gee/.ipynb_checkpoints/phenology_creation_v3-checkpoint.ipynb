{
 "cells": [
  {
   "cell_type": "code",
   "execution_count": 1,
   "id": "4ec06034-444b-486a-a6d3-c2f0cae124f6",
   "metadata": {},
   "outputs": [],
   "source": [
    "import ee\n",
    "import geemap\n",
    "import geopandas as gpd\n",
    "import pandas as pd\n",
    "from shapely import wkt\n",
    "from datetime import date, timedelta\n",
    "import os\n",
    "import numpy as np\n",
    "\n",
    "ee.Initialize()"
   ]
  },
  {
   "cell_type": "markdown",
   "id": "2a21d69e-b65b-4808-ac06-acb20f39fe22",
   "metadata": {},
   "source": [
    "# Load Observations"
   ]
  },
  {
   "cell_type": "code",
   "execution_count": 2,
   "id": "1062917c-9155-4354-8357-d6ee13be183f",
   "metadata": {},
   "outputs": [
    {
     "name": "stderr",
     "output_type": "stream",
     "text": [
      "/home/6ru/anaconda3/envs/gee/lib/python3.11/site-packages/openpyxl/worksheet/_read_only.py:81: UserWarning: Unknown extension is not supported and will be removed\n",
      "  for idx, row in parser.parse():\n"
     ]
    }
   ],
   "source": [
    "# load observation points for later\n",
    "d = '/mnt/poseidon/remotesensing/arctic/data/vectors/AK-AVA_Turboveg/ak_tvexport_releves_header_data_for_vegbank_20181106_ALB.xlsx'\n",
    "obs_data = pd.read_excel(d, skiprows=[1])\n",
    "obs_data = obs_data.replace(-9, np.nan)"
   ]
  },
  {
   "cell_type": "code",
   "execution_count": 3,
   "id": "ff9f2939-d730-4e43-9d9d-50093a400124",
   "metadata": {},
   "outputs": [],
   "source": [
    "obs_geom = obs_data[['Latitude (decimal degrees)', 'Longitude (decimal degrees)', 'Releve number']]\n",
    "obs_geom.set_index('Releve number', inplace=True)\n",
    "obs_points = geemap.df_to_ee(obs_geom, latitude='Latitude (decimal degrees)', longitude='Longitude (decimal degrees)')"
   ]
  },
  {
   "cell_type": "markdown",
   "id": "c1231784-77dd-4fbc-b27b-de7084d54933",
   "metadata": {},
   "source": [
    "# Sentinel 2 Cloud Masking"
   ]
  },
  {
   "cell_type": "code",
   "execution_count": 59,
   "id": "3057598c-2381-49ea-b834-aef3c87eddc2",
   "metadata": {},
   "outputs": [],
   "source": [
    "# Sentinel 2 cloud masking functions\n",
    "\n",
    "def get_s2_sr_cld_col(aoi, start_date, end_date):\n",
    "    # Import and filter S2 SR.\n",
    "    s2_sr_col = (ee.ImageCollection('COPERNICUS/S2_SR_HARMONIZED')\n",
    "        .filterBounds(aoi)\n",
    "        .filterDate(start_date, end_date)\n",
    "        .filter(ee.Filter.lte('CLOUDY_PIXEL_PERCENTAGE', CLOUD_FILTER)))\n",
    "\n",
    "    # Import and filter s2cloudless.\n",
    "    s2_cloudless_col = (ee.ImageCollection('COPERNICUS/S2_CLOUD_PROBABILITY')\n",
    "        .filterBounds(aoi)\n",
    "        .filterDate(start_date, end_date))\n",
    "\n",
    "    # Join the filtered s2cloudless collection to the SR collection by the 'system:index' property.\n",
    "    return ee.ImageCollection(ee.Join.saveFirst('s2cloudless').apply(\n",
    "        primary = s2_sr_col,\n",
    "        secondary = s2_cloudless_col,\n",
    "        condition = ee.Filter.equals(\n",
    "            leftField = 'system:index',\n",
    "            rightField = 'system:index')\n",
    "    ))\n",
    "\n",
    "def add_cloud_bands(img):\n",
    "    # Get s2cloudless image, subset the probability band.\n",
    "    cld_prb = ee.Image(img.get('s2cloudless')).select('probability')\n",
    "\n",
    "    # Condition s2cloudless by the probability threshold value.\n",
    "    is_cloud = cld_prb.gt(CLD_PRB_THRESH).rename('clouds')\n",
    "\n",
    "    # Add the cloud probability layer and cloud mask as image bands.\n",
    "    return img.addBands(ee.Image([cld_prb, is_cloud]))\n",
    "\n",
    "\n",
    "def add_shadow_bands(img):\n",
    "    # Identify water pixels from the SCL band.\n",
    "    not_water = img.select('SCL').neq(6)\n",
    "\n",
    "    # Identify dark NIR pixels that are not water (potential cloud shadow pixels).\n",
    "    SR_BAND_SCALE = 1e4\n",
    "    dark_pixels = img.select('B8').lt(NIR_DRK_THRESH*SR_BAND_SCALE).multiply(not_water).rename('dark_pixels')\n",
    "\n",
    "    # Determine the direction to project cloud shadow from clouds (assumes UTM projection).\n",
    "    shadow_azimuth = ee.Number(90).subtract(ee.Number(img.get('MEAN_SOLAR_AZIMUTH_ANGLE')));\n",
    "\n",
    "    # Project shadows from clouds for the distance specified by the CLD_PRJ_DIST input.\n",
    "    cld_proj = (img.select('clouds').directionalDistanceTransform(shadow_azimuth, CLD_PRJ_DIST*10)\n",
    "        .reproject(**{'crs': img.select(0).projection(), 'scale': 100})\n",
    "        .select('distance')\n",
    "        .mask()\n",
    "        .rename('cloud_transform'))\n",
    "\n",
    "    # Identify the intersection of dark pixels with cloud shadow projection.\n",
    "    shadows = cld_proj.multiply(dark_pixels).rename('shadows')\n",
    "\n",
    "    # Add dark pixels, cloud projection, and identified shadows as image bands.\n",
    "    return img.addBands(ee.Image([dark_pixels, cld_proj, shadows]))\n",
    "\n",
    "\n",
    "def add_cld_shdw_mask(img):\n",
    "    # Add cloud component bands.\n",
    "    img_cloud = add_cloud_bands(img)\n",
    "\n",
    "    # Add cloud shadow component bands.\n",
    "    img_cloud_shadow = add_shadow_bands(img_cloud)\n",
    "\n",
    "    # Combine cloud and shadow mask, set cloud and shadow as value 1, else 0.\n",
    "    is_cld_shdw = img_cloud_shadow.select('clouds').add(img_cloud_shadow.select('shadows')).gt(0)\n",
    "\n",
    "    # Remove small cloud-shadow patches and dilate remaining pixels by BUFFER input.\n",
    "    # 20 m scale is for speed, and assumes clouds don't require 10 m precision.\n",
    "    is_cld_shdw = (is_cld_shdw.focalMin(2).focalMax(BUFFER*2/20)\n",
    "        .reproject(**{'crs': img.select([0]).projection(), 'scale': 20})\n",
    "        .rename('cloudmask'))\n",
    "\n",
    "    # Add the final cloud-shadow mask to the image.\n",
    "    return img_cloud_shadow.addBands(is_cld_shdw)\n",
    "\n",
    "\n",
    "def apply_cld_shdw_mask(img):\n",
    "    # Subset the cloudmask band and invert it so clouds/shadow are 0, else 1.\n",
    "    not_cld_shdw = img.select('cloudmask').Not()\n",
    "\n",
    "    # Subset reflectance bands and update their masks, return the result.\n",
    "    #return img.select('B*').updateMask(not_cld_shdw)\n",
    "    return img.updateMask(not_cld_shdw).select(BANDS)\n",
    "\n",
    "def addNDVI(img):\n",
    "    return (img.addBands(img\n",
    "                         .normalizedDifference(['B8', 'B4'])\n",
    "                         .rename('ndvi'))).select('ndvi')\n",
    "\n",
    "def addDate(img):\n",
    "    img_date = ee.Date(img.date())\n",
    "    img_date = ee.Number.parse(img_date.format('YYYYMMdd'))\n",
    "    return img.addBands(ee.Image(img_date).rename('date').toInt())"
   ]
  },
  {
   "cell_type": "code",
   "execution_count": 60,
   "id": "665dd97e-4c59-44e8-9332-4c80282ebeff",
   "metadata": {},
   "outputs": [],
   "source": [
    "s2_sr_cld_col = get_s2_sr_cld_col(obs_points, str(start_date), str(end_date))\n",
    "s2_sr = (s2_sr_cld_col.map(add_cld_shdw_mask).map(apply_cld_shdw_mask))\n",
    "s2_sr = s2_sr.map(addNDVI)\n",
    "s2_sr = s2_sr.map(addDate)"
   ]
  },
  {
   "cell_type": "code",
   "execution_count": 74,
   "id": "28e02624-925b-46f8-a580-cf9f5334eabf",
   "metadata": {},
   "outputs": [
    {
     "data": {
      "text/html": [
       "<pre>&lt;ee.imagecollection.ImageCollection object at 0x7f7464628150&gt;</pre>"
      ],
      "text/plain": [
       "<ee.imagecollection.ImageCollection at 0x7f7464628150>"
      ]
     },
     "execution_count": 74,
     "metadata": {},
     "output_type": "execute_result"
    }
   ],
   "source": [
    "s2_sr"
   ]
  },
  {
   "cell_type": "code",
   "execution_count": 101,
   "id": "57e97223-5794-4277-b898-6b34d4414658",
   "metadata": {},
   "outputs": [],
   "source": [
    "def zonalStats(ic, fc, params):\n",
    "    _params = {\n",
    "        'reducer': ee.Reducer.mean(),\n",
    "        'scale': None,\n",
    "        'crs': None,\n",
    "        'bands': None,\n",
    "        'bandsRename': None,\n",
    "        'imgProps': None,\n",
    "        'imgPropsRename': None,\n",
    "        'datetimeName': 'datetime',\n",
    "        'datetimeFormat': 'YYYY-MM-dd HH:mm:ss'}\n",
    "    \n",
    "    if params:\n",
    "        for param in params:\n",
    "            _params[param] = params[param] or _params[param]\n",
    "    \n",
    "    imgRep = ic.first()\n",
    "    nonSystemImgProps = ee.Feature(None).copyProperties(imgRep).propertyNames()\n",
    "    \n",
    "    if not _params['bands']:\n",
    "        _params['bands'] = imgRep.bandNames()\n",
    "    if not _params['bandsRename']:\n",
    "        _params['bandsRename'] = _params['bands']\n",
    "    if not _params['imgProps']:\n",
    "        _params['imgProps'] = nonSystemImgProps\n",
    "    if not _params['imgPropsRename']:\n",
    "        _params['imgPropsRename'] = _params['imgProps']\n",
    "    \n",
    "    # Map the reduceRegions function over the image collection.\n",
    "    def dothings(img):\n",
    "        # Select bands (optionally rename), set a datetime & timestamp property.\n",
    "        img = (ee.Image(img.select(_params['bands'], _params['bandsRename']))\n",
    "               .set(_params['datetimeName'], img.date().format(_params['datetimeFormat']))\n",
    "               .set('timestamp', img.get('system:time_start')))\n",
    "\n",
    "        # Define final image property dictionary to set in output features.\n",
    "        propsFrom = (ee.List(_params['imgProps'])\n",
    "                     .cat(ee.List([_params['datetimeName'], 'timestamp'])))\n",
    "        propsTo = (ee.List(_params['imgPropsRename'])\n",
    "                   .cat(ee.List([_params['datetimeName'], 'timestamp'])))\n",
    "        imgProps = img.toDictionary(propsFrom).rename(propsFrom, propsTo)\n",
    "\n",
    "        # Subset points that intersect the given image.\n",
    "        fcSub = fc.filterBounds(img.geometry())\n",
    "\n",
    "        # Reduce the image by regions.\n",
    "        fcDict = img.reduceRegions(**{\n",
    "            'collection': fcSub,\n",
    "            'reducer': _params['reducer'],\n",
    "            'scale': _params['scale'],\n",
    "            'crs': _params['crs']})\n",
    "\n",
    "        # Add metadata to each feature.\n",
    "        def addmetadata(f):\n",
    "            return f.set(imgProps)\n",
    "\n",
    "        fcDict = fcDict.map(addmetadata)\n",
    "        return fcDict\n",
    "        \n",
    "    results = ic.map(dothings)\n",
    "    results = results.flatten().filter(ee.Filter.notNull(_params['bandsRename']))\n",
    "    return results"
   ]
  },
  {
   "cell_type": "code",
   "execution_count": 103,
   "id": "dc8d8447-9142-4cf7-b525-cdd1919424a4",
   "metadata": {},
   "outputs": [],
   "source": [
    "params = {\n",
    "  'reducer': ee.Reducer.median(),\n",
    "  'scale': 500,\n",
    "  'crs': 'EPSG:4326',\n",
    "  'bands': ['ndvi'],\n",
    "  'bandsRename': None,\n",
    "  'datetimeName': 'date',\n",
    "  'datetimeFormat': 'YYYY-MM-dd'\n",
    "}\n",
    "ptsTopoStats = zonalStats(s2_sr, obs_points, params)"
   ]
  },
  {
   "cell_type": "code",
   "execution_count": 106,
   "id": "b6faab13-dfaf-41f7-a699-3b6eff57b6eb",
   "metadata": {},
   "outputs": [
    {
     "name": "stdout",
     "output_type": "stream",
     "text": [
      "Exporting myExportTableTask... Please check the Task Manager from the JavaScript Code Editor.\n"
     ]
    }
   ],
   "source": [
    "geemap.ee_export_vector_to_drive(ptsTopoStats, folder='data', fileFormat='csv')"
   ]
  },
  {
   "cell_type": "markdown",
   "id": "0398cc23-c4d9-48ab-877f-9c03130fa97b",
   "metadata": {},
   "source": [
    "https://code.earthengine.google.com/tasks"
   ]
  }
 ],
 "metadata": {
  "kernelspec": {
   "display_name": "Python 3 (ipykernel)",
   "language": "python",
   "name": "python3"
  },
  "language_info": {
   "codemirror_mode": {
    "name": "ipython",
    "version": 3
   },
   "file_extension": ".py",
   "mimetype": "text/x-python",
   "name": "python",
   "nbconvert_exporter": "python",
   "pygments_lexer": "ipython3",
   "version": "3.11.5"
  }
 },
 "nbformat": 4,
 "nbformat_minor": 5
}
