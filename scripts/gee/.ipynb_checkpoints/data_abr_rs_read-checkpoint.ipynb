{
 "cells": [
  {
   "cell_type": "code",
   "execution_count": 1,
   "id": "6a653972-658e-4613-aa24-fd5d6303244a",
   "metadata": {},
   "outputs": [],
   "source": [
    "import requests\n",
    "import pandas as pd\n",
    "from pyogrio import read_dataframe\n",
    "from datetime import date, timedelta\n",
    "from dateutil.relativedelta import relativedelta\n",
    "import glob\n",
    "import json\n",
    "import numpy as np\n",
    "import ee\n",
    "import geemap as gee\n",
    "import time\n",
    "import standardize_pft_funcs as spf\n",
    "import math"
   ]
  },
  {
   "cell_type": "code",
   "execution_count": 2,
   "id": "be2c4825-e37b-4a09-9ef7-2b67b6226653",
   "metadata": {},
   "outputs": [],
   "source": [
    "try:\n",
    "    ee.Initialize()\n",
    "except Exception as e:\n",
    "    print('GEE token expired. Use Jupyter Lab to authenticate')\n",
    "    ee.Authenticate()"
   ]
  },
  {
   "cell_type": "markdown",
   "id": "738bc49d-ce3e-4498-8249-edd85633da69",
   "metadata": {},
   "source": [
    "## Load data"
   ]
  },
  {
   "cell_type": "code",
   "execution_count": 3,
   "id": "edfffeae-9f1b-4173-b1b2-b631480b9c7a",
   "metadata": {},
   "outputs": [],
   "source": [
    "out_path = '/mnt/poseidon/remotesensing/arctic/data/vectors/ABR'"
   ]
  },
  {
   "cell_type": "code",
   "execution_count": 4,
   "id": "fc0c373f-d848-49bc-b2ae-db7f979730ba",
   "metadata": {},
   "outputs": [],
   "source": [
    "# get rs data\n",
    "p = '/mnt/poseidon/remotesensing/arctic/data/vectors/ABR/'\n",
    "f = 'vpi_plot_species_cover_with_trace.csv'\n",
    "rs = pd.read_csv(p + f)"
   ]
  },
  {
   "cell_type": "code",
   "execution_count": 5,
   "id": "0ab7d133-b087-4df2-b4b2-c1708fad7798",
   "metadata": {},
   "outputs": [],
   "source": [
    "# get rs summary data\n",
    "p = '/mnt/poseidon/remotesensing/arctic/data/vectors/ABR/'\n",
    "f = 'vpi_plot_summary.csv'\n",
    "rs_summary = pd.read_csv(p + f)\n",
    "nonveg_top = rs_summary[['plot_id', 'litter_topcov', 'water_topcov', 'bareground_topcov']]"
   ]
  },
  {
   "cell_type": "code",
   "execution_count": 6,
   "id": "d457396b-3bee-4664-a8bc-7078ca4e7864",
   "metadata": {},
   "outputs": [],
   "source": [
    "# get ancillary data (lat,lon,etc)\n",
    "p = '/mnt/poseidon/remotesensing/arctic/data/vectors/ABR/'\n",
    "f = 'plot.csv'\n",
    "ancillary = pd.read_csv(p + f, index_col=0)"
   ]
  },
  {
   "cell_type": "code",
   "execution_count": 7,
   "id": "768aebe6-4a5c-456c-a434-60f5ff035640",
   "metadata": {},
   "outputs": [
    {
     "data": {
      "text/plain": [
       "Index(['plot_id', 'litter_topcov', 'water_topcov', 'bareground_topcov'], dtype='object')"
      ]
     },
     "execution_count": 7,
     "metadata": {},
     "output_type": "execute_result"
    }
   ],
   "source": [
    "nonveg_top.columns"
   ]
  },
  {
   "cell_type": "code",
   "execution_count": 8,
   "id": "629f3617-fbaa-40ef-9889-c513c0941099",
   "metadata": {},
   "outputs": [
    {
     "data": {
      "text/plain": [
       "Index(['plot_id', 'veg_taxonomy', 'family', 'species_cover', 'vascular'], dtype='object')"
      ]
     },
     "execution_count": 8,
     "metadata": {},
     "output_type": "execute_result"
    }
   ],
   "source": [
    "rs.columns"
   ]
  },
  {
   "cell_type": "code",
   "execution_count": 9,
   "id": "5f569efb-dbbf-4f3e-82fd-cd10d9c7f493",
   "metadata": {},
   "outputs": [],
   "source": [
    "# drop els plots (plots that start with a letter)\n",
    "startswith_digit = [x.isdigit() for x in rs['plot_id'].str[0]]\n",
    "rs['plot_sw_digit'] = startswith_digit\n",
    "rs = rs[rs['plot_sw_digit'] == True]"
   ]
  },
  {
   "cell_type": "markdown",
   "id": "d87add12-b991-424c-8625-f9fddf58a21d",
   "metadata": {},
   "source": [
    "## Extract species information"
   ]
  },
  {
   "cell_type": "code",
   "execution_count": 10,
   "id": "815954d4-9bba-4075-ba8c-87609e704d6f",
   "metadata": {},
   "outputs": [],
   "source": [
    "abr = rs"
   ]
  },
  {
   "cell_type": "code",
   "execution_count": 11,
   "id": "14431366-6285-4ae6-9f3a-85847fc0ad76",
   "metadata": {},
   "outputs": [
    {
     "name": "stdout",
     "output_type": "stream",
     "text": [
      "Saved unique species list to /mnt/poseidon/remotesensing/arctic/data/vectors/ABR/ABR_RS_unique_species.csv.\n"
     ]
    }
   ],
   "source": [
    "species = spf.get_unique_species(DFRAME=abr, \n",
    "                                 SCOL='veg_taxonomy', \n",
    "                                 DNAME='ABR_RS', \n",
    "                                 SAVE=True, \n",
    "                                 OUTP=out_path)"
   ]
  },
  {
   "cell_type": "code",
   "execution_count": 12,
   "id": "4ff8664b-c222-4a66-b77d-46bab251a4dc",
   "metadata": {},
   "outputs": [],
   "source": [
    "# load species checklist\n",
    "p = '/mnt/poseidon/remotesensing/arctic/data/vectors/AKVEG_ACCS/'\n",
    "f = 'AKVEG_species_checklist.csv'\n",
    "checklist = read_dataframe(p + f)\n",
    "\n",
    "# get first 2 words (genus-species) from checklist accepted name and data species name\n",
    "checklist['Mapping Name'] = checklist['Accepted Name'].apply(spf.get_substrings)\n",
    "species['Mapping Name'] = species['veg_taxonomy'].apply(spf.get_substrings)"
   ]
  },
  {
   "cell_type": "markdown",
   "id": "d01d344b-5847-4fc9-ac53-32449a82babf",
   "metadata": {},
   "source": [
    "## Assign species habits"
   ]
  },
  {
   "cell_type": "code",
   "execution_count": 13,
   "id": "30cb61c0-3e10-4b78-b6ef-58decf3439cd",
   "metadata": {},
   "outputs": [
    {
     "name": "stdout",
     "output_type": "stream",
     "text": [
      "161 species are missing habits.\n",
      "93 species still missing habits.\n",
      "27 species still missing habits.\n",
      "25 species still missing habits.\n"
     ]
    }
   ],
   "source": [
    "# get potential habits\n",
    "habits = spf.fill_habits(unique_species=species, \n",
    "                         checklist=checklist, \n",
    "                         u_name='veg_taxonomy', \n",
    "                         c_unofficial_name='Name', \n",
    "                         c_official_name='Accepted Name', \n",
    "                         mapping_name='Mapping Name',\n",
    "                         habit='Habit')"
   ]
  },
  {
   "cell_type": "markdown",
   "id": "29d3f401-ad76-4526-825c-433ab9081d14",
   "metadata": {},
   "source": [
    "## Add leaf retention"
   ]
  },
  {
   "cell_type": "code",
   "execution_count": 14,
   "id": "b0e67ee3-c7a6-4d78-9b1a-652d010e9fd0",
   "metadata": {},
   "outputs": [],
   "source": [
    "p = '/mnt/poseidon/remotesensing/arctic/data/vectors/AK-AVA_post2000/'\n",
    "f = 'evergreendecid_macander2022.csv'\n",
    "evergrndecid = pd.read_csv(p + f, header=None)\n",
    "evergrndecid.columns = ['evergreendecid', 'species']\n",
    "final = spf.add_leaf_habit(habits, evergrndecid)"
   ]
  },
  {
   "cell_type": "code",
   "execution_count": 15,
   "id": "ab37c222-04d1-4f49-bdc0-93593c8c823c",
   "metadata": {},
   "outputs": [],
   "source": [
    "# export\n",
    "p = '/mnt/poseidon/remotesensing/arctic/data/vectors/ABR/'\n",
    "f = 'ABR_RS_species_habit_00.csv'\n",
    "final.to_csv(p + f)"
   ]
  },
  {
   "cell_type": "code",
   "execution_count": 16,
   "id": "e009c1c6-99e6-45aa-8cf8-4fa248c9a844",
   "metadata": {},
   "outputs": [
    {
     "data": {
      "text/plain": [
       "['forb',\n",
       " 'graminoid',\n",
       " 'lichen',\n",
       " 'shrub',\n",
       " 'liverwort',\n",
       " 'dwarf shrub',\n",
       " ' dwarf shrub, forb,forb, shrub',\n",
       " 'moss',\n",
       " nan,\n",
       " 'spore-bearing',\n",
       " 'dwarf shrub, shrub']"
      ]
     },
     "execution_count": 16,
     "metadata": {},
     "output_type": "execute_result"
    }
   ],
   "source": [
    "list(final['Potential Habit'].unique())"
   ]
  },
  {
   "cell_type": "markdown",
   "id": "2f0fcca8-bd07-45e6-ac53-9ad0ee955454",
   "metadata": {},
   "source": [
    "## Export shrubs, nonshrubs, null habit seperately"
   ]
  },
  {
   "cell_type": "code",
   "execution_count": 17,
   "id": "11266240-497f-4a77-9325-0d9dafeac0fd",
   "metadata": {},
   "outputs": [],
   "source": [
    "# get all shrub species\n",
    "finalnonnull = final[~final['Potential Habit'].isnull()]\n",
    "shrubs = finalnonnull[finalnonnull['Potential Habit'].str.contains('shrub')]\n",
    "shrubs.to_csv(p + 'ABR_RS_shrubs_00.csv')"
   ]
  },
  {
   "cell_type": "code",
   "execution_count": 18,
   "id": "d7d46231-e8c7-40c2-87ad-4464ddf29a63",
   "metadata": {},
   "outputs": [],
   "source": [
    "# get all non-shrub species\n",
    "nonshrubs = finalnonnull[~finalnonnull['Potential Habit'].str.contains('shrub')]\n",
    "nonshrubs.to_csv(p + 'ABR_RS_nonshrubs_00.csv')"
   ]
  },
  {
   "cell_type": "code",
   "execution_count": 19,
   "id": "6e5bf2cf-c884-4908-90cd-a98b42458fa0",
   "metadata": {},
   "outputs": [],
   "source": [
    "# get null habits\n",
    "finalnull = final[final['Potential Habit'].isnull()]\n",
    "finalnull.to_csv(p + 'ABR_RS_nullhabit_00.csv')"
   ]
  },
  {
   "cell_type": "code",
   "execution_count": 20,
   "id": "130947ce-5d15-4480-8b80-2b99b7f1f27f",
   "metadata": {},
   "outputs": [
    {
     "data": {
      "text/plain": [
       "385"
      ]
     },
     "execution_count": 20,
     "metadata": {},
     "output_type": "execute_result"
    }
   ],
   "source": [
    "len(finalnull) + len(nonshrubs) + len(shrubs)"
   ]
  },
  {
   "cell_type": "code",
   "execution_count": 21,
   "id": "09d35d47-4247-44d3-85f6-1bb97be4ee51",
   "metadata": {},
   "outputs": [
    {
     "data": {
      "text/plain": [
       "385"
      ]
     },
     "execution_count": 21,
     "metadata": {},
     "output_type": "execute_result"
    }
   ],
   "source": [
    "len(final)"
   ]
  },
  {
   "cell_type": "markdown",
   "id": "f7fe8168-51e8-49da-be75-9bc8d0f1b4ec",
   "metadata": {},
   "source": [
    "## HERE: Manually add data to shrubs00 and nullhabit00"
   ]
  },
  {
   "cell_type": "markdown",
   "id": "c75c6735-32b7-4eaa-8c88-1877d4c46d18",
   "metadata": {},
   "source": [
    "## Standardize PFT schema"
   ]
  },
  {
   "cell_type": "code",
   "execution_count": 22,
   "id": "f96ceebe-907e-4eee-98d4-1b33381b1119",
   "metadata": {},
   "outputs": [],
   "source": [
    "p = '/mnt/poseidon/remotesensing/arctic/data/vectors/ABR/'\n",
    "nonshrub = 'ABR_RS_nonshrubs_00.csv'\n",
    "null = 'ABR_RS_nullhabit_01.csv'\n",
    "shrub = 'ABR_RS_shrubs_01.csv'\n",
    "\n",
    "alltypes = [nonshrub, shrub, null]\n",
    "\n",
    "d = []\n",
    "for t in alltypes:\n",
    "    habits = pd.read_csv(p + t, index_col=0)\n",
    "    d.append(habits)"
   ]
  },
  {
   "cell_type": "code",
   "execution_count": 23,
   "id": "60ecc686-62ac-49c1-8abc-8a885004a07e",
   "metadata": {},
   "outputs": [
    {
     "data": {
      "text/plain": [
       "['forb',\n",
       " 'graminoid',\n",
       " 'lichen',\n",
       " 'liverwort',\n",
       " 'moss',\n",
       " 'spore-bearing',\n",
       " 'shrub',\n",
       " 'dwarf shrub',\n",
       " 'shrub, tree',\n",
       " 'bare ground',\n",
       " 'bare mineral',\n",
       " 'crust',\n",
       " 'litter',\n",
       " 'scat',\n",
       " 'algae',\n",
       " 'fungus',\n",
       " 'water']"
      ]
     },
     "execution_count": 23,
     "metadata": {},
     "output_type": "execute_result"
    }
   ],
   "source": [
    "completehabits = pd.concat(d)\n",
    "completehabits['Habit'].unique().tolist()"
   ]
  },
  {
   "cell_type": "code",
   "execution_count": 24,
   "id": "29b9fe1a-ac05-4316-936a-96d1279797cb",
   "metadata": {},
   "outputs": [],
   "source": [
    "# veg: lichen = algae, lichen\n",
    "# veg: bryophyte = liverwort, moss\n",
    "# veg: graminoid = graminoid\n",
    "# veg: forb = spore-bearing, forb\n",
    "# veg: evergreen shrub = evergreen shrubs of all heights\n",
    "# veg: deciduous shrub = deciduous shrubs of all heights\n",
    "# ---\n",
    "# nonveg: litter = litter + scat\n",
    "# nonveg: bare ground = bare mineral + crust + bare ground\n",
    "# nonveg: water = water"
   ]
  },
  {
   "cell_type": "code",
   "execution_count": 25,
   "id": "66436aab-6abc-4502-a708-a10f1ec7b310",
   "metadata": {},
   "outputs": [],
   "source": [
    "def standardize_habit_nonstandard(habitrow, leafrow, heightrow):\n",
    "    \n",
    "    habitrow = habitrow.to_numpy()\n",
    "    leafrow = leafrow.to_numpy()\n",
    "    heightrow = heightrow.to_numpy()\n",
    "    new_row = []\n",
    "    \n",
    "    for habit, leaf, height in zip(habitrow, leafrow, heightrow):\n",
    "        habit = habit.lower()\n",
    "        if habit == 'shrub, tree':\n",
    "            new_habit = f'{leaf} dwarf to tree cover (%)'\n",
    "        elif habit == 'dwarf shrub':\n",
    "            new_habit = f'{leaf} {habit} cover (%)'\n",
    "        elif 'shrub' in habit:\n",
    "            new_habit = f'{leaf} {height} cover (%)'\n",
    "        else:\n",
    "            new_habit = f'{habit} cover (%)'\n",
    "        new_row.append(\" \".join(new_habit.split()).lower())\n",
    "    \n",
    "    return new_row"
   ]
  },
  {
   "cell_type": "code",
   "execution_count": 26,
   "id": "09704894-e469-4162-9f82-7515c797507b",
   "metadata": {},
   "outputs": [],
   "source": [
    "def standardize_habit(habitrow, leafrow, heightrow):\n",
    "    \n",
    "    habitrow = habitrow.to_numpy()\n",
    "    leafrow = leafrow.to_numpy()\n",
    "    heightrow = heightrow.to_numpy()\n",
    "    new_row = []\n",
    "    \n",
    "    for habit, leaf, height in zip(habitrow, leafrow, heightrow):\n",
    "        habit = habit.lower()\n",
    "        if 'algae' in habit:\n",
    "            new_habit = 'lichen cover (%)'\n",
    "        elif habit == np.nan or 'unknown' in habit:\n",
    "            new_habit = 'unknown cover (%)'\n",
    "        elif 'moss' in habit or 'liverwort' in habit:\n",
    "            new_habit = 'bryophyte cover (%)'\n",
    "        elif 'spore-bearing' in habit:\n",
    "            new_habit = 'forb cover (%)'\n",
    "        elif habit == 'grass':\n",
    "            new_habit = 'graminoid cover (%)'\n",
    "            \n",
    "        elif habit == 'shrub, tree':\n",
    "            new_habit = f'{leaf} dwarf to tree cover (%)'\n",
    "        elif habit == 'dwarf shrub':\n",
    "            new_habit = f'{leaf} {habit} cover (%)'\n",
    "        elif 'shrub' in habit:\n",
    "            new_habit = f'{leaf} {height} cover (%)'\n",
    "            \n",
    "        elif 'litter' in habit or 'scat' in habit:\n",
    "            new_habit = 'litter cover (%)'\n",
    "        elif 'bare ground' in habit or 'crust' in habit or 'mineral' in habit:\n",
    "            new_habit = 'bare ground cover (%)'\n",
    "        else:\n",
    "            new_habit = f'{habit} cover (%)'\n",
    "        new_row.append(\" \".join(new_habit.split()).lower())\n",
    "    \n",
    "    return new_row"
   ]
  },
  {
   "cell_type": "code",
   "execution_count": 27,
   "id": "43dfdb87-c30e-4a2c-81c0-2002be1924a7",
   "metadata": {},
   "outputs": [],
   "source": [
    "# standardized PFT\n",
    "standard_habit_col = standardize_habit(completehabits['Habit'], \n",
    "                                       completehabits['Leaf Retention'], \n",
    "                                       completehabits['Height'])"
   ]
  },
  {
   "cell_type": "code",
   "execution_count": 28,
   "id": "af704d44-e309-43ea-a61f-475207855ec3",
   "metadata": {},
   "outputs": [],
   "source": [
    "# non-standardized PFT\n",
    "nonstandard_habit_col = standardize_habit_nonstandard(completehabits['Habit'], \n",
    "                                                      completehabits['Leaf Retention'], \n",
    "                                                      completehabits['Height'])"
   ]
  },
  {
   "cell_type": "code",
   "execution_count": 29,
   "id": "9e65bf95-a6ab-40ed-94d4-a104ca962c0b",
   "metadata": {},
   "outputs": [],
   "source": [
    "completehabits['Standard Habit'] = standard_habit_col\n",
    "completehabits['NonStandard Habit'] = nonstandard_habit_col"
   ]
  },
  {
   "cell_type": "code",
   "execution_count": 30,
   "id": "c6fff209-ec10-49b9-baad-e568a2a31ed0",
   "metadata": {},
   "outputs": [],
   "source": [
    "p = '/mnt/poseidon/remotesensing/arctic/data/vectors/ABR/'\n",
    "f = 'ABR_RS_species_habit_standardized.csv'\n",
    "completehabits.to_csv(p + f)"
   ]
  },
  {
   "cell_type": "markdown",
   "id": "aa77dd79-694d-49b7-a7b4-a25a551ef2c9",
   "metadata": {},
   "source": [
    "## Join PFT to fcover data"
   ]
  },
  {
   "cell_type": "code",
   "execution_count": 31,
   "id": "ea16c99e-4fbc-4c89-a0fd-a6d02986d516",
   "metadata": {},
   "outputs": [],
   "source": [
    "# add vegetation fcover and sum to PFT level\n",
    "def add_cover(cover_df, pft_groups, habit_col):\n",
    "    cover = cover_df.reset_index()\n",
    "    withfcover = cover.merge(pft_groups, left_on='veg_taxonomy', right_on='Name', how='left')\n",
    "    grouped = withfcover.groupby(['plot_id', habit_col], \n",
    "                                 group_keys=True).agg({'species_cover': 'sum'})\n",
    "    return grouped"
   ]
  },
  {
   "cell_type": "code",
   "execution_count": 32,
   "id": "43be6e2e-1cec-4e0b-8e45-3503d21a0aa5",
   "metadata": {},
   "outputs": [],
   "source": [
    "# flatten multilevel\n",
    "def flatten_multilevel(grouped):\n",
    "    grouped.columns = grouped.columns.get_level_values(0)\n",
    "    grouped = grouped.reset_index()\n",
    "    return grouped"
   ]
  },
  {
   "cell_type": "code",
   "execution_count": 33,
   "id": "4afc9c7a-ff05-4d00-966d-a843443d8947",
   "metadata": {},
   "outputs": [],
   "source": [
    "# transpose\n",
    "def transpose_df(grouped, habit_col):\n",
    "    groups = grouped.set_index(['plot_id', habit_col]).stack().unstack([1,2])\n",
    "    groups.columns = groups.columns.get_level_values(0)\n",
    "    groups = groups.reset_index()\n",
    "    return groups"
   ]
  },
  {
   "cell_type": "code",
   "execution_count": 34,
   "id": "23a001e6-f34d-4317-b2ad-0f25e536ffaa",
   "metadata": {},
   "outputs": [],
   "source": [
    "def add_standard_cols(groups):\n",
    "    \n",
    "    # required columns\n",
    "    necessary_cols = ['deciduous dwarf shrub cover (%)',\n",
    "                      'deciduous dwarf to low shrub cover (%)',\n",
    "                      'deciduous dwarf to tall shrub cover (%)',\n",
    "                      'deciduous dwarf to tree cover (%)',\n",
    "                      'deciduous tree cover (%)',\n",
    "                      'evergreen dwarf shrub cover (%)',\n",
    "                      'evergreen dwarf to low shrub cover (%)',\n",
    "                      'evergreen dwarf to tall shrub cover (%)',\n",
    "                      'evergreen dwarf to tree cover (%)',\n",
    "                      'evergreen tree cover (%)',\n",
    "                      'bryophyte cover (%)',\n",
    "                      'forb cover (%)',\n",
    "                      'graminoid cover (%)',\n",
    "                      'lichen cover (%)']\n",
    "    \n",
    "    # add missing columns and fill with nan\n",
    "    cols = groups.columns.tolist()\n",
    "    addcols = []\n",
    "    for nc in necessary_cols:\n",
    "        if nc not in cols:\n",
    "            addcols.append(nc)\n",
    "    groups[addcols] = np.nan\n",
    "    return groups"
   ]
  },
  {
   "cell_type": "code",
   "execution_count": 35,
   "id": "a4d225ff-70d7-4963-9655-1ea6a0308899",
   "metadata": {},
   "outputs": [],
   "source": [
    "grouped_standard = add_cover(abr, completehabits, 'Standard Habit')\n",
    "grouped_standard = flatten_multilevel(grouped_standard)\n",
    "grouped_standard = transpose_df(grouped_standard, 'Standard Habit')\n",
    "standard_groups = add_standard_cols(grouped_standard)"
   ]
  },
  {
   "cell_type": "code",
   "execution_count": 36,
   "id": "68f7d5be-70e4-46c6-bf0c-f69409594605",
   "metadata": {},
   "outputs": [],
   "source": [
    "grouped_nonstand = add_cover(abr, completehabits, 'NonStandard Habit')\n",
    "grouped_nonstand = flatten_multilevel(grouped_nonstand)\n",
    "grouped_nonstand = transpose_df(grouped_nonstand, 'NonStandard Habit')"
   ]
  },
  {
   "cell_type": "markdown",
   "id": "09860c31-0d8b-4fce-b2f0-49ebc22371e5",
   "metadata": {},
   "source": [
    "## Read ancillary table"
   ]
  },
  {
   "cell_type": "code",
   "execution_count": 37,
   "id": "1adcf22a-a324-414e-a4bb-e5470a12a2c5",
   "metadata": {},
   "outputs": [],
   "source": [
    "# add ancillary information\n",
    "anc = ancillary.copy()\n",
    "anc.rename(columns={'plot_id':'Site Code'}, inplace=True)\n",
    "# year\n",
    "anc['year'] = pd.DatetimeIndex(anc['field_start_ts']).year\n",
    "anc['year'] = anc['year'].astype('Int64')\n",
    "# plot size\n",
    "anc['plot_radius_m'] = '55'\n",
    "# context\n",
    "#anc['source_context'] = 'mapping vegetation'\n",
    "# dataset source\n",
    "anc['source'] = 'ABR_RS'"
   ]
  },
  {
   "cell_type": "code",
   "execution_count": 38,
   "id": "44f8c69f-4f3e-42be-8005-b6f2c3a7ed23",
   "metadata": {},
   "outputs": [],
   "source": [
    "anc = anc[['Site Code', 'latitude', 'longitude', 'year', 'plot_radius_m', 'source']]"
   ]
  },
  {
   "cell_type": "markdown",
   "id": "cbb553b1-fdad-4e28-a2e4-d96ddb45936c",
   "metadata": {},
   "source": [
    "## Create total cover file (non-merged)"
   ]
  },
  {
   "cell_type": "code",
   "execution_count": 39,
   "id": "1aae1986-53ec-4f75-875c-b5dd27e5f743",
   "metadata": {},
   "outputs": [],
   "source": [
    "# set index and sort columns\n",
    "totcover_nm = grouped_nonstand.copy()\n",
    "totcover_nm.rename(columns={'plot_id':'Site Code'}, inplace=True)\n",
    "totcover_nm.drop(columns=['fungus cover (%)'], inplace=True)\n",
    "totcover_nm.set_index('Site Code', inplace=True)\n",
    "totcover_nm.columns.name = None\n",
    "totcover_nm = totcover_nm[sorted(totcover_nm.columns.tolist())]"
   ]
  },
  {
   "cell_type": "code",
   "execution_count": 40,
   "id": "34bfb740-32b1-47ac-9953-7c25d354ec2e",
   "metadata": {},
   "outputs": [],
   "source": [
    "# add \"total cover\" to column names\n",
    "cols = totcover_nm.columns.tolist()\n",
    "cols = [x.replace('cover (%)' , 'total cover (%)') for x in cols]\n",
    "totcover_nm.columns = cols"
   ]
  },
  {
   "cell_type": "code",
   "execution_count": 41,
   "id": "48a4b309-2750-4f8c-985c-08accc6261b3",
   "metadata": {},
   "outputs": [],
   "source": [
    "# add ancillary\n",
    "totcover_nm = totcover_nm.merge(anc, on='Site Code', how='left')"
   ]
  },
  {
   "cell_type": "code",
   "execution_count": 43,
   "id": "83eb518b-fc09-4136-afae-355de34e7f6c",
   "metadata": {},
   "outputs": [],
   "source": [
    "totcover_nm.set_index('Site Code', inplace=True)"
   ]
  },
  {
   "cell_type": "code",
   "execution_count": 57,
   "id": "c5d92761-27f0-4878-96e6-3979581cdb37",
   "metadata": {},
   "outputs": [],
   "source": [
    "# export\n",
    "p = '/mnt/poseidon/remotesensing/arctic/data/training/Test_04/original_files/'\n",
    "f = 'ABR_RS_fcover_total_orig.csv'\n",
    "totcover_nm.to_csv(p + f)"
   ]
  },
  {
   "cell_type": "markdown",
   "id": "03e381a6-c3b8-47a3-b6a1-b42af89979ec",
   "metadata": {
    "tags": []
   },
   "source": [
    "## Create total cover file (merged)"
   ]
  },
  {
   "cell_type": "code",
   "execution_count": 45,
   "id": "495194e0-c148-432f-a589-e36fc2d8bd24",
   "metadata": {},
   "outputs": [],
   "source": [
    "# set index and sort columns\n",
    "totcover = standard_groups.copy()\n",
    "totcover.rename(columns={'plot_id':'Site Code'}, inplace=True)\n",
    "totcover.drop(columns=['fungus cover (%)'], inplace=True)\n",
    "totcover.set_index('Site Code', inplace=True)\n",
    "totcover.columns.name = None\n",
    "totcover = totcover[sorted(totcover.columns.tolist())]"
   ]
  },
  {
   "cell_type": "code",
   "execution_count": 46,
   "id": "69d74ed0-34c9-4bd5-a2a2-82bc2f605a35",
   "metadata": {},
   "outputs": [],
   "source": [
    "# add \"total cover\" to column names\n",
    "cols = totcover.columns.tolist()\n",
    "cols = [x.replace('cover (%)' , 'total cover (%)') for x in cols]\n",
    "totcover.columns = cols"
   ]
  },
  {
   "cell_type": "code",
   "execution_count": 47,
   "id": "e4f2d65e-4896-4758-9f2e-e04c35388870",
   "metadata": {},
   "outputs": [],
   "source": [
    "# add ancillary\n",
    "totcover = totcover.merge(anc, on='Site Code', how='left')"
   ]
  },
  {
   "cell_type": "code",
   "execution_count": 49,
   "id": "c6fb6f71-4aa4-43e9-bc7a-421e02619638",
   "metadata": {},
   "outputs": [],
   "source": [
    "totcover.set_index('Site Code', inplace=True)"
   ]
  },
  {
   "cell_type": "code",
   "execution_count": 56,
   "id": "24b22107-dd56-4d7f-ae94-f49d1d4cb638",
   "metadata": {},
   "outputs": [],
   "source": [
    "# export\n",
    "p = '/mnt/poseidon/remotesensing/arctic/data/training/Test_04/original_files/'\n",
    "f = 'ABR_RS_fcover_total_merged.csv'\n",
    "totcover.to_csv(p + f)"
   ]
  },
  {
   "cell_type": "markdown",
   "id": "2dbbcff5-9a55-4f23-b2da-b153c4fea3c5",
   "metadata": {},
   "source": [
    "## Create top cover file"
   ]
  },
  {
   "cell_type": "code",
   "execution_count": 51,
   "id": "598bfbdc-2ae3-4e10-9af1-e920879fef5f",
   "metadata": {},
   "outputs": [],
   "source": [
    "# rename columns and set index\n",
    "topcover = nonveg_top.copy()\n",
    "topcover.rename(columns={'litter_topcov':'litter top cover (%)',\n",
    "                         'water_topcov':'water top cover (%)',\n",
    "                         'bareground_topcov':'bare ground top cover (%)',\n",
    "                         'plot_id':'Site Code'}, inplace=True)\n",
    "topcover.set_index('Site Code', inplace=True)\n",
    "topcover = topcover[sorted(topcover.columns.tolist())]"
   ]
  },
  {
   "cell_type": "code",
   "execution_count": 52,
   "id": "a675aa46-88b4-4856-b999-e122db872b3a",
   "metadata": {},
   "outputs": [],
   "source": [
    "# add ancillary\n",
    "topcover = topcover.merge(anc, on='Site Code', how='left')"
   ]
  },
  {
   "cell_type": "code",
   "execution_count": 54,
   "id": "39f97f2f-53f5-4fba-b471-f9fbc60f76a8",
   "metadata": {},
   "outputs": [],
   "source": [
    "topcover.set_index('Site Code', inplace=True)"
   ]
  },
  {
   "cell_type": "code",
   "execution_count": 55,
   "id": "82e64529-8af6-49d2-9501-ccad28005608",
   "metadata": {},
   "outputs": [],
   "source": [
    "# export\n",
    "p = '/mnt/poseidon/remotesensing/arctic/data/training/Test_04/original_files/'\n",
    "f = 'ABR_RS_fcover_top_nonPFT.csv'\n",
    "topcover.to_csv(p + f)"
   ]
  },
  {
   "cell_type": "code",
   "execution_count": null,
   "id": "d76d7b75-653e-4040-a52e-95fd9c898cb8",
   "metadata": {},
   "outputs": [],
   "source": []
  },
  {
   "cell_type": "code",
   "execution_count": null,
   "id": "00d80a91-df08-442d-9f43-af32c3e14359",
   "metadata": {},
   "outputs": [],
   "source": []
  }
 ],
 "metadata": {
  "kernelspec": {
   "display_name": "Python 3 (ipykernel)",
   "language": "python",
   "name": "python3"
  },
  "language_info": {
   "codemirror_mode": {
    "name": "ipython",
    "version": 3
   },
   "file_extension": ".py",
   "mimetype": "text/x-python",
   "name": "python",
   "nbconvert_exporter": "python",
   "pygments_lexer": "ipython3",
   "version": "3.11.5"
  }
 },
 "nbformat": 4,
 "nbformat_minor": 5
}
