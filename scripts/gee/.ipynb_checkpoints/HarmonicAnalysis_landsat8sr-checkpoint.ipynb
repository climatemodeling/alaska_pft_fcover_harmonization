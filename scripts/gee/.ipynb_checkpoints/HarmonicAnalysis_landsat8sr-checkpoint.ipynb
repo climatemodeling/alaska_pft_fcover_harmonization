{
 "cells": [
  {
   "cell_type": "markdown",
   "id": "b668ff60-18a8-4201-8702-125af827316f",
   "metadata": {},
   "source": [
    "### Harmonic analysis to extract the seasonality of NDVI time series\n",
    "  \n",
    "Documentation:   \n",
    "https://developers.google.com/earth-engine/tutorials/community/time-series-modeling;   https://docs.google.com/document/d/1mNIRB90jwLuASO1JYas1kuOXCLbOoy1Z4NlV1qIXM10/edit  \n",
    "\n",
    "Test data: Landsat; test band: NDVI  \n",
    "\n",
    "for Sentinel, check:  \n",
    "https://medium.com/@moraesd90/creating-monthly-ndvi-composites-sentinel-2-on-google-earth-engine-a5c2d49bc9ca"
   ]
  },
  {
   "cell_type": "code",
   "execution_count": 49,
   "id": "bf26bd88-7a6e-4dc0-9f96-0e9af375cc38",
   "metadata": {},
   "outputs": [],
   "source": [
    "import os\n",
    "import os.path as osp\n",
    "import ee \n",
    "ee.Initialize()\n",
    "import geemap\n",
    "import math\n",
    "import numpy as np\n",
    "import geopandas as gpd\n",
    "import pandas as pd"
   ]
  },
  {
   "cell_type": "markdown",
   "id": "6f17d02f-9b82-4e10-8ad2-b90ab81fd303",
   "metadata": {},
   "source": [
    "### change the working directory and result path to store all the outputs"
   ]
  },
  {
   "cell_type": "code",
   "execution_count": 2,
   "id": "ad2e0a14-32b7-40f2-b142-24ac164651d9",
   "metadata": {},
   "outputs": [],
   "source": [
    "cwd = '/mnt/poseidon/remotesensing/arctic/data/training/testData_unmixingRegression/'\n",
    "os.chdir(cwd)\n",
    "os.getcwd\n",
    "    \n",
    "purePFT = cwd+'purePFT_merged_fCover_Macander2017_geometry.geojson'\n",
    "randPFT = cwd+'randomPts_fCover_10kmDist_Macander2017_geometry.geojson'"
   ]
  },
  {
   "cell_type": "markdown",
   "id": "e9f1cd4d-a328-4d87-b136-f3bfb1496b94",
   "metadata": {},
   "source": [
    "### import region of interest (roi)"
   ]
  },
  {
   "cell_type": "code",
   "execution_count": 12,
   "id": "31d47aa9-7ecb-4bf4-91ed-0d3b60716256",
   "metadata": {},
   "outputs": [],
   "source": [
    "pureGJ = gpd.read_file(purePFT).reset_index(drop=True)\n",
    "randGJ = gpd.read_file(randPFT).reset_index(drop=True)\n",
    "\n",
    "pureGJ_simple = pureGJ[['id', 'geometry']].set_index('id')\n",
    "randGJ_simple = randGJ[['id', 'geometry']].set_index('id')\n",
    "\n",
    "# remove null geometries so GEE doesn't freak out\n",
    "pureGJ_simple = pureGJ_simple[~pureGJ_simple['geometry'].isna()]\n",
    "randGJ_simple = randGJ_simple[~randGJ_simple['geometry'].isna()]\n",
    "\n",
    "purePoints = geemap.gdf_to_ee(pureGJ_simple)\n",
    "randPoints = geemap.gdf_to_ee(randGJ_simple)\n",
    "\n",
    "proj = 'EPSG:4326'"
   ]
  },
  {
   "cell_type": "code",
   "execution_count": 37,
   "id": "80ff913c-0f0e-448a-91fd-003a00ecbd45",
   "metadata": {},
   "outputs": [
    {
     "data": {
      "application/vnd.jupyter.widget-view+json": {
       "model_id": "d2a337dca7714ec08aa4717e67f28533",
       "version_major": 2,
       "version_minor": 0
      },
      "text/plain": [
       "Map(center=[69.818, -155.6], controls=(WidgetControl(options=['position', 'transparent_bg'], widget=HBox(child…"
      ]
     },
     "execution_count": 37,
     "metadata": {},
     "output_type": "execute_result"
    }
   ],
   "source": [
    "# visualize watersheds and poi\n",
    "coi = ee.Geometry.Point([-155.6,69.818])\n",
    "roi = coi.buffer(ee.Number(900000000000).sqrt().divide(2), 1).bounds()\n",
    "\n",
    "# visualize watersheds and poi\n",
    "Map = geemap.Map(basemap='HYBRID')\n",
    "Map.centerObject(coi, 6);\n",
    "Map.addLayer(purePoints, {}, 'observation_points')\n",
    "Map.addLayer(randPoints, {'color': 'red'}, 'rand_observation_points')\n",
    "Map"
   ]
  },
  {
   "cell_type": "markdown",
   "id": "06e5bcfb-ea69-4b02-a37c-2ae40dbedda7",
   "metadata": {},
   "source": [
    "### required functions  \n",
    "some functions need to change to Sentinel-2 version"
   ]
  },
  {
   "cell_type": "markdown",
   "id": "1d0d7096-f332-4243-ac3a-d8fa646c814b",
   "metadata": {},
   "source": [
    "### --- landsat 8 surface reflectance ----"
   ]
  },
  {
   "cell_type": "code",
   "execution_count": 38,
   "id": "d74e5ed2-f9e6-40d2-9013-755481467137",
   "metadata": {},
   "outputs": [],
   "source": [
    "# Function to cloud mask from the pixel_qa band of Landsat 8 SR data.\n",
    "def reproject(image):\n",
    "    return image.reproject(crs=proj, scale=30)  \n",
    "    \n",
    "def maskL8sr(image): #!! change to Sentinel-2\n",
    "  # Bits 3 and 5 are cloud shadow and cloud, respectively.\n",
    "    cloudShadowBitMask = 1 << 3\n",
    "    cloudsBitMask = 1 << 5\n",
    "\n",
    "    # Get the pixel QA band.\n",
    "    qa = image.select('pixel_qa')\n",
    "\n",
    "    # Both flags should be set to zero, indicating clear conditions.\n",
    "    mask = qa.bitwiseAnd(cloudShadowBitMask).eq(0) \\\n",
    "      .And(qa.bitwiseAnd(cloudsBitMask).eq(0))\n",
    "\n",
    "    # Return the masked image, scaled to reflectance, without the QA bands.\n",
    "    return image.updateMask(mask).divide(10000) \\\n",
    "                                .select(\"B[0-9]*\") \\\n",
    "                                .copyProperties(image, [\"system:time_start\"])\n",
    "\n",
    "### check the corresponding bands for Sentinel data\n",
    "def addNDVI(image): #!!! check the band information of Sentinel-2\n",
    "    ndvi = image.normalizedDifference(['B5', 'B4']).rename('NDVI').float()\n",
    "    return image.addBands(ndvi)\n",
    "\n",
    "### add constant and time band\n",
    "def addVariables(image):\n",
    "     ## Compute time in fractional years since the epoch.\n",
    "    date = ee.Date(image.get(\"system:time_start\"));\n",
    "    years = date.difference(ee.Date('1970-01-01'), 'year');\n",
    "    return image.addBands(ee.Image(years).rename('t').float()).addBands(ee.Image.constant(1));\n",
    "    "
   ]
  },
  {
   "cell_type": "markdown",
   "id": "c88189fa-8e88-477c-8f47-7e6c9d4d5d4b",
   "metadata": {},
   "source": [
    "### load image collection  \n",
    "change to Sentinel-2 if needed"
   ]
  },
  {
   "cell_type": "code",
   "execution_count": 51,
   "id": "f860b470-6a82-4181-b95f-84f49a56e95b",
   "metadata": {},
   "outputs": [
    {
     "name": "stdout",
     "output_type": "stream",
     "text": [
      "['B1', 'B2', 'B3', 'B4', 'B5', 'B6', 'B7', 'B10', 'B11', 'NDVI', 't', 'constant']\n"
     ]
    }
   ],
   "source": [
    "imageCollection = ee.ImageCollection(\"LANDSAT/LC08/C01/T1_SR\")\n",
    "\n",
    "## suppose we only input one year time series\n",
    "startdate = '2019-01-01'\n",
    "enddate = '2019-12-31'\n",
    "\n",
    "## filter the image collection by selected range, cloud masking, add NDVI, additional variables for harmonic analysis\n",
    "filteredLandsat = imageCollection.filterBounds(roi) \\\n",
    "              .filterDate(ee.Date(startdate), ee.Date(enddate)) \\\n",
    "              .map(maskL8sr).map(addNDVI).map(addVariables).map(reproject)\n",
    "print(filteredLandsat.first().bandNames().getInfo())"
   ]
  },
  {
   "cell_type": "markdown",
   "id": "7291f111-65c9-4bc4-97d1-8a1423189cbd",
   "metadata": {},
   "source": [
    "#### detrend the time series first and then calculate the harmonic index (phase, amplitude)"
   ]
  },
  {
   "cell_type": "code",
   "execution_count": 52,
   "id": "a0333813-edb8-43d9-b1fd-0b4a4c1cd2b6",
   "metadata": {},
   "outputs": [
    {
     "name": "stdout",
     "output_type": "stream",
     "text": [
      "{'type': 'Image', 'bands': [{'id': 'NDVI', 'data_type': {'type': 'PixelType', 'precision': 'double'}, 'crs': 'EPSG:4326', 'crs_transform': [1, 0, 0, 0, 1, 0]}], 'properties': {'system:time_start': 1552251198570, 'system:index': 'LC08_066013_20190310'}}\n"
     ]
    }
   ],
   "source": [
    "###---- estimate the linear trend over time -----\n",
    "independents = ee.List(['constant', 't']); \n",
    "dependent = ee.String('NDVI'); ## can be any vegetation indices\n",
    "trend = filteredLandsat.select(independents.add(dependent))\\\n",
    "              .reduce(ee.Reducer.linearRegression(independents.length(), 1));\n",
    "coefficients = trend.select('coefficients').arrayProject([0]).arrayFlatten([independents]);\n",
    "\n",
    "\n",
    "## remove the trend from the time series before harmonic analysis\n",
    "def detrendImageCollection(image):\n",
    "    return image.select(dependent).subtract(image.select(independents).multiply(coefficients).reduce('sum'))\\\n",
    "                                  .rename(dependent)\\\n",
    "                                  .copyProperties(image, [\"system:time_start\"])\n",
    "\n",
    "detrended = filteredLandsat.map(detrendImageCollection)\n",
    "print(detrended.first().getInfo())"
   ]
  },
  {
   "cell_type": "code",
   "execution_count": 53,
   "id": "d348dee2-9b59-4e4a-b31f-6ba1ec927484",
   "metadata": {},
   "outputs": [],
   "source": [
    "#### set the number of harmonics you want to extract, the first corresponds to the entire time series, the second identifies cycles within the half time. and so on...\n",
    "harmonics = 4; # if the length of the observation is one year, then 1 represents the annual cycle, 2 represents the half-year cycle.....\n",
    "harmonicFrequencies = ee.List.sequence(1, 4).getInfo(); \n",
    "\n",
    "def getNames (base, lst_freq) : \n",
    "    name_lst = []\n",
    "    for i in lst_freq:\n",
    "        name_lst.append(ee.String(base + str(i))) \n",
    "    return name_lst\n",
    "\n",
    "cosNames = getNames('cos_', harmonicFrequencies); \n",
    "sinNames = getNames('sin_', harmonicFrequencies); \n",
    "independents = ee.List(['constant','t']).cat(cosNames).cat(sinNames);"
   ]
  },
  {
   "cell_type": "code",
   "execution_count": 54,
   "id": "b6fa25c1-6c2a-4217-9f69-0158426385b3",
   "metadata": {},
   "outputs": [
    {
     "name": "stdout",
     "output_type": "stream",
     "text": [
      "['NDVI', 't', 'constant', 'cos_1', 'cos_2', 'cos_3', 'cos_4', 'sin_1', 'sin_2', 'sin_3', 'sin_4']\n"
     ]
    }
   ],
   "source": [
    "# # Function to add a constant band.\n",
    "def addConstant (image) :\n",
    "    return image.addBands(ee.Image(1));\n",
    "\n",
    "# # Function to add a time band.\n",
    "def addTime (image) :\n",
    "    date = ee.Date(image.get('system:time_start'));\n",
    "    years = date.difference(ee.Date('1970-01-01'), 'year'); \n",
    "    timeRadians = ee.Image(years.multiply(2 * math.pi)); \n",
    "    return image.addBands(timeRadians.rename('t').float());\n",
    "\n",
    "def addHarmonics (image) :\n",
    "    frequencies = ee.Image.constant(harmonicFrequencies)\n",
    "    time = ee.Image(image).select('t')\n",
    "    cosines = time.multiply(frequencies).cos().rename(cosNames) \n",
    "    sines = time.multiply(frequencies).sin().rename(sinNames) \n",
    "    return image.addBands(cosines).addBands(sines)\n",
    "\n",
    "# add band count for each image, used for removing images with no bands, i.e., count = 0\n",
    "def addCount(image):\n",
    "    return image.set('count', image.bandNames().length())\n",
    "\n",
    "harmonicLandsat = detrended.map(addTime).map(addConstant).map(addHarmonics).map(addCount);\n",
    "print(harmonicLandsat.first().bandNames().getInfo())\n",
    "\n",
    "### fit the harmonic models to the original observations, this might be helpful if we want a smoothed time series\n",
    "fittedHarmonic = harmonicLandsat.map(lambda image : image \\\n",
    "                                    .addBands(image.select(independents) \\\n",
    "                                    .multiply(harmonicTrendCoefficients) \\\n",
    "                                    .reduce('sum') \\\n",
    "                                    .rename('fitted')))\\\n",
    "                                .map(reproject);"
   ]
  },
  {
   "cell_type": "code",
   "execution_count": 55,
   "id": "29af72d6-4ad1-4515-900a-6151bebf4b50",
   "metadata": {},
   "outputs": [],
   "source": [
    "# fit the harmonic trend\n",
    "harmonicTrend = fittedHarmonic.select(independents.add(dependent))\\   # incase the original Landsat has some gaps, we use the filtered curve for harmonic analysis\n",
    "                      .reduce(ee.Reducer.linearRegression(independents.length(), 1));\n",
    "\n",
    "# extract the coefficients for calculating the harmonic indices\n",
    "harmonicTrendCoefficients = harmonicTrend.select('coefficients').arrayProject([0])\\\n",
    "                              .arrayFlatten([independents]);"
   ]
  },
  {
   "cell_type": "code",
   "execution_count": 44,
   "id": "e69daa7b-89d6-4e82-b143-0257e4ecb866",
   "metadata": {
    "scrolled": true
   },
   "outputs": [],
   "source": [
    "# # extract the first, second harmonic variables\n",
    "# phase_1 = harmonicTrendCoefficients.select('cos_1')\\\n",
    "#                 .atan2(harmonicTrendCoefficients.select('sin_1'));\n",
    "# amplitude_1 = harmonicTrendCoefficients.select('cos_1')\\\n",
    "#                 .hypot(harmonicTrendCoefficients.select('sin_1'));"
   ]
  },
  {
   "cell_type": "markdown",
   "id": "dbfb1000-58dc-4866-85a6-d73c6de3bea2",
   "metadata": {},
   "source": [
    "### create a pseudo image containing all harmonic indices as band for export"
   ]
  },
  {
   "cell_type": "code",
   "execution_count": 56,
   "id": "f17c1e25-fd79-4d9d-b4bb-dde62bdd27dd",
   "metadata": {},
   "outputs": [],
   "source": [
    "list = []\n",
    "for i in range(4): \n",
    "    phase = harmonicTrendCoefficients.select('cos_'+str(i+1))\\\n",
    "                .atan2(harmonicTrendCoefficients.select('sin_'+str(i+1))).rename('phase_'+str(i+1));\n",
    "    amplitude = harmonicTrendCoefficients.select('cos_'+str(i+1))\\\n",
    "                    .hypot(harmonicTrendCoefficients.select('sin_'+str(i+1))).rename('amplitude_'+str(i+1));\n",
    "    list.append(phase)\n",
    "    list.append(amplitude)\n",
    "\n",
    "harmonicIDX = ee.ImageCollection(list)\n",
    "harmonicIDX = harmonicIDX.toBands() # convert the image collection to different bands of same image\n",
    "\n",
    "# print(phase.getInfo())\n",
    "# print(harmonicIDX.bandNames().getInfo())"
   ]
  },
  {
   "cell_type": "markdown",
   "id": "fb24ea66-d553-46a8-9b15-a04e8d5deb0a",
   "metadata": {},
   "source": [
    "### sample points from image collection"
   ]
  },
  {
   "cell_type": "code",
   "execution_count": 57,
   "id": "308afd0c-e12b-4fba-ac6a-fde36258f80a",
   "metadata": {},
   "outputs": [],
   "source": [
    "# geemap.extract_values_to_points(in_fc, landsat7, os.path.join(outpath, 'landsat.csv'))\n",
    "\n",
    "# sample sentinel 2 imagery using our observation points\n",
    "def sample_raster(image, fcollection, scale=10, projection='EPSG:4326', geometries=False):\n",
    "    fc = image.sampleRegions(collection = fcollection,\n",
    "                             scale = scale,\n",
    "                             projection = projection,\n",
    "                             geometries = geometries)\n",
    "    return fc\n",
    "\n",
    "def fc_to_df(fc, idx_col):\n",
    "    # Convert a FeatureCollection into a pandas DataFrame\n",
    "    # Features is a list of dict with the output\n",
    "    features = fc.getInfo()['features']\n",
    "\n",
    "    dictarr = []\n",
    "\n",
    "    for f in features:\n",
    "        attr = f['properties']\n",
    "        dictarr.append(attr)\n",
    "\n",
    "    df = pd.DataFrame(dictarr)\n",
    "    df.set_index(idx_col, inplace=True)\n",
    "    return df"
   ]
  },
  {
   "cell_type": "code",
   "execution_count": 58,
   "id": "7380160c-b7c5-445e-ba70-dbeeb4ac50d7",
   "metadata": {},
   "outputs": [],
   "source": [
    "# get bands at each point\n",
    "harmonicIDX_purePoints = sample_raster(harmonicIDX, purePoints)\n",
    "harmonicIDX_purePoints_df = fc_to_df(harmonicIDX_purePoints, 'id')\n",
    "harmonicIDX_randPoints = sample_raster(harmonicIDX, randPoints)\n",
    "harmonicIDX_randPoints_df = fc_to_df(harmonicIDX_randPoints, 'id')"
   ]
  },
  {
   "cell_type": "code",
   "execution_count": 59,
   "id": "3c347062-84d1-4a17-86e0-9bde97df4127",
   "metadata": {},
   "outputs": [
    {
     "data": {
      "text/html": [
       "<div>\n",
       "<style scoped>\n",
       "    .dataframe tbody tr th:only-of-type {\n",
       "        vertical-align: middle;\n",
       "    }\n",
       "\n",
       "    .dataframe tbody tr th {\n",
       "        vertical-align: top;\n",
       "    }\n",
       "\n",
       "    .dataframe thead th {\n",
       "        text-align: right;\n",
       "    }\n",
       "</style>\n",
       "<table border=\"1\" class=\"dataframe\">\n",
       "  <thead>\n",
       "    <tr style=\"text-align: right;\">\n",
       "      <th></th>\n",
       "      <th>0_phase_1</th>\n",
       "      <th>1_amplitude_1</th>\n",
       "      <th>2_phase_2</th>\n",
       "      <th>3_amplitude_2</th>\n",
       "      <th>4_phase_3</th>\n",
       "      <th>5_amplitude_3</th>\n",
       "      <th>6_phase_4</th>\n",
       "      <th>7_amplitude_4</th>\n",
       "    </tr>\n",
       "    <tr>\n",
       "      <th>id</th>\n",
       "      <th></th>\n",
       "      <th></th>\n",
       "      <th></th>\n",
       "      <th></th>\n",
       "      <th></th>\n",
       "      <th></th>\n",
       "      <th></th>\n",
       "      <th></th>\n",
       "    </tr>\n",
       "  </thead>\n",
       "  <tbody>\n",
       "    <tr>\n",
       "      <th>103</th>\n",
       "      <td>-1.575566</td>\n",
       "      <td>229.738605</td>\n",
       "      <td>-1.582822</td>\n",
       "      <td>72.107721</td>\n",
       "      <td>-1.598657</td>\n",
       "      <td>20.338515</td>\n",
       "      <td>-1.611502</td>\n",
       "      <td>3.201090</td>\n",
       "    </tr>\n",
       "    <tr>\n",
       "      <th>104</th>\n",
       "      <td>1.440207</td>\n",
       "      <td>1032.817935</td>\n",
       "      <td>1.313311</td>\n",
       "      <td>311.456917</td>\n",
       "      <td>1.193688</td>\n",
       "      <td>82.082035</td>\n",
       "      <td>1.102005</td>\n",
       "      <td>12.734946</td>\n",
       "    </tr>\n",
       "    <tr>\n",
       "      <th>105</th>\n",
       "      <td>-1.968200</td>\n",
       "      <td>177.271390</td>\n",
       "      <td>-2.397047</td>\n",
       "      <td>56.790156</td>\n",
       "      <td>-2.847310</td>\n",
       "      <td>15.696199</td>\n",
       "      <td>3.019477</td>\n",
       "      <td>2.383692</td>\n",
       "    </tr>\n",
       "    <tr>\n",
       "      <th>106</th>\n",
       "      <td>-2.056948</td>\n",
       "      <td>185.649725</td>\n",
       "      <td>-2.543231</td>\n",
       "      <td>55.475470</td>\n",
       "      <td>-3.009750</td>\n",
       "      <td>13.990364</td>\n",
       "      <td>2.896202</td>\n",
       "      <td>1.915779</td>\n",
       "    </tr>\n",
       "    <tr>\n",
       "      <th>111</th>\n",
       "      <td>1.833212</td>\n",
       "      <td>2226.059595</td>\n",
       "      <td>2.107487</td>\n",
       "      <td>669.814892</td>\n",
       "      <td>2.398105</td>\n",
       "      <td>172.668913</td>\n",
       "      <td>2.692681</td>\n",
       "      <td>24.605748</td>\n",
       "    </tr>\n",
       "  </tbody>\n",
       "</table>\n",
       "</div>"
      ],
      "text/plain": [
       "     0_phase_1  1_amplitude_1  2_phase_2  3_amplitude_2  4_phase_3  \\\n",
       "id                                                                   \n",
       "103  -1.575566     229.738605  -1.582822      72.107721  -1.598657   \n",
       "104   1.440207    1032.817935   1.313311     311.456917   1.193688   \n",
       "105  -1.968200     177.271390  -2.397047      56.790156  -2.847310   \n",
       "106  -2.056948     185.649725  -2.543231      55.475470  -3.009750   \n",
       "111   1.833212    2226.059595   2.107487     669.814892   2.398105   \n",
       "\n",
       "     5_amplitude_3  6_phase_4  7_amplitude_4  \n",
       "id                                            \n",
       "103      20.338515  -1.611502       3.201090  \n",
       "104      82.082035   1.102005      12.734946  \n",
       "105      15.696199   3.019477       2.383692  \n",
       "106      13.990364   2.896202       1.915779  \n",
       "111     172.668913   2.692681      24.605748  "
      ]
     },
     "execution_count": 59,
     "metadata": {},
     "output_type": "execute_result"
    }
   ],
   "source": [
    "harmonicIDX_purePoints_df.head()"
   ]
  },
  {
   "cell_type": "code",
   "execution_count": 63,
   "id": "126de7e5-838f-48f6-b4f8-da43e3e98b57",
   "metadata": {},
   "outputs": [],
   "source": [
    "## extract the perc\n",
    "outpath = '/mnt/poseidon/remotesensing/arctic/data/training/testData_unmixingRegression'\n",
    "harmonicIDX_purePoints_df.to_csv(f'{outpath}/macandar2017_purePFT_year2019_harmonic_v01_filtered.csv')\n",
    "harmonicIDX_randPoints_df.to_csv(f'{outpath}/macandar2017_randomsample_year2019_harmonic_v01_filtered.csv')"
   ]
  },
  {
   "cell_type": "code",
   "execution_count": null,
   "id": "113124a8-7dc8-40d9-9dc4-79c3a6a59b62",
   "metadata": {},
   "outputs": [],
   "source": [
    "### export the harmonic variables for the roi\n",
    "# geemap.ee_export_image(phase_1, \n",
    "#                        result_path+'L8NDVI_phase_1.tif', scale=30,crs=proj,\n",
    "#                        region=roi, file_per_band=False)"
   ]
  }
 ],
 "metadata": {
  "kernelspec": {
   "display_name": "Python 3 (ipykernel)",
   "language": "python",
   "name": "python3"
  },
  "language_info": {
   "codemirror_mode": {
    "name": "ipython",
    "version": 3
   },
   "file_extension": ".py",
   "mimetype": "text/x-python",
   "name": "python",
   "nbconvert_exporter": "python",
   "pygments_lexer": "ipython3",
   "version": "3.10.5"
  }
 },
 "nbformat": 4,
 "nbformat_minor": 5
}
