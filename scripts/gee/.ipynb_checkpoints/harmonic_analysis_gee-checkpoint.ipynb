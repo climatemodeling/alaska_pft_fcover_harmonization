{
 "cells": [
  {
   "cell_type": "markdown",
   "id": "b668ff60-18a8-4201-8702-125af827316f",
   "metadata": {},
   "source": [
    "### Harmonic analysis to extract the seasonality of NDVI time series\n",
    "\n",
    "!!! to be modified !!!!\n",
    "  \n",
    "Documentation:   \n",
    "https://developers.google.com/earth-engine/tutorials/community/time-series-modeling;   https://docs.google.com/document/d/1mNIRB90jwLuASO1JYas1kuOXCLbOoy1Z4NlV1qIXM10/edit  \n",
    "\n",
    "Test data: Landsat; test band: NDVI  \n",
    "\n",
    "for Sentinel, check:  \n",
    "https://medium.com/@moraesd90/creating-monthly-ndvi-composites-sentinel-2-on-google-earth-engine-a5c2d49bc9ca"
   ]
  },
  {
   "cell_type": "code",
   "execution_count": 2,
   "id": "bf26bd88-7a6e-4dc0-9f96-0e9af375cc38",
   "metadata": {},
   "outputs": [],
   "source": [
    "import os\n",
    "import os.path as osp\n",
    "import ee \n",
    "ee.Initialize()\n",
    "import geemap\n",
    "import math\n",
    "import numpy as np\n",
    "import geopandas as gpd"
   ]
  },
  {
   "cell_type": "markdown",
   "id": "6f17d02f-9b82-4e10-8ad2-b90ab81fd303",
   "metadata": {},
   "source": [
    "### change the working directory and result path to store all the outputs"
   ]
  },
  {
   "cell_type": "code",
   "execution_count": 3,
   "id": "ad2e0a14-32b7-40f2-b142-24ac164651d9",
   "metadata": {},
   "outputs": [],
   "source": [
    "cwd = '/mnt/poseidon/remotesensing/arctic/data/training/testData_unmixingRegression/'\n",
    "os.chdir(cwd)\n",
    "os.getcwd\n",
    "    \n",
    "purePFT = cwd+'purePFT_merged_fCover_Macander2017_geometry.geojson'\n",
    "randPFT = cwd+'randomPts_fCover_10kmDist_Macander2017_geometry.geojson'"
   ]
  },
  {
   "cell_type": "markdown",
   "id": "e9f1cd4d-a328-4d87-b136-f3bfb1496b94",
   "metadata": {},
   "source": [
    "### import region of interest (roi)"
   ]
  },
  {
   "cell_type": "code",
   "execution_count": 4,
   "id": "31d47aa9-7ecb-4bf4-91ed-0d3b60716256",
   "metadata": {},
   "outputs": [],
   "source": [
    "pureGJ = gpd.read_file(purePFT).reset_index(drop=True)\n",
    "randGJ = gpd.read_file(randPFT).reset_index(drop=True)\n",
    "\n",
    "pureGJ_simple = pureGJ[['id', 'geometry']].set_index('id')\n",
    "randGJ_simple = randGJ[['id', 'geometry']].set_index('id')\n",
    "\n",
    "# remove null geometries so GEE doesn't freak out\n",
    "pureGJ_simple = pureGJ_simple[~pureGJ_simple['geometry'].isna()]\n",
    "randGJ_simple = randGJ_simple[~randGJ_simple['geometry'].isna()]\n",
    "\n",
    "purePoints = geemap.gdf_to_ee(pureGJ_simple)\n",
    "randPoints = geemap.gdf_to_ee(randGJ_simple)"
   ]
  },
  {
   "cell_type": "code",
   "execution_count": 70,
   "id": "80ff913c-0f0e-448a-91fd-003a00ecbd45",
   "metadata": {},
   "outputs": [
    {
     "data": {
      "application/vnd.jupyter.widget-view+json": {
       "model_id": "58261f9073694170ab38feda0d6d8ee9",
       "version_major": 2,
       "version_minor": 0
      },
      "text/plain": [
       "Map(bottom=4031.0, center=[69.818, -155.6], controls=(WidgetControl(options=['position', 'transparent_bg'], wi…"
      ]
     },
     "execution_count": 70,
     "metadata": {},
     "output_type": "execute_result"
    }
   ],
   "source": [
    "# create a roi centered at center\n",
    "coi = ee.Geometry.Point([-155.6,69.818])\n",
    "roi = coi.buffer(ee.Number(9000000000).sqrt().divide(2), 1).bounds()\n",
    "\n",
    "# visualize watersheds and poi\n",
    "Map.centerObject(coi, 6);\n",
    "# Map = geemap.Map(basemap='HYBRID')\n",
    "Map.addLayer(purePoints, {}, 'observation_points')\n",
    "Map.addLayer(randPoints, {'color': 'red'}, 'rand_observation_points')\n",
    "Map.addLayer(roi, {}, 'roi')\n",
    "Map"
   ]
  },
  {
   "cell_type": "markdown",
   "id": "06e5bcfb-ea69-4b02-a37c-2ae40dbedda7",
   "metadata": {},
   "source": [
    "### required functions  "
   ]
  },
  {
   "cell_type": "markdown",
   "id": "1d0d7096-f332-4243-ac3a-d8fa646c814b",
   "metadata": {},
   "source": [
    "### --- Sentinel-2 surface reflectance ----"
   ]
  },
  {
   "cell_type": "code",
   "execution_count": 79,
   "id": "e1c143e4-faa2-4270-a2e9-123db0010058",
   "metadata": {},
   "outputs": [],
   "source": [
    "# # cloud filter params\n",
    "# CLOUD_FILTER = 90\n",
    "# CLD_PRB_THRESH = 50\n",
    "# NIR_DRK_THRESH = 0.15\n",
    "# CLD_PRJ_DIST = 1\n",
    "# BUFFER = 10\n",
    "# BANDS = ['B1', 'B2', 'B3', 'B4', 'B5', 'B6', 'B7', 'B8', 'B8A', 'B9', 'B11', 'B12']\n",
    "# start_date = '2018-01-01'\n",
    "# end_date = '2018-12-31'\n",
    "\n",
    "# def get_s2_sr_cld_col(aoi, start_date, end_date):\n",
    "#     # Import and filter S2 SR.\n",
    "#     s2_sr_col = (ee.ImageCollection('COPERNICUS/S2_SR_HARMONIZED')\n",
    "#         .filterBounds(aoi)\n",
    "#         .filterDate(start_date, end_date)\n",
    "#         .filter(ee.Filter.lte('CLOUDY_PIXEL_PERCENTAGE', CLOUD_FILTER)))\n",
    "\n",
    "#     # Import and filter s2cloudless.\n",
    "#     s2_cloudless_col = (ee.ImageCollection('COPERNICUS/S2_CLOUD_PROBABILITY')\n",
    "#         .filterBounds(aoi)\n",
    "#         .filterDate(start_date, end_date))\n",
    "\n",
    "#     # Join the filtered s2cloudless collection to the SR collection by the 'system:index' property.\n",
    "#     return ee.ImageCollection(ee.Join.saveFirst('s2cloudless').apply(\n",
    "#         primary = s2_sr_col,\n",
    "#         secondary = s2_cloudless_col,\n",
    "#         condition = ee.Filter.equals(\n",
    "#             leftField = 'system:index',\n",
    "#             rightField = 'system:index')\n",
    "#     ))\n",
    "\n",
    "# def add_cloud_bands(img):\n",
    "#     # Get s2cloudless image, subset the probability band.\n",
    "#     cld_prb = ee.Image(img.get('s2cloudless')).select('probability')\n",
    "\n",
    "#     # Condition s2cloudless by the probability threshold value.\n",
    "#     is_cloud = cld_prb.gt(CLD_PRB_THRESH).rename('clouds')\n",
    "\n",
    "#     # Add the cloud probability layer and cloud mask as image bands.\n",
    "#     return img.addBands(ee.Image([cld_prb, is_cloud]))\n",
    "\n",
    "\n",
    "# def add_shadow_bands(img):\n",
    "#     # Identify water pixels from the SCL band.\n",
    "#     not_water = img.select('SCL').neq(6)\n",
    "\n",
    "#     # Identify dark NIR pixels that are not water (potential cloud shadow pixels).\n",
    "#     SR_BAND_SCALE = 1e4\n",
    "#     dark_pixels = img.select('B8').lt(NIR_DRK_THRESH*SR_BAND_SCALE).multiply(not_water).rename('dark_pixels')\n",
    "\n",
    "#     # Determine the direction to project cloud shadow from clouds (assumes UTM projection).\n",
    "#     shadow_azimuth = ee.Number(90).subtract(ee.Number(img.get('MEAN_SOLAR_AZIMUTH_ANGLE')));\n",
    "\n",
    "#     # Project shadows from clouds for the distance specified by the CLD_PRJ_DIST input.\n",
    "#     cld_proj = (img.select('clouds').directionalDistanceTransform(shadow_azimuth, CLD_PRJ_DIST*10)\n",
    "#         .reproject(**{'crs': img.select(0).projection(), 'scale': 100})\n",
    "#         .select('distance')\n",
    "#         .mask()\n",
    "#         .rename('cloud_transform'))\n",
    "\n",
    "#     # Identify the intersection of dark pixels with cloud shadow projection.\n",
    "#     shadows = cld_proj.multiply(dark_pixels).rename('shadows')\n",
    "\n",
    "#     # Add dark pixels, cloud projection, and identified shadows as image bands.\n",
    "#     return img.addBands(ee.Image([dark_pixels, cld_proj, shadows]))\n",
    "\n",
    "\n",
    "# def add_cld_shdw_mask(img):\n",
    "#     # Add cloud component bands.\n",
    "#     img_cloud = add_cloud_bands(img)\n",
    "\n",
    "#     # Add cloud shadow component bands.\n",
    "#     img_cloud_shadow = add_shadow_bands(img_cloud)\n",
    "\n",
    "#     # Combine cloud and shadow mask, set cloud and shadow as value 1, else 0.\n",
    "#     is_cld_shdw = img_cloud_shadow.select('clouds').add(img_cloud_shadow.select('shadows')).gt(0)\n",
    "\n",
    "#     # Remove small cloud-shadow patches and dilate remaining pixels by BUFFER input.\n",
    "#     # 20 m scale is for speed, and assumes clouds don't require 10 m precision.\n",
    "#     is_cld_shdw = (is_cld_shdw.focalMin(2).focalMax(BUFFER*2/20)\n",
    "#         .reproject(**{'crs': img.select([0]).projection(), 'scale': 20})\n",
    "#         .rename('cloudmask'))\n",
    "\n",
    "#     # Add the final cloud-shadow mask to the image.\n",
    "#     return img_cloud_shadow.addBands(is_cld_shdw)\n",
    "\n",
    "\n",
    "# def apply_cld_shdw_mask(img):\n",
    "#     # Subset the cloudmask band and invert it so clouds/shadow are 0, else 1.\n",
    "#     not_cld_shdw = img.select('cloudmask').Not()\n",
    "\n",
    "#     # Subset reflectance bands and update their masks, return the result.\n",
    "#     #return img.select('B*').updateMask(not_cld_shdw)\n",
    "#     return img.updateMask(not_cld_shdw).select(BANDS)"
   ]
  },
  {
   "cell_type": "code",
   "execution_count": 107,
   "id": "d74e5ed2-f9e6-40d2-9013-755481467137",
   "metadata": {},
   "outputs": [],
   "source": [
    "# Function to cloud mask from the pixel_qa band of Landsat 8 SR data.\n",
    "proj = ee.Projection('EPSG:4326')\n",
    "def reproject(image):\n",
    "    return image.reproject(crs=proj)  \n",
    "    \n",
    "def maskS2clouds(image):\n",
    "    qa = image.select('QA60')\n",
    "\n",
    "    # Bits 10 and 11 are clouds and cirrus, respectively.\n",
    "    cloudBitMask = math.pow(2, 10)\n",
    "    cirrusBitMask = math.pow(2, 11)\n",
    "\n",
    "    # Both flags should be set to zero, indicating clear conditions.\n",
    "    mask = qa.bitwiseAnd(cloudBitMask).eq(0).And(qa.bitwiseAnd(cirrusBitMask).eq(0))\n",
    "\n",
    "    # Return the masked and scaled data.\n",
    "    return image.updateMask(mask).divide(10000).copyProperties(image, [\"system:time_start\"])\n",
    "\n",
    "### check the corresponding bands for Sentinel data\n",
    "def addNDVI(image): #!!! check the band information of Sentinel-2\n",
    "    ndvi = image.normalizedDifference(['B8', 'B4']).rename('NDVI').float()\n",
    "    return image.addBands(ndvi)\n",
    "\n",
    "### add constant and time band\n",
    "def addVariables(image):\n",
    "     ## Compute time in fractional years since the epoch.\n",
    "    date = ee.Date(image.get(\"system:time_start\"));\n",
    "    years = date.difference(ee.Date('1970-01-01'), 'year');\n",
    "    return image.addBands(ee.Image(years).rename('t').float()).addBands(ee.Image.constant(1));"
   ]
  },
  {
   "cell_type": "markdown",
   "id": "c88189fa-8e88-477c-8f47-7e6c9d4d5d4b",
   "metadata": {},
   "source": [
    "### load image collection  \n",
    "change to Sentinel-2 if needed"
   ]
  },
  {
   "cell_type": "code",
   "execution_count": 116,
   "id": "f860b470-6a82-4181-b95f-84f49a56e95b",
   "metadata": {},
   "outputs": [
    {
     "name": "stdout",
     "output_type": "stream",
     "text": [
      "1614\n",
      "['B1', 'B2', 'B3', 'B4', 'B5', 'B6', 'B7', 'B8', 'B8A', 'B9', 'B11', 'B12', 'AOT', 'WVP', 'SCL', 'TCI_R', 'TCI_G', 'TCI_B', 'MSK_CLDPRB', 'MSK_SNWPRB', 'QA10', 'QA20', 'QA60', 'NDVI', 't', 'constant']\n"
     ]
    }
   ],
   "source": [
    "## suppose we only input one year time series\n",
    "S2 = ee.ImageCollection('COPERNICUS/S2_SR_HARMONIZED') \\\n",
    "                        .filter(ee.Filter.calendarRange(2018,2019,'year'))\\\n",
    "                        .filter(ee.Filter.calendarRange(1,12,'month'))\\\n",
    "                        .filterBounds(roi) \\\n",
    "                        .map(maskS2clouds).map(addNDVI).map(addVariables).map(reproject)\n",
    "\n",
    "print(S2.size().getInfo())\n",
    "print(S2.first().bandNames().getInfo())\n",
    "\n",
    "## filter the image collection by selected range, cloud masking, add NDVI, additional variables for harmonic analysis"
   ]
  },
  {
   "cell_type": "markdown",
   "id": "7291f111-65c9-4bc4-97d1-8a1423189cbd",
   "metadata": {},
   "source": [
    "#### detrend the time series first and then calculate the harmonic index (phase, amplitude)"
   ]
  },
  {
   "cell_type": "code",
   "execution_count": 117,
   "id": "a0333813-edb8-43d9-b1fd-0b4a4c1cd2b6",
   "metadata": {},
   "outputs": [
    {
     "name": "stdout",
     "output_type": "stream",
     "text": [
      "{'type': 'Image', 'bands': [{'id': 'NDVI', 'data_type': {'type': 'PixelType', 'precision': 'double'}, 'crs': 'EPSG:4326', 'crs_transform': [1, 0, 0, 0, 1, 0]}], 'properties': {'system:time_start': 1550354772000, 'system:index': '20190216T220601_20190216T220559_T04WFC'}}\n"
     ]
    }
   ],
   "source": [
    "###---- estimate the linear trend over time -----\n",
    "independents = ee.List(['constant', 't']); \n",
    "dependent = ee.String('NDVI'); ## can be any vegetation indices\n",
    "trend = S2.select(independents.add(dependent))\\\n",
    "              .reduce(ee.Reducer.linearRegression(independents.length(), 1));\n",
    "coefficients = trend.select('coefficients').arrayProject([0]).arrayFlatten([independents]);\n",
    "\n",
    "\n",
    "## remove the trend from the time series before harmonic analysis\n",
    "def detrendImageCollection(image):\n",
    "    return image.select(dependent).subtract(image.select(independents).multiply(coefficients).reduce('sum'))\\\n",
    "                                  .rename(dependent)\\\n",
    "                                  .copyProperties(image, [\"system:time_start\"])\n",
    "\n",
    "detrended = S2.map(detrendImageCollection)\n",
    "print(detrended.first().getInfo())"
   ]
  },
  {
   "cell_type": "code",
   "execution_count": 118,
   "id": "d348dee2-9b59-4e4a-b31f-6ba1ec927484",
   "metadata": {},
   "outputs": [],
   "source": [
    "#### set the number of harmonics you want to extract, the first corresponds to the entire time series, the second identifies cycles within the half time. and so on...\n",
    "harmonics = 2; # if the length of the observation is one year, then 1 represents the annual cycle, 2 represents the half-year cycle.....\n",
    "harmonicFrequencies = ee.List.sequence(1, 2).getInfo(); \n",
    "\n",
    "def getNames (base, lst_freq) : \n",
    "    name_lst = []\n",
    "    for i in lst_freq:\n",
    "        name_lst.append(ee.String(base + str(i))) \n",
    "    return name_lst\n",
    "\n",
    "cosNames = getNames('cos_', harmonicFrequencies); \n",
    "sinNames = getNames('sin_', harmonicFrequencies); \n",
    "independents = ee.List(['constant','t']).cat(cosNames).cat(sinNames);\n"
   ]
  },
  {
   "cell_type": "code",
   "execution_count": 119,
   "id": "b6fa25c1-6c2a-4217-9f69-0158426385b3",
   "metadata": {},
   "outputs": [
    {
     "name": "stdout",
     "output_type": "stream",
     "text": [
      "['NDVI', 't', 'constant', 'cos_1', 'cos_2', 'sin_1', 'sin_2']\n"
     ]
    }
   ],
   "source": [
    "# # Function to add a constant band.\n",
    "def addConstant (image) :\n",
    "    return image.addBands(ee.Image(1));\n",
    "\n",
    "# # Function to add a time band.\n",
    "def addTime (image) :\n",
    "    date = ee.Date(image.get('system:time_start'));\n",
    "    years = date.difference(ee.Date('1970-01-01'), 'year'); \n",
    "    timeRadians = ee.Image(years.multiply(2 * math.pi)); \n",
    "    return image.addBands(timeRadians.rename('t').float());\n",
    "\n",
    "def addHarmonics (image) :\n",
    "    frequencies = ee.Image.constant(harmonicFrequencies)\n",
    "    time = ee.Image(image).select('t')\n",
    "    cosines = time.multiply(frequencies).cos().rename(cosNames) \n",
    "    sines = time.multiply(frequencies).sin().rename(sinNames) \n",
    "    return image.addBands(cosines).addBands(sines)\n",
    "\n",
    "# add band count for each image, used for removing images with no bands, i.e., count = 0\n",
    "def addCount(image):\n",
    "    return image.set('count', image.bandNames().length())\n",
    "\n",
    "harmonicLandsat = detrended.map(addTime).map(addConstant).map(addHarmonics).map(addCount);\n",
    "print(harmonicLandsat.first().bandNames().getInfo())\n",
    "\n",
    "### fit the harmonic models to the original observations, this might be helpful if we want a smoothed time series\n",
    "# fittedHarmonic = harmonicLandsat.map(lambda image : image \\\n",
    "#                                     .addBands(image.select(independents) \\\n",
    "#                                     .multiply(harmonicTrendCoefficients) \\\n",
    "#                                     .reduce('sum') \\\n",
    "#                                     .rename('fitted')))\\\n",
    "                                # .map(reproject);"
   ]
  },
  {
   "cell_type": "code",
   "execution_count": 120,
   "id": "29af72d6-4ad1-4515-900a-6151bebf4b50",
   "metadata": {},
   "outputs": [],
   "source": [
    "# fit the harmonic trend\n",
    "harmonicTrend = harmonicLandsat.select(independents.add(dependent))\\\n",
    "                      .reduce(ee.Reducer.linearRegression(independents.length(), 1));\n",
    "\n",
    "# extract the coefficients for calculating the harmonic indices\n",
    "harmonicTrendCoefficients = harmonicTrend.select('coefficients').arrayProject([0])\\\n",
    "                              .arrayFlatten([independents]);"
   ]
  },
  {
   "cell_type": "code",
   "execution_count": 121,
   "id": "e69daa7b-89d6-4e82-b143-0257e4ecb866",
   "metadata": {
    "scrolled": true
   },
   "outputs": [],
   "source": [
    "# extract the first, second harmonic variables\n",
    "phase_1 = harmonicTrendCoefficients.select('cos_1')\\\n",
    "                .atan2(harmonicTrendCoefficients.select('sin_1'));\n",
    "amplitude_1 = harmonicTrendCoefficients.select('cos_1')\\\n",
    "                .hypot(harmonicTrendCoefficients.select('sin_1'));\n",
    "\n",
    "phase_2 = harmonicTrendCoefficients.select('cos_2')\\\n",
    "            .atan2(harmonicTrendCoefficients.select('sin_2'));\n",
    "amplitude_2 = harmonicTrendCoefficients.select('cos_2')\\\n",
    "            .hypot(harmonicTrendCoefficients.select('sin_2'));"
   ]
  },
  {
   "cell_type": "code",
   "execution_count": null,
   "id": "3614ebf1-ffb2-424f-ac26-2dcfb2696cc9",
   "metadata": {},
   "outputs": [],
   "source": [
    "### export the harmonic variables for the roi\n",
    "# geemap.ee_export_image(phase_1, \n",
    "#                        result_path+'L8NDVI_phase_1.tif', scale=30,crs=proj,\n",
    "#                        region=roi, file_per_band=False)"
   ]
  },
  {
   "cell_type": "code",
   "execution_count": 125,
   "id": "0ad28eeb-c9d1-4bcb-b276-ed2aed820c71",
   "metadata": {},
   "outputs": [],
   "source": [
    "# visualize the calculated harmonic variables\n",
    "# Map.addLayer(amplitude_1.clip(roi),{},'amplitude_1')\n",
    "# Map.addLayer(phase_1.clip(roi),{},'phase_1')\n",
    "# Map.addLayerControl() \n",
    "# # Map"
   ]
  },
  {
   "cell_type": "code",
   "execution_count": 126,
   "id": "a1a7bfda-a7d5-4dc3-b888-0865adfb68b6",
   "metadata": {},
   "outputs": [],
   "source": [
    "# sample sentinel 2 imagery using our observation points\n",
    "def sample_raster(image, fcollection, scale=10, projection='EPSG:4326', geometries=False):\n",
    "    fc = image.sampleRegions(collection = fcollection,\n",
    "                             scale = scale,\n",
    "                             projection = projection,\n",
    "                             geometries = geometries)\n",
    "    return fc\n",
    "\n",
    "def fc_to_df(fc, idx_col):\n",
    "    # Convert a FeatureCollection into a pandas DataFrame\n",
    "    # Features is a list of dict with the output\n",
    "    features = fc.getInfo()['features']\n",
    "\n",
    "    dictarr = []\n",
    "\n",
    "    for f in features:\n",
    "        attr = f['properties']\n",
    "        dictarr.append(attr)\n",
    "\n",
    "    df = pd.DataFrame(dictarr)\n",
    "    df.set_index(idx_col, inplace=True)\n",
    "    return df\n"
   ]
  },
  {
   "cell_type": "code",
   "execution_count": 127,
   "id": "e4ed2f48-2323-44a2-8dbd-61d7c5fc15ea",
   "metadata": {},
   "outputs": [
    {
     "ename": "EEException",
     "evalue": "User memory limit exceeded.",
     "output_type": "error",
     "traceback": [
      "\u001b[0;31m---------------------------------------------------------------------------\u001b[0m",
      "\u001b[0;31mHttpError\u001b[0m                                 Traceback (most recent call last)",
      "File \u001b[0;32m~/anaconda3/envs/py310/lib/python3.10/site-packages/ee/data.py:352\u001b[0m, in \u001b[0;36m_execute_cloud_call\u001b[0;34m(call, num_retries)\u001b[0m\n\u001b[1;32m    351\u001b[0m \u001b[38;5;28;01mtry\u001b[39;00m:\n\u001b[0;32m--> 352\u001b[0m   \u001b[38;5;28;01mreturn\u001b[39;00m \u001b[43mcall\u001b[49m\u001b[38;5;241;43m.\u001b[39;49m\u001b[43mexecute\u001b[49m\u001b[43m(\u001b[49m\u001b[43mnum_retries\u001b[49m\u001b[38;5;241;43m=\u001b[39;49m\u001b[43mnum_retries\u001b[49m\u001b[43m)\u001b[49m\n\u001b[1;32m    353\u001b[0m \u001b[38;5;28;01mexcept\u001b[39;00m googleapiclient\u001b[38;5;241m.\u001b[39merrors\u001b[38;5;241m.\u001b[39mHttpError \u001b[38;5;28;01mas\u001b[39;00m e:\n",
      "File \u001b[0;32m~/anaconda3/envs/py310/lib/python3.10/site-packages/googleapiclient/_helpers.py:130\u001b[0m, in \u001b[0;36mpositional.<locals>.positional_decorator.<locals>.positional_wrapper\u001b[0;34m(*args, **kwargs)\u001b[0m\n\u001b[1;32m    129\u001b[0m         logger\u001b[38;5;241m.\u001b[39mwarning(message)\n\u001b[0;32m--> 130\u001b[0m \u001b[38;5;28;01mreturn\u001b[39;00m \u001b[43mwrapped\u001b[49m\u001b[43m(\u001b[49m\u001b[38;5;241;43m*\u001b[39;49m\u001b[43margs\u001b[49m\u001b[43m,\u001b[49m\u001b[43m \u001b[49m\u001b[38;5;241;43m*\u001b[39;49m\u001b[38;5;241;43m*\u001b[39;49m\u001b[43mkwargs\u001b[49m\u001b[43m)\u001b[49m\n",
      "File \u001b[0;32m~/anaconda3/envs/py310/lib/python3.10/site-packages/googleapiclient/http.py:938\u001b[0m, in \u001b[0;36mHttpRequest.execute\u001b[0;34m(self, http, num_retries)\u001b[0m\n\u001b[1;32m    937\u001b[0m \u001b[38;5;28;01mif\u001b[39;00m resp\u001b[38;5;241m.\u001b[39mstatus \u001b[38;5;241m>\u001b[39m\u001b[38;5;241m=\u001b[39m \u001b[38;5;241m300\u001b[39m:\n\u001b[0;32m--> 938\u001b[0m     \u001b[38;5;28;01mraise\u001b[39;00m HttpError(resp, content, uri\u001b[38;5;241m=\u001b[39m\u001b[38;5;28mself\u001b[39m\u001b[38;5;241m.\u001b[39muri)\n\u001b[1;32m    939\u001b[0m \u001b[38;5;28;01mreturn\u001b[39;00m \u001b[38;5;28mself\u001b[39m\u001b[38;5;241m.\u001b[39mpostproc(resp, content)\n",
      "\u001b[0;31mHttpError\u001b[0m: <HttpError 400 when requesting https://earthengine.googleapis.com/v1/projects/earthengine-legacy/value:compute?prettyPrint=false&alt=json returned \"User memory limit exceeded.\". Details: \"User memory limit exceeded.\">",
      "\nDuring handling of the above exception, another exception occurred:\n",
      "\u001b[0;31mEEException\u001b[0m                               Traceback (most recent call last)",
      "Input \u001b[0;32mIn [127]\u001b[0m, in \u001b[0;36m<cell line: 3>\u001b[0;34m()\u001b[0m\n\u001b[1;32m      1\u001b[0m \u001b[38;5;66;03m# get bands at each point\u001b[39;00m\n\u001b[1;32m      2\u001b[0m phase1_samples_purePoints \u001b[38;5;241m=\u001b[39m sample_raster(phase_1, purePoints)\n\u001b[0;32m----> 3\u001b[0m phase1_samples_purePoints_df \u001b[38;5;241m=\u001b[39m \u001b[43mfc_to_df\u001b[49m\u001b[43m(\u001b[49m\u001b[43mphase1_samples_purePoints\u001b[49m\u001b[43m,\u001b[49m\u001b[43m \u001b[49m\u001b[38;5;124;43m'\u001b[39;49m\u001b[38;5;124;43mid\u001b[39;49m\u001b[38;5;124;43m'\u001b[39;49m\u001b[43m)\u001b[49m\n\u001b[1;32m      4\u001b[0m phase1_samples_randPoints \u001b[38;5;241m=\u001b[39m sample_raster(phase_1, randPoints)\n\u001b[1;32m      5\u001b[0m phase1_samples_randPoints_df \u001b[38;5;241m=\u001b[39m fc_to_df(phase1_samples_randPoints, \u001b[38;5;124m'\u001b[39m\u001b[38;5;124mid\u001b[39m\u001b[38;5;124m'\u001b[39m)\n",
      "Input \u001b[0;32mIn [126]\u001b[0m, in \u001b[0;36mfc_to_df\u001b[0;34m(fc, idx_col)\u001b[0m\n\u001b[1;32m      9\u001b[0m \u001b[38;5;28;01mdef\u001b[39;00m \u001b[38;5;21mfc_to_df\u001b[39m(fc, idx_col):\n\u001b[1;32m     10\u001b[0m     \u001b[38;5;66;03m# Convert a FeatureCollection into a pandas DataFrame\u001b[39;00m\n\u001b[1;32m     11\u001b[0m     \u001b[38;5;66;03m# Features is a list of dict with the output\u001b[39;00m\n\u001b[0;32m---> 12\u001b[0m     features \u001b[38;5;241m=\u001b[39m \u001b[43mfc\u001b[49m\u001b[38;5;241;43m.\u001b[39;49m\u001b[43mgetInfo\u001b[49m\u001b[43m(\u001b[49m\u001b[43m)\u001b[49m[\u001b[38;5;124m'\u001b[39m\u001b[38;5;124mfeatures\u001b[39m\u001b[38;5;124m'\u001b[39m]\n\u001b[1;32m     14\u001b[0m     dictarr \u001b[38;5;241m=\u001b[39m []\n\u001b[1;32m     16\u001b[0m     \u001b[38;5;28;01mfor\u001b[39;00m f \u001b[38;5;129;01min\u001b[39;00m features:\n",
      "File \u001b[0;32m~/anaconda3/envs/py310/lib/python3.10/site-packages/ee/collection.py:141\u001b[0m, in \u001b[0;36mCollection.getInfo\u001b[0;34m(self)\u001b[0m\n\u001b[1;32m    128\u001b[0m \u001b[38;5;28;01mdef\u001b[39;00m \u001b[38;5;21mgetInfo\u001b[39m(\u001b[38;5;28mself\u001b[39m) \u001b[38;5;241m-\u001b[39m\u001b[38;5;241m>\u001b[39m Optional[Any]:\n\u001b[1;32m    129\u001b[0m   \u001b[38;5;124;03m\"\"\"Returns all the known information about this collection.\u001b[39;00m\n\u001b[1;32m    130\u001b[0m \n\u001b[1;32m    131\u001b[0m \u001b[38;5;124;03m  This function makes an REST call to to retrieve all the known information\u001b[39;00m\n\u001b[0;32m   (...)\u001b[0m\n\u001b[1;32m    139\u001b[0m \u001b[38;5;124;03m         properties.\u001b[39;00m\n\u001b[1;32m    140\u001b[0m \u001b[38;5;124;03m  \"\"\"\u001b[39;00m\n\u001b[0;32m--> 141\u001b[0m   \u001b[38;5;28;01mreturn\u001b[39;00m \u001b[38;5;28;43msuper\u001b[39;49m\u001b[43m(\u001b[49m\u001b[43m)\u001b[49m\u001b[38;5;241;43m.\u001b[39;49m\u001b[43mgetInfo\u001b[49m\u001b[43m(\u001b[49m\u001b[43m)\u001b[49m\n",
      "File \u001b[0;32m~/anaconda3/envs/py310/lib/python3.10/site-packages/ee/computedobject.py:103\u001b[0m, in \u001b[0;36mComputedObject.getInfo\u001b[0;34m(self)\u001b[0m\n\u001b[1;32m     97\u001b[0m \u001b[38;5;28;01mdef\u001b[39;00m \u001b[38;5;21mgetInfo\u001b[39m(\u001b[38;5;28mself\u001b[39m) \u001b[38;5;241m-\u001b[39m\u001b[38;5;241m>\u001b[39m Optional[Any]:\n\u001b[1;32m     98\u001b[0m   \u001b[38;5;124;03m\"\"\"Fetch and return information about this object.\u001b[39;00m\n\u001b[1;32m     99\u001b[0m \n\u001b[1;32m    100\u001b[0m \u001b[38;5;124;03m  Returns:\u001b[39;00m\n\u001b[1;32m    101\u001b[0m \u001b[38;5;124;03m    The object can evaluate to anything.\u001b[39;00m\n\u001b[1;32m    102\u001b[0m \u001b[38;5;124;03m  \"\"\"\u001b[39;00m\n\u001b[0;32m--> 103\u001b[0m   \u001b[38;5;28;01mreturn\u001b[39;00m \u001b[43mdata\u001b[49m\u001b[38;5;241;43m.\u001b[39;49m\u001b[43mcomputeValue\u001b[49m\u001b[43m(\u001b[49m\u001b[38;5;28;43mself\u001b[39;49m\u001b[43m)\u001b[49m\n",
      "File \u001b[0;32m~/anaconda3/envs/py310/lib/python3.10/site-packages/ee/data.py:971\u001b[0m, in \u001b[0;36mcomputeValue\u001b[0;34m(obj)\u001b[0m\n\u001b[1;32m    968\u001b[0m body \u001b[38;5;241m=\u001b[39m {\u001b[38;5;124m'\u001b[39m\u001b[38;5;124mexpression\u001b[39m\u001b[38;5;124m'\u001b[39m: serializer\u001b[38;5;241m.\u001b[39mencode(obj, for_cloud_api\u001b[38;5;241m=\u001b[39m\u001b[38;5;28;01mTrue\u001b[39;00m)}\n\u001b[1;32m    969\u001b[0m _maybe_populate_workload_tag(body)\n\u001b[0;32m--> 971\u001b[0m \u001b[38;5;28;01mreturn\u001b[39;00m \u001b[43m_execute_cloud_call\u001b[49m\u001b[43m(\u001b[49m\n\u001b[1;32m    972\u001b[0m \u001b[43m    \u001b[49m\u001b[43m_get_cloud_projects\u001b[49m\u001b[43m(\u001b[49m\u001b[43m)\u001b[49m\n\u001b[1;32m    973\u001b[0m \u001b[43m    \u001b[49m\u001b[38;5;241;43m.\u001b[39;49m\u001b[43mvalue\u001b[49m\u001b[43m(\u001b[49m\u001b[43m)\u001b[49m\n\u001b[1;32m    974\u001b[0m \u001b[43m    \u001b[49m\u001b[38;5;241;43m.\u001b[39;49m\u001b[43mcompute\u001b[49m\u001b[43m(\u001b[49m\u001b[43mbody\u001b[49m\u001b[38;5;241;43m=\u001b[39;49m\u001b[43mbody\u001b[49m\u001b[43m,\u001b[49m\u001b[43m \u001b[49m\u001b[43mproject\u001b[49m\u001b[38;5;241;43m=\u001b[39;49m\u001b[43m_get_projects_path\u001b[49m\u001b[43m(\u001b[49m\u001b[43m)\u001b[49m\u001b[43m,\u001b[49m\u001b[43m \u001b[49m\u001b[43mprettyPrint\u001b[49m\u001b[38;5;241;43m=\u001b[39;49m\u001b[38;5;28;43;01mFalse\u001b[39;49;00m\u001b[43m)\u001b[49m\n\u001b[1;32m    975\u001b[0m \u001b[43m\u001b[49m\u001b[43m)\u001b[49m[\u001b[38;5;124m'\u001b[39m\u001b[38;5;124mresult\u001b[39m\u001b[38;5;124m'\u001b[39m]\n",
      "File \u001b[0;32m~/anaconda3/envs/py310/lib/python3.10/site-packages/ee/data.py:354\u001b[0m, in \u001b[0;36m_execute_cloud_call\u001b[0;34m(call, num_retries)\u001b[0m\n\u001b[1;32m    352\u001b[0m   \u001b[38;5;28;01mreturn\u001b[39;00m call\u001b[38;5;241m.\u001b[39mexecute(num_retries\u001b[38;5;241m=\u001b[39mnum_retries)\n\u001b[1;32m    353\u001b[0m \u001b[38;5;28;01mexcept\u001b[39;00m googleapiclient\u001b[38;5;241m.\u001b[39merrors\u001b[38;5;241m.\u001b[39mHttpError \u001b[38;5;28;01mas\u001b[39;00m e:\n\u001b[0;32m--> 354\u001b[0m   \u001b[38;5;28;01mraise\u001b[39;00m _translate_cloud_exception(e)\n",
      "\u001b[0;31mEEException\u001b[0m: User memory limit exceeded."
     ]
    }
   ],
   "source": [
    "# get bands at each point\n",
    "phase1_samples_purePoints = sample_raster(phase_1, purePoints)\n",
    "phase1_samples_purePoints_df = fc_to_df(phase1_samples_purePoints, 'id')\n",
    "phase1_samples_randPoints = sample_raster(phase_1, randPoints)\n",
    "phase1_samples_randPoints_df = fc_to_df(phase1_samples_randPoints, 'id')\n",
    "phase1_samples_purePoints_df.head()\n"
   ]
  },
  {
   "cell_type": "code",
   "execution_count": null,
   "id": "c7085ed9-bddd-43cf-bcbf-dc5b923216c6",
   "metadata": {},
   "outputs": [],
   "source": []
  }
 ],
 "metadata": {
  "kernelspec": {
   "display_name": "Python 3 (ipykernel)",
   "language": "python",
   "name": "python3"
  },
  "language_info": {
   "codemirror_mode": {
    "name": "ipython",
    "version": 3
   },
   "file_extension": ".py",
   "mimetype": "text/x-python",
   "name": "python",
   "nbconvert_exporter": "python",
   "pygments_lexer": "ipython3",
   "version": "3.10.5"
  }
 },
 "nbformat": 4,
 "nbformat_minor": 5
}
