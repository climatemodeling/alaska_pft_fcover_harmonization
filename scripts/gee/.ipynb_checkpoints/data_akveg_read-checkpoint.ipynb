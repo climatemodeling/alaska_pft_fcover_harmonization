{
 "cells": [
  {
   "cell_type": "code",
   "execution_count": 1,
   "metadata": {},
   "outputs": [],
   "source": [
    "import pandas as pd\n",
    "import numpy as np\n",
    "import standardize_pft_funcs as spf\n",
    "import geopandas as gpd"
   ]
  },
  {
   "cell_type": "code",
   "execution_count": 2,
   "metadata": {},
   "outputs": [],
   "source": [
    "out_path = '/mnt/poseidon/remotesensing/arctic/data/vectors/AKVEG_ACCS/'"
   ]
  },
  {
   "cell_type": "markdown",
   "metadata": {},
   "source": [
    "# Read fcover, checklist, and ancillary data for AKVEG NPR-A"
   ]
  },
  {
   "cell_type": "code",
   "execution_count": 3,
   "metadata": {},
   "outputs": [],
   "source": [
    "# read akveg npr-a data, checklist, and ancillary data\n",
    "p = '/mnt/poseidon/remotesensing/arctic/data/vectors/AKVEG_ACCS'\n",
    "checklist = pd.read_csv(f'{p}/AKVEG_species_checklist.csv')\n",
    "cover = pd.read_csv(f'{p}/AKVEG_foliar_cover.csv', index_col=0)\n",
    "ancillary = pd.read_csv(f'{p}/AKVEG_ancillary.csv', index_col=0)\n",
    "nonveg = pd.read_csv(f'{p}/BLM_Natl_AIM_TerrADat_Hub.csv')"
   ]
  },
  {
   "cell_type": "code",
   "execution_count": 4,
   "metadata": {},
   "outputs": [
    {
     "data": {
      "text/plain": [
       "185"
      ]
     },
     "execution_count": 4,
     "metadata": {},
     "output_type": "execute_result"
    }
   ],
   "source": [
    "len(cover['Site Code'].unique())"
   ]
  },
  {
   "cell_type": "code",
   "execution_count": 5,
   "metadata": {},
   "outputs": [],
   "source": [
    "# remove species names with 0 cover\n",
    "nonnan_cover = cover.copy()\n",
    "nonnan_cover['Cover'].replace(0, np.nan, inplace=True)\n",
    "nonnan_cover = nonnan_cover.dropna(subset=['Cover'])"
   ]
  },
  {
   "cell_type": "markdown",
   "metadata": {},
   "source": [
    "## Get unique species names"
   ]
  },
  {
   "cell_type": "code",
   "execution_count": 31,
   "metadata": {},
   "outputs": [
    {
     "name": "stdout",
     "output_type": "stream",
     "text": [
      "Saved unique species list to /mnt/poseidon/remotesensing/arctic/data/vectors/AKVEG_ACCS//AKVEG_unique_species.csv.\n"
     ]
    }
   ],
   "source": [
    "species = spf.get_unique_species(nonnan_cover, 'Accepted Name', 'AKVEG', SAVE=True, OUTP=out_path)"
   ]
  },
  {
   "cell_type": "markdown",
   "metadata": {},
   "source": [
    "# Begin standardization process"
   ]
  },
  {
   "cell_type": "markdown",
   "metadata": {},
   "source": [
    "## Get habit information"
   ]
  },
  {
   "cell_type": "code",
   "execution_count": 32,
   "metadata": {},
   "outputs": [],
   "source": [
    "# get first 2 words (genus-species) from checklist accepted name and data species name\n",
    "checklist['Mapping Name'] = checklist['Accepted Name'].apply(spf.get_substrings)\n",
    "species['Mapping Name'] = species['Accepted Name'].apply(spf.get_substrings)"
   ]
  },
  {
   "cell_type": "code",
   "execution_count": 33,
   "metadata": {},
   "outputs": [
    {
     "name": "stdout",
     "output_type": "stream",
     "text": [
      "53 species are missing habits.\n",
      "50 species still missing habits.\n",
      "6 species still missing habits.\n",
      "6 species still missing habits.\n"
     ]
    }
   ],
   "source": [
    "habits = spf.fill_habits(unique_species=species, \n",
    "                         checklist=checklist, \n",
    "                         u_name='Accepted Name', \n",
    "                         c_unofficial_name='Name', \n",
    "                         c_official_name='Accepted Name', \n",
    "                         mapping_name='Mapping Name',\n",
    "                         habit='Habit')"
   ]
  },
  {
   "cell_type": "markdown",
   "metadata": {},
   "source": [
    "## Add evergreen/deciduous"
   ]
  },
  {
   "cell_type": "code",
   "execution_count": 34,
   "metadata": {},
   "outputs": [],
   "source": [
    "p = '/mnt/poseidon/remotesensing/arctic/data/vectors/AK-AVA_post2000/'\n",
    "f = 'evergreendecid_macander2022.csv'\n",
    "evergrndecid = pd.read_csv(p + f, header=None)\n",
    "evergrndecid.columns = ['evergreendecid', 'species']\n",
    "final = spf.add_leaf_habit(habits, evergrndecid)"
   ]
  },
  {
   "cell_type": "code",
   "execution_count": 35,
   "metadata": {},
   "outputs": [],
   "source": [
    "# export\n",
    "p = '/mnt/poseidon/remotesensing/arctic/data/vectors/AKVEG_ACCS/'\n",
    "f = 'AKVEG_species_habit_00.csv'\n",
    "final.to_csv(p + f)"
   ]
  },
  {
   "cell_type": "code",
   "execution_count": 36,
   "metadata": {},
   "outputs": [
    {
     "data": {
      "text/plain": [
       "['moss',\n",
       " 'forb',\n",
       " 'lichen',\n",
       " nan,\n",
       " 'dwarf shrub',\n",
       " 'graminoid',\n",
       " 'liverwort',\n",
       " 'shrub',\n",
       " 'spore-bearing',\n",
       " ' shrub,dwarf shrub',\n",
       " ' tree, shrub,dwarf shrub, deciduous tree, dwarf shrub']"
      ]
     },
     "execution_count": 36,
     "metadata": {},
     "output_type": "execute_result"
    }
   ],
   "source": [
    "list(final['Potential Habit'].unique())"
   ]
  },
  {
   "cell_type": "markdown",
   "metadata": {},
   "source": [
    "## Export shrubs, nonshrubs, null habit seperately"
   ]
  },
  {
   "cell_type": "code",
   "execution_count": 37,
   "metadata": {},
   "outputs": [],
   "source": [
    "# get all shrub species\n",
    "finalnonnull = final[~final['Potential Habit'].isnull()]\n",
    "shrubs = finalnonnull[finalnonnull['Potential Habit'].str.contains('shrub')]\n",
    "shrubs.to_csv(p + 'AKVEG_shrubs_00.csv')"
   ]
  },
  {
   "cell_type": "code",
   "execution_count": 38,
   "metadata": {},
   "outputs": [],
   "source": [
    "# get all non-shrub species\n",
    "nonshrubs = finalnonnull[~finalnonnull['Potential Habit'].str.contains('shrub')]\n",
    "nonshrubs.to_csv(p + 'AKVEG_nonshrubs_00.csv')"
   ]
  },
  {
   "cell_type": "code",
   "execution_count": 39,
   "metadata": {},
   "outputs": [],
   "source": [
    "# get null habits\n",
    "finalnull = final[final['Potential Habit'].isnull()]\n",
    "finalnull.to_csv(p + 'AKVEG_nullhabit_00.csv')"
   ]
  },
  {
   "cell_type": "code",
   "execution_count": 40,
   "metadata": {},
   "outputs": [
    {
     "data": {
      "text/plain": [
       "384"
      ]
     },
     "execution_count": 40,
     "metadata": {},
     "output_type": "execute_result"
    }
   ],
   "source": [
    "len(finalnull) + len(nonshrubs) + len(shrubs)"
   ]
  },
  {
   "cell_type": "code",
   "execution_count": 41,
   "metadata": {},
   "outputs": [
    {
     "data": {
      "text/plain": [
       "384"
      ]
     },
     "execution_count": 41,
     "metadata": {},
     "output_type": "execute_result"
    }
   ],
   "source": [
    "len(final)"
   ]
  },
  {
   "cell_type": "markdown",
   "metadata": {},
   "source": [
    "## HERE: Manually add data from shrub05 file"
   ]
  },
  {
   "cell_type": "markdown",
   "metadata": {},
   "source": [
    "## Standardize PFT Schema"
   ]
  },
  {
   "cell_type": "code",
   "execution_count": 6,
   "metadata": {},
   "outputs": [],
   "source": [
    "p = '/mnt/poseidon/remotesensing/arctic/data/vectors/AKVEG_ACCS/'\n",
    "nonshrub = 'AKVEG_nonshrubs_00.csv'\n",
    "null = 'AKVEG_nullhabit_01.csv'\n",
    "shrub = 'AKVEG_shrubs_01.csv'\n",
    "\n",
    "alltypes = [nonshrub, shrub, null]\n",
    "\n",
    "d = []\n",
    "for t in alltypes:\n",
    "    habits = pd.read_csv(p + t, index_col=0)\n",
    "    d.append(habits)"
   ]
  },
  {
   "cell_type": "code",
   "execution_count": 7,
   "metadata": {},
   "outputs": [
    {
     "data": {
      "text/plain": [
       "['moss',\n",
       " 'forb',\n",
       " 'lichen',\n",
       " 'graminoid',\n",
       " 'liverwort',\n",
       " 'spore-bearing',\n",
       " 'dwarf shrub',\n",
       " 'shrub',\n",
       " 'shrub, tree',\n",
       " 'algae',\n",
       " 'fungus']"
      ]
     },
     "execution_count": 7,
     "metadata": {},
     "output_type": "execute_result"
    }
   ],
   "source": [
    "completehabits = pd.concat(d)\n",
    "completehabits['Habit'].unique().tolist()"
   ]
  },
  {
   "cell_type": "code",
   "execution_count": 8,
   "metadata": {},
   "outputs": [],
   "source": [
    "def standardize_habit_nonstandard(habitrow, leafrow, heightrow):\n",
    "    \n",
    "    habitrow = habitrow.to_numpy()\n",
    "    leafrow = leafrow.to_numpy()\n",
    "    heightrow = heightrow.to_numpy()\n",
    "    new_row = []\n",
    "    \n",
    "    for habit, leaf, height in zip(habitrow, leafrow, heightrow):\n",
    "        habit = habit.lower()\n",
    "        if habit == 'shrub, tree':\n",
    "            new_habit = f'{leaf} dwarf to tree cover (%)'\n",
    "        elif habit == 'dwarf shrub':\n",
    "            new_habit = f'{leaf} {habit} cover (%)'\n",
    "        elif 'shrub' in habit:\n",
    "            new_habit = f'{leaf} {height} cover (%)'\n",
    "        else:\n",
    "            new_habit = f'{habit} cover (%)'\n",
    "        new_row.append(\" \".join(new_habit.split()).lower())\n",
    "    \n",
    "    return new_row"
   ]
  },
  {
   "cell_type": "code",
   "execution_count": 9,
   "metadata": {},
   "outputs": [],
   "source": [
    "def standardize_habit(habitrow, leafrow, heightrow):\n",
    "    \n",
    "    habitrow = habitrow.to_numpy()\n",
    "    leafrow = leafrow.to_numpy()\n",
    "    heightrow = heightrow.to_numpy()\n",
    "    new_row = []\n",
    "    \n",
    "    for habit, leaf, height in zip(habitrow, leafrow, heightrow):\n",
    "        habit = habit.lower()\n",
    "        if 'algae' in habit:\n",
    "            new_habit = 'lichen cover (%)'\n",
    "        elif habit == np.nan or 'unknown' in habit:\n",
    "            new_habit = 'unknown cover (%)'\n",
    "        elif 'moss' in habit or 'liverwort' in habit:\n",
    "            new_habit = 'bryophyte cover (%)'\n",
    "        elif 'spore-bearing' in habit:\n",
    "            new_habit = 'forb cover (%)'\n",
    "        elif habit == 'grass':\n",
    "            new_habit = 'graminoid cover (%)'\n",
    "            \n",
    "        elif habit == 'shrub, tree':\n",
    "            new_habit = f'{leaf} dwarf to tree cover (%)'\n",
    "        elif habit == 'dwarf shrub':\n",
    "            new_habit = f'{leaf} {habit} cover (%)'\n",
    "        elif 'shrub' in habit:\n",
    "            new_habit = f'{leaf} {height} cover (%)'\n",
    "            \n",
    "        elif 'litter' in habit or 'scat' in habit:\n",
    "            new_habit = 'litter cover (%)'\n",
    "        elif 'bare ground' in habit or 'crust' in habit or 'mineral' in habit:\n",
    "            new_habit = 'bare ground cover (%)'\n",
    "        else:\n",
    "            new_habit = f'{habit} cover (%)'\n",
    "        new_row.append(\" \".join(new_habit.split()).lower())\n",
    "    \n",
    "    return new_row"
   ]
  },
  {
   "cell_type": "code",
   "execution_count": 10,
   "metadata": {},
   "outputs": [],
   "source": [
    "# standardized PFT\n",
    "standard_habit_col = standardize_habit(completehabits['Habit'], \n",
    "                                       completehabits['Leaf Retention'], \n",
    "                                       completehabits['Height'])"
   ]
  },
  {
   "cell_type": "code",
   "execution_count": 11,
   "metadata": {},
   "outputs": [],
   "source": [
    "# non-standardized PFT\n",
    "nonstandard_habit_col = standardize_habit_nonstandard(completehabits['Habit'], \n",
    "                                                      completehabits['Leaf Retention'],\n",
    "                                                      completehabits['Height'])"
   ]
  },
  {
   "cell_type": "code",
   "execution_count": 12,
   "metadata": {},
   "outputs": [],
   "source": [
    "completehabits['Standard Habit'] = standard_habit_col\n",
    "completehabits['NonStandard Habit'] = nonstandard_habit_col"
   ]
  },
  {
   "cell_type": "code",
   "execution_count": 13,
   "metadata": {},
   "outputs": [],
   "source": [
    "p = '/mnt/poseidon/remotesensing/arctic/data/vectors/AKVEG_ACCS/'\n",
    "f = 'AKVEG_species_habit_standardized.csv'\n",
    "completehabits.to_csv(p + f)"
   ]
  },
  {
   "cell_type": "markdown",
   "metadata": {},
   "source": [
    "## Join habit to fcover data"
   ]
  },
  {
   "cell_type": "code",
   "execution_count": 14,
   "metadata": {},
   "outputs": [],
   "source": [
    "# add vegetation fcover and sum to PFT level\n",
    "def add_cover(cover_df, pft_groups, habit_col):\n",
    "    cover = cover_df.reset_index()\n",
    "    withfcover = cover.merge(pft_groups, left_on='Accepted Name', right_on='Name', how='left')\n",
    "    grouped = withfcover.groupby(['Site Code', habit_col], \n",
    "                                 group_keys=True).agg({'Cover': 'sum'})\n",
    "    return grouped"
   ]
  },
  {
   "cell_type": "code",
   "execution_count": 15,
   "metadata": {},
   "outputs": [],
   "source": [
    "# flatten multilevel\n",
    "def flatten_multilevel(grouped):\n",
    "    grouped.columns = grouped.columns.get_level_values(0)\n",
    "    grouped = grouped.reset_index()\n",
    "    return grouped"
   ]
  },
  {
   "cell_type": "code",
   "execution_count": 16,
   "metadata": {},
   "outputs": [],
   "source": [
    "# transpose\n",
    "def transpose_df(grouped, habit_col):\n",
    "    groups = grouped.set_index(['Site Code', habit_col]).stack().unstack([1,2])\n",
    "    groups.columns = groups.columns.get_level_values(0)\n",
    "    groups = groups.reset_index()\n",
    "    return groups"
   ]
  },
  {
   "cell_type": "code",
   "execution_count": 17,
   "metadata": {},
   "outputs": [],
   "source": [
    "def add_standard_cols(groups):\n",
    "    \n",
    "    # required columns\n",
    "    necessary_cols = ['deciduous dwarf shrub cover (%)',\n",
    "                      'deciduous dwarf to low shrub cover (%)',\n",
    "                      'deciduous dwarf to tall shrub cover (%)',\n",
    "                      'deciduous dwarf to tree cover (%)',\n",
    "                      'deciduous tree cover (%)',\n",
    "                      'evergreen dwarf shrub cover (%)',\n",
    "                      'evergreen dwarf to low shrub cover (%)',\n",
    "                      'evergreen dwarf to tall shrub cover (%)',\n",
    "                      'evergreen dwarf to tree cover (%)',\n",
    "                      'evergreen tree cover (%)',\n",
    "                      'bryophyte cover (%)',\n",
    "                      'forb cover (%)',\n",
    "                      'graminoid cover (%)',\n",
    "                      'lichen cover (%)']\n",
    "    \n",
    "    # add missing columns and fill with nan\n",
    "    cols = groups.columns.tolist()\n",
    "    addcols = []\n",
    "    for nc in necessary_cols:\n",
    "        if nc not in cols:\n",
    "            addcols.append(nc)\n",
    "    groups[addcols] = np.nan\n",
    "    return groups"
   ]
  },
  {
   "cell_type": "code",
   "execution_count": 18,
   "metadata": {},
   "outputs": [],
   "source": [
    "grouped_standard = add_cover(cover, completehabits, 'Standard Habit')\n",
    "grouped_standard = flatten_multilevel(grouped_standard)\n",
    "grouped_standard = transpose_df(grouped_standard, 'Standard Habit')\n",
    "standard_groups = add_standard_cols(grouped_standard)"
   ]
  },
  {
   "cell_type": "code",
   "execution_count": 19,
   "metadata": {},
   "outputs": [],
   "source": [
    "grouped_nonstand = add_cover(cover, completehabits, 'NonStandard Habit')\n",
    "grouped_nonstand = flatten_multilevel(grouped_nonstand)\n",
    "grouped_nonstand = transpose_df(grouped_nonstand, 'NonStandard Habit')"
   ]
  },
  {
   "cell_type": "markdown",
   "metadata": {},
   "source": [
    "## Read ancillary table"
   ]
  },
  {
   "cell_type": "code",
   "execution_count": 20,
   "metadata": {},
   "outputs": [],
   "source": [
    "anc = ancillary.copy()\n",
    "# year\n",
    "date = cover.groupby('Site Code')['Date'].first().reset_index()\n",
    "anc = anc.merge(date, on='Site Code', how='left')\n",
    "anc['year'] = pd.DatetimeIndex(anc['Date']).year\n",
    "anc['year'] = anc['year'].astype('Int64')\n",
    "# plot size\n",
    "anc['plot_radius_m'] = anc['Plot Dimensions']\n",
    "anc['plot_radius_m'] = anc['plot_radius_m'].str.extract('(\\d+)').astype(int)\n",
    "# dataset source\n",
    "anc['source'] = 'AKVEG_AIM_NPRA'\n",
    "anc.rename(columns={'Latitude':'latitude','Longitude':'longitude'}, inplace=True)"
   ]
  },
  {
   "cell_type": "code",
   "execution_count": 21,
   "metadata": {},
   "outputs": [],
   "source": [
    "anc = anc[['Site Code', 'latitude', 'longitude', 'year', 'plot_radius_m', 'source']]"
   ]
  },
  {
   "cell_type": "code",
   "execution_count": 22,
   "metadata": {},
   "outputs": [
    {
     "data": {
      "text/html": [
       "<div>\n",
       "<style scoped>\n",
       "    .dataframe tbody tr th:only-of-type {\n",
       "        vertical-align: middle;\n",
       "    }\n",
       "\n",
       "    .dataframe tbody tr th {\n",
       "        vertical-align: top;\n",
       "    }\n",
       "\n",
       "    .dataframe thead th {\n",
       "        text-align: right;\n",
       "    }\n",
       "</style>\n",
       "<table border=\"1\" class=\"dataframe\">\n",
       "  <thead>\n",
       "    <tr style=\"text-align: right;\">\n",
       "      <th></th>\n",
       "      <th>Site Code</th>\n",
       "      <th>latitude</th>\n",
       "      <th>longitude</th>\n",
       "      <th>year</th>\n",
       "      <th>plot_radius_m</th>\n",
       "      <th>source</th>\n",
       "    </tr>\n",
       "  </thead>\n",
       "  <tbody>\n",
       "    <tr>\n",
       "      <th>0</th>\n",
       "      <td>AB-1B</td>\n",
       "      <td>68.294218</td>\n",
       "      <td>-156.035416</td>\n",
       "      <td>2012</td>\n",
       "      <td>55</td>\n",
       "      <td>AKVEG_AIM_NPRA</td>\n",
       "    </tr>\n",
       "    <tr>\n",
       "      <th>1</th>\n",
       "      <td>AB-5B</td>\n",
       "      <td>68.328156</td>\n",
       "      <td>-156.216436</td>\n",
       "      <td>2012</td>\n",
       "      <td>55</td>\n",
       "      <td>AKVEG_AIM_NPRA</td>\n",
       "    </tr>\n",
       "    <tr>\n",
       "      <th>2</th>\n",
       "      <td>ADST-2</td>\n",
       "      <td>68.242462</td>\n",
       "      <td>-156.117486</td>\n",
       "      <td>2012</td>\n",
       "      <td>30</td>\n",
       "      <td>AKVEG_AIM_NPRA</td>\n",
       "    </tr>\n",
       "    <tr>\n",
       "      <th>3</th>\n",
       "      <td>ADST-21</td>\n",
       "      <td>68.721845</td>\n",
       "      <td>-156.470093</td>\n",
       "      <td>2013</td>\n",
       "      <td>30</td>\n",
       "      <td>AKVEG_AIM_NPRA</td>\n",
       "    </tr>\n",
       "    <tr>\n",
       "      <th>4</th>\n",
       "      <td>ADST-33</td>\n",
       "      <td>68.707473</td>\n",
       "      <td>-156.588315</td>\n",
       "      <td>2013</td>\n",
       "      <td>30</td>\n",
       "      <td>AKVEG_AIM_NPRA</td>\n",
       "    </tr>\n",
       "    <tr>\n",
       "      <th>...</th>\n",
       "      <td>...</td>\n",
       "      <td>...</td>\n",
       "      <td>...</td>\n",
       "      <td>...</td>\n",
       "      <td>...</td>\n",
       "      <td>...</td>\n",
       "    </tr>\n",
       "    <tr>\n",
       "      <th>253</th>\n",
       "      <td>GMT2-140</td>\n",
       "      <td>70.219950</td>\n",
       "      <td>-151.589810</td>\n",
       "      <td>&lt;NA&gt;</td>\n",
       "      <td>30</td>\n",
       "      <td>AKVEG_AIM_NPRA</td>\n",
       "    </tr>\n",
       "    <tr>\n",
       "      <th>254</th>\n",
       "      <td>GMT2-144</td>\n",
       "      <td>70.172090</td>\n",
       "      <td>-151.643930</td>\n",
       "      <td>&lt;NA&gt;</td>\n",
       "      <td>30</td>\n",
       "      <td>AKVEG_AIM_NPRA</td>\n",
       "    </tr>\n",
       "    <tr>\n",
       "      <th>255</th>\n",
       "      <td>GMT2-147</td>\n",
       "      <td>70.288100</td>\n",
       "      <td>-151.289060</td>\n",
       "      <td>&lt;NA&gt;</td>\n",
       "      <td>30</td>\n",
       "      <td>AKVEG_AIM_NPRA</td>\n",
       "    </tr>\n",
       "    <tr>\n",
       "      <th>256</th>\n",
       "      <td>GMT2-151</td>\n",
       "      <td>70.289540</td>\n",
       "      <td>-151.276000</td>\n",
       "      <td>&lt;NA&gt;</td>\n",
       "      <td>30</td>\n",
       "      <td>AKVEG_AIM_NPRA</td>\n",
       "    </tr>\n",
       "    <tr>\n",
       "      <th>257</th>\n",
       "      <td>GMT2-301</td>\n",
       "      <td>69.998370</td>\n",
       "      <td>-153.099330</td>\n",
       "      <td>&lt;NA&gt;</td>\n",
       "      <td>30</td>\n",
       "      <td>AKVEG_AIM_NPRA</td>\n",
       "    </tr>\n",
       "  </tbody>\n",
       "</table>\n",
       "<p>258 rows × 6 columns</p>\n",
       "</div>"
      ],
      "text/plain": [
       "    Site Code   latitude   longitude  year  plot_radius_m          source\n",
       "0       AB-1B  68.294218 -156.035416  2012             55  AKVEG_AIM_NPRA\n",
       "1       AB-5B  68.328156 -156.216436  2012             55  AKVEG_AIM_NPRA\n",
       "2      ADST-2  68.242462 -156.117486  2012             30  AKVEG_AIM_NPRA\n",
       "3     ADST-21  68.721845 -156.470093  2013             30  AKVEG_AIM_NPRA\n",
       "4     ADST-33  68.707473 -156.588315  2013             30  AKVEG_AIM_NPRA\n",
       "..        ...        ...         ...   ...            ...             ...\n",
       "253  GMT2-140  70.219950 -151.589810  <NA>             30  AKVEG_AIM_NPRA\n",
       "254  GMT2-144  70.172090 -151.643930  <NA>             30  AKVEG_AIM_NPRA\n",
       "255  GMT2-147  70.288100 -151.289060  <NA>             30  AKVEG_AIM_NPRA\n",
       "256  GMT2-151  70.289540 -151.276000  <NA>             30  AKVEG_AIM_NPRA\n",
       "257  GMT2-301  69.998370 -153.099330  <NA>             30  AKVEG_AIM_NPRA\n",
       "\n",
       "[258 rows x 6 columns]"
      ]
     },
     "execution_count": 22,
     "metadata": {},
     "output_type": "execute_result"
    }
   ],
   "source": [
    "anc"
   ]
  },
  {
   "cell_type": "markdown",
   "metadata": {},
   "source": [
    "## Create total cover file (non-merged)"
   ]
  },
  {
   "cell_type": "code",
   "execution_count": 23,
   "metadata": {},
   "outputs": [],
   "source": [
    "# set index and sort columns\n",
    "totcover_nm = grouped_nonstand.copy()\n",
    "totcover_nm.drop(columns=['fungus cover (%)'], inplace=True)\n",
    "totcover_nm.set_index('Site Code', inplace=True)\n",
    "totcover_nm.columns.name = None\n",
    "totcover_nm = totcover_nm[sorted(totcover_nm.columns.tolist())]"
   ]
  },
  {
   "cell_type": "code",
   "execution_count": 24,
   "metadata": {},
   "outputs": [],
   "source": [
    "# add \"total cover\" to column names\n",
    "cols = totcover_nm.columns.tolist()\n",
    "cols = [x.replace('cover (%)' , 'total cover (%)') for x in cols]\n",
    "totcover_nm.columns = cols"
   ]
  },
  {
   "cell_type": "code",
   "execution_count": 25,
   "metadata": {},
   "outputs": [],
   "source": [
    "# add ancillary\n",
    "totcover_nm = totcover_nm.merge(anc, on='Site Code', how='left')"
   ]
  },
  {
   "cell_type": "code",
   "execution_count": 26,
   "metadata": {},
   "outputs": [],
   "source": [
    "totcover_nm.set_index('Site Code', inplace=True)"
   ]
  },
  {
   "cell_type": "code",
   "execution_count": 27,
   "metadata": {},
   "outputs": [],
   "source": [
    "# export\n",
    "p = '/mnt/poseidon/remotesensing/arctic/data/training/Test_04/original_files/'\n",
    "f = 'AKVEG_AIM_NPRA_fcover_total_orig.csv'\n",
    "totcover_nm.to_csv(p + f)"
   ]
  },
  {
   "cell_type": "markdown",
   "metadata": {},
   "source": [
    "## Create total cover file (merged)"
   ]
  },
  {
   "cell_type": "code",
   "execution_count": 28,
   "metadata": {},
   "outputs": [],
   "source": [
    "# set index and sort columns\n",
    "totcover = standard_groups.copy()\n",
    "totcover.drop(columns=['fungus cover (%)'], inplace=True)\n",
    "totcover.set_index('Site Code', inplace=True)\n",
    "totcover.columns.name = None\n",
    "totcover = totcover[sorted(totcover.columns.tolist())]"
   ]
  },
  {
   "cell_type": "code",
   "execution_count": 29,
   "metadata": {},
   "outputs": [],
   "source": [
    "# add \"total cover\" to column names\n",
    "cols = totcover.columns.tolist()\n",
    "cols = [x.replace('cover (%)' , 'total cover (%)') for x in cols]\n",
    "totcover.columns = cols"
   ]
  },
  {
   "cell_type": "code",
   "execution_count": 30,
   "metadata": {},
   "outputs": [],
   "source": [
    "# add ancillary\n",
    "totcover = totcover.merge(anc, on='Site Code', how='left')"
   ]
  },
  {
   "cell_type": "code",
   "execution_count": 31,
   "metadata": {},
   "outputs": [],
   "source": [
    "totcover.set_index('Site Code', inplace=True)"
   ]
  },
  {
   "cell_type": "code",
   "execution_count": 33,
   "metadata": {},
   "outputs": [],
   "source": [
    "# export\n",
    "p = '/mnt/poseidon/remotesensing/arctic/data/training/Test_04/original_files/'\n",
    "f = 'AKVEG_AIM_NPRA_fcover_total_merged.csv'\n",
    "totcover.to_csv(p + f)"
   ]
  },
  {
   "cell_type": "markdown",
   "metadata": {},
   "source": [
    "## Create top cover file from existing summary"
   ]
  },
  {
   "cell_type": "code",
   "execution_count": 34,
   "metadata": {},
   "outputs": [],
   "source": [
    "# rename columns and set index\n",
    "topcover = nonveg.copy()\n",
    "topcover.rename(columns={'BareSoilCover':'bare ground top cover (%)',\n",
    "                         'FH_TotalLitterCover':'litter top cover (%)',\n",
    "                         'FH_RockCover':'bare ground top cover (%)',\n",
    "                         'FH_WaterCover':'water top cover (%)',\n",
    "                         'PlotID':'Site Code'}, inplace=True)\n",
    "topcover.set_index('Site Code', inplace=True)\n",
    "\n",
    "# sort and sum duplicate columns\n",
    "topcover = topcover[sorted(['bare ground top cover (%)',\n",
    "                            'litter top cover (%)',\n",
    "                            'water top cover (%)'])]\n",
    "topcover = topcover.groupby(lambda x:x, axis=1).sum()"
   ]
  },
  {
   "cell_type": "code",
   "execution_count": 35,
   "metadata": {},
   "outputs": [],
   "source": [
    "temp = totcover.merge(topcover, on='Site Code', how='left')\n",
    "nonvegtop = temp[['bare ground top cover (%)', 'litter top cover (%)', 'water top cover (%)']]\n",
    "topcover = nonvegtop.merge(anc, on='Site Code')"
   ]
  },
  {
   "cell_type": "code",
   "execution_count": 36,
   "metadata": {},
   "outputs": [],
   "source": [
    "topcover.set_index('Site Code', inplace=True)"
   ]
  },
  {
   "cell_type": "code",
   "execution_count": 37,
   "metadata": {},
   "outputs": [],
   "source": [
    "# export\n",
    "p = '/mnt/poseidon/remotesensing/arctic/data/training/Test_04/original_files/'\n",
    "f = 'AKVEG_AIM_NRPA_fcover_top_nonPFT.csv'\n",
    "topcover.to_csv(p + f)"
   ]
  },
  {
   "cell_type": "markdown",
   "metadata": {},
   "source": [
    "## Misc"
   ]
  },
  {
   "cell_type": "code",
   "execution_count": 129,
   "metadata": {},
   "outputs": [],
   "source": [
    "# # adjust GMT-2 site code names\n",
    "# nonull_proj = nonveg[~nonveg['ProjectName'].isna()]\n",
    "# gmt2_plots = nonull_proj[nonull_proj['ProjectName'].str.contains('GMT2')]\n",
    "# gmt2_plots = gmt2_plots.copy()\n",
    "# gmt2_plots['PlotID2'] = 'GMT2-' + gmt2_plots['PlotID'].astype(str)\n",
    "# new_gmt_ids = gmt2_plots[['PlotID', 'PlotID2']]\n",
    "\n",
    "# # add new IDs to original non-veg data\n",
    "# nonveg2 = nonveg.merge(new_gmt_ids, on='PlotID', how='left')\n",
    "# nonveg2['PlotID2'].fillna(nonveg2['PlotID'], inplace=True)\n",
    "# nonveg2['PlotID'] = nonveg2['PlotID2']"
   ]
  }
 ],
 "metadata": {
  "kernelspec": {
   "display_name": "Python 3 (ipykernel)",
   "language": "python",
   "name": "python3"
  },
  "language_info": {
   "codemirror_mode": {
    "name": "ipython",
    "version": 3
   },
   "file_extension": ".py",
   "mimetype": "text/x-python",
   "name": "python",
   "nbconvert_exporter": "python",
   "pygments_lexer": "ipython3",
   "version": "3.11.5"
  }
 },
 "nbformat": 4,
 "nbformat_minor": 4
}
