{
 "cells": [
  {
   "cell_type": "code",
   "execution_count": 24,
   "id": "94e0b093-7918-45da-92d1-8ae1b162e2a8",
   "metadata": {},
   "outputs": [],
   "source": [
    "import ee\n",
    "from datetime import date, timedelta\n",
    "import pandas as pd\n",
    "import geemap as gee"
   ]
  },
  {
   "cell_type": "code",
   "execution_count": 11,
   "id": "117befb1-c54d-442a-ae4c-6c9159c7dc80",
   "metadata": {},
   "outputs": [],
   "source": [
    "#ee.Authenticate()\n",
    "ee.Initialize()"
   ]
  },
  {
   "cell_type": "code",
   "execution_count": 48,
   "id": "dc6a7e86-08c2-4d80-9185-0ea8eb949b72",
   "metadata": {},
   "outputs": [],
   "source": [
    "# cloud filter params\n",
    "CLOUD_FILTER = 100\n",
    "CLD_PRB_THRESH = 100\n",
    "NIR_DRK_THRESH = 90\n",
    "CLD_PRJ_DIST = 1\n",
    "BUFFER = 50\n",
    "\n",
    "# bounding box params\n",
    "COUNTRY = ''\n",
    "STATE = 'AK' #Abbreviated for WATERSHED\n",
    "POINTBUFFER = 30 #meters\n",
    "ROI = 'HUC' #STATE, COUNTRY, BBOX, or HUC\n",
    "HUCLIST = ['190604', '190603', '190602'] #must be list\n",
    "GEOJSON_PATH = ''\n",
    "GRIDSIZE = 18000 #km*1000\n",
    "DIR_PATH = '/mnt/poseidon/remotesensing/arctic/data/rasters/S2SR'\n",
    "\n",
    "# data Information\n",
    "SCALE = 10\n",
    "BANDS = ['B2', 'B3', 'B4', 'B5', 'B6', 'B7', 'B8', 'B8A', 'B11', 'B12']\n",
    "start_date = date(2019, 1, 1) # Year-Month-Day (minus 5 days to make it an even 38, 30 day intervals)\n",
    "end_date = date(2019, 12, 26) # Year-Month-Day\n",
    "INCREMENT = 15 #days"
   ]
  },
  {
   "cell_type": "code",
   "execution_count": 49,
   "id": "e7d6fdc1-0663-4d04-86b4-628c030cc795",
   "metadata": {},
   "outputs": [],
   "source": [
    "def create_list_of_dates(start_date, end_date):\n",
    "    dates = []\n",
    "    delta = end_date - start_date   # returns timedelta\n",
    "\n",
    "    for i in range(delta.days + 1):\n",
    "        day = start_date + timedelta(days=i)\n",
    "        dates.append(day)\n",
    "    return dates\n",
    "\n",
    "def create_time_intervals(dates_list, Interval):\n",
    "    time_df = pd.DataFrame({'Date': dates_list}).astype('datetime64[ns]')\n",
    "    interval = timedelta(Interval)\n",
    "    grouped_cr = time_df.groupby(pd.Grouper(key='Date', freq=interval))\n",
    "    date_ranges = []\n",
    "    for i in grouped_cr:\n",
    "        date_ranges.append(((str(i[1].min()[0]).split(' ')[0]), (str(i[1].max()[0]).split(' ')[0])))\n",
    "    return date_ranges\n",
    "\n",
    "date_ranges = create_time_intervals(create_list_of_dates(start_date, end_date), INCREMENT)"
   ]
  },
  {
   "cell_type": "code",
   "execution_count": 50,
   "id": "a935a55c-77cf-45aa-9eda-31a756059c13",
   "metadata": {},
   "outputs": [],
   "source": [
    "CURRENTROI = HUCLIST[0]"
   ]
  },
  {
   "cell_type": "code",
   "execution_count": 51,
   "id": "3fba8f7a-ff48-4c84-abcc-3c81602eda6c",
   "metadata": {},
   "outputs": [],
   "source": [
    "# Import admin data and select country to create grid around\n",
    "if ROI == 'STATE':\n",
    "    grid_location_ee = (ee.FeatureCollection(\"FAO/GAUL/2015/level1\")\n",
    "                        .filterMetadata('ADM0_NAME', 'equals', COUNTRY)\n",
    "                        .filterMetadata('ADM1_NAME', 'equals', STATE))\n",
    "\n",
    "elif ROI == 'COUNTRY':\n",
    "    grid_location_ee = (ee.FeatureCollection(\"FAO/GAUL/2015/level1\")\n",
    "                        .filterMetadata('ADM0_NAME', 'equals', COUNTRY))\n",
    "\t\n",
    "elif ROI == 'BBOX':\n",
    "\tgrid_location_ee = geemap.geojson_to_ee(GEOJSON_PATH)\n",
    "    \n",
    "elif ROI == 'HUC':\n",
    "    grid_location_ee = (ee.FeatureCollection(\"USGS/WBD/2017/HUC06\")\n",
    "                        .filter(ee.Filter.inList('huc6', [CURRENTROI])))\n",
    "    \n",
    "else:\n",
    "    print('Invalid region of interest. Check STATE, COUNTRY, HUC')\n",
    "    grid_location_ee = None"
   ]
  },
  {
   "cell_type": "code",
   "execution_count": 52,
   "id": "5944f56e-5c86-4fbb-a78d-9b55336b672b",
   "metadata": {},
   "outputs": [],
   "source": [
    "def get_s2_sr_cld_col(aoi, start_date, end_date):\n",
    "    # Import and filter S2 SR.\n",
    "    s2_sr_col = (ee.ImageCollection('COPERNICUS/S2_SR_HARMONIZED')\n",
    "        .filterBounds(aoi)\n",
    "        .filterDate(start_date, end_date)\n",
    "        .filter(ee.Filter.lte('CLOUDY_PIXEL_PERCENTAGE', CLOUD_FILTER)))\n",
    "\n",
    "    # Import and filter s2cloudless.\n",
    "    s2_cloudless_col = (ee.ImageCollection('COPERNICUS/S2_CLOUD_PROBABILITY')\n",
    "        .filterBounds(aoi)\n",
    "        .filterDate(start_date, end_date))\n",
    "\n",
    "    # Join the filtered s2cloudless collection to the SR collection by the 'system:index' property.\n",
    "    return ee.ImageCollection(ee.Join.saveFirst('s2cloudless').apply(\n",
    "        primary = s2_sr_col,\n",
    "        secondary = s2_cloudless_col,\n",
    "        condition = ee.Filter.equals(\n",
    "            leftField = 'system:index',\n",
    "            rightField = 'system:index')\n",
    "    ))\n",
    "\n",
    "def add_cloud_bands(img):\n",
    "    # Get s2cloudless image, subset the probability band.\n",
    "    cld_prb = ee.Image(img.get('s2cloudless')).select('probability')\n",
    "\n",
    "    # Condition s2cloudless by the probability threshold value.\n",
    "    is_cloud = cld_prb.gt(CLD_PRB_THRESH).rename('clouds')\n",
    "\n",
    "    # Add the cloud probability layer and cloud mask as image bands.\n",
    "    return img.addBands(ee.Image([cld_prb, is_cloud]))\n",
    "\n",
    "\n",
    "def add_shadow_bands(img):\n",
    "    # Identify water pixels from the SCL band.\n",
    "    not_water = img.select('SCL').neq(6)\n",
    "\n",
    "    # Identify dark NIR pixels that are not water (potential cloud shadow pixels).\n",
    "    SR_BAND_SCALE = 1e4\n",
    "    dark_pixels = img.select('B8').lt(NIR_DRK_THRESH*SR_BAND_SCALE).multiply(not_water).rename('dark_pixels')\n",
    "\n",
    "    # Determine the direction to project cloud shadow from clouds (assumes UTM projection).\n",
    "    shadow_azimuth = ee.Number(90).subtract(ee.Number(img.get('MEAN_SOLAR_AZIMUTH_ANGLE')))\n",
    "\n",
    "    # Project shadows from clouds for the distance specified by the CLD_PRJ_DIST input.\n",
    "    cld_proj = (img.select('clouds').directionalDistanceTransform(shadow_azimuth, CLD_PRJ_DIST*10)\n",
    "        .reproject(**{'crs': img.select(0).projection(), 'scale': 100})\n",
    "        .select('distance')\n",
    "        .mask()\n",
    "        .rename('cloud_transform'))\n",
    "\n",
    "    # Identify the intersection of dark pixels with cloud shadow projection.\n",
    "    shadows = cld_proj.multiply(dark_pixels).rename('shadows')\n",
    "\n",
    "    # Add dark pixels, cloud projection, and identified shadows as image bands.\n",
    "    return img.addBands(ee.Image([dark_pixels, cld_proj, shadows]))\n",
    "\n",
    "\n",
    "def add_cld_shdw_mask(img):\n",
    "    # Add cloud component bands.\n",
    "    img_cloud = add_cloud_bands(img)\n",
    "\n",
    "    # Add cloud shadow component bands.\n",
    "    img_cloud_shadow = add_shadow_bands(img_cloud)\n",
    "\n",
    "    # Combine cloud and shadow mask, set cloud and shadow as value 1, else 0.\n",
    "    is_cld_shdw = img_cloud_shadow.select('clouds').add(img_cloud_shadow.select('shadows')).gt(0)\n",
    "\n",
    "    # Remove small cloud-shadow patches and dilate remaining pixels by BUFFER input.\n",
    "    # 20 m scale is for speed, and assumes clouds don't require 10 m precision.\n",
    "    is_cld_shdw = (is_cld_shdw.focalMin(2).focalMax(BUFFER*2/20)\n",
    "        .reproject(**{'crs': img.select([0]).projection(), 'scale': 20})\n",
    "        .rename('cloudmask'))\n",
    "\n",
    "    # Add the final cloud-shadow mask to the image.\n",
    "    return img_cloud_shadow.addBands(is_cld_shdw)\n",
    "\n",
    "\n",
    "def apply_cld_shdw_mask(img):\n",
    "    # Subset the cloudmask band and invert it so clouds/shadow are 0, else 1.\n",
    "    not_cld_shdw = img.select('cloudmask').Not()\n",
    "\n",
    "    # Subset reflectance bands and update their masks, return the result.\n",
    "    #return img.select('B*').updateMask(not_cld_shdw)\n",
    "    return img.updateMask(not_cld_shdw).select(BANDS)"
   ]
  },
  {
   "cell_type": "code",
   "execution_count": 53,
   "id": "9e7b94b9-8b06-41c7-94ee-ac400cb24a96",
   "metadata": {},
   "outputs": [],
   "source": [
    "timeField = 'system:time_start'\n",
    "def add_variables(image):\n",
    "    # Compute time in fractional years since the epoch.\n",
    "    date = ee.Date(image.get(timeField)).millis()\n",
    "    # Return the image with the added bands.\n",
    "    return (image\n",
    "            .addBands(image.normalizedDifference(['B8', 'B4']).rename('ndvi'))\n",
    "            .addBands(ee.Image(date).rename('date').float()))"
   ]
  },
  {
   "cell_type": "code",
   "execution_count": 54,
   "id": "d9245c13-1e36-420d-b6f6-38ee9baa11a7",
   "metadata": {},
   "outputs": [],
   "source": [
    "s2_sr_cld_col = get_s2_sr_cld_col(grid_location_ee, str(start_date), str(end_date))\n",
    "s2_sr = (s2_sr_cld_col\n",
    "         .map(add_cld_shdw_mask)\n",
    "         .map(apply_cld_shdw_mask)\n",
    "         .map(add_variables)).select(['ndvi', 'date'])"
   ]
  },
  {
   "cell_type": "code",
   "execution_count": 61,
   "id": "71ddd328-9e6f-4007-a787-c461743ab398",
   "metadata": {},
   "outputs": [],
   "source": [
    "# Test composite\n",
    "RANGE = date_ranges[5]\n",
    "composite = s2_sr.filterDate(RANGE[0], RANGE[1]).median()"
   ]
  },
  {
   "cell_type": "code",
   "execution_count": 63,
   "id": "8274b083-760d-472b-a817-34b7216fea33",
   "metadata": {},
   "outputs": [
    {
     "data": {
      "application/vnd.jupyter.widget-view+json": {
       "model_id": "fe1eb00cdead4457a84b726fe46eb12d",
       "version_major": 2,
       "version_minor": 0
      },
      "text/plain": [
       "Map(center=[69.42274271589982, -148.38317771747847], controls=(WidgetControl(options=['position', 'transparent…"
      ]
     },
     "execution_count": 63,
     "metadata": {},
     "output_type": "execute_result"
    }
   ],
   "source": [
    "# visualize watersheds and poi\n",
    "Map = gee.Map()\n",
    "Map.center_object(grid_location_ee, 7)\n",
    "Map.addLayer(grid_location_ee, {}, 'watershed')\n",
    "Map.addLayer(composite.clip(grid_location_ee), {'min': -1, 'max': 0}, 'composite')\n",
    "Map"
   ]
  },
  {
   "cell_type": "code",
   "execution_count": null,
   "id": "c24d6b78-33f3-4853-81a8-3af41f643630",
   "metadata": {},
   "outputs": [],
   "source": []
  }
 ],
 "metadata": {
  "kernelspec": {
   "display_name": "Python 3 (ipykernel)",
   "language": "python",
   "name": "python3"
  },
  "language_info": {
   "codemirror_mode": {
    "name": "ipython",
    "version": 3
   },
   "file_extension": ".py",
   "mimetype": "text/x-python",
   "name": "python",
   "nbconvert_exporter": "python",
   "pygments_lexer": "ipython3",
   "version": "3.11.5"
  }
 },
 "nbformat": 4,
 "nbformat_minor": 5
}
