{
 "cells": [
  {
   "cell_type": "code",
   "execution_count": 1,
   "id": "3a88e0d8-e4e1-40cd-bcc9-6988b0de698b",
   "metadata": {},
   "outputs": [],
   "source": [
    "import openeo\n",
    "import pandas as pd"
   ]
  },
  {
   "cell_type": "code",
   "execution_count": 2,
   "id": "0499c323-845f-42bb-a91e-442ad71928ef",
   "metadata": {},
   "outputs": [
    {
     "data": {
      "text/plain": [
       "['SENTINEL3_OLCI_L1B',\n",
       " 'SENTINEL3_SLSTR',\n",
       " 'SENTINEL_5P_L2',\n",
       " 'SENTINEL2_L1C',\n",
       " 'SENTINEL2_L2A',\n",
       " 'SENTINEL1_GRD',\n",
       " 'COPERNICUS_30',\n",
       " 'LANDSAT8_L2']"
      ]
     },
     "execution_count": 2,
     "metadata": {},
     "output_type": "execute_result"
    }
   ],
   "source": [
    "# connect to openeo\n",
    "connection = openeo.connect(\"https://openeo.dataspace.copernicus.eu/openeo/1.2\")\n",
    "connection.list_collection_ids()"
   ]
  },
  {
   "cell_type": "code",
   "execution_count": 3,
   "id": "df9cfdc4-d0f0-45db-9df0-5cb33343fb3c",
   "metadata": {},
   "outputs": [
    {
     "name": "stdout",
     "output_type": "stream",
     "text": [
      "Authenticated using refresh token.\n"
     ]
    },
    {
     "data": {
      "text/plain": [
       "<Connection to 'https://openeo.dataspace.copernicus.eu/openeo/1.2' with OidcBearerAuth>"
      ]
     },
     "execution_count": 3,
     "metadata": {},
     "output_type": "execute_result"
    }
   ],
   "source": [
    "# Authenticate with OIDC authentication\"\n",
    "connection.authenticate_oidc()"
   ]
  },
  {
   "cell_type": "code",
   "execution_count": 5,
   "id": "63c713d0-2dfc-4107-b477-eaf04de8aa46",
   "metadata": {},
   "outputs": [],
   "source": [
    "datacube = connection.load_collection(collection_id='SENTINEL1_GRD',\n",
    "                                      properties=['sar:instrument_mode' == 2,\n",
    "                                                  'sar:satellite:orbit_state')"
   ]
  },
  {
   "cell_type": "code",
   "execution_count": 7,
   "id": "db5bdf8e-ae34-4c39-9a46-c184e6fda5bd",
   "metadata": {},
   "outputs": [],
   "source": [
    "# filter by location, date, and bands\n",
    "datacube = datacube.filter_bbox(west=-169.4, south=52.0, east=-129.0, north=71.4)\n",
    "datacube = datacube.filter_temporal(start_date=\"2019-06-01\", end_date=\"2019-08-31\")\n",
    "datacube = datacube.filter_bands([\"VV\", \"VH\"])"
   ]
  },
  {
   "cell_type": "code",
   "execution_count": 8,
   "id": "270df0eb-ff13-4a45-84b1-7051d7e68fbb",
   "metadata": {},
   "outputs": [
    {
     "data": {
      "text/html": [
       "\n",
       "    <script>\n",
       "    if (!window.customElements || !window.customElements.get('openeo-model-builder')) {\n",
       "        var el = document.createElement('script');\n",
       "        el.src = \"https://cdn.jsdelivr.net/npm/@openeo/vue-components@2/assets/openeo.min.js\";\n",
       "        document.head.appendChild(el);\n",
       "\n",
       "        var font = document.createElement('font');\n",
       "        font.as = \"font\";\n",
       "        font.type = \"font/woff2\";\n",
       "        font.crossOrigin = true;\n",
       "        font.href = \"https://use.fontawesome.com/releases/v5.13.0/webfonts/fa-solid-900.woff2\"\n",
       "        document.head.appendChild(font);\n",
       "    }\n",
       "    </script>\n",
       "    <openeo-model-builder>\n",
       "        <script type=\"application/json\">{\"id\": \"6ce149c4859a412e99e72136120d04dd\", \"explicit-zoom\": true, \"height\": \"400px\", \"value\": {\"process_graph\": {\"loadcollection1\": {\"process_id\": \"load_collection\", \"arguments\": {\"id\": \"SENTINEL1_GRD\", \"spatial_extent\": null, \"temporal_extent\": null}}, \"filterbbox1\": {\"process_id\": \"filter_bbox\", \"arguments\": {\"data\": {\"from_node\": \"loadcollection1\"}, \"extent\": {\"west\": -169.4, \"east\": -129.0, \"north\": 71.4, \"south\": 52.0}}}, \"filtertemporal1\": {\"process_id\": \"filter_temporal\", \"arguments\": {\"data\": {\"from_node\": \"filterbbox1\"}, \"extent\": [\"2019-06-01\", \"2019-08-31\"]}}, \"filterbands1\": {\"process_id\": \"filter_bands\", \"arguments\": {\"bands\": [\"VV\", \"VH\"], \"data\": {\"from_node\": \"filtertemporal1\"}}, \"result\": true}}}}</script>\n",
       "    </openeo-model-builder>\n",
       "    "
      ],
      "text/plain": [
       "<openeo.rest.datacube.DataCube at 0x7fc780303950>"
      ]
     },
     "execution_count": 8,
     "metadata": {},
     "output_type": "execute_result"
    }
   ],
   "source": [
    "datacube."
   ]
  },
  {
   "cell_type": "code",
   "execution_count": 59,
   "id": "3ec7ae40-8573-4164-9885-712b460c2ac4",
   "metadata": {},
   "outputs": [],
   "source": [
    "# mask and create median\n",
    "datacube = datacube.mask(lambda x: x <= -30.0, None)\n",
    "med_summer = datacube.median_time()"
   ]
  },
  {
   "cell_type": "code",
   "execution_count": null,
   "id": "35402107-b861-4f33-8a4c-244fc1344bef",
   "metadata": {},
   "outputs": [],
   "source": []
  }
 ],
 "metadata": {
  "kernelspec": {
   "display_name": "Python 3 (ipykernel)",
   "language": "python",
   "name": "python3"
  },
  "language_info": {
   "codemirror_mode": {
    "name": "ipython",
    "version": 3
   },
   "file_extension": ".py",
   "mimetype": "text/x-python",
   "name": "python",
   "nbconvert_exporter": "python",
   "pygments_lexer": "ipython3",
   "version": "3.11.5"
  }
 },
 "nbformat": 4,
 "nbformat_minor": 5
}
