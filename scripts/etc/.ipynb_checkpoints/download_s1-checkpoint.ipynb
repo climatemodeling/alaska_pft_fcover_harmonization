{
 "cells": [
  {
   "cell_type": "code",
   "execution_count": 1,
   "id": "3a88e0d8-e4e1-40cd-bcc9-6988b0de698b",
   "metadata": {},
   "outputs": [],
   "source": [
    "import openeo\n",
    "import pandas as pd"
   ]
  },
  {
   "cell_type": "code",
   "execution_count": 42,
   "id": "0499c323-845f-42bb-a91e-442ad71928ef",
   "metadata": {},
   "outputs": [
    {
     "data": {
      "text/plain": [
       "['MAPEO_WATER_TUR_V1',\n",
       " 'COP_DEM_EU_25M',\n",
       " 'ESA_WORLDCEREAL_ACTIVECROPLAND',\n",
       " 'ESA_WORLDCEREAL_IRRIGATION',\n",
       " 'ESA_WORLDCEREAL_TEMPORARYCROPS']"
      ]
     },
     "execution_count": 42,
     "metadata": {},
     "output_type": "execute_result"
    }
   ],
   "source": [
    "# connect to openeo\n",
    "connection = openeo.connect(\"https://openeocloud.vito.be/openeo/1.0.0\")\n",
    "connection.list_collection_ids()[:5]"
   ]
  },
  {
   "cell_type": "code",
   "execution_count": 43,
   "id": "df9cfdc4-d0f0-45db-9df0-5cb33343fb3c",
   "metadata": {},
   "outputs": [
    {
     "name": "stdout",
     "output_type": "stream",
     "text": [
      "Authenticated using refresh token.\n"
     ]
    },
    {
     "data": {
      "text/plain": [
       "<Connection to 'https://openeocloud.vito.be/openeo/1.0.0' with OidcBearerAuth>"
      ]
     },
     "execution_count": 43,
     "metadata": {},
     "output_type": "execute_result"
    }
   ],
   "source": [
    "# Authenticate with OIDC authentication\"\n",
    "connection.authenticate_oidc()"
   ]
  },
  {
   "cell_type": "code",
   "execution_count": 46,
   "id": "63c713d0-2dfc-4107-b477-eaf04de8aa46",
   "metadata": {},
   "outputs": [],
   "source": [
    "# see https://docs.openeo.cloud/data-collections/\n",
    "# and https://hub.openeo.org/\n",
    "datacube = connection.load_collection(collection_id='SENTINEL1_GRD',\n",
    "                                      properties=['sar:instrument_mode' == 2, #IW\n",
    "                                                  'sar:satellite:orbit_state' == 2, #descending\n",
    "                                                  'sar:resolution' == 1, #10 range, 10 azimuth; max ability to distinguish 2 close scatters\n",
    "                                                  'sar:range_pixel_spacing' == 1, #10m pixel size\n",
    "                                                  'data_type' == 'gamma0',\n",
    "                                                  'bands' == ['VH', 'HH', 'HV', 'VV'],\n",
    "                                                  'orthorectify' == 'true'])"
   ]
  },
  {
   "cell_type": "code",
   "execution_count": 47,
   "id": "264cb4ac-3a3a-461d-8631-d246ad4b6d6a",
   "metadata": {},
   "outputs": [],
   "source": [
    "def divide_bounds(min_y, max_y, n):\n",
    "    \n",
    "    north_lats = []\n",
    "    south_lats = []\n",
    "    step = (max_y - min_y) / n\n",
    "    \n",
    "    for i in range(n):\n",
    "        north = max_y - i * step\n",
    "        south = north - step\n",
    "        north_lats.append(round(north, 1))\n",
    "        south_lats.append(round(south, 1))\n",
    "        \n",
    "    return north_lats, south_lats"
   ]
  },
  {
   "cell_type": "code",
   "execution_count": 48,
   "id": "380501db-8a8b-44ae-9d42-a6cc0f1ce969",
   "metadata": {},
   "outputs": [],
   "source": [
    "# set min and max lat and number of steps\n",
    "min_y = 52\n",
    "max_y = 72\n",
    "min_x = -169.1\n",
    "max_x = -139.8\n",
    "\n",
    "# do it\n",
    "norths, souths = divide_bounds(min_y, max_y, 8)\n",
    "easts, wests = divide_bounds(min_x, max_x, 8)"
   ]
  },
  {
   "cell_type": "code",
   "execution_count": 49,
   "id": "178b8c34-8f8b-4c62-8fab-d041ac6f3561",
   "metadata": {},
   "outputs": [
    {
     "name": "stdout",
     "output_type": "stream",
     "text": [
      "[72.0, 69.5, 67.0, 64.5, 62.0, 59.5, 57.0, 54.5] [69.5, 67.0, 64.5, 62.0, 59.5, 57.0, 54.5, 52.0] [-143.5, -147.1, -150.8, -154.4, -158.1, -161.8, -165.4, -169.1] [-139.8, -143.5, -147.1, -150.8, -154.4, -158.1, -161.8, -165.4]\n"
     ]
    }
   ],
   "source": [
    "print(norths, souths, wests, easts)"
   ]
  },
  {
   "cell_type": "code",
   "execution_count": 50,
   "id": "30799b32-7880-4ccb-bfe3-033036e2763a",
   "metadata": {},
   "outputs": [],
   "source": [
    "i = 0\n",
    "\n",
    "# filter by location, date, and bands\n",
    "datacube = datacube.filter_bbox(west=wests[i], south=souths[i], east=easts[i], north=norths[i])\n",
    "datacube = datacube.filter_temporal(start_date=\"2019-06-01\", end_date=\"2019-08-31\")\n",
    "datacube = datacube.filter_bands([\"VV\", \"VH\"])"
   ]
  },
  {
   "cell_type": "code",
   "execution_count": 51,
   "id": "3ec7ae40-8573-4164-9885-712b460c2ac4",
   "metadata": {},
   "outputs": [],
   "source": [
    "# mask and create median\n",
    "masked_datacube = datacube.apply(lambda x:x <= -30.0)\n",
    "datacube = datacube.mask(masked_datacube)\n",
    "med_summer = datacube.median_time()"
   ]
  },
  {
   "cell_type": "code",
   "execution_count": 52,
   "id": "2f81fa2b-169d-404f-b964-669d63dec20a",
   "metadata": {},
   "outputs": [],
   "source": [
    "# backscatter\n",
    "med_summer = med_summer.sar_backscatter(coefficient='gamma0-ellipsoid')"
   ]
  },
  {
   "cell_type": "code",
   "execution_count": 53,
   "id": "dbb55aa6-f20b-4f3a-ad51-9b98d0beb1cb",
   "metadata": {},
   "outputs": [
    {
     "name": "stdout",
     "output_type": "stream",
     "text": [
      "{\n",
      "  \"process_graph\": {\n",
      "    \"loadcollection1\": {\n",
      "      \"process_id\": \"load_collection\",\n",
      "      \"arguments\": {\n",
      "        \"id\": \"SENTINEL1_GRD\",\n",
      "        \"spatial_extent\": null,\n",
      "        \"temporal_extent\": null\n",
      "      }\n",
      "    },\n",
      "    \"filterbbox1\": {\n",
      "      \"process_id\": \"filter_bbox\",\n",
      "      \"arguments\": {\n",
      "        \"data\": {\n",
      "          \"from_node\": \"loadcollection1\"\n",
      "        },\n",
      "        \"extent\": {\n",
      "          \"west\": -143.5,\n",
      "          \"east\": -139.8,\n",
      "          \"north\": 72.0,\n",
      "          \"south\": 69.5\n",
      "        }\n",
      "      }\n",
      "    },\n",
      "    \"filtertemporal1\": {\n",
      "      \"process_id\": \"filter_temporal\",\n",
      "      \"arguments\": {\n",
      "        \"data\": {\n",
      "          \"from_node\": \"filterbbox1\"\n",
      "        },\n",
      "        \"extent\": [\n",
      "          \"2019-06-01\",\n",
      "          \"2019-08-31\"\n",
      "        ]\n",
      "      }\n",
      "    },\n",
      "    \"filterbands1\": {\n",
      "      \"process_id\": \"filter_bands\",\n",
      "      \"arguments\": {\n",
      "        \"bands\": [\n",
      "          \"VV\",\n",
      "          \"VH\"\n",
      "        ],\n",
      "        \"data\": {\n",
      "          \"from_node\": \"filtertemporal1\"\n",
      "        }\n",
      "      }\n",
      "    },\n",
      "    \"apply1\": {\n",
      "      \"process_id\": \"apply\",\n",
      "      \"arguments\": {\n",
      "        \"data\": {\n",
      "          \"from_node\": \"filterbands1\"\n",
      "        },\n",
      "        \"process\": {\n",
      "          \"process_graph\": {\n",
      "            \"lte1\": {\n",
      "              \"process_id\": \"lte\",\n",
      "              \"arguments\": {\n",
      "                \"x\": {\n",
      "                  \"from_parameter\": \"x\"\n",
      "                },\n",
      "                \"y\": -30.0\n",
      "              },\n",
      "              \"result\": true\n",
      "            }\n",
      "          }\n",
      "        }\n",
      "      }\n",
      "    },\n",
      "    \"mask1\": {\n",
      "      \"process_id\": \"mask\",\n",
      "      \"arguments\": {\n",
      "        \"data\": {\n",
      "          \"from_node\": \"filterbands1\"\n",
      "        },\n",
      "        \"mask\": {\n",
      "          \"from_node\": \"apply1\"\n",
      "        }\n",
      "      }\n",
      "    },\n",
      "    \"reducedimension1\": {\n",
      "      \"process_id\": \"reduce_dimension\",\n",
      "      \"arguments\": {\n",
      "        \"data\": {\n",
      "          \"from_node\": \"mask1\"\n",
      "        },\n",
      "        \"dimension\": \"t\",\n",
      "        \"reducer\": {\n",
      "          \"process_graph\": {\n",
      "            \"median1\": {\n",
      "              \"process_id\": \"median\",\n",
      "              \"arguments\": {\n",
      "                \"data\": {\n",
      "                  \"from_parameter\": \"data\"\n",
      "                }\n",
      "              },\n",
      "              \"result\": true\n",
      "            }\n",
      "          }\n",
      "        }\n",
      "      }\n",
      "    },\n",
      "    \"sarbackscatter1\": {\n",
      "      \"process_id\": \"sar_backscatter\",\n",
      "      \"arguments\": {\n",
      "        \"coefficient\": \"gamma0-ellipsoid\",\n",
      "        \"contributing_area\": false,\n",
      "        \"data\": {\n",
      "          \"from_node\": \"reducedimension1\"\n",
      "        },\n",
      "        \"elevation_model\": null,\n",
      "        \"ellipsoid_incidence_angle\": false,\n",
      "        \"local_incidence_angle\": false,\n",
      "        \"mask\": false,\n",
      "        \"noise_removal\": true\n",
      "      },\n",
      "      \"result\": true\n",
      "    }\n",
      "  }\n",
      "}\n"
     ]
    }
   ],
   "source": [
    "med_summer.print_json()"
   ]
  },
  {
   "cell_type": "code",
   "execution_count": 54,
   "id": "3651baf0-f8ad-4c7b-b7e7-b0fbcbf705c3",
   "metadata": {},
   "outputs": [
    {
     "data": {
      "text/html": [
       "\n",
       "    <script>\n",
       "    if (!window.customElements || !window.customElements.get('openeo-model-builder')) {\n",
       "        var el = document.createElement('script');\n",
       "        el.src = \"https://cdn.jsdelivr.net/npm/@openeo/vue-components@2/assets/openeo.min.js\";\n",
       "        document.head.appendChild(el);\n",
       "\n",
       "        var font = document.createElement('font');\n",
       "        font.as = \"font\";\n",
       "        font.type = \"font/woff2\";\n",
       "        font.crossOrigin = true;\n",
       "        font.href = \"https://use.fontawesome.com/releases/v5.13.0/webfonts/fa-solid-900.woff2\"\n",
       "        document.head.appendChild(font);\n",
       "    }\n",
       "    </script>\n",
       "    <openeo-model-builder>\n",
       "        <script type=\"application/json\">{\"id\": \"d374243d03e0453a9368b5804759fae4\", \"explicit-zoom\": true, \"height\": \"400px\", \"value\": {\"process_graph\": {\"loadcollection1\": {\"process_id\": \"load_collection\", \"arguments\": {\"id\": \"SENTINEL1_GRD\", \"spatial_extent\": null, \"temporal_extent\": null}}, \"filterbbox1\": {\"process_id\": \"filter_bbox\", \"arguments\": {\"data\": {\"from_node\": \"loadcollection1\"}, \"extent\": {\"west\": -143.5, \"east\": -139.8, \"north\": 72.0, \"south\": 69.5}}}, \"filtertemporal1\": {\"process_id\": \"filter_temporal\", \"arguments\": {\"data\": {\"from_node\": \"filterbbox1\"}, \"extent\": [\"2019-06-01\", \"2019-08-31\"]}}, \"filterbands1\": {\"process_id\": \"filter_bands\", \"arguments\": {\"bands\": [\"VV\", \"VH\"], \"data\": {\"from_node\": \"filtertemporal1\"}}}, \"apply1\": {\"process_id\": \"apply\", \"arguments\": {\"data\": {\"from_node\": \"filterbands1\"}, \"process\": {\"process_graph\": {\"lte1\": {\"process_id\": \"lte\", \"arguments\": {\"x\": {\"from_parameter\": \"x\"}, \"y\": -30.0}, \"result\": true}}}}}, \"mask1\": {\"process_id\": \"mask\", \"arguments\": {\"data\": {\"from_node\": \"filterbands1\"}, \"mask\": {\"from_node\": \"apply1\"}}}, \"reducedimension1\": {\"process_id\": \"reduce_dimension\", \"arguments\": {\"data\": {\"from_node\": \"mask1\"}, \"dimension\": \"t\", \"reducer\": {\"process_graph\": {\"median1\": {\"process_id\": \"median\", \"arguments\": {\"data\": {\"from_parameter\": \"data\"}}, \"result\": true}}}}}, \"sarbackscatter1\": {\"process_id\": \"sar_backscatter\", \"arguments\": {\"coefficient\": \"gamma0-ellipsoid\", \"contributing_area\": false, \"data\": {\"from_node\": \"reducedimension1\"}, \"elevation_model\": null, \"ellipsoid_incidence_angle\": false, \"local_incidence_angle\": false, \"mask\": false, \"noise_removal\": true}}, \"saveresult1\": {\"process_id\": \"save_result\", \"arguments\": {\"data\": {\"from_node\": \"sarbackscatter1\"}, \"format\": \"GTiff\", \"options\": {}}, \"result\": true}}}}</script>\n",
       "    </openeo-model-builder>\n",
       "    "
      ],
      "text/plain": [
       "<openeo.rest.datacube.DataCube at 0x7fb15eb17f50>"
      ]
     },
     "execution_count": 54,
     "metadata": {},
     "output_type": "execute_result"
    }
   ],
   "source": [
    "# create result\n",
    "result = med_summer.save_result(format=\"GTiff\")\n",
    "result"
   ]
  },
  {
   "cell_type": "code",
   "execution_count": 55,
   "id": "6d770d75-c8f7-4d83-9ab8-a5351a47355b",
   "metadata": {},
   "outputs": [
    {
     "ename": "OpenEoApiError",
     "evalue": "[403] PermissionsInsufficient: Proper enrollment in openEO Platform virtual organization is required. (ref: r-23122076871543b2b55d633b8207b1dd)",
     "output_type": "error",
     "traceback": [
      "\u001b[0;31m---------------------------------------------------------------------------\u001b[0m",
      "\u001b[0;31mOpenEoApiError\u001b[0m                            Traceback (most recent call last)",
      "Cell \u001b[0;32mIn[55], line 1\u001b[0m\n\u001b[0;32m----> 1\u001b[0m \u001b[43mresult\u001b[49m\u001b[38;5;241;43m.\u001b[39;49m\u001b[43mdownload\u001b[49m\u001b[43m(\u001b[49m\u001b[43m)\u001b[49m\n",
      "File \u001b[0;32m~/anaconda3/envs/gee/lib/python3.11/site-packages/openeo/rest/datacube.py:2079\u001b[0m, in \u001b[0;36mDataCube.download\u001b[0;34m(self, outputfile, format, options, validate)\u001b[0m\n\u001b[1;32m   2077\u001b[0m     \u001b[38;5;28mformat\u001b[39m \u001b[38;5;241m=\u001b[39m guess_format(outputfile)\n\u001b[1;32m   2078\u001b[0m cube \u001b[38;5;241m=\u001b[39m \u001b[38;5;28mself\u001b[39m\u001b[38;5;241m.\u001b[39m_ensure_save_result(\u001b[38;5;28mformat\u001b[39m\u001b[38;5;241m=\u001b[39m\u001b[38;5;28mformat\u001b[39m, options\u001b[38;5;241m=\u001b[39moptions)\n\u001b[0;32m-> 2079\u001b[0m \u001b[38;5;28;01mreturn\u001b[39;00m \u001b[38;5;28;43mself\u001b[39;49m\u001b[38;5;241;43m.\u001b[39;49m\u001b[43m_connection\u001b[49m\u001b[38;5;241;43m.\u001b[39;49m\u001b[43mdownload\u001b[49m\u001b[43m(\u001b[49m\u001b[43mcube\u001b[49m\u001b[38;5;241;43m.\u001b[39;49m\u001b[43mflat_graph\u001b[49m\u001b[43m(\u001b[49m\u001b[43m)\u001b[49m\u001b[43m,\u001b[49m\u001b[43m \u001b[49m\u001b[43moutputfile\u001b[49m\u001b[43m,\u001b[49m\u001b[43m \u001b[49m\u001b[43mvalidate\u001b[49m\u001b[38;5;241;43m=\u001b[39;49m\u001b[43mvalidate\u001b[49m\u001b[43m)\u001b[49m\n",
      "File \u001b[0;32m~/anaconda3/envs/gee/lib/python3.11/site-packages/openeo/rest/connection.py:1547\u001b[0m, in \u001b[0;36mConnection.download\u001b[0;34m(self, graph, outputfile, timeout, validate)\u001b[0m\n\u001b[1;32m   1545\u001b[0m pg_with_metadata \u001b[38;5;241m=\u001b[39m \u001b[38;5;28mself\u001b[39m\u001b[38;5;241m.\u001b[39m_build_request_with_process_graph(process_graph\u001b[38;5;241m=\u001b[39mgraph)\n\u001b[1;32m   1546\u001b[0m \u001b[38;5;28mself\u001b[39m\u001b[38;5;241m.\u001b[39m_preflight_validation(pg_with_metadata\u001b[38;5;241m=\u001b[39mpg_with_metadata, validate\u001b[38;5;241m=\u001b[39mvalidate)\n\u001b[0;32m-> 1547\u001b[0m response \u001b[38;5;241m=\u001b[39m \u001b[38;5;28;43mself\u001b[39;49m\u001b[38;5;241;43m.\u001b[39;49m\u001b[43mpost\u001b[49m\u001b[43m(\u001b[49m\n\u001b[1;32m   1548\u001b[0m \u001b[43m    \u001b[49m\u001b[43mpath\u001b[49m\u001b[38;5;241;43m=\u001b[39;49m\u001b[38;5;124;43m\"\u001b[39;49m\u001b[38;5;124;43m/result\u001b[39;49m\u001b[38;5;124;43m\"\u001b[39;49m\u001b[43m,\u001b[49m\n\u001b[1;32m   1549\u001b[0m \u001b[43m    \u001b[49m\u001b[43mjson\u001b[49m\u001b[38;5;241;43m=\u001b[39;49m\u001b[43mpg_with_metadata\u001b[49m\u001b[43m,\u001b[49m\n\u001b[1;32m   1550\u001b[0m \u001b[43m    \u001b[49m\u001b[43mexpected_status\u001b[49m\u001b[38;5;241;43m=\u001b[39;49m\u001b[38;5;241;43m200\u001b[39;49m\u001b[43m,\u001b[49m\n\u001b[1;32m   1551\u001b[0m \u001b[43m    \u001b[49m\u001b[43mstream\u001b[49m\u001b[38;5;241;43m=\u001b[39;49m\u001b[38;5;28;43;01mTrue\u001b[39;49;00m\u001b[43m,\u001b[49m\n\u001b[1;32m   1552\u001b[0m \u001b[43m    \u001b[49m\u001b[43mtimeout\u001b[49m\u001b[38;5;241;43m=\u001b[39;49m\u001b[43mtimeout\u001b[49m\u001b[43m \u001b[49m\u001b[38;5;129;43;01mor\u001b[39;49;00m\u001b[43m \u001b[49m\u001b[43mDEFAULT_TIMEOUT_SYNCHRONOUS_EXECUTE\u001b[49m\u001b[43m,\u001b[49m\n\u001b[1;32m   1553\u001b[0m \u001b[43m\u001b[49m\u001b[43m)\u001b[49m\n\u001b[1;32m   1555\u001b[0m \u001b[38;5;28;01mif\u001b[39;00m outputfile \u001b[38;5;129;01mis\u001b[39;00m \u001b[38;5;129;01mnot\u001b[39;00m \u001b[38;5;28;01mNone\u001b[39;00m:\n\u001b[1;32m   1556\u001b[0m     \u001b[38;5;28;01mwith\u001b[39;00m Path(outputfile)\u001b[38;5;241m.\u001b[39mopen(mode\u001b[38;5;241m=\u001b[39m\u001b[38;5;124m\"\u001b[39m\u001b[38;5;124mwb\u001b[39m\u001b[38;5;124m\"\u001b[39m) \u001b[38;5;28;01mas\u001b[39;00m f:\n",
      "File \u001b[0;32m~/anaconda3/envs/gee/lib/python3.11/site-packages/openeo/rest/connection.py:218\u001b[0m, in \u001b[0;36mRestApiConnection.post\u001b[0;34m(self, path, json, **kwargs)\u001b[0m\n\u001b[1;32m    210\u001b[0m \u001b[38;5;28;01mdef\u001b[39;00m \u001b[38;5;21mpost\u001b[39m(\u001b[38;5;28mself\u001b[39m, path: \u001b[38;5;28mstr\u001b[39m, json: Optional[\u001b[38;5;28mdict\u001b[39m] \u001b[38;5;241m=\u001b[39m \u001b[38;5;28;01mNone\u001b[39;00m, \u001b[38;5;241m*\u001b[39m\u001b[38;5;241m*\u001b[39mkwargs) \u001b[38;5;241m-\u001b[39m\u001b[38;5;241m>\u001b[39m Response:\n\u001b[1;32m    211\u001b[0m \u001b[38;5;250m    \u001b[39m\u001b[38;5;124;03m\"\"\"\u001b[39;00m\n\u001b[1;32m    212\u001b[0m \u001b[38;5;124;03m    Do POST request to REST API.\u001b[39;00m\n\u001b[1;32m    213\u001b[0m \n\u001b[0;32m   (...)\u001b[0m\n\u001b[1;32m    216\u001b[0m \u001b[38;5;124;03m    :return: response: Response\u001b[39;00m\n\u001b[1;32m    217\u001b[0m \u001b[38;5;124;03m    \"\"\"\u001b[39;00m\n\u001b[0;32m--> 218\u001b[0m     \u001b[38;5;28;01mreturn\u001b[39;00m \u001b[38;5;28;43mself\u001b[39;49m\u001b[38;5;241;43m.\u001b[39;49m\u001b[43mrequest\u001b[49m\u001b[43m(\u001b[49m\u001b[38;5;124;43m\"\u001b[39;49m\u001b[38;5;124;43mpost\u001b[39;49m\u001b[38;5;124;43m\"\u001b[39;49m\u001b[43m,\u001b[49m\u001b[43m \u001b[49m\u001b[43mpath\u001b[49m\u001b[38;5;241;43m=\u001b[39;49m\u001b[43mpath\u001b[49m\u001b[43m,\u001b[49m\u001b[43m \u001b[49m\u001b[43mjson\u001b[49m\u001b[38;5;241;43m=\u001b[39;49m\u001b[43mjson\u001b[49m\u001b[43m,\u001b[49m\u001b[43m \u001b[49m\u001b[43mallow_redirects\u001b[49m\u001b[38;5;241;43m=\u001b[39;49m\u001b[38;5;28;43;01mFalse\u001b[39;49;00m\u001b[43m,\u001b[49m\u001b[43m \u001b[49m\u001b[38;5;241;43m*\u001b[39;49m\u001b[38;5;241;43m*\u001b[39;49m\u001b[43mkwargs\u001b[49m\u001b[43m)\u001b[49m\n",
      "File \u001b[0;32m~/anaconda3/envs/gee/lib/python3.11/site-packages/openeo/rest/connection.py:757\u001b[0m, in \u001b[0;36mConnection.request\u001b[0;34m(self, method, path, headers, auth, check_error, expected_status, **kwargs)\u001b[0m\n\u001b[1;32m    750\u001b[0m     \u001b[38;5;28;01mreturn\u001b[39;00m \u001b[38;5;28msuper\u001b[39m(Connection, \u001b[38;5;28mself\u001b[39m)\u001b[38;5;241m.\u001b[39mrequest(\n\u001b[1;32m    751\u001b[0m         method\u001b[38;5;241m=\u001b[39mmethod, path\u001b[38;5;241m=\u001b[39mpath, headers\u001b[38;5;241m=\u001b[39mheaders, auth\u001b[38;5;241m=\u001b[39mauth,\n\u001b[1;32m    752\u001b[0m         check_error\u001b[38;5;241m=\u001b[39mcheck_error, expected_status\u001b[38;5;241m=\u001b[39mexpected_status, \u001b[38;5;241m*\u001b[39m\u001b[38;5;241m*\u001b[39mkwargs,\n\u001b[1;32m    753\u001b[0m     )\n\u001b[1;32m    755\u001b[0m \u001b[38;5;28;01mtry\u001b[39;00m:\n\u001b[1;32m    756\u001b[0m     \u001b[38;5;66;03m# Initial request attempt\u001b[39;00m\n\u001b[0;32m--> 757\u001b[0m     \u001b[38;5;28;01mreturn\u001b[39;00m \u001b[43m_request\u001b[49m\u001b[43m(\u001b[49m\u001b[43m)\u001b[49m\n\u001b[1;32m    758\u001b[0m \u001b[38;5;28;01mexcept\u001b[39;00m OpenEoApiError \u001b[38;5;28;01mas\u001b[39;00m api_exc:\n\u001b[1;32m    759\u001b[0m     \u001b[38;5;28;01mif\u001b[39;00m api_exc\u001b[38;5;241m.\u001b[39mhttp_status_code \u001b[38;5;129;01min\u001b[39;00m {\u001b[38;5;241m401\u001b[39m, \u001b[38;5;241m403\u001b[39m} \u001b[38;5;129;01mand\u001b[39;00m api_exc\u001b[38;5;241m.\u001b[39mcode \u001b[38;5;241m==\u001b[39m \u001b[38;5;124m\"\u001b[39m\u001b[38;5;124mTokenInvalid\u001b[39m\u001b[38;5;124m\"\u001b[39m:\n\u001b[1;32m    760\u001b[0m         \u001b[38;5;66;03m# Auth token expired: can we refresh?\u001b[39;00m\n",
      "File \u001b[0;32m~/anaconda3/envs/gee/lib/python3.11/site-packages/openeo/rest/connection.py:750\u001b[0m, in \u001b[0;36mConnection.request.<locals>._request\u001b[0;34m()\u001b[0m\n\u001b[1;32m    749\u001b[0m \u001b[38;5;28;01mdef\u001b[39;00m \u001b[38;5;21m_request\u001b[39m():\n\u001b[0;32m--> 750\u001b[0m     \u001b[38;5;28;01mreturn\u001b[39;00m \u001b[38;5;28;43msuper\u001b[39;49m\u001b[43m(\u001b[49m\u001b[43mConnection\u001b[49m\u001b[43m,\u001b[49m\u001b[43m \u001b[49m\u001b[38;5;28;43mself\u001b[39;49m\u001b[43m)\u001b[49m\u001b[38;5;241;43m.\u001b[39;49m\u001b[43mrequest\u001b[49m\u001b[43m(\u001b[49m\n\u001b[1;32m    751\u001b[0m \u001b[43m        \u001b[49m\u001b[43mmethod\u001b[49m\u001b[38;5;241;43m=\u001b[39;49m\u001b[43mmethod\u001b[49m\u001b[43m,\u001b[49m\u001b[43m \u001b[49m\u001b[43mpath\u001b[49m\u001b[38;5;241;43m=\u001b[39;49m\u001b[43mpath\u001b[49m\u001b[43m,\u001b[49m\u001b[43m \u001b[49m\u001b[43mheaders\u001b[49m\u001b[38;5;241;43m=\u001b[39;49m\u001b[43mheaders\u001b[49m\u001b[43m,\u001b[49m\u001b[43m \u001b[49m\u001b[43mauth\u001b[49m\u001b[38;5;241;43m=\u001b[39;49m\u001b[43mauth\u001b[49m\u001b[43m,\u001b[49m\n\u001b[1;32m    752\u001b[0m \u001b[43m        \u001b[49m\u001b[43mcheck_error\u001b[49m\u001b[38;5;241;43m=\u001b[39;49m\u001b[43mcheck_error\u001b[49m\u001b[43m,\u001b[49m\u001b[43m \u001b[49m\u001b[43mexpected_status\u001b[49m\u001b[38;5;241;43m=\u001b[39;49m\u001b[43mexpected_status\u001b[49m\u001b[43m,\u001b[49m\u001b[43m \u001b[49m\u001b[38;5;241;43m*\u001b[39;49m\u001b[38;5;241;43m*\u001b[39;49m\u001b[43mkwargs\u001b[49m\u001b[43m,\u001b[49m\n\u001b[1;32m    753\u001b[0m \u001b[43m    \u001b[49m\u001b[43m)\u001b[49m\n",
      "File \u001b[0;32m~/anaconda3/envs/gee/lib/python3.11/site-packages/openeo/rest/connection.py:165\u001b[0m, in \u001b[0;36mRestApiConnection.request\u001b[0;34m(self, method, path, headers, auth, check_error, expected_status, **kwargs)\u001b[0m\n\u001b[1;32m    163\u001b[0m expected_status \u001b[38;5;241m=\u001b[39m ensure_list(expected_status) \u001b[38;5;28;01mif\u001b[39;00m expected_status \u001b[38;5;28;01melse\u001b[39;00m []\n\u001b[1;32m    164\u001b[0m \u001b[38;5;28;01mif\u001b[39;00m check_error \u001b[38;5;129;01mand\u001b[39;00m status \u001b[38;5;241m>\u001b[39m\u001b[38;5;241m=\u001b[39m \u001b[38;5;241m400\u001b[39m \u001b[38;5;129;01mand\u001b[39;00m status \u001b[38;5;129;01mnot\u001b[39;00m \u001b[38;5;129;01min\u001b[39;00m expected_status:\n\u001b[0;32m--> 165\u001b[0m     \u001b[38;5;28;43mself\u001b[39;49m\u001b[38;5;241;43m.\u001b[39;49m\u001b[43m_raise_api_error\u001b[49m\u001b[43m(\u001b[49m\u001b[43mresp\u001b[49m\u001b[43m)\u001b[49m\n\u001b[1;32m    166\u001b[0m \u001b[38;5;28;01mif\u001b[39;00m expected_status \u001b[38;5;129;01mand\u001b[39;00m status \u001b[38;5;129;01mnot\u001b[39;00m \u001b[38;5;129;01min\u001b[39;00m expected_status:\n\u001b[1;32m    167\u001b[0m     \u001b[38;5;28;01mraise\u001b[39;00m OpenEoRestError(\u001b[38;5;124m\"\u001b[39m\u001b[38;5;124mGot status code \u001b[39m\u001b[38;5;132;01m{s!r}\u001b[39;00m\u001b[38;5;124m for `\u001b[39m\u001b[38;5;132;01m{m}\u001b[39;00m\u001b[38;5;124m \u001b[39m\u001b[38;5;132;01m{p}\u001b[39;00m\u001b[38;5;124m` (expected \u001b[39m\u001b[38;5;132;01m{e!r}\u001b[39;00m\u001b[38;5;124m) with body \u001b[39m\u001b[38;5;132;01m{body}\u001b[39;00m\u001b[38;5;124m\"\u001b[39m\u001b[38;5;241m.\u001b[39mformat(\n\u001b[1;32m    168\u001b[0m         m\u001b[38;5;241m=\u001b[39mmethod\u001b[38;5;241m.\u001b[39mupper(), p\u001b[38;5;241m=\u001b[39mpath, s\u001b[38;5;241m=\u001b[39mstatus, e\u001b[38;5;241m=\u001b[39mexpected_status, body\u001b[38;5;241m=\u001b[39mresp\u001b[38;5;241m.\u001b[39mtext)\n\u001b[1;32m    169\u001b[0m     )\n",
      "File \u001b[0;32m~/anaconda3/envs/gee/lib/python3.11/site-packages/openeo/rest/connection.py:197\u001b[0m, in \u001b[0;36mRestApiConnection._raise_api_error\u001b[0;34m(self, response)\u001b[0m\n\u001b[1;32m    191\u001b[0m         error_message \u001b[38;5;241m=\u001b[39m (\n\u001b[1;32m    192\u001b[0m             \u001b[38;5;124m\"\u001b[39m\u001b[38;5;124mReceived 502 Proxy Error.\u001b[39m\u001b[38;5;124m\"\u001b[39m\n\u001b[1;32m    193\u001b[0m             \u001b[38;5;124m\"\u001b[39m\u001b[38;5;124m This typically happens when a synchronous openEO processing request takes too long and is aborted.\u001b[39m\u001b[38;5;124m\"\u001b[39m\n\u001b[1;32m    194\u001b[0m             \u001b[38;5;124m\"\u001b[39m\u001b[38;5;124m Consider using a batch job instead.\u001b[39m\u001b[38;5;124m\"\u001b[39m\n\u001b[1;32m    195\u001b[0m         )\n\u001b[1;32m    196\u001b[0m     exception \u001b[38;5;241m=\u001b[39m OpenEoApiPlainError(message\u001b[38;5;241m=\u001b[39mtext, http_status_code\u001b[38;5;241m=\u001b[39mstatus_code, error_message\u001b[38;5;241m=\u001b[39merror_message)\n\u001b[0;32m--> 197\u001b[0m \u001b[38;5;28;01mraise\u001b[39;00m exception\n",
      "\u001b[0;31mOpenEoApiError\u001b[0m: [403] PermissionsInsufficient: Proper enrollment in openEO Platform virtual organization is required. (ref: r-23122076871543b2b55d633b8207b1dd)"
     ]
    }
   ],
   "source": [
    "result.download()"
   ]
  },
  {
   "cell_type": "code",
   "execution_count": null,
   "id": "3afd330d-8a9d-49f6-bf7f-3389457a4535",
   "metadata": {},
   "outputs": [],
   "source": []
  },
  {
   "cell_type": "code",
   "execution_count": null,
   "id": "44e2de09-3fbb-4292-b618-b80dda34c88b",
   "metadata": {},
   "outputs": [],
   "source": []
  },
  {
   "cell_type": "code",
   "execution_count": 1,
   "id": "05514cac-fc3d-4832-9090-f58d618b5b95",
   "metadata": {},
   "outputs": [],
   "source": [
    "import asf_search as asf\n",
    "import geopandas as gpd\n",
    "from shapely.geometry import Polygon, box\n",
    "from datetime import date\n",
    "import pandas as pd\n",
    "import numpy as np\n",
    "import requests\n",
    "import os"
   ]
  },
  {
   "cell_type": "code",
   "execution_count": 2,
   "id": "5b6ba5a4-3dba-49ea-a864-e58479c40e2f",
   "metadata": {},
   "outputs": [],
   "source": [
    "def divide_bounds(min_y, max_y, n):\n",
    "    \n",
    "    north_lats = []\n",
    "    south_lats = []\n",
    "    step = (max_y - min_y) / n\n",
    "    \n",
    "    for i in range(n):\n",
    "        north = max_y - i * step\n",
    "        south = north - step\n",
    "        north_lats.append(round(north, 1))\n",
    "        south_lats.append(round(south, 1))\n",
    "        \n",
    "    return north_lats, south_lats"
   ]
  },
  {
   "cell_type": "code",
   "execution_count": 3,
   "id": "6b0d1005-a285-4c94-ab32-7eb6eb03a194",
   "metadata": {},
   "outputs": [],
   "source": [
    "# overriding requests.Session.rebuild_auth to mantain headers when redirected\n",
    "class SessionWithHeaderRedirection(requests.Session):\n",
    "\n",
    "    AUTH_HOST = 'urs.earthdata.nasa.gov'\n",
    "    def __init__(self, username, password):\n",
    "        super().__init__()\n",
    "        self.auth = (username, password)\n",
    "\n",
    "   # Overrides from the library to keep headers when redirected to or from\n",
    "   # the NASA auth host.\n",
    "    def rebuild_auth(self, prepared_request, response):\n",
    "        \n",
    "        headers = prepared_request.headers\n",
    "        url = prepared_request.url\n",
    "\n",
    "        if 'Authorization' in headers:\n",
    "\n",
    "            original_parsed = requests.utils.urlparse(response.request.url)\n",
    "            redirect_parsed = requests.utils.urlparse(url)\n",
    "\n",
    "            if ((original_parsed.hostname != redirect_parsed.hostname) and\n",
    "                redirect_parsed.hostname != self.AUTH_HOST and \n",
    "                original_parsed.hostname != self.AUTH_HOST):\n",
    "                del headers['Authorization']\n",
    "\n",
    "        return"
   ]
  },
  {
   "cell_type": "code",
   "execution_count": 4,
   "id": "f157dc83-555d-40b1-9fff-ca61334473a7",
   "metadata": {},
   "outputs": [],
   "source": [
    "# set min and max lat and number of steps\n",
    "min_y = 52\n",
    "max_y = 72\n",
    "min_x = -169.1\n",
    "max_x = -139.8\n",
    "\n",
    "# do it\n",
    "norths, souths = divide_bounds(min_y, max_y, 8)\n",
    "easts, wests = divide_bounds(min_x, max_x, 8)"
   ]
  },
  {
   "cell_type": "code",
   "execution_count": 5,
   "id": "e4b0461e-acc9-4376-a098-534b7fd14b44",
   "metadata": {},
   "outputs": [],
   "source": [
    "nw = pd.DataFrame({'w':wests, 'n':norths})\n",
    "ne = pd.DataFrame({'e':easts, 'n':norths})\n",
    "sw = pd.DataFrame({'w':wests, 's':souths})\n",
    "se = pd.DataFrame({'e':easts, 's':souths})"
   ]
  },
  {
   "cell_type": "code",
   "execution_count": 6,
   "id": "973f1701-794b-4252-b50f-36cc59edf216",
   "metadata": {},
   "outputs": [],
   "source": [
    "nw['nw'] = nw.values.tolist()\n",
    "ne['ne'] = ne.values.tolist()\n",
    "sw['sw'] = sw.values.tolist()\n",
    "se['se'] = se.values.tolist()"
   ]
  },
  {
   "cell_type": "code",
   "execution_count": 7,
   "id": "f1f01e55-6177-4e50-838b-ab26a6cbac9c",
   "metadata": {},
   "outputs": [],
   "source": [
    "all_urls = []\n",
    "for i in range(1,len(nw)):\n",
    "    \n",
    "    # get bounds\n",
    "    poly = Polygon([nw['nw'][i], ne['ne'][i], se['se'][i], sw['sw'][i]])\n",
    "    bounds = poly.bounds\n",
    "    gdf_bounds = gpd.GeoSeries([box(*bounds)], crs='EPSG:4326')\n",
    "    wkt_aoi = gdf_bounds.to_wkt().values.tolist()[0]\n",
    "    \n",
    "    # initial query through asf\n",
    "    asf.CMR_TIMEOUT = 60\n",
    "    results = asf.search(platform=asf.PLATFORM.SENTINEL1,\n",
    "                         processingLevel=[asf.PRODUCT_TYPE.GRD_HD, \n",
    "                                          asf.PRODUCT_TYPE.GRD_FD,\n",
    "                                          asf.PRODUCT_TYPE.GRD_HS,\n",
    "                                          asf.PRODUCT_TYPE.GRD_MD,\n",
    "                                          asf.PRODUCT_TYPE.GRD_MS],\n",
    "                         start=date(2019, 6, 1),\n",
    "                         end=date(2019, 8, 31),\n",
    "                         intersectsWith=wkt_aoi)\n",
    "\n",
    "    # metadata to dictionary\n",
    "    metadata = results.geojson()\n",
    "    \n",
    "    # get flight direction metadata\n",
    "    direction = []\n",
    "    for f in range(len(metadata['features'])):\n",
    "        flightDirection = metadata['features'][f]['properties']['flightDirection']\n",
    "        if flightDirection:\n",
    "            direction.append(flightDirection)\n",
    "\n",
    "    # determine flight path filter\n",
    "    direction_counts = np.unique(direction, return_counts=True)\n",
    "    if direction_counts[1][0] > direction_counts[1][1]:\n",
    "        flight_path = direction_counts[0][0]\n",
    "    else:\n",
    "        flight_path = direction_counts[0][1]\n",
    "\n",
    "    # filter by metadata properties\n",
    "    asf.CMR_TIMEOUT = 60\n",
    "    results = asf.search(platform=asf.PLATFORM.SENTINEL1,\n",
    "                         processingLevel=[asf.PRODUCT_TYPE.GRD_HD, \n",
    "                                          asf.PRODUCT_TYPE.GRD_FD,\n",
    "                                          asf.PRODUCT_TYPE.GRD_HS,\n",
    "                                          asf.PRODUCT_TYPE.GRD_MD,\n",
    "                                          asf.PRODUCT_TYPE.GRD_MS],\n",
    "                         start=date(2019, 6, 1),\n",
    "                         end=date(2019, 8, 31),\n",
    "                         intersectsWith=wkt_aoi,\n",
    "                         beamMode='IW',\n",
    "                         flightDirection=flight_path)\n",
    "    metadata = results.geojson()\n",
    "    \n",
    "    # get urls\n",
    "    for f in range(len(metadata['features'])):    \n",
    "        url = metadata['features'][f]['properties']['url']\n",
    "        #if os.path.isfile(outpath) == False:\n",
    "        all_urls.append(url)"
   ]
  },
  {
   "cell_type": "code",
   "execution_count": 8,
   "id": "52a1e106-a5f7-46f0-9700-f1080a562b9a",
   "metadata": {},
   "outputs": [],
   "source": [
    "EARTHDATA_USER='msteckler98'\n",
    "EARTHDATA_PASS='E@rthd@t@1998!'\n",
    "session = SessionWithHeaderRedirection(EARTHDATA_USER, EARTHDATA_PASS)"
   ]
  },
  {
   "cell_type": "code",
   "execution_count": 10,
   "id": "d486354b-cbed-4ecd-bc69-386ccb6f6473",
   "metadata": {},
   "outputs": [],
   "source": [
    "txt = '/mnt/poseidon/remotesensing/arctic/scripts/snap_esa/Sentinel1/s1_alaska_https.txt'\n",
    "for url in all_urls:\n",
    "    with open(txt, 'a') as file:\n",
    "        file.write(f'{url}\\n')"
   ]
  },
  {
   "cell_type": "code",
   "execution_count": 41,
   "id": "54827b9b-7018-41ac-ae5f-f5d1e1e7158f",
   "metadata": {},
   "outputs": [],
   "source": [
    "# authenticate with earthdata credentials\n",
    "# USERNAME = 'msteckler98'\n",
    "# PASSWORD = 'E@rthd@t@1998!'\n",
    "# session = asf.ASFSession().auth_with_creds(USERNAME, PASSWORD)"
   ]
  }
 ],
 "metadata": {
  "kernelspec": {
   "display_name": "Python 3 (ipykernel)",
   "language": "python",
   "name": "python3"
  },
  "language_info": {
   "codemirror_mode": {
    "name": "ipython",
    "version": 3
   },
   "file_extension": ".py",
   "mimetype": "text/x-python",
   "name": "python",
   "nbconvert_exporter": "python",
   "pygments_lexer": "ipython3",
   "version": "3.11.5"
  }
 },
 "nbformat": 4,
 "nbformat_minor": 5
}
