{
 "cells": [
  {
   "cell_type": "code",
   "execution_count": 1,
   "id": "e0e234fb-cc54-41bb-aa1b-58f810468695",
   "metadata": {},
   "outputs": [],
   "source": [
    "import geemap as gee\n",
    "import ee\n",
    "import geopandas as gpd\n",
    "import pandas as pd\n",
    "import numpy as np\n",
    "from datetime import date, timedelta\n",
    "from pyogrio import read_dataframe\n",
    "import glob\n",
    "import geopandas as gpd\n",
    "import contextily as cx\n",
    "import os\n",
    "import standardize_pft_funcs as spf\n",
    "import chardet\n",
    "from sklearn.metrics import mean_squared_error, mean_absolute_error"
   ]
  },
  {
   "cell_type": "code",
   "execution_count": 2,
   "id": "0cb82852-5e6e-49c3-8ace-54aca5b07372",
   "metadata": {},
   "outputs": [
    {
     "name": "stdout",
     "output_type": "stream",
     "text": [
      "GEE token expired. Use Jupyter Lab to authenticate\n"
     ]
    },
    {
     "data": {
      "text/html": [
       "<p>To authorize access needed by Earth Engine, open the following\n",
       "        URL in a web browser and follow the instructions:</p>\n",
       "        <p><a href=https://code.earthengine.google.com/client-auth?scopes=https%3A//www.googleapis.com/auth/earthengine%20https%3A//www.googleapis.com/auth/devstorage.full_control&request_id=Iz-HXT0tsNEixApa0dHkqQKe3mqnvPd0YjTkYGyj1P0&tc=TC7_fdJwzquUyb-1C3lT5bOHolek5X69udI2KclMvwI&cc=la6XzNEQS5JYWKvhVTPiBuitdQX-GN6adsHUPQfkOao>https://code.earthengine.google.com/client-auth?scopes=https%3A//www.googleapis.com/auth/earthengine%20https%3A//www.googleapis.com/auth/devstorage.full_control&request_id=Iz-HXT0tsNEixApa0dHkqQKe3mqnvPd0YjTkYGyj1P0&tc=TC7_fdJwzquUyb-1C3lT5bOHolek5X69udI2KclMvwI&cc=la6XzNEQS5JYWKvhVTPiBuitdQX-GN6adsHUPQfkOao</a></p>\n",
       "        <p>The authorization workflow will generate a code, which you should paste in the box below.</p>\n",
       "        "
      ],
      "text/plain": [
       "<IPython.core.display.HTML object>"
      ]
     },
     "metadata": {},
     "output_type": "display_data"
    },
    {
     "name": "stdin",
     "output_type": "stream",
     "text": [
      "Enter verification code:  4/1AeaYSHB9_xBtVJmH3tRg8NLQy4Ehe6hIpu8soS-YcMhjC3fafklgczLSG_8\n"
     ]
    },
    {
     "name": "stdout",
     "output_type": "stream",
     "text": [
      "\n",
      "Successfully saved authorization token.\n"
     ]
    }
   ],
   "source": [
    "try:\n",
    "    ee.Initialize()\n",
    "except Exception as e:\n",
    "    print('GEE token expired. Use Jupyter Lab to authenticate')\n",
    "    ee.Authenticate()"
   ]
  },
  {
   "cell_type": "markdown",
   "id": "205b5023-6703-461a-b43f-6f2d369e983a",
   "metadata": {},
   "source": [
    "# Read Turboveg Data"
   ]
  },
  {
   "cell_type": "code",
   "execution_count": 3,
   "id": "d631a695-7139-4eb2-a8d0-9679741e8d62",
   "metadata": {},
   "outputs": [],
   "source": [
    "d = '/mnt/poseidon/remotesensing/arctic/data/vectors/ava_turboveg/ak_tvexport_releves_header_data_for_vegbank_20181106_ALB.xlsx'\n",
    "a = '/mnt/poseidon/remotesensing/arctic/data/vectors/ava_turboveg/header_data_ckan_pubpage.xlsx'"
   ]
  },
  {
   "cell_type": "code",
   "execution_count": 4,
   "id": "ab58143c-9f9b-4496-a08d-64c154e4c08e",
   "metadata": {},
   "outputs": [],
   "source": [
    "data = read_dataframe(d, na_values=-9)\n",
    "data = data.tail(-1)"
   ]
  },
  {
   "cell_type": "markdown",
   "id": "a62b97e9-82c4-4985-88c6-b1b003c6647c",
   "metadata": {},
   "source": [
    "## Extract all AVA data"
   ]
  },
  {
   "cell_type": "code",
   "execution_count": 5,
   "id": "cb55c2da-09fa-42d5-9ae1-f93c193c9e7f",
   "metadata": {},
   "outputs": [],
   "source": [
    "# extract all AVA turboveg data\n",
    "ava_points = gpd.GeoDataFrame(data, \n",
    "                              geometry=gpd.points_from_xy(data['Longitude (decimal degrees)'], data['Latitude (decimal degrees)']), \n",
    "                              crs=\"EPSG:4326\")"
   ]
  },
  {
   "cell_type": "markdown",
   "id": "140623f4-ab8b-4f45-8af0-b3ee419c9865",
   "metadata": {},
   "source": [
    "## Extract post-2010 AVA data"
   ]
  },
  {
   "cell_type": "code",
   "execution_count": 6,
   "id": "e1779640-fb22-4c82-9cef-6c69ef649bca",
   "metadata": {},
   "outputs": [
    {
     "data": {
      "text/plain": [
       "382"
      ]
     },
     "execution_count": 6,
     "metadata": {},
     "output_type": "execute_result"
    }
   ],
   "source": [
    "# extract post-2000 AVA data\n",
    "def getyear(row):\n",
    "    string = str(row)\n",
    "    date = string[:4]\n",
    "    return int(date)\n",
    "\n",
    "copy = ava_points.copy()\n",
    "copy['Date (yyyymmdd)'] = copy['Date (yyyymmdd)'].astype(int)\n",
    "copy['year'] = copy['Date (yyyymmdd)'].apply(getyear)\n",
    "gte_2010 = copy[copy['year'] >= 2010]\n",
    "len(gte_2010)"
   ]
  },
  {
   "cell_type": "markdown",
   "id": "8712591f-50ee-4969-a4f0-c5157940a61c",
   "metadata": {},
   "source": [
    "## Select post-2010 data"
   ]
  },
  {
   "cell_type": "code",
   "execution_count": 7,
   "id": "b5e3262c-e2e6-467c-a5ed-38f478e9ccf6",
   "metadata": {},
   "outputs": [],
   "source": [
    "# extract all AVA turboveg data\n",
    "ava_points = gpd.GeoDataFrame(gte_2010, \n",
    "                              geometry=gpd.points_from_xy(gte_2010['Longitude (decimal degrees)'], \n",
    "                                                          gte_2010['Latitude (decimal degrees)']), \n",
    "                              crs=\"EPSG:4326\")"
   ]
  },
  {
   "cell_type": "markdown",
   "id": "58f0093c-a54d-4f19-84b8-56dce45f5434",
   "metadata": {},
   "source": [
    "## Extract all AVA data within HUC"
   ]
  },
  {
   "cell_type": "code",
   "execution_count": 8,
   "id": "27b5f8e6-eb1f-4c67-abcd-91f978e9c211",
   "metadata": {},
   "outputs": [],
   "source": [
    "# load HUC data\n",
    "huc = read_dataframe('/mnt/poseidon/remotesensing/arctic/data/vectors/supplementary/wbdhu6_a_us_september2022.gdb')\n",
    "# select alaska HUCs and alaska HUCs of interest\n",
    "ak_huc6 = huc[huc['states'].str.contains('AK')]\n",
    "aois = ['190604', '190603', '190602']\n",
    "huc_aoi = ak_huc6[ak_huc6['huc6'].isin(aois)]"
   ]
  },
  {
   "cell_type": "code",
   "execution_count": 9,
   "id": "a54619e5-62e7-46c6-b135-13d404c4ac8d",
   "metadata": {},
   "outputs": [],
   "source": [
    "# select all AVA data within the HUCs\n",
    "poi = ava_points[ava_points.intersects(huc_aoi.unary_union)]"
   ]
  },
  {
   "cell_type": "code",
   "execution_count": 10,
   "id": "b72d6aa9-bd1f-4c4a-934b-7d4bd0bc683b",
   "metadata": {},
   "outputs": [
    {
     "data": {
      "text/plain": [
       "308"
      ]
     },
     "execution_count": 10,
     "metadata": {},
     "output_type": "execute_result"
    }
   ],
   "source": [
    "len(poi)"
   ]
  },
  {
   "cell_type": "code",
   "execution_count": 11,
   "id": "e1bed9fd-605b-4f25-8d17-c83c8bce2180",
   "metadata": {},
   "outputs": [
    {
     "data": {
      "text/plain": [
       "<Axes: >"
      ]
     },
     "execution_count": 11,
     "metadata": {},
     "output_type": "execute_result"
    },
    {
     "data": {
      "image/png": "[encoded data removed]",
      "text/plain": [
       "<Figure size 640x480 with 1 Axes>"
      ]
     },
     "metadata": {},
     "output_type": "display_data"
    }
   ],
   "source": [
    "# plot bounding HUC and points of interest (poi)\n",
    "ax = poi.plot(color=\"red\", markersize=1)\n",
    "huc_aoi.plot(ax=ax, edgecolor='black', facecolor='none')"
   ]
  },
  {
   "cell_type": "markdown",
   "id": "6cd6e238-9201-48da-867b-8ace4b45f2a1",
   "metadata": {},
   "source": [
    "## Extract all AVA data within Alaska Tundra"
   ]
  },
  {
   "cell_type": "code",
   "execution_count": 13,
   "id": "ded7f7fb-efed-4b06-a0e7-c609d21e4673",
   "metadata": {},
   "outputs": [],
   "source": [
    "p = '/mnt/poseidon/remotesensing/arctic/data/vectors/supplementary/tundra_alaska_polygon_latlon/'\n",
    "f = 'tundra_alaska_wgs84.shp'\n",
    "ak_tundra = gpd.read_file(p + f)"
   ]
  },
  {
   "cell_type": "code",
   "execution_count": 14,
   "id": "32c42428-f00e-40ea-90fd-3825e93c214e",
   "metadata": {},
   "outputs": [
    {
     "data": {
      "text/plain": [
       "<Geographic 2D CRS: EPSG:4326>\n",
       "Name: WGS 84\n",
       "Axis Info [ellipsoidal]:\n",
       "- Lat[north]: Geodetic latitude (degree)\n",
       "- Lon[east]: Geodetic longitude (degree)\n",
       "Area of Use:\n",
       "- name: World.\n",
       "- bounds: (-180.0, -90.0, 180.0, 90.0)\n",
       "Datum: World Geodetic System 1984 ensemble\n",
       "- Ellipsoid: WGS 84\n",
       "- Prime Meridian: Greenwich"
      ]
     },
     "execution_count": 14,
     "metadata": {},
     "output_type": "execute_result"
    }
   ],
   "source": [
    "ak_tundra.crs"
   ]
  },
  {
   "cell_type": "code",
   "execution_count": 15,
   "id": "2087760b-5fed-4112-ba35-9c29ec816182",
   "metadata": {},
   "outputs": [],
   "source": [
    "ava = ava_points.to_crs(ak_tundra.crs)\n",
    "ak_tundra = ak_tundra.to_crs(ak_tundra.crs)"
   ]
  },
  {
   "cell_type": "code",
   "execution_count": 16,
   "id": "82df46e8-9626-45f7-8096-7c10836720ee",
   "metadata": {},
   "outputs": [],
   "source": [
    "ava_tundra = ava.clip(ak_tundra)"
   ]
  },
  {
   "cell_type": "code",
   "execution_count": 17,
   "id": "2ccff165-3ca7-486e-8fed-4caa8deef3dd",
   "metadata": {},
   "outputs": [
    {
     "data": {
      "text/plain": [
       "308"
      ]
     },
     "execution_count": 17,
     "metadata": {},
     "output_type": "execute_result"
    }
   ],
   "source": [
    "len(ava_tundra)"
   ]
  },
  {
   "cell_type": "code",
   "execution_count": 18,
   "id": "66769061-740f-43f7-8c21-c1923cbca8b2",
   "metadata": {},
   "outputs": [
    {
     "data": {
      "text/plain": [
       "<Axes: >"
      ]
     },
     "execution_count": 18,
     "metadata": {},
     "output_type": "execute_result"
    },
    {
     "data": {
      "image/png": "[encoded data removed]",
      "text/plain": [
       "<Figure size 640x480 with 1 Axes>"
      ]
     },
     "metadata": {},
     "output_type": "display_data"
    }
   ],
   "source": [
    "ax = ava_tundra.plot(color='red', markersize=1)\n",
    "ak_tundra.plot(ax=ax, edgecolor='black', facecolor='none')"
   ]
  },
  {
   "cell_type": "code",
   "execution_count": 19,
   "id": "7df70c0b-f0a0-452d-a5db-8f377f95cf53",
   "metadata": {},
   "outputs": [],
   "source": [
    "ak_tundra_datasets = sorted(ava_tundra['Dataset'].unique())"
   ]
  },
  {
   "cell_type": "code",
   "execution_count": 20,
   "id": "93d47208-e65c-4507-bfdb-08aa97f73dae",
   "metadata": {},
   "outputs": [],
   "source": [
    "p = '/mnt/poseidon/remotesensing/arctic/data/vectors/ava_turboveg/'\n",
    "f = 'AKAVA_ak_tundra_datasets.csv'\n",
    "pd.DataFrame(ak_tundra_datasets).to_csv(p + f)"
   ]
  },
  {
   "cell_type": "markdown",
   "id": "9e46bc1a-6fb5-466a-88f2-afa809f11f78",
   "metadata": {},
   "source": [
    "## GEE Map"
   ]
  },
  {
   "cell_type": "code",
   "execution_count": 21,
   "id": "1243c7fb-da94-4f40-8258-cebe4aa96441",
   "metadata": {},
   "outputs": [],
   "source": [
    "fc = gee.geopandas_to_ee(ak_tundra)\n",
    "ha = gee.geopandas_to_ee(huc_aoi)"
   ]
  },
  {
   "cell_type": "code",
   "execution_count": 22,
   "id": "1975a806-a091-4079-9252-bfdc54f72984",
   "metadata": {},
   "outputs": [],
   "source": [
    "# extract geometry and unique ID\n",
    "obs_geom = ava_tundra[['Latitude (decimal degrees)', 'Longitude (decimal degrees)', 'Releve number']]\n",
    "# create ee object (feature collection)\n",
    "obs_points = gee.df_to_ee(obs_geom, \n",
    "                          latitude='Latitude (decimal degrees)', \n",
    "                          longitude='Longitude (decimal degrees)')\n",
    "# select points that intercept HUC\n",
    "samplepoints = obs_points.filterBounds(fc)"
   ]
  },
  {
   "cell_type": "code",
   "execution_count": 23,
   "id": "6651269c-3ea3-45e4-bde0-57a4e52ee88a",
   "metadata": {},
   "outputs": [
    {
     "data": {
      "text/plain": [
       "308"
      ]
     },
     "execution_count": 23,
     "metadata": {},
     "output_type": "execute_result"
    }
   ],
   "source": [
    "samplepoints.size().getInfo()"
   ]
  },
  {
   "cell_type": "code",
   "execution_count": 24,
   "id": "295610d3-27b1-4240-986d-ec56ae6320f3",
   "metadata": {},
   "outputs": [
    {
     "name": "stdout",
     "output_type": "stream",
     "text": [
      "18.0\n"
     ]
    }
   ],
   "source": [
    "GRIDSIZE = 18000\n",
    "grid = fc.geometry().coveringGrid(proj='EPSG:4326', scale=GRIDSIZE)\n",
    "\n",
    "# Create dictionary of grid coordinates\n",
    "grid_dict = grid.getInfo()\n",
    "feats = grid_dict['features']\n",
    "\n",
    "# Create a list of several ee.Geometry.Polygons\n",
    "polys = []\n",
    "for d in feats:\n",
    "    coords = d['geometry']['coordinates']\n",
    "    poly = ee.Geometry.Polygon(coords)\n",
    "    polys.append(poly)\n",
    "\n",
    "num_km = GRIDSIZE / 1000\n",
    "print(num_km)"
   ]
  },
  {
   "cell_type": "code",
   "execution_count": 25,
   "id": "9024fb0a-c931-4fa3-b823-0d405a800183",
   "metadata": {},
   "outputs": [
    {
     "data": {
      "text/plain": [
       "4595"
      ]
     },
     "execution_count": 25,
     "metadata": {},
     "output_type": "execute_result"
    }
   ],
   "source": [
    "len(polys)"
   ]
  },
  {
   "cell_type": "code",
   "execution_count": 26,
   "id": "76ecbe47-b106-444e-bd0c-d3d980cfbe12",
   "metadata": {},
   "outputs": [
    {
     "data": {
      "application/vnd.jupyter.widget-view+json": {
       "model_id": "d74af27f296d4433a2188a231ca9b772",
       "version_major": 2,
       "version_minor": 0
      },
      "text/plain": [
       "Map(center=[66.56551547720869, -158.1544109640721], controls=(WidgetControl(options=['position', 'transparent_…"
      ]
     },
     "execution_count": 26,
     "metadata": {},
     "output_type": "execute_result"
    }
   ],
   "source": [
    "Map = gee.Map()\n",
    "Map.center_object(fc, 6)\n",
    "Map.addLayer(fc, {}, 'arctic')\n",
    "Map.addLayer(samplepoints, {}, 'points')\n",
    "#Map.addLayer((ee.FeatureCollection(\"USGS/WBD/2017/HUC06\")\n",
    "#             .filter(ee.Filter.inList('huc6', ['190604', '190603', '190602']))), {}, 'huc')\n",
    "Map.addLayer(grid, {}, 'grid')\n",
    "Map"
   ]
  },
  {
   "cell_type": "code",
   "execution_count": 27,
   "id": "4728c000-6638-4c3d-bf4c-bb0070787fab",
   "metadata": {},
   "outputs": [
    {
     "data": {
      "text/plain": [
       "<Geographic 2D CRS: EPSG:4326>\n",
       "Name: WGS 84\n",
       "Axis Info [ellipsoidal]:\n",
       "- Lat[north]: Geodetic latitude (degree)\n",
       "- Lon[east]: Geodetic longitude (degree)\n",
       "Area of Use:\n",
       "- name: World.\n",
       "- bounds: (-180.0, -90.0, 180.0, 90.0)\n",
       "Datum: World Geodetic System 1984 ensemble\n",
       "- Ellipsoid: WGS 84\n",
       "- Prime Meridian: Greenwich"
      ]
     },
     "execution_count": 27,
     "metadata": {},
     "output_type": "execute_result"
    }
   ],
   "source": [
    "arctic_gdf = gee.ee_to_gdf(fc)\n",
    "arctic_gdf.crs = 'epsg:4326'\n",
    "arctic_gdf.crs"
   ]
  },
  {
   "cell_type": "code",
   "execution_count": 28,
   "id": "285b24c3-c264-4a85-8382-b4c1fcedcf80",
   "metadata": {},
   "outputs": [
    {
     "data": {
      "text/plain": [
       "<Geographic 2D CRS: EPSG:4326>\n",
       "Name: WGS 84\n",
       "Axis Info [ellipsoidal]:\n",
       "- Lat[north]: Geodetic latitude (degree)\n",
       "- Lon[east]: Geodetic longitude (degree)\n",
       "Area of Use:\n",
       "- name: World.\n",
       "- bounds: (-180.0, -90.0, 180.0, 90.0)\n",
       "Datum: World Geodetic System 1984 ensemble\n",
       "- Ellipsoid: WGS 84\n",
       "- Prime Meridian: Greenwich"
      ]
     },
     "execution_count": 28,
     "metadata": {},
     "output_type": "execute_result"
    }
   ],
   "source": [
    "gdf = gee.ee_to_gdf(grid)\n",
    "gdf.crs = 'epsg:4326'\n",
    "gdf.crs"
   ]
  },
  {
   "cell_type": "code",
   "execution_count": 29,
   "id": "8efebb7d-4e6f-406a-8346-b2172f9a7fe8",
   "metadata": {},
   "outputs": [],
   "source": [
    "#gdf.to_file('/mnt/poseidon/remotesensing/arctic/data/vectors/supplementary/tundra_alaska_grid', driver='ESRI Shapefile')\n",
    "# arctic_gdf.to_file('/mnt/poseidon/remotesensing/arctic/data/vectors/supplementary/tundra_alaska_wgs84/tundra+"
   ]
  },
  {
   "cell_type": "markdown",
   "id": "b95e6b1a-93d3-4f87-9b5b-12e6ce6afdcf",
   "metadata": {},
   "source": [
    "## Turboveg Cover Columns"
   ]
  },
  {
   "cell_type": "code",
   "execution_count": 30,
   "id": "5117297b-a511-4f2d-9f51-9795dc9ef32c",
   "metadata": {},
   "outputs": [],
   "source": [
    "cover_cols = [col for col in ava_tundra.columns if 'Cover' in col]\n",
    "cover = ava_tundra[cover_cols].copy()\n",
    "cover.drop(columns=['Cover abundance scale'], inplace=True)\n",
    "cover.index = list(ava_tundra['Releve number'])\n",
    "cover.index = cover.index.astype(int)\n",
    "cover.index.name = 'Releve number'"
   ]
  },
  {
   "cell_type": "code",
   "execution_count": 31,
   "id": "48fd0fba-4383-47ab-94bb-4d252da9a1df",
   "metadata": {},
   "outputs": [
    {
     "data": {
      "text/plain": [
       "308"
      ]
     },
     "execution_count": 31,
     "metadata": {},
     "output_type": "execute_result"
    }
   ],
   "source": [
    "len(cover)"
   ]
  },
  {
   "cell_type": "code",
   "execution_count": 32,
   "id": "f98b1307-f86e-4bd2-843b-7dc80bbdcea7",
   "metadata": {},
   "outputs": [],
   "source": [
    "nonveg = cover[['Cover of soil crust (%)',\n",
    "                'Cover bare soil (%)',\n",
    "                'Cover rock (%)',\n",
    "                'Cover water (%)']]\n",
    "litter = cover[['Cover litter (%)']]"
   ]
  },
  {
   "cell_type": "code",
   "execution_count": 33,
   "id": "62851b89-4b09-4090-955b-7815758f4bc3",
   "metadata": {},
   "outputs": [],
   "source": [
    "cols = pd.DataFrame(cover.columns.to_list())\n",
    "cols.to_csv('/mnt/poseidon/remotesensing/arctic/data/vectors/ava_turboveg/cover_column_headers.csv')"
   ]
  },
  {
   "cell_type": "markdown",
   "id": "43a646d8-2f8d-4c3b-a2f4-b5fa1dff539d",
   "metadata": {},
   "source": [
    "## Ancillary columns"
   ]
  },
  {
   "cell_type": "code",
   "execution_count": 34,
   "id": "896499c6",
   "metadata": {},
   "outputs": [
    {
     "data": {
      "text/html": [
       "<div>\n",
       "<style scoped>\n",
       "    .dataframe tbody tr th:only-of-type {\n",
       "        vertical-align: middle;\n",
       "    }\n",
       "\n",
       "    .dataframe tbody tr th {\n",
       "        vertical-align: top;\n",
       "    }\n",
       "\n",
       "    .dataframe thead th {\n",
       "        text-align: right;\n",
       "    }\n",
       "</style>\n",
       "<table border=\"1\" class=\"dataframe\">\n",
       "  <thead>\n",
       "    <tr style=\"text-align: right;\">\n",
       "      <th></th>\n",
       "      <th>Releve number</th>\n",
       "      <th>Field releve number</th>\n",
       "      <th>Date (yyyymmdd)</th>\n",
       "      <th>Releve area (m2)</th>\n",
       "      <th>Releve shape</th>\n",
       "      <th>Repeat sampled (y/n)</th>\n",
       "      <th>Collection</th>\n",
       "      <th>Collection method</th>\n",
       "      <th>Syntaxon</th>\n",
       "      <th>System for plant community name</th>\n",
       "      <th>...</th>\n",
       "      <th>Vasc. plant taxonomic quality</th>\n",
       "      <th>Cryptogam taxonomic quality</th>\n",
       "      <th>Mean canopy height (cm)</th>\n",
       "      <th>Mean tree layer height (m)</th>\n",
       "      <th>Mean shrub layer height (cm)</th>\n",
       "      <th>Mean herb layer height (cm)</th>\n",
       "      <th>Mean moss layer height (cm)</th>\n",
       "      <th>Remarks</th>\n",
       "      <th>geometry</th>\n",
       "      <th>year</th>\n",
       "    </tr>\n",
       "  </thead>\n",
       "  <tbody>\n",
       "    <tr>\n",
       "      <th>3164</th>\n",
       "      <td>13164.0</td>\n",
       "      <td>T5-025-T</td>\n",
       "      <td>20150804</td>\n",
       "      <td>1</td>\n",
       "      <td>square</td>\n",
       "      <td>N</td>\n",
       "      <td>Relevé</td>\n",
       "      <td>None</td>\n",
       "      <td>None</td>\n",
       "      <td>Field community name</td>\n",
       "      <td>...</td>\n",
       "      <td>1.0</td>\n",
       "      <td>1.0</td>\n",
       "      <td>25.0</td>\n",
       "      <td>0.0</td>\n",
       "      <td>24.0</td>\n",
       "      <td>25.0</td>\n",
       "      <td>1.0</td>\n",
       "      <td>Low-centered polygons. Entered by L. Druckenmi...</td>\n",
       "      <td>POINT (-148.42701 70.19575)</td>\n",
       "      <td>2015</td>\n",
       "    </tr>\n",
       "    <tr>\n",
       "      <th>3163</th>\n",
       "      <td>13163.0</td>\n",
       "      <td>T5-025-C</td>\n",
       "      <td>20150804</td>\n",
       "      <td>1</td>\n",
       "      <td>square</td>\n",
       "      <td>N</td>\n",
       "      <td>Relevé</td>\n",
       "      <td>None</td>\n",
       "      <td>None</td>\n",
       "      <td>Field community name</td>\n",
       "      <td>...</td>\n",
       "      <td>1.0</td>\n",
       "      <td>1.0</td>\n",
       "      <td>15.0</td>\n",
       "      <td>0.0</td>\n",
       "      <td>20.0</td>\n",
       "      <td>15.0</td>\n",
       "      <td>1.0</td>\n",
       "      <td>Low-centered polygons. Entered by L. Druckenmi...</td>\n",
       "      <td>POINT (-148.42681 70.19577)</td>\n",
       "      <td>2015</td>\n",
       "    </tr>\n",
       "    <tr>\n",
       "      <th>3167</th>\n",
       "      <td>13167.0</td>\n",
       "      <td>T5-050-T-B</td>\n",
       "      <td>20150809</td>\n",
       "      <td>1</td>\n",
       "      <td>square</td>\n",
       "      <td>N</td>\n",
       "      <td>Relevé</td>\n",
       "      <td>None</td>\n",
       "      <td>None</td>\n",
       "      <td>Field community name</td>\n",
       "      <td>...</td>\n",
       "      <td>1.0</td>\n",
       "      <td>1.0</td>\n",
       "      <td>20.0</td>\n",
       "      <td>0.0</td>\n",
       "      <td>0.0</td>\n",
       "      <td>20.0</td>\n",
       "      <td>3.0</td>\n",
       "      <td>Low-centered polygons. Entered by L. Druckenmi...</td>\n",
       "      <td>POINT (-148.42764 70.19583)</td>\n",
       "      <td>2015</td>\n",
       "    </tr>\n",
       "    <tr>\n",
       "      <th>3166</th>\n",
       "      <td>13166.0</td>\n",
       "      <td>T5-050-T-A</td>\n",
       "      <td>20150809</td>\n",
       "      <td>1</td>\n",
       "      <td>square</td>\n",
       "      <td>N</td>\n",
       "      <td>Relevé</td>\n",
       "      <td>None</td>\n",
       "      <td>None</td>\n",
       "      <td>Field community name</td>\n",
       "      <td>...</td>\n",
       "      <td>1.0</td>\n",
       "      <td>1.0</td>\n",
       "      <td>22.0</td>\n",
       "      <td>0.0</td>\n",
       "      <td>17.0</td>\n",
       "      <td>22.0</td>\n",
       "      <td>1.0</td>\n",
       "      <td>Low-centered polygons. Entered by L. Druckenmi...</td>\n",
       "      <td>POINT (-148.42764 70.19583)</td>\n",
       "      <td>2015</td>\n",
       "    </tr>\n",
       "    <tr>\n",
       "      <th>3165</th>\n",
       "      <td>13165.0</td>\n",
       "      <td>T5-050-C</td>\n",
       "      <td>20150804</td>\n",
       "      <td>1</td>\n",
       "      <td>square</td>\n",
       "      <td>N</td>\n",
       "      <td>Relevé</td>\n",
       "      <td>None</td>\n",
       "      <td>None</td>\n",
       "      <td>Field community name</td>\n",
       "      <td>...</td>\n",
       "      <td>1.0</td>\n",
       "      <td>1.0</td>\n",
       "      <td>23.0</td>\n",
       "      <td>0.0</td>\n",
       "      <td>25.0</td>\n",
       "      <td>23.0</td>\n",
       "      <td>1.0</td>\n",
       "      <td>Low-centered polygons. Entered by L. Druckenmi...</td>\n",
       "      <td>POINT (-148.42751 70.19591)</td>\n",
       "      <td>2015</td>\n",
       "    </tr>\n",
       "    <tr>\n",
       "      <th>...</th>\n",
       "      <td>...</td>\n",
       "      <td>...</td>\n",
       "      <td>...</td>\n",
       "      <td>...</td>\n",
       "      <td>...</td>\n",
       "      <td>...</td>\n",
       "      <td>...</td>\n",
       "      <td>...</td>\n",
       "      <td>...</td>\n",
       "      <td>...</td>\n",
       "      <td>...</td>\n",
       "      <td>...</td>\n",
       "      <td>...</td>\n",
       "      <td>...</td>\n",
       "      <td>...</td>\n",
       "      <td>...</td>\n",
       "      <td>...</td>\n",
       "      <td>...</td>\n",
       "      <td>...</td>\n",
       "      <td>...</td>\n",
       "      <td>...</td>\n",
       "    </tr>\n",
       "    <tr>\n",
       "      <th>2788</th>\n",
       "      <td>12788.0</td>\n",
       "      <td>14-2</td>\n",
       "      <td>20140812</td>\n",
       "      <td>1</td>\n",
       "      <td>square</td>\n",
       "      <td>N</td>\n",
       "      <td>Relevé</td>\n",
       "      <td>None</td>\n",
       "      <td>None</td>\n",
       "      <td>Field community name</td>\n",
       "      <td>...</td>\n",
       "      <td>1.0</td>\n",
       "      <td>1.0</td>\n",
       "      <td>-9.0</td>\n",
       "      <td>-9.0</td>\n",
       "      <td>0.0</td>\n",
       "      <td>1.0</td>\n",
       "      <td>0.0</td>\n",
       "      <td>Entered by L. Druckenmiller and imported to TV...</td>\n",
       "      <td>POINT (-148.46774 70.22246)</td>\n",
       "      <td>2014</td>\n",
       "    </tr>\n",
       "    <tr>\n",
       "      <th>2773</th>\n",
       "      <td>12773.0</td>\n",
       "      <td>T1-200-C</td>\n",
       "      <td>20140807</td>\n",
       "      <td>1</td>\n",
       "      <td>square</td>\n",
       "      <td>N</td>\n",
       "      <td>Relevé</td>\n",
       "      <td>None</td>\n",
       "      <td>None</td>\n",
       "      <td>Field community name</td>\n",
       "      <td>...</td>\n",
       "      <td>1.0</td>\n",
       "      <td>1.0</td>\n",
       "      <td>-9.0</td>\n",
       "      <td>-9.0</td>\n",
       "      <td>10.0</td>\n",
       "      <td>12.0</td>\n",
       "      <td>1.0</td>\n",
       "      <td>Black soil crust and White soil crust = Unknow...</td>\n",
       "      <td>POINT (-148.46917 70.22479)</td>\n",
       "      <td>2014</td>\n",
       "    </tr>\n",
       "    <tr>\n",
       "      <th>2774</th>\n",
       "      <td>12774.0</td>\n",
       "      <td>T1-200-T</td>\n",
       "      <td>20140807</td>\n",
       "      <td>1</td>\n",
       "      <td>square</td>\n",
       "      <td>N</td>\n",
       "      <td>Relevé</td>\n",
       "      <td>None</td>\n",
       "      <td>None</td>\n",
       "      <td>Field community name</td>\n",
       "      <td>...</td>\n",
       "      <td>1.0</td>\n",
       "      <td>1.0</td>\n",
       "      <td>-9.0</td>\n",
       "      <td>-9.0</td>\n",
       "      <td>5.0</td>\n",
       "      <td>20.0</td>\n",
       "      <td>2.0</td>\n",
       "      <td>Entered by L. Druckenmiller and imported to TV...</td>\n",
       "      <td>POINT (-148.46933 70.22479)</td>\n",
       "      <td>2014</td>\n",
       "    </tr>\n",
       "    <tr>\n",
       "      <th>2791</th>\n",
       "      <td>12791.0</td>\n",
       "      <td>14-5</td>\n",
       "      <td>20140813</td>\n",
       "      <td>1</td>\n",
       "      <td>square</td>\n",
       "      <td>N</td>\n",
       "      <td>Relevé</td>\n",
       "      <td>None</td>\n",
       "      <td>None</td>\n",
       "      <td>Field community name</td>\n",
       "      <td>...</td>\n",
       "      <td>1.0</td>\n",
       "      <td>1.0</td>\n",
       "      <td>-9.0</td>\n",
       "      <td>-9.0</td>\n",
       "      <td>2.0</td>\n",
       "      <td>14.0</td>\n",
       "      <td>2.0</td>\n",
       "      <td>Saxifraga hirculus noted outside the plot. Ent...</td>\n",
       "      <td>POINT (-148.46729 70.22611)</td>\n",
       "      <td>2014</td>\n",
       "    </tr>\n",
       "    <tr>\n",
       "      <th>2790</th>\n",
       "      <td>12790.0</td>\n",
       "      <td>14-4</td>\n",
       "      <td>20140813</td>\n",
       "      <td>1</td>\n",
       "      <td>square</td>\n",
       "      <td>N</td>\n",
       "      <td>Relevé</td>\n",
       "      <td>None</td>\n",
       "      <td>None</td>\n",
       "      <td>Field community name</td>\n",
       "      <td>...</td>\n",
       "      <td>1.0</td>\n",
       "      <td>1.0</td>\n",
       "      <td>-9.0</td>\n",
       "      <td>-9.0</td>\n",
       "      <td>10.0</td>\n",
       "      <td>12.0</td>\n",
       "      <td>3.0</td>\n",
       "      <td>Entered by L. Druckenmiller and imported to TV...</td>\n",
       "      <td>POINT (-148.46586 70.22690)</td>\n",
       "      <td>2014</td>\n",
       "    </tr>\n",
       "  </tbody>\n",
       "</table>\n",
       "<p>308 rows × 52 columns</p>\n",
       "</div>"
      ],
      "text/plain": [
       "      Releve number Field releve number  Date (yyyymmdd) Releve area (m2)  \\\n",
       "3164        13164.0            T5-025-T         20150804                1   \n",
       "3163        13163.0            T5-025-C         20150804                1   \n",
       "3167        13167.0          T5-050-T-B         20150809                1   \n",
       "3166        13166.0          T5-050-T-A         20150809                1   \n",
       "3165        13165.0            T5-050-C         20150804                1   \n",
       "...             ...                 ...              ...              ...   \n",
       "2788        12788.0                14-2         20140812                1   \n",
       "2773        12773.0            T1-200-C         20140807                1   \n",
       "2774        12774.0            T1-200-T         20140807                1   \n",
       "2791        12791.0                14-5         20140813                1   \n",
       "2790        12790.0                14-4         20140813                1   \n",
       "\n",
       "     Releve shape Repeat sampled (y/n) Collection Collection method Syntaxon  \\\n",
       "3164       square                    N     Relevé              None     None   \n",
       "3163       square                    N     Relevé              None     None   \n",
       "3167       square                    N     Relevé              None     None   \n",
       "3166       square                    N     Relevé              None     None   \n",
       "3165       square                    N     Relevé              None     None   \n",
       "...           ...                  ...        ...               ...      ...   \n",
       "2788       square                    N     Relevé              None     None   \n",
       "2773       square                    N     Relevé              None     None   \n",
       "2774       square                    N     Relevé              None     None   \n",
       "2791       square                    N     Relevé              None     None   \n",
       "2790       square                    N     Relevé              None     None   \n",
       "\n",
       "     System for plant community name  ... Vasc. plant taxonomic quality  \\\n",
       "3164            Field community name  ...                           1.0   \n",
       "3163            Field community name  ...                           1.0   \n",
       "3167            Field community name  ...                           1.0   \n",
       "3166            Field community name  ...                           1.0   \n",
       "3165            Field community name  ...                           1.0   \n",
       "...                              ...  ...                           ...   \n",
       "2788            Field community name  ...                           1.0   \n",
       "2773            Field community name  ...                           1.0   \n",
       "2774            Field community name  ...                           1.0   \n",
       "2791            Field community name  ...                           1.0   \n",
       "2790            Field community name  ...                           1.0   \n",
       "\n",
       "     Cryptogam taxonomic quality Mean canopy height (cm)  \\\n",
       "3164                         1.0                    25.0   \n",
       "3163                         1.0                    15.0   \n",
       "3167                         1.0                    20.0   \n",
       "3166                         1.0                    22.0   \n",
       "3165                         1.0                    23.0   \n",
       "...                          ...                     ...   \n",
       "2788                         1.0                    -9.0   \n",
       "2773                         1.0                    -9.0   \n",
       "2774                         1.0                    -9.0   \n",
       "2791                         1.0                    -9.0   \n",
       "2790                         1.0                    -9.0   \n",
       "\n",
       "     Mean tree layer height (m) Mean shrub layer height (cm)  \\\n",
       "3164                        0.0                         24.0   \n",
       "3163                        0.0                         20.0   \n",
       "3167                        0.0                          0.0   \n",
       "3166                        0.0                         17.0   \n",
       "3165                        0.0                         25.0   \n",
       "...                         ...                          ...   \n",
       "2788                       -9.0                          0.0   \n",
       "2773                       -9.0                         10.0   \n",
       "2774                       -9.0                          5.0   \n",
       "2791                       -9.0                          2.0   \n",
       "2790                       -9.0                         10.0   \n",
       "\n",
       "     Mean herb layer height (cm) Mean moss layer height (cm)  \\\n",
       "3164                        25.0                         1.0   \n",
       "3163                        15.0                         1.0   \n",
       "3167                        20.0                         3.0   \n",
       "3166                        22.0                         1.0   \n",
       "3165                        23.0                         1.0   \n",
       "...                          ...                         ...   \n",
       "2788                         1.0                         0.0   \n",
       "2773                        12.0                         1.0   \n",
       "2774                        20.0                         2.0   \n",
       "2791                        14.0                         2.0   \n",
       "2790                        12.0                         3.0   \n",
       "\n",
       "                                                Remarks  \\\n",
       "3164  Low-centered polygons. Entered by L. Druckenmi...   \n",
       "3163  Low-centered polygons. Entered by L. Druckenmi...   \n",
       "3167  Low-centered polygons. Entered by L. Druckenmi...   \n",
       "3166  Low-centered polygons. Entered by L. Druckenmi...   \n",
       "3165  Low-centered polygons. Entered by L. Druckenmi...   \n",
       "...                                                 ...   \n",
       "2788  Entered by L. Druckenmiller and imported to TV...   \n",
       "2773  Black soil crust and White soil crust = Unknow...   \n",
       "2774  Entered by L. Druckenmiller and imported to TV...   \n",
       "2791  Saxifraga hirculus noted outside the plot. Ent...   \n",
       "2790  Entered by L. Druckenmiller and imported to TV...   \n",
       "\n",
       "                         geometry  year  \n",
       "3164  POINT (-148.42701 70.19575)  2015  \n",
       "3163  POINT (-148.42681 70.19577)  2015  \n",
       "3167  POINT (-148.42764 70.19583)  2015  \n",
       "3166  POINT (-148.42764 70.19583)  2015  \n",
       "3165  POINT (-148.42751 70.19591)  2015  \n",
       "...                           ...   ...  \n",
       "2788  POINT (-148.46774 70.22246)  2014  \n",
       "2773  POINT (-148.46917 70.22479)  2014  \n",
       "2774  POINT (-148.46933 70.22479)  2014  \n",
       "2791  POINT (-148.46729 70.22611)  2014  \n",
       "2790  POINT (-148.46586 70.22690)  2014  \n",
       "\n",
       "[308 rows x 52 columns]"
      ]
     },
     "execution_count": 34,
     "metadata": {},
     "output_type": "execute_result"
    }
   ],
   "source": [
    "ancillary_cols = [col for col in ava_tundra.columns if 'Cover' not in col]\n",
    "ancillary = ava_tundra[ancillary_cols].copy()\n",
    "ancillary"
   ]
  },
  {
   "cell_type": "markdown",
   "id": "1a525f3b-b82c-4819-8ac0-8179070bc068",
   "metadata": {},
   "source": [
    "## Export original fcover and ancillary data"
   ]
  },
  {
   "cell_type": "code",
   "execution_count": 35,
   "id": "bff1b7df",
   "metadata": {},
   "outputs": [],
   "source": [
    "ancillary['Releve number'] = pd.to_numeric(ancillary['Releve number']).astype(int)\n",
    "cover = pd.concat([cover, pd.to_numeric(ancillary['Releve number']).astype(int)], axis=1)\n",
    "cover.set_index('Releve number', inplace=True)\n",
    "ancillary.set_index('Releve number', inplace=True)"
   ]
  },
  {
   "cell_type": "code",
   "execution_count": 36,
   "id": "fee9e0e6",
   "metadata": {},
   "outputs": [],
   "source": [
    "p = '/mnt/poseidon/remotesensing/arctic/data/vectors/ava_turboveg/'\n",
    "ancillary.to_csv(p + 'AKAVA_Turboveg_ancillary_00.csv')\n",
    "cover.to_csv(p + 'AKAVA_Turboveg_original_fcover_00.csv')"
   ]
  },
  {
   "cell_type": "markdown",
   "id": "181b2293-7a35-43f8-87dd-9ef224eeb336",
   "metadata": {},
   "source": [
    "# Begin standardization process"
   ]
  },
  {
   "cell_type": "markdown",
   "id": "c360c85d-89d6-478d-9c1c-0a013808a05f",
   "metadata": {},
   "source": [
    "## Load all species-level fcover csv's"
   ]
  },
  {
   "cell_type": "code",
   "execution_count": 37,
   "id": "d6206e55-b73d-49ac-abbf-d1826a260e97",
   "metadata": {},
   "outputs": [],
   "source": [
    "p = '/mnt/poseidon/remotesensing/arctic/data/vectors/ava_turboveg/AKAVA_arctic_species_data'\n",
    "spp_csvs = sorted(glob.glob(f'{p}/*.csv'))"
   ]
  },
  {
   "cell_type": "code",
   "execution_count": 38,
   "id": "306bba6f-72c1-4710-8916-618b2daa9364",
   "metadata": {},
   "outputs": [],
   "source": [
    "dfs = []\n",
    "for csv_path in spp_csvs:\n",
    "    #print(csv_path)\n",
    "    with open(csv_path, 'rb') as f:\n",
    "        result = chardet.detect(f.read())\n",
    "        #print(result['encoding'])\n",
    "        df = pd.read_csv(csv_path, encoding=result['encoding'])\n",
    "        dfs.append(df)"
   ]
  },
  {
   "cell_type": "markdown",
   "id": "82ec1813-8986-4a7f-aea2-f8f007133083",
   "metadata": {},
   "source": [
    "## Get unique genus-species names"
   ]
  },
  {
   "cell_type": "code",
   "execution_count": 39,
   "id": "c69be03e-a601-4961-b25d-cb8c43c26b32",
   "metadata": {},
   "outputs": [],
   "source": [
    "# get accepted names (first column) from each csv\n",
    "spp_names = []\n",
    "for df in dfs: \n",
    "    spp_name = df.iloc[:, 0] # first col with author\n",
    "    spp_names.append(spp_name)"
   ]
  },
  {
   "cell_type": "code",
   "execution_count": 40,
   "id": "59c19dad-d1c7-4424-990e-17daee164c44",
   "metadata": {},
   "outputs": [],
   "source": [
    "# concatenate all spp names into one dataframe\n",
    "all_spp_names = pd.concat(spp_names, ignore_index=True)\n",
    "all_spp_names = pd.DataFrame(all_spp_names, columns=['Accepted Name'])\n",
    "all_spp_names = all_spp_names.dropna().reset_index(drop=True)"
   ]
  },
  {
   "cell_type": "code",
   "execution_count": 41,
   "id": "4d76336a-d01d-4064-9176-bbe4fcef1269",
   "metadata": {},
   "outputs": [
    {
     "name": "stdout",
     "output_type": "stream",
     "text": [
      "Saved unique species list to /mnt/poseidon/remotesensing/arctic/data/vectors/ava_turboveg/AKAVA_unique_species.csv.\n"
     ]
    }
   ],
   "source": [
    "# get unique species names\n",
    "p = '/mnt/poseidon/remotesensing/arctic/data/vectors/ava_turboveg'\n",
    "species = spf.get_unique_species(all_spp_names, 'Accepted Name', 'AKAVA', True, p)"
   ]
  },
  {
   "cell_type": "markdown",
   "id": "378d1de8-737c-49a8-8323-99b159a9af44",
   "metadata": {},
   "source": [
    "## Extract potential habits for each species"
   ]
  },
  {
   "cell_type": "code",
   "execution_count": 42,
   "id": "88d53aae-d304-4a12-9bb9-20b3182f5665",
   "metadata": {},
   "outputs": [],
   "source": [
    "# load species checklist\n",
    "p = '/mnt/poseidon/remotesensing/arctic/data/vectors/akveg/'\n",
    "f = 'AKVEG_species_checklist.csv'\n",
    "checklist = read_dataframe(p + f)\n",
    "\n",
    "# get first 2 words (genus-species) from checklist accepted name and data species name\n",
    "checklist['Mapping Name'] = checklist['Accepted Name'].apply(spf.get_substrings)\n",
    "species['Mapping Name'] = species['Accepted Name'].apply(spf.get_substrings)"
   ]
  },
  {
   "cell_type": "code",
   "execution_count": 43,
   "id": "31cd2719-8637-4b83-9a2d-472e0f71664c",
   "metadata": {},
   "outputs": [
    {
     "name": "stdout",
     "output_type": "stream",
     "text": [
      "461 species are missing habits.\n",
      "241 species still missing habits.\n",
      "46 species still missing habits.\n",
      "42 species still missing habits.\n"
     ]
    }
   ],
   "source": [
    "habits = spf.fill_habits(unique_species=species, \n",
    "                         checklist=checklist, \n",
    "                         u_name='Accepted Name', \n",
    "                         c_unofficial_name='Name', \n",
    "                         c_official_name='Accepted Name', \n",
    "                         mapping_name='Mapping Name',\n",
    "                         habit='Habit')"
   ]
  },
  {
   "cell_type": "code",
   "execution_count": 44,
   "id": "e3c5f39d-9657-495c-adf2-3f94e15bc76a",
   "metadata": {},
   "outputs": [
    {
     "data": {
      "text/html": [
       "<div>\n",
       "<style scoped>\n",
       "    .dataframe tbody tr th:only-of-type {\n",
       "        vertical-align: middle;\n",
       "    }\n",
       "\n",
       "    .dataframe tbody tr th {\n",
       "        vertical-align: top;\n",
       "    }\n",
       "\n",
       "    .dataframe thead th {\n",
       "        text-align: right;\n",
       "    }\n",
       "</style>\n",
       "<table border=\"1\" class=\"dataframe\">\n",
       "  <thead>\n",
       "    <tr style=\"text-align: right;\">\n",
       "      <th></th>\n",
       "      <th>Name</th>\n",
       "      <th>Mapping Name</th>\n",
       "      <th>Habit</th>\n",
       "    </tr>\n",
       "    <tr>\n",
       "      <th>index</th>\n",
       "      <th></th>\n",
       "      <th></th>\n",
       "      <th></th>\n",
       "    </tr>\n",
       "  </thead>\n",
       "  <tbody>\n",
       "    <tr>\n",
       "      <th>0</th>\n",
       "      <td>Abietinella abietina</td>\n",
       "      <td>Abietinella abietina</td>\n",
       "      <td>moss</td>\n",
       "    </tr>\n",
       "    <tr>\n",
       "      <th>1</th>\n",
       "      <td>Acarospora schleicheri</td>\n",
       "      <td>Acarospora schleicheri</td>\n",
       "      <td>lichen</td>\n",
       "    </tr>\n",
       "    <tr>\n",
       "      <th>2</th>\n",
       "      <td>Achillea lanulosa</td>\n",
       "      <td>Achillea lanulosa</td>\n",
       "      <td>forb</td>\n",
       "    </tr>\n",
       "    <tr>\n",
       "      <th>3</th>\n",
       "      <td>Achillea millefolium s. borealis</td>\n",
       "      <td>Achillea millefolium</td>\n",
       "      <td>forb</td>\n",
       "    </tr>\n",
       "    <tr>\n",
       "      <th>4</th>\n",
       "      <td>Achillea millefolium subsp. borealis</td>\n",
       "      <td>Achillea millefolium</td>\n",
       "      <td>forb</td>\n",
       "    </tr>\n",
       "    <tr>\n",
       "      <th>...</th>\n",
       "      <td>...</td>\n",
       "      <td>...</td>\n",
       "      <td>...</td>\n",
       "    </tr>\n",
       "    <tr>\n",
       "      <th>1895</th>\n",
       "      <td>[UNKNOWN FRUTICOSE LICHEN]</td>\n",
       "      <td>UNKNOWN FRUTICOSE</td>\n",
       "      <td>NaN</td>\n",
       "    </tr>\n",
       "    <tr>\n",
       "      <th>1896</th>\n",
       "      <td>[UNKNOWN LEAFY LIVERWORTS]</td>\n",
       "      <td>UNKNOWN LEAFY</td>\n",
       "      <td>NaN</td>\n",
       "    </tr>\n",
       "    <tr>\n",
       "      <th>1897</th>\n",
       "      <td>[UNKNOWN MONOCOT]</td>\n",
       "      <td>UNKNOWN MONOCOT</td>\n",
       "      <td>NaN</td>\n",
       "    </tr>\n",
       "    <tr>\n",
       "      <th>1898</th>\n",
       "      <td>[UNKNOWN MOSS]</td>\n",
       "      <td>UNKNOWN MOSS</td>\n",
       "      <td>NaN</td>\n",
       "    </tr>\n",
       "    <tr>\n",
       "      <th>1899</th>\n",
       "      <td>[UNKNOWN THALLOID LIVERWORTS]</td>\n",
       "      <td>UNKNOWN THALLOID</td>\n",
       "      <td>NaN</td>\n",
       "    </tr>\n",
       "  </tbody>\n",
       "</table>\n",
       "<p>1900 rows × 3 columns</p>\n",
       "</div>"
      ],
      "text/plain": [
       "                                        Name            Mapping Name   Habit\n",
       "index                                                                       \n",
       "0                       Abietinella abietina    Abietinella abietina    moss\n",
       "1                     Acarospora schleicheri  Acarospora schleicheri  lichen\n",
       "2                          Achillea lanulosa       Achillea lanulosa    forb\n",
       "3           Achillea millefolium s. borealis    Achillea millefolium    forb\n",
       "4      Achillea millefolium subsp. borealis     Achillea millefolium    forb\n",
       "...                                      ...                     ...     ...\n",
       "1895              [UNKNOWN FRUTICOSE LICHEN]       UNKNOWN FRUTICOSE     NaN\n",
       "1896              [UNKNOWN LEAFY LIVERWORTS]           UNKNOWN LEAFY     NaN\n",
       "1897                       [UNKNOWN MONOCOT]         UNKNOWN MONOCOT     NaN\n",
       "1898                          [UNKNOWN MOSS]            UNKNOWN MOSS     NaN\n",
       "1899           [UNKNOWN THALLOID LIVERWORTS]        UNKNOWN THALLOID     NaN\n",
       "\n",
       "[1900 rows x 3 columns]"
      ]
     },
     "execution_count": 44,
     "metadata": {},
     "output_type": "execute_result"
    }
   ],
   "source": [
    "habits"
   ]
  },
  {
   "cell_type": "markdown",
   "id": "6b886eaa-e882-4e96-a58b-e2c8d366ad9a",
   "metadata": {},
   "source": [
    "## Add evergreen/deciduous"
   ]
  },
  {
   "cell_type": "code",
   "execution_count": 45,
   "id": "3c70ba8a-787e-4923-a9cd-96d4847428f4",
   "metadata": {},
   "outputs": [],
   "source": [
    "p = '/mnt/poseidon/remotesensing/arctic/data/vectors/ava_post2000/'\n",
    "f = 'evergreendecid_macander2022.csv'\n",
    "evergrndecid = pd.read_csv(p + f, header=None)\n",
    "evergrndecid.columns = ['evergreendecid', 'species']\n",
    "final = spf.add_leaf_habit(habits, evergrndecid)"
   ]
  },
  {
   "cell_type": "code",
   "execution_count": 46,
   "id": "0a017802-3110-4785-bd2c-5dd78bafb69f",
   "metadata": {},
   "outputs": [],
   "source": [
    "# export\n",
    "p = '/mnt/poseidon/remotesensing/arctic/data/vectors/ava_turboveg/'\n",
    "f = 'AKAVA_species_habit_00.csv'\n",
    "final.to_csv(p + f)"
   ]
  },
  {
   "cell_type": "code",
   "execution_count": 47,
   "id": "bf0b8eb9-7ee4-45e3-a3bf-9797104beff3",
   "metadata": {},
   "outputs": [
    {
     "data": {
      "text/plain": [
       "['moss',\n",
       " 'lichen',\n",
       " 'forb',\n",
       " 'graminoid',\n",
       " 'shrub, deciduous tree',\n",
       " 'shrub',\n",
       " 'liverwort',\n",
       " 'dwarf shrub',\n",
       " 'shrub, forb, dwarf shrub, shrub',\n",
       " 'spore-bearing',\n",
       " 'deciduous tree',\n",
       " ' tree, deciduous tree,dwarf shrub, shrub',\n",
       " nan,\n",
       " 'shrub, dwarf shrub, shrub',\n",
       " 'coniferous tree',\n",
       " 'dwarf shrub, shrub',\n",
       " 'shrub, tree, deciduous tree, shrub, dwarf shrub']"
      ]
     },
     "execution_count": 47,
     "metadata": {},
     "output_type": "execute_result"
    }
   ],
   "source": [
    "list(final['Potential Habit'].unique())"
   ]
  },
  {
   "cell_type": "markdown",
   "id": "2d45e263-456d-4cf3-8e6c-4977deee4f9d",
   "metadata": {},
   "source": [
    "## Export shrubs, nonshrubs, null habit seperately"
   ]
  },
  {
   "cell_type": "code",
   "execution_count": 48,
   "id": "da6304e4-754f-41e6-8309-43edd0ceea8d",
   "metadata": {},
   "outputs": [],
   "source": [
    "# get all shrub species\n",
    "finalnonnull = final[~final['Potential Habit'].isnull()]\n",
    "shrubs = finalnonnull[finalnonnull['Potential Habit'].str.contains('shrub')]\n",
    "shrubs.to_csv(p + 'AKAVA_shrubs_00.csv')"
   ]
  },
  {
   "cell_type": "code",
   "execution_count": 49,
   "id": "c2ea7722-cdba-4f08-b7bf-63fc8d5e5540",
   "metadata": {},
   "outputs": [],
   "source": [
    "# get all non-shrub species\n",
    "nonshrubs = finalnonnull[~finalnonnull['Potential Habit'].str.contains('shrub')]\n",
    "nonshrubs.to_csv(p + 'AKAVA_nonshrubs_00.csv')"
   ]
  },
  {
   "cell_type": "code",
   "execution_count": 50,
   "id": "34b14377-5937-41ea-92bf-5b6a0ba8d684",
   "metadata": {},
   "outputs": [],
   "source": [
    "# get null habits\n",
    "finalnull = final[final['Potential Habit'].isnull()]\n",
    "finalnull.to_csv(p + 'AKAVA_nullhabit_00.csv')"
   ]
  },
  {
   "cell_type": "code",
   "execution_count": 51,
   "id": "9d244ee6-d8d8-4f4e-bc81-c7477cd8afec",
   "metadata": {},
   "outputs": [
    {
     "data": {
      "text/plain": [
       "1900"
      ]
     },
     "execution_count": 51,
     "metadata": {},
     "output_type": "execute_result"
    }
   ],
   "source": [
    "len(finalnull) + len(nonshrubs) + len(shrubs)"
   ]
  },
  {
   "cell_type": "code",
   "execution_count": 52,
   "id": "1185ee6b-85ab-46d2-8d69-85151ec69db2",
   "metadata": {},
   "outputs": [
    {
     "data": {
      "text/plain": [
       "1900"
      ]
     },
     "execution_count": 52,
     "metadata": {},
     "output_type": "execute_result"
    }
   ],
   "source": [
    "len(final)"
   ]
  },
  {
   "cell_type": "markdown",
   "id": "12636408-d9af-439b-ac37-f1454265fbac",
   "metadata": {},
   "source": [
    "## HERE: Manually add data from shrub05 file"
   ]
  },
  {
   "cell_type": "markdown",
   "id": "1a9edf8c-4511-467a-810d-185d51c5d310",
   "metadata": {},
   "source": [
    "## Standardize PFT Schema"
   ]
  },
  {
   "cell_type": "code",
   "execution_count": 53,
   "id": "0be47370-da23-42d0-baca-4aeb959d78b7",
   "metadata": {},
   "outputs": [],
   "source": [
    "p = '/mnt/poseidon/remotesensing/arctic/data/vectors/ava_turboveg/'\n",
    "nonshrub = 'AKAVA_nonshrubs_01.csv'\n",
    "null = 'AKAVA_nullhabit_01.csv'\n",
    "shrub = 'AKAVA_shrubs_01.csv'\n",
    "\n",
    "alltypes = [nonshrub, shrub, null]\n",
    "\n",
    "d = []\n",
    "for t in alltypes:\n",
    "    habits = pd.read_csv(p + t, index_col=0)\n",
    "    d.append(habits)"
   ]
  },
  {
   "cell_type": "code",
   "execution_count": 54,
   "id": "80a899ea-0f01-4be2-82af-1056c7a2f5ce",
   "metadata": {},
   "outputs": [
    {
     "data": {
      "text/plain": [
       "['moss',\n",
       " 'lichen',\n",
       " 'forb',\n",
       " 'graminoid',\n",
       " 'liverwort',\n",
       " 'spore-bearing',\n",
       " 'deciduous tree',\n",
       " 'coniferous tree',\n",
       " 'shrub, tree',\n",
       " 'shrub',\n",
       " 'dwarf shrub',\n",
       " 'algae',\n",
       " 'cyanobacteria',\n",
       " 'fungus',\n",
       " 'bryophyte']"
      ]
     },
     "execution_count": 54,
     "metadata": {},
     "output_type": "execute_result"
    }
   ],
   "source": [
    "completehabits = pd.concat(d)\n",
    "completehabits['Habit'].unique().tolist()"
   ]
  },
  {
   "cell_type": "code",
   "execution_count": 55,
   "id": "e8e43fb7-7f0e-49fe-9c63-fe4bf26a089e",
   "metadata": {},
   "outputs": [],
   "source": [
    "def standardize_habit_nonstandard(habitrow, leafrow, heightrow):\n",
    "    \n",
    "    habitrow = habitrow.to_numpy()\n",
    "    leafrow = leafrow.to_numpy()\n",
    "    heightrow = heightrow.to_numpy()\n",
    "    new_row = []\n",
    "    \n",
    "    for habit, leaf, height in zip(habitrow, leafrow, heightrow):\n",
    "        habit = habit.lower()\n",
    "        if habit == 'shrub, tree':\n",
    "            new_habit = f'{leaf} dwarf to tree cover (%)'\n",
    "        elif habit == 'dwarf shrub':\n",
    "            new_habit = f'{leaf} {habit} cover (%)'\n",
    "        elif 'shrub' in habit:\n",
    "            new_habit = f'{leaf} {height} cover (%)'\n",
    "        elif 'tree' in habit:\n",
    "            new_habit = f'{leaf} tree cover (%)'\n",
    "        else:\n",
    "            new_habit = f'{habit} cover (%)'\n",
    "        new_row.append(\" \".join(new_habit.split()).lower())\n",
    "    \n",
    "    return new_row"
   ]
  },
  {
   "cell_type": "code",
   "execution_count": 56,
   "id": "f8d481da-1c51-49bc-a815-e94fcda5a0ff",
   "metadata": {},
   "outputs": [],
   "source": [
    "def standardize_habit(habitrow, leafrow, heightrow):\n",
    "    \n",
    "    habitrow = habitrow.to_numpy()\n",
    "    leafrow = leafrow.to_numpy()\n",
    "    heightrow = heightrow.to_numpy()\n",
    "    new_row = []\n",
    "    \n",
    "    for habit, leaf, height in zip(habitrow, leafrow, heightrow):\n",
    "        habit = habit.lower()\n",
    "        if 'algae' in habit or 'cyanobacteria' in habit:\n",
    "            new_habit = 'lichen cover (%)'\n",
    "        elif habit == np.nan or 'unknown' in habit:\n",
    "            new_habit = 'unknown cover (%)'\n",
    "        elif 'moss' in habit or 'liverwort' in habit:\n",
    "            new_habit = 'bryophyte cover (%)'\n",
    "        elif 'spore-bearing' in habit:\n",
    "            new_habit = 'forb cover (%)'\n",
    "        elif habit == 'grass':\n",
    "            new_habit = 'graminoid cover (%)'\n",
    "            \n",
    "        elif habit == 'shrub, tree':\n",
    "            new_habit = f'{leaf} dwarf to tree cover (%)'\n",
    "        elif 'tree' in habit:\n",
    "            new_habit = f'{leaf} tree cover (%)'\n",
    "        elif habit == 'dwarf shrub':\n",
    "            new_habit = f'{leaf} {habit} cover (%)'\n",
    "        elif 'shrub' in habit:\n",
    "            new_habit = f'{leaf} {height} cover (%)'\n",
    "            \n",
    "        elif 'litter' in habit or 'scat' in habit:\n",
    "            new_habit = 'litter cover (%)'\n",
    "        elif 'bare ground' in habit or 'crust' in habit or 'mineral' in habit:\n",
    "            new_habit = 'bare ground cover (%)'\n",
    "        else:\n",
    "            new_habit = f'{habit} cover (%)'\n",
    "        new_row.append(\" \".join(new_habit.split()).lower())\n",
    "    \n",
    "    return new_row"
   ]
  },
  {
   "cell_type": "code",
   "execution_count": 57,
   "id": "864a34fb-aca1-4456-b60f-8338e0ac0880",
   "metadata": {},
   "outputs": [],
   "source": [
    "# standardized PFT\n",
    "standard_habit_col = standardize_habit(completehabits['Habit'], \n",
    "                                       completehabits['Leaf Retention'], \n",
    "                                       completehabits['Height'])"
   ]
  },
  {
   "cell_type": "code",
   "execution_count": 58,
   "id": "37a713df-d315-442d-a235-0d5b895b58d9",
   "metadata": {},
   "outputs": [],
   "source": [
    "# non-standardized PFT\n",
    "nonstandard_habit_col = standardize_habit_nonstandard(completehabits['Habit'], \n",
    "                                                      completehabits['Leaf Retention'],\n",
    "                                                      completehabits['Height'])"
   ]
  },
  {
   "cell_type": "code",
   "execution_count": 59,
   "id": "a36d9e78-1ad5-4cd5-b2f1-0e2976d7db58",
   "metadata": {},
   "outputs": [],
   "source": [
    "completehabits['Standard Habit'] = standard_habit_col\n",
    "completehabits['NonStandard Habit'] = nonstandard_habit_col"
   ]
  },
  {
   "cell_type": "code",
   "execution_count": 60,
   "id": "28e169b0-c060-4e54-ab1d-87fe0d290090",
   "metadata": {},
   "outputs": [],
   "source": [
    "p = '/mnt/poseidon/remotesensing/arctic/data/vectors/ava_turboveg/'\n",
    "f = 'AKAVA_species_habit_standardized.csv'\n",
    "completehabits.to_csv(p + f)"
   ]
  },
  {
   "cell_type": "markdown",
   "id": "0dd35b00-1648-4b16-b1f2-f51a856c6fad",
   "metadata": {},
   "source": [
    "## Clean fcover data (standardize as percent)"
   ]
  },
  {
   "cell_type": "code",
   "execution_count": 61,
   "id": "f124d548-2a5e-4e80-b837-35cb77830dbe",
   "metadata": {},
   "outputs": [],
   "source": [
    "spp = spp_csvs"
   ]
  },
  {
   "cell_type": "code",
   "execution_count": 58,
   "id": "3e473a86-61e3-4315-bd4c-75b089c4e8e6",
   "metadata": {},
   "outputs": [],
   "source": [
    "def get_fcover_percent(spp, habit_name):\n",
    "    \n",
    "    plot_data = []\n",
    "    names = [os.path.basename(x) for x in spp]\n",
    "    convs = []\n",
    "    for n in names:\n",
    "        conv = n.split('_')[-2]\n",
    "        convs.append(conv)\n",
    "    finalhabits = completehabits[['Name', habit_name]]\n",
    "    \n",
    "    \n",
    "    for s, conv in zip(spp, convs):\n",
    "\n",
    "        # read species data\n",
    "        with open(s, 'rb') as f:\n",
    "            result = chardet.detect(f.read())\n",
    "            df = pd.read_csv(s, encoding=result['encoding'], header=0)\n",
    "        print(habit_name, s, end='\\x1b[1K\\r')\n",
    "\n",
    "        # rename columns\n",
    "        cols = df.columns.to_numpy()\n",
    "        cols[0] = 'Name'\n",
    "        cols[1] = 'Name NoAuthor'\n",
    "        cols[2] = 'Study Name'\n",
    "        df.columns = cols\n",
    "\n",
    "        # select plot TIDs\n",
    "        tid_cols = df.columns.to_list()[3:]\n",
    "\n",
    "        # get habit for each species in file\n",
    "        plotlevel_habit = df.merge(finalhabits, left_on='Name', right_on='Name') # survey plot names will be dropped here\n",
    "\n",
    "        # br-bq to percentage conversion dict\n",
    "        bb_dict = {'r': 0.05, '+': 0.55, '1': 3.0, '2': 15.0, '3': 37.5, '4': 62.5, '5': 87.5, '-9': np.nan}\n",
    "        # Westoff converstion dict\n",
    "        wv_dict = {'1': 0.05, '2': 1.0, '3': 2.5, '4': 4.5, '5': 9.0, '6': 18.5, '7': 37.0, '8': 62.0, '9': 87.5}\n",
    "        # Hult-Serander conversion dict\n",
    "        hs_dict = {'+': 0.5, '1': 4.0, '2': 9.0, '3': 18.0, '4': 38.0, '5': 63.0, '6': 87.0}\n",
    "\n",
    "        # convert wv codes\n",
    "        if conv == 'wv':\n",
    "\n",
    "            # replace westoff-van den maarel code with percentage\n",
    "            cols = plotlevel_habit.columns.to_list()\n",
    "            plotlevel_habit = plotlevel_habit.astype(str)\n",
    "            for col in cols:\n",
    "                plotlevel_habit.replace({col: wv_dict}, inplace=True)\n",
    "\n",
    "        # covert br-bl codes        \n",
    "        elif conv == 'brbl':\n",
    "\n",
    "            # replace br-bl code with percentage\n",
    "            cols = plotlevel_habit.columns.to_list()\n",
    "            plotlevel_habit = plotlevel_habit.astype(str)\n",
    "            for col in cols:\n",
    "                plotlevel_habit.replace({col: bb_dict}, inplace=True)\n",
    "\n",
    "        elif conv == 'hs':\n",
    "\n",
    "            # replace hs code with percentage\n",
    "            cols = plotlevel_habit.columns.to_list()\n",
    "            plotlevel_habit = plotlevel_habit.astype(str)\n",
    "            for col in cols:\n",
    "                plotlevel_habit.replace({col: hs_dict}, inplace=True)\n",
    "\n",
    "        # if already percent\n",
    "        else:\n",
    "\n",
    "            plotlevel_habit = plotlevel_habit.astype(str)\n",
    "\n",
    "        # clean % data\n",
    "        plot_pft = plotlevel_habit.drop(columns=['Name NoAuthor', 'Name', 'Study Name'])\n",
    "        plot_pft = plot_pft.loc[:, plot_pft.columns != habit_name].replace(' ', '0', regex=True)\n",
    "        plot_pft = plot_pft.loc[:, plot_pft.columns != habit_name].replace('', '0', regex=True)\n",
    "        plot_pft = plot_pft.loc[:, plot_pft.columns != habit_name].replace('\\*', '0', regex=True)\n",
    "        plot_pft = plot_pft.loc[:, plot_pft.columns != habit_name].astype(float)\n",
    "\n",
    "        # add back the standard habit column\n",
    "        plot_pft[habit_name] = plotlevel_habit[habit_name] # replace codes with new fcover %\n",
    "\n",
    "        # loop through each plot and sum fcover per pft\n",
    "        final = plot_pft.groupby(by=[habit_name]).sum().T\n",
    "        final.index = tid_cols\n",
    "        plot_data.append(final)\n",
    "        \n",
    "    return plot_data"
   ]
  },
  {
   "cell_type": "code",
   "execution_count": 59,
   "id": "53340af1-ccfd-4491-8c86-374fe1bc4627",
   "metadata": {},
   "outputs": [
    {
     "name": "stdout",
     "output_type": "stream",
     "text": [
      "NonStandard Habit /mnt/poseidon/remotesensing/arctic/data/vectors/AK-AVA_Turboveg/AKAVA_arctic_species_data/aava_willows_uschickhoff_2002_spp_brbl_modsrc.csv\u001b[1K[1KK\u001b[1K\r"
     ]
    }
   ],
   "source": [
    "# this section is working on ALL plot data\n",
    "sf = get_fcover_percent(spp, 'Standard Habit')\n",
    "nsf = get_fcover_percent(spp, 'NonStandard Habit')"
   ]
  },
  {
   "cell_type": "code",
   "execution_count": 60,
   "id": "2eda54fb-fef2-4949-be1a-1d8a4ed4557e",
   "metadata": {},
   "outputs": [],
   "source": [
    "standard_fcover = pd.concat(sf, axis=0)\n",
    "nonstandard_fcover = pd.concat(nsf, axis=0)"
   ]
  },
  {
   "cell_type": "code",
   "execution_count": 61,
   "id": "73ffcdf4-b377-4944-8e45-af88bb1078ad",
   "metadata": {},
   "outputs": [],
   "source": [
    "standard_fcover.index.name = 'Site Code'\n",
    "standard_fcover.index = standard_fcover.index.astype(str)\n",
    "standard_fcover.columns.name = None\n",
    "nonstandard_fcover.index = nonstandard_fcover.index.astype(str)\n",
    "nonstandard_fcover.columns.name = None"
   ]
  },
  {
   "cell_type": "markdown",
   "id": "3c647a9d-3639-4646-b0e4-2c1c31ce8016",
   "metadata": {},
   "source": [
    "## Standardize fcover data"
   ]
  },
  {
   "cell_type": "code",
   "execution_count": 62,
   "id": "fd20d837-86a2-4c54-b034-a760996267d9",
   "metadata": {},
   "outputs": [],
   "source": [
    "def add_standard_cols(groups):\n",
    "    \n",
    "    # required columns\n",
    "    necessary_cols = ['deciduous dwarf shrub cover (%)',\n",
    "                      'deciduous dwarf to low shrub cover (%)',\n",
    "                      'deciduous dwarf to tall shrub cover (%)',\n",
    "                      'deciduous dwarf to tree cover (%)',\n",
    "                      'deciduous tree cover (%)',\n",
    "                      'evergreen dwarf shrub cover (%)',\n",
    "                      'evergreen dwarf to low shrub cover (%)',\n",
    "                      'evergreen dwarf to tall shrub cover (%)',\n",
    "                      'evergreen dwarf to tree cover (%)',\n",
    "                      'evergreen tree cover (%)',\n",
    "                      'bryophyte cover (%)',\n",
    "                      'forb cover (%)',\n",
    "                      'graminoid cover (%)',\n",
    "                      'lichen cover (%)']\n",
    "    \n",
    "    # add missing columns and fill with nan\n",
    "    cols = groups.columns.tolist()\n",
    "    addcols = []\n",
    "    for nc in necessary_cols:\n",
    "        if nc not in cols:\n",
    "            addcols.append(nc)\n",
    "    groups[addcols] = np.nan\n",
    "    return groups"
   ]
  },
  {
   "cell_type": "code",
   "execution_count": 63,
   "id": "f185ef01-38c7-4cac-ae6b-778aef34f2d3",
   "metadata": {},
   "outputs": [],
   "source": [
    "standard_fcover = add_standard_cols(standard_fcover)"
   ]
  },
  {
   "cell_type": "markdown",
   "id": "a0234ac6-62bb-43a2-b91a-fe438d539095",
   "metadata": {},
   "source": [
    "## Check total/top\n",
    "Sum non-vegetaion, see if any PFT (max PFT) is greater than the remainder\n",
    "\n",
    "If non-veg is always smaller than vegetation, than non-vegetation is probably top cover"
   ]
  },
  {
   "cell_type": "code",
   "execution_count": 64,
   "id": "28334da6-d2be-4c9b-a533-d211cce13651",
   "metadata": {},
   "outputs": [],
   "source": [
    "# clean up nonveg (this df has correct number of sites)\n",
    "nonveg2 = nonveg.copy()\n",
    "nonveg2 = nonveg2.astype(float)\n",
    "nonveg2 = nonveg2.where(nonveg2 != -9.0, np.NaN)\n",
    "nonveg2.index.name = 'Site Code'\n",
    "nonveg2.index = nonveg2.index.astype(str)\n",
    "\n",
    "# clean up litter\n",
    "litter2 = litter.copy()\n",
    "litter2 = litter2.astype(float)\n",
    "litter2 = litter2.where(litter2 != -9.0, np.NaN)\n",
    "litter2.index.name = 'Site Code'\n",
    "litter2.index = litter2.index.astype(str)"
   ]
  },
  {
   "cell_type": "code",
   "execution_count": 65,
   "id": "7d1cadb5-3608-438c-a637-9a9526762995",
   "metadata": {},
   "outputs": [],
   "source": [
    "nonvegsum = nonveg2.sum(axis=1)\n",
    "nonvegsum = pd.DataFrame(nonvegsum, columns=['nonveg_fcover'])"
   ]
  },
  {
   "cell_type": "code",
   "execution_count": 66,
   "id": "d2501947-4fc0-44b5-b0fe-8687ca58eca1",
   "metadata": {},
   "outputs": [],
   "source": [
    "vegmax = standard_fcover.max(axis=1)\n",
    "vegmax = pd.DataFrame(vegmax, columns=['max_veg_fcover'])\n",
    "idx = vegmax.index.astype(str)\n",
    "vegmax.index = idx"
   ]
  },
  {
   "cell_type": "code",
   "execution_count": 67,
   "id": "0c9a7226-a28c-4cd4-a057-a13fa57169c8",
   "metadata": {},
   "outputs": [],
   "source": [
    "maxs = pd.concat([vegmax, nonvegsum], axis=1)"
   ]
  },
  {
   "cell_type": "code",
   "execution_count": 68,
   "id": "c4d869a6-5e58-4053-9e18-3f3d07e5190c",
   "metadata": {},
   "outputs": [],
   "source": [
    "# replace 0 with NaN and drop rows with all NaN\n",
    "maxs = maxs.replace(0.0, np.NaN)\n",
    "maxs = maxs.dropna(axis=0, how='all')"
   ]
  },
  {
   "cell_type": "code",
   "execution_count": 69,
   "id": "b1d30639-5a57-4308-aec8-338804ba4faa",
   "metadata": {},
   "outputs": [],
   "source": [
    "maxs = maxs.replace(np.NaN, 0.0)\n",
    "maxs['nonveg_remainder'] = 100 - maxs['nonveg_fcover']\n",
    "maxs['top_or_total'] = np.where(maxs['max_veg_fcover'] < maxs['nonveg_remainder'], 'top', 'total')\n",
    "maxs['top_or_total'] = np.where(maxs['nonveg_fcover'] == 0, 'na', maxs['top_or_total'])\n",
    "maxs['maxveg > nonveg_remainder'] = np.where(maxs['max_veg_fcover'] > maxs['nonveg_remainder'], True, False)"
   ]
  },
  {
   "cell_type": "code",
   "execution_count": 70,
   "id": "1835a46b-6340-4369-ae94-1fba5d7ccd66",
   "metadata": {},
   "outputs": [],
   "source": [
    "maxs.index = maxs.index.astype(int)"
   ]
  },
  {
   "cell_type": "code",
   "execution_count": 71,
   "id": "aa83c292-2198-4af6-a9bf-a1a2f9519f78",
   "metadata": {},
   "outputs": [],
   "source": [
    "maxs = maxs[maxs.index.isin(nonveg.index.tolist())]"
   ]
  },
  {
   "cell_type": "markdown",
   "id": "ec1d9dcf-f5db-4de3-a137-dd665a992cbf",
   "metadata": {},
   "source": [
    "## Read ancillary"
   ]
  },
  {
   "cell_type": "code",
   "execution_count": 72,
   "id": "725eea10-7094-47e6-8f02-737e2936f9ff",
   "metadata": {},
   "outputs": [],
   "source": [
    "anc = ancillary.copy()\n",
    "# year\n",
    "anc['year'] = anc['Date (yyyymmdd)'].astype(int)\n",
    "anc['year'] = anc['Date (yyyymmdd)'].astype(str).str[:4]\n",
    "anc['year'] = anc['year'].astype('Int64')\n",
    "# plot size\n",
    "anc['Releve area (m2)'].replace(-1, np.NaN)\n",
    "anc['plot_radius_m'] = np.sqrt(anc['Releve area (m2)'].astype(float)) / 2\n",
    "#anc['plot_radius_m'] = anc['plot_radius_m'].astype(str).str.extract('(\\d+)')\n",
    "# dataset source\n",
    "anc['source'] = 'AKAVA'\n",
    "anc['subsource'] = anc['Dataset']\n",
    "anc.rename(columns={'Latitude (decimal degrees)':'latitude',\n",
    "                    'Longitude (decimal degrees)':'longitude'}, inplace=True)\n",
    "anc.index.name = 'Site Code'\n",
    "#anc.index = anc.index.astype(str)"
   ]
  },
  {
   "cell_type": "code",
   "execution_count": 73,
   "id": "5b18e314-e3b8-4343-a376-9ff163c77638",
   "metadata": {},
   "outputs": [],
   "source": [
    "anc = anc[['latitude', 'longitude', 'year', 'plot_radius_m', 'source', 'subsource']]"
   ]
  },
  {
   "cell_type": "code",
   "execution_count": 74,
   "id": "67620c58-f619-4050-aead-4c140fef258e",
   "metadata": {},
   "outputs": [],
   "source": [
    "maxs_w_anc = pd.concat([maxs, anc], axis=1, join='inner')"
   ]
  },
  {
   "cell_type": "code",
   "execution_count": 75,
   "id": "dfc90d8a-2c05-47c0-9a1a-2c8ebcacdf88",
   "metadata": {},
   "outputs": [],
   "source": [
    "maxs_w_anc_2010 = maxs_w_anc.copy()\n",
    "maxs_w_anc_2010 = maxs_w_anc[maxs_w_anc_2010['year'] >= 2010]\n",
    "maxs_w_anc_2010_samp = maxs_w_anc_2010.sample(n=20)"
   ]
  },
  {
   "cell_type": "code",
   "execution_count": 76,
   "id": "4836638d-5088-4c36-af5f-8f14c470c721",
   "metadata": {},
   "outputs": [],
   "source": [
    "p = '/mnt/poseidon/remotesensing/arctic/data/vectors/AK-AVA_Turboveg/'\n",
    "maxs_w_anc.to_csv(p + 'nonveg_cover_type.csv')\n",
    "maxs_w_anc_2010_samp.to_csv(p + 'nonveg_cover_type_p2010.csv')"
   ]
  },
  {
   "cell_type": "markdown",
   "id": "6a38e623-1939-421c-b3cc-2701c0604a87",
   "metadata": {},
   "source": [
    "## Rename non-veg and drop 100% water plots"
   ]
  },
  {
   "cell_type": "code",
   "execution_count": 77,
   "id": "e4c3a1c6-5631-4f27-84c1-dd41634424da",
   "metadata": {},
   "outputs": [],
   "source": [
    "# assume non-veg is total cover\n",
    "nonveg2.rename(columns={'Cover of soil crust (%)':'bare ground top cover (%)',\n",
    "                       'Cover bare soil (%)':'bare ground top cover (%)',\n",
    "                       'Cover rock (%)':'bare ground top cover (%)',\n",
    "                       'Cover water (%)':'water top cover (%)'},\n",
    "              inplace=True)\n",
    "nonveg2 = nonveg2.groupby(lambda x:x, axis=1).sum()\n",
    "nonveg2 = nonveg2[nonveg2['water top cover (%)'] != 100]\n",
    "nonwater_idx = nonveg2.index.tolist()"
   ]
  },
  {
   "cell_type": "markdown",
   "id": "c17ec1f1-0827-4b17-b410-b2c39dd1eab8",
   "metadata": {},
   "source": [
    "## Create total cover file (not merged)"
   ]
  },
  {
   "cell_type": "code",
   "execution_count": 78,
   "id": "bf4df9b7-f98c-4c23-bf03-19231ab8403f",
   "metadata": {},
   "outputs": [
    {
     "data": {
      "text/plain": [
       "308"
      ]
     },
     "execution_count": 78,
     "metadata": {},
     "output_type": "execute_result"
    }
   ],
   "source": [
    "# set index and sort columns\n",
    "totcover_nm = nonstandard_fcover.copy()\n",
    "totcover_nm.drop(columns=['fungus cover (%)'], inplace=True)\n",
    "#select plots of interest using inner join -- litter 2 has correct num of plots\n",
    "totcover_nm = pd.concat([totcover_nm, litter2], axis=1, join='inner')\n",
    "totcover_nm.rename(columns={'Cover litter (%)':'litter cover (%)'}, inplace=True)\n",
    "len(totcover_nm)"
   ]
  },
  {
   "cell_type": "code",
   "execution_count": 79,
   "id": "b35e62f3-eb3b-43ab-85a6-5304358286a5",
   "metadata": {},
   "outputs": [],
   "source": [
    "totcover_nm.columns.name = None\n",
    "totcover_nm = totcover_nm[sorted(totcover_nm.columns.tolist())]\n",
    "totcover_nm.index.name = 'Site Code'"
   ]
  },
  {
   "cell_type": "code",
   "execution_count": 80,
   "id": "494c6417-f888-45dd-8362-3e0a51088c8f",
   "metadata": {},
   "outputs": [],
   "source": [
    "# add \"total cover\" to column names\n",
    "cols = totcover_nm.columns.tolist()\n",
    "cols = [x.replace('cover (%)' , 'total cover (%)') for x in cols]\n",
    "totcover_nm.columns = cols\n",
    "totcover_nm = totcover_nm.groupby(lambda x:x, axis=1).sum() #remove duplicate cols"
   ]
  },
  {
   "cell_type": "code",
   "execution_count": 81,
   "id": "32323aad-dbab-40fb-8bd3-56c1dcce0f70",
   "metadata": {},
   "outputs": [],
   "source": [
    "# add ancillary\n",
    "totcover_nm.index = totcover_nm.index.astype(str)\n",
    "anc.index = anc.index.astype(str)\n",
    "totcover_nm = pd.concat([totcover_nm, anc], axis=1)\n",
    "totcover_nm.replace(0.0, np.NaN, inplace=True)"
   ]
  },
  {
   "cell_type": "code",
   "execution_count": 82,
   "id": "eeb37351-e09d-42b3-98e0-86bb4182401a",
   "metadata": {},
   "outputs": [],
   "source": [
    "# drop 100% water\n",
    "totcover_nm = totcover_nm.loc[nonwater_idx]"
   ]
  },
  {
   "cell_type": "code",
   "execution_count": 83,
   "id": "9950b1fe-08b7-4f9d-a450-5c67ddf4ea82",
   "metadata": {},
   "outputs": [],
   "source": [
    "# export\n",
    "p = '/mnt/poseidon/remotesensing/arctic/data/training/Test_04/original_files/'\n",
    "f = 'AKAVA_fcover_total_orig.csv'\n",
    "totcover_nm.to_csv(p + f)"
   ]
  },
  {
   "cell_type": "code",
   "execution_count": 84,
   "id": "01876653-fecd-49d9-a323-b4ecb72dbab7",
   "metadata": {},
   "outputs": [
    {
     "data": {
      "text/plain": [
       "275"
      ]
     },
     "execution_count": 84,
     "metadata": {},
     "output_type": "execute_result"
    }
   ],
   "source": [
    "len(totcover_nm)"
   ]
  },
  {
   "cell_type": "markdown",
   "id": "7378ec71-6cbf-4fff-a89b-9cacb6a356d4",
   "metadata": {},
   "source": [
    "## Create total cover file (merged)"
   ]
  },
  {
   "cell_type": "code",
   "execution_count": 85,
   "id": "510052d5-f91f-497b-9509-6a1a9abed8b1",
   "metadata": {},
   "outputs": [],
   "source": [
    "# set index and sort columns\n",
    "totcover = standard_fcover.copy()\n",
    "totcover = pd.concat([litter2, totcover], axis=1, join='inner')\n",
    "totcover.rename(columns={'Cover litter (%)':'litter cover (%)'}, inplace=True)\n",
    "totcover.drop(columns=['fungus cover (%)'], inplace=True)\n",
    "totcover.columns.name = None\n",
    "totcover = totcover[sorted(totcover.columns.tolist())]\n",
    "totcover.index.name = 'Site Code'\n",
    "totcover.index = totcover.index.astype(str)"
   ]
  },
  {
   "cell_type": "code",
   "execution_count": 86,
   "id": "f7efb105-f50e-4e01-ab05-e470ee0fe464",
   "metadata": {},
   "outputs": [],
   "source": [
    "# add \"total cover\" to column names\n",
    "cols = totcover.columns.tolist()\n",
    "cols = [x.replace('cover (%)' , 'total cover (%)') for x in cols]\n",
    "totcover.columns = cols"
   ]
  },
  {
   "cell_type": "code",
   "execution_count": 87,
   "id": "107a685c-ed76-4e3d-aa19-65b70bc8e838",
   "metadata": {},
   "outputs": [],
   "source": [
    "totcover = pd.concat([nonveg2, totcover], axis=1)\n",
    "totcover = totcover.groupby(lambda x:x, axis=1).sum() #remove duplicate cols\n",
    "totcover.drop(columns=['bare ground top cover (%)', 'water top cover (%)'], inplace=True)"
   ]
  },
  {
   "cell_type": "code",
   "execution_count": 88,
   "id": "1f935883-b19c-4162-b735-37a928077247",
   "metadata": {},
   "outputs": [],
   "source": [
    "# add ancillary\n",
    "totcover2 = pd.concat([totcover, anc], axis=1)\n",
    "totcover2.replace(0.0, np.NaN, inplace=True)\n",
    "totcover2.index.name = 'Site Code'"
   ]
  },
  {
   "cell_type": "code",
   "execution_count": 89,
   "id": "1bfe067a-277a-4a58-bb5b-210b423a1b5e",
   "metadata": {},
   "outputs": [],
   "source": [
    "# drop 100% water\n",
    "totcover2 = totcover2.loc[nonwater_idx]"
   ]
  },
  {
   "cell_type": "code",
   "execution_count": 90,
   "id": "054551ff-d43f-476a-9a98-5911fcb8dfc5",
   "metadata": {},
   "outputs": [],
   "source": [
    "# export\n",
    "p = '/mnt/poseidon/remotesensing/arctic/data/training/Test_04/original_files/'\n",
    "f = 'AKAVA_fcover_total_merged.csv'\n",
    "totcover2.to_csv(p + f)"
   ]
  },
  {
   "cell_type": "code",
   "execution_count": 91,
   "id": "cfd8e58f-8d41-4f02-9fad-0fc0d40b5135",
   "metadata": {},
   "outputs": [
    {
     "data": {
      "text/plain": [
       "275"
      ]
     },
     "execution_count": 91,
     "metadata": {},
     "output_type": "execute_result"
    }
   ],
   "source": [
    "len(totcover2)"
   ]
  },
  {
   "cell_type": "markdown",
   "id": "ba2d3e51-4965-4d9e-a901-eb769b6b9f64",
   "metadata": {},
   "source": [
    "## non-veg top cover"
   ]
  },
  {
   "cell_type": "code",
   "execution_count": 92,
   "id": "78cdca45-d137-4634-98bf-878a97b6ad6b",
   "metadata": {},
   "outputs": [],
   "source": [
    "top = pd.concat([nonveg2, anc], axis=1, join='inner')\n",
    "top.replace(0.0, np.NaN, inplace=True)\n",
    "top.index.name = 'Site Code'"
   ]
  },
  {
   "cell_type": "code",
   "execution_count": 93,
   "id": "352e33bc-9121-43f8-87e9-c03109e1ce74",
   "metadata": {},
   "outputs": [],
   "source": [
    "# drop 100% water\n",
    "top = top.loc[nonwater_idx]"
   ]
  },
  {
   "cell_type": "code",
   "execution_count": 94,
   "id": "5f4d85e2-a5b2-4a56-96ce-898550aa61ee",
   "metadata": {},
   "outputs": [],
   "source": [
    "# export\n",
    "p = '/mnt/poseidon/remotesensing/arctic/data/training/Test_04/original_files/'\n",
    "f = 'AKAVA_fcover_top_nonPFT.csv'\n",
    "top.to_csv(p + f)"
   ]
  },
  {
   "cell_type": "code",
   "execution_count": 95,
   "id": "a5953b84-7179-42b5-afc3-a60ce36ac2e9",
   "metadata": {},
   "outputs": [
    {
     "data": {
      "text/plain": [
       "275"
      ]
     },
     "execution_count": 95,
     "metadata": {},
     "output_type": "execute_result"
    }
   ],
   "source": [
    "len(top)"
   ]
  },
  {
   "cell_type": "markdown",
   "id": "9f6e6dcb-f700-46a8-8d4a-b2fb40849f07",
   "metadata": {},
   "source": [
    "## Concat total and top into one file"
   ]
  },
  {
   "cell_type": "code",
   "execution_count": 96,
   "id": "4ccce4c9-fc2b-4a1b-b09b-bdeca871b7af",
   "metadata": {},
   "outputs": [],
   "source": [
    "allveg = pd.concat([totcover2, top], axis=1)\n",
    "covercols = sorted([col for col in allveg.columns if 'cover (%)' in col])\n",
    "the_rest = sorted([col for col in allveg.columns if not 'cover (%)' in col])\n",
    "c = allveg[covercols]\n",
    "r = allveg[the_rest]\n",
    "final_all = pd.concat([c,r], axis=1)\n",
    "# remove duplicate columns\n",
    "final_all = final_all.loc[:,~final_all.columns.duplicated()].copy()"
   ]
  },
  {
   "cell_type": "code",
   "execution_count": 97,
   "id": "514c4711-14ed-418a-bcbb-77d604d03b79",
   "metadata": {},
   "outputs": [
    {
     "data": {
      "text/plain": [
       "Index(['bare ground top cover (%)', 'bryophyte total cover (%)',\n",
       "       'deciduous dwarf shrub total cover (%)',\n",
       "       'deciduous dwarf to low shrub total cover (%)',\n",
       "       'deciduous dwarf to tall shrub total cover (%)',\n",
       "       'deciduous dwarf to tree total cover (%)',\n",
       "       'deciduous tree total cover (%)',\n",
       "       'evergreen dwarf shrub total cover (%)',\n",
       "       'evergreen dwarf to low shrub total cover (%)',\n",
       "       'evergreen dwarf to tall shrub total cover (%)',\n",
       "       'evergreen dwarf to tree total cover (%)',\n",
       "       'evergreen tree total cover (%)', 'forb total cover (%)',\n",
       "       'graminoid total cover (%)', 'lichen total cover (%)',\n",
       "       'litter total cover (%)', 'water top cover (%)', 'latitude',\n",
       "       'longitude', 'plot_radius_m', 'source', 'subsource', 'year'],\n",
       "      dtype='object')"
      ]
     },
     "execution_count": 97,
     "metadata": {},
     "output_type": "execute_result"
    }
   ],
   "source": [
    "final_all.columns"
   ]
  },
  {
   "cell_type": "code",
   "execution_count": 99,
   "id": "f461f09a-7898-4407-951a-c1b81e58f4a8",
   "metadata": {},
   "outputs": [],
   "source": [
    "# export\n",
    "p = '/mnt/poseidon/remotesensing/arctic/data/training/Test_05/temp/'\n",
    "f = 'AVA_fcover_child.csv'\n",
    "final_all.to_csv(p + f)"
   ]
  },
  {
   "cell_type": "markdown",
   "id": "d0059cdf-ba03-4f3e-8754-6f4d1ebd61be",
   "metadata": {},
   "source": [
    "## Aggregate child plots to parent plots"
   ]
  },
  {
   "cell_type": "code",
   "execution_count": 100,
   "id": "7cf04ea0-c1bd-4926-9903-a13c8e1a172d",
   "metadata": {},
   "outputs": [],
   "source": [
    "def warn(*args, **kwargs):\n",
    "    pass\n",
    "import warnings\n",
    "warnings.warn = warn"
   ]
  },
  {
   "cell_type": "code",
   "execution_count": 101,
   "id": "2dc8040c-d4ce-43ce-b12d-9f3d7d115687",
   "metadata": {},
   "outputs": [],
   "source": [
    "# load cover file\n",
    "p = '/mnt/poseidon/remotesensing/arctic/data/training/Test_05/temp/'\n",
    "f = 'AVA_fcover_child.csv'\n",
    "akava = pd.read_csv(p + f)\n",
    "\n",
    "# only plots with very small sizes need to be processed, \n",
    "# the other remains the same, discarding all plots earlier than 2010\n",
    "akava['plot_radius_m'].astype(float)\n",
    "akava_small_fcover = akava[(akava['plot_radius_m']<10) &  (akava['year']>=2010)]\n",
    "akava_large_fcover = akava[(akava['plot_radius_m']>=10) &  (akava['year']>=2010)]"
   ]
  },
  {
   "cell_type": "code",
   "execution_count": 102,
   "id": "5a7b552d-d0ef-486b-a2a0-f3d225845196",
   "metadata": {},
   "outputs": [
    {
     "data": {
      "text/plain": [
       "275"
      ]
     },
     "execution_count": 102,
     "metadata": {},
     "output_type": "execute_result"
    }
   ],
   "source": [
    "len(akava_small_fcover)"
   ]
  },
  {
   "cell_type": "code",
   "execution_count": 103,
   "id": "58f968d8-ace4-4ac3-bd9e-8138d7ab8908",
   "metadata": {},
   "outputs": [
    {
     "data": {
      "text/html": [
       "<div>\n",
       "<style scoped>\n",
       "    .dataframe tbody tr th:only-of-type {\n",
       "        vertical-align: middle;\n",
       "    }\n",
       "\n",
       "    .dataframe tbody tr th {\n",
       "        vertical-align: top;\n",
       "    }\n",
       "\n",
       "    .dataframe thead th {\n",
       "        text-align: right;\n",
       "    }\n",
       "</style>\n",
       "<table border=\"1\" class=\"dataframe\">\n",
       "  <thead>\n",
       "    <tr style=\"text-align: right;\">\n",
       "      <th></th>\n",
       "      <th>Site Code</th>\n",
       "      <th>year</th>\n",
       "      <th>latitude</th>\n",
       "      <th>longitude</th>\n",
       "      <th>source</th>\n",
       "      <th>subsource</th>\n",
       "      <th>plot_radius_m</th>\n",
       "    </tr>\n",
       "  </thead>\n",
       "  <tbody>\n",
       "    <tr>\n",
       "      <th>0</th>\n",
       "      <td>11600</td>\n",
       "      <td>2010</td>\n",
       "      <td>71.288212</td>\n",
       "      <td>-156.682645</td>\n",
       "      <td>AKAVA</td>\n",
       "      <td>Barrow IBP Tundra Biome_Pat Webber (Webber 1978)</td>\n",
       "      <td>0.5</td>\n",
       "    </tr>\n",
       "    <tr>\n",
       "      <th>1</th>\n",
       "      <td>11599</td>\n",
       "      <td>2010</td>\n",
       "      <td>71.289576</td>\n",
       "      <td>-156.691514</td>\n",
       "      <td>AKAVA</td>\n",
       "      <td>Barrow IBP Tundra Biome_Pat Webber (Webber 1978)</td>\n",
       "      <td>0.5</td>\n",
       "    </tr>\n",
       "    <tr>\n",
       "      <th>2</th>\n",
       "      <td>11598</td>\n",
       "      <td>2010</td>\n",
       "      <td>71.289508</td>\n",
       "      <td>-156.690180</td>\n",
       "      <td>AKAVA</td>\n",
       "      <td>Barrow IBP Tundra Biome_Pat Webber (Webber 1978)</td>\n",
       "      <td>0.5</td>\n",
       "    </tr>\n",
       "    <tr>\n",
       "      <th>3</th>\n",
       "      <td>11593</td>\n",
       "      <td>2010</td>\n",
       "      <td>71.289531</td>\n",
       "      <td>-156.689706</td>\n",
       "      <td>AKAVA</td>\n",
       "      <td>Barrow IBP Tundra Biome_Pat Webber (Webber 1978)</td>\n",
       "      <td>0.5</td>\n",
       "    </tr>\n",
       "    <tr>\n",
       "      <th>4</th>\n",
       "      <td>11595</td>\n",
       "      <td>2010</td>\n",
       "      <td>71.289509</td>\n",
       "      <td>-156.686935</td>\n",
       "      <td>AKAVA</td>\n",
       "      <td>Barrow IBP Tundra Biome_Pat Webber (Webber 1978)</td>\n",
       "      <td>0.5</td>\n",
       "    </tr>\n",
       "  </tbody>\n",
       "</table>\n",
       "</div>"
      ],
      "text/plain": [
       "   Site Code  year   latitude   longitude source  \\\n",
       "0      11600  2010  71.288212 -156.682645  AKAVA   \n",
       "1      11599  2010  71.289576 -156.691514  AKAVA   \n",
       "2      11598  2010  71.289508 -156.690180  AKAVA   \n",
       "3      11593  2010  71.289531 -156.689706  AKAVA   \n",
       "4      11595  2010  71.289509 -156.686935  AKAVA   \n",
       "\n",
       "                                          subsource  plot_radius_m  \n",
       "0  Barrow IBP Tundra Biome_Pat Webber (Webber 1978)            0.5  \n",
       "1  Barrow IBP Tundra Biome_Pat Webber (Webber 1978)            0.5  \n",
       "2  Barrow IBP Tundra Biome_Pat Webber (Webber 1978)            0.5  \n",
       "3  Barrow IBP Tundra Biome_Pat Webber (Webber 1978)            0.5  \n",
       "4  Barrow IBP Tundra Biome_Pat Webber (Webber 1978)            0.5  "
      ]
     },
     "execution_count": 103,
     "metadata": {},
     "output_type": "execute_result"
    }
   ],
   "source": [
    "selected_columns = ['Site Code','year','latitude', 'longitude', 'source', 'subsource', 'plot_radius_m']\n",
    "akava_small = akava_small_fcover[selected_columns]\n",
    "# akava_small = akava.fillna(0)\n",
    "akava_small.head()"
   ]
  },
  {
   "cell_type": "code",
   "execution_count": 104,
   "id": "6b06e6d4-20ec-4947-9f16-6e1095a16e69",
   "metadata": {},
   "outputs": [],
   "source": [
    "#### transform geographic to utm so that distance caculation is more intuitive\n",
    "from pyproj import Transformer\n",
    "src_crs = \"EPSG:4326\"\n",
    "target_crs = \"EPSG:32606\"\n",
    "transformer = Transformer.from_crs(src_crs, target_crs)\n",
    "\n",
    "lon = akava_small['longitude'].to_numpy()\n",
    "lat = akava_small['latitude'].to_numpy()\n",
    "\n",
    "#### store the projected coords\n",
    "projcoords = []   \n",
    "for i in range(0,akava_small.shape[0]):\n",
    "    xcoord, ycoord = lon[i],lat[i]\n",
    "    projcoords.append(transformer.transform(ycoord,xcoord))"
   ]
  },
  {
   "cell_type": "code",
   "execution_count": 105,
   "id": "38394e79-70a9-4a41-b46d-c203274ab049",
   "metadata": {},
   "outputs": [],
   "source": [
    "#### calculate the distance matrix of all small plots (for examination)\n",
    "from scipy.spatial.distance import cdist\n",
    "coord = np.array(projcoords)\n",
    "dist_mat = cdist(coord, coord, 'euclidean')\n",
    "# dist_mat[:3,:] <= 60"
   ]
  },
  {
   "cell_type": "code",
   "execution_count": 106,
   "id": "f7475e84-730b-47b3-b41f-e78156b0f89f",
   "metadata": {},
   "outputs": [],
   "source": [
    "### group pixels/plots based on their euclidean distance\n",
    "def group_pixels_by_distance(pixel_data, distance_threshold):\n",
    "    \"\"\"\n",
    "        pixel_data: ndarray of coordinate pair: n by 2, default is utm projection\n",
    "        distance_threshold: threshold used for grouping, default is 60m\n",
    "        \n",
    "        return:\n",
    "        a list of values indicating the group id of each pixel\n",
    "    \n",
    "    \"\"\"\n",
    "    cluster_id = 0\n",
    "    pixel_clusters = {}\n",
    "   \n",
    "    def expand_cluster(pixel, cluster_id):\n",
    "        if pixel_clusters.get(cluster_id) is None:\n",
    "            pixel_clusters[cluster_id] = []\n",
    "       \n",
    "        pixel_clusters[cluster_id].append(pixel)\n",
    "\n",
    "    cluster_array = np.full(len(pixel_data), -1)  # Initialize with -1 (unassigned)\n",
    "   \n",
    "    for i, pixel in enumerate(pixel_data):\n",
    "        assigned = False\n",
    "       \n",
    "        for c_id, cluster_pixels in pixel_clusters.items():\n",
    "            cluster_pixels = np.array(cluster_pixels)\n",
    "            distances = np.linalg.norm(cluster_pixels - pixel, axis=1)\n",
    "            if np.any(distances <= distance_threshold):\n",
    "                expand_cluster(pixel, c_id)\n",
    "                assigned = True\n",
    "                cluster_array[i] = c_id\n",
    "                break\n",
    "       \n",
    "        if not assigned:\n",
    "            expand_cluster(pixel, cluster_id)\n",
    "            cluster_array[i] = cluster_id\n",
    "            cluster_id += 1\n",
    "\n",
    "    return cluster_array\n",
    "\n",
    "dist_thres = 55\n",
    "coord = np.array(projcoords)  ## UTM coords, unit is meter\n",
    "group = group_pixels_by_distance(coord, dist_thres)"
   ]
  },
  {
   "cell_type": "code",
   "execution_count": 107,
   "id": "d1ed2563-1227-4b75-8753-56787b1b4e6b",
   "metadata": {},
   "outputs": [
    {
     "data": {
      "text/html": [
       "<div>\n",
       "<style scoped>\n",
       "    .dataframe tbody tr th:only-of-type {\n",
       "        vertical-align: middle;\n",
       "    }\n",
       "\n",
       "    .dataframe tbody tr th {\n",
       "        vertical-align: top;\n",
       "    }\n",
       "\n",
       "    .dataframe thead th {\n",
       "        text-align: right;\n",
       "    }\n",
       "</style>\n",
       "<table border=\"1\" class=\"dataframe\">\n",
       "  <thead>\n",
       "    <tr style=\"text-align: right;\">\n",
       "      <th></th>\n",
       "      <th>Site Code</th>\n",
       "      <th>year</th>\n",
       "      <th>latitude</th>\n",
       "      <th>longitude</th>\n",
       "      <th>source</th>\n",
       "      <th>subsource</th>\n",
       "      <th>plot_radius_m</th>\n",
       "      <th>group_id</th>\n",
       "    </tr>\n",
       "  </thead>\n",
       "  <tbody>\n",
       "    <tr>\n",
       "      <th>0</th>\n",
       "      <td>11600</td>\n",
       "      <td>2010</td>\n",
       "      <td>71.288212</td>\n",
       "      <td>-156.682645</td>\n",
       "      <td>AKAVA</td>\n",
       "      <td>Barrow IBP Tundra Biome_Pat Webber (Webber 1978)</td>\n",
       "      <td>0.5</td>\n",
       "      <td>0</td>\n",
       "    </tr>\n",
       "    <tr>\n",
       "      <th>1</th>\n",
       "      <td>11599</td>\n",
       "      <td>2010</td>\n",
       "      <td>71.289576</td>\n",
       "      <td>-156.691514</td>\n",
       "      <td>AKAVA</td>\n",
       "      <td>Barrow IBP Tundra Biome_Pat Webber (Webber 1978)</td>\n",
       "      <td>0.5</td>\n",
       "      <td>1</td>\n",
       "    </tr>\n",
       "    <tr>\n",
       "      <th>2</th>\n",
       "      <td>11598</td>\n",
       "      <td>2010</td>\n",
       "      <td>71.289508</td>\n",
       "      <td>-156.690180</td>\n",
       "      <td>AKAVA</td>\n",
       "      <td>Barrow IBP Tundra Biome_Pat Webber (Webber 1978)</td>\n",
       "      <td>0.5</td>\n",
       "      <td>1</td>\n",
       "    </tr>\n",
       "    <tr>\n",
       "      <th>3</th>\n",
       "      <td>11593</td>\n",
       "      <td>2010</td>\n",
       "      <td>71.289531</td>\n",
       "      <td>-156.689706</td>\n",
       "      <td>AKAVA</td>\n",
       "      <td>Barrow IBP Tundra Biome_Pat Webber (Webber 1978)</td>\n",
       "      <td>0.5</td>\n",
       "      <td>1</td>\n",
       "    </tr>\n",
       "    <tr>\n",
       "      <th>4</th>\n",
       "      <td>11595</td>\n",
       "      <td>2010</td>\n",
       "      <td>71.289509</td>\n",
       "      <td>-156.686935</td>\n",
       "      <td>AKAVA</td>\n",
       "      <td>Barrow IBP Tundra Biome_Pat Webber (Webber 1978)</td>\n",
       "      <td>0.5</td>\n",
       "      <td>2</td>\n",
       "    </tr>\n",
       "  </tbody>\n",
       "</table>\n",
       "</div>"
      ],
      "text/plain": [
       "   Site Code  year   latitude   longitude source  \\\n",
       "0      11600  2010  71.288212 -156.682645  AKAVA   \n",
       "1      11599  2010  71.289576 -156.691514  AKAVA   \n",
       "2      11598  2010  71.289508 -156.690180  AKAVA   \n",
       "3      11593  2010  71.289531 -156.689706  AKAVA   \n",
       "4      11595  2010  71.289509 -156.686935  AKAVA   \n",
       "\n",
       "                                          subsource  plot_radius_m  group_id  \n",
       "0  Barrow IBP Tundra Biome_Pat Webber (Webber 1978)            0.5         0  \n",
       "1  Barrow IBP Tundra Biome_Pat Webber (Webber 1978)            0.5         1  \n",
       "2  Barrow IBP Tundra Biome_Pat Webber (Webber 1978)            0.5         1  \n",
       "3  Barrow IBP Tundra Biome_Pat Webber (Webber 1978)            0.5         1  \n",
       "4  Barrow IBP Tundra Biome_Pat Webber (Webber 1978)            0.5         2  "
      ]
     },
     "execution_count": 107,
     "metadata": {},
     "output_type": "execute_result"
    }
   ],
   "source": [
    "### add the group id to df for aggregation\n",
    "akava_small['group_id'] = group\n",
    "akava_small.head()"
   ]
  },
  {
   "cell_type": "code",
   "execution_count": 109,
   "id": "ae028697-5963-45c7-97d0-2ef521cdc3c8",
   "metadata": {},
   "outputs": [],
   "source": [
    "groups = akava_small.groupby(['group_id', \n",
    "                              'year', 'source']).agg({'latitude':'mean',\n",
    "                                            'longitude':'mean',\n",
    "                                            'Site Code':list,\n",
    "                                            'plot_radius_m':list,\n",
    "                                            'subsource':set})"
   ]
  },
  {
   "cell_type": "code",
   "execution_count": 110,
   "id": "2163c1d3-df0f-4169-bd0d-041428adf21e",
   "metadata": {},
   "outputs": [
    {
     "data": {
      "text/html": [
       "<div>\n",
       "<style scoped>\n",
       "    .dataframe tbody tr th:only-of-type {\n",
       "        vertical-align: middle;\n",
       "    }\n",
       "\n",
       "    .dataframe tbody tr th {\n",
       "        vertical-align: top;\n",
       "    }\n",
       "\n",
       "    .dataframe thead th {\n",
       "        text-align: right;\n",
       "    }\n",
       "</style>\n",
       "<table border=\"1\" class=\"dataframe\">\n",
       "  <thead>\n",
       "    <tr style=\"text-align: right;\">\n",
       "      <th></th>\n",
       "      <th></th>\n",
       "      <th></th>\n",
       "      <th>latitude</th>\n",
       "      <th>longitude</th>\n",
       "      <th>Site Code</th>\n",
       "      <th>plot_radius_m</th>\n",
       "      <th>subsource</th>\n",
       "    </tr>\n",
       "    <tr>\n",
       "      <th>group_id</th>\n",
       "      <th>year</th>\n",
       "      <th>source</th>\n",
       "      <th></th>\n",
       "      <th></th>\n",
       "      <th></th>\n",
       "      <th></th>\n",
       "      <th></th>\n",
       "    </tr>\n",
       "  </thead>\n",
       "  <tbody>\n",
       "    <tr>\n",
       "      <th>0</th>\n",
       "      <th>2010</th>\n",
       "      <th>AKAVA</th>\n",
       "      <td>71.288212</td>\n",
       "      <td>-156.682645</td>\n",
       "      <td>[11600]</td>\n",
       "      <td>[0.5]</td>\n",
       "      <td>{Barrow IBP Tundra Biome_Pat Webber (Webber 19...</td>\n",
       "    </tr>\n",
       "    <tr>\n",
       "      <th>1</th>\n",
       "      <th>2010</th>\n",
       "      <th>AKAVA</th>\n",
       "      <td>71.289538</td>\n",
       "      <td>-156.690467</td>\n",
       "      <td>[11599, 11598, 11593]</td>\n",
       "      <td>[0.5, 0.5, 0.5]</td>\n",
       "      <td>{Barrow IBP Tundra Biome_Pat Webber (Webber 19...</td>\n",
       "    </tr>\n",
       "    <tr>\n",
       "      <th>2</th>\n",
       "      <th>2010</th>\n",
       "      <th>AKAVA</th>\n",
       "      <td>71.289509</td>\n",
       "      <td>-156.686935</td>\n",
       "      <td>[11595]</td>\n",
       "      <td>[0.5]</td>\n",
       "      <td>{Barrow IBP Tundra Biome_Pat Webber (Webber 19...</td>\n",
       "    </tr>\n",
       "    <tr>\n",
       "      <th>3</th>\n",
       "      <th>2010</th>\n",
       "      <th>AKAVA</th>\n",
       "      <td>71.288892</td>\n",
       "      <td>-156.680604</td>\n",
       "      <td>[11594, 11602, 11596]</td>\n",
       "      <td>[0.5, 0.5, 0.5]</td>\n",
       "      <td>{Barrow IBP Tundra Biome_Pat Webber (Webber 19...</td>\n",
       "    </tr>\n",
       "    <tr>\n",
       "      <th>4</th>\n",
       "      <th>2010</th>\n",
       "      <th>AKAVA</th>\n",
       "      <td>71.288333</td>\n",
       "      <td>-156.676383</td>\n",
       "      <td>[11622]</td>\n",
       "      <td>[0.5]</td>\n",
       "      <td>{Barrow IBP Tundra Biome_Pat Webber (Webber 19...</td>\n",
       "    </tr>\n",
       "    <tr>\n",
       "      <th>...</th>\n",
       "      <th>...</th>\n",
       "      <th>...</th>\n",
       "      <td>...</td>\n",
       "      <td>...</td>\n",
       "      <td>...</td>\n",
       "      <td>...</td>\n",
       "      <td>...</td>\n",
       "    </tr>\n",
       "    <tr>\n",
       "      <th>84</th>\n",
       "      <th>2014</th>\n",
       "      <th>AKAVA</th>\n",
       "      <td>70.222151</td>\n",
       "      <td>-148.472511</td>\n",
       "      <td>[12783]</td>\n",
       "      <td>[0.5]</td>\n",
       "      <td>{Prudhoe ArcSEES road study_Donald Walker (Wal...</td>\n",
       "    </tr>\n",
       "    <tr>\n",
       "      <th>85</th>\n",
       "      <th>2014</th>\n",
       "      <th>AKAVA</th>\n",
       "      <td>70.223167</td>\n",
       "      <td>-148.471293</td>\n",
       "      <td>[12781, 12779, 12777, 12775, 12776, 12787, 127...</td>\n",
       "      <td>[0.5, 0.5, 0.5, 0.5, 0.5, 0.5, 0.5, 0.5, 0.5, ...</td>\n",
       "      <td>{Prudhoe ArcSEES road study_Donald Walker (Wal...</td>\n",
       "    </tr>\n",
       "    <tr>\n",
       "      <th>86</th>\n",
       "      <th>2014</th>\n",
       "      <th>AKAVA</th>\n",
       "      <td>70.222445</td>\n",
       "      <td>-148.467781</td>\n",
       "      <td>[12789, 12788]</td>\n",
       "      <td>[0.5, 0.5]</td>\n",
       "      <td>{Prudhoe ArcSEES road study_Donald Walker (Wal...</td>\n",
       "    </tr>\n",
       "    <tr>\n",
       "      <th>87</th>\n",
       "      <th>2014</th>\n",
       "      <th>AKAVA</th>\n",
       "      <td>71.321623</td>\n",
       "      <td>-156.605577</td>\n",
       "      <td>[13073, 13074, 13075, 13080, 13076, 13077]</td>\n",
       "      <td>[0.5, 0.5, 0.5, 0.5, 0.5, 0.5]</td>\n",
       "      <td>{Flux Tower Zona_Scott Davidson (Davidson et a...</td>\n",
       "    </tr>\n",
       "    <tr>\n",
       "      <th>88</th>\n",
       "      <th>2014</th>\n",
       "      <th>AKAVA</th>\n",
       "      <td>71.324245</td>\n",
       "      <td>-156.607965</td>\n",
       "      <td>[13072, 13071]</td>\n",
       "      <td>[0.5, 0.5]</td>\n",
       "      <td>{Flux Tower Zona_Scott Davidson (Davidson et a...</td>\n",
       "    </tr>\n",
       "  </tbody>\n",
       "</table>\n",
       "<p>90 rows × 5 columns</p>\n",
       "</div>"
      ],
      "text/plain": [
       "                       latitude   longitude  \\\n",
       "group_id year source                          \n",
       "0        2010 AKAVA   71.288212 -156.682645   \n",
       "1        2010 AKAVA   71.289538 -156.690467   \n",
       "2        2010 AKAVA   71.289509 -156.686935   \n",
       "3        2010 AKAVA   71.288892 -156.680604   \n",
       "4        2010 AKAVA   71.288333 -156.676383   \n",
       "...                         ...         ...   \n",
       "84       2014 AKAVA   70.222151 -148.472511   \n",
       "85       2014 AKAVA   70.223167 -148.471293   \n",
       "86       2014 AKAVA   70.222445 -148.467781   \n",
       "87       2014 AKAVA   71.321623 -156.605577   \n",
       "88       2014 AKAVA   71.324245 -156.607965   \n",
       "\n",
       "                                                              Site Code  \\\n",
       "group_id year source                                                      \n",
       "0        2010 AKAVA                                             [11600]   \n",
       "1        2010 AKAVA                               [11599, 11598, 11593]   \n",
       "2        2010 AKAVA                                             [11595]   \n",
       "3        2010 AKAVA                               [11594, 11602, 11596]   \n",
       "4        2010 AKAVA                                             [11622]   \n",
       "...                                                                 ...   \n",
       "84       2014 AKAVA                                             [12783]   \n",
       "85       2014 AKAVA   [12781, 12779, 12777, 12775, 12776, 12787, 127...   \n",
       "86       2014 AKAVA                                      [12789, 12788]   \n",
       "87       2014 AKAVA          [13073, 13074, 13075, 13080, 13076, 13077]   \n",
       "88       2014 AKAVA                                      [13072, 13071]   \n",
       "\n",
       "                                                          plot_radius_m  \\\n",
       "group_id year source                                                      \n",
       "0        2010 AKAVA                                               [0.5]   \n",
       "1        2010 AKAVA                                     [0.5, 0.5, 0.5]   \n",
       "2        2010 AKAVA                                               [0.5]   \n",
       "3        2010 AKAVA                                     [0.5, 0.5, 0.5]   \n",
       "4        2010 AKAVA                                               [0.5]   \n",
       "...                                                                 ...   \n",
       "84       2014 AKAVA                                               [0.5]   \n",
       "85       2014 AKAVA   [0.5, 0.5, 0.5, 0.5, 0.5, 0.5, 0.5, 0.5, 0.5, ...   \n",
       "86       2014 AKAVA                                          [0.5, 0.5]   \n",
       "87       2014 AKAVA                      [0.5, 0.5, 0.5, 0.5, 0.5, 0.5]   \n",
       "88       2014 AKAVA                                          [0.5, 0.5]   \n",
       "\n",
       "                                                              subsource  \n",
       "group_id year source                                                     \n",
       "0        2010 AKAVA   {Barrow IBP Tundra Biome_Pat Webber (Webber 19...  \n",
       "1        2010 AKAVA   {Barrow IBP Tundra Biome_Pat Webber (Webber 19...  \n",
       "2        2010 AKAVA   {Barrow IBP Tundra Biome_Pat Webber (Webber 19...  \n",
       "3        2010 AKAVA   {Barrow IBP Tundra Biome_Pat Webber (Webber 19...  \n",
       "4        2010 AKAVA   {Barrow IBP Tundra Biome_Pat Webber (Webber 19...  \n",
       "...                                                                 ...  \n",
       "84       2014 AKAVA   {Prudhoe ArcSEES road study_Donald Walker (Wal...  \n",
       "85       2014 AKAVA   {Prudhoe ArcSEES road study_Donald Walker (Wal...  \n",
       "86       2014 AKAVA   {Prudhoe ArcSEES road study_Donald Walker (Wal...  \n",
       "87       2014 AKAVA   {Flux Tower Zona_Scott Davidson (Davidson et a...  \n",
       "88       2014 AKAVA   {Flux Tower Zona_Scott Davidson (Davidson et a...  \n",
       "\n",
       "[90 rows x 5 columns]"
      ]
     },
     "execution_count": 110,
     "metadata": {},
     "output_type": "execute_result"
    }
   ],
   "source": [
    "groups"
   ]
  },
  {
   "cell_type": "code",
   "execution_count": 111,
   "id": "3bd0f479-baca-41c3-b9f0-eb7576b29c36",
   "metadata": {},
   "outputs": [
    {
     "data": {
      "text/html": [
       "<div>\n",
       "<style scoped>\n",
       "    .dataframe tbody tr th:only-of-type {\n",
       "        vertical-align: middle;\n",
       "    }\n",
       "\n",
       "    .dataframe tbody tr th {\n",
       "        vertical-align: top;\n",
       "    }\n",
       "\n",
       "    .dataframe thead th {\n",
       "        text-align: right;\n",
       "    }\n",
       "</style>\n",
       "<table border=\"1\" class=\"dataframe\">\n",
       "  <thead>\n",
       "    <tr style=\"text-align: right;\">\n",
       "      <th></th>\n",
       "      <th></th>\n",
       "      <th></th>\n",
       "      <th>latitude</th>\n",
       "      <th>longitude</th>\n",
       "      <th>Site Code</th>\n",
       "      <th>plot_radius_m</th>\n",
       "      <th>subsource</th>\n",
       "    </tr>\n",
       "    <tr>\n",
       "      <th>group_id</th>\n",
       "      <th>year</th>\n",
       "      <th>source</th>\n",
       "      <th></th>\n",
       "      <th></th>\n",
       "      <th></th>\n",
       "      <th></th>\n",
       "      <th></th>\n",
       "    </tr>\n",
       "  </thead>\n",
       "  <tbody>\n",
       "    <tr>\n",
       "      <th>0</th>\n",
       "      <th>2010</th>\n",
       "      <th>AKAVA</th>\n",
       "      <td>71.288212</td>\n",
       "      <td>-156.682645</td>\n",
       "      <td>[11600]</td>\n",
       "      <td>0.5</td>\n",
       "      <td>{Barrow IBP Tundra Biome_Pat Webber (Webber 19...</td>\n",
       "    </tr>\n",
       "    <tr>\n",
       "      <th>1</th>\n",
       "      <th>2010</th>\n",
       "      <th>AKAVA</th>\n",
       "      <td>71.289538</td>\n",
       "      <td>-156.690467</td>\n",
       "      <td>[11599, 11598, 11593]</td>\n",
       "      <td>55.0</td>\n",
       "      <td>{Barrow IBP Tundra Biome_Pat Webber (Webber 19...</td>\n",
       "    </tr>\n",
       "    <tr>\n",
       "      <th>2</th>\n",
       "      <th>2010</th>\n",
       "      <th>AKAVA</th>\n",
       "      <td>71.289509</td>\n",
       "      <td>-156.686935</td>\n",
       "      <td>[11595]</td>\n",
       "      <td>0.5</td>\n",
       "      <td>{Barrow IBP Tundra Biome_Pat Webber (Webber 19...</td>\n",
       "    </tr>\n",
       "    <tr>\n",
       "      <th>3</th>\n",
       "      <th>2010</th>\n",
       "      <th>AKAVA</th>\n",
       "      <td>71.288892</td>\n",
       "      <td>-156.680604</td>\n",
       "      <td>[11594, 11602, 11596]</td>\n",
       "      <td>55.0</td>\n",
       "      <td>{Barrow IBP Tundra Biome_Pat Webber (Webber 19...</td>\n",
       "    </tr>\n",
       "    <tr>\n",
       "      <th>4</th>\n",
       "      <th>2010</th>\n",
       "      <th>AKAVA</th>\n",
       "      <td>71.288333</td>\n",
       "      <td>-156.676383</td>\n",
       "      <td>[11622]</td>\n",
       "      <td>0.5</td>\n",
       "      <td>{Barrow IBP Tundra Biome_Pat Webber (Webber 19...</td>\n",
       "    </tr>\n",
       "    <tr>\n",
       "      <th>...</th>\n",
       "      <th>...</th>\n",
       "      <th>...</th>\n",
       "      <td>...</td>\n",
       "      <td>...</td>\n",
       "      <td>...</td>\n",
       "      <td>...</td>\n",
       "      <td>...</td>\n",
       "    </tr>\n",
       "    <tr>\n",
       "      <th>84</th>\n",
       "      <th>2014</th>\n",
       "      <th>AKAVA</th>\n",
       "      <td>70.222151</td>\n",
       "      <td>-148.472511</td>\n",
       "      <td>[12783]</td>\n",
       "      <td>0.5</td>\n",
       "      <td>{Prudhoe ArcSEES road study_Donald Walker (Wal...</td>\n",
       "    </tr>\n",
       "    <tr>\n",
       "      <th>85</th>\n",
       "      <th>2014</th>\n",
       "      <th>AKAVA</th>\n",
       "      <td>70.223167</td>\n",
       "      <td>-148.471293</td>\n",
       "      <td>[12781, 12779, 12777, 12775, 12776, 12787, 127...</td>\n",
       "      <td>55.0</td>\n",
       "      <td>{Prudhoe ArcSEES road study_Donald Walker (Wal...</td>\n",
       "    </tr>\n",
       "    <tr>\n",
       "      <th>86</th>\n",
       "      <th>2014</th>\n",
       "      <th>AKAVA</th>\n",
       "      <td>70.222445</td>\n",
       "      <td>-148.467781</td>\n",
       "      <td>[12789, 12788]</td>\n",
       "      <td>55.0</td>\n",
       "      <td>{Prudhoe ArcSEES road study_Donald Walker (Wal...</td>\n",
       "    </tr>\n",
       "    <tr>\n",
       "      <th>87</th>\n",
       "      <th>2014</th>\n",
       "      <th>AKAVA</th>\n",
       "      <td>71.321623</td>\n",
       "      <td>-156.605577</td>\n",
       "      <td>[13073, 13074, 13075, 13080, 13076, 13077]</td>\n",
       "      <td>55.0</td>\n",
       "      <td>{Flux Tower Zona_Scott Davidson (Davidson et a...</td>\n",
       "    </tr>\n",
       "    <tr>\n",
       "      <th>88</th>\n",
       "      <th>2014</th>\n",
       "      <th>AKAVA</th>\n",
       "      <td>71.324245</td>\n",
       "      <td>-156.607965</td>\n",
       "      <td>[13072, 13071]</td>\n",
       "      <td>55.0</td>\n",
       "      <td>{Flux Tower Zona_Scott Davidson (Davidson et a...</td>\n",
       "    </tr>\n",
       "  </tbody>\n",
       "</table>\n",
       "<p>90 rows × 5 columns</p>\n",
       "</div>"
      ],
      "text/plain": [
       "                       latitude   longitude  \\\n",
       "group_id year source                          \n",
       "0        2010 AKAVA   71.288212 -156.682645   \n",
       "1        2010 AKAVA   71.289538 -156.690467   \n",
       "2        2010 AKAVA   71.289509 -156.686935   \n",
       "3        2010 AKAVA   71.288892 -156.680604   \n",
       "4        2010 AKAVA   71.288333 -156.676383   \n",
       "...                         ...         ...   \n",
       "84       2014 AKAVA   70.222151 -148.472511   \n",
       "85       2014 AKAVA   70.223167 -148.471293   \n",
       "86       2014 AKAVA   70.222445 -148.467781   \n",
       "87       2014 AKAVA   71.321623 -156.605577   \n",
       "88       2014 AKAVA   71.324245 -156.607965   \n",
       "\n",
       "                                                              Site Code  \\\n",
       "group_id year source                                                      \n",
       "0        2010 AKAVA                                             [11600]   \n",
       "1        2010 AKAVA                               [11599, 11598, 11593]   \n",
       "2        2010 AKAVA                                             [11595]   \n",
       "3        2010 AKAVA                               [11594, 11602, 11596]   \n",
       "4        2010 AKAVA                                             [11622]   \n",
       "...                                                                 ...   \n",
       "84       2014 AKAVA                                             [12783]   \n",
       "85       2014 AKAVA   [12781, 12779, 12777, 12775, 12776, 12787, 127...   \n",
       "86       2014 AKAVA                                      [12789, 12788]   \n",
       "87       2014 AKAVA          [13073, 13074, 13075, 13080, 13076, 13077]   \n",
       "88       2014 AKAVA                                      [13072, 13071]   \n",
       "\n",
       "                      plot_radius_m  \\\n",
       "group_id year source                  \n",
       "0        2010 AKAVA             0.5   \n",
       "1        2010 AKAVA            55.0   \n",
       "2        2010 AKAVA             0.5   \n",
       "3        2010 AKAVA            55.0   \n",
       "4        2010 AKAVA             0.5   \n",
       "...                             ...   \n",
       "84       2014 AKAVA             0.5   \n",
       "85       2014 AKAVA            55.0   \n",
       "86       2014 AKAVA            55.0   \n",
       "87       2014 AKAVA            55.0   \n",
       "88       2014 AKAVA            55.0   \n",
       "\n",
       "                                                              subsource  \n",
       "group_id year source                                                     \n",
       "0        2010 AKAVA   {Barrow IBP Tundra Biome_Pat Webber (Webber 19...  \n",
       "1        2010 AKAVA   {Barrow IBP Tundra Biome_Pat Webber (Webber 19...  \n",
       "2        2010 AKAVA   {Barrow IBP Tundra Biome_Pat Webber (Webber 19...  \n",
       "3        2010 AKAVA   {Barrow IBP Tundra Biome_Pat Webber (Webber 19...  \n",
       "4        2010 AKAVA   {Barrow IBP Tundra Biome_Pat Webber (Webber 19...  \n",
       "...                                                                 ...  \n",
       "84       2014 AKAVA   {Prudhoe ArcSEES road study_Donald Walker (Wal...  \n",
       "85       2014 AKAVA   {Prudhoe ArcSEES road study_Donald Walker (Wal...  \n",
       "86       2014 AKAVA   {Prudhoe ArcSEES road study_Donald Walker (Wal...  \n",
       "87       2014 AKAVA   {Flux Tower Zona_Scott Davidson (Davidson et a...  \n",
       "88       2014 AKAVA   {Flux Tower Zona_Scott Davidson (Davidson et a...  \n",
       "\n",
       "[90 rows x 5 columns]"
      ]
     },
     "execution_count": 111,
     "metadata": {},
     "output_type": "execute_result"
    }
   ],
   "source": [
    "def get_plot_size(rowlst):\n",
    "    if len(rowlst) == 1:\n",
    "        val = rowlst[0]\n",
    "    else:\n",
    "        val = 55\n",
    "    return val\n",
    "groups['plot_radius_m'] = groups['plot_radius_m'].apply(lambda row: get_plot_size(row))\n",
    "groups"
   ]
  },
  {
   "cell_type": "code",
   "execution_count": 117,
   "id": "cadb4b7a-7263-4298-8ed1-2e30298fbbf3",
   "metadata": {},
   "outputs": [],
   "source": [
    "groups2 = groups.explode('Site Code')"
   ]
  },
  {
   "cell_type": "code",
   "execution_count": 118,
   "id": "1bcae225-3315-4959-85cf-21de41610eac",
   "metadata": {},
   "outputs": [
    {
     "data": {
      "text/html": [
       "<div>\n",
       "<style scoped>\n",
       "    .dataframe tbody tr th:only-of-type {\n",
       "        vertical-align: middle;\n",
       "    }\n",
       "\n",
       "    .dataframe tbody tr th {\n",
       "        vertical-align: top;\n",
       "    }\n",
       "\n",
       "    .dataframe thead th {\n",
       "        text-align: right;\n",
       "    }\n",
       "</style>\n",
       "<table border=\"1\" class=\"dataframe\">\n",
       "  <thead>\n",
       "    <tr style=\"text-align: right;\">\n",
       "      <th></th>\n",
       "      <th>parent_latitude</th>\n",
       "      <th>parent_longitude</th>\n",
       "      <th>Site Code</th>\n",
       "      <th>plot_radius_m</th>\n",
       "      <th>parent_id</th>\n",
       "    </tr>\n",
       "  </thead>\n",
       "  <tbody>\n",
       "    <tr>\n",
       "      <th>0</th>\n",
       "      <td>71.288212</td>\n",
       "      <td>-156.682645</td>\n",
       "      <td>11600</td>\n",
       "      <td>0.5</td>\n",
       "      <td>0_2010_AKAVA</td>\n",
       "    </tr>\n",
       "    <tr>\n",
       "      <th>1</th>\n",
       "      <td>71.289538</td>\n",
       "      <td>-156.690467</td>\n",
       "      <td>11599</td>\n",
       "      <td>55.0</td>\n",
       "      <td>1_2010_AKAVA</td>\n",
       "    </tr>\n",
       "    <tr>\n",
       "      <th>2</th>\n",
       "      <td>71.289538</td>\n",
       "      <td>-156.690467</td>\n",
       "      <td>11598</td>\n",
       "      <td>55.0</td>\n",
       "      <td>1_2010_AKAVA</td>\n",
       "    </tr>\n",
       "    <tr>\n",
       "      <th>3</th>\n",
       "      <td>71.289538</td>\n",
       "      <td>-156.690467</td>\n",
       "      <td>11593</td>\n",
       "      <td>55.0</td>\n",
       "      <td>1_2010_AKAVA</td>\n",
       "    </tr>\n",
       "    <tr>\n",
       "      <th>4</th>\n",
       "      <td>71.289509</td>\n",
       "      <td>-156.686935</td>\n",
       "      <td>11595</td>\n",
       "      <td>0.5</td>\n",
       "      <td>2_2010_AKAVA</td>\n",
       "    </tr>\n",
       "    <tr>\n",
       "      <th>...</th>\n",
       "      <td>...</td>\n",
       "      <td>...</td>\n",
       "      <td>...</td>\n",
       "      <td>...</td>\n",
       "      <td>...</td>\n",
       "    </tr>\n",
       "    <tr>\n",
       "      <th>270</th>\n",
       "      <td>71.321623</td>\n",
       "      <td>-156.605577</td>\n",
       "      <td>13080</td>\n",
       "      <td>55.0</td>\n",
       "      <td>87_2014_AKAVA</td>\n",
       "    </tr>\n",
       "    <tr>\n",
       "      <th>271</th>\n",
       "      <td>71.321623</td>\n",
       "      <td>-156.605577</td>\n",
       "      <td>13076</td>\n",
       "      <td>55.0</td>\n",
       "      <td>87_2014_AKAVA</td>\n",
       "    </tr>\n",
       "    <tr>\n",
       "      <th>272</th>\n",
       "      <td>71.321623</td>\n",
       "      <td>-156.605577</td>\n",
       "      <td>13077</td>\n",
       "      <td>55.0</td>\n",
       "      <td>87_2014_AKAVA</td>\n",
       "    </tr>\n",
       "    <tr>\n",
       "      <th>273</th>\n",
       "      <td>71.324245</td>\n",
       "      <td>-156.607965</td>\n",
       "      <td>13072</td>\n",
       "      <td>55.0</td>\n",
       "      <td>88_2014_AKAVA</td>\n",
       "    </tr>\n",
       "    <tr>\n",
       "      <th>274</th>\n",
       "      <td>71.324245</td>\n",
       "      <td>-156.607965</td>\n",
       "      <td>13071</td>\n",
       "      <td>55.0</td>\n",
       "      <td>88_2014_AKAVA</td>\n",
       "    </tr>\n",
       "  </tbody>\n",
       "</table>\n",
       "<p>275 rows × 5 columns</p>\n",
       "</div>"
      ],
      "text/plain": [
       "     parent_latitude  parent_longitude Site Code  plot_radius_m      parent_id\n",
       "0          71.288212       -156.682645     11600            0.5   0_2010_AKAVA\n",
       "1          71.289538       -156.690467     11599           55.0   1_2010_AKAVA\n",
       "2          71.289538       -156.690467     11598           55.0   1_2010_AKAVA\n",
       "3          71.289538       -156.690467     11593           55.0   1_2010_AKAVA\n",
       "4          71.289509       -156.686935     11595            0.5   2_2010_AKAVA\n",
       "..               ...               ...       ...            ...            ...\n",
       "270        71.321623       -156.605577     13080           55.0  87_2014_AKAVA\n",
       "271        71.321623       -156.605577     13076           55.0  87_2014_AKAVA\n",
       "272        71.321623       -156.605577     13077           55.0  87_2014_AKAVA\n",
       "273        71.324245       -156.607965     13072           55.0  88_2014_AKAVA\n",
       "274        71.324245       -156.607965     13071           55.0  88_2014_AKAVA\n",
       "\n",
       "[275 rows x 5 columns]"
      ]
     },
     "execution_count": 118,
     "metadata": {},
     "output_type": "execute_result"
    }
   ],
   "source": [
    "groups2.reset_index(inplace=True)\n",
    "groups2['parent_id'] = (groups2['group_id'].astype(str) + \n",
    "                        '_' + groups2['year'].astype(str) +\n",
    "                        '_' + groups2['source'])\n",
    "groups2.rename(columns={'latitude':'parent_latitude',\n",
    "                        'longitude':'parent_longitude'},\n",
    "               inplace=True)\n",
    "groups2.drop(columns=['group_id', 'year', 'source', 'subsource'], inplace=True)\n",
    "groups2"
   ]
  },
  {
   "cell_type": "code",
   "execution_count": 119,
   "id": "cbc3f962-1604-42c6-86a2-565d4439c557",
   "metadata": {},
   "outputs": [
    {
     "data": {
      "text/plain": [
       "Index(['bare ground top cover (%)', 'bryophyte total cover (%)',\n",
       "       'deciduous dwarf shrub total cover (%)',\n",
       "       'deciduous dwarf to low shrub total cover (%)',\n",
       "       'deciduous dwarf to tall shrub total cover (%)',\n",
       "       'deciduous dwarf to tree total cover (%)',\n",
       "       'deciduous tree total cover (%)',\n",
       "       'evergreen dwarf shrub total cover (%)',\n",
       "       'evergreen dwarf to low shrub total cover (%)',\n",
       "       'evergreen dwarf to tall shrub total cover (%)',\n",
       "       'evergreen dwarf to tree total cover (%)',\n",
       "       'evergreen tree total cover (%)', 'forb total cover (%)',\n",
       "       'graminoid total cover (%)', 'lichen total cover (%)',\n",
       "       'litter total cover (%)', 'water top cover (%)', 'latitude',\n",
       "       'longitude', 'source', 'subsource', 'year', 'parent_latitude',\n",
       "       'parent_longitude', 'plot_radius_m', 'parent_id'],\n",
       "      dtype='object')"
      ]
     },
     "execution_count": 119,
     "metadata": {},
     "output_type": "execute_result"
    }
   ],
   "source": [
    "groups2.set_index('Site Code', inplace=True)\n",
    "asf = akava_small_fcover.set_index('Site Code')\n",
    "asf.drop(columns=['plot_radius_m'], inplace=True)\n",
    "joined = pd.concat([asf, groups2], axis=1)\n",
    "joined.columns"
   ]
  },
  {
   "cell_type": "code",
   "execution_count": 122,
   "id": "f9e1a141-056a-485b-b180-2ab903532ba9",
   "metadata": {},
   "outputs": [],
   "source": [
    "info_cols = ['parent_latitude', 'parent_longitude', 'plot_radius_m'] #create parent coord by finding mean\n",
    "data_cols = [col for col in joined.columns if 'cover (%)' in col]\n",
    "anci_cols = set(joined.columns) - set(data_cols) - set(info_cols)"
   ]
  },
  {
   "cell_type": "code",
   "execution_count": 127,
   "id": "7dcf1655-19e1-4bd8-8cde-4f8ba95e9687",
   "metadata": {},
   "outputs": [],
   "source": [
    "info_dict = dict.fromkeys(info_cols, 'mean')\n",
    "data_dict = dict.fromkeys(data_cols, 'mean')\n",
    "anci_dict = dict.fromkeys(anci_cols, set)\n",
    "d = {**data_dict, **info_dict, **anci_dict}\n",
    "\n",
    "parent_plots = joined.groupby('parent_id').agg(d)"
   ]
  },
  {
   "cell_type": "code",
   "execution_count": 128,
   "id": "e589f9d8-76f9-423f-b083-7afd61228eb4",
   "metadata": {},
   "outputs": [],
   "source": [
    "parent_plots.drop(columns=['latitude', 'longitude', 'parent_id', \n",
    "                           'source'],\n",
    "                 inplace=True)"
   ]
  },
  {
   "cell_type": "code",
   "execution_count": 129,
   "id": "5e23aaf4-0377-4547-9583-042031b9de0b",
   "metadata": {},
   "outputs": [],
   "source": [
    "parent_plots['year'] = parent_plots['year'].explode()\n",
    "parent_plots['source'] = 'AKAVA'\n",
    "parent_plots['subsource'] = parent_plots['subsource'].apply(list)\n",
    "parent_plots.rename(columns={'Site Code':'child_site_codes',\n",
    "                             'parent_longitude':'longitude',\n",
    "                             'parent_latitude':'latitude'}, \n",
    "                    inplace=True)\n",
    "parent_plots.index.name = 'Site Code'"
   ]
  },
  {
   "cell_type": "code",
   "execution_count": 130,
   "id": "507fa849-e571-439b-85a6-1b7b0167b0a1",
   "metadata": {},
   "outputs": [
    {
     "data": {
      "text/html": [
       "<div>\n",
       "<style scoped>\n",
       "    .dataframe tbody tr th:only-of-type {\n",
       "        vertical-align: middle;\n",
       "    }\n",
       "\n",
       "    .dataframe tbody tr th {\n",
       "        vertical-align: top;\n",
       "    }\n",
       "\n",
       "    .dataframe thead th {\n",
       "        text-align: right;\n",
       "    }\n",
       "</style>\n",
       "<table border=\"1\" class=\"dataframe\">\n",
       "  <thead>\n",
       "    <tr style=\"text-align: right;\">\n",
       "      <th></th>\n",
       "      <th>bare ground top cover (%)</th>\n",
       "      <th>bryophyte total cover (%)</th>\n",
       "      <th>deciduous dwarf shrub total cover (%)</th>\n",
       "      <th>deciduous dwarf to low shrub total cover (%)</th>\n",
       "      <th>deciduous dwarf to tall shrub total cover (%)</th>\n",
       "      <th>deciduous dwarf to tree total cover (%)</th>\n",
       "      <th>deciduous tree total cover (%)</th>\n",
       "      <th>evergreen dwarf shrub total cover (%)</th>\n",
       "      <th>evergreen dwarf to low shrub total cover (%)</th>\n",
       "      <th>evergreen dwarf to tall shrub total cover (%)</th>\n",
       "      <th>...</th>\n",
       "      <th>graminoid total cover (%)</th>\n",
       "      <th>lichen total cover (%)</th>\n",
       "      <th>litter total cover (%)</th>\n",
       "      <th>water top cover (%)</th>\n",
       "      <th>latitude</th>\n",
       "      <th>longitude</th>\n",
       "      <th>plot_radius_m</th>\n",
       "      <th>year</th>\n",
       "      <th>subsource</th>\n",
       "      <th>source</th>\n",
       "    </tr>\n",
       "    <tr>\n",
       "      <th>Site Code</th>\n",
       "      <th></th>\n",
       "      <th></th>\n",
       "      <th></th>\n",
       "      <th></th>\n",
       "      <th></th>\n",
       "      <th></th>\n",
       "      <th></th>\n",
       "      <th></th>\n",
       "      <th></th>\n",
       "      <th></th>\n",
       "      <th></th>\n",
       "      <th></th>\n",
       "      <th></th>\n",
       "      <th></th>\n",
       "      <th></th>\n",
       "      <th></th>\n",
       "      <th></th>\n",
       "      <th></th>\n",
       "      <th></th>\n",
       "      <th></th>\n",
       "      <th></th>\n",
       "    </tr>\n",
       "  </thead>\n",
       "  <tbody>\n",
       "    <tr>\n",
       "      <th>0_2010_AKAVA</th>\n",
       "      <td>NaN</td>\n",
       "      <td>6.50</td>\n",
       "      <td>NaN</td>\n",
       "      <td>NaN</td>\n",
       "      <td>NaN</td>\n",
       "      <td>NaN</td>\n",
       "      <td>NaN</td>\n",
       "      <td>NaN</td>\n",
       "      <td>NaN</td>\n",
       "      <td>NaN</td>\n",
       "      <td>...</td>\n",
       "      <td>28.100000</td>\n",
       "      <td>NaN</td>\n",
       "      <td>18.000000</td>\n",
       "      <td>50.0</td>\n",
       "      <td>71.288212</td>\n",
       "      <td>-156.682645</td>\n",
       "      <td>0.5</td>\n",
       "      <td>2010</td>\n",
       "      <td>[Barrow IBP Tundra Biome_Pat Webber (Webber 19...</td>\n",
       "      <td>AKAVA</td>\n",
       "    </tr>\n",
       "    <tr>\n",
       "      <th>10_2010_AKAVA</th>\n",
       "      <td>NaN</td>\n",
       "      <td>0.20</td>\n",
       "      <td>NaN</td>\n",
       "      <td>NaN</td>\n",
       "      <td>NaN</td>\n",
       "      <td>NaN</td>\n",
       "      <td>NaN</td>\n",
       "      <td>NaN</td>\n",
       "      <td>NaN</td>\n",
       "      <td>NaN</td>\n",
       "      <td>...</td>\n",
       "      <td>38.500000</td>\n",
       "      <td>NaN</td>\n",
       "      <td>3.000000</td>\n",
       "      <td>69.0</td>\n",
       "      <td>71.296217</td>\n",
       "      <td>-156.700917</td>\n",
       "      <td>0.5</td>\n",
       "      <td>2010</td>\n",
       "      <td>[Barrow IBP Tundra Biome_Pat Webber (Webber 19...</td>\n",
       "      <td>AKAVA</td>\n",
       "    </tr>\n",
       "    <tr>\n",
       "      <th>11_2010_AKAVA</th>\n",
       "      <td>NaN</td>\n",
       "      <td>32.37</td>\n",
       "      <td>1.500000</td>\n",
       "      <td>NaN</td>\n",
       "      <td>11.666667</td>\n",
       "      <td>NaN</td>\n",
       "      <td>NaN</td>\n",
       "      <td>NaN</td>\n",
       "      <td>NaN</td>\n",
       "      <td>NaN</td>\n",
       "      <td>...</td>\n",
       "      <td>27.346667</td>\n",
       "      <td>1.896667</td>\n",
       "      <td>28.666667</td>\n",
       "      <td>NaN</td>\n",
       "      <td>71.294623</td>\n",
       "      <td>-156.688007</td>\n",
       "      <td>55.0</td>\n",
       "      <td>2010</td>\n",
       "      <td>[Barrow IBP Tundra Biome_Pat Webber (Webber 19...</td>\n",
       "      <td>AKAVA</td>\n",
       "    </tr>\n",
       "    <tr>\n",
       "      <th>12_2010_AKAVA</th>\n",
       "      <td>NaN</td>\n",
       "      <td>20.90</td>\n",
       "      <td>0.010000</td>\n",
       "      <td>NaN</td>\n",
       "      <td>NaN</td>\n",
       "      <td>NaN</td>\n",
       "      <td>NaN</td>\n",
       "      <td>NaN</td>\n",
       "      <td>NaN</td>\n",
       "      <td>NaN</td>\n",
       "      <td>...</td>\n",
       "      <td>32.420000</td>\n",
       "      <td>4.230000</td>\n",
       "      <td>31.000000</td>\n",
       "      <td>NaN</td>\n",
       "      <td>71.294297</td>\n",
       "      <td>-156.686482</td>\n",
       "      <td>0.5</td>\n",
       "      <td>2010</td>\n",
       "      <td>[Barrow IBP Tundra Biome_Pat Webber (Webber 19...</td>\n",
       "      <td>AKAVA</td>\n",
       "    </tr>\n",
       "    <tr>\n",
       "      <th>13_2010_AKAVA</th>\n",
       "      <td>NaN</td>\n",
       "      <td>35.40</td>\n",
       "      <td>29.700000</td>\n",
       "      <td>NaN</td>\n",
       "      <td>NaN</td>\n",
       "      <td>NaN</td>\n",
       "      <td>NaN</td>\n",
       "      <td>NaN</td>\n",
       "      <td>NaN</td>\n",
       "      <td>NaN</td>\n",
       "      <td>...</td>\n",
       "      <td>21.900000</td>\n",
       "      <td>13.160000</td>\n",
       "      <td>16.000000</td>\n",
       "      <td>NaN</td>\n",
       "      <td>71.295368</td>\n",
       "      <td>-156.685757</td>\n",
       "      <td>0.5</td>\n",
       "      <td>2010</td>\n",
       "      <td>[Barrow IBP Tundra Biome_Pat Webber (Webber 19...</td>\n",
       "      <td>AKAVA</td>\n",
       "    </tr>\n",
       "    <tr>\n",
       "      <th>...</th>\n",
       "      <td>...</td>\n",
       "      <td>...</td>\n",
       "      <td>...</td>\n",
       "      <td>...</td>\n",
       "      <td>...</td>\n",
       "      <td>...</td>\n",
       "      <td>...</td>\n",
       "      <td>...</td>\n",
       "      <td>...</td>\n",
       "      <td>...</td>\n",
       "      <td>...</td>\n",
       "      <td>...</td>\n",
       "      <td>...</td>\n",
       "      <td>...</td>\n",
       "      <td>...</td>\n",
       "      <td>...</td>\n",
       "      <td>...</td>\n",
       "      <td>...</td>\n",
       "      <td>...</td>\n",
       "      <td>...</td>\n",
       "      <td>...</td>\n",
       "    </tr>\n",
       "    <tr>\n",
       "      <th>86_2014_AKAVA</th>\n",
       "      <td>61.000000</td>\n",
       "      <td>NaN</td>\n",
       "      <td>NaN</td>\n",
       "      <td>NaN</td>\n",
       "      <td>NaN</td>\n",
       "      <td>NaN</td>\n",
       "      <td>NaN</td>\n",
       "      <td>NaN</td>\n",
       "      <td>NaN</td>\n",
       "      <td>NaN</td>\n",
       "      <td>...</td>\n",
       "      <td>40.250000</td>\n",
       "      <td>NaN</td>\n",
       "      <td>4.000000</td>\n",
       "      <td>NaN</td>\n",
       "      <td>70.222445</td>\n",
       "      <td>-148.467781</td>\n",
       "      <td>55.0</td>\n",
       "      <td>2014</td>\n",
       "      <td>[Prudhoe ArcSEES road study_Donald Walker (Wal...</td>\n",
       "      <td>AKAVA</td>\n",
       "    </tr>\n",
       "    <tr>\n",
       "      <th>87_2014_AKAVA</th>\n",
       "      <td>16.666667</td>\n",
       "      <td>23.70</td>\n",
       "      <td>27.666667</td>\n",
       "      <td>NaN</td>\n",
       "      <td>NaN</td>\n",
       "      <td>NaN</td>\n",
       "      <td>NaN</td>\n",
       "      <td>NaN</td>\n",
       "      <td>NaN</td>\n",
       "      <td>NaN</td>\n",
       "      <td>...</td>\n",
       "      <td>11.366667</td>\n",
       "      <td>20.060000</td>\n",
       "      <td>12.666667</td>\n",
       "      <td>5.0</td>\n",
       "      <td>71.321623</td>\n",
       "      <td>-156.605577</td>\n",
       "      <td>55.0</td>\n",
       "      <td>2014</td>\n",
       "      <td>[Flux Tower Zona_Scott Davidson (Davidson et a...</td>\n",
       "      <td>AKAVA</td>\n",
       "    </tr>\n",
       "    <tr>\n",
       "      <th>88_2014_AKAVA</th>\n",
       "      <td>NaN</td>\n",
       "      <td>78.05</td>\n",
       "      <td>25.000000</td>\n",
       "      <td>NaN</td>\n",
       "      <td>NaN</td>\n",
       "      <td>NaN</td>\n",
       "      <td>NaN</td>\n",
       "      <td>NaN</td>\n",
       "      <td>NaN</td>\n",
       "      <td>NaN</td>\n",
       "      <td>...</td>\n",
       "      <td>18.550000</td>\n",
       "      <td>11.700000</td>\n",
       "      <td>12.500000</td>\n",
       "      <td>NaN</td>\n",
       "      <td>71.324245</td>\n",
       "      <td>-156.607965</td>\n",
       "      <td>55.0</td>\n",
       "      <td>2014</td>\n",
       "      <td>[Flux Tower Zona_Scott Davidson (Davidson et a...</td>\n",
       "      <td>AKAVA</td>\n",
       "    </tr>\n",
       "    <tr>\n",
       "      <th>8_2010_AKAVA</th>\n",
       "      <td>NaN</td>\n",
       "      <td>43.45</td>\n",
       "      <td>6.255000</td>\n",
       "      <td>NaN</td>\n",
       "      <td>0.300000</td>\n",
       "      <td>NaN</td>\n",
       "      <td>NaN</td>\n",
       "      <td>NaN</td>\n",
       "      <td>NaN</td>\n",
       "      <td>NaN</td>\n",
       "      <td>...</td>\n",
       "      <td>26.543333</td>\n",
       "      <td>15.615000</td>\n",
       "      <td>19.666667</td>\n",
       "      <td>64.0</td>\n",
       "      <td>71.294994</td>\n",
       "      <td>-156.707272</td>\n",
       "      <td>55.0</td>\n",
       "      <td>2010</td>\n",
       "      <td>[Barrow IBP Tundra Biome_Pat Webber (Webber 19...</td>\n",
       "      <td>AKAVA</td>\n",
       "    </tr>\n",
       "    <tr>\n",
       "      <th>9_2010_AKAVA</th>\n",
       "      <td>NaN</td>\n",
       "      <td>33.40</td>\n",
       "      <td>NaN</td>\n",
       "      <td>NaN</td>\n",
       "      <td>NaN</td>\n",
       "      <td>NaN</td>\n",
       "      <td>NaN</td>\n",
       "      <td>NaN</td>\n",
       "      <td>NaN</td>\n",
       "      <td>NaN</td>\n",
       "      <td>...</td>\n",
       "      <td>26.700000</td>\n",
       "      <td>33.120000</td>\n",
       "      <td>24.000000</td>\n",
       "      <td>NaN</td>\n",
       "      <td>71.296950</td>\n",
       "      <td>-156.710650</td>\n",
       "      <td>0.5</td>\n",
       "      <td>2010</td>\n",
       "      <td>[Barrow IBP Tundra Biome_Pat Webber (Webber 19...</td>\n",
       "      <td>AKAVA</td>\n",
       "    </tr>\n",
       "  </tbody>\n",
       "</table>\n",
       "<p>90 rows × 23 columns</p>\n",
       "</div>"
      ],
      "text/plain": [
       "               bare ground top cover (%)  bryophyte total cover (%)  \\\n",
       "Site Code                                                             \n",
       "0_2010_AKAVA                         NaN                       6.50   \n",
       "10_2010_AKAVA                        NaN                       0.20   \n",
       "11_2010_AKAVA                        NaN                      32.37   \n",
       "12_2010_AKAVA                        NaN                      20.90   \n",
       "13_2010_AKAVA                        NaN                      35.40   \n",
       "...                                  ...                        ...   \n",
       "86_2014_AKAVA                  61.000000                        NaN   \n",
       "87_2014_AKAVA                  16.666667                      23.70   \n",
       "88_2014_AKAVA                        NaN                      78.05   \n",
       "8_2010_AKAVA                         NaN                      43.45   \n",
       "9_2010_AKAVA                         NaN                      33.40   \n",
       "\n",
       "               deciduous dwarf shrub total cover (%)  \\\n",
       "Site Code                                              \n",
       "0_2010_AKAVA                                     NaN   \n",
       "10_2010_AKAVA                                    NaN   \n",
       "11_2010_AKAVA                               1.500000   \n",
       "12_2010_AKAVA                               0.010000   \n",
       "13_2010_AKAVA                              29.700000   \n",
       "...                                              ...   \n",
       "86_2014_AKAVA                                    NaN   \n",
       "87_2014_AKAVA                              27.666667   \n",
       "88_2014_AKAVA                              25.000000   \n",
       "8_2010_AKAVA                                6.255000   \n",
       "9_2010_AKAVA                                     NaN   \n",
       "\n",
       "               deciduous dwarf to low shrub total cover (%)  \\\n",
       "Site Code                                                     \n",
       "0_2010_AKAVA                                            NaN   \n",
       "10_2010_AKAVA                                           NaN   \n",
       "11_2010_AKAVA                                           NaN   \n",
       "12_2010_AKAVA                                           NaN   \n",
       "13_2010_AKAVA                                           NaN   \n",
       "...                                                     ...   \n",
       "86_2014_AKAVA                                           NaN   \n",
       "87_2014_AKAVA                                           NaN   \n",
       "88_2014_AKAVA                                           NaN   \n",
       "8_2010_AKAVA                                            NaN   \n",
       "9_2010_AKAVA                                            NaN   \n",
       "\n",
       "               deciduous dwarf to tall shrub total cover (%)  \\\n",
       "Site Code                                                      \n",
       "0_2010_AKAVA                                             NaN   \n",
       "10_2010_AKAVA                                            NaN   \n",
       "11_2010_AKAVA                                      11.666667   \n",
       "12_2010_AKAVA                                            NaN   \n",
       "13_2010_AKAVA                                            NaN   \n",
       "...                                                      ...   \n",
       "86_2014_AKAVA                                            NaN   \n",
       "87_2014_AKAVA                                            NaN   \n",
       "88_2014_AKAVA                                            NaN   \n",
       "8_2010_AKAVA                                        0.300000   \n",
       "9_2010_AKAVA                                             NaN   \n",
       "\n",
       "               deciduous dwarf to tree total cover (%)  \\\n",
       "Site Code                                                \n",
       "0_2010_AKAVA                                       NaN   \n",
       "10_2010_AKAVA                                      NaN   \n",
       "11_2010_AKAVA                                      NaN   \n",
       "12_2010_AKAVA                                      NaN   \n",
       "13_2010_AKAVA                                      NaN   \n",
       "...                                                ...   \n",
       "86_2014_AKAVA                                      NaN   \n",
       "87_2014_AKAVA                                      NaN   \n",
       "88_2014_AKAVA                                      NaN   \n",
       "8_2010_AKAVA                                       NaN   \n",
       "9_2010_AKAVA                                       NaN   \n",
       "\n",
       "               deciduous tree total cover (%)  \\\n",
       "Site Code                                       \n",
       "0_2010_AKAVA                              NaN   \n",
       "10_2010_AKAVA                             NaN   \n",
       "11_2010_AKAVA                             NaN   \n",
       "12_2010_AKAVA                             NaN   \n",
       "13_2010_AKAVA                             NaN   \n",
       "...                                       ...   \n",
       "86_2014_AKAVA                             NaN   \n",
       "87_2014_AKAVA                             NaN   \n",
       "88_2014_AKAVA                             NaN   \n",
       "8_2010_AKAVA                              NaN   \n",
       "9_2010_AKAVA                              NaN   \n",
       "\n",
       "               evergreen dwarf shrub total cover (%)  \\\n",
       "Site Code                                              \n",
       "0_2010_AKAVA                                     NaN   \n",
       "10_2010_AKAVA                                    NaN   \n",
       "11_2010_AKAVA                                    NaN   \n",
       "12_2010_AKAVA                                    NaN   \n",
       "13_2010_AKAVA                                    NaN   \n",
       "...                                              ...   \n",
       "86_2014_AKAVA                                    NaN   \n",
       "87_2014_AKAVA                                    NaN   \n",
       "88_2014_AKAVA                                    NaN   \n",
       "8_2010_AKAVA                                     NaN   \n",
       "9_2010_AKAVA                                     NaN   \n",
       "\n",
       "               evergreen dwarf to low shrub total cover (%)  \\\n",
       "Site Code                                                     \n",
       "0_2010_AKAVA                                            NaN   \n",
       "10_2010_AKAVA                                           NaN   \n",
       "11_2010_AKAVA                                           NaN   \n",
       "12_2010_AKAVA                                           NaN   \n",
       "13_2010_AKAVA                                           NaN   \n",
       "...                                                     ...   \n",
       "86_2014_AKAVA                                           NaN   \n",
       "87_2014_AKAVA                                           NaN   \n",
       "88_2014_AKAVA                                           NaN   \n",
       "8_2010_AKAVA                                            NaN   \n",
       "9_2010_AKAVA                                            NaN   \n",
       "\n",
       "               evergreen dwarf to tall shrub total cover (%)  ...  \\\n",
       "Site Code                                                     ...   \n",
       "0_2010_AKAVA                                             NaN  ...   \n",
       "10_2010_AKAVA                                            NaN  ...   \n",
       "11_2010_AKAVA                                            NaN  ...   \n",
       "12_2010_AKAVA                                            NaN  ...   \n",
       "13_2010_AKAVA                                            NaN  ...   \n",
       "...                                                      ...  ...   \n",
       "86_2014_AKAVA                                            NaN  ...   \n",
       "87_2014_AKAVA                                            NaN  ...   \n",
       "88_2014_AKAVA                                            NaN  ...   \n",
       "8_2010_AKAVA                                             NaN  ...   \n",
       "9_2010_AKAVA                                             NaN  ...   \n",
       "\n",
       "               graminoid total cover (%)  lichen total cover (%)  \\\n",
       "Site Code                                                          \n",
       "0_2010_AKAVA                   28.100000                     NaN   \n",
       "10_2010_AKAVA                  38.500000                     NaN   \n",
       "11_2010_AKAVA                  27.346667                1.896667   \n",
       "12_2010_AKAVA                  32.420000                4.230000   \n",
       "13_2010_AKAVA                  21.900000               13.160000   \n",
       "...                                  ...                     ...   \n",
       "86_2014_AKAVA                  40.250000                     NaN   \n",
       "87_2014_AKAVA                  11.366667               20.060000   \n",
       "88_2014_AKAVA                  18.550000               11.700000   \n",
       "8_2010_AKAVA                   26.543333               15.615000   \n",
       "9_2010_AKAVA                   26.700000               33.120000   \n",
       "\n",
       "               litter total cover (%)  water top cover (%)   latitude  \\\n",
       "Site Code                                                               \n",
       "0_2010_AKAVA                18.000000                 50.0  71.288212   \n",
       "10_2010_AKAVA                3.000000                 69.0  71.296217   \n",
       "11_2010_AKAVA               28.666667                  NaN  71.294623   \n",
       "12_2010_AKAVA               31.000000                  NaN  71.294297   \n",
       "13_2010_AKAVA               16.000000                  NaN  71.295368   \n",
       "...                               ...                  ...        ...   \n",
       "86_2014_AKAVA                4.000000                  NaN  70.222445   \n",
       "87_2014_AKAVA               12.666667                  5.0  71.321623   \n",
       "88_2014_AKAVA               12.500000                  NaN  71.324245   \n",
       "8_2010_AKAVA                19.666667                 64.0  71.294994   \n",
       "9_2010_AKAVA                24.000000                  NaN  71.296950   \n",
       "\n",
       "                longitude  plot_radius_m  year  \\\n",
       "Site Code                                        \n",
       "0_2010_AKAVA  -156.682645            0.5  2010   \n",
       "10_2010_AKAVA -156.700917            0.5  2010   \n",
       "11_2010_AKAVA -156.688007           55.0  2010   \n",
       "12_2010_AKAVA -156.686482            0.5  2010   \n",
       "13_2010_AKAVA -156.685757            0.5  2010   \n",
       "...                   ...            ...   ...   \n",
       "86_2014_AKAVA -148.467781           55.0  2014   \n",
       "87_2014_AKAVA -156.605577           55.0  2014   \n",
       "88_2014_AKAVA -156.607965           55.0  2014   \n",
       "8_2010_AKAVA  -156.707272           55.0  2010   \n",
       "9_2010_AKAVA  -156.710650            0.5  2010   \n",
       "\n",
       "                                                       subsource  source  \n",
       "Site Code                                                                 \n",
       "0_2010_AKAVA   [Barrow IBP Tundra Biome_Pat Webber (Webber 19...   AKAVA  \n",
       "10_2010_AKAVA  [Barrow IBP Tundra Biome_Pat Webber (Webber 19...   AKAVA  \n",
       "11_2010_AKAVA  [Barrow IBP Tundra Biome_Pat Webber (Webber 19...   AKAVA  \n",
       "12_2010_AKAVA  [Barrow IBP Tundra Biome_Pat Webber (Webber 19...   AKAVA  \n",
       "13_2010_AKAVA  [Barrow IBP Tundra Biome_Pat Webber (Webber 19...   AKAVA  \n",
       "...                                                          ...     ...  \n",
       "86_2014_AKAVA  [Prudhoe ArcSEES road study_Donald Walker (Wal...   AKAVA  \n",
       "87_2014_AKAVA  [Flux Tower Zona_Scott Davidson (Davidson et a...   AKAVA  \n",
       "88_2014_AKAVA  [Flux Tower Zona_Scott Davidson (Davidson et a...   AKAVA  \n",
       "8_2010_AKAVA   [Barrow IBP Tundra Biome_Pat Webber (Webber 19...   AKAVA  \n",
       "9_2010_AKAVA   [Barrow IBP Tundra Biome_Pat Webber (Webber 19...   AKAVA  \n",
       "\n",
       "[90 rows x 23 columns]"
      ]
     },
     "execution_count": 130,
     "metadata": {},
     "output_type": "execute_result"
    }
   ],
   "source": [
    "parent_plots"
   ]
  },
  {
   "cell_type": "code",
   "execution_count": 131,
   "id": "bc5c50e9-488f-408f-9817-6574eefb75a7",
   "metadata": {},
   "outputs": [],
   "source": [
    "p = '/mnt/poseidon/remotesensing/arctic/data/training/Test_05/temp/'\n",
    "f = 'AVA_fcover_parent.csv'\n",
    "parent_plots.to_csv(p + f)"
   ]
  },
  {
   "cell_type": "markdown",
   "id": "611aa08b-10e2-42f6-a4d7-88d07fdc8373",
   "metadata": {
    "tags": []
   },
   "source": [
    "## total/top cover parent test 04"
   ]
  },
  {
   "cell_type": "code",
   "execution_count": 427,
   "id": "9956ba16-43b5-44ea-a9bc-85ad13e6ac0e",
   "metadata": {},
   "outputs": [],
   "source": [
    "# # ancillary\n",
    "# noncover = [col for col in parent_plots.columns if not 'cover (%)' in col]\n",
    "# noncover = parent_plots[noncover]\n",
    "# # total\n",
    "# totcover_parent = [col for col in parent_plots.columns if 'total cover (%)' in col]\n",
    "# totcover_parent = parent_plots[totcover_parent]\n",
    "# # top\n",
    "# topcover_parent = [col for col in parent_plots.columns if 'top cover (%)' in col]\n",
    "# topcover_parent = parent_plots[topcover_parent]"
   ]
  },
  {
   "cell_type": "code",
   "execution_count": 428,
   "id": "901e14fd-9e5c-471e-8996-ba284a6dfdb1",
   "metadata": {},
   "outputs": [],
   "source": [
    "# totcover_parent = pd.concat([totcover_parent, noncover], axis=1)\n",
    "# topcover_parent = pd.concat([topcover_parent, noncover], axis=1)"
   ]
  },
  {
   "cell_type": "code",
   "execution_count": 429,
   "id": "6d9ba8dd-cdaa-40dc-b94a-bdcb677a48af",
   "metadata": {},
   "outputs": [],
   "source": [
    "# # total\n",
    "# p = '/mnt/poseidon/remotesensing/arctic/data/training/Test_04/original_files/'\n",
    "# f = 'AKAVA_PARENT_fcover_total_merged.csv'\n",
    "# totcover_parent.to_csv(p + f)\n",
    "# # top\n",
    "# f = 'AKAVA_PARENT_fcover_top_nonPFT.csv'\n",
    "# topcover_parent.to_csv(p + f)"
   ]
  },
  {
   "cell_type": "markdown",
   "id": "4b65413c-64d8-49f2-9ddd-422971e3ca3d",
   "metadata": {},
   "source": [
    "## Map parent and child plots"
   ]
  },
  {
   "cell_type": "code",
   "execution_count": 480,
   "id": "3c3e86e9-b383-4cef-b49b-2d7c1aa560fd",
   "metadata": {},
   "outputs": [],
   "source": [
    "p = '/mnt/poseidon/remotesensing/arctic/data/vectors/supplementary/tundra_alaska/'\n",
    "f = 'tundra_alaska.shp'\n",
    "ak_tundra = gpd.read_file(p + f)"
   ]
  },
  {
   "cell_type": "code",
   "execution_count": 481,
   "id": "d550fb43-686b-4a93-97a2-3160212698b9",
   "metadata": {},
   "outputs": [],
   "source": [
    "fc = gee.geopandas_to_ee(ak_tundra)"
   ]
  },
  {
   "cell_type": "code",
   "execution_count": 482,
   "id": "7e5e7c90-961b-4ff1-8b08-55325d219109",
   "metadata": {},
   "outputs": [],
   "source": [
    "pp2 = parent_plots.reset_index()"
   ]
  },
  {
   "cell_type": "code",
   "execution_count": 483,
   "id": "aaffe867-15ef-4f78-83ab-798b6930ad27",
   "metadata": {},
   "outputs": [],
   "source": [
    "par_geom = pp2[['Site Code', 'latitude', 'longitude']]\n",
    "par_points = gee.df_to_ee(par_geom, \n",
    "                          latitude='latitude', \n",
    "                          longitude='longitude')"
   ]
  },
  {
   "cell_type": "code",
   "execution_count": 484,
   "id": "ee9f9264-fe2c-415c-a0d3-a4639ce116e5",
   "metadata": {},
   "outputs": [],
   "source": [
    "gte_geom = gte_2010[['Releve number', \n",
    "                     'Latitude (decimal degrees)', 'Longitude (decimal degrees)']]\n",
    "gte_points = gee.df_to_ee(gte_geom, \n",
    "                          latitude='Latitude (decimal degrees)', \n",
    "                          longitude='Longitude (decimal degrees)')"
   ]
  },
  {
   "cell_type": "code",
   "execution_count": 485,
   "id": "5b6180ba-e9f5-4ec6-895d-284d2603085a",
   "metadata": {},
   "outputs": [
    {
     "data": {
      "application/vnd.jupyter.widget-view+json": {
       "model_id": "d078584a39e349f6ac330a323451d5ca",
       "version_major": 2,
       "version_minor": 0
      },
      "text/plain": [
       "Map(center=[66.56551547720869, -158.1544109640721], controls=(WidgetControl(options=['position', 'transparent_…"
      ]
     },
     "execution_count": 485,
     "metadata": {},
     "output_type": "execute_result"
    }
   ],
   "source": [
    "Map = gee.Map()\n",
    "Map.center_object(fc, 6)\n",
    "Map.addLayer(fc, {}, 'arctic')\n",
    "Map.addLayer(gte_points, {}, 'child')\n",
    "Map.addLayer(par_points, {'color':'red'}, 'parent')\n",
    "Map"
   ]
  },
  {
   "cell_type": "code",
   "execution_count": null,
   "id": "31ae80bd-4a64-47a4-b196-09df8900f4f2",
   "metadata": {},
   "outputs": [],
   "source": []
  }
 ],
 "metadata": {
  "kernelspec": {
   "display_name": "Python 3 (ipykernel)",
   "language": "python",
   "name": "python3"
  },
  "language_info": {
   "codemirror_mode": {
    "name": "ipython",
    "version": 3
   },
   "file_extension": ".py",
   "mimetype": "text/x-python",
   "name": "python",
   "nbconvert_exporter": "python",
   "pygments_lexer": "ipython3",
   "version": "3.11.5"
  }
 },
 "nbformat": 4,
 "nbformat_minor": 5
}
