{
 "cells": [
  {
   "cell_type": "code",
   "execution_count": 2,
   "id": "26f7cfeb-0577-46c9-a746-d4e26705c284",
   "metadata": {},
   "outputs": [],
   "source": [
    "import ee\n",
    "import geemap\n",
    "import pandas as pd\n",
    "import geopandas as gpd\n",
    "import glob\n",
    "from pathlib import Path\n",
    "import numpy as np\n",
    "import time\n",
    "import regex as re"
   ]
  },
  {
   "cell_type": "code",
   "execution_count": 3,
   "id": "6598a3a7-22d9-4d47-be52-7117e4d9621e",
   "metadata": {},
   "outputs": [],
   "source": [
    "ee.Initialize()"
   ]
  },
  {
   "cell_type": "markdown",
   "id": "9fb84ddb-2c37-43cb-a22b-e00ad0e282f5",
   "metadata": {},
   "source": [
    "# Prudhoe Spine Rd"
   ]
  },
  {
   "cell_type": "code",
   "execution_count": 4,
   "id": "b5e1613d-cbda-447f-bb9d-357dbd8467bd",
   "metadata": {},
   "outputs": [],
   "source": [
    "# read csv the json is based on\n",
    "d = '/mnt/poseidon/remotesensing/arctic/data/vectors/AK-ArcticVegetationArchive'\n",
    "subd = 'aava_pruarc_dwalker_2015_alldata/aava_prudhoebayarcsees_modified_source_data/prudhoebayarcsees_modified_environmental_data'\n",
    "f = 'aava_pruarc_dwalker_2015_allenv_modsrc.csv'\n",
    "csv = pd.read_csv(f'{d}/{subd}/{f}', na_values=[-9999.0], quotechar='\"', encoding=\"ISO-8859-1\")"
   ]
  },
  {
   "cell_type": "code",
   "execution_count": 5,
   "id": "20427d3b-15d3-4333-80ad-76b9d1280806",
   "metadata": {},
   "outputs": [],
   "source": [
    "# clean up dataframe\n",
    "csv = csv.iloc[5:]\n",
    "new_header = csv.iloc[0] #grab the first row for the header\n",
    "csv = csv[1:] #take the data minus the header row\n",
    "csv.columns = new_header\n",
    "csv.reset_index(inplace=True, drop=True)"
   ]
  },
  {
   "cell_type": "code",
   "execution_count": 6,
   "id": "648c8f6c-0d76-495c-b120-691c26a1c0a2",
   "metadata": {},
   "outputs": [],
   "source": [
    "# edit all columns\n",
    "csv.columns = csv.columns.str.lower() #make lowercase\n",
    "csv.columns = csv.columns.str.strip() #remove whitespace\n",
    "csv.columns = csv.columns.str.replace(' ', '_') #replace spaces with _"
   ]
  },
  {
   "cell_type": "code",
   "execution_count": 7,
   "id": "8312ee74-9669-4f90-be62-b0726211e51d",
   "metadata": {},
   "outputs": [],
   "source": [
    "# select cover columns\n",
    "cover = csv.filter(regex='(percent)') # select percent columns (PFT PCover columns)\n",
    "cover = cover[cover.columns.drop(list(cover.filter(regex='_dead_')))] # Ignore dead vegetation"
   ]
  },
  {
   "cell_type": "code",
   "execution_count": 8,
   "id": "9210560a-5829-48cf-88c1-5ede07e7b411",
   "metadata": {},
   "outputs": [],
   "source": [
    "# clean up cover columns\n",
    "new_cover_cols = []\n",
    "for col in cover.columns.tolist():\n",
    "    col = col.replace('_live_', '') #get rid of 'live'\n",
    "    col = re.sub(r'\\(.*?\\)', '', col) # remove anything in ()\n",
    "    col = f'cover_{col}' # add cover suffix\n",
    "    col = col.strip('_') # remove trailing _\n",
    "    new_cover_cols.append(col)"
   ]
  },
  {
   "cell_type": "code",
   "execution_count": 10,
   "id": "9700ae3c-3ec2-4728-bb50-820a77f3d4c1",
   "metadata": {},
   "outputs": [],
   "source": [
    "# create final csv\n",
    "replacements = {i:j for i,j in zip(cover.columns.tolist(),new_cover_cols)}\n",
    "csv.rename(columns=replacements, inplace=True) # replace cover cols\n",
    "csv.columns = [re.sub(r'\\(.*?\\)', '', i) for i in csv.columns.tolist()] # remove ()\n",
    "csv.columns = csv.columns.str.strip('_') #remove trailing _\n",
    "csv.columns = [re.sub(r'_{2,}', '', i) for i in csv.columns.tolist()] # remove double _"
   ]
  },
  {
   "cell_type": "code",
   "execution_count": 246,
   "id": "399bf6e7-c13d-4f2b-a386-f8873c3d91e1",
   "metadata": {},
   "outputs": [],
   "source": [
    "# export as json\n",
    "d = '/mnt/poseidon/remotesensing/arctic/data/vectors/alaska_plot_data/v2'\n",
    "f = 'spine_rd_prudhoe_bay_veg_plots_environmental.geojson'\n",
    "\n",
    "gdf = gpd.GeoDataFrame(csv, geometry=gpd.points_from_xy(csv.longitude, csv.latitude), crs=\"EPSG:4326\") \n",
    "with open(f'{d}/{f}' , 'w') as file:\n",
    "    file.write(gdf.to_json())"
   ]
  },
  {
   "cell_type": "code",
   "execution_count": null,
   "id": "a3bb39f5-f79e-4c1d-b41d-dbf2edafa758",
   "metadata": {},
   "outputs": [],
   "source": [
    "# be sure to drop columns with dead in the name"
   ]
  },
  {
   "cell_type": "markdown",
   "id": "14b665fe-0656-4e74-9ac3-9dd5b86bed33",
   "metadata": {},
   "source": [
    "# Atqasuk"
   ]
  },
  {
   "cell_type": "code",
   "execution_count": 13,
   "id": "4353297e-89d8-4641-9fb5-64ac6a86a451",
   "metadata": {},
   "outputs": [],
   "source": [
    "# read geojson\n",
    "d = '/mnt/poseidon/remotesensing/arctic/data/vectors/alaska_plot_data/v1'\n",
    "f = 'Atqasuk_Environmental_Data.geojson'\n",
    "gj = gpd.read_file(f'{d}/{f}')"
   ]
  },
  {
   "cell_type": "code",
   "execution_count": 23,
   "id": "f19827ba-cdef-4305-950f-d8d53d508664",
   "metadata": {},
   "outputs": [],
   "source": [
    "# clean up dataframe\n",
    "# gj.columns"
   ]
  },
  {
   "cell_type": "code",
   "execution_count": 22,
   "id": "9dcef7f7-1111-49a8-a911-9f8690df8f16",
   "metadata": {},
   "outputs": [],
   "source": [
    "# drop cover_total"
   ]
  },
  {
   "cell_type": "markdown",
   "id": "446e6dbf-a77f-40e4-9665-22ae88c42e59",
   "metadata": {},
   "source": [
    "# Barrow NGEE"
   ]
  },
  {
   "cell_type": "code",
   "execution_count": 7,
   "id": "00cc6a13-c2db-432d-a2cd-223ab0953601",
   "metadata": {},
   "outputs": [],
   "source": [
    "d = '/mnt/poseidon/remotesensing/arctic/data/vectors/alaska_plot_data/v1'\n",
    "f = 'Barrow_NGEE_Arctic_Environmental_Data.geojson'\n",
    "gj = gpd.read_file(f'{d}/{f}')"
   ]
  },
  {
   "cell_type": "code",
   "execution_count": 8,
   "id": "9bebbdc6-2a4e-4cd4-891b-5deac1e02c2e",
   "metadata": {},
   "outputs": [
    {
     "data": {
      "text/plain": [
       "Index(['id', 'field_plot_number', 'date', 'releve_area', 'shape',\n",
       "       'species_coverscale', 'field_community_name', 'author', 'location',\n",
       "       'georeference_source', 'accuracy', 'latitude', 'longitude', 'elevation',\n",
       "       'slope', 'aspect', 'habitat_type', 'site_moisture_regime',\n",
       "       'organic_depth', 'soil_ph', 'cover_of_trees', 'cover_of_shrubs',\n",
       "       'cover_of_tall_shrub', 'cover_of_low_shrub', 'cover_of_dwarf_shrub',\n",
       "       'cover_of_prostrate_dwarf_shrub', 'cover_of_graminoid',\n",
       "       'cover_of_tussock_graminoid', 'cover_of_forb',\n",
       "       'cover_of_seedless_vascular_plants', 'cover_of_moss', 'cover_of_lichen',\n",
       "       'cover_of_soil_crust', 'cover_of_algae', 'cover_of_soil',\n",
       "       'cover_of_rock', 'cover_of_water', 'cover_of_litter',\n",
       "       'cover_vegetation', 'mean_vegetation_height', 'shrub_height',\n",
       "       'herb_height', 'polygon_type', 'geometry'],\n",
       "      dtype='object')"
      ]
     },
     "execution_count": 8,
     "metadata": {},
     "output_type": "execute_result"
    }
   ],
   "source": [
    "gj.columns"
   ]
  },
  {
   "cell_type": "code",
   "execution_count": 31,
   "id": "8bed2792-88e1-4534-90f9-1af199772b87",
   "metadata": {},
   "outputs": [],
   "source": [
    "# drop cover_of_shrubs and cover_vegetation"
   ]
  },
  {
   "cell_type": "markdown",
   "id": "df045661-06ee-47c7-b1c8-7f5c6dd0d290",
   "metadata": {},
   "source": [
    "# Barrow Tundra"
   ]
  },
  {
   "cell_type": "code",
   "execution_count": 33,
   "id": "7eabaec7-83d2-4b6b-8f41-840221be7d35",
   "metadata": {},
   "outputs": [],
   "source": [
    "d = '/mnt/poseidon/remotesensing/arctic/data/vectors/alaska_plot_data/v1'\n",
    "f = 'Barrow_Tundra_IBP_Environmental_Data_Repeat_Plots_2010.geojson'\n",
    "gj = gpd.read_file(f'{d}/{f}')"
   ]
  },
  {
   "cell_type": "code",
   "execution_count": 63,
   "id": "5d1cc246-b2b3-412c-b2a6-a7f77043b69f",
   "metadata": {},
   "outputs": [],
   "source": [
    "# replace -9 with NaN if necessary. May not be necessary. Pandas might pick up the -9 (it did not)\n",
    "gj.replace(-9, np.nan, inplace=True)\n",
    "# gj.columns"
   ]
  },
  {
   "cell_type": "markdown",
   "id": "0928e8c3-d53d-4f20-8b77-956f1cd6dc94",
   "metadata": {},
   "source": [
    "# Arctic Network"
   ]
  },
  {
   "cell_type": "code",
   "execution_count": 56,
   "id": "baec463f-8ce6-4af9-9d73-2344ebc551fd",
   "metadata": {},
   "outputs": [],
   "source": [
    "d = '/mnt/poseidon/remotesensing/arctic/data/vectors/alaska_plot_data/v1'\n",
    "f = 'arctic_network_environmental_data.geojson'\n",
    "gj = gpd.read_file(f'{d}/{f}')"
   ]
  },
  {
   "cell_type": "code",
   "execution_count": 57,
   "id": "b6a9cc05-bfa6-4132-9f78-e6654582527a",
   "metadata": {},
   "outputs": [],
   "source": [
    "# Fix dwarf needleleaf columns\n",
    "gj.rename(columns={'cover_dwarf_needleaf': 'dwarf_needleleaf_crown_class',\n",
    "                   'Cover_dwarf_needleleaf': 'cover_dwarf_needleleaf'}, inplace=True)"
   ]
  },
  {
   "cell_type": "code",
   "execution_count": 61,
   "id": "300901ed-6b9f-4632-a57b-295dccade74f",
   "metadata": {},
   "outputs": [],
   "source": [
    "# export as json\n",
    "d = '/mnt/poseidon/remotesensing/arctic/data/vectors/alaska_plot_data/v2'\n",
    "f = 'arctic_network_environmental_data.geojson'\n",
    "\n",
    "gdf = gpd.GeoDataFrame(gj, geometry=gpd.points_from_xy(gj.longitude, gj.latitude), crs=\"EPSG:4326\") \n",
    "with open(f'{d}/{f}' , 'w') as file:\n",
    "    file.write(gdf.to_json())"
   ]
  },
  {
   "cell_type": "markdown",
   "id": "06cc1eb3-f696-48da-9254-9a9b3296be31",
   "metadata": {},
   "source": [
    "# Atlas-1"
   ]
  },
  {
   "cell_type": "code",
   "execution_count": 4,
   "id": "39257705-f161-4dac-86ee-89885d907f81",
   "metadata": {},
   "outputs": [],
   "source": [
    "d = '/mnt/poseidon/remotesensing/arctic/data/vectors/alaska_plot_data/v1'\n",
    "f = 'atlas-1_environmental_data.geojson'\n",
    "gj = gpd.read_file(f'{d}/{f}')"
   ]
  },
  {
   "cell_type": "code",
   "execution_count": 5,
   "id": "84bf458c-09c1-4e31-ab40-138baadf4692",
   "metadata": {},
   "outputs": [
    {
     "data": {
      "text/plain": [
       "Index(['id', 'site', 'field_plot_number', 'date', 'latitude', 'longitude',\n",
       "       'elevation', 'surficial_geology', 'surficial_geomorphology',\n",
       "       'topographic_position', 'slope', 'aspect', 'releve_shape',\n",
       "       'releve_area', 'organic_layer_depth', 'soil_ph', 'soil_texture',\n",
       "       'plant_community_name', 'cover_low_shrub', 'cover_dwarf_shrub',\n",
       "       'cover_prostrate_dwarf_shrub', 'cover_evergreen_shrubs',\n",
       "       'cover_deciduous_shrubs', 'cover_forbs', 'cover_graminoids',\n",
       "       'cover_lichens', 'cover_bryophytes', 'cover_horsetails', 'cover_rocks',\n",
       "       'cover_bare_soil', 'cover_water', 'cover_frost_scars', 'total_dead',\n",
       "       'canopy_ht', 'remarks', 'geometry'],\n",
       "      dtype='object')"
      ]
     },
     "execution_count": 5,
     "metadata": {},
     "output_type": "execute_result"
    }
   ],
   "source": [
    "gj.columns"
   ]
  },
  {
   "cell_type": "code",
   "execution_count": null,
   "id": "cd8b00b2-1353-4f1c-8314-be1d772c6142",
   "metadata": {},
   "outputs": [],
   "source": [
    "# I don't know what to do with this one.\n",
    "# the shrubs add up to deciduous + evergreen only sometimes.\n",
    "# maybe I just drop the parent columns and pray for now."
   ]
  },
  {
   "cell_type": "markdown",
   "id": "f45e17a4-bbeb-4d67-aeef-ca7ff9d6d860",
   "metadata": {},
   "source": [
    "# Flux Tower"
   ]
  },
  {
   "cell_type": "code",
   "execution_count": 8,
   "id": "493744e3-9df6-4472-8ab7-8c87e887f57a",
   "metadata": {},
   "outputs": [],
   "source": [
    "d = '/mnt/poseidon/remotesensing/arctic/data/vectors/alaska_plot_data/v1'\n",
    "f = 'flux_tower_zona_enivronmental_data.geojson'\n",
    "gj = gpd.read_file(f'{d}/{f}')"
   ]
  },
  {
   "cell_type": "code",
   "execution_count": 9,
   "id": "1e84c09d-664d-4c9e-bbba-6e35d2304f28",
   "metadata": {},
   "outputs": [
    {
     "data": {
      "text/plain": [
       "Index(['id', 'field_releve_number', 'general_location', 'specific_location',\n",
       "       'survey_date', 'microtopography', 'latitude', 'longitude',\n",
       "       'gps_accuracy_m', 'community_name', 'soil_ph',\n",
       "       'organic_layer_thickness_cm', 'depth_of_standing_water_cm',\n",
       "       'vegetation_mean_height_cm', 'herb_layer_height_cm', 'moss_height_cm',\n",
       "       'cover_tree', 'cover_shrub', 'cover_tall_shrub', 'cover_low_shrub',\n",
       "       'cover_dwarf_shrub', 'cover_prostrate_dwarf_shrub', 'cover_graminoids',\n",
       "       'cover_tussock_graminoids', 'cover_forb',\n",
       "       'cover_seedless_vascular_plant', 'cover_moss', 'cover_lichen',\n",
       "       'cover_crustose_lichen', 'cover_algae', 'cover_soil', 'cover_rock',\n",
       "       'cover_water', 'cover_litter', 'cover_total_vegetation',\n",
       "       'location_remarks', 'geometry'],\n",
       "      dtype='object')"
      ]
     },
     "execution_count": 9,
     "metadata": {},
     "output_type": "execute_result"
    }
   ],
   "source": [
    "gj.columns"
   ]
  },
  {
   "cell_type": "code",
   "execution_count": 10,
   "id": "0df2c212-b4bb-4b9b-88e2-ad07b66022ef",
   "metadata": {},
   "outputs": [],
   "source": [
    "# Drop cover_shrub and cover_total_vegetation. Shrubs add up to cover_shrub. \n",
    "# The two lichens are separate from each other. So are the gramminoids"
   ]
  },
  {
   "cell_type": "markdown",
   "id": "0355a14b-2a08-4e3d-a81c-0389468d9517",
   "metadata": {},
   "source": [
    "# Oumalik"
   ]
  },
  {
   "cell_type": "code",
   "execution_count": 11,
   "id": "8f0099b6-d9f0-4727-988d-17be19efde72",
   "metadata": {},
   "outputs": [],
   "source": [
    "d = '/mnt/poseidon/remotesensing/arctic/data/vectors/alaska_plot_data/v1'\n",
    "f = 'oumalik_environmental_data.geojson'\n",
    "gj = gpd.read_file(f'{d}/{f}')"
   ]
  },
  {
   "cell_type": "code",
   "execution_count": 12,
   "id": "74b15752-be25-4a38-aec5-c82d801d1982",
   "metadata": {},
   "outputs": [
    {
     "data": {
      "text/plain": [
       "Index(['id', 'plot_number', 'date', 'latitude', 'longitude', 'community',\n",
       "       'plant_community_name', 'microrelief_type ', 'microrelief_ht ',\n",
       "       'releve_area', 'releve_shape', 'cover_tree_layer', 'cover_shrub_layer',\n",
       "       'cover_tall_shrubs', 'cover_low_shrubs', 'cover_erect_dwarf_shrubs',\n",
       "       'cover_prostrate_dwarf_shrubs', 'cover_graminoids',\n",
       "       'cover_tussock_graminoids', 'cover_forbs',\n",
       "       'cover_seedless_vascular_plants', 'cover_mosses_liverworts',\n",
       "       'cover_lichen_layer', 'cover_crust', 'cover_algae_layer',\n",
       "       'cover_bare_soil ', 'cover_bare_rock', 'cover_water ',\n",
       "       'cover_litter_layer', 'cover_total', 'canopy_ht', 'tree_layer_ht',\n",
       "       'shrub_layer_ht', 'herb_layer_ht', 'moss_layer_ht', 'thaw_depth ',\n",
       "       'aspect', 'slope', 'water_depth', 'site_moisture ', 'summer_air_temp ',\n",
       "       'duration_snow', 'wind_regime ', 'age_surface ', 'surface_stability ',\n",
       "       'cryoturbation ', 'disturbance_type', 'disturbance_intensity',\n",
       "       'disturbance_score', 'disturbance_caribou ', 'disturbance_microtine',\n",
       "       'disturbance_squirrel ', 'disturbance_ptarmigan ', 'disturbance_birds ',\n",
       "       'disturbance_insects ', 'disturbance_other_animal ',\n",
       "       'disturbance_total_animals', 'comments', 'geometry'],\n",
       "      dtype='object')"
      ]
     },
     "execution_count": 12,
     "metadata": {},
     "output_type": "execute_result"
    }
   ],
   "source": [
    "gj.columns"
   ]
  },
  {
   "cell_type": "code",
   "execution_count": 13,
   "id": "c915772b-768d-4c9c-83dc-71821d24661e",
   "metadata": {},
   "outputs": [],
   "source": [
    "# Cover_total is never more than 100, but when I add up all the cover, \n",
    "# it can definitely be more than 100. Not getting that.\n",
    "# Def need to drop cover_total though.\n",
    "# cover_shrub_layer is always null, but maybe drop just in case."
   ]
  },
  {
   "cell_type": "markdown",
   "id": "71b2fe5d-ee7a-4825-b8f1-b6e7d861a74d",
   "metadata": {},
   "source": [
    "# Tundra Fire"
   ]
  },
  {
   "cell_type": "code",
   "execution_count": 14,
   "id": "2559b19f-675c-4dc5-b50c-ab26bc229236",
   "metadata": {},
   "outputs": [],
   "source": [
    "d = '/mnt/poseidon/remotesensing/arctic/data/vectors/alaska_plot_data/v1'\n",
    "f = 'tundra_fire_veg_plots_environmental_data.geojson'\n",
    "gj = gpd.read_file(f'{d}/{f}')"
   ]
  },
  {
   "cell_type": "code",
   "execution_count": 16,
   "id": "42fd0813-3277-4ff2-b176-938a4cc87f4e",
   "metadata": {},
   "outputs": [],
   "source": [
    "# this has a lot of columns but it's literally just all null\n",
    "# only litter and soil"
   ]
  },
  {
   "cell_type": "markdown",
   "id": "313d3b64-24a6-4426-a35c-f81b9f5d6989",
   "metadata": {},
   "source": [
    "# Happy Valley"
   ]
  },
  {
   "cell_type": "code",
   "execution_count": 4,
   "id": "e022faa4-6069-4e9a-b016-326131b0ea56",
   "metadata": {},
   "outputs": [],
   "source": [
    "d = '/mnt/poseidon/remotesensing/arctic/data/vectors/alaska_plot_data/v1'\n",
    "f = 'Happy_Valley_Environmental_Data.geojson'\n",
    "gj = gpd.read_file(f'{d}/{f}')"
   ]
  },
  {
   "cell_type": "code",
   "execution_count": 6,
   "id": "d86037e9-f9d7-4d3d-b72a-29df9913c150",
   "metadata": {},
   "outputs": [
    {
     "data": {
      "text/plain": [
       "Index(['id', 'field_plot_number', 'principal_habitat',\n",
       "       'preliminary_community_name', 'plant_community', 'microsite',\n",
       "       'date_sampled', 'latitude', 'longitude', 'landform', 'landform_desc',\n",
       "       'surficial_geology', 'surficial_geology_desc',\n",
       "       'surficial_geomorphology', 'surficial_geomorphology_desc',\n",
       "       'microsite_code', 'microsite_desc', 'glacial_geology',\n",
       "       'glacial_geology_desc', 'topographic_position',\n",
       "       'topographic_position.1', 'soil_units', 'soil_units_desc', 'slope',\n",
       "       'aspect', 'thaw_depth',\n",
       "       'thaw_depth_standard_deviation_where_calculated', 'site_moisture',\n",
       "       'site_moisture_desc', 'soil_moisture', 'soil_moisture_desc', 'exposure',\n",
       "       'exposure_desc', 'estimated_snow_duration',\n",
       "       'estimated_snow_duration_desc', 'animal_human_disturbance',\n",
       "       'animal_human_disturbance_desc', 'stability', 'stability_desc',\n",
       "       'plot_size', 'cover_tall_shrubs', 'cover_low_shrubs',\n",
       "       'dwarf_shrub_cover', 'cover_evergreen_shrubs', 'cover_deciduous_shrubs',\n",
       "       'cover_forbs', 'cover_horsetails', 'cover_graminoids', 'cover_lichens',\n",
       "       'cover_bryophytes', 'cover_rocks', 'cover_bare_soil', 'cover_water',\n",
       "       'cover_frost_scars', 'cover_total_dead', 'height_of_vegetation',\n",
       "       'elevation_to_nearest_50m', 'horizon_at_10_cm', 'organic_layer_depth',\n",
       "       'soil_ph_at_10_cm', 'electrical_conductivity_at_10_cm', 'lime_at_10_cm',\n",
       "       'organic_matter_at_10_cm', 'no3_n_nh4hc3_dtpa_extract_at_10_cm',\n",
       "       'p_nh4hc3_dtpa_extract_at_10_cm', 'k_nh4hc3_dtpa_extract_at_10_cm',\n",
       "       'zn_nh4hc3_dtpa_extract_at_10_cm', 'fe_nh4hc3_dtpa_extract_at_10_cm',\n",
       "       'mn_nh4hc3_dtpa_extract_at_10_cm', 'cu_nh4hc3_dtpa_extract_at_10_cm',\n",
       "       'sand_at_10_cm', 'silt_at_10_cm', 'clay_at_10_cm', 'texture_at_10_cm',\n",
       "       'texture_top_mineral_horizon', 'ca_nh4oac_extract_at_10_cm',\n",
       "       'mg_nh4oac_extract_at_10_cm', 'na_nh4oac_extract_at_10_cm',\n",
       "       'k_nh4oac_extract_at_10_cm', 'sodium_absorption_ratio', 'geometry'],\n",
       "      dtype='object')"
      ]
     },
     "execution_count": 6,
     "metadata": {},
     "output_type": "execute_result"
    }
   ],
   "source": [
    "gj.columns"
   ]
  },
  {
   "cell_type": "markdown",
   "id": "7b05a6e7-9c0d-4409-a539-bf03b2af2f0b",
   "metadata": {},
   "source": [
    "# Frost Boils"
   ]
  },
  {
   "cell_type": "code",
   "execution_count": null,
   "id": "06ed3c25-1ac5-4458-88d3-7c120c40827e",
   "metadata": {},
   "outputs": [],
   "source": [
    "# I will also re-assess this one's shrub columns.\n",
    "# They all seem to add up, \n",
    "# but I want to make sure evergreen/deciduous aren't parents"
   ]
  }
 ],
 "metadata": {
  "kernelspec": {
   "display_name": "Python 3 (ipykernel)",
   "language": "python",
   "name": "python3"
  },
  "language_info": {
   "codemirror_mode": {
    "name": "ipython",
    "version": 3
   },
   "file_extension": ".py",
   "mimetype": "text/x-python",
   "name": "python",
   "nbconvert_exporter": "python",
   "pygments_lexer": "ipython3",
   "version": "3.11.5"
  }
 },
 "nbformat": 4,
 "nbformat_minor": 5
}
