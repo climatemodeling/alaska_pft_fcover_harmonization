{
 "cells": [
  {
   "cell_type": "code",
   "execution_count": 1,
   "id": "6699286c-6d0d-4418-884d-e1968b75d30f",
   "metadata": {},
   "outputs": [],
   "source": [
    "import ee\n",
    "import geemap\n",
    "import pandas as pd\n",
    "import geopandas as gpd\n",
    "import glob\n",
    "from pathlib import Path\n",
    "import numpy as np\n",
    "import time"
   ]
  },
  {
   "cell_type": "code",
   "execution_count": 2,
   "id": "b8e92302-570d-4214-b984-c2c31bfb070a",
   "metadata": {},
   "outputs": [],
   "source": [
    "#ee.Authenticate()\n",
    "ee.Initialize()"
   ]
  },
  {
   "cell_type": "markdown",
   "id": "e9a2282f-c084-4a5c-89da-e57a915a11fc",
   "metadata": {},
   "source": [
    "## Set Parameters"
   ]
  },
  {
   "cell_type": "code",
   "execution_count": 3,
   "id": "d4d2fcae-fe11-415f-aaf2-d23801690082",
   "metadata": {},
   "outputs": [],
   "source": [
    "# cloud filter params\n",
    "CLOUD_FILTER = 90\n",
    "CLD_PRB_THRESH = 50\n",
    "NIR_DRK_THRESH = 0.15\n",
    "CLD_PRJ_DIST = 1\n",
    "BUFFER = 10"
   ]
  },
  {
   "cell_type": "code",
   "execution_count": 4,
   "id": "b0a8c27e-9e28-4b7c-87a0-0fb5494bbe1e",
   "metadata": {},
   "outputs": [],
   "source": [
    "START_DATE = '2019-06-01'\n",
    "END_DATE = '2019-08-31'\n",
    "COUNTRY = ''\n",
    "STATE = 'AK'\n",
    "GEOJSON_PATH = ''\n",
    "ROI = 'WATERSHED' #STATE, COUNTRY, BBOX, or WATERSHED\n",
    "INPUT_DIR = '/mnt/poseidon/remotesensing/arctic/data/vectors/alaska_plot_data/v1'\n",
    "OUTPUT_DIR = '/mnt/poseidon/remotesensing/arctic/data/vectors/data_testing'\n",
    "BANDS = ['B1', 'B2', 'B3', 'B4', 'B5', 'B6', 'B7', 'B8', 'B8A', 'B9', 'B11', 'B12']"
   ]
  },
  {
   "cell_type": "markdown",
   "id": "2cfd2672-93cc-4890-b51b-1e0fa032784f",
   "metadata": {},
   "source": [
    "## 1. Import data"
   ]
  },
  {
   "cell_type": "code",
   "execution_count": 5,
   "id": "60de0af6-701b-4c92-9823-33c6260075a9",
   "metadata": {},
   "outputs": [],
   "source": [
    "# import admin data and select country to create grid around\n",
    "if ROI == 'STATE':\n",
    "    admin_fcol = (ee.FeatureCollection(\"FAO/GAUL/2015/level1\")\n",
    "                  .filterMetadata('ADM0_NAME', 'equals', COUNTRY)\n",
    "                  .filterMetadata('ADM1_NAME', 'equals', STATE))\n",
    "\n",
    "elif ROI == 'COUNTRY':\n",
    "    admin_fcol = (ee.FeatureCollection(\"FAO/GAUL/2015/level1\")\n",
    "                  .filterMetadata('ADM0_NAME', 'equals', COUNTRY))\n",
    "\n",
    "elif ROI == 'BBOX':\n",
    "    admin_fcol = geemap.geojson_to_ee(GEOJSON_PATH)\n",
    "    \n",
    "elif ROI == 'WATERSHED':\n",
    "    admin_fcol = (ee.FeatureCollection(\"USGS/WBD/2017/HUC06\")\n",
    "                  .filterMetadata('states', 'contains', STATE))"
   ]
  },
  {
   "cell_type": "markdown",
   "id": "02116331-5e74-4e6b-8001-ad74dab79a8b",
   "metadata": {},
   "source": [
    "### 1.1. Observation Points"
   ]
  },
  {
   "cell_type": "code",
   "execution_count": 6,
   "id": "f9e2a5aa-6d3a-4610-9dca-012ac98f323e",
   "metadata": {},
   "outputs": [],
   "source": [
    "# load geojsons\n",
    "gjsons = sorted(glob.glob(f'{INPUT_DIR}/*.geojson'))\n",
    "gj_gpds = []\n",
    "for gjson in gjsons:\n",
    "    gj = gpd.read_file(gjson)\n",
    "    gj_gpds.append(gj)"
   ]
  },
  {
   "cell_type": "code",
   "execution_count": 7,
   "id": "822ccbe7-064b-45d1-9c95-e4c437c1ffeb",
   "metadata": {},
   "outputs": [],
   "source": [
    "# create UID from file name and index\n",
    "def set_uid(row, path):\n",
    "    stem = Path(path).stem\n",
    "    idx = row['id']\n",
    "    uid = f'{stem}_{idx}'\n",
    "    return uid"
   ]
  },
  {
   "cell_type": "code",
   "execution_count": 8,
   "id": "e303f7b9-9ac9-4ad4-a58f-e1ed72556b41",
   "metadata": {},
   "outputs": [],
   "source": [
    "# apply UID creation function\n",
    "for path, gj_gpd in zip(gjsons, gj_gpds):\n",
    "    gj_gpd['uid'] = gj_gpd.apply(lambda row: set_uid(row, path), axis=1)"
   ]
  },
  {
   "cell_type": "markdown",
   "id": "55081641-2a85-4b27-800a-55f94acc0011",
   "metadata": {},
   "source": [
    "#### 1.1.1. Remove some json cover columns"
   ]
  },
  {
   "cell_type": "code",
   "execution_count": 9,
   "id": "80e065b7-fdae-4dc4-963f-ee70aa76fefe",
   "metadata": {},
   "outputs": [],
   "source": [
    "# gj_gpds[1].head(2)"
   ]
  },
  {
   "cell_type": "code",
   "execution_count": 10,
   "id": "7bee447b-5c2d-4c58-aa47-366f371cfed0",
   "metadata": {},
   "outputs": [
    {
     "ename": "IndexError",
     "evalue": "list index out of range",
     "output_type": "error",
     "traceback": [
      "\u001b[0;31m---------------------------------------------------------------------------\u001b[0m",
      "\u001b[0;31mIndexError\u001b[0m                                Traceback (most recent call last)",
      "Input \u001b[0;32mIn [10]\u001b[0m, in \u001b[0;36m<cell line: 2>\u001b[0;34m()\u001b[0m\n\u001b[1;32m      1\u001b[0m \u001b[38;5;66;03m# atqasuk\u001b[39;00m\n\u001b[0;32m----> 2\u001b[0m \u001b[43mgj_gpds\u001b[49m\u001b[43m[\u001b[49m\u001b[38;5;241;43m1\u001b[39;49m\u001b[43m]\u001b[49m\u001b[38;5;241m.\u001b[39mdrop([\u001b[38;5;124m'\u001b[39m\u001b[38;5;124mcover_total\u001b[39m\u001b[38;5;124m'\u001b[39m],\n\u001b[1;32m      3\u001b[0m                 axis\u001b[38;5;241m=\u001b[39m\u001b[38;5;241m1\u001b[39m, inplace\u001b[38;5;241m=\u001b[39m\u001b[38;5;28;01mTrue\u001b[39;00m)\n",
      "\u001b[0;31mIndexError\u001b[0m: list index out of range"
     ]
    }
   ],
   "source": [
    "# atqasuk\n",
    "gj_gpds[1].drop(['cover_total'],\n",
    "                axis=1, inplace=True)"
   ]
  },
  {
   "cell_type": "code",
   "execution_count": 11,
   "id": "05003a40-1232-41bb-a53b-42c10413600f",
   "metadata": {},
   "outputs": [],
   "source": [
    "# barrow ngee\n",
    "gj_gpds[2].drop(['cover_vegetation', 'cover_of_shrubs'],\n",
    "                axis=1, inplace=True)"
   ]
  },
  {
   "cell_type": "code",
   "execution_count": 12,
   "id": "947f149f-1061-4744-b9ae-f5f552a346df",
   "metadata": {},
   "outputs": [],
   "source": [
    "# barrow tundra\n",
    "gj_gpds[3].drop(['cover_total'],\n",
    "                axis=1, inplace=True)"
   ]
  },
  {
   "cell_type": "code",
   "execution_count": 13,
   "id": "41fabdf2-87b6-4655-ad94-abfd7a94e13b",
   "metadata": {
    "tags": []
   },
   "outputs": [],
   "source": [
    "# frost boils\n",
    "gj_gpds[6].drop(['total_vegetation_cover', 'all_forb_cover', \n",
    "                'total_graminoid_cover', 'foliose_and_fruticose_lichen_cover',\n",
    "                'bryophytes_cover', 'moss_and_liverwort_cover', 'mean_canopy_cover'], \n",
    "                axis=1, inplace=True)"
   ]
  },
  {
   "cell_type": "code",
   "execution_count": 14,
   "id": "2a575963-b905-4ae7-8a34-327de84f6a3e",
   "metadata": {},
   "outputs": [],
   "source": [
    "# happy valley\n",
    "gj_gpds[7].drop(['cover_evergreen_shrubs', 'cover_deciduous_shrubs'],\n",
    "                axis=1, inplace=True)"
   ]
  },
  {
   "cell_type": "code",
   "execution_count": 15,
   "id": "dc68a829-cbc4-4f09-9d2a-2e27f3633c8e",
   "metadata": {},
   "outputs": [],
   "source": [
    "# poplar veg\n",
    "gj_gpds[10].drop(['tree_saplings_cover ', ' shrubs_cover', \n",
    "                  'total_dead_cover', 'total_vegetation_cover '], \n",
    "                 axis=1, inplace=True)"
   ]
  },
  {
   "cell_type": "code",
   "execution_count": 16,
   "id": "ba6dfa58-c666-404d-b782-61d1de493cc7",
   "metadata": {},
   "outputs": [],
   "source": [
    "# atlas-1\n",
    "gj_gpds[16].drop(['cover_evergreen_shrubs', 'cover_deciduous_shrubs'], \n",
    "                 axis=1, inplace=True)"
   ]
  },
  {
   "cell_type": "code",
   "execution_count": 17,
   "id": "be44f803-9b9e-4a12-b0d5-bc94d193751d",
   "metadata": {},
   "outputs": [],
   "source": [
    "# flux\n",
    "gj_gpds[18].drop(['cover_shrub', 'cover_total_vegetation'], \n",
    "                 axis=1, inplace=True)"
   ]
  },
  {
   "cell_type": "code",
   "execution_count": 18,
   "id": "0fd31431-8b45-473e-ae1c-78ad5da87450",
   "metadata": {},
   "outputs": [],
   "source": [
    "# oumalik\n",
    "gj_gpds[19].drop(['cover_total', 'cover_shrub_layer'], \n",
    "                 axis=1, inplace=True)"
   ]
  },
  {
   "cell_type": "code",
   "execution_count": 19,
   "id": "44342500-9c83-447e-8888-112bc46a8f4e",
   "metadata": {},
   "outputs": [],
   "source": [
    "# remove several datasets\n",
    "del gj_gpds[20] # remove spine v1\n",
    "del gj_gpds[15] # remove arctic network v1\n",
    "del gj_gpds[14] # remove willow v1"
   ]
  },
  {
   "cell_type": "code",
   "execution_count": 20,
   "id": "4ea43c64-5a88-4f16-9c52-d3677571a64e",
   "metadata": {},
   "outputs": [],
   "source": [
    "# add fixed spine rd v2\n",
    "loc = '/mnt/poseidon/remotesensing/arctic/data/vectors/alaska_plot_data/v2/spine_rd_prudhoe_bay_veg_plots_environmental.geojson'\n",
    "spine = gpd.read_file(loc)\n",
    "spine['uid'] = spine.apply(lambda row: set_uid(row, loc), axis=1)\n",
    "gj_gpds.append(spine)"
   ]
  },
  {
   "cell_type": "code",
   "execution_count": 21,
   "id": "72bcd162-7f01-464a-9a56-5805837930a0",
   "metadata": {},
   "outputs": [],
   "source": [
    "# add fixed arctic network v2\n",
    "loc = '/mnt/poseidon/remotesensing/arctic/data/vectors/alaska_plot_data/v2/arctic_network_environmental_data.geojson'\n",
    "arcnet = gpd.read_file(loc)\n",
    "arcnet['uid'] = arcnet.apply(lambda row: set_uid(row, loc), axis=1)\n",
    "gj_gpds.append(arcnet)"
   ]
  },
  {
   "cell_type": "code",
   "execution_count": 22,
   "id": "e00caf9b-e348-46f5-b464-98f805951823",
   "metadata": {},
   "outputs": [],
   "source": [
    "# drop spine rd dead columns and parent shrub columns\n",
    "gj_gpds[19].drop(list(gj_gpds[19].filter(regex = 'dead')), \n",
    "                 axis=1, inplace=True)\n",
    "gj_gpds[19].drop(['cover_evergreen_shrubs', 'cover_deciduous_shrubs'],\n",
    "                 axis=1, inplace=True)"
   ]
  },
  {
   "cell_type": "code",
   "execution_count": 23,
   "id": "7503cad3-e573-4bc3-b432-7ffe326fbf60",
   "metadata": {},
   "outputs": [],
   "source": [
    "gj_gpds[20].drop(['cover_litter_alone'],\n",
    "                axis=1, inplace=True)"
   ]
  },
  {
   "cell_type": "markdown",
   "id": "50560e74-224b-4a05-b484-de3600c3b05d",
   "metadata": {},
   "source": [
    "### 1.2. HUC06 polygons"
   ]
  },
  {
   "cell_type": "code",
   "execution_count": 11,
   "id": "64af4d05-d307-4fe6-9b73-79353fceb5a3",
   "metadata": {},
   "outputs": [],
   "source": [
    "# load HUC data\n",
    "huc = gpd.read_file('/mnt/poseidon/remotesensing/arctic/data/vectors/supplementary/wbdhu6_a_us_september2022.gdb')"
   ]
  },
  {
   "cell_type": "code",
   "execution_count": 12,
   "id": "a7175d09-7df3-47c7-b88a-8a8439968015",
   "metadata": {},
   "outputs": [],
   "source": [
    "# select alaska HUCs and alaska HUCs of interest\n",
    "ak_huc6 = huc[huc['states'].str.contains('AK')]\n",
    "aois = ['190604', '190603', '190602']\n",
    "huc_aoi = ak_huc6[ak_huc6['huc6'].isin(aois)]\n",
    "#huc_aoi = ak_huc6"
   ]
  },
  {
   "cell_type": "code",
   "execution_count": 14,
   "id": "711aa323-d907-483e-af9d-f19a084f0c06",
   "metadata": {},
   "outputs": [],
   "source": [
    "outfp = \"/mnt/poseidon/remotesensing/arctic/data/vectors/supplementary/Alaska_watershed_northslope.geojson\"\n",
    "huc_aoi.to_file(outfp)"
   ]
  },
  {
   "cell_type": "markdown",
   "id": "56c2a668-7c2e-4111-b603-2cec9a209a99",
   "metadata": {},
   "source": [
    "## 2. Process observation points\n",
    "- Create a UID from the file name and index\n",
    "- separate geometry from observation data\n",
    "- merge coordiante data from every site into one dataframe\n",
    "- remove null geometry for GEE (only four points)\n",
    "- select points that intersect our watershed of interest (HUC6: 190604)\n",
    "- convert points to GEE feature class and visualize"
   ]
  },
  {
   "cell_type": "markdown",
   "id": "26410cd3-7a55-416a-8e39-ef79b0f9bb78",
   "metadata": {},
   "source": [
    "### 2.1. Merge all observation points"
   ]
  },
  {
   "cell_type": "code",
   "execution_count": 26,
   "id": "c96e07b0-396f-4ad7-8a16-1646b9da0e03",
   "metadata": {},
   "outputs": [],
   "source": [
    "# separate dataframes\n",
    "geom_gpds = []\n",
    "for gj_gpd in gj_gpds:\n",
    "    gj_geom = gj_gpd[['uid', 'geometry']]\n",
    "    geom_gpds.append(gj_geom)"
   ]
  },
  {
   "cell_type": "code",
   "execution_count": 27,
   "id": "981736ec-eb58-4755-b329-e649e1b3dd63",
   "metadata": {},
   "outputs": [],
   "source": [
    "# merge points\n",
    "full_data = pd.concat(gj_gpds, axis=0, ignore_index=True)\n",
    "df = pd.concat(geom_gpds, ignore_index=True)\n",
    "df = df.set_index('uid')"
   ]
  },
  {
   "cell_type": "code",
   "execution_count": 28,
   "id": "a6526949-6190-4fd8-9205-95e0155a25dd",
   "metadata": {},
   "outputs": [
    {
     "name": "stdout",
     "output_type": "stream",
     "text": [
      "before: 2355 \n",
      " after: 2351\n"
     ]
    }
   ],
   "source": [
    "# remove null geometries so GEE doesn't freak out\n",
    "df_nonull = df[~df['geometry'].isna()]\n",
    "print(f'before: {len(df)} \\n after: {len(df_nonull)}') "
   ]
  },
  {
   "cell_type": "code",
   "execution_count": 29,
   "id": "e0079ca0-ba7b-43d3-8ac1-b489822c077b",
   "metadata": {},
   "outputs": [
    {
     "name": "stdout",
     "output_type": "stream",
     "text": [
      "930 observation points\n"
     ]
    }
   ],
   "source": [
    "# select obs points that intersect these HUCs (points of interest--poi)\n",
    "poi = df_nonull[df_nonull.intersects(huc_aoi.unary_union)]\n",
    "print(f'{len(poi)} observation points')"
   ]
  },
  {
   "cell_type": "markdown",
   "id": "e1b0e292-1351-40ed-bdae-9c34b2c169a4",
   "metadata": {},
   "source": [
    "### 2.2. Display GEE Map"
   ]
  },
  {
   "cell_type": "code",
   "execution_count": 80,
   "id": "4745a286-5faf-4a70-8188-0365cd88d913",
   "metadata": {},
   "outputs": [],
   "source": [
    "# create GEE feature collections\n",
    "poi_fc = geemap.gdf_to_ee(poi)\n",
    "landcover = ee.Image('USGS/NLCD_RELEASES/2020_REL/NALCMS')\n",
    "pointvis = {'color': 'e01b24',\n",
    "            'lineWidth': 1,\n",
    "            'fillColor': 'f6615188',\n",
    "            'lineType': 'solid',\n",
    "            'pointSize': 50,\n",
    "            'pointShape': 'triangle_down'}"
   ]
  },
  {
   "cell_type": "code",
   "execution_count": 81,
   "id": "328f7edb-7e84-4506-b68f-ae358e845158",
   "metadata": {},
   "outputs": [],
   "source": [
    "# visualize watersheds and poi\n",
    "Map = geemap.Map(center=(65, -153), zoom=4, basemap='HYBRID')\n",
    "Map.addLayer(landcover, {}, 'landcover')\n",
    "Map.addLayer(admin_fcol, {'color': '00000000', 'width': 0.1}, 'watersheds')\n",
    "Map.addLayer(poi_fc, pointvis, \n",
    "             'observation_points')"
   ]
  },
  {
   "cell_type": "code",
   "execution_count": 82,
   "id": "6af8b1eb-80e6-4c27-9279-5675e7a2bb46",
   "metadata": {},
   "outputs": [
    {
     "data": {
      "application/vnd.jupyter.widget-view+json": {
       "model_id": "bf908ea4285143c79005d29fe5b9648f",
       "version_major": 2,
       "version_minor": 0
      },
      "text/plain": [
       "Map(center=[65, -153], controls=(WidgetControl(options=['position', 'transparent_bg'], widget=HBox(children=(T…"
      ]
     },
     "execution_count": 82,
     "metadata": {},
     "output_type": "execute_result"
    }
   ],
   "source": [
    "Map"
   ]
  },
  {
   "cell_type": "code",
   "execution_count": 45,
   "id": "f43f6065-a0b8-44a6-9f17-0b773404741d",
   "metadata": {},
   "outputs": [],
   "source": [
    "import os\n",
    "download_dir = '/mnt/poseidon/remotesensing/arctic/data/training/results/01'\n",
    "png_file = os.path.join(download_dir, 'alaska_observation_points.html')\n",
    "Map.to_html(filename=png_file)"
   ]
  },
  {
   "cell_type": "markdown",
   "id": "5e15af17-6393-4f0b-bc90-758386cb9ac4",
   "metadata": {},
   "source": [
    "## 3. Load and preprocess Sentinel data"
   ]
  },
  {
   "cell_type": "markdown",
   "id": "93c0e501-fe8e-4b32-9e86-1f2c583657b1",
   "metadata": {},
   "source": [
    "### 3.1. Load S2-SR and S1-SAR"
   ]
  },
  {
   "cell_type": "code",
   "execution_count": 33,
   "id": "ff9e10cc-9d4e-4594-84c8-79c9ecda2256",
   "metadata": {},
   "outputs": [],
   "source": [
    "# # load sentinel data -> try out SR\n",
    "# s2_sr = (ee.ImageCollection(\"COPERNICUS/S2_SR_HARMONIZED\")\n",
    "#       .filterDate(START_DATE, END_DATE)\n",
    "#       .filterBounds(poi_fc)\n",
    "#       #.select(['B4', 'B3', 'B2'])\n",
    "#      )\n",
    "# s1_grd = (ee.ImageCollection(\"COPERNICUS/S1_GRD\")\n",
    "#           .filterDate(START_DATE, END_DATE)\n",
    "#           .filterBounds(poi_fc)\n",
    "#          )"
   ]
  },
  {
   "cell_type": "markdown",
   "id": "e0d49735-23c4-46a4-946d-3b0b2e60e5d7",
   "metadata": {},
   "source": [
    "### 3.2. Create S2-SR cloud filter"
   ]
  },
  {
   "cell_type": "code",
   "execution_count": 34,
   "id": "bafceb91-de2a-4601-8291-cb10141a641a",
   "metadata": {},
   "outputs": [],
   "source": [
    "def get_s2_sr_cld_col(aoi, start_date, end_date):\n",
    "    # Import and filter S2 SR.\n",
    "    s2_sr_col = (ee.ImageCollection('COPERNICUS/S2_SR_HARMONIZED')\n",
    "        .filterBounds(aoi)\n",
    "        .filterDate(start_date, end_date)\n",
    "        .filter(ee.Filter.lte('CLOUDY_PIXEL_PERCENTAGE', CLOUD_FILTER)))\n",
    "\n",
    "    # Import and filter s2cloudless.\n",
    "    s2_cloudless_col = (ee.ImageCollection('COPERNICUS/S2_CLOUD_PROBABILITY')\n",
    "        .filterBounds(aoi)\n",
    "        .filterDate(start_date, end_date))\n",
    "\n",
    "    # Join the filtered s2cloudless collection to the SR collection by the 'system:index' property.\n",
    "    return ee.ImageCollection(ee.Join.saveFirst('s2cloudless').apply(\n",
    "        primary = s2_sr_col,\n",
    "        secondary = s2_cloudless_col,\n",
    "        condition = ee.Filter.equals(\n",
    "            leftField = 'system:index',\n",
    "            rightField = 'system:index')\n",
    "    ))\n",
    "\n",
    "def add_cloud_bands(img):\n",
    "    # Get s2cloudless image, subset the probability band.\n",
    "    cld_prb = ee.Image(img.get('s2cloudless')).select('probability')\n",
    "\n",
    "    # Condition s2cloudless by the probability threshold value.\n",
    "    is_cloud = cld_prb.gt(CLD_PRB_THRESH).rename('clouds')\n",
    "\n",
    "    # Add the cloud probability layer and cloud mask as image bands.\n",
    "    return img.addBands(ee.Image([cld_prb, is_cloud]))\n",
    "\n",
    "\n",
    "def add_shadow_bands(img):\n",
    "    # Identify water pixels from the SCL band.\n",
    "    not_water = img.select('SCL').neq(6)\n",
    "\n",
    "    # Identify dark NIR pixels that are not water (potential cloud shadow pixels).\n",
    "    SR_BAND_SCALE = 1e4\n",
    "    dark_pixels = img.select('B8').lt(NIR_DRK_THRESH*SR_BAND_SCALE).multiply(not_water).rename('dark_pixels')\n",
    "\n",
    "    # Determine the direction to project cloud shadow from clouds (assumes UTM projection).\n",
    "    shadow_azimuth = ee.Number(90).subtract(ee.Number(img.get('MEAN_SOLAR_AZIMUTH_ANGLE')));\n",
    "\n",
    "    # Project shadows from clouds for the distance specified by the CLD_PRJ_DIST input.\n",
    "    cld_proj = (img.select('clouds').directionalDistanceTransform(shadow_azimuth, CLD_PRJ_DIST*10)\n",
    "        .reproject(**{'crs': img.select(0).projection(), 'scale': 100})\n",
    "        .select('distance')\n",
    "        .mask()\n",
    "        .rename('cloud_transform'))\n",
    "\n",
    "    # Identify the intersection of dark pixels with cloud shadow projection.\n",
    "    shadows = cld_proj.multiply(dark_pixels).rename('shadows')\n",
    "\n",
    "    # Add dark pixels, cloud projection, and identified shadows as image bands.\n",
    "    return img.addBands(ee.Image([dark_pixels, cld_proj, shadows]))\n",
    "\n",
    "\n",
    "def add_cld_shdw_mask(img):\n",
    "    # Add cloud component bands.\n",
    "    img_cloud = add_cloud_bands(img)\n",
    "\n",
    "    # Add cloud shadow component bands.\n",
    "    img_cloud_shadow = add_shadow_bands(img_cloud)\n",
    "\n",
    "    # Combine cloud and shadow mask, set cloud and shadow as value 1, else 0.\n",
    "    is_cld_shdw = img_cloud_shadow.select('clouds').add(img_cloud_shadow.select('shadows')).gt(0)\n",
    "\n",
    "    # Remove small cloud-shadow patches and dilate remaining pixels by BUFFER input.\n",
    "    # 20 m scale is for speed, and assumes clouds don't require 10 m precision.\n",
    "    is_cld_shdw = (is_cld_shdw.focalMin(2).focalMax(BUFFER*2/20)\n",
    "        .reproject(**{'crs': img.select([0]).projection(), 'scale': 20})\n",
    "        .rename('cloudmask'))\n",
    "\n",
    "    # Add the final cloud-shadow mask to the image.\n",
    "    return img_cloud_shadow.addBands(is_cld_shdw)\n",
    "\n",
    "\n",
    "def apply_cld_shdw_mask(img):\n",
    "    # Subset the cloudmask band and invert it so clouds/shadow are 0, else 1.\n",
    "    not_cld_shdw = img.select('cloudmask').Not()\n",
    "\n",
    "    # Subset reflectance bands and update their masks, return the result.\n",
    "    #return img.select('B*').updateMask(not_cld_shdw)\n",
    "    return img.updateMask(not_cld_shdw).select(BANDS)"
   ]
  },
  {
   "cell_type": "code",
   "execution_count": 35,
   "id": "c7dd56c1-10ea-4883-914b-115e939a108c",
   "metadata": {},
   "outputs": [],
   "source": [
    "s2_sr_cld_col = get_s2_sr_cld_col(poi_fc, START_DATE, END_DATE)\n",
    "s2_sr = (s2_sr_cld_col.map(add_cld_shdw_mask)\n",
    "         .map(apply_cld_shdw_mask))"
   ]
  },
  {
   "cell_type": "markdown",
   "id": "764cb5d6-ee6b-4440-970b-875bb89e191d",
   "metadata": {},
   "source": [
    "### 3.3. Aggregate images\n",
    "Eventually I will extract time series to help ID the PFTs"
   ]
  },
  {
   "cell_type": "code",
   "execution_count": 36,
   "id": "fd15ce9c-169c-4d8a-b9cf-c01271562ad7",
   "metadata": {},
   "outputs": [],
   "source": [
    "# aggregate seperately to avoid export errors thru GEE\n",
    "s2_sr_max = s2_sr.reduce(ee.Reducer.max())\n",
    "s2_sr_med = s2_sr.reduce(ee.Reducer.median())"
   ]
  },
  {
   "cell_type": "markdown",
   "id": "92a6f314-ed90-4027-8e3a-1e7e263a743c",
   "metadata": {},
   "source": [
    "### 3.4. Sample raster at observation points of interest"
   ]
  },
  {
   "cell_type": "code",
   "execution_count": 37,
   "id": "6806dfd2-4393-4730-9b6b-751bc2a613d9",
   "metadata": {},
   "outputs": [],
   "source": [
    "# sample sentinel 2 imagery using our observation points\n",
    "def sample_raster(image, fcollection, scale=10, projection='EPSG:4326', geometries=False):\n",
    "    fc = image.sampleRegions(collection = fcollection,\n",
    "                             scale = scale,\n",
    "                             projection = projection,\n",
    "                             geometries = geometries # True keeps geom in table\n",
    "                          )\n",
    "    return fc"
   ]
  },
  {
   "cell_type": "code",
   "execution_count": 38,
   "id": "c3e0b64d-f26f-447d-9250-d351f0c0e6a3",
   "metadata": {},
   "outputs": [],
   "source": [
    "# get bands at each point\n",
    "max_samples = sample_raster(s2_sr_max, poi_fc)\n",
    "med_samples = sample_raster(s2_sr_med, poi_fc)"
   ]
  },
  {
   "cell_type": "markdown",
   "id": "2df904a6-6631-4b21-84e6-3be7b83b6221",
   "metadata": {},
   "source": [
    "### 3.5. Convert to dataframe and export"
   ]
  },
  {
   "cell_type": "code",
   "execution_count": 39,
   "id": "a7d0d08d-e327-460b-a181-d52cf8ad4e93",
   "metadata": {},
   "outputs": [],
   "source": [
    "# geemap function to convert fc to df. VERY slow??\n",
    "# def fc_to_df(fcollection, idx):\n",
    "#     df = geemap.ee_to_pandas(fcollection, sort_columns=True) # Max 5,000 rows\n",
    "#     df.set_index(idx, inplace=True)\n",
    "#     return df"
   ]
  },
  {
   "cell_type": "code",
   "execution_count": 40,
   "id": "44e98d95-7158-457d-b5e2-50cf798918c8",
   "metadata": {},
   "outputs": [],
   "source": [
    "def fc_to_df(fc, idx_col):\n",
    "    # Convert a FeatureCollection into a pandas DataFrame\n",
    "    # Features is a list of dict with the output\n",
    "    features = fc.getInfo()['features']\n",
    "\n",
    "    dictarr = []\n",
    "\n",
    "    for f in features:\n",
    "        attr = f['properties']\n",
    "        dictarr.append(attr)\n",
    "\n",
    "    df = pd.DataFrame(dictarr)\n",
    "    df.set_index(idx_col, inplace=True)\n",
    "    return df"
   ]
  },
  {
   "cell_type": "code",
   "execution_count": 41,
   "id": "8619c4ce-a96a-4f00-88d8-73b567f98264",
   "metadata": {},
   "outputs": [],
   "source": [
    "max_df = fc_to_df(max_samples, 'uid')\n",
    "med_df = fc_to_df(med_samples, 'uid')"
   ]
  },
  {
   "cell_type": "code",
   "execution_count": 42,
   "id": "f696d9d6-1ab9-4ab9-b594-bfe8943f32c4",
   "metadata": {},
   "outputs": [
    {
     "data": {
      "text/html": [
       "<div>\n",
       "<style scoped>\n",
       "    .dataframe tbody tr th:only-of-type {\n",
       "        vertical-align: middle;\n",
       "    }\n",
       "\n",
       "    .dataframe tbody tr th {\n",
       "        vertical-align: top;\n",
       "    }\n",
       "\n",
       "    .dataframe thead th {\n",
       "        text-align: right;\n",
       "    }\n",
       "</style>\n",
       "<table border=\"1\" class=\"dataframe\">\n",
       "  <thead>\n",
       "    <tr style=\"text-align: right;\">\n",
       "      <th></th>\n",
       "      <th>B11_max</th>\n",
       "      <th>B12_max</th>\n",
       "      <th>B1_max</th>\n",
       "      <th>B2_max</th>\n",
       "      <th>B3_max</th>\n",
       "      <th>B4_max</th>\n",
       "      <th>B5_max</th>\n",
       "      <th>B6_max</th>\n",
       "      <th>B7_max</th>\n",
       "      <th>B8A_max</th>\n",
       "      <th>B8_max</th>\n",
       "      <th>B9_max</th>\n",
       "    </tr>\n",
       "    <tr>\n",
       "      <th>uid</th>\n",
       "      <th></th>\n",
       "      <th></th>\n",
       "      <th></th>\n",
       "      <th></th>\n",
       "      <th></th>\n",
       "      <th></th>\n",
       "      <th></th>\n",
       "      <th></th>\n",
       "      <th></th>\n",
       "      <th></th>\n",
       "      <th></th>\n",
       "      <th></th>\n",
       "    </tr>\n",
       "  </thead>\n",
       "  <tbody>\n",
       "    <tr>\n",
       "      <th>Atqasuk_Environmental_Data_0</th>\n",
       "      <td>2679</td>\n",
       "      <td>1891</td>\n",
       "      <td>943</td>\n",
       "      <td>681</td>\n",
       "      <td>803</td>\n",
       "      <td>1090</td>\n",
       "      <td>1527</td>\n",
       "      <td>2234</td>\n",
       "      <td>2553</td>\n",
       "      <td>2822</td>\n",
       "      <td>2740</td>\n",
       "      <td>3404</td>\n",
       "    </tr>\n",
       "    <tr>\n",
       "      <th>Atqasuk_Environmental_Data_1</th>\n",
       "      <td>2814</td>\n",
       "      <td>2030</td>\n",
       "      <td>7295</td>\n",
       "      <td>7168</td>\n",
       "      <td>6548</td>\n",
       "      <td>6364</td>\n",
       "      <td>7398</td>\n",
       "      <td>6478</td>\n",
       "      <td>6150</td>\n",
       "      <td>5485</td>\n",
       "      <td>5592</td>\n",
       "      <td>6366</td>\n",
       "    </tr>\n",
       "    <tr>\n",
       "      <th>Atqasuk_Environmental_Data_2</th>\n",
       "      <td>2818</td>\n",
       "      <td>1826</td>\n",
       "      <td>600</td>\n",
       "      <td>779</td>\n",
       "      <td>941</td>\n",
       "      <td>1050</td>\n",
       "      <td>1469</td>\n",
       "      <td>2210</td>\n",
       "      <td>2480</td>\n",
       "      <td>2711</td>\n",
       "      <td>2636</td>\n",
       "      <td>3501</td>\n",
       "    </tr>\n",
       "    <tr>\n",
       "      <th>Atqasuk_Environmental_Data_3</th>\n",
       "      <td>2233</td>\n",
       "      <td>1663</td>\n",
       "      <td>2464</td>\n",
       "      <td>713</td>\n",
       "      <td>892</td>\n",
       "      <td>1254</td>\n",
       "      <td>1387</td>\n",
       "      <td>1787</td>\n",
       "      <td>2024</td>\n",
       "      <td>2312</td>\n",
       "      <td>2262</td>\n",
       "      <td>4370</td>\n",
       "    </tr>\n",
       "    <tr>\n",
       "      <th>Atqasuk_Environmental_Data_4</th>\n",
       "      <td>2928</td>\n",
       "      <td>2386</td>\n",
       "      <td>645</td>\n",
       "      <td>588</td>\n",
       "      <td>736</td>\n",
       "      <td>955</td>\n",
       "      <td>1275</td>\n",
       "      <td>1920</td>\n",
       "      <td>2130</td>\n",
       "      <td>2450</td>\n",
       "      <td>2098</td>\n",
       "      <td>2453</td>\n",
       "    </tr>\n",
       "    <tr>\n",
       "      <th>...</th>\n",
       "      <td>...</td>\n",
       "      <td>...</td>\n",
       "      <td>...</td>\n",
       "      <td>...</td>\n",
       "      <td>...</td>\n",
       "      <td>...</td>\n",
       "      <td>...</td>\n",
       "      <td>...</td>\n",
       "      <td>...</td>\n",
       "      <td>...</td>\n",
       "      <td>...</td>\n",
       "      <td>...</td>\n",
       "    </tr>\n",
       "    <tr>\n",
       "      <th>arctic_network_environmental_data_235</th>\n",
       "      <td>3054</td>\n",
       "      <td>1846</td>\n",
       "      <td>735</td>\n",
       "      <td>893</td>\n",
       "      <td>976</td>\n",
       "      <td>1150</td>\n",
       "      <td>1587</td>\n",
       "      <td>2297</td>\n",
       "      <td>2704</td>\n",
       "      <td>3022</td>\n",
       "      <td>2956</td>\n",
       "      <td>3097</td>\n",
       "    </tr>\n",
       "    <tr>\n",
       "      <th>arctic_network_environmental_data_236</th>\n",
       "      <td>2805</td>\n",
       "      <td>1736</td>\n",
       "      <td>900</td>\n",
       "      <td>908</td>\n",
       "      <td>1132</td>\n",
       "      <td>1098</td>\n",
       "      <td>1605</td>\n",
       "      <td>2663</td>\n",
       "      <td>3071</td>\n",
       "      <td>3381</td>\n",
       "      <td>3450</td>\n",
       "      <td>3098</td>\n",
       "    </tr>\n",
       "    <tr>\n",
       "      <th>arctic_network_environmental_data_237</th>\n",
       "      <td>1390</td>\n",
       "      <td>1070</td>\n",
       "      <td>921</td>\n",
       "      <td>1100</td>\n",
       "      <td>1056</td>\n",
       "      <td>904</td>\n",
       "      <td>1182</td>\n",
       "      <td>1413</td>\n",
       "      <td>1530</td>\n",
       "      <td>1425</td>\n",
       "      <td>2002</td>\n",
       "      <td>1711</td>\n",
       "    </tr>\n",
       "    <tr>\n",
       "      <th>arctic_network_environmental_data_376</th>\n",
       "      <td>2494</td>\n",
       "      <td>1991</td>\n",
       "      <td>5762</td>\n",
       "      <td>6196</td>\n",
       "      <td>6328</td>\n",
       "      <td>6528</td>\n",
       "      <td>6700</td>\n",
       "      <td>6570</td>\n",
       "      <td>6616</td>\n",
       "      <td>6563</td>\n",
       "      <td>6600</td>\n",
       "      <td>6633</td>\n",
       "    </tr>\n",
       "    <tr>\n",
       "      <th>arctic_network_environmental_data_377</th>\n",
       "      <td>2924</td>\n",
       "      <td>1766</td>\n",
       "      <td>6684</td>\n",
       "      <td>7420</td>\n",
       "      <td>7164</td>\n",
       "      <td>6820</td>\n",
       "      <td>6468</td>\n",
       "      <td>6385</td>\n",
       "      <td>6351</td>\n",
       "      <td>6243</td>\n",
       "      <td>6600</td>\n",
       "      <td>6859</td>\n",
       "    </tr>\n",
       "  </tbody>\n",
       "</table>\n",
       "<p>930 rows × 12 columns</p>\n",
       "</div>"
      ],
      "text/plain": [
       "                                       B11_max  B12_max  B1_max  B2_max  \\\n",
       "uid                                                                       \n",
       "Atqasuk_Environmental_Data_0              2679     1891     943     681   \n",
       "Atqasuk_Environmental_Data_1              2814     2030    7295    7168   \n",
       "Atqasuk_Environmental_Data_2              2818     1826     600     779   \n",
       "Atqasuk_Environmental_Data_3              2233     1663    2464     713   \n",
       "Atqasuk_Environmental_Data_4              2928     2386     645     588   \n",
       "...                                        ...      ...     ...     ...   \n",
       "arctic_network_environmental_data_235     3054     1846     735     893   \n",
       "arctic_network_environmental_data_236     2805     1736     900     908   \n",
       "arctic_network_environmental_data_237     1390     1070     921    1100   \n",
       "arctic_network_environmental_data_376     2494     1991    5762    6196   \n",
       "arctic_network_environmental_data_377     2924     1766    6684    7420   \n",
       "\n",
       "                                       B3_max  B4_max  B5_max  B6_max  B7_max  \\\n",
       "uid                                                                             \n",
       "Atqasuk_Environmental_Data_0              803    1090    1527    2234    2553   \n",
       "Atqasuk_Environmental_Data_1             6548    6364    7398    6478    6150   \n",
       "Atqasuk_Environmental_Data_2              941    1050    1469    2210    2480   \n",
       "Atqasuk_Environmental_Data_3              892    1254    1387    1787    2024   \n",
       "Atqasuk_Environmental_Data_4              736     955    1275    1920    2130   \n",
       "...                                       ...     ...     ...     ...     ...   \n",
       "arctic_network_environmental_data_235     976    1150    1587    2297    2704   \n",
       "arctic_network_environmental_data_236    1132    1098    1605    2663    3071   \n",
       "arctic_network_environmental_data_237    1056     904    1182    1413    1530   \n",
       "arctic_network_environmental_data_376    6328    6528    6700    6570    6616   \n",
       "arctic_network_environmental_data_377    7164    6820    6468    6385    6351   \n",
       "\n",
       "                                       B8A_max  B8_max  B9_max  \n",
       "uid                                                             \n",
       "Atqasuk_Environmental_Data_0              2822    2740    3404  \n",
       "Atqasuk_Environmental_Data_1              5485    5592    6366  \n",
       "Atqasuk_Environmental_Data_2              2711    2636    3501  \n",
       "Atqasuk_Environmental_Data_3              2312    2262    4370  \n",
       "Atqasuk_Environmental_Data_4              2450    2098    2453  \n",
       "...                                        ...     ...     ...  \n",
       "arctic_network_environmental_data_235     3022    2956    3097  \n",
       "arctic_network_environmental_data_236     3381    3450    3098  \n",
       "arctic_network_environmental_data_237     1425    2002    1711  \n",
       "arctic_network_environmental_data_376     6563    6600    6633  \n",
       "arctic_network_environmental_data_377     6243    6600    6859  \n",
       "\n",
       "[930 rows x 12 columns]"
      ]
     },
     "execution_count": 42,
     "metadata": {},
     "output_type": "execute_result"
    }
   ],
   "source": [
    "max_df"
   ]
  },
  {
   "cell_type": "code",
   "execution_count": 43,
   "id": "261ef7ce-8547-4e25-a8e4-6aa9815ccc67",
   "metadata": {},
   "outputs": [],
   "source": [
    "max_df.to_csv('/mnt/poseidon/remotesensing/arctic/data/training/huc190604_s2sr_summer_max_2019.csv', index=True)\n",
    "med_df.to_csv('/mnt/poseidon/remotesensing/arctic/data/training/huc190604_s2sr_summer_med_2019.csv', index=True)"
   ]
  },
  {
   "cell_type": "code",
   "execution_count": 43,
   "id": "8b84a6dc-d3a9-43f4-8bb7-45f4522aecba",
   "metadata": {},
   "outputs": [],
   "source": [
    "import regex as re\n",
    "locs = []\n",
    "for idx in max_df.index.tolist():\n",
    "    text = re.findall(r'\\D+', idx)\n",
    "    text = text[0].strip('_')\n",
    "    locs.append(text)\n",
    "locs = np.array(locs)"
   ]
  },
  {
   "cell_type": "code",
   "execution_count": 44,
   "id": "f32c6ea0-aeee-4ce9-a0cc-54f99ffcf6c1",
   "metadata": {},
   "outputs": [
    {
     "data": {
      "text/plain": [
       "array(['Atqasuk_Environmental_Data',\n",
       "       'Barrow_NGEE_Arctic_Environmental_Data',\n",
       "       'Barrow_Tundra_IBP_Environmental_Data_Repeat_Plots',\n",
       "       'Barter_Barrow_Environmental_Data',\n",
       "       'Frost_Boils_Environmental_Data',\n",
       "       'Happy_Valley_Environmental_Data',\n",
       "       'Imnavait_Creek_Environmental_Data',\n",
       "       'North_Slope_Veg_Plots_Environmental_Data',\n",
       "       'Poplar_Veg_Plots_Environmental', 'Prudhoe_Bay_Environmental_Data',\n",
       "       'Toolik_Lake_Environmental_Data',\n",
       "       'arctic_network_environmental_data', 'atlas-',\n",
       "       'flux_tower_zona_enivronmental_data', 'oumalik_environmental_data',\n",
       "       'spine_rd_prudhoe_bay_veg_plots_environmental',\n",
       "       'tundra_fire_veg_plots_environmental_data'], dtype='<U49')"
      ]
     },
     "execution_count": 44,
     "metadata": {},
     "output_type": "execute_result"
    }
   ],
   "source": [
    "np.unique(locs)"
   ]
  },
  {
   "cell_type": "markdown",
   "id": "ecdfa1e3-4347-4021-a1f6-a2be3dc5b169",
   "metadata": {},
   "source": [
    "## 4. Clean up PFT PCover dataset"
   ]
  },
  {
   "cell_type": "markdown",
   "id": "619d4b98-f03e-4959-aa9f-1b82987c3344",
   "metadata": {},
   "source": [
    "### 4.1. Select PFT PCover data for POI"
   ]
  },
  {
   "cell_type": "code",
   "execution_count": 172,
   "id": "c872b077-f736-45a6-ac31-6c9525315017",
   "metadata": {},
   "outputs": [],
   "source": [
    "# select our points of interest\n",
    "obs_data = med_df.join(full_data.set_index('uid'))\n",
    "obs_data = obs_data.dropna(axis=1, how='all') # remove all null cols\n",
    "original_cols = (obs_data.columns).to_list()"
   ]
  },
  {
   "cell_type": "markdown",
   "id": "d0dca37d-63e0-4eb4-9ed8-7404b26f8ace",
   "metadata": {},
   "source": [
    "### 4.2 Extract all column names"
   ]
  },
  {
   "cell_type": "code",
   "execution_count": 173,
   "id": "de3e0db4-ad02-4146-8fb3-b8eabdd33cea",
   "metadata": {},
   "outputs": [],
   "source": [
    "import distance\n",
    "from sklearn.cluster import AffinityPropagation"
   ]
  },
  {
   "cell_type": "code",
   "execution_count": 174,
   "id": "49ae8a2e-bb4c-4dad-8663-17ec02cadfc1",
   "metadata": {},
   "outputs": [],
   "source": [
    "def levenshtein(texts):\n",
    "    '''\n",
    "    Levenshtein Distance\n",
    "    - It requires negative similarities, so -1 * levenshtein(t1, t2)\n",
    "    '''\n",
    "    texts = np.asarray(texts)\n",
    "    _similarity = np.array([[distance.levenshtein(list(w1),list(w2)) for w1 in texts] for w2 in texts])\n",
    "    _similarity = -1 * _similarity\n",
    "    return _similarity.astype(float)"
   ]
  },
  {
   "cell_type": "code",
   "execution_count": 175,
   "id": "4cca7800-ca4c-4d04-bfd0-401062afabe6",
   "metadata": {},
   "outputs": [],
   "source": [
    "def text_clustering(texts, similarity=levenshtein, word_level=False):\n",
    "    '''Text Clustering'''\n",
    "    # similarity\n",
    "    if word_level: \n",
    "        texts = [t.split() for t in texts]\n",
    "        \n",
    "    _similarity = levenshtein(texts)\n",
    "    _affprop = AffinityPropagation(affinity=\"precomputed\", damping=0.9, verbose=True,\n",
    "        random_state=0, max_iter=1_000, convergence_iter=10)\n",
    "    _affprop.fit(_similarity)\n",
    "    \n",
    "    return _affprop, _similarity\n",
    "\n",
    "\n",
    "def print_clusters(affprop, texts):\n",
    "    '''Print clusters'''\n",
    "    texts = np.asarray(texts)\n",
    "    clusters = np.unique(affprop.labels_)\n",
    "    print(f'\\n~ Number of texts:: {texts.shape[0]}')\n",
    "    print(f'~ Number of clusters:: {clusters.shape[0]}')\n",
    "    if clusters.shape[0] < 2: return 'Only few clusters - Stopped'\n",
    "    for cluster_id in clusters:\n",
    "        exemplar = texts[affprop.cluster_centers_indices_[cluster_id]]\n",
    "        cluster = np.unique(texts[np.nonzero(affprop.labels_==cluster_id)])\n",
    "        cluster_str = '\";\\n  \"'.join(cluster)\n",
    "        print(f'\\n# Cluster ({cluster_id}) with ({len(cluster)}) elements')\n",
    "        print(f'Exemplar:: {exemplar}')\n",
    "        print(f'\\nOthers::\\n  \"{cluster_str}\"')"
   ]
  },
  {
   "cell_type": "code",
   "execution_count": 176,
   "id": "83a72f95-4555-4912-b9e8-4f849e0b3086",
   "metadata": {},
   "outputs": [],
   "source": [
    "# texts = original_cols\n",
    "# affprop, _ = text_clustering(texts, similarity=levenshtein)\n",
    "# print_clusters(affprop, texts)"
   ]
  },
  {
   "cell_type": "markdown",
   "id": "c232e5cb-7877-4cb2-9430-23d7c8b0f2bb",
   "metadata": {},
   "source": [
    "### 4.3. Extract PFT ancillary column names"
   ]
  },
  {
   "cell_type": "code",
   "execution_count": 260,
   "id": "113d43d3-5270-47e8-b1e1-c87fb97e8a79",
   "metadata": {},
   "outputs": [],
   "source": [
    "# select which columns contain size and date information\n",
    "size_cols = [col for col in obs_data.columns if 'releve_area' in col \n",
    "             or 'plot_size' in col \n",
    "             or 'plot_radius' in col\n",
    "             or 'releve_measurement' in col]\n",
    "date_cols = [col for col in obs_data.columns if 'date' in col]"
   ]
  },
  {
   "cell_type": "code",
   "execution_count": 261,
   "id": "03846330-8b6d-4e7e-90ab-dddc8937540f",
   "metadata": {},
   "outputs": [],
   "source": [
    "# select size and date column data\n",
    "misc_cols = size_cols + date_cols\n",
    "misc_data = obs_data[obs_data.columns.intersection(misc_cols)]\n",
    "misc_data.set_index(obs_data.index, inplace=True)"
   ]
  },
  {
   "cell_type": "markdown",
   "id": "9fd6876a-4157-4710-9d1f-d7e598e9e8a4",
   "metadata": {},
   "source": [
    "#### 4.3.1. Clean PFT ancillary column names"
   ]
  },
  {
   "cell_type": "code",
   "execution_count": 262,
   "id": "e8788396-e33f-4cb7-a64a-ccf1de4fdb6a",
   "metadata": {},
   "outputs": [],
   "source": [
    "# create new ancillary columns\n",
    "new_misc_cols = []\n",
    "for col_name in misc_data.columns.tolist():\n",
    "    \n",
    "    if 'date' in col_name:\n",
    "        new_col = 'date'\n",
    "    elif 'releve' in col_name or 'plot' in col_name:\n",
    "        new_col = 'plot_size'\n",
    "    else:\n",
    "        new_col = col_name\n",
    "    new_misc_cols.append(new_col)"
   ]
  },
  {
   "cell_type": "code",
   "execution_count": 263,
   "id": "58e5c5ae-5b68-41e8-a287-afed605c80c1",
   "metadata": {},
   "outputs": [],
   "source": [
    "# create clean anciallary column dataframe\n",
    "new_misc = pd.DataFrame(np.vstack([misc_data.to_numpy()]),\n",
    "                         columns = new_misc_cols,\n",
    "                         index = misc_data.index)"
   ]
  },
  {
   "cell_type": "code",
   "execution_count": 264,
   "id": "8395b02e-d983-4a53-8883-921e05936220",
   "metadata": {},
   "outputs": [],
   "source": [
    "# extract year from date column\n",
    "new_misc = new_misc.groupby(new_misc.columns, axis=1).first()\n",
    "new_misc['year'] = new_misc['date'].astype(str).str[:4]"
   ]
  },
  {
   "cell_type": "markdown",
   "id": "73201b9a-8424-409d-ad6f-0c3efb6e242e",
   "metadata": {},
   "source": [
    "#### 4.3.2. Standardize plot size values"
   ]
  },
  {
   "cell_type": "code",
   "execution_count": 265,
   "id": "ac6ecf85-d019-4cd0-8eb9-a6930187b62c",
   "metadata": {},
   "outputs": [],
   "source": [
    "# fix plot size for each survey\n",
    "new_misc['id'] = new_misc.index.astype(str).str.extract(r\"(\\D+)\", expand=False)\n",
    "reduced_df = new_misc.groupby('id')"
   ]
  },
  {
   "cell_type": "code",
   "execution_count": 266,
   "id": "b872f9a2-10a8-442e-a526-4f9c6c6d0a4b",
   "metadata": {},
   "outputs": [],
   "source": [
    "# defs to fix certain data values\n",
    "from functools import reduce\n",
    "def str_to_m2(string):\n",
    "    string = str(string)\n",
    "    num = [int(num) for num in re.findall(r'\\b\\d+\\b', string)]\n",
    "    if not num:\n",
    "        m2 = np.nan\n",
    "    else:\n",
    "        m2 = reduce(lambda x, y: x*y, num)\n",
    "    return m2\n",
    "\n",
    "def code_to_m2(num):\n",
    "    num = int(num)\n",
    "    if num == 1:\n",
    "        m2 = 10\n",
    "    elif num == 2:\n",
    "        m2 = 1\n",
    "    else:\n",
    "        m2 = np.nan\n",
    "    return m2"
   ]
  },
  {
   "cell_type": "code",
   "execution_count": 267,
   "id": "5a00bc77-1ce3-49b3-9ad0-1ae1e30d1429",
   "metadata": {},
   "outputs": [
    {
     "name": "stdout",
     "output_type": "stream",
     "text": [
      "Barter_Barrow_Environmental_Data_\n",
      "Happy_Valley_Environmental_Data_\n",
      "North_Slope_Veg_Plots_Environmental_Data_\n",
      "Poplar_Veg_Plots_Environmental_\n",
      "Prudhoe_Bay_Environmental_Data_\n",
      "Toolik_Lake_Environmental_Data_\n",
      "flux_tower_zona_enivronmental_data_\n",
      "spine_rd_prudhoe_bay_veg_plots_environmental_\n",
      "tundra_fire_veg_plots_environmental_data_\n"
     ]
    }
   ],
   "source": [
    "# fix data values for certain surveys\n",
    "fixed_grps = []\n",
    "grp = reduced_df.get_group(list(reduced_df.groups)[3]) # barter\n",
    "grp['plot_size'] = grp['plot_size'].apply(lambda row: str_to_m2(row))\n",
    "print(grp.iloc[1].id)\n",
    "fixed_grps.append(grp)\n",
    "\n",
    "grp = reduced_df.get_group(list(reduced_df.groups)[5]) # happy valley\n",
    "grp['plot_size'] = grp['plot_size'].apply(lambda row: str_to_m2(row))\n",
    "print(grp.iloc[1].id)\n",
    "fixed_grps.append(grp)\n",
    "\n",
    "grp = reduced_df.get_group(list(reduced_df.groups)[7]) # north slope\n",
    "grp['plot_size'] = 100 # according to ancillary\n",
    "print(grp.iloc[1].id)\n",
    "fixed_grps.append(grp)\n",
    "\n",
    "grp = reduced_df.get_group(list(reduced_df.groups)[8]) # poplar veg\n",
    "grp['plot_size'] = 100 # according to ancillary\n",
    "print(grp.iloc[1].id)\n",
    "fixed_grps.append(grp)\n",
    "\n",
    "grp = reduced_df.get_group(list(reduced_df.groups)[9]) # prudhoe\n",
    "grp['plot_size'] = grp['plot_size'].apply(lambda row: code_to_m2(row))\n",
    "grp['year'] = str(1975)\n",
    "print(grp.iloc[1].id)\n",
    "fixed_grps.append(grp)\n",
    "\n",
    "grp = reduced_df.get_group(list(reduced_df.groups)[10]) # toolik\n",
    "grp['plot_size'] = np.nan # no plot size data\n",
    "print(grp.iloc[1].id)\n",
    "fixed_grps.append(grp)\n",
    "\n",
    "grp = reduced_df.get_group(list(reduced_df.groups)[13]) # flux\n",
    "grp['plot_size'] = 1 # according to ancillary\n",
    "print(grp.iloc[1].id)\n",
    "fixed_grps.append(grp)\n",
    "\n",
    "grp = reduced_df.get_group(list(reduced_df.groups)[15]) # spine rd\n",
    "grp['plot_size'] = 1 # according to ancillary, first 100 are 1m2, final 100 are 5m2\n",
    "print(grp.iloc[1].id) # this aoi only has first 29 points, so 1m2 it is.\n",
    "fixed_grps.append(grp)\n",
    "\n",
    "\n",
    "grp = reduced_df.get_group(list(reduced_df.groups)[16]) # tundra\n",
    "grp['plot_size'] = 1 # some -1 present for some reason\n",
    "print(grp.iloc[1].id)\n",
    "fixed_grps.append(grp)\n",
    "\n",
    "remaining = [0, 1, 2, 4, 6, 11, 12, 14]\n",
    "for i in remaining:\n",
    "    grp = reduced_df.get_group(list(reduced_df.groups)[i])\n",
    "    fixed_grps.append(grp)"
   ]
  },
  {
   "cell_type": "code",
   "execution_count": 268,
   "id": "57780ee1-a21e-46cc-80c0-895ca3bd78fc",
   "metadata": {},
   "outputs": [],
   "source": [
    "# finish up\n",
    "ancillary = pd.concat(fixed_grps)\n",
    "ancillary.drop(['date', 'id'], axis=1, inplace=True)\n",
    "ancillary = ancillary.astype({'plot_size': 'float32', 'year': 'int32'})\n",
    "ancillary = ancillary.fillna(np.nan)"
   ]
  },
  {
   "cell_type": "code",
   "execution_count": 285,
   "id": "388700a8-c2e1-4296-b489-3830eccd9d10",
   "metadata": {},
   "outputs": [],
   "source": [
    "# add geometry\n",
    "ancillary = ancillary.join(poi, rsuffix='_other')"
   ]
  },
  {
   "cell_type": "code",
   "execution_count": 286,
   "id": "091347c7-bfef-408a-9f86-2b8962cfb6bf",
   "metadata": {},
   "outputs": [],
   "source": [
    "ancillary.to_csv('/mnt/poseidon/remotesensing/arctic/data/training/huc190604_ancillary_01.csv', index=True)"
   ]
  },
  {
   "cell_type": "markdown",
   "id": "01491b6f-5827-49bd-8cce-847d4a1c1a2a",
   "metadata": {},
   "source": [
    "### 4.4. Extract PFT PCover column names\n",
    "I feel pretty safe after looking at this that jitu got the bulk of the \"cover\" columns correct. Only one I questioned was \"sand.\" Is that a cover?"
   ]
  },
  {
   "cell_type": "code",
   "execution_count": 181,
   "id": "27f298b5-8814-46ae-9ca5-28f24911526e",
   "metadata": {},
   "outputs": [],
   "source": [
    "# quickly export the original cover data\n",
    "cover_cols = [col for col in obs_data.columns if 'cover' in col]\n",
    "\n",
    "# select cover columns from data\n",
    "cover_data = obs_data[obs_data.columns.intersection(cover_cols)]\n",
    "cover_data.set_index(obs_data.index, inplace=True)"
   ]
  },
  {
   "cell_type": "markdown",
   "id": "a1b2e1af-ef07-4ac6-b738-e124b9e38ec5",
   "metadata": {},
   "source": [
    "#### 4.4.1. Clean PFT PCover column names\n",
    "NOTE: some columns are \"moss_and_lichen\" or \"forb_and_graminoid\" or something"
   ]
  },
  {
   "cell_type": "code",
   "execution_count": 52,
   "id": "97ec7a64-7a6e-4dcc-85be-3dd8164a7a41",
   "metadata": {},
   "outputs": [],
   "source": [
    "# do some name cleanup\n",
    "clean_cover_cols = []\n",
    "for col in cover_cols:\n",
    "    \n",
    "    # remove floating spaces\n",
    "    col = col.lower().replace(' ', '')\n",
    "    \n",
    "    # replace . with _\n",
    "    if '.' in col:\n",
    "        col = col.replace('.', '_')\n",
    "        \n",
    "    # standardize 'cover' substring placement\n",
    "    if 'cover' in col:\n",
    "        col = col.replace('cover', '')\n",
    "        col = col.lstrip('_')\n",
    "        col = col.rstrip('_')\n",
    "        col = f'cover_{col}'\n",
    "        \n",
    "    clean_cover_cols.append(col)"
   ]
  },
  {
   "cell_type": "code",
   "execution_count": 53,
   "id": "f5e77490-5db7-4df7-a033-2af106982da1",
   "metadata": {},
   "outputs": [],
   "source": [
    "# apply cleaned up column names\n",
    "cleaned_data = pd.DataFrame(np.vstack([cover_data.to_numpy()]),\n",
    "                            columns = clean_cover_cols,\n",
    "                            index = cover_data.index)"
   ]
  },
  {
   "cell_type": "code",
   "execution_count": 54,
   "id": "df1e6df9-0de9-4d62-aee3-b3a0c1575c66",
   "metadata": {},
   "outputs": [],
   "source": [
    "# remove microsite\n",
    "cleaned_data.drop('cover_of_microsite', axis=1, inplace=True)"
   ]
  },
  {
   "cell_type": "markdown",
   "id": "fdfbab84-a38b-4c7d-b01c-24a2ec74fa6d",
   "metadata": {},
   "source": [
    "#### 4.4.2 Aggregate PFT PCover column names"
   ]
  },
  {
   "cell_type": "code",
   "execution_count": 55,
   "id": "a3eea6d0-0353-4da8-994f-76bc6e0e1f3e",
   "metadata": {},
   "outputs": [
    {
     "data": {
      "text/plain": [
       "Index(['cover_shrub_layer', 'cover_graminoids', 'cover_forbs',\n",
       "       'cover_mosses_&_liverworts', 'cover_lichen_layer',\n",
       "       'cover_species_scale', 'cover_of_trees', 'cover_of_tall_shrub',\n",
       "       'cover_of_low_shrub', 'cover_of_dwarf_shrub',\n",
       "       ...\n",
       "       'cover_pleurocarpous_bryophytes', 'cover_acrocarpous_bryophytes',\n",
       "       'cover_liverworts', 'cover_surface_fragment', 'cover_needleleaf_trees',\n",
       "       'cover_broadleaf_trees', 'cover_dwarf_broadleaf',\n",
       "       'cover_dwarf_needleleaf', 'cover_standing_dead_trees', 'cover_tussock'],\n",
       "      dtype='object', length=135)"
      ]
     },
     "execution_count": 55,
     "metadata": {},
     "output_type": "execute_result"
    }
   ],
   "source": [
    "cleaned_data.columns"
   ]
  },
  {
   "cell_type": "code",
   "execution_count": 56,
   "id": "2b18aee3-19fd-4ccd-a584-92f9dc9652e3",
   "metadata": {},
   "outputs": [
    {
     "data": {
      "text/plain": [
       "cover_shrub_layer                  64\n",
       "cover_of_tall_shrub                48\n",
       "cover_of_low_shrub                 48\n",
       "cover_of_dwarf_shrub               48\n",
       "cover_of_prostrate_dwarf_shrub     48\n",
       "cover_tall_shrubs                 183\n",
       "cover_low_shrubs                  212\n",
       "cover_erect_dwarf-shrubs           33\n",
       "cover_prostrate_dwarf-shrubs       33\n",
       "cover_erect_dwarf_shrub           117\n",
       "cover_prostrate_dwarf_shrub       117\n",
       "cover_evergreen_shrub             144\n",
       "cover_deciduous_shrub             144\n",
       "cover_dwarf_shrub                 219\n",
       "cover_low_shrub                   164\n",
       "cover_deciduous_shrubs              6\n",
       "cover_evergreen_shrubs              6\n",
       "cover_tall_shrub                   81\n",
       "cover_low_shrub                   155\n",
       "cover_dwarf_shrub                 146\n",
       "cover_prostrate_dwarf_shrub       148\n",
       "cover_dwarf_shrubs                  9\n",
       "cover_tall_shrub                  140\n",
       "cover_erect_dwarf_shrubs          114\n",
       "cover_prostrate_dwarf_shrubs      114\n",
       "dtype: int64"
      ]
     },
     "execution_count": 56,
     "metadata": {},
     "output_type": "execute_result"
    }
   ],
   "source": [
    "# see how many values are in each column\n",
    "shrubs = cleaned_data.filter(regex='shrub')\n",
    "shrubs.count()"
   ]
  },
  {
   "cell_type": "raw",
   "id": "b76be52e-7434-4536-b154-afda7197f31c",
   "metadata": {},
   "source": [
    "dwarf: 206/440 points\n",
    "erect/prostrate: 117/440 points\n",
    "---\n",
    "323 total dwarf inclusion\n",
    "\n",
    "evergreen: 201/440 points (Imnavait, North Slope, Prudhoe dont have evergreen)\n",
    "deciduous: 283/440 points (Prudhoe doesnt have shrubs)\n",
    "tall/low: 123/440 points\n",
    "---\n",
    "\n",
    "evergreen/deciduous/tall/low: 123 (only Happy Valley)\n",
    "evergreen/deciduous:\n",
    "evergreen/low:\n",
    "low:"
   ]
  },
  {
   "cell_type": "code",
   "execution_count": 123,
   "id": "658c1280-4abf-4f91-b3fa-0126a16c3967",
   "metadata": {},
   "outputs": [],
   "source": [
    "# create new potential column names\n",
    "new_cols = []\n",
    "for ptype in cleaned_data.columns.tolist():\n",
    "    \n",
    "    # dead vegetation (dead, litter)\n",
    "    if 'dead' in ptype or 'litter' in ptype:\n",
    "        new_cols.append('dead_vegetation')\n",
    "    # graminoids (graminoid, grass)\n",
    "    elif 'graminoid' in ptype or 'tussock' in ptype:\n",
    "        new_cols.append('graminoids')        \n",
    "    # lichens (lichen, algae)\n",
    "    elif 'lichen' in ptype or 'algae' in ptype:\n",
    "        new_cols.append('lichen')        \n",
    "    # bryophytes (brophyte, moss, liverwort)\n",
    "    elif 'bryophyte' in ptype or 'moss' in ptype or 'liverwort' in ptype:\n",
    "        new_cols.append('bryophytes')        \n",
    "    # forbs (forb, horsetail, seedless vascular)   \n",
    "    elif 'forb' in ptype or 'horsetail' in ptype or 'seedless' in ptype:\n",
    "        new_cols.append('forbs') \n",
    "    # needleleaf, broadleaf\n",
    "    elif 'tree' in ptype:\n",
    "        new_cols.append('trees')\n",
    "    # evergreen shrubs\n",
    "    elif 'evergreen' in ptype:\n",
    "        new_cols.append('evergreen_shrubs')    \n",
    "    # decidious shrubs (dwarf, tall, low, deciduous)\n",
    "    elif 'shrub' in ptype or 'dwarf' in ptype:\n",
    "        new_cols.append('deciduous_shrubs')\n",
    "    \n",
    "    # water\n",
    "    elif 'water' in ptype:\n",
    "        new_cols.append('water')        \n",
    "    # rock (rock, marl, frost scar, salt crust)\n",
    "    elif 'rock' in ptype or 'marl' in ptype or 'frost' in ptype or 'crust' in ptype:\n",
    "        new_cols.append('rocks')    \n",
    "    # soil\n",
    "    elif 'soil' in ptype:\n",
    "        new_cols.append('bare_soil')\n",
    "        \n",
    "    # extra categories    \n",
    "    else:\n",
    "        new_cols.append(ptype)"
   ]
  },
  {
   "cell_type": "code",
   "execution_count": 124,
   "id": "ce03bbca-f7de-4f6f-910b-4e292889576e",
   "metadata": {},
   "outputs": [],
   "source": [
    "new_cover = pd.DataFrame(np.vstack([cleaned_data.to_numpy()]),\n",
    "                         columns = new_cols,\n",
    "                         index = cleaned_data.index)"
   ]
  },
  {
   "cell_type": "code",
   "execution_count": 125,
   "id": "440f2426-c3f1-4640-9997-5ca2d00ccdde",
   "metadata": {},
   "outputs": [
    {
     "data": {
      "text/plain": [
       "Index(['deciduous_shrubs', 'graminoids', 'forbs', 'bryophytes', 'lichen',\n",
       "       'cover_species_scale', 'trees', 'deciduous_shrubs', 'deciduous_shrubs',\n",
       "       'deciduous_shrubs',\n",
       "       ...\n",
       "       'bryophytes', 'bryophytes', 'bryophytes', 'cover_surface_fragment',\n",
       "       'trees', 'trees', 'deciduous_shrubs', 'deciduous_shrubs',\n",
       "       'dead_vegetation', 'graminoids'],\n",
       "      dtype='object', length=135)"
      ]
     },
     "execution_count": 125,
     "metadata": {},
     "output_type": "execute_result"
    }
   ],
   "source": [
    "new_cover.columns"
   ]
  },
  {
   "cell_type": "markdown",
   "id": "4639ff55-c8c3-447a-92f9-969db9aafd62",
   "metadata": {},
   "source": [
    "### 4.5. Fix possible PFT PCover value issues\n",
    "I glanced fractions and dates? That has to be fixed before I can merge columns"
   ]
  },
  {
   "cell_type": "code",
   "execution_count": 137,
   "id": "7f0cd40e-aeb5-4532-882d-09e167018c93",
   "metadata": {},
   "outputs": [],
   "source": [
    "def isfloat(x):\n",
    "    try:\n",
    "        a = float(x)\n",
    "    except (TypeError, ValueError):\n",
    "        return False\n",
    "    else:\n",
    "        return True\n",
    "\n",
    "def isint(x):\n",
    "    try:\n",
    "        a = int(x)\n",
    "    except (TypeError, ValueError):\n",
    "        return False\n",
    "    else:\n",
    "        return True"
   ]
  },
  {
   "cell_type": "code",
   "execution_count": 140,
   "id": "1ce61ce1-afd4-4b14-bc4a-40ea2a63d65e",
   "metadata": {},
   "outputs": [],
   "source": [
    "def determine_val(x):\n",
    "    if isfloat(x):\n",
    "        x = float(x)\n",
    "    elif isint(x):\n",
    "        x = float(x)\n",
    "    else:\n",
    "        #print(x) #if you want to see weird stuff\n",
    "        x = np.nan\n",
    "    if x == -9: # get rid of pesky -9s in some datasets\n",
    "        x = np.nan\n",
    "    return x"
   ]
  },
  {
   "cell_type": "code",
   "execution_count": 141,
   "id": "1d4efba0-10a9-4907-9d2b-33303b0b4930",
   "metadata": {},
   "outputs": [],
   "source": [
    "# Standardize data type and set +/r/<1 to nan (later 0).\n",
    "new_cover = new_cover.applymap(determine_val)"
   ]
  },
  {
   "cell_type": "code",
   "execution_count": 142,
   "id": "b83adb3e-6bce-4e4d-abce-593de83f3492",
   "metadata": {},
   "outputs": [
    {
     "data": {
      "text/html": [
       "<div>\n",
       "<style scoped>\n",
       "    .dataframe tbody tr th:only-of-type {\n",
       "        vertical-align: middle;\n",
       "    }\n",
       "\n",
       "    .dataframe tbody tr th {\n",
       "        vertical-align: top;\n",
       "    }\n",
       "\n",
       "    .dataframe thead th {\n",
       "        text-align: right;\n",
       "    }\n",
       "</style>\n",
       "<table border=\"1\" class=\"dataframe\">\n",
       "  <thead>\n",
       "    <tr style=\"text-align: right;\">\n",
       "      <th></th>\n",
       "      <th>deciduous_shrubs</th>\n",
       "      <th>graminoids</th>\n",
       "      <th>forbs</th>\n",
       "      <th>bryophytes</th>\n",
       "      <th>lichen</th>\n",
       "      <th>cover_species_scale</th>\n",
       "      <th>trees</th>\n",
       "      <th>deciduous_shrubs</th>\n",
       "      <th>deciduous_shrubs</th>\n",
       "      <th>deciduous_shrubs</th>\n",
       "      <th>...</th>\n",
       "      <th>bryophytes</th>\n",
       "      <th>bryophytes</th>\n",
       "      <th>bryophytes</th>\n",
       "      <th>cover_surface_fragment</th>\n",
       "      <th>trees</th>\n",
       "      <th>trees</th>\n",
       "      <th>deciduous_shrubs</th>\n",
       "      <th>deciduous_shrubs</th>\n",
       "      <th>dead_vegetation</th>\n",
       "      <th>graminoids</th>\n",
       "    </tr>\n",
       "    <tr>\n",
       "      <th>uid</th>\n",
       "      <th></th>\n",
       "      <th></th>\n",
       "      <th></th>\n",
       "      <th></th>\n",
       "      <th></th>\n",
       "      <th></th>\n",
       "      <th></th>\n",
       "      <th></th>\n",
       "      <th></th>\n",
       "      <th></th>\n",
       "      <th></th>\n",
       "      <th></th>\n",
       "      <th></th>\n",
       "      <th></th>\n",
       "      <th></th>\n",
       "      <th></th>\n",
       "      <th></th>\n",
       "      <th></th>\n",
       "      <th></th>\n",
       "      <th></th>\n",
       "      <th></th>\n",
       "    </tr>\n",
       "  </thead>\n",
       "  <tbody>\n",
       "    <tr>\n",
       "      <th>Atqasuk_Environmental_Data_0</th>\n",
       "      <td>0.0</td>\n",
       "      <td>0.0</td>\n",
       "      <td>0.0</td>\n",
       "      <td>0.0</td>\n",
       "      <td>0.0</td>\n",
       "      <td>0.0</td>\n",
       "      <td>0.0</td>\n",
       "      <td>0.0</td>\n",
       "      <td>0.0</td>\n",
       "      <td>0.0</td>\n",
       "      <td>...</td>\n",
       "      <td>0.0</td>\n",
       "      <td>0.0</td>\n",
       "      <td>0.0</td>\n",
       "      <td>0.0</td>\n",
       "      <td>0.0</td>\n",
       "      <td>0.0</td>\n",
       "      <td>0.0</td>\n",
       "      <td>0.0</td>\n",
       "      <td>0.0</td>\n",
       "      <td>0.0</td>\n",
       "    </tr>\n",
       "    <tr>\n",
       "      <th>Atqasuk_Environmental_Data_1</th>\n",
       "      <td>0.0</td>\n",
       "      <td>0.0</td>\n",
       "      <td>0.0</td>\n",
       "      <td>0.0</td>\n",
       "      <td>0.0</td>\n",
       "      <td>0.0</td>\n",
       "      <td>0.0</td>\n",
       "      <td>0.0</td>\n",
       "      <td>0.0</td>\n",
       "      <td>0.0</td>\n",
       "      <td>...</td>\n",
       "      <td>0.0</td>\n",
       "      <td>0.0</td>\n",
       "      <td>0.0</td>\n",
       "      <td>0.0</td>\n",
       "      <td>0.0</td>\n",
       "      <td>0.0</td>\n",
       "      <td>0.0</td>\n",
       "      <td>0.0</td>\n",
       "      <td>0.0</td>\n",
       "      <td>0.0</td>\n",
       "    </tr>\n",
       "    <tr>\n",
       "      <th>Atqasuk_Environmental_Data_2</th>\n",
       "      <td>0.0</td>\n",
       "      <td>0.0</td>\n",
       "      <td>0.0</td>\n",
       "      <td>0.0</td>\n",
       "      <td>0.0</td>\n",
       "      <td>0.0</td>\n",
       "      <td>0.0</td>\n",
       "      <td>0.0</td>\n",
       "      <td>0.0</td>\n",
       "      <td>0.0</td>\n",
       "      <td>...</td>\n",
       "      <td>0.0</td>\n",
       "      <td>0.0</td>\n",
       "      <td>0.0</td>\n",
       "      <td>0.0</td>\n",
       "      <td>0.0</td>\n",
       "      <td>0.0</td>\n",
       "      <td>0.0</td>\n",
       "      <td>0.0</td>\n",
       "      <td>0.0</td>\n",
       "      <td>0.0</td>\n",
       "    </tr>\n",
       "    <tr>\n",
       "      <th>Atqasuk_Environmental_Data_3</th>\n",
       "      <td>0.0</td>\n",
       "      <td>0.0</td>\n",
       "      <td>0.0</td>\n",
       "      <td>0.0</td>\n",
       "      <td>0.0</td>\n",
       "      <td>0.0</td>\n",
       "      <td>0.0</td>\n",
       "      <td>0.0</td>\n",
       "      <td>0.0</td>\n",
       "      <td>0.0</td>\n",
       "      <td>...</td>\n",
       "      <td>0.0</td>\n",
       "      <td>0.0</td>\n",
       "      <td>0.0</td>\n",
       "      <td>0.0</td>\n",
       "      <td>0.0</td>\n",
       "      <td>0.0</td>\n",
       "      <td>0.0</td>\n",
       "      <td>0.0</td>\n",
       "      <td>0.0</td>\n",
       "      <td>0.0</td>\n",
       "    </tr>\n",
       "    <tr>\n",
       "      <th>Atqasuk_Environmental_Data_4</th>\n",
       "      <td>0.0</td>\n",
       "      <td>0.0</td>\n",
       "      <td>0.0</td>\n",
       "      <td>0.0</td>\n",
       "      <td>0.0</td>\n",
       "      <td>0.0</td>\n",
       "      <td>0.0</td>\n",
       "      <td>0.0</td>\n",
       "      <td>0.0</td>\n",
       "      <td>0.0</td>\n",
       "      <td>...</td>\n",
       "      <td>0.0</td>\n",
       "      <td>0.0</td>\n",
       "      <td>0.0</td>\n",
       "      <td>0.0</td>\n",
       "      <td>0.0</td>\n",
       "      <td>0.0</td>\n",
       "      <td>0.0</td>\n",
       "      <td>0.0</td>\n",
       "      <td>0.0</td>\n",
       "      <td>0.0</td>\n",
       "    </tr>\n",
       "    <tr>\n",
       "      <th>...</th>\n",
       "      <td>...</td>\n",
       "      <td>...</td>\n",
       "      <td>...</td>\n",
       "      <td>...</td>\n",
       "      <td>...</td>\n",
       "      <td>...</td>\n",
       "      <td>...</td>\n",
       "      <td>...</td>\n",
       "      <td>...</td>\n",
       "      <td>...</td>\n",
       "      <td>...</td>\n",
       "      <td>...</td>\n",
       "      <td>...</td>\n",
       "      <td>...</td>\n",
       "      <td>...</td>\n",
       "      <td>...</td>\n",
       "      <td>...</td>\n",
       "      <td>...</td>\n",
       "      <td>...</td>\n",
       "      <td>...</td>\n",
       "      <td>...</td>\n",
       "    </tr>\n",
       "    <tr>\n",
       "      <th>arctic_network_environmental_data_235</th>\n",
       "      <td>0.0</td>\n",
       "      <td>10.0</td>\n",
       "      <td>0.1</td>\n",
       "      <td>0.0</td>\n",
       "      <td>0.0</td>\n",
       "      <td>0.0</td>\n",
       "      <td>0.0</td>\n",
       "      <td>0.0</td>\n",
       "      <td>0.0</td>\n",
       "      <td>0.0</td>\n",
       "      <td>...</td>\n",
       "      <td>0.0</td>\n",
       "      <td>0.0</td>\n",
       "      <td>0.0</td>\n",
       "      <td>0.0</td>\n",
       "      <td>0.0</td>\n",
       "      <td>0.0</td>\n",
       "      <td>0.0</td>\n",
       "      <td>0.0</td>\n",
       "      <td>0.0</td>\n",
       "      <td>0.0</td>\n",
       "    </tr>\n",
       "    <tr>\n",
       "      <th>arctic_network_environmental_data_236</th>\n",
       "      <td>0.0</td>\n",
       "      <td>15.0</td>\n",
       "      <td>0.0</td>\n",
       "      <td>0.0</td>\n",
       "      <td>0.0</td>\n",
       "      <td>0.0</td>\n",
       "      <td>0.0</td>\n",
       "      <td>0.0</td>\n",
       "      <td>0.0</td>\n",
       "      <td>0.0</td>\n",
       "      <td>...</td>\n",
       "      <td>0.0</td>\n",
       "      <td>0.0</td>\n",
       "      <td>0.0</td>\n",
       "      <td>0.0</td>\n",
       "      <td>0.0</td>\n",
       "      <td>0.0</td>\n",
       "      <td>0.0</td>\n",
       "      <td>0.0</td>\n",
       "      <td>0.0</td>\n",
       "      <td>0.1</td>\n",
       "    </tr>\n",
       "    <tr>\n",
       "      <th>arctic_network_environmental_data_237</th>\n",
       "      <td>0.0</td>\n",
       "      <td>1.0</td>\n",
       "      <td>0.1</td>\n",
       "      <td>0.0</td>\n",
       "      <td>0.0</td>\n",
       "      <td>0.0</td>\n",
       "      <td>0.0</td>\n",
       "      <td>0.0</td>\n",
       "      <td>0.0</td>\n",
       "      <td>0.0</td>\n",
       "      <td>...</td>\n",
       "      <td>0.0</td>\n",
       "      <td>0.0</td>\n",
       "      <td>0.0</td>\n",
       "      <td>0.0</td>\n",
       "      <td>0.0</td>\n",
       "      <td>0.0</td>\n",
       "      <td>0.0</td>\n",
       "      <td>0.0</td>\n",
       "      <td>0.0</td>\n",
       "      <td>0.0</td>\n",
       "    </tr>\n",
       "    <tr>\n",
       "      <th>arctic_network_environmental_data_376</th>\n",
       "      <td>0.0</td>\n",
       "      <td>5.0</td>\n",
       "      <td>4.0</td>\n",
       "      <td>0.0</td>\n",
       "      <td>0.0</td>\n",
       "      <td>0.0</td>\n",
       "      <td>0.0</td>\n",
       "      <td>0.0</td>\n",
       "      <td>0.0</td>\n",
       "      <td>0.0</td>\n",
       "      <td>...</td>\n",
       "      <td>0.0</td>\n",
       "      <td>0.0</td>\n",
       "      <td>0.0</td>\n",
       "      <td>85.0</td>\n",
       "      <td>0.0</td>\n",
       "      <td>0.0</td>\n",
       "      <td>0.0</td>\n",
       "      <td>0.0</td>\n",
       "      <td>0.0</td>\n",
       "      <td>0.0</td>\n",
       "    </tr>\n",
       "    <tr>\n",
       "      <th>arctic_network_environmental_data_377</th>\n",
       "      <td>0.0</td>\n",
       "      <td>3.0</td>\n",
       "      <td>2.0</td>\n",
       "      <td>0.0</td>\n",
       "      <td>0.0</td>\n",
       "      <td>0.0</td>\n",
       "      <td>0.0</td>\n",
       "      <td>0.0</td>\n",
       "      <td>0.0</td>\n",
       "      <td>0.0</td>\n",
       "      <td>...</td>\n",
       "      <td>0.0</td>\n",
       "      <td>0.0</td>\n",
       "      <td>0.0</td>\n",
       "      <td>10.0</td>\n",
       "      <td>0.0</td>\n",
       "      <td>0.0</td>\n",
       "      <td>0.0</td>\n",
       "      <td>0.0</td>\n",
       "      <td>0.0</td>\n",
       "      <td>0.0</td>\n",
       "    </tr>\n",
       "  </tbody>\n",
       "</table>\n",
       "<p>930 rows × 135 columns</p>\n",
       "</div>"
      ],
      "text/plain": [
       "                                       deciduous_shrubs  graminoids  forbs  \\\n",
       "uid                                                                          \n",
       "Atqasuk_Environmental_Data_0                        0.0         0.0    0.0   \n",
       "Atqasuk_Environmental_Data_1                        0.0         0.0    0.0   \n",
       "Atqasuk_Environmental_Data_2                        0.0         0.0    0.0   \n",
       "Atqasuk_Environmental_Data_3                        0.0         0.0    0.0   \n",
       "Atqasuk_Environmental_Data_4                        0.0         0.0    0.0   \n",
       "...                                                 ...         ...    ...   \n",
       "arctic_network_environmental_data_235               0.0        10.0    0.1   \n",
       "arctic_network_environmental_data_236               0.0        15.0    0.0   \n",
       "arctic_network_environmental_data_237               0.0         1.0    0.1   \n",
       "arctic_network_environmental_data_376               0.0         5.0    4.0   \n",
       "arctic_network_environmental_data_377               0.0         3.0    2.0   \n",
       "\n",
       "                                       bryophytes  lichen  \\\n",
       "uid                                                         \n",
       "Atqasuk_Environmental_Data_0                  0.0     0.0   \n",
       "Atqasuk_Environmental_Data_1                  0.0     0.0   \n",
       "Atqasuk_Environmental_Data_2                  0.0     0.0   \n",
       "Atqasuk_Environmental_Data_3                  0.0     0.0   \n",
       "Atqasuk_Environmental_Data_4                  0.0     0.0   \n",
       "...                                           ...     ...   \n",
       "arctic_network_environmental_data_235         0.0     0.0   \n",
       "arctic_network_environmental_data_236         0.0     0.0   \n",
       "arctic_network_environmental_data_237         0.0     0.0   \n",
       "arctic_network_environmental_data_376         0.0     0.0   \n",
       "arctic_network_environmental_data_377         0.0     0.0   \n",
       "\n",
       "                                       cover_species_scale  trees  \\\n",
       "uid                                                                 \n",
       "Atqasuk_Environmental_Data_0                           0.0    0.0   \n",
       "Atqasuk_Environmental_Data_1                           0.0    0.0   \n",
       "Atqasuk_Environmental_Data_2                           0.0    0.0   \n",
       "Atqasuk_Environmental_Data_3                           0.0    0.0   \n",
       "Atqasuk_Environmental_Data_4                           0.0    0.0   \n",
       "...                                                    ...    ...   \n",
       "arctic_network_environmental_data_235                  0.0    0.0   \n",
       "arctic_network_environmental_data_236                  0.0    0.0   \n",
       "arctic_network_environmental_data_237                  0.0    0.0   \n",
       "arctic_network_environmental_data_376                  0.0    0.0   \n",
       "arctic_network_environmental_data_377                  0.0    0.0   \n",
       "\n",
       "                                       deciduous_shrubs  deciduous_shrubs  \\\n",
       "uid                                                                         \n",
       "Atqasuk_Environmental_Data_0                        0.0               0.0   \n",
       "Atqasuk_Environmental_Data_1                        0.0               0.0   \n",
       "Atqasuk_Environmental_Data_2                        0.0               0.0   \n",
       "Atqasuk_Environmental_Data_3                        0.0               0.0   \n",
       "Atqasuk_Environmental_Data_4                        0.0               0.0   \n",
       "...                                                 ...               ...   \n",
       "arctic_network_environmental_data_235               0.0               0.0   \n",
       "arctic_network_environmental_data_236               0.0               0.0   \n",
       "arctic_network_environmental_data_237               0.0               0.0   \n",
       "arctic_network_environmental_data_376               0.0               0.0   \n",
       "arctic_network_environmental_data_377               0.0               0.0   \n",
       "\n",
       "                                       deciduous_shrubs  ...  bryophytes  \\\n",
       "uid                                                      ...               \n",
       "Atqasuk_Environmental_Data_0                        0.0  ...         0.0   \n",
       "Atqasuk_Environmental_Data_1                        0.0  ...         0.0   \n",
       "Atqasuk_Environmental_Data_2                        0.0  ...         0.0   \n",
       "Atqasuk_Environmental_Data_3                        0.0  ...         0.0   \n",
       "Atqasuk_Environmental_Data_4                        0.0  ...         0.0   \n",
       "...                                                 ...  ...         ...   \n",
       "arctic_network_environmental_data_235               0.0  ...         0.0   \n",
       "arctic_network_environmental_data_236               0.0  ...         0.0   \n",
       "arctic_network_environmental_data_237               0.0  ...         0.0   \n",
       "arctic_network_environmental_data_376               0.0  ...         0.0   \n",
       "arctic_network_environmental_data_377               0.0  ...         0.0   \n",
       "\n",
       "                                       bryophytes  bryophytes  \\\n",
       "uid                                                             \n",
       "Atqasuk_Environmental_Data_0                  0.0         0.0   \n",
       "Atqasuk_Environmental_Data_1                  0.0         0.0   \n",
       "Atqasuk_Environmental_Data_2                  0.0         0.0   \n",
       "Atqasuk_Environmental_Data_3                  0.0         0.0   \n",
       "Atqasuk_Environmental_Data_4                  0.0         0.0   \n",
       "...                                           ...         ...   \n",
       "arctic_network_environmental_data_235         0.0         0.0   \n",
       "arctic_network_environmental_data_236         0.0         0.0   \n",
       "arctic_network_environmental_data_237         0.0         0.0   \n",
       "arctic_network_environmental_data_376         0.0         0.0   \n",
       "arctic_network_environmental_data_377         0.0         0.0   \n",
       "\n",
       "                                       cover_surface_fragment  trees  trees  \\\n",
       "uid                                                                           \n",
       "Atqasuk_Environmental_Data_0                              0.0    0.0    0.0   \n",
       "Atqasuk_Environmental_Data_1                              0.0    0.0    0.0   \n",
       "Atqasuk_Environmental_Data_2                              0.0    0.0    0.0   \n",
       "Atqasuk_Environmental_Data_3                              0.0    0.0    0.0   \n",
       "Atqasuk_Environmental_Data_4                              0.0    0.0    0.0   \n",
       "...                                                       ...    ...    ...   \n",
       "arctic_network_environmental_data_235                     0.0    0.0    0.0   \n",
       "arctic_network_environmental_data_236                     0.0    0.0    0.0   \n",
       "arctic_network_environmental_data_237                     0.0    0.0    0.0   \n",
       "arctic_network_environmental_data_376                    85.0    0.0    0.0   \n",
       "arctic_network_environmental_data_377                    10.0    0.0    0.0   \n",
       "\n",
       "                                       deciduous_shrubs  deciduous_shrubs  \\\n",
       "uid                                                                         \n",
       "Atqasuk_Environmental_Data_0                        0.0               0.0   \n",
       "Atqasuk_Environmental_Data_1                        0.0               0.0   \n",
       "Atqasuk_Environmental_Data_2                        0.0               0.0   \n",
       "Atqasuk_Environmental_Data_3                        0.0               0.0   \n",
       "Atqasuk_Environmental_Data_4                        0.0               0.0   \n",
       "...                                                 ...               ...   \n",
       "arctic_network_environmental_data_235               0.0               0.0   \n",
       "arctic_network_environmental_data_236               0.0               0.0   \n",
       "arctic_network_environmental_data_237               0.0               0.0   \n",
       "arctic_network_environmental_data_376               0.0               0.0   \n",
       "arctic_network_environmental_data_377               0.0               0.0   \n",
       "\n",
       "                                       dead_vegetation  graminoids  \n",
       "uid                                                                 \n",
       "Atqasuk_Environmental_Data_0                       0.0         0.0  \n",
       "Atqasuk_Environmental_Data_1                       0.0         0.0  \n",
       "Atqasuk_Environmental_Data_2                       0.0         0.0  \n",
       "Atqasuk_Environmental_Data_3                       0.0         0.0  \n",
       "Atqasuk_Environmental_Data_4                       0.0         0.0  \n",
       "...                                                ...         ...  \n",
       "arctic_network_environmental_data_235              0.0         0.0  \n",
       "arctic_network_environmental_data_236              0.0         0.1  \n",
       "arctic_network_environmental_data_237              0.0         0.0  \n",
       "arctic_network_environmental_data_376              0.0         0.0  \n",
       "arctic_network_environmental_data_377              0.0         0.0  \n",
       "\n",
       "[930 rows x 135 columns]"
      ]
     },
     "execution_count": 142,
     "metadata": {},
     "output_type": "execute_result"
    }
   ],
   "source": [
    "new_cover"
   ]
  },
  {
   "cell_type": "markdown",
   "id": "a4d2528f-6335-4538-8886-de1e0e15b051",
   "metadata": {},
   "source": [
    "## 4.6 Create final PFT PCover dataset"
   ]
  },
  {
   "cell_type": "code",
   "execution_count": 143,
   "id": "8c42ac35-8ec2-460b-9c4d-8f27172d3896",
   "metadata": {},
   "outputs": [],
   "source": [
    "# define new DataFrame that sums/merges columns with same names together\n",
    "new_cover = new_cover.fillna(0)\n",
    "pft_cover = new_cover.groupby(new_cover.columns, axis=1).sum()"
   ]
  },
  {
   "cell_type": "code",
   "execution_count": 144,
   "id": "d3af8234-3313-49e9-af04-1b69d1df53ef",
   "metadata": {},
   "outputs": [
    {
     "data": {
      "text/plain": [
       "Index(['bare_soil', 'bryophytes', 'cover_scale', 'cover_species_scale',\n",
       "       'cover_surface_fragment', 'dead_vegetation', 'deciduous_shrubs',\n",
       "       'evergreen_shrubs', 'forbs', 'graminoids', 'lichen', 'rocks', 'trees',\n",
       "       'water'],\n",
       "      dtype='object')"
      ]
     },
     "execution_count": 144,
     "metadata": {},
     "output_type": "execute_result"
    }
   ],
   "source": [
    "pft_cover.columns"
   ]
  },
  {
   "cell_type": "code",
   "execution_count": 145,
   "id": "a5e54a41-4f3e-4eb0-abd0-567015c5bd0d",
   "metadata": {},
   "outputs": [],
   "source": [
    "# drop remaining random cover columns\n",
    "pft_cover.drop(['cover_scale', 'cover_species_scale', 'cover_surface_fragment', 'dead_vegetation'],\n",
    "                axis=1, inplace=True)"
   ]
  },
  {
   "cell_type": "code",
   "execution_count": 146,
   "id": "a1f9f1fa-5e80-43bc-9bfe-eb570bb8c553",
   "metadata": {},
   "outputs": [],
   "source": [
    "pft_cover['total_cover'] = pft_cover.sum(axis=1)"
   ]
  },
  {
   "cell_type": "code",
   "execution_count": 147,
   "id": "8fd99816-a463-4e66-beca-45524cccaf23",
   "metadata": {},
   "outputs": [],
   "source": [
    "# issue with yr 2000 atqasuk data. all nan in DAAC and archive.\n",
    "# dorp these.\n",
    "pft_cover = pft_cover.loc[~(pft_cover==0).all(axis=1)]"
   ]
  },
  {
   "cell_type": "code",
   "execution_count": 148,
   "id": "67b369cb-2ea4-4ac6-95cc-ae5a10c398c4",
   "metadata": {},
   "outputs": [
    {
     "data": {
      "text/html": [
       "<div>\n",
       "<style scoped>\n",
       "    .dataframe tbody tr th:only-of-type {\n",
       "        vertical-align: middle;\n",
       "    }\n",
       "\n",
       "    .dataframe tbody tr th {\n",
       "        vertical-align: top;\n",
       "    }\n",
       "\n",
       "    .dataframe thead th {\n",
       "        text-align: right;\n",
       "    }\n",
       "</style>\n",
       "<table border=\"1\" class=\"dataframe\">\n",
       "  <thead>\n",
       "    <tr style=\"text-align: right;\">\n",
       "      <th></th>\n",
       "      <th>bare_soil</th>\n",
       "      <th>bryophytes</th>\n",
       "      <th>deciduous_shrubs</th>\n",
       "      <th>evergreen_shrubs</th>\n",
       "      <th>forbs</th>\n",
       "      <th>graminoids</th>\n",
       "      <th>lichen</th>\n",
       "      <th>rocks</th>\n",
       "      <th>trees</th>\n",
       "      <th>water</th>\n",
       "      <th>total_cover</th>\n",
       "    </tr>\n",
       "    <tr>\n",
       "      <th>uid</th>\n",
       "      <th></th>\n",
       "      <th></th>\n",
       "      <th></th>\n",
       "      <th></th>\n",
       "      <th></th>\n",
       "      <th></th>\n",
       "      <th></th>\n",
       "      <th></th>\n",
       "      <th></th>\n",
       "      <th></th>\n",
       "      <th></th>\n",
       "    </tr>\n",
       "  </thead>\n",
       "  <tbody>\n",
       "    <tr>\n",
       "      <th>Atqasuk_Environmental_Data_31</th>\n",
       "      <td>0.0</td>\n",
       "      <td>34.8</td>\n",
       "      <td>31.5</td>\n",
       "      <td>0.0</td>\n",
       "      <td>3.0</td>\n",
       "      <td>8.5</td>\n",
       "      <td>0.25</td>\n",
       "      <td>0.0</td>\n",
       "      <td>0.0</td>\n",
       "      <td>0.0</td>\n",
       "      <td>78.05</td>\n",
       "    </tr>\n",
       "    <tr>\n",
       "      <th>Atqasuk_Environmental_Data_32</th>\n",
       "      <td>0.0</td>\n",
       "      <td>17.4</td>\n",
       "      <td>0.0</td>\n",
       "      <td>0.0</td>\n",
       "      <td>27.4</td>\n",
       "      <td>41.1</td>\n",
       "      <td>1.67</td>\n",
       "      <td>0.0</td>\n",
       "      <td>0.0</td>\n",
       "      <td>0.0</td>\n",
       "      <td>87.57</td>\n",
       "    </tr>\n",
       "    <tr>\n",
       "      <th>Atqasuk_Environmental_Data_33</th>\n",
       "      <td>0.0</td>\n",
       "      <td>17.9</td>\n",
       "      <td>43.6</td>\n",
       "      <td>0.0</td>\n",
       "      <td>1.0</td>\n",
       "      <td>5.0</td>\n",
       "      <td>20.90</td>\n",
       "      <td>0.0</td>\n",
       "      <td>0.0</td>\n",
       "      <td>0.0</td>\n",
       "      <td>88.40</td>\n",
       "    </tr>\n",
       "    <tr>\n",
       "      <th>Atqasuk_Environmental_Data_34</th>\n",
       "      <td>0.0</td>\n",
       "      <td>76.3</td>\n",
       "      <td>31.1</td>\n",
       "      <td>0.0</td>\n",
       "      <td>9.2</td>\n",
       "      <td>13.9</td>\n",
       "      <td>5.20</td>\n",
       "      <td>0.0</td>\n",
       "      <td>0.0</td>\n",
       "      <td>0.0</td>\n",
       "      <td>135.70</td>\n",
       "    </tr>\n",
       "    <tr>\n",
       "      <th>Atqasuk_Environmental_Data_35</th>\n",
       "      <td>0.0</td>\n",
       "      <td>21.4</td>\n",
       "      <td>0.0</td>\n",
       "      <td>0.0</td>\n",
       "      <td>5.7</td>\n",
       "      <td>30.0</td>\n",
       "      <td>0.00</td>\n",
       "      <td>0.0</td>\n",
       "      <td>0.0</td>\n",
       "      <td>0.0</td>\n",
       "      <td>57.10</td>\n",
       "    </tr>\n",
       "    <tr>\n",
       "      <th>...</th>\n",
       "      <td>...</td>\n",
       "      <td>...</td>\n",
       "      <td>...</td>\n",
       "      <td>...</td>\n",
       "      <td>...</td>\n",
       "      <td>...</td>\n",
       "      <td>...</td>\n",
       "      <td>...</td>\n",
       "      <td>...</td>\n",
       "      <td>...</td>\n",
       "      <td>...</td>\n",
       "    </tr>\n",
       "    <tr>\n",
       "      <th>arctic_network_environmental_data_235</th>\n",
       "      <td>5.0</td>\n",
       "      <td>30.0</td>\n",
       "      <td>15.0</td>\n",
       "      <td>0.0</td>\n",
       "      <td>0.1</td>\n",
       "      <td>10.0</td>\n",
       "      <td>0.10</td>\n",
       "      <td>0.0</td>\n",
       "      <td>0.0</td>\n",
       "      <td>1.0</td>\n",
       "      <td>61.20</td>\n",
       "    </tr>\n",
       "    <tr>\n",
       "      <th>arctic_network_environmental_data_236</th>\n",
       "      <td>0.0</td>\n",
       "      <td>40.0</td>\n",
       "      <td>20.0</td>\n",
       "      <td>0.0</td>\n",
       "      <td>0.0</td>\n",
       "      <td>15.1</td>\n",
       "      <td>0.00</td>\n",
       "      <td>0.0</td>\n",
       "      <td>0.0</td>\n",
       "      <td>3.0</td>\n",
       "      <td>78.10</td>\n",
       "    </tr>\n",
       "    <tr>\n",
       "      <th>arctic_network_environmental_data_237</th>\n",
       "      <td>0.0</td>\n",
       "      <td>0.0</td>\n",
       "      <td>0.0</td>\n",
       "      <td>0.0</td>\n",
       "      <td>0.1</td>\n",
       "      <td>1.0</td>\n",
       "      <td>0.00</td>\n",
       "      <td>0.0</td>\n",
       "      <td>0.0</td>\n",
       "      <td>100.0</td>\n",
       "      <td>101.10</td>\n",
       "    </tr>\n",
       "    <tr>\n",
       "      <th>arctic_network_environmental_data_376</th>\n",
       "      <td>38.0</td>\n",
       "      <td>3.0</td>\n",
       "      <td>0.0</td>\n",
       "      <td>0.0</td>\n",
       "      <td>4.0</td>\n",
       "      <td>5.0</td>\n",
       "      <td>50.00</td>\n",
       "      <td>0.0</td>\n",
       "      <td>0.0</td>\n",
       "      <td>0.0</td>\n",
       "      <td>100.00</td>\n",
       "    </tr>\n",
       "    <tr>\n",
       "      <th>arctic_network_environmental_data_377</th>\n",
       "      <td>10.0</td>\n",
       "      <td>10.0</td>\n",
       "      <td>40.0</td>\n",
       "      <td>0.0</td>\n",
       "      <td>2.0</td>\n",
       "      <td>3.0</td>\n",
       "      <td>40.00</td>\n",
       "      <td>0.0</td>\n",
       "      <td>0.0</td>\n",
       "      <td>0.0</td>\n",
       "      <td>105.00</td>\n",
       "    </tr>\n",
       "  </tbody>\n",
       "</table>\n",
       "<p>878 rows × 11 columns</p>\n",
       "</div>"
      ],
      "text/plain": [
       "                                       bare_soil  bryophytes  \\\n",
       "uid                                                            \n",
       "Atqasuk_Environmental_Data_31                0.0        34.8   \n",
       "Atqasuk_Environmental_Data_32                0.0        17.4   \n",
       "Atqasuk_Environmental_Data_33                0.0        17.9   \n",
       "Atqasuk_Environmental_Data_34                0.0        76.3   \n",
       "Atqasuk_Environmental_Data_35                0.0        21.4   \n",
       "...                                          ...         ...   \n",
       "arctic_network_environmental_data_235        5.0        30.0   \n",
       "arctic_network_environmental_data_236        0.0        40.0   \n",
       "arctic_network_environmental_data_237        0.0         0.0   \n",
       "arctic_network_environmental_data_376       38.0         3.0   \n",
       "arctic_network_environmental_data_377       10.0        10.0   \n",
       "\n",
       "                                       deciduous_shrubs  evergreen_shrubs  \\\n",
       "uid                                                                         \n",
       "Atqasuk_Environmental_Data_31                      31.5               0.0   \n",
       "Atqasuk_Environmental_Data_32                       0.0               0.0   \n",
       "Atqasuk_Environmental_Data_33                      43.6               0.0   \n",
       "Atqasuk_Environmental_Data_34                      31.1               0.0   \n",
       "Atqasuk_Environmental_Data_35                       0.0               0.0   \n",
       "...                                                 ...               ...   \n",
       "arctic_network_environmental_data_235              15.0               0.0   \n",
       "arctic_network_environmental_data_236              20.0               0.0   \n",
       "arctic_network_environmental_data_237               0.0               0.0   \n",
       "arctic_network_environmental_data_376               0.0               0.0   \n",
       "arctic_network_environmental_data_377              40.0               0.0   \n",
       "\n",
       "                                       forbs  graminoids  lichen  rocks  \\\n",
       "uid                                                                       \n",
       "Atqasuk_Environmental_Data_31            3.0         8.5    0.25    0.0   \n",
       "Atqasuk_Environmental_Data_32           27.4        41.1    1.67    0.0   \n",
       "Atqasuk_Environmental_Data_33            1.0         5.0   20.90    0.0   \n",
       "Atqasuk_Environmental_Data_34            9.2        13.9    5.20    0.0   \n",
       "Atqasuk_Environmental_Data_35            5.7        30.0    0.00    0.0   \n",
       "...                                      ...         ...     ...    ...   \n",
       "arctic_network_environmental_data_235    0.1        10.0    0.10    0.0   \n",
       "arctic_network_environmental_data_236    0.0        15.1    0.00    0.0   \n",
       "arctic_network_environmental_data_237    0.1         1.0    0.00    0.0   \n",
       "arctic_network_environmental_data_376    4.0         5.0   50.00    0.0   \n",
       "arctic_network_environmental_data_377    2.0         3.0   40.00    0.0   \n",
       "\n",
       "                                       trees  water  total_cover  \n",
       "uid                                                               \n",
       "Atqasuk_Environmental_Data_31            0.0    0.0        78.05  \n",
       "Atqasuk_Environmental_Data_32            0.0    0.0        87.57  \n",
       "Atqasuk_Environmental_Data_33            0.0    0.0        88.40  \n",
       "Atqasuk_Environmental_Data_34            0.0    0.0       135.70  \n",
       "Atqasuk_Environmental_Data_35            0.0    0.0        57.10  \n",
       "...                                      ...    ...          ...  \n",
       "arctic_network_environmental_data_235    0.0    1.0        61.20  \n",
       "arctic_network_environmental_data_236    0.0    3.0        78.10  \n",
       "arctic_network_environmental_data_237    0.0  100.0       101.10  \n",
       "arctic_network_environmental_data_376    0.0    0.0       100.00  \n",
       "arctic_network_environmental_data_377    0.0    0.0       105.00  \n",
       "\n",
       "[878 rows x 11 columns]"
      ]
     },
     "execution_count": 148,
     "metadata": {},
     "output_type": "execute_result"
    }
   ],
   "source": [
    "pft_cover"
   ]
  },
  {
   "cell_type": "code",
   "execution_count": 149,
   "id": "39abd546-6f0d-44ca-be15-feb18e97ae7d",
   "metadata": {},
   "outputs": [],
   "source": [
    "pft_cover.to_csv('/mnt/poseidon/remotesensing/arctic/data/training/huc190604_pft_cover_test_01.csv', index=True)"
   ]
  },
  {
   "cell_type": "code",
   "execution_count": null,
   "id": "70088908-31f4-41ea-88b7-e87c18380346",
   "metadata": {},
   "outputs": [],
   "source": []
  }
 ],
 "metadata": {
  "kernelspec": {
   "display_name": "Python 3 (ipykernel)",
   "language": "python",
   "name": "python3"
  },
  "language_info": {
   "codemirror_mode": {
    "name": "ipython",
    "version": 3
   },
   "file_extension": ".py",
   "mimetype": "text/x-python",
   "name": "python",
   "nbconvert_exporter": "python",
   "pygments_lexer": "ipython3",
   "version": "3.11.5"
  }
 },
 "nbformat": 4,
 "nbformat_minor": 5
}
