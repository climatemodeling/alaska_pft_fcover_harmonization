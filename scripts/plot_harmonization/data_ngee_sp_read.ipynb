{
 "cells": [
  {
   "cell_type": "code",
   "execution_count": 1,
   "id": "96e66203-262c-4758-89e0-e8de8c589a91",
   "metadata": {},
   "outputs": [],
   "source": [
    "import requests\n",
    "import pandas as pd\n",
    "from pyogrio import read_dataframe\n",
    "from datetime import date, timedelta\n",
    "from dateutil.relativedelta import relativedelta\n",
    "import glob\n",
    "import json\n",
    "import numpy as np\n",
    "import ee\n",
    "import geemap as gee\n",
    "import time\n",
    "import standardize_pft_funcs as spf\n",
    "import geopandas as gpd\n",
    "import chardet\n",
    "import os"
   ]
  },
  {
   "cell_type": "code",
   "execution_count": 2,
   "id": "be502f97-96c8-4646-90cd-29aa08f63578",
   "metadata": {},
   "outputs": [],
   "source": [
    "try:\n",
    "    ee.Initialize()\n",
    "except Exception as e:\n",
    "    print('GEE token expired. Use Jupyter Lab to authenticate')\n",
    "    ee.Authenticate()"
   ]
  },
  {
   "cell_type": "markdown",
   "id": "f73f2959-76a3-4176-9d40-b85010031681",
   "metadata": {},
   "source": [
    "## Load data"
   ]
  },
  {
   "cell_type": "code",
   "execution_count": 3,
   "id": "a51f7f8a-0918-4eea-8307-ef57c1b8a629",
   "metadata": {},
   "outputs": [],
   "source": [
    "p = '/mnt/poseidon/remotesensing/arctic/data/vectors/NGEE_SP'\n",
    "spp_csvs = sorted(glob.glob(f'{p}/*_spp.csv'))"
   ]
  },
  {
   "cell_type": "code",
   "execution_count": 4,
   "id": "6f10b16d-8ac6-4678-9e1b-8104bd5ac0d7",
   "metadata": {},
   "outputs": [],
   "source": [
    "dfs = []\n",
    "for csv_path in spp_csvs:\n",
    "    #print(csv_path)\n",
    "    with open(csv_path, 'rb') as f:\n",
    "        result = chardet.detect(f.read())\n",
    "        df = pd.read_csv(csv_path, encoding=result['encoding'])\n",
    "        dfs.append(df)"
   ]
  },
  {
   "cell_type": "code",
   "execution_count": 5,
   "id": "8383b6a1-4da3-45e7-972a-541ff6d8f9a0",
   "metadata": {},
   "outputs": [],
   "source": [
    "# ancillary\n",
    "p = '/mnt/poseidon/remotesensing/arctic/data/vectors/NGEE_SP/'\n",
    "f = 'ngee_arctic_seward_peninsula_ancillary.csv'\n",
    "ancillary = pd.read_csv(p+f)\n",
    "ancillary.drop(columns=['TID'], inplace=True)\n",
    "ancillary.dropna(inplace=True) #remove sites with missing ancillary data"
   ]
  },
  {
   "cell_type": "markdown",
   "id": "572ca176-2f31-4048-9cb6-6003583d399a",
   "metadata": {},
   "source": [
    "## Get species info"
   ]
  },
  {
   "cell_type": "code",
   "execution_count": 6,
   "id": "6195cb4d-95a7-4e54-9123-f30609370c67",
   "metadata": {},
   "outputs": [],
   "source": [
    "# get accepted names (first column) from each csv\n",
    "spp_names = []\n",
    "for df in dfs: \n",
    "    spp_name = df.iloc[:, 0] # first col with author\n",
    "    spp_names.append(spp_name)"
   ]
  },
  {
   "cell_type": "code",
   "execution_count": 7,
   "id": "7de8d455-5ec9-4b68-b6cf-b2d70abc4200",
   "metadata": {},
   "outputs": [],
   "source": [
    "# concatenate all spp names into one dataframe\n",
    "all_spp_names = pd.concat(spp_names, ignore_index=True)\n",
    "all_spp_names = all_spp_names.dropna().reset_index(drop=True)\n",
    "all_spp_names = pd.DataFrame(all_spp_names)\n",
    "all_spp_names.columns = ['Accepted Name']"
   ]
  },
  {
   "cell_type": "code",
   "execution_count": 8,
   "id": "42ae092a-f9d0-4faf-8ae9-902180d25010",
   "metadata": {},
   "outputs": [
    {
     "name": "stdout",
     "output_type": "stream",
     "text": [
      "Saved unique species list to /mnt/poseidon/remotesensing/arctic/data/vectors/NGEE_SP/NGEE_SP_unique_species.csv.\n"
     ]
    }
   ],
   "source": [
    "# get unique species names\n",
    "p = '/mnt/poseidon/remotesensing/arctic/data/vectors/NGEE_SP'\n",
    "species = spf.get_unique_species(all_spp_names, 'Accepted Name', 'NGEE_SP', True, p)"
   ]
  },
  {
   "cell_type": "markdown",
   "id": "efa48930-47c7-4a36-9e5d-23dd523c217e",
   "metadata": {},
   "source": [
    "## Extract potential habits for each species"
   ]
  },
  {
   "cell_type": "code",
   "execution_count": 9,
   "id": "4d797fcb-3938-4176-b0d8-02d09aea0edf",
   "metadata": {},
   "outputs": [],
   "source": [
    "# load species checklist\n",
    "p = '/mnt/poseidon/remotesensing/arctic/data/vectors/AKVEG_ACCS/'\n",
    "f = 'AKVEG_species_checklist.csv'\n",
    "checklist = read_dataframe(p + f)\n",
    "\n",
    "# get first 2 words (genus-species) from checklist accepted name and data species name\n",
    "checklist['Mapping Name'] = checklist['Accepted Name'].apply(spf.get_substrings)\n",
    "species['Mapping Name'] = species['Accepted Name'].apply(spf.get_substrings)"
   ]
  },
  {
   "cell_type": "code",
   "execution_count": 10,
   "id": "d5398467-f209-4fab-b881-f7839405bdff",
   "metadata": {},
   "outputs": [
    {
     "name": "stdout",
     "output_type": "stream",
     "text": [
      "96 species are missing habits.\n",
      "60 species still missing habits.\n",
      "21 species still missing habits.\n",
      "19 species still missing habits.\n"
     ]
    }
   ],
   "source": [
    "habits = spf.fill_habits(unique_species=species, \n",
    "                         checklist=checklist, \n",
    "                         u_name='Accepted Name', \n",
    "                         c_unofficial_name='Name', \n",
    "                         c_official_name='Accepted Name', \n",
    "                         mapping_name='Mapping Name',\n",
    "                         habit='Habit')"
   ]
  },
  {
   "cell_type": "markdown",
   "id": "24fcd0a5-8f00-40ec-aa12-8453f21e2159",
   "metadata": {},
   "source": [
    "## Add leaf retention column"
   ]
  },
  {
   "cell_type": "code",
   "execution_count": 11,
   "id": "4191f622-51b5-4f67-89b6-07ab07388a3e",
   "metadata": {},
   "outputs": [],
   "source": [
    "p = '/mnt/poseidon/remotesensing/arctic/data/vectors/AK-AVA_post2000/'\n",
    "f = 'evergreendecid_macander2022.csv'\n",
    "evergrndecid = pd.read_csv(p + f, header=None)\n",
    "evergrndecid.columns = ['evergreendecid', 'species']\n",
    "final = spf.add_leaf_habit(habits, evergrndecid)"
   ]
  },
  {
   "cell_type": "code",
   "execution_count": 12,
   "id": "b27d4d99-5fc9-4ee4-9831-b4dd4d50aee5",
   "metadata": {},
   "outputs": [],
   "source": [
    "# export\n",
    "p = '/mnt/poseidon/remotesensing/arctic/data/vectors/NGEE_SP/'\n",
    "f = 'NGEE_SP_species_habit_00.csv'\n",
    "final.to_csv(p + f)"
   ]
  },
  {
   "cell_type": "code",
   "execution_count": 13,
   "id": "c7ad5324-904d-40f1-84f0-381e886ebd81",
   "metadata": {},
   "outputs": [
    {
     "data": {
      "text/plain": [
       "[nan,\n",
       " 'forb',\n",
       " 'lichen',\n",
       " 'shrub',\n",
       " 'dwarf shrub',\n",
       " 'graminoid',\n",
       " 'moss',\n",
       " 'liverwort',\n",
       " ' forb,shrub, multiple',\n",
       " 'spore-bearing',\n",
       " 'shrub, shrub, dwarf shrub',\n",
       " 'coniferous tree',\n",
       " 'dwarf shrub, shrub']"
      ]
     },
     "execution_count": 13,
     "metadata": {},
     "output_type": "execute_result"
    }
   ],
   "source": [
    "list(final['Potential Habit'].unique())"
   ]
  },
  {
   "cell_type": "code",
   "execution_count": 14,
   "id": "a6dd6778-53ca-43e4-bd9d-8d73f7ced335",
   "metadata": {},
   "outputs": [],
   "source": [
    "# get all shrub species\n",
    "finalnonnull = final[~final['Potential Habit'].isnull()]\n",
    "shrubs = finalnonnull[finalnonnull['Potential Habit'].str.contains('shrub')]\n",
    "shrubs.to_csv(p + 'NGEE_SP_shrubs_00.csv')"
   ]
  },
  {
   "cell_type": "code",
   "execution_count": 15,
   "id": "40220b01-5d49-45a7-9f2c-eb039808c341",
   "metadata": {},
   "outputs": [],
   "source": [
    "# get all non-shrub species\n",
    "nonshrubs = finalnonnull[~finalnonnull['Potential Habit'].str.contains('shrub')]\n",
    "nonshrubs.to_csv(p + 'NGEE_SP_nonshrubs_00.csv')"
   ]
  },
  {
   "cell_type": "code",
   "execution_count": 16,
   "id": "d299b6ad-96c0-4f83-9eb9-4b5dad6f3df4",
   "metadata": {},
   "outputs": [],
   "source": [
    "# get null habits\n",
    "finalnull = final[final['Potential Habit'].isnull()]\n",
    "finalnull.to_csv(p + 'NGEE_SP_nullhabit_00.csv')"
   ]
  },
  {
   "cell_type": "code",
   "execution_count": 17,
   "id": "5b87a954-2fa2-4ada-b07b-a2aabba5b392",
   "metadata": {},
   "outputs": [
    {
     "data": {
      "text/plain": [
       "266"
      ]
     },
     "execution_count": 17,
     "metadata": {},
     "output_type": "execute_result"
    }
   ],
   "source": [
    "len(finalnull) + len(nonshrubs) + len(shrubs)"
   ]
  },
  {
   "cell_type": "code",
   "execution_count": 18,
   "id": "e6bc876d-1990-4a5f-b452-c8e7f90539d6",
   "metadata": {},
   "outputs": [
    {
     "data": {
      "text/plain": [
       "266"
      ]
     },
     "execution_count": 18,
     "metadata": {},
     "output_type": "execute_result"
    }
   ],
   "source": [
    "len(final)"
   ]
  },
  {
   "cell_type": "markdown",
   "id": "dec1fcb0-06f8-4e3b-9c3a-266d4f397d7b",
   "metadata": {},
   "source": [
    "## Manual editing on shrubs_00 and nullhabit_00"
   ]
  },
  {
   "cell_type": "markdown",
   "id": "4e246e43-173c-4800-8b3d-7c3f1c22c062",
   "metadata": {},
   "source": [
    "## Standardization"
   ]
  },
  {
   "cell_type": "code",
   "execution_count": 19,
   "id": "cfabe95d-fa6f-4fd7-90a9-695dcc46b229",
   "metadata": {},
   "outputs": [],
   "source": [
    "p = '/mnt/poseidon/remotesensing/arctic/data/vectors/NGEE_SP/'\n",
    "nonshrub = 'NGEE_SP_nonshrubs_01.csv'\n",
    "null = 'NGEE_SP_nullhabit_01.csv'\n",
    "shrub = 'NGEE_SP_shrubs_01.csv'\n",
    "\n",
    "alltypes = [nonshrub, shrub, null]\n",
    "\n",
    "d = []\n",
    "for t in alltypes:\n",
    "    habits = pd.read_csv(p + t, index_col=0)\n",
    "    d.append(habits)"
   ]
  },
  {
   "cell_type": "code",
   "execution_count": 20,
   "id": "254ade75-ce9f-4602-9aab-77d370e357b2",
   "metadata": {},
   "outputs": [
    {
     "data": {
      "text/plain": [
       "['forb',\n",
       " 'lichen',\n",
       " 'graminoid',\n",
       " 'moss',\n",
       " 'liverwort',\n",
       " 'spore-bearing',\n",
       " 'coniferous tree',\n",
       " 'shrub',\n",
       " 'dwarf shrub',\n",
       " 'bryophyte',\n",
       " 'bare soil',\n",
       " 'litter',\n",
       " 'unknown',\n",
       " 'rock',\n",
       " 'water']"
      ]
     },
     "execution_count": 20,
     "metadata": {},
     "output_type": "execute_result"
    }
   ],
   "source": [
    "completehabits = pd.concat(d)\n",
    "completehabits['Habit'].unique().tolist()"
   ]
  },
  {
   "cell_type": "code",
   "execution_count": 21,
   "id": "a6e0c785-9af8-4ebb-b154-9a435d9d4b5a",
   "metadata": {},
   "outputs": [],
   "source": [
    "def standardize_habit_nonstandard(habitrow, leafrow, heightrow):\n",
    "    \n",
    "    habitrow = habitrow.to_numpy()\n",
    "    leafrow = leafrow.to_numpy()\n",
    "    heightrow = heightrow.to_numpy()\n",
    "    new_row = []\n",
    "    \n",
    "    for habit, leaf, height in zip(habitrow, leafrow, heightrow):\n",
    "        habit = habit.lower()\n",
    "        if habit == 'coniferous tree':\n",
    "            new_habit = f'{leaf} tree cover (%)'\n",
    "        elif habit == 'dwarf shrub':\n",
    "            new_habit = f'{leaf} {habit} cover (%)'\n",
    "        elif 'shrub' in habit:\n",
    "            new_habit = f'{leaf} {height} cover (%)'\n",
    "        elif 'tree' in habit:\n",
    "            new_habit = f'{leaf} tree cover (%)'\n",
    "        else:\n",
    "            new_habit = f'{habit} cover (%)'\n",
    "        new_row.append(\" \".join(new_habit.split()).lower())\n",
    "    \n",
    "    return new_row"
   ]
  },
  {
   "cell_type": "code",
   "execution_count": 22,
   "id": "3bdde9cc-dc5f-4def-9516-0278a3f6d412",
   "metadata": {},
   "outputs": [],
   "source": [
    "def standardize_habit(habitrow, leafrow, heightrow):\n",
    "    \n",
    "    habitrow = habitrow.to_numpy()\n",
    "    leafrow = leafrow.to_numpy()\n",
    "    heightrow = heightrow.to_numpy()\n",
    "    new_row = []\n",
    "    \n",
    "    for habit, leaf, height in zip(habitrow, leafrow, heightrow):\n",
    "        habit = habit.lower()\n",
    "        if 'algae' in habit or 'cyanobacteria' in habit:\n",
    "            new_habit = 'lichen cover (%)'\n",
    "        elif habit == np.nan or 'unknown' in habit:\n",
    "            new_habit = 'unknown cover (%)'\n",
    "        elif 'moss' in habit or 'liverwort' in habit:\n",
    "            new_habit = 'bryophyte cover (%)'\n",
    "        elif 'spore-bearing' in habit:\n",
    "            new_habit = 'forb cover (%)'\n",
    "        elif habit == 'grass':\n",
    "            new_habit = 'graminoid cover (%)'\n",
    "            \n",
    "        elif habit == 'shrub, tree':\n",
    "            new_habit = f'{leaf} dwarf to tree cover (%)'\n",
    "        elif 'tree' in habit:\n",
    "            new_habit = f'{leaf} tree cover (%)'\n",
    "        elif habit == 'dwarf shrub':\n",
    "            new_habit = f'{leaf} {habit} cover (%)'\n",
    "        elif 'shrub' in habit:\n",
    "            new_habit = f'{leaf} {height} cover (%)'\n",
    "            \n",
    "        elif 'litter' in habit or 'scat' in habit:\n",
    "            new_habit = 'litter cover (%)'\n",
    "        elif 'rock' in habit or 'bare soil' in habit:\n",
    "            new_habit = 'bare ground cover (%)'\n",
    "        else:\n",
    "            new_habit = f'{habit} cover (%)'\n",
    "        new_row.append(\" \".join(new_habit.split()).lower())\n",
    "    \n",
    "    return new_row"
   ]
  },
  {
   "cell_type": "code",
   "execution_count": 23,
   "id": "50b60472-5727-40e2-ac04-b5cc5c304e80",
   "metadata": {},
   "outputs": [],
   "source": [
    "# standardized PFT\n",
    "standard_habit_col = standardize_habit(completehabits['Habit'], \n",
    "                                       completehabits['Leaf Retention'], \n",
    "                                       completehabits['Height'])"
   ]
  },
  {
   "cell_type": "code",
   "execution_count": 24,
   "id": "a1485b5b-d665-409e-97cb-156d13bc9c21",
   "metadata": {},
   "outputs": [],
   "source": [
    "# non-standardized PFT\n",
    "nonstandard_habit_col = standardize_habit_nonstandard(completehabits['Habit'], \n",
    "                                                      completehabits['Leaf Retention'],\n",
    "                                                      completehabits['Height'])"
   ]
  },
  {
   "cell_type": "code",
   "execution_count": 25,
   "id": "bc5975dd-8b47-45a6-b8cc-99dca0e51ae2",
   "metadata": {},
   "outputs": [],
   "source": [
    "completehabits['Standard Habit'] = standard_habit_col\n",
    "completehabits['NonStandard Habit'] = nonstandard_habit_col"
   ]
  },
  {
   "cell_type": "code",
   "execution_count": 26,
   "id": "c7f48810-e0ff-4e60-b614-ae2ab20eff93",
   "metadata": {},
   "outputs": [],
   "source": [
    "p = '/mnt/poseidon/remotesensing/arctic/data/vectors/NGEE_SP/'\n",
    "f = 'NGEE_SP_species_habit_standardized.csv'\n",
    "completehabits.to_csv(p + f)"
   ]
  },
  {
   "cell_type": "markdown",
   "id": "200036d5-270e-4772-b0fb-7e10e162f523",
   "metadata": {},
   "source": [
    "## Clean up fcover data"
   ]
  },
  {
   "cell_type": "code",
   "execution_count": 27,
   "id": "57fba6cf-51a0-4e90-b749-e9c8a8609bc1",
   "metadata": {},
   "outputs": [],
   "source": [
    "spp = spp_csvs"
   ]
  },
  {
   "cell_type": "code",
   "execution_count": 28,
   "id": "bf24d843-159e-41f5-8a85-07f86093eea8",
   "metadata": {},
   "outputs": [],
   "source": [
    "def get_fcover_percent(spp, habit_name):\n",
    "    \n",
    "    plot_data = []\n",
    "    names = [os.path.basename(x) for x in spp]\n",
    "    convs = []\n",
    "    for n in names:\n",
    "        conv = n.split('_')[-2]\n",
    "        convs.append(conv)\n",
    "    finalhabits = completehabits[['Name', habit_name]]\n",
    "    \n",
    "    \n",
    "    for s, conv in zip(spp, convs):\n",
    "\n",
    "        # read species data\n",
    "        with open(s, 'rb') as f:\n",
    "            result = chardet.detect(f.read())\n",
    "            df = pd.read_csv(s, encoding=result['encoding'], header=1)\n",
    "        print(habit_name, s, end='\\x1b[1K\\r')\n",
    "\n",
    "        # rename columns\n",
    "        cols = df.columns.to_numpy()\n",
    "        cols[0] = 'Name'\n",
    "        cols[1] = 'Name NoAuthor'\n",
    "        cols[2] = 'Study Name'\n",
    "        df.columns = cols\n",
    "\n",
    "        # select plot TIDs\n",
    "        tid_cols = df.columns.to_list()[3:]\n",
    "\n",
    "        # get habit for each species in file\n",
    "        plotlevel_habit = df.merge(finalhabits, left_on='Name', right_on='Name') # survey plot names will be dropped here\n",
    "\n",
    "        # br-bq to percentage conversion dict\n",
    "        bb_dict = {'r': 0.05, '+': 0.55, '1': 3.0, '2': 15.0, '3': 37.5, '4': 62.5, '5': 87.5, '-9': np.nan}\n",
    "        # Westoff converstion dict\n",
    "        wv_dict = {'1': 0.05, '2': 1.0, '3': 2.5, '4': 4.5, '5': 9.0, '6': 18.5, '7': 37.0, '8': 62.0, '9': 87.5}\n",
    "        # Hult-Serander conversion dict\n",
    "        hs_dict = {'+': 0.5, '1': 4.0, '2': 9.0, '3': 18.0, '4': 38.0, '5': 63.0, '6': 87.0}\n",
    "\n",
    "        # convert wv codes\n",
    "        if conv == 'wv':\n",
    "\n",
    "            # replace westoff-van den maarel code with percentage\n",
    "            cols = plotlevel_habit.columns.to_list()\n",
    "            plotlevel_habit = plotlevel_habit.astype(str)\n",
    "            for col in cols:\n",
    "                plotlevel_habit.replace({col: wv_dict}, inplace=True)\n",
    "\n",
    "        # covert br-bl codes        \n",
    "        elif conv == 'brbl':\n",
    "\n",
    "            # replace br-bl code with percentage\n",
    "            cols = plotlevel_habit.columns.to_list()\n",
    "            plotlevel_habit = plotlevel_habit.astype(str)\n",
    "            for col in cols:\n",
    "                plotlevel_habit.replace({col: bb_dict}, inplace=True)\n",
    "\n",
    "        elif conv == 'hs':\n",
    "\n",
    "            # replace hs code with percentage\n",
    "            cols = plotlevel_habit.columns.to_list()\n",
    "            plotlevel_habit = plotlevel_habit.astype(str)\n",
    "            for col in cols:\n",
    "                plotlevel_habit.replace({col: hs_dict}, inplace=True)\n",
    "\n",
    "        # if already percent\n",
    "        else:\n",
    "\n",
    "            plotlevel_habit = plotlevel_habit.astype(str)\n",
    "\n",
    "        # clean % data\n",
    "        plot_pft = plotlevel_habit.drop(columns=['Name NoAuthor', 'Name', 'Study Name'])\n",
    "        plot_pft = plot_pft.loc[:, plot_pft.columns != habit_name].replace(' ', '0', regex=True)\n",
    "        plot_pft = plot_pft.loc[:, plot_pft.columns != habit_name].replace('', '0', regex=True)\n",
    "        plot_pft = plot_pft.loc[:, plot_pft.columns != habit_name].replace('\\*', '0', regex=True)\n",
    "        plot_pft = plot_pft.loc[:, plot_pft.columns != habit_name].astype(float)\n",
    "\n",
    "        # add back the standard habit column\n",
    "        plot_pft[habit_name] = plotlevel_habit[habit_name] # replace codes with new fcover %\n",
    "\n",
    "        # loop through each plot and sum fcover per pft\n",
    "        final = plot_pft.groupby(by=[habit_name]).sum().T\n",
    "        final.index = tid_cols\n",
    "        plot_data.append(final)\n",
    "        \n",
    "    return plot_data"
   ]
  },
  {
   "cell_type": "code",
   "execution_count": 29,
   "id": "f9b8faaf-d881-4c20-a57e-0f4ff6aa93c2",
   "metadata": {},
   "outputs": [
    {
     "name": "stdout",
     "output_type": "stream",
     "text": [
      "NonStandard Habit /mnt/poseidon/remotesensing/arctic/data/vectors/NGEE_SP/ngee_arctic_seward_peninsula_teller_perc_spp.csv\u001b[1K1K\r"
     ]
    }
   ],
   "source": [
    "sf = get_fcover_percent(spp, 'Standard Habit')\n",
    "nsf = get_fcover_percent(spp, 'NonStandard Habit')"
   ]
  },
  {
   "cell_type": "code",
   "execution_count": 30,
   "id": "748c9d7c-42c6-4231-bfdb-e5f66473a295",
   "metadata": {},
   "outputs": [],
   "source": [
    "standard_fcover = pd.concat(sf, axis=0)\n",
    "nonstandard_fcover = pd.concat(nsf, axis=0)"
   ]
  },
  {
   "cell_type": "code",
   "execution_count": 31,
   "id": "cc9ccf07-ab54-418f-b663-5b4d6a353f27",
   "metadata": {},
   "outputs": [],
   "source": [
    "standard_fcover.index.name = 'Site Code'\n",
    "standard_fcover.index = standard_fcover.index.astype(str)\n",
    "standard_fcover.columns.name = None\n",
    "nonstandard_fcover.index.name = 'Site Code'\n",
    "nonstandard_fcover.index = nonstandard_fcover.index.astype(str)\n",
    "nonstandard_fcover.columns.name = None"
   ]
  },
  {
   "cell_type": "code",
   "execution_count": 32,
   "id": "d1c4eccd-32c9-4f10-a5c4-c001988226ed",
   "metadata": {},
   "outputs": [],
   "source": [
    "def add_standard_cols(groups):\n",
    "    \n",
    "    # required columns\n",
    "    necessary_cols = ['deciduous dwarf shrub cover (%)',\n",
    "                      'deciduous dwarf to low shrub cover (%)',\n",
    "                      'deciduous dwarf to tall shrub cover (%)',\n",
    "                      'deciduous dwarf to tree cover (%)',\n",
    "                      'deciduous tree cover (%)',\n",
    "                      'evergreen dwarf shrub cover (%)',\n",
    "                      'evergreen dwarf to low shrub cover (%)',\n",
    "                      'evergreen dwarf to tall shrub cover (%)',\n",
    "                      'evergreen dwarf to tree cover (%)',\n",
    "                      'evergreen tree cover (%)',\n",
    "                      'bryophyte cover (%)',\n",
    "                      'forb cover (%)',\n",
    "                      'graminoid cover (%)',\n",
    "                      'lichen cover (%)']\n",
    "    \n",
    "    # add missing columns and fill with nan\n",
    "    cols = groups.columns.tolist()\n",
    "    addcols = []\n",
    "    for nc in necessary_cols:\n",
    "        if nc not in cols:\n",
    "            addcols.append(nc)\n",
    "    groups[addcols] = np.nan\n",
    "    return groups"
   ]
  },
  {
   "cell_type": "code",
   "execution_count": 33,
   "id": "ede48564-65f5-4fee-8609-f47a7b01e3e3",
   "metadata": {},
   "outputs": [],
   "source": [
    "standard_fcover = add_standard_cols(standard_fcover)"
   ]
  },
  {
   "cell_type": "code",
   "execution_count": 37,
   "id": "51c09e26-b3a5-4765-a3f3-7f13621b8612",
   "metadata": {},
   "outputs": [
    {
     "data": {
      "text/plain": [
       "101"
      ]
     },
     "execution_count": 37,
     "metadata": {},
     "output_type": "execute_result"
    }
   ],
   "source": [
    "len(standard_fcover)"
   ]
  },
  {
   "cell_type": "markdown",
   "id": "4ce02e78-78b4-4983-98d3-e9dea84de06f",
   "metadata": {},
   "source": [
    "## ancillary"
   ]
  },
  {
   "cell_type": "code",
   "execution_count": 34,
   "id": "d0ae4906-1e24-4f4f-b5c4-2a0991376007",
   "metadata": {},
   "outputs": [],
   "source": [
    "anc = ancillary.copy()\n",
    "anc.drop(columns=['date'], inplace=True)\n",
    "anc = anc[['Site Code', 'latitude', 'longitude', 'year', 'plot_radius_m', 'source']]\n",
    "anc = anc.dropna() #remove sites with missing ancillary data\n",
    "anc.set_index('Site Code', inplace=True)\n",
    "anc.index = anc.index.astype(str)"
   ]
  },
  {
   "cell_type": "code",
   "execution_count": 38,
   "id": "8f408638-362a-4c26-8154-e6649cb94716",
   "metadata": {},
   "outputs": [
    {
     "data": {
      "text/plain": [
       "98"
      ]
     },
     "execution_count": 38,
     "metadata": {},
     "output_type": "execute_result"
    }
   ],
   "source": [
    "len(anc)"
   ]
  },
  {
   "cell_type": "markdown",
   "id": "61fbc502-cf69-487f-9ad8-98c84099d256",
   "metadata": {},
   "source": [
    "## top cover non-veg"
   ]
  },
  {
   "cell_type": "code",
   "execution_count": 39,
   "id": "7c0fa868-35be-4166-bc91-d8930f44d5d6",
   "metadata": {},
   "outputs": [],
   "source": [
    "topcover = standard_fcover.copy()\n",
    "topcover.columns.name = None\n",
    "topcover = topcover[sorted(topcover.columns.tolist())]"
   ]
  },
  {
   "cell_type": "code",
   "execution_count": 40,
   "id": "723a0268-fbbe-4670-8e56-1bece8655a10",
   "metadata": {},
   "outputs": [],
   "source": [
    "# add \"total cover\" to column names\n",
    "cols = topcover.columns.tolist()\n",
    "cols = [x.replace('cover (%)' , 'total cover (%)') for x in cols]\n",
    "topcover.columns = cols"
   ]
  },
  {
   "cell_type": "code",
   "execution_count": 41,
   "id": "d1721e8d-bba6-4e1a-b3d8-bb94fc9c8731",
   "metadata": {
    "tags": []
   },
   "outputs": [],
   "source": [
    "# assume non-veg is total cover\n",
    "topcover.rename(columns={'bare ground total cover (%)':'bare ground top cover (%)',\n",
    "                         'litter total cover (%)':'litter total cover (%)',\n",
    "                         'water total cover (%)':'water top cover (%)'},\n",
    "              inplace=True)\n",
    "# join topcover and ancillary\n",
    "topcover.index = topcover.index.astype(str)\n",
    "topcover = topcover.groupby(lambda x:x, axis=1).sum()\n",
    "topcover = pd.concat([topcover, anc], axis=1)\n",
    "# drop water = 100%\n",
    "topcover = topcover[topcover['water top cover (%)'] != 100]\n",
    "cols = [col for col in topcover.columns if not 'cover (%)' in col]\n",
    "# re-create ancillary without 100% water cols\n",
    "anc = topcover[cols]\n",
    "# finish top cover\n",
    "cols = [col for col in topcover.columns if not 'total cover (%)' in col]\n",
    "topcover1 = topcover[cols]\n",
    "topcover1 = topcover1.dropna(how='all', subset=['latitude', 'longitude'])"
   ]
  },
  {
   "cell_type": "code",
   "execution_count": 43,
   "id": "dfafdabd-ee0a-44cf-8b02-0bbf76ce016e",
   "metadata": {},
   "outputs": [
    {
     "data": {
      "text/plain": [
       "98"
      ]
     },
     "execution_count": 43,
     "metadata": {},
     "output_type": "execute_result"
    }
   ],
   "source": [
    "len(topcover1)"
   ]
  },
  {
   "cell_type": "code",
   "execution_count": 44,
   "id": "9ba9b36c-94a9-457d-8bed-c9c9ba8ab573",
   "metadata": {},
   "outputs": [],
   "source": [
    "# export\n",
    "p = '/mnt/poseidon/remotesensing/arctic/data/training/Test_04/original_files/'\n",
    "f = 'NGEE_SP_fcover_top_nonPFT.csv'\n",
    "topcover1.to_csv(p + f)"
   ]
  },
  {
   "cell_type": "markdown",
   "id": "a6269922-d459-4a7a-bd91-d36e172dce34",
   "metadata": {},
   "source": [
    "## total cover (not merged)"
   ]
  },
  {
   "cell_type": "code",
   "execution_count": 45,
   "id": "072e8820-b543-400b-aed2-a87026aa3214",
   "metadata": {},
   "outputs": [],
   "source": [
    "# set index and sort columns\n",
    "totcover_nm = nonstandard_fcover.copy()\n",
    "totcover_nm.columns.name = None\n",
    "totcover_nm = totcover_nm[sorted(totcover_nm.columns.tolist())]"
   ]
  },
  {
   "cell_type": "code",
   "execution_count": 46,
   "id": "7b2153ac-bd83-4548-9b1f-91f143e95407",
   "metadata": {},
   "outputs": [],
   "source": [
    "# add \"total cover\" to column names\n",
    "cols = totcover_nm.columns.tolist()\n",
    "cols = [x.replace('cover (%)' , 'total cover (%)') for x in cols]\n",
    "totcover_nm.columns = cols"
   ]
  },
  {
   "cell_type": "code",
   "execution_count": 47,
   "id": "71849195-0684-4693-9038-bb28e073197c",
   "metadata": {},
   "outputs": [],
   "source": [
    "# assume non-veg is total cover\n",
    "totcover_nm.rename(columns={'bare soil total cover (%)':'bare ground top cover (%)',\n",
    "                            'rock total cover (%)':'rock top cover (%)',\n",
    "                            'litter total cover (%)':'litter total cover (%)',\n",
    "                            'water total cover (%)':'water top cover (%)'},\n",
    "              inplace=True)\n",
    "# join topcover and ancillary\n",
    "totcover_nm.index = totcover_nm.index.astype(str)\n",
    "totcover_nm = pd.concat([totcover_nm, anc], axis=1)\n",
    "# drop water = 100%\n",
    "totcover_nm = totcover_nm[totcover_nm['water top cover (%)'] != 100]"
   ]
  },
  {
   "cell_type": "code",
   "execution_count": 48,
   "id": "77b9f0f0-64e0-477b-a8ba-04c75de0cbf2",
   "metadata": {},
   "outputs": [],
   "source": [
    "# drop non-veg\n",
    "cols = [col for col in totcover_nm.columns if not 'top cover (%)' in col]\n",
    "totcover_nm = totcover_nm[cols]"
   ]
  },
  {
   "cell_type": "code",
   "execution_count": 49,
   "id": "018173a1-1a08-4b16-aaad-5ba74e3e53d1",
   "metadata": {},
   "outputs": [],
   "source": [
    "totcover_nm = totcover_nm.dropna(how='all')\n",
    "totcover_nm.drop(columns=['unknown total cover (%)'], inplace=True)\n",
    "totcover_nm = totcover_nm.dropna(how='all', subset=['latitude', 'longitude'])"
   ]
  },
  {
   "cell_type": "code",
   "execution_count": 50,
   "id": "456e2980-22d5-426b-a225-73328f27d90f",
   "metadata": {},
   "outputs": [],
   "source": [
    "# export\n",
    "p = '/mnt/poseidon/remotesensing/arctic/data/training/Test_04/original_files/'\n",
    "f = 'NGEE_SP_fcover_total_orig.csv'\n",
    "totcover_nm.to_csv(p + f)"
   ]
  },
  {
   "cell_type": "code",
   "execution_count": 51,
   "id": "3b58cb53-9346-4a91-b75c-b2d047f8ade8",
   "metadata": {},
   "outputs": [
    {
     "data": {
      "text/plain": [
       "98"
      ]
     },
     "execution_count": 51,
     "metadata": {},
     "output_type": "execute_result"
    }
   ],
   "source": [
    "len(totcover_nm)"
   ]
  },
  {
   "cell_type": "markdown",
   "id": "e4c41792-2d9a-4750-9b51-1cd45049ea5c",
   "metadata": {},
   "source": [
    "## Create total cover file (merged)"
   ]
  },
  {
   "cell_type": "code",
   "execution_count": 54,
   "id": "841485a9-d49b-490f-8f93-5f88f8e18dbc",
   "metadata": {},
   "outputs": [],
   "source": [
    "# set index and sort columns\n",
    "totcover = topcover.copy()"
   ]
  },
  {
   "cell_type": "code",
   "execution_count": 55,
   "id": "b183e4db-3c44-41b7-a2f4-ce99a9ae4748",
   "metadata": {},
   "outputs": [],
   "source": [
    "# get total cover from topcover df\n",
    "cols = [col for col in totcover.columns if not 'top cover (%)' in col]\n",
    "totcover = totcover[cols]\n",
    "# remove things\n",
    "totcover = totcover.dropna(how='all')\n",
    "totcover.drop(columns=['unknown total cover (%)'], inplace=True)\n",
    "totcover = totcover.dropna(how='all', subset=['latitude', 'longitude'])"
   ]
  },
  {
   "cell_type": "code",
   "execution_count": 56,
   "id": "d677fc9e-4bd8-48ae-9493-64a9ac9284b1",
   "metadata": {},
   "outputs": [],
   "source": [
    "# export\n",
    "p = '/mnt/poseidon/remotesensing/arctic/data/training/Test_04/original_files/'\n",
    "f = 'NGEE_SP_fcover_total_merged.csv'\n",
    "totcover.to_csv(p + f)"
   ]
  },
  {
   "cell_type": "code",
   "execution_count": 58,
   "id": "767e52d7-1ac9-4b6c-9f56-591ef72779e2",
   "metadata": {},
   "outputs": [
    {
     "data": {
      "text/plain": [
       "98"
      ]
     },
     "execution_count": 58,
     "metadata": {},
     "output_type": "execute_result"
    }
   ],
   "source": [
    "len(totcover)"
   ]
  },
  {
   "cell_type": "markdown",
   "id": "870de125-63f8-43f3-b1c8-a3b45219d38f",
   "metadata": {},
   "source": [
    "## Create all cover file for test 05"
   ]
  },
  {
   "cell_type": "code",
   "execution_count": 59,
   "id": "2c4b53ca-457d-4ad5-8af5-972d3b67ffcc",
   "metadata": {},
   "outputs": [],
   "source": [
    "allcover = topcover.copy()\n",
    "# remove things\n",
    "allcover = allcover.dropna(how='all')\n",
    "allcover.drop(columns=['unknown total cover (%)'], inplace=True)\n",
    "allcover = allcover.dropna(how='all', subset=['latitude', 'longitude'])"
   ]
  },
  {
   "cell_type": "code",
   "execution_count": 60,
   "id": "c606540b-2fac-40a2-ba89-6eede51c4df6",
   "metadata": {},
   "outputs": [],
   "source": [
    "# export\n",
    "p = '/mnt/poseidon/remotesensing/arctic/data/training/Test_05/temp_fcover/'\n",
    "f = 'SP_fcover_child.csv'\n",
    "allcover.to_csv(p + f)"
   ]
  },
  {
   "cell_type": "markdown",
   "id": "9754b20b-2ccd-4e73-83a0-d9ccc6df677e",
   "metadata": {},
   "source": [
    "## Aggregate child plots"
   ]
  },
  {
   "cell_type": "code",
   "execution_count": 61,
   "id": "25a7c2f8-bcfd-4504-808a-2aacd73b1e03",
   "metadata": {},
   "outputs": [],
   "source": [
    "# load total cover\n",
    "p = '/mnt/poseidon/remotesensing/arctic/data/training/Test_05/temp_fcover/'\n",
    "f = 'SP_fcover_child.csv'\n",
    "akava = pd.read_csv(p + f)\n",
    "\n",
    "# only plots with very small sizes need to be processed, \n",
    "# the other remains the same, discarding all plots earlier than 2010\n",
    "akava['plot_radius_m'].astype(float)\n",
    "akava_small_fcover = akava[(akava['plot_radius_m']<10) &  (akava['year']>=2010)]\n",
    "akava_large_fcover = akava[(akava['plot_radius_m']>=10) &  (akava['year']>=2010)]"
   ]
  },
  {
   "cell_type": "code",
   "execution_count": 62,
   "id": "fc905270-f0d5-47eb-a72e-e4a2c270090e",
   "metadata": {},
   "outputs": [
    {
     "data": {
      "text/plain": [
       "98"
      ]
     },
     "execution_count": 62,
     "metadata": {},
     "output_type": "execute_result"
    }
   ],
   "source": [
    "len(akava_small_fcover)"
   ]
  },
  {
   "cell_type": "code",
   "execution_count": 63,
   "id": "397f31a7-791e-4851-bd0b-0e05615f4aae",
   "metadata": {},
   "outputs": [
    {
     "data": {
      "text/html": [
       "<div>\n",
       "<style scoped>\n",
       "    .dataframe tbody tr th:only-of-type {\n",
       "        vertical-align: middle;\n",
       "    }\n",
       "\n",
       "    .dataframe tbody tr th {\n",
       "        vertical-align: top;\n",
       "    }\n",
       "\n",
       "    .dataframe thead th {\n",
       "        text-align: right;\n",
       "    }\n",
       "</style>\n",
       "<table border=\"1\" class=\"dataframe\">\n",
       "  <thead>\n",
       "    <tr style=\"text-align: right;\">\n",
       "      <th></th>\n",
       "      <th>Site Code</th>\n",
       "      <th>year</th>\n",
       "      <th>latitude</th>\n",
       "      <th>longitude</th>\n",
       "      <th>source</th>\n",
       "      <th>plot_radius_m</th>\n",
       "    </tr>\n",
       "  </thead>\n",
       "  <tbody>\n",
       "    <tr>\n",
       "      <th>0</th>\n",
       "      <td>CL_EL1_Vg_Comp</td>\n",
       "      <td>2018.0</td>\n",
       "      <td>64.845250</td>\n",
       "      <td>-163.782758</td>\n",
       "      <td>SP</td>\n",
       "      <td>1.25</td>\n",
       "    </tr>\n",
       "    <tr>\n",
       "      <th>1</th>\n",
       "      <td>CL_EL2_Vg_Comp</td>\n",
       "      <td>2018.0</td>\n",
       "      <td>64.845515</td>\n",
       "      <td>-163.784122</td>\n",
       "      <td>SP</td>\n",
       "      <td>1.25</td>\n",
       "    </tr>\n",
       "    <tr>\n",
       "      <th>2</th>\n",
       "      <td>CL_PMRB1_Vg_Comp</td>\n",
       "      <td>2018.0</td>\n",
       "      <td>64.859610</td>\n",
       "      <td>-163.691640</td>\n",
       "      <td>SP</td>\n",
       "      <td>1.25</td>\n",
       "    </tr>\n",
       "    <tr>\n",
       "      <th>3</th>\n",
       "      <td>CL_PMRB2_Vg_Comp</td>\n",
       "      <td>2018.0</td>\n",
       "      <td>64.859995</td>\n",
       "      <td>-163.687948</td>\n",
       "      <td>SP</td>\n",
       "      <td>1.25</td>\n",
       "    </tr>\n",
       "    <tr>\n",
       "      <th>4</th>\n",
       "      <td>CL_PMRB3_Vg_Comp</td>\n",
       "      <td>2018.0</td>\n",
       "      <td>64.856385</td>\n",
       "      <td>-163.692985</td>\n",
       "      <td>SP</td>\n",
       "      <td>1.25</td>\n",
       "    </tr>\n",
       "  </tbody>\n",
       "</table>\n",
       "</div>"
      ],
      "text/plain": [
       "          Site Code    year   latitude   longitude source  plot_radius_m\n",
       "0    CL_EL1_Vg_Comp  2018.0  64.845250 -163.782758     SP           1.25\n",
       "1    CL_EL2_Vg_Comp  2018.0  64.845515 -163.784122     SP           1.25\n",
       "2  CL_PMRB1_Vg_Comp  2018.0  64.859610 -163.691640     SP           1.25\n",
       "3  CL_PMRB2_Vg_Comp  2018.0  64.859995 -163.687948     SP           1.25\n",
       "4  CL_PMRB3_Vg_Comp  2018.0  64.856385 -163.692985     SP           1.25"
      ]
     },
     "execution_count": 63,
     "metadata": {},
     "output_type": "execute_result"
    }
   ],
   "source": [
    "selected_columns = ['Site Code', 'year', 'latitude', 'longitude', 'source', 'plot_radius_m']\n",
    "akava_small = akava_small_fcover[selected_columns]\n",
    "# akava_small = akava.fillna(0)\n",
    "akava_small.head()"
   ]
  },
  {
   "cell_type": "code",
   "execution_count": 64,
   "id": "1216d5a3-01a3-4cc7-9167-0c96a4cd72df",
   "metadata": {},
   "outputs": [],
   "source": [
    "#### transform geographic to utm so that distance caculation is more intuitive\n",
    "from pyproj import Transformer\n",
    "src_crs = \"EPSG:4326\"\n",
    "target_crs = \"EPSG:32606\"\n",
    "transformer = Transformer.from_crs(src_crs, target_crs)\n",
    "\n",
    "lon = akava_small['longitude'].to_numpy()\n",
    "lat = akava_small['latitude'].to_numpy()\n",
    "\n",
    "#### store the projected coords\n",
    "projcoords = []   \n",
    "for i in range(0,akava_small.shape[0]):\n",
    "    xcoord, ycoord = lon[i],lat[i]\n",
    "    projcoords.append(transformer.transform(ycoord,xcoord))"
   ]
  },
  {
   "cell_type": "code",
   "execution_count": 65,
   "id": "6f5a1575-ee70-40ef-92de-792fa0f7d012",
   "metadata": {},
   "outputs": [],
   "source": [
    "#### calculate the distance matrix of all small plots (for examination)\n",
    "from scipy.spatial.distance import cdist\n",
    "coord = np.array(projcoords)\n",
    "dist_mat = cdist(coord, coord, 'euclidean')\n",
    "# dist_mat[:3,:] <= 60"
   ]
  },
  {
   "cell_type": "code",
   "execution_count": 66,
   "id": "97fd9e3e-bd6f-4751-bcfa-c4d623c7937f",
   "metadata": {},
   "outputs": [],
   "source": [
    "### group pixels/plots based on their euclidean distance\n",
    "def group_pixels_by_distance(pixel_data, distance_threshold):\n",
    "    \"\"\"\n",
    "        pixel_data: ndarray of coordinate pair: n by 2, default is utm projection\n",
    "        distance_threshold: threshold used for grouping, default is 60m\n",
    "        \n",
    "        return:\n",
    "        a list of values indicating the group id of each pixel\n",
    "    \n",
    "    \"\"\"\n",
    "    cluster_id = 0\n",
    "    pixel_clusters = {}\n",
    "   \n",
    "    def expand_cluster(pixel, cluster_id):\n",
    "        if pixel_clusters.get(cluster_id) is None:\n",
    "            pixel_clusters[cluster_id] = []\n",
    "       \n",
    "        pixel_clusters[cluster_id].append(pixel)\n",
    "\n",
    "    cluster_array = np.full(len(pixel_data), -1)  # Initialize with -1 (unassigned)\n",
    "   \n",
    "    for i, pixel in enumerate(pixel_data):\n",
    "        assigned = False\n",
    "       \n",
    "        for c_id, cluster_pixels in pixel_clusters.items():\n",
    "            cluster_pixels = np.array(cluster_pixels)\n",
    "            distances = np.linalg.norm(cluster_pixels - pixel, axis=1)\n",
    "            if np.any(distances <= distance_threshold):\n",
    "                expand_cluster(pixel, c_id)\n",
    "                assigned = True\n",
    "                cluster_array[i] = c_id\n",
    "                break\n",
    "       \n",
    "        if not assigned:\n",
    "            expand_cluster(pixel, cluster_id)\n",
    "            cluster_array[i] = cluster_id\n",
    "            cluster_id += 1\n",
    "\n",
    "    return cluster_array\n",
    "\n",
    "dist_thres = 55\n",
    "coord = np.array(projcoords)  ## UTM coords, unit is meter\n",
    "group = group_pixels_by_distance(coord, dist_thres)"
   ]
  },
  {
   "cell_type": "code",
   "execution_count": 67,
   "id": "6caf9dfc-ed81-4b53-96b4-0013db96867e",
   "metadata": {},
   "outputs": [
    {
     "name": "stderr",
     "output_type": "stream",
     "text": [
      "/tmp/ipykernel_202489/1678942659.py:2: SettingWithCopyWarning: \n",
      "A value is trying to be set on a copy of a slice from a DataFrame.\n",
      "Try using .loc[row_indexer,col_indexer] = value instead\n",
      "\n",
      "See the caveats in the documentation: https://pandas.pydata.org/pandas-docs/stable/user_guide/indexing.html#returning-a-view-versus-a-copy\n",
      "  akava_small['group_id'] = group\n"
     ]
    },
    {
     "data": {
      "text/html": [
       "<div>\n",
       "<style scoped>\n",
       "    .dataframe tbody tr th:only-of-type {\n",
       "        vertical-align: middle;\n",
       "    }\n",
       "\n",
       "    .dataframe tbody tr th {\n",
       "        vertical-align: top;\n",
       "    }\n",
       "\n",
       "    .dataframe thead th {\n",
       "        text-align: right;\n",
       "    }\n",
       "</style>\n",
       "<table border=\"1\" class=\"dataframe\">\n",
       "  <thead>\n",
       "    <tr style=\"text-align: right;\">\n",
       "      <th></th>\n",
       "      <th>Site Code</th>\n",
       "      <th>year</th>\n",
       "      <th>latitude</th>\n",
       "      <th>longitude</th>\n",
       "      <th>source</th>\n",
       "      <th>plot_radius_m</th>\n",
       "      <th>group_id</th>\n",
       "    </tr>\n",
       "  </thead>\n",
       "  <tbody>\n",
       "    <tr>\n",
       "      <th>0</th>\n",
       "      <td>CL_EL1_Vg_Comp</td>\n",
       "      <td>2018.0</td>\n",
       "      <td>64.845250</td>\n",
       "      <td>-163.782758</td>\n",
       "      <td>SP</td>\n",
       "      <td>1.25</td>\n",
       "      <td>0</td>\n",
       "    </tr>\n",
       "    <tr>\n",
       "      <th>1</th>\n",
       "      <td>CL_EL2_Vg_Comp</td>\n",
       "      <td>2018.0</td>\n",
       "      <td>64.845515</td>\n",
       "      <td>-163.784122</td>\n",
       "      <td>SP</td>\n",
       "      <td>1.25</td>\n",
       "      <td>1</td>\n",
       "    </tr>\n",
       "    <tr>\n",
       "      <th>2</th>\n",
       "      <td>CL_PMRB1_Vg_Comp</td>\n",
       "      <td>2018.0</td>\n",
       "      <td>64.859610</td>\n",
       "      <td>-163.691640</td>\n",
       "      <td>SP</td>\n",
       "      <td>1.25</td>\n",
       "      <td>2</td>\n",
       "    </tr>\n",
       "    <tr>\n",
       "      <th>3</th>\n",
       "      <td>CL_PMRB2_Vg_Comp</td>\n",
       "      <td>2018.0</td>\n",
       "      <td>64.859995</td>\n",
       "      <td>-163.687948</td>\n",
       "      <td>SP</td>\n",
       "      <td>1.25</td>\n",
       "      <td>3</td>\n",
       "    </tr>\n",
       "    <tr>\n",
       "      <th>4</th>\n",
       "      <td>CL_PMRB3_Vg_Comp</td>\n",
       "      <td>2018.0</td>\n",
       "      <td>64.856385</td>\n",
       "      <td>-163.692985</td>\n",
       "      <td>SP</td>\n",
       "      <td>1.25</td>\n",
       "      <td>4</td>\n",
       "    </tr>\n",
       "  </tbody>\n",
       "</table>\n",
       "</div>"
      ],
      "text/plain": [
       "          Site Code    year   latitude   longitude source  plot_radius_m  \\\n",
       "0    CL_EL1_Vg_Comp  2018.0  64.845250 -163.782758     SP           1.25   \n",
       "1    CL_EL2_Vg_Comp  2018.0  64.845515 -163.784122     SP           1.25   \n",
       "2  CL_PMRB1_Vg_Comp  2018.0  64.859610 -163.691640     SP           1.25   \n",
       "3  CL_PMRB2_Vg_Comp  2018.0  64.859995 -163.687948     SP           1.25   \n",
       "4  CL_PMRB3_Vg_Comp  2018.0  64.856385 -163.692985     SP           1.25   \n",
       "\n",
       "   group_id  \n",
       "0         0  \n",
       "1         1  \n",
       "2         2  \n",
       "3         3  \n",
       "4         4  "
      ]
     },
     "execution_count": 67,
     "metadata": {},
     "output_type": "execute_result"
    }
   ],
   "source": [
    "### add the group id to df for aggregation\n",
    "akava_small['group_id'] = group\n",
    "akava_small.head()"
   ]
  },
  {
   "cell_type": "code",
   "execution_count": 74,
   "id": "8c22c9bc-88c0-4613-b368-09cba0fb3e59",
   "metadata": {},
   "outputs": [],
   "source": [
    "groups = akava_small.groupby(['group_id', \n",
    "                              'year', 'source']).agg({'latitude':'mean',\n",
    "                                            'longitude':'mean',\n",
    "                                            'Site Code':list,\n",
    "                                            'plot_radius_m':list})"
   ]
  },
  {
   "cell_type": "code",
   "execution_count": 75,
   "id": "aae97496-fb95-46be-bfbe-ced93bc517f7",
   "metadata": {},
   "outputs": [],
   "source": [
    "def get_plot_size(rowlst):\n",
    "    if len(rowlst) == 1:\n",
    "        val = rowlst[0]\n",
    "    else:\n",
    "        val = 55\n",
    "    return val\n",
    "groups['plot_radius_m'] = groups['plot_radius_m'].apply(lambda row: get_plot_size(row))"
   ]
  },
  {
   "cell_type": "code",
   "execution_count": 76,
   "id": "842b26ab-a5f0-460f-b4d6-1ea027cd6bbf",
   "metadata": {},
   "outputs": [],
   "source": [
    "groups2 = groups.explode('Site Code')"
   ]
  },
  {
   "cell_type": "code",
   "execution_count": 77,
   "id": "4919d52f-a648-463a-a6f5-ab93e5786ca7",
   "metadata": {},
   "outputs": [],
   "source": [
    "groups2.reset_index(inplace=True)\n",
    "groups2['parent_id'] = (groups2['group_id'].astype(str) + '_' + \n",
    "                        groups2['year'].astype(int).astype(str) + '_' +\n",
    "                        groups2['source'])\n",
    "groups2.rename(columns={'latitude':'parent_latitude',\n",
    "                        'longitude':'parent_longitude'},\n",
    "               inplace=True)\n",
    "groups2.drop(columns=['group_id', 'year', 'source'], inplace=True)"
   ]
  },
  {
   "cell_type": "code",
   "execution_count": 78,
   "id": "5f57a3b3-32e9-4150-bc96-393cbf250e00",
   "metadata": {},
   "outputs": [
    {
     "data": {
      "text/plain": [
       "Index(['bare ground top cover (%)', 'bryophyte total cover (%)',\n",
       "       'deciduous dwarf shrub total cover (%)',\n",
       "       'deciduous dwarf to low shrub total cover (%)',\n",
       "       'deciduous dwarf to tall shrub total cover (%)',\n",
       "       'deciduous dwarf to tree total cover (%)',\n",
       "       'deciduous tree total cover (%)',\n",
       "       'evergreen dwarf shrub total cover (%)',\n",
       "       'evergreen dwarf to low shrub total cover (%)',\n",
       "       'evergreen dwarf to tall shrub total cover (%)',\n",
       "       'evergreen dwarf to tree total cover (%)',\n",
       "       'evergreen tree total cover (%)', 'forb total cover (%)',\n",
       "       'graminoid total cover (%)', 'lichen total cover (%)',\n",
       "       'litter total cover (%)', 'water top cover (%)', 'latitude',\n",
       "       'longitude', 'year', 'source', 'parent_latitude', 'parent_longitude',\n",
       "       'plot_radius_m', 'parent_id'],\n",
       "      dtype='object')"
      ]
     },
     "execution_count": 78,
     "metadata": {},
     "output_type": "execute_result"
    }
   ],
   "source": [
    "groups2.set_index('Site Code', inplace=True)\n",
    "asf = akava_small_fcover.set_index('Site Code')\n",
    "asf.drop(columns=['plot_radius_m'], inplace=True)\n",
    "joined = pd.concat([asf, groups2], axis=1)\n",
    "joined.columns"
   ]
  },
  {
   "cell_type": "code",
   "execution_count": 89,
   "id": "81420143-fbea-4638-b750-6fcd65ac8632",
   "metadata": {},
   "outputs": [],
   "source": [
    "info_cols = ['parent_latitude', 'parent_longitude', 'plot_radius_m']\n",
    "data_cols = [col for col in joined.columns if 'cover (%)' in col]\n",
    "anci_cols = set(joined.columns) - set(data_cols) - set(info_cols)\n",
    "info_dict = dict.fromkeys(info_cols, 'mean')\n",
    "data_dict = dict.fromkeys(data_cols, 'mean')\n",
    "anci_dict = dict.fromkeys(anci_cols, set)\n",
    "d = {**data_dict, **info_dict, **anci_dict}\n",
    "\n",
    "parent_plots = joined.groupby('parent_id').agg(d)"
   ]
  },
  {
   "cell_type": "code",
   "execution_count": 90,
   "id": "94660135-31a1-4291-925b-b88cc7a9e066",
   "metadata": {},
   "outputs": [],
   "source": [
    "parent_plots.drop(columns=['latitude', 'longitude', 'parent_id', \n",
    "                           'source'],\n",
    "                 inplace=True)"
   ]
  },
  {
   "cell_type": "code",
   "execution_count": 91,
   "id": "7e049f66-ae5c-4fff-8d59-8b513d30601d",
   "metadata": {},
   "outputs": [],
   "source": [
    "parent_plots['year'] = parent_plots['year'].explode()\n",
    "parent_plots['source'] = 'NGEE_SP'\n",
    "parent_plots.rename(columns={'Site Code':'child_site_codes',\n",
    "                             'parent_longitude':'longitude',\n",
    "                             'parent_latitude':'latitude'}, \n",
    "                    inplace=True)\n",
    "parent_plots.index.name = 'Site Code'"
   ]
  },
  {
   "cell_type": "code",
   "execution_count": 92,
   "id": "4cc22ebf-09af-48a5-a7d2-87e83b11e002",
   "metadata": {},
   "outputs": [],
   "source": [
    "parent_plots['year'] = parent_plots['year'].astype(int)"
   ]
  },
  {
   "cell_type": "code",
   "execution_count": 93,
   "id": "828b1583-9525-4be3-985e-7aa37658de3a",
   "metadata": {},
   "outputs": [
    {
     "data": {
      "text/html": [
       "<div>\n",
       "<style scoped>\n",
       "    .dataframe tbody tr th:only-of-type {\n",
       "        vertical-align: middle;\n",
       "    }\n",
       "\n",
       "    .dataframe tbody tr th {\n",
       "        vertical-align: top;\n",
       "    }\n",
       "\n",
       "    .dataframe thead th {\n",
       "        text-align: right;\n",
       "    }\n",
       "</style>\n",
       "<table border=\"1\" class=\"dataframe\">\n",
       "  <thead>\n",
       "    <tr style=\"text-align: right;\">\n",
       "      <th></th>\n",
       "      <th>bare ground top cover (%)</th>\n",
       "      <th>bryophyte total cover (%)</th>\n",
       "      <th>deciduous dwarf shrub total cover (%)</th>\n",
       "      <th>deciduous dwarf to low shrub total cover (%)</th>\n",
       "      <th>deciduous dwarf to tall shrub total cover (%)</th>\n",
       "      <th>deciduous dwarf to tree total cover (%)</th>\n",
       "      <th>deciduous tree total cover (%)</th>\n",
       "      <th>evergreen dwarf shrub total cover (%)</th>\n",
       "      <th>evergreen dwarf to low shrub total cover (%)</th>\n",
       "      <th>evergreen dwarf to tall shrub total cover (%)</th>\n",
       "      <th>...</th>\n",
       "      <th>forb total cover (%)</th>\n",
       "      <th>graminoid total cover (%)</th>\n",
       "      <th>lichen total cover (%)</th>\n",
       "      <th>litter total cover (%)</th>\n",
       "      <th>water top cover (%)</th>\n",
       "      <th>latitude</th>\n",
       "      <th>longitude</th>\n",
       "      <th>plot_radius_m</th>\n",
       "      <th>year</th>\n",
       "      <th>source</th>\n",
       "    </tr>\n",
       "    <tr>\n",
       "      <th>Site Code</th>\n",
       "      <th></th>\n",
       "      <th></th>\n",
       "      <th></th>\n",
       "      <th></th>\n",
       "      <th></th>\n",
       "      <th></th>\n",
       "      <th></th>\n",
       "      <th></th>\n",
       "      <th></th>\n",
       "      <th></th>\n",
       "      <th></th>\n",
       "      <th></th>\n",
       "      <th></th>\n",
       "      <th></th>\n",
       "      <th></th>\n",
       "      <th></th>\n",
       "      <th></th>\n",
       "      <th></th>\n",
       "      <th></th>\n",
       "      <th></th>\n",
       "      <th></th>\n",
       "    </tr>\n",
       "  </thead>\n",
       "  <tbody>\n",
       "    <tr>\n",
       "      <th>0_2018_SP</th>\n",
       "      <td>1.0</td>\n",
       "      <td>9.0</td>\n",
       "      <td>3.0</td>\n",
       "      <td>12.0</td>\n",
       "      <td>0.0</td>\n",
       "      <td>0.0</td>\n",
       "      <td>0.0</td>\n",
       "      <td>49.0</td>\n",
       "      <td>2.0</td>\n",
       "      <td>0.0</td>\n",
       "      <td>...</td>\n",
       "      <td>0.0</td>\n",
       "      <td>3.0</td>\n",
       "      <td>48.0</td>\n",
       "      <td>2.0</td>\n",
       "      <td>0.0</td>\n",
       "      <td>64.845250</td>\n",
       "      <td>-163.782758</td>\n",
       "      <td>1.25</td>\n",
       "      <td>2018</td>\n",
       "      <td>NGEE_SP</td>\n",
       "    </tr>\n",
       "    <tr>\n",
       "      <th>10_2018_SP</th>\n",
       "      <td>0.0</td>\n",
       "      <td>53.0</td>\n",
       "      <td>0.0</td>\n",
       "      <td>60.0</td>\n",
       "      <td>0.0</td>\n",
       "      <td>0.0</td>\n",
       "      <td>0.0</td>\n",
       "      <td>0.0</td>\n",
       "      <td>0.0</td>\n",
       "      <td>0.0</td>\n",
       "      <td>...</td>\n",
       "      <td>8.0</td>\n",
       "      <td>44.0</td>\n",
       "      <td>0.0</td>\n",
       "      <td>5.0</td>\n",
       "      <td>0.0</td>\n",
       "      <td>64.859385</td>\n",
       "      <td>-163.703835</td>\n",
       "      <td>1.25</td>\n",
       "      <td>2018</td>\n",
       "      <td>NGEE_SP</td>\n",
       "    </tr>\n",
       "    <tr>\n",
       "      <th>11_2018_SP</th>\n",
       "      <td>0.0</td>\n",
       "      <td>30.0</td>\n",
       "      <td>0.0</td>\n",
       "      <td>70.0</td>\n",
       "      <td>0.0</td>\n",
       "      <td>0.0</td>\n",
       "      <td>0.0</td>\n",
       "      <td>0.0</td>\n",
       "      <td>1.0</td>\n",
       "      <td>0.0</td>\n",
       "      <td>...</td>\n",
       "      <td>2.0</td>\n",
       "      <td>63.0</td>\n",
       "      <td>0.0</td>\n",
       "      <td>4.0</td>\n",
       "      <td>10.0</td>\n",
       "      <td>64.858285</td>\n",
       "      <td>-163.712740</td>\n",
       "      <td>1.25</td>\n",
       "      <td>2018</td>\n",
       "      <td>NGEE_SP</td>\n",
       "    </tr>\n",
       "    <tr>\n",
       "      <th>12_2018_SP</th>\n",
       "      <td>0.0</td>\n",
       "      <td>3.0</td>\n",
       "      <td>0.0</td>\n",
       "      <td>37.0</td>\n",
       "      <td>0.0</td>\n",
       "      <td>0.0</td>\n",
       "      <td>0.0</td>\n",
       "      <td>17.0</td>\n",
       "      <td>5.0</td>\n",
       "      <td>0.0</td>\n",
       "      <td>...</td>\n",
       "      <td>1.0</td>\n",
       "      <td>3.0</td>\n",
       "      <td>122.0</td>\n",
       "      <td>3.0</td>\n",
       "      <td>0.0</td>\n",
       "      <td>64.857520</td>\n",
       "      <td>-163.693148</td>\n",
       "      <td>1.25</td>\n",
       "      <td>2018</td>\n",
       "      <td>NGEE_SP</td>\n",
       "    </tr>\n",
       "    <tr>\n",
       "      <th>13_2018_SP</th>\n",
       "      <td>0.0</td>\n",
       "      <td>6.0</td>\n",
       "      <td>0.0</td>\n",
       "      <td>26.0</td>\n",
       "      <td>0.0</td>\n",
       "      <td>0.0</td>\n",
       "      <td>0.0</td>\n",
       "      <td>9.0</td>\n",
       "      <td>7.0</td>\n",
       "      <td>0.0</td>\n",
       "      <td>...</td>\n",
       "      <td>0.0</td>\n",
       "      <td>2.0</td>\n",
       "      <td>99.0</td>\n",
       "      <td>5.0</td>\n",
       "      <td>0.0</td>\n",
       "      <td>64.860790</td>\n",
       "      <td>-163.698248</td>\n",
       "      <td>1.25</td>\n",
       "      <td>2018</td>\n",
       "      <td>NGEE_SP</td>\n",
       "    </tr>\n",
       "    <tr>\n",
       "      <th>...</th>\n",
       "      <td>...</td>\n",
       "      <td>...</td>\n",
       "      <td>...</td>\n",
       "      <td>...</td>\n",
       "      <td>...</td>\n",
       "      <td>...</td>\n",
       "      <td>...</td>\n",
       "      <td>...</td>\n",
       "      <td>...</td>\n",
       "      <td>...</td>\n",
       "      <td>...</td>\n",
       "      <td>...</td>\n",
       "      <td>...</td>\n",
       "      <td>...</td>\n",
       "      <td>...</td>\n",
       "      <td>...</td>\n",
       "      <td>...</td>\n",
       "      <td>...</td>\n",
       "      <td>...</td>\n",
       "      <td>...</td>\n",
       "      <td>...</td>\n",
       "    </tr>\n",
       "    <tr>\n",
       "      <th>83_2017_SP</th>\n",
       "      <td>0.0</td>\n",
       "      <td>12.0</td>\n",
       "      <td>0.0</td>\n",
       "      <td>0.0</td>\n",
       "      <td>0.0</td>\n",
       "      <td>0.0</td>\n",
       "      <td>0.0</td>\n",
       "      <td>0.0</td>\n",
       "      <td>0.0</td>\n",
       "      <td>0.0</td>\n",
       "      <td>...</td>\n",
       "      <td>0.0</td>\n",
       "      <td>0.0</td>\n",
       "      <td>0.0</td>\n",
       "      <td>0.0</td>\n",
       "      <td>0.0</td>\n",
       "      <td>64.743175</td>\n",
       "      <td>-165.963990</td>\n",
       "      <td>1.25</td>\n",
       "      <td>2017</td>\n",
       "      <td>NGEE_SP</td>\n",
       "    </tr>\n",
       "    <tr>\n",
       "      <th>84_2017_SP</th>\n",
       "      <td>0.0</td>\n",
       "      <td>48.5</td>\n",
       "      <td>0.0</td>\n",
       "      <td>0.0</td>\n",
       "      <td>0.0</td>\n",
       "      <td>0.0</td>\n",
       "      <td>0.0</td>\n",
       "      <td>0.0</td>\n",
       "      <td>0.0</td>\n",
       "      <td>0.0</td>\n",
       "      <td>...</td>\n",
       "      <td>0.0</td>\n",
       "      <td>0.0</td>\n",
       "      <td>0.0</td>\n",
       "      <td>0.0</td>\n",
       "      <td>0.0</td>\n",
       "      <td>64.729570</td>\n",
       "      <td>-165.944735</td>\n",
       "      <td>55.00</td>\n",
       "      <td>2017</td>\n",
       "      <td>NGEE_SP</td>\n",
       "    </tr>\n",
       "    <tr>\n",
       "      <th>85_2017_SP</th>\n",
       "      <td>0.0</td>\n",
       "      <td>44.0</td>\n",
       "      <td>0.0</td>\n",
       "      <td>0.0</td>\n",
       "      <td>0.0</td>\n",
       "      <td>0.0</td>\n",
       "      <td>0.0</td>\n",
       "      <td>0.0</td>\n",
       "      <td>0.0</td>\n",
       "      <td>0.0</td>\n",
       "      <td>...</td>\n",
       "      <td>0.0</td>\n",
       "      <td>0.0</td>\n",
       "      <td>0.0</td>\n",
       "      <td>0.0</td>\n",
       "      <td>0.0</td>\n",
       "      <td>64.736497</td>\n",
       "      <td>-165.948845</td>\n",
       "      <td>1.25</td>\n",
       "      <td>2017</td>\n",
       "      <td>NGEE_SP</td>\n",
       "    </tr>\n",
       "    <tr>\n",
       "      <th>8_2018_SP</th>\n",
       "      <td>0.0</td>\n",
       "      <td>35.0</td>\n",
       "      <td>0.0</td>\n",
       "      <td>12.0</td>\n",
       "      <td>0.0</td>\n",
       "      <td>0.0</td>\n",
       "      <td>0.0</td>\n",
       "      <td>9.5</td>\n",
       "      <td>4.0</td>\n",
       "      <td>0.0</td>\n",
       "      <td>...</td>\n",
       "      <td>2.5</td>\n",
       "      <td>40.5</td>\n",
       "      <td>18.5</td>\n",
       "      <td>8.0</td>\n",
       "      <td>2.0</td>\n",
       "      <td>64.860154</td>\n",
       "      <td>-163.697310</td>\n",
       "      <td>55.00</td>\n",
       "      <td>2018</td>\n",
       "      <td>NGEE_SP</td>\n",
       "    </tr>\n",
       "    <tr>\n",
       "      <th>9_2018_SP</th>\n",
       "      <td>0.0</td>\n",
       "      <td>47.0</td>\n",
       "      <td>0.0</td>\n",
       "      <td>40.0</td>\n",
       "      <td>0.0</td>\n",
       "      <td>0.0</td>\n",
       "      <td>0.0</td>\n",
       "      <td>7.0</td>\n",
       "      <td>0.0</td>\n",
       "      <td>0.0</td>\n",
       "      <td>...</td>\n",
       "      <td>0.0</td>\n",
       "      <td>81.0</td>\n",
       "      <td>0.0</td>\n",
       "      <td>6.0</td>\n",
       "      <td>25.0</td>\n",
       "      <td>64.856472</td>\n",
       "      <td>-163.689893</td>\n",
       "      <td>1.25</td>\n",
       "      <td>2018</td>\n",
       "      <td>NGEE_SP</td>\n",
       "    </tr>\n",
       "  </tbody>\n",
       "</table>\n",
       "<p>86 rows × 22 columns</p>\n",
       "</div>"
      ],
      "text/plain": [
       "            bare ground top cover (%)  bryophyte total cover (%)  \\\n",
       "Site Code                                                          \n",
       "0_2018_SP                         1.0                        9.0   \n",
       "10_2018_SP                        0.0                       53.0   \n",
       "11_2018_SP                        0.0                       30.0   \n",
       "12_2018_SP                        0.0                        3.0   \n",
       "13_2018_SP                        0.0                        6.0   \n",
       "...                               ...                        ...   \n",
       "83_2017_SP                        0.0                       12.0   \n",
       "84_2017_SP                        0.0                       48.5   \n",
       "85_2017_SP                        0.0                       44.0   \n",
       "8_2018_SP                         0.0                       35.0   \n",
       "9_2018_SP                         0.0                       47.0   \n",
       "\n",
       "            deciduous dwarf shrub total cover (%)  \\\n",
       "Site Code                                           \n",
       "0_2018_SP                                     3.0   \n",
       "10_2018_SP                                    0.0   \n",
       "11_2018_SP                                    0.0   \n",
       "12_2018_SP                                    0.0   \n",
       "13_2018_SP                                    0.0   \n",
       "...                                           ...   \n",
       "83_2017_SP                                    0.0   \n",
       "84_2017_SP                                    0.0   \n",
       "85_2017_SP                                    0.0   \n",
       "8_2018_SP                                     0.0   \n",
       "9_2018_SP                                     0.0   \n",
       "\n",
       "            deciduous dwarf to low shrub total cover (%)  \\\n",
       "Site Code                                                  \n",
       "0_2018_SP                                           12.0   \n",
       "10_2018_SP                                          60.0   \n",
       "11_2018_SP                                          70.0   \n",
       "12_2018_SP                                          37.0   \n",
       "13_2018_SP                                          26.0   \n",
       "...                                                  ...   \n",
       "83_2017_SP                                           0.0   \n",
       "84_2017_SP                                           0.0   \n",
       "85_2017_SP                                           0.0   \n",
       "8_2018_SP                                           12.0   \n",
       "9_2018_SP                                           40.0   \n",
       "\n",
       "            deciduous dwarf to tall shrub total cover (%)  \\\n",
       "Site Code                                                   \n",
       "0_2018_SP                                             0.0   \n",
       "10_2018_SP                                            0.0   \n",
       "11_2018_SP                                            0.0   \n",
       "12_2018_SP                                            0.0   \n",
       "13_2018_SP                                            0.0   \n",
       "...                                                   ...   \n",
       "83_2017_SP                                            0.0   \n",
       "84_2017_SP                                            0.0   \n",
       "85_2017_SP                                            0.0   \n",
       "8_2018_SP                                             0.0   \n",
       "9_2018_SP                                             0.0   \n",
       "\n",
       "            deciduous dwarf to tree total cover (%)  \\\n",
       "Site Code                                             \n",
       "0_2018_SP                                       0.0   \n",
       "10_2018_SP                                      0.0   \n",
       "11_2018_SP                                      0.0   \n",
       "12_2018_SP                                      0.0   \n",
       "13_2018_SP                                      0.0   \n",
       "...                                             ...   \n",
       "83_2017_SP                                      0.0   \n",
       "84_2017_SP                                      0.0   \n",
       "85_2017_SP                                      0.0   \n",
       "8_2018_SP                                       0.0   \n",
       "9_2018_SP                                       0.0   \n",
       "\n",
       "            deciduous tree total cover (%)  \\\n",
       "Site Code                                    \n",
       "0_2018_SP                              0.0   \n",
       "10_2018_SP                             0.0   \n",
       "11_2018_SP                             0.0   \n",
       "12_2018_SP                             0.0   \n",
       "13_2018_SP                             0.0   \n",
       "...                                    ...   \n",
       "83_2017_SP                             0.0   \n",
       "84_2017_SP                             0.0   \n",
       "85_2017_SP                             0.0   \n",
       "8_2018_SP                              0.0   \n",
       "9_2018_SP                              0.0   \n",
       "\n",
       "            evergreen dwarf shrub total cover (%)  \\\n",
       "Site Code                                           \n",
       "0_2018_SP                                    49.0   \n",
       "10_2018_SP                                    0.0   \n",
       "11_2018_SP                                    0.0   \n",
       "12_2018_SP                                   17.0   \n",
       "13_2018_SP                                    9.0   \n",
       "...                                           ...   \n",
       "83_2017_SP                                    0.0   \n",
       "84_2017_SP                                    0.0   \n",
       "85_2017_SP                                    0.0   \n",
       "8_2018_SP                                     9.5   \n",
       "9_2018_SP                                     7.0   \n",
       "\n",
       "            evergreen dwarf to low shrub total cover (%)  \\\n",
       "Site Code                                                  \n",
       "0_2018_SP                                            2.0   \n",
       "10_2018_SP                                           0.0   \n",
       "11_2018_SP                                           1.0   \n",
       "12_2018_SP                                           5.0   \n",
       "13_2018_SP                                           7.0   \n",
       "...                                                  ...   \n",
       "83_2017_SP                                           0.0   \n",
       "84_2017_SP                                           0.0   \n",
       "85_2017_SP                                           0.0   \n",
       "8_2018_SP                                            4.0   \n",
       "9_2018_SP                                            0.0   \n",
       "\n",
       "            evergreen dwarf to tall shrub total cover (%)  ...  \\\n",
       "Site Code                                                  ...   \n",
       "0_2018_SP                                             0.0  ...   \n",
       "10_2018_SP                                            0.0  ...   \n",
       "11_2018_SP                                            0.0  ...   \n",
       "12_2018_SP                                            0.0  ...   \n",
       "13_2018_SP                                            0.0  ...   \n",
       "...                                                   ...  ...   \n",
       "83_2017_SP                                            0.0  ...   \n",
       "84_2017_SP                                            0.0  ...   \n",
       "85_2017_SP                                            0.0  ...   \n",
       "8_2018_SP                                             0.0  ...   \n",
       "9_2018_SP                                             0.0  ...   \n",
       "\n",
       "            forb total cover (%)  graminoid total cover (%)  \\\n",
       "Site Code                                                     \n",
       "0_2018_SP                    0.0                        3.0   \n",
       "10_2018_SP                   8.0                       44.0   \n",
       "11_2018_SP                   2.0                       63.0   \n",
       "12_2018_SP                   1.0                        3.0   \n",
       "13_2018_SP                   0.0                        2.0   \n",
       "...                          ...                        ...   \n",
       "83_2017_SP                   0.0                        0.0   \n",
       "84_2017_SP                   0.0                        0.0   \n",
       "85_2017_SP                   0.0                        0.0   \n",
       "8_2018_SP                    2.5                       40.5   \n",
       "9_2018_SP                    0.0                       81.0   \n",
       "\n",
       "            lichen total cover (%)  litter total cover (%)  \\\n",
       "Site Code                                                    \n",
       "0_2018_SP                     48.0                     2.0   \n",
       "10_2018_SP                     0.0                     5.0   \n",
       "11_2018_SP                     0.0                     4.0   \n",
       "12_2018_SP                   122.0                     3.0   \n",
       "13_2018_SP                    99.0                     5.0   \n",
       "...                            ...                     ...   \n",
       "83_2017_SP                     0.0                     0.0   \n",
       "84_2017_SP                     0.0                     0.0   \n",
       "85_2017_SP                     0.0                     0.0   \n",
       "8_2018_SP                     18.5                     8.0   \n",
       "9_2018_SP                      0.0                     6.0   \n",
       "\n",
       "            water top cover (%)   latitude   longitude  plot_radius_m  year  \\\n",
       "Site Code                                                                     \n",
       "0_2018_SP                   0.0  64.845250 -163.782758           1.25  2018   \n",
       "10_2018_SP                  0.0  64.859385 -163.703835           1.25  2018   \n",
       "11_2018_SP                 10.0  64.858285 -163.712740           1.25  2018   \n",
       "12_2018_SP                  0.0  64.857520 -163.693148           1.25  2018   \n",
       "13_2018_SP                  0.0  64.860790 -163.698248           1.25  2018   \n",
       "...                         ...        ...         ...            ...   ...   \n",
       "83_2017_SP                  0.0  64.743175 -165.963990           1.25  2017   \n",
       "84_2017_SP                  0.0  64.729570 -165.944735          55.00  2017   \n",
       "85_2017_SP                  0.0  64.736497 -165.948845           1.25  2017   \n",
       "8_2018_SP                   2.0  64.860154 -163.697310          55.00  2018   \n",
       "9_2018_SP                  25.0  64.856472 -163.689893           1.25  2018   \n",
       "\n",
       "             source  \n",
       "Site Code            \n",
       "0_2018_SP   NGEE_SP  \n",
       "10_2018_SP  NGEE_SP  \n",
       "11_2018_SP  NGEE_SP  \n",
       "12_2018_SP  NGEE_SP  \n",
       "13_2018_SP  NGEE_SP  \n",
       "...             ...  \n",
       "83_2017_SP  NGEE_SP  \n",
       "84_2017_SP  NGEE_SP  \n",
       "85_2017_SP  NGEE_SP  \n",
       "8_2018_SP   NGEE_SP  \n",
       "9_2018_SP   NGEE_SP  \n",
       "\n",
       "[86 rows x 22 columns]"
      ]
     },
     "execution_count": 93,
     "metadata": {},
     "output_type": "execute_result"
    }
   ],
   "source": [
    "parent_plots"
   ]
  },
  {
   "cell_type": "code",
   "execution_count": 94,
   "id": "63531bc1-26f4-44ed-8919-40a363c23f53",
   "metadata": {},
   "outputs": [],
   "source": [
    "p = '/mnt/poseidon/remotesensing/arctic/data/training/Test_05/temp_fcover/'\n",
    "f = 'SP_fcover_parent.csv'\n",
    "parent_plots.to_csv(p + f)"
   ]
  },
  {
   "cell_type": "markdown",
   "id": "6d40f826-b3dd-44a9-804d-99463962f254",
   "metadata": {},
   "source": [
    "## total/top cover parent test 04"
   ]
  },
  {
   "cell_type": "code",
   "execution_count": 95,
   "id": "1216a11e-acdc-49f5-9e4b-8e270b5999c7",
   "metadata": {},
   "outputs": [],
   "source": [
    "# # ancillary\n",
    "# noncover = [col for col in parent_plots.columns if not 'cover (%)' in col]\n",
    "# noncover = parent_plots[noncover]\n",
    "# # total\n",
    "# totcover_parent = [col for col in parent_plots.columns if 'total cover (%)' in col]\n",
    "# totcover_parent = parent_plots[totcover_parent]\n",
    "# # top\n",
    "# topcover_parent = [col for col in parent_plots.columns if 'top cover (%)' in col]\n",
    "# topcover_parent = parent_plots[topcover_parent]"
   ]
  },
  {
   "cell_type": "code",
   "execution_count": 96,
   "id": "c1199242-63d7-4650-bd9f-3c95b9cc0f40",
   "metadata": {},
   "outputs": [],
   "source": [
    "# totcover_parent = pd.concat([totcover_parent, noncover], axis=1)\n",
    "# topcover_parent = pd.concat([topcover_parent, noncover], axis=1)"
   ]
  },
  {
   "cell_type": "code",
   "execution_count": 97,
   "id": "21d5c239-41eb-4586-a5cc-459d08ce82b6",
   "metadata": {},
   "outputs": [],
   "source": [
    "# # total\n",
    "# p = '/mnt/poseidon/remotesensing/arctic/data/training/Test_04/original_files/'\n",
    "# f = 'NGEE_SP_PARENT_fcover_total_merged.csv'\n",
    "# totcover_parent.to_csv(p + f)\n",
    "# # top\n",
    "# f = 'NGEE_SP_PARENT_fcover_top_nonPFT.csv'\n",
    "# topcover_parent.to_csv(p + f)"
   ]
  },
  {
   "cell_type": "markdown",
   "id": "f8501446-d22c-45c6-bd59-14f25a76ac6e",
   "metadata": {},
   "source": [
    "## map"
   ]
  },
  {
   "cell_type": "code",
   "execution_count": 98,
   "id": "6b6450e6-127b-4ed7-bb45-e2dfbdd7340e",
   "metadata": {},
   "outputs": [],
   "source": [
    "p = '/mnt/poseidon/remotesensing/arctic/data/vectors/supplementary/tundra_alaska/'\n",
    "f = 'tundra_alaska.shp'\n",
    "ak_tundra = gpd.read_file(p + f)"
   ]
  },
  {
   "cell_type": "code",
   "execution_count": 99,
   "id": "f1b26191-5e53-4184-9aa1-3b5b479672ee",
   "metadata": {},
   "outputs": [],
   "source": [
    "fc = gee.geopandas_to_ee(ak_tundra)\n",
    "pp2 = parent_plots.reset_index()"
   ]
  },
  {
   "cell_type": "code",
   "execution_count": 100,
   "id": "cd70cde9-0169-46ae-8f14-1933cb9cdf31",
   "metadata": {},
   "outputs": [],
   "source": [
    "par_geom = pp2[['Site Code', 'latitude', 'longitude']]\n",
    "par_points = gee.df_to_ee(par_geom, \n",
    "                          latitude='latitude', \n",
    "                          longitude='longitude')"
   ]
  },
  {
   "cell_type": "code",
   "execution_count": 101,
   "id": "46789566-8b5a-4cb8-a552-b909b8d0ffe1",
   "metadata": {},
   "outputs": [],
   "source": [
    "chi_geom = akava[['Site Code', 'latitude', 'longitude']]\n",
    "chi_points = gee.df_to_ee(chi_geom, \n",
    "                          latitude='latitude', \n",
    "                          longitude='longitude')"
   ]
  },
  {
   "cell_type": "code",
   "execution_count": 102,
   "id": "f31f2395-50bd-45b7-bf6b-83be93d7c80f",
   "metadata": {},
   "outputs": [
    {
     "data": {
      "application/vnd.jupyter.widget-view+json": {
       "model_id": "bc569013d60e412ba0eecd7feaf9e726",
       "version_major": 2,
       "version_minor": 0
      },
      "text/plain": [
       "Map(center=[66.56551547720869, -158.1544109640721], controls=(WidgetControl(options=['position', 'transparent_…"
      ]
     },
     "execution_count": 102,
     "metadata": {},
     "output_type": "execute_result"
    }
   ],
   "source": [
    "Map = gee.Map()\n",
    "Map.center_object(fc, 6)\n",
    "Map.addLayer(fc, {}, 'arctic')\n",
    "Map.addLayer(chi_points, {}, 'child')\n",
    "Map.addLayer(par_points, {'color':'red'}, 'parent')\n",
    "Map"
   ]
  },
  {
   "cell_type": "code",
   "execution_count": 431,
   "id": "698baa73-b872-44d9-9dfa-de8b512d8657",
   "metadata": {},
   "outputs": [
    {
     "data": {
      "text/plain": [
       "86"
      ]
     },
     "execution_count": 431,
     "metadata": {},
     "output_type": "execute_result"
    }
   ],
   "source": [
    "len(pp2)"
   ]
  },
  {
   "cell_type": "code",
   "execution_count": null,
   "id": "1e83965e-e803-4c07-8549-d496df41612e",
   "metadata": {},
   "outputs": [],
   "source": []
  }
 ],
 "metadata": {
  "kernelspec": {
   "display_name": "Python 3 (ipykernel)",
   "language": "python",
   "name": "python3"
  },
  "language_info": {
   "codemirror_mode": {
    "name": "ipython",
    "version": 3
   },
   "file_extension": ".py",
   "mimetype": "text/x-python",
   "name": "python",
   "nbconvert_exporter": "python",
   "pygments_lexer": "ipython3",
   "version": "3.11.5"
  }
 },
 "nbformat": 4,
 "nbformat_minor": 5
}
