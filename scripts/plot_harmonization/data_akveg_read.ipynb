{
 "cells": [
  {
   "cell_type": "code",
   "execution_count": 1,
   "metadata": {},
   "outputs": [],
   "source": [
    "import pandas as pd\n",
    "import numpy as np\n",
    "import standardize_pft_funcs as spf\n",
    "import geopandas as gpd"
   ]
  },
  {
   "cell_type": "code",
   "execution_count": 2,
   "metadata": {},
   "outputs": [],
   "source": [
    "out_path = '/mnt/poseidon/remotesensing/arctic/data/vectors/AKVEG_ACCS/'"
   ]
  },
  {
   "cell_type": "markdown",
   "metadata": {},
   "source": [
    "# Read fcover, checklist, and ancillary data for AKVEG NPR-A"
   ]
  },
  {
   "cell_type": "code",
   "execution_count": 3,
   "metadata": {},
   "outputs": [],
   "source": [
    "# read akveg npr-a data, checklist, and ancillary data\n",
    "p = '/mnt/poseidon/remotesensing/arctic/data/vectors/AKVEG_ACCS'\n",
    "checklist = pd.read_csv(f'{p}/AKVEG_species_checklist.csv')\n",
    "cover = pd.read_csv(f'{p}/AKVEG_foliar_cover.csv', index_col=0)\n",
    "ancillary = pd.read_csv(f'{p}/AKVEG_ancillary.csv', index_col=0)\n",
    "nonveg = pd.read_csv(f'{p}/BLM_Natl_AIM_TerrADat_Hub.csv')"
   ]
  },
  {
   "cell_type": "code",
   "execution_count": 4,
   "metadata": {},
   "outputs": [
    {
     "data": {
      "text/plain": [
       "185"
      ]
     },
     "execution_count": 4,
     "metadata": {},
     "output_type": "execute_result"
    }
   ],
   "source": [
    "len(cover['Site Code'].unique())"
   ]
  },
  {
   "cell_type": "code",
   "execution_count": 5,
   "metadata": {},
   "outputs": [],
   "source": [
    "# remove species names with 0 cover\n",
    "nonnan_cover = cover.copy()\n",
    "nonnan_cover['Cover'].replace(0, np.nan, inplace=True)\n",
    "nonnan_cover = nonnan_cover.dropna(subset=['Cover'])"
   ]
  },
  {
   "cell_type": "markdown",
   "metadata": {},
   "source": [
    "## Get unique species names"
   ]
  },
  {
   "cell_type": "code",
   "execution_count": 6,
   "metadata": {},
   "outputs": [
    {
     "name": "stdout",
     "output_type": "stream",
     "text": [
      "Saved unique species list to /mnt/poseidon/remotesensing/arctic/data/vectors/AKVEG_ACCS//AKVEG_unique_species.csv.\n"
     ]
    }
   ],
   "source": [
    "species = spf.get_unique_species(nonnan_cover, 'Accepted Name', 'AKVEG', SAVE=True, OUTP=out_path)"
   ]
  },
  {
   "cell_type": "markdown",
   "metadata": {},
   "source": [
    "## Get habit information"
   ]
  },
  {
   "cell_type": "code",
   "execution_count": 7,
   "metadata": {},
   "outputs": [],
   "source": [
    "# get first 2 words (genus-species) from checklist accepted name and data species name\n",
    "checklist['Mapping Name'] = checklist['Accepted Name'].apply(spf.get_substrings)\n",
    "species['Mapping Name'] = species['Accepted Name'].apply(spf.get_substrings)"
   ]
  },
  {
   "cell_type": "code",
   "execution_count": 8,
   "metadata": {},
   "outputs": [
    {
     "name": "stdout",
     "output_type": "stream",
     "text": [
      "53 species are missing habits.\n",
      "50 species still missing habits.\n",
      "6 species still missing habits.\n",
      "6 species still missing habits.\n"
     ]
    }
   ],
   "source": [
    "habits = spf.fill_habits(unique_species=species, \n",
    "                         checklist=checklist, \n",
    "                         u_name='Accepted Name', \n",
    "                         c_unofficial_name='Name', \n",
    "                         c_official_name='Accepted Name', \n",
    "                         mapping_name='Mapping Name',\n",
    "                         habit='Habit')"
   ]
  },
  {
   "cell_type": "markdown",
   "metadata": {},
   "source": [
    "## Add evergreen/deciduous"
   ]
  },
  {
   "cell_type": "code",
   "execution_count": 9,
   "metadata": {},
   "outputs": [],
   "source": [
    "p = '/mnt/poseidon/remotesensing/arctic/data/vectors/AK-AVA_post2000/'\n",
    "f = 'evergreendecid_macander2022.csv'\n",
    "evergrndecid = pd.read_csv(p + f, header=None)\n",
    "evergrndecid.columns = ['evergreendecid', 'species']\n",
    "final = spf.add_leaf_habit(habits, evergrndecid)"
   ]
  },
  {
   "cell_type": "code",
   "execution_count": 10,
   "metadata": {},
   "outputs": [],
   "source": [
    "# export\n",
    "p = '/mnt/poseidon/remotesensing/arctic/data/vectors/AKVEG_ACCS/'\n",
    "f = 'AKVEG_species_habit_00.csv'\n",
    "final.to_csv(p + f)"
   ]
  },
  {
   "cell_type": "code",
   "execution_count": 11,
   "metadata": {},
   "outputs": [
    {
     "data": {
      "text/plain": [
       "['moss',\n",
       " 'forb',\n",
       " 'lichen',\n",
       " nan,\n",
       " 'dwarf shrub',\n",
       " 'graminoid',\n",
       " 'liverwort',\n",
       " 'shrub',\n",
       " 'spore-bearing',\n",
       " 'dwarf shrub, shrub',\n",
       " 'shrub, tree, dwarf shrub, deciduous tree, shrub']"
      ]
     },
     "execution_count": 11,
     "metadata": {},
     "output_type": "execute_result"
    }
   ],
   "source": [
    "list(final['Potential Habit'].unique())"
   ]
  },
  {
   "cell_type": "markdown",
   "metadata": {},
   "source": [
    "## Export shrubs, nonshrubs, null habit seperately"
   ]
  },
  {
   "cell_type": "code",
   "execution_count": 12,
   "metadata": {},
   "outputs": [],
   "source": [
    "# get all shrub species\n",
    "finalnonnull = final[~final['Potential Habit'].isnull()]\n",
    "shrubs = finalnonnull[finalnonnull['Potential Habit'].str.contains('shrub')]\n",
    "shrubs.to_csv(p + 'AKVEG_shrubs_00.csv')"
   ]
  },
  {
   "cell_type": "code",
   "execution_count": 13,
   "metadata": {},
   "outputs": [],
   "source": [
    "# get all non-shrub species\n",
    "nonshrubs = finalnonnull[~finalnonnull['Potential Habit'].str.contains('shrub')]\n",
    "nonshrubs.to_csv(p + 'AKVEG_nonshrubs_00.csv')"
   ]
  },
  {
   "cell_type": "code",
   "execution_count": 14,
   "metadata": {},
   "outputs": [],
   "source": [
    "# get null habits\n",
    "finalnull = final[final['Potential Habit'].isnull()]\n",
    "finalnull.to_csv(p + 'AKVEG_nullhabit_00.csv')"
   ]
  },
  {
   "cell_type": "code",
   "execution_count": 15,
   "metadata": {},
   "outputs": [
    {
     "data": {
      "text/plain": [
       "384"
      ]
     },
     "execution_count": 15,
     "metadata": {},
     "output_type": "execute_result"
    }
   ],
   "source": [
    "len(finalnull) + len(nonshrubs) + len(shrubs)"
   ]
  },
  {
   "cell_type": "code",
   "execution_count": 16,
   "metadata": {},
   "outputs": [
    {
     "data": {
      "text/plain": [
       "384"
      ]
     },
     "execution_count": 16,
     "metadata": {},
     "output_type": "execute_result"
    }
   ],
   "source": [
    "len(final)"
   ]
  },
  {
   "cell_type": "markdown",
   "metadata": {},
   "source": [
    "## HERE: Manually add data from shrub05 file"
   ]
  },
  {
   "cell_type": "markdown",
   "metadata": {},
   "source": [
    "## Standardize PFT Schema"
   ]
  },
  {
   "cell_type": "code",
   "execution_count": 17,
   "metadata": {},
   "outputs": [],
   "source": [
    "p = '/mnt/poseidon/remotesensing/arctic/data/vectors/AKVEG_ACCS/'\n",
    "nonshrub = 'AKVEG_nonshrubs_00.csv'\n",
    "null = 'AKVEG_nullhabit_01.csv'\n",
    "shrub = 'AKVEG_shrubs_01.csv'\n",
    "\n",
    "alltypes = [nonshrub, shrub, null]\n",
    "\n",
    "d = []\n",
    "for t in alltypes:\n",
    "    habits = pd.read_csv(p + t, index_col=0)\n",
    "    d.append(habits)"
   ]
  },
  {
   "cell_type": "code",
   "execution_count": 18,
   "metadata": {},
   "outputs": [
    {
     "data": {
      "text/plain": [
       "['moss',\n",
       " 'forb',\n",
       " 'lichen',\n",
       " 'graminoid',\n",
       " 'liverwort',\n",
       " 'spore-bearing',\n",
       " 'dwarf shrub',\n",
       " 'shrub',\n",
       " 'shrub, tree',\n",
       " 'algae',\n",
       " 'fungus']"
      ]
     },
     "execution_count": 18,
     "metadata": {},
     "output_type": "execute_result"
    }
   ],
   "source": [
    "completehabits = pd.concat(d)\n",
    "completehabits['Habit'].unique().tolist()"
   ]
  },
  {
   "cell_type": "code",
   "execution_count": 19,
   "metadata": {},
   "outputs": [],
   "source": [
    "def standardize_habit_nonstandard(habitrow, leafrow, heightrow):\n",
    "    \n",
    "    habitrow = habitrow.to_numpy()\n",
    "    leafrow = leafrow.to_numpy()\n",
    "    heightrow = heightrow.to_numpy()\n",
    "    new_row = []\n",
    "    \n",
    "    for habit, leaf, height in zip(habitrow, leafrow, heightrow):\n",
    "        habit = habit.lower()\n",
    "        if habit == 'shrub, tree':\n",
    "            new_habit = f'{leaf} dwarf to tree cover (%)'\n",
    "        elif habit == 'dwarf shrub':\n",
    "            new_habit = f'{leaf} {habit} cover (%)'\n",
    "        elif 'shrub' in habit:\n",
    "            new_habit = f'{leaf} {height} cover (%)'\n",
    "        else:\n",
    "            new_habit = f'{habit} cover (%)'\n",
    "        new_row.append(\" \".join(new_habit.split()).lower())\n",
    "    \n",
    "    return new_row"
   ]
  },
  {
   "cell_type": "code",
   "execution_count": 20,
   "metadata": {},
   "outputs": [],
   "source": [
    "def standardize_habit(habitrow, leafrow, heightrow):\n",
    "    \n",
    "    habitrow = habitrow.to_numpy()\n",
    "    leafrow = leafrow.to_numpy()\n",
    "    heightrow = heightrow.to_numpy()\n",
    "    new_row = []\n",
    "    \n",
    "    for habit, leaf, height in zip(habitrow, leafrow, heightrow):\n",
    "        habit = habit.lower()\n",
    "        if 'algae' in habit:\n",
    "            new_habit = 'lichen cover (%)'\n",
    "        elif habit == np.nan or 'unknown' in habit:\n",
    "            new_habit = 'unknown cover (%)'\n",
    "        elif 'moss' in habit or 'liverwort' in habit:\n",
    "            new_habit = 'bryophyte cover (%)'\n",
    "        elif 'spore-bearing' in habit:\n",
    "            new_habit = 'forb cover (%)'\n",
    "        elif habit == 'grass':\n",
    "            new_habit = 'graminoid cover (%)'\n",
    "            \n",
    "        elif habit == 'shrub, tree':\n",
    "            new_habit = f'{leaf} dwarf to tree cover (%)'\n",
    "        elif habit == 'dwarf shrub':\n",
    "            new_habit = f'{leaf} {habit} cover (%)'\n",
    "        elif 'shrub' in habit:\n",
    "            new_habit = f'{leaf} {height} cover (%)'\n",
    "            \n",
    "        elif 'litter' in habit or 'scat' in habit:\n",
    "            new_habit = 'litter cover (%)'\n",
    "        elif 'bare ground' in habit or 'crust' in habit or 'mineral' in habit:\n",
    "            new_habit = 'bare ground cover (%)'\n",
    "        else:\n",
    "            new_habit = f'{habit} cover (%)'\n",
    "        new_row.append(\" \".join(new_habit.split()).lower())\n",
    "    \n",
    "    return new_row"
   ]
  },
  {
   "cell_type": "code",
   "execution_count": 21,
   "metadata": {},
   "outputs": [],
   "source": [
    "# standardized PFT\n",
    "standard_habit_col = standardize_habit(completehabits['Habit'], \n",
    "                                       completehabits['Leaf Retention'], \n",
    "                                       completehabits['Height'])"
   ]
  },
  {
   "cell_type": "code",
   "execution_count": 22,
   "metadata": {},
   "outputs": [],
   "source": [
    "# non-standardized PFT\n",
    "nonstandard_habit_col = standardize_habit_nonstandard(completehabits['Habit'], \n",
    "                                                      completehabits['Leaf Retention'],\n",
    "                                                      completehabits['Height'])"
   ]
  },
  {
   "cell_type": "code",
   "execution_count": 23,
   "metadata": {},
   "outputs": [],
   "source": [
    "completehabits['Standard Habit'] = standard_habit_col\n",
    "completehabits['NonStandard Habit'] = nonstandard_habit_col"
   ]
  },
  {
   "cell_type": "code",
   "execution_count": 24,
   "metadata": {},
   "outputs": [],
   "source": [
    "p = '/mnt/poseidon/remotesensing/arctic/data/vectors/AKVEG_ACCS/'\n",
    "f = 'AKVEG_species_habit_standardized.csv'\n",
    "completehabits.to_csv(p + f)"
   ]
  },
  {
   "cell_type": "markdown",
   "metadata": {},
   "source": [
    "## Join habit to fcover data"
   ]
  },
  {
   "cell_type": "code",
   "execution_count": 25,
   "metadata": {},
   "outputs": [],
   "source": [
    "# add vegetation fcover and sum to PFT level\n",
    "def add_cover(cover_df, pft_groups, habit_col):\n",
    "    cover = cover_df.reset_index()\n",
    "    withfcover = cover.merge(pft_groups, left_on='Accepted Name', right_on='Name', how='left')\n",
    "    grouped = withfcover.groupby(['Site Code', habit_col], \n",
    "                                 group_keys=True).agg({'Cover': 'sum'})\n",
    "    return grouped"
   ]
  },
  {
   "cell_type": "code",
   "execution_count": 26,
   "metadata": {},
   "outputs": [],
   "source": [
    "# flatten multilevel\n",
    "def flatten_multilevel(grouped):\n",
    "    grouped.columns = grouped.columns.get_level_values(0)\n",
    "    grouped = grouped.reset_index()\n",
    "    return grouped"
   ]
  },
  {
   "cell_type": "code",
   "execution_count": 27,
   "metadata": {},
   "outputs": [],
   "source": [
    "# transpose\n",
    "def transpose_df(grouped, habit_col):\n",
    "    groups = grouped.set_index(['Site Code', habit_col]).stack().unstack([1,2])\n",
    "    groups.columns = groups.columns.get_level_values(0)\n",
    "    groups = groups.reset_index()\n",
    "    return groups"
   ]
  },
  {
   "cell_type": "code",
   "execution_count": 28,
   "metadata": {},
   "outputs": [],
   "source": [
    "def add_standard_cols(groups):\n",
    "    \n",
    "    # required columns\n",
    "    necessary_cols = ['deciduous dwarf shrub cover (%)',\n",
    "                      'deciduous dwarf to low shrub cover (%)',\n",
    "                      'deciduous dwarf to tall shrub cover (%)',\n",
    "                      'deciduous dwarf to tree cover (%)',\n",
    "                      'deciduous tree cover (%)',\n",
    "                      'evergreen dwarf shrub cover (%)',\n",
    "                      'evergreen dwarf to low shrub cover (%)',\n",
    "                      'evergreen dwarf to tall shrub cover (%)',\n",
    "                      'evergreen dwarf to tree cover (%)',\n",
    "                      'evergreen tree cover (%)',\n",
    "                      'bryophyte cover (%)',\n",
    "                      'forb cover (%)',\n",
    "                      'graminoid cover (%)',\n",
    "                      'lichen cover (%)']\n",
    "    \n",
    "    # add missing columns and fill with nan\n",
    "    cols = groups.columns.tolist()\n",
    "    addcols = []\n",
    "    for nc in necessary_cols:\n",
    "        if nc not in cols:\n",
    "            addcols.append(nc)\n",
    "    groups[addcols] = np.nan\n",
    "    return groups"
   ]
  },
  {
   "cell_type": "code",
   "execution_count": 29,
   "metadata": {},
   "outputs": [],
   "source": [
    "grouped_standard = add_cover(cover, completehabits, 'Standard Habit')\n",
    "grouped_standard = flatten_multilevel(grouped_standard)\n",
    "grouped_standard = transpose_df(grouped_standard, 'Standard Habit')\n",
    "standard_groups = add_standard_cols(grouped_standard)"
   ]
  },
  {
   "cell_type": "code",
   "execution_count": 30,
   "metadata": {},
   "outputs": [],
   "source": [
    "grouped_nonstand = add_cover(cover, completehabits, 'NonStandard Habit')\n",
    "grouped_nonstand = flatten_multilevel(grouped_nonstand)\n",
    "grouped_nonstand = transpose_df(grouped_nonstand, 'NonStandard Habit')"
   ]
  },
  {
   "cell_type": "markdown",
   "metadata": {},
   "source": [
    "## Read ancillary table"
   ]
  },
  {
   "cell_type": "code",
   "execution_count": 44,
   "metadata": {},
   "outputs": [],
   "source": [
    "anc = ancillary.copy()\n",
    "# year\n",
    "date = cover.groupby('Site Code')['Date'].first().reset_index()\n",
    "anc = anc.merge(date, on='Site Code', how='left')\n",
    "anc['year'] = pd.DatetimeIndex(anc['Date']).year\n",
    "anc['year'] = anc['year'].astype('Int64')\n",
    "# plot size\n",
    "anc['plot_radius_m'] = anc['Plot Dimensions']\n",
    "anc['plot_radius_m'] = anc['plot_radius_m'].str.extract('(\\d+)').astype(int)\n",
    "# dataset source\n",
    "anc['source'] = 'AKVEG_AIM_NPRA'\n",
    "anc.rename(columns={'Latitude':'latitude','Longitude':'longitude'}, inplace=True)"
   ]
  },
  {
   "cell_type": "code",
   "execution_count": 45,
   "metadata": {},
   "outputs": [],
   "source": [
    "anc = anc[['Site Code', 'latitude', 'longitude', 'year', 'plot_radius_m', 'source']]"
   ]
  },
  {
   "cell_type": "code",
   "execution_count": 46,
   "metadata": {},
   "outputs": [],
   "source": [
    "anc.set_index('Site Code', inplace=True)"
   ]
  },
  {
   "cell_type": "markdown",
   "metadata": {},
   "source": [
    "## Create top cover file from existing summary"
   ]
  },
  {
   "cell_type": "code",
   "execution_count": 47,
   "metadata": {},
   "outputs": [],
   "source": [
    "# rename columns and set index\n",
    "topcover = nonveg.copy()\n",
    "topcover.rename(columns={'BareSoilCover':'bare ground top cover (%)',\n",
    "                         'FH_TotalLitterCover':'litter cover (%)',\n",
    "                         'FH_RockCover':'bare ground top cover (%)',\n",
    "                         'FH_WaterCover':'water top cover (%)',\n",
    "                         'PlotID':'Site Code'}, inplace=True)\n",
    "topcover.set_index('Site Code', inplace=True)\n",
    "\n",
    "# sort and sum duplicate columns\n",
    "topcover = topcover[sorted(['bare ground top cover (%)',\n",
    "                            'litter cover (%)',\n",
    "                            'water top cover (%)'])]\n",
    "topcover = topcover.groupby(lambda x:x, axis=1).sum()"
   ]
  },
  {
   "cell_type": "code",
   "execution_count": 51,
   "metadata": {},
   "outputs": [
    {
     "data": {
      "text/plain": [
       "185"
      ]
     },
     "execution_count": 51,
     "metadata": {},
     "output_type": "execute_result"
    }
   ],
   "source": [
    "topcover1 = topcover.drop(columns=['litter cover (%)'])\n",
    "topcover1 = pd.concat([topcover1, anc], axis=1, join='inner')\n",
    "len(topcover1)"
   ]
  },
  {
   "cell_type": "code",
   "execution_count": 52,
   "metadata": {},
   "outputs": [],
   "source": [
    "# export\n",
    "p = '/mnt/poseidon/remotesensing/arctic/data/training/Test_04/original_files/'\n",
    "f = 'AKVEG_AIM_NRPA_fcover_top_nonPFT.csv'\n",
    "topcover1.to_csv(p + f)"
   ]
  },
  {
   "cell_type": "markdown",
   "metadata": {},
   "source": [
    "## Create total cover file (non-merged)"
   ]
  },
  {
   "cell_type": "code",
   "execution_count": 53,
   "metadata": {},
   "outputs": [],
   "source": [
    "# set index and sort columns\n",
    "totcover_nm = grouped_nonstand.copy()\n",
    "totcover_nm.drop(columns=['fungus cover (%)'], inplace=True)\n",
    "totcover_nm.set_index('Site Code', inplace=True)\n",
    "totcover_nm.columns.name = None\n",
    "\n",
    "# add litter\n",
    "litter = topcover[['litter cover (%)']]\n",
    "totcover_nm = pd.concat([litter, totcover_nm], axis=1)\n",
    "totcover_nm = totcover_nm[sorted(totcover_nm.columns.tolist())]"
   ]
  },
  {
   "cell_type": "code",
   "execution_count": 54,
   "metadata": {},
   "outputs": [],
   "source": [
    "# add \"total cover\" to column names\n",
    "cols = totcover_nm.columns.tolist()\n",
    "cols = [x.replace('cover (%)' , 'total cover (%)') for x in cols]\n",
    "totcover_nm.columns = cols"
   ]
  },
  {
   "cell_type": "code",
   "execution_count": 56,
   "metadata": {},
   "outputs": [
    {
     "data": {
      "text/plain": [
       "185"
      ]
     },
     "execution_count": 56,
     "metadata": {},
     "output_type": "execute_result"
    }
   ],
   "source": [
    "# add ancillary\n",
    "totcover_nm = pd.concat([totcover_nm, anc], axis=1, join='inner')\n",
    "len(totcover_nm)"
   ]
  },
  {
   "cell_type": "code",
   "execution_count": 57,
   "metadata": {},
   "outputs": [],
   "source": [
    "# export\n",
    "p = '/mnt/poseidon/remotesensing/arctic/data/training/Test_04/original_files/'\n",
    "f = 'AKVEG_AIM_NPRA_fcover_total_orig.csv'\n",
    "totcover_nm.to_csv(p + f)"
   ]
  },
  {
   "cell_type": "markdown",
   "metadata": {},
   "source": [
    "## Create total cover file (merged)"
   ]
  },
  {
   "cell_type": "code",
   "execution_count": 58,
   "metadata": {},
   "outputs": [],
   "source": [
    "# set index and sort columns\n",
    "totcover = standard_groups.copy()\n",
    "totcover.drop(columns=['fungus cover (%)'], inplace=True)\n",
    "totcover.set_index('Site Code', inplace=True)\n",
    "totcover.columns.name = None\n",
    "\n",
    "# add litter\n",
    "litter = topcover[['litter cover (%)']]\n",
    "totcover = pd.concat([litter, totcover], axis=1)\n",
    "totcover = totcover[sorted(totcover.columns.tolist())]"
   ]
  },
  {
   "cell_type": "code",
   "execution_count": 59,
   "metadata": {},
   "outputs": [],
   "source": [
    "# add \"total cover\" to column names\n",
    "cols = totcover.columns.tolist()\n",
    "cols = [x.replace('cover (%)' , 'total cover (%)') for x in cols]\n",
    "totcover.columns = cols"
   ]
  },
  {
   "cell_type": "code",
   "execution_count": 60,
   "metadata": {},
   "outputs": [
    {
     "data": {
      "text/plain": [
       "185"
      ]
     },
     "execution_count": 60,
     "metadata": {},
     "output_type": "execute_result"
    }
   ],
   "source": [
    "# add ancillary\n",
    "totcover = pd.concat([totcover, anc], axis=1, join='inner')\n",
    "len(totcover)"
   ]
  },
  {
   "cell_type": "code",
   "execution_count": 62,
   "metadata": {},
   "outputs": [],
   "source": [
    "# export\n",
    "p = '/mnt/poseidon/remotesensing/arctic/data/training/Test_04/original_files/'\n",
    "f = 'AKVEG_AIM_NPRA_fcover_total_merged.csv'\n",
    "totcover.to_csv(p + f)"
   ]
  },
  {
   "cell_type": "markdown",
   "metadata": {},
   "source": [
    "## combine top and total for test 05"
   ]
  },
  {
   "cell_type": "code",
   "execution_count": 67,
   "metadata": {},
   "outputs": [
    {
     "data": {
      "text/html": [
       "<div>\n",
       "<style scoped>\n",
       "    .dataframe tbody tr th:only-of-type {\n",
       "        vertical-align: middle;\n",
       "    }\n",
       "\n",
       "    .dataframe tbody tr th {\n",
       "        vertical-align: top;\n",
       "    }\n",
       "\n",
       "    .dataframe thead th {\n",
       "        text-align: right;\n",
       "    }\n",
       "</style>\n",
       "<table border=\"1\" class=\"dataframe\">\n",
       "  <thead>\n",
       "    <tr style=\"text-align: right;\">\n",
       "      <th></th>\n",
       "      <th>bare ground top cover (%)</th>\n",
       "      <th>bryophyte total cover (%)</th>\n",
       "      <th>deciduous dwarf shrub total cover (%)</th>\n",
       "      <th>deciduous dwarf to low shrub total cover (%)</th>\n",
       "      <th>deciduous dwarf to tall shrub total cover (%)</th>\n",
       "      <th>deciduous dwarf to tree total cover (%)</th>\n",
       "      <th>deciduous tree total cover (%)</th>\n",
       "      <th>evergreen dwarf shrub total cover (%)</th>\n",
       "      <th>evergreen dwarf to low shrub total cover (%)</th>\n",
       "      <th>evergreen dwarf to tall shrub total cover (%)</th>\n",
       "      <th>...</th>\n",
       "      <th>forb total cover (%)</th>\n",
       "      <th>graminoid total cover (%)</th>\n",
       "      <th>lichen total cover (%)</th>\n",
       "      <th>litter total cover (%)</th>\n",
       "      <th>water top cover (%)</th>\n",
       "      <th>latitude</th>\n",
       "      <th>longitude</th>\n",
       "      <th>plot_radius_m</th>\n",
       "      <th>source</th>\n",
       "      <th>year</th>\n",
       "    </tr>\n",
       "    <tr>\n",
       "      <th>Site Code</th>\n",
       "      <th></th>\n",
       "      <th></th>\n",
       "      <th></th>\n",
       "      <th></th>\n",
       "      <th></th>\n",
       "      <th></th>\n",
       "      <th></th>\n",
       "      <th></th>\n",
       "      <th></th>\n",
       "      <th></th>\n",
       "      <th></th>\n",
       "      <th></th>\n",
       "      <th></th>\n",
       "      <th></th>\n",
       "      <th></th>\n",
       "      <th></th>\n",
       "      <th></th>\n",
       "      <th></th>\n",
       "      <th></th>\n",
       "      <th></th>\n",
       "      <th></th>\n",
       "    </tr>\n",
       "  </thead>\n",
       "  <tbody>\n",
       "    <tr>\n",
       "      <th>FMTT-5B</th>\n",
       "      <td>0.000000</td>\n",
       "      <td>3.0</td>\n",
       "      <td>0.7</td>\n",
       "      <td>13.5</td>\n",
       "      <td>NaN</td>\n",
       "      <td>NaN</td>\n",
       "      <td>NaN</td>\n",
       "      <td>21.8</td>\n",
       "      <td>21.7</td>\n",
       "      <td>NaN</td>\n",
       "      <td>...</td>\n",
       "      <td>2.3</td>\n",
       "      <td>37.4</td>\n",
       "      <td>15.2</td>\n",
       "      <td>4.081633</td>\n",
       "      <td>0.00</td>\n",
       "      <td>68.873887</td>\n",
       "      <td>-156.403748</td>\n",
       "      <td>30</td>\n",
       "      <td>AKVEG_AIM_NPRA</td>\n",
       "      <td>2012</td>\n",
       "    </tr>\n",
       "    <tr>\n",
       "      <th>FWMM-5B</th>\n",
       "      <td>0.000000</td>\n",
       "      <td>2.1</td>\n",
       "      <td>NaN</td>\n",
       "      <td>14.0</td>\n",
       "      <td>NaN</td>\n",
       "      <td>NaN</td>\n",
       "      <td>NaN</td>\n",
       "      <td>0.7</td>\n",
       "      <td>1.3</td>\n",
       "      <td>NaN</td>\n",
       "      <td>...</td>\n",
       "      <td>2.7</td>\n",
       "      <td>76.8</td>\n",
       "      <td>1.3</td>\n",
       "      <td>11.333333</td>\n",
       "      <td>4.00</td>\n",
       "      <td>68.821651</td>\n",
       "      <td>-156.121144</td>\n",
       "      <td>30</td>\n",
       "      <td>AKVEG_AIM_NPRA</td>\n",
       "      <td>2012</td>\n",
       "    </tr>\n",
       "    <tr>\n",
       "      <th>AB-1B</th>\n",
       "      <td>20.666667</td>\n",
       "      <td>NaN</td>\n",
       "      <td>NaN</td>\n",
       "      <td>0.0</td>\n",
       "      <td>NaN</td>\n",
       "      <td>NaN</td>\n",
       "      <td>NaN</td>\n",
       "      <td>NaN</td>\n",
       "      <td>NaN</td>\n",
       "      <td>NaN</td>\n",
       "      <td>...</td>\n",
       "      <td>1.4</td>\n",
       "      <td>0.7</td>\n",
       "      <td>12.7</td>\n",
       "      <td>0.000000</td>\n",
       "      <td>0.00</td>\n",
       "      <td>68.294218</td>\n",
       "      <td>-156.035416</td>\n",
       "      <td>55</td>\n",
       "      <td>AKVEG_AIM_NPRA</td>\n",
       "      <td>2012</td>\n",
       "    </tr>\n",
       "    <tr>\n",
       "      <th>FMTT-1</th>\n",
       "      <td>0.000000</td>\n",
       "      <td>3.4</td>\n",
       "      <td>NaN</td>\n",
       "      <td>15.0</td>\n",
       "      <td>14.3</td>\n",
       "      <td>NaN</td>\n",
       "      <td>NaN</td>\n",
       "      <td>25.9</td>\n",
       "      <td>11.6</td>\n",
       "      <td>NaN</td>\n",
       "      <td>...</td>\n",
       "      <td>4.7</td>\n",
       "      <td>34.7</td>\n",
       "      <td>0.7</td>\n",
       "      <td>2.040816</td>\n",
       "      <td>0.00</td>\n",
       "      <td>69.357297</td>\n",
       "      <td>-155.814138</td>\n",
       "      <td>30</td>\n",
       "      <td>AKVEG_AIM_NPRA</td>\n",
       "      <td>2012</td>\n",
       "    </tr>\n",
       "    <tr>\n",
       "      <th>AFMM-5</th>\n",
       "      <td>0.000000</td>\n",
       "      <td>2.0</td>\n",
       "      <td>0.7</td>\n",
       "      <td>0.0</td>\n",
       "      <td>1.3</td>\n",
       "      <td>NaN</td>\n",
       "      <td>NaN</td>\n",
       "      <td>3.3</td>\n",
       "      <td>0.0</td>\n",
       "      <td>NaN</td>\n",
       "      <td>...</td>\n",
       "      <td>32.7</td>\n",
       "      <td>28.0</td>\n",
       "      <td>NaN</td>\n",
       "      <td>0.000000</td>\n",
       "      <td>4.00</td>\n",
       "      <td>69.827883</td>\n",
       "      <td>-154.564411</td>\n",
       "      <td>30</td>\n",
       "      <td>AKVEG_AIM_NPRA</td>\n",
       "      <td>2012</td>\n",
       "    </tr>\n",
       "    <tr>\n",
       "      <th>...</th>\n",
       "      <td>...</td>\n",
       "      <td>...</td>\n",
       "      <td>...</td>\n",
       "      <td>...</td>\n",
       "      <td>...</td>\n",
       "      <td>...</td>\n",
       "      <td>...</td>\n",
       "      <td>...</td>\n",
       "      <td>...</td>\n",
       "      <td>...</td>\n",
       "      <td>...</td>\n",
       "      <td>...</td>\n",
       "      <td>...</td>\n",
       "      <td>...</td>\n",
       "      <td>...</td>\n",
       "      <td>...</td>\n",
       "      <td>...</td>\n",
       "      <td>...</td>\n",
       "      <td>...</td>\n",
       "      <td>...</td>\n",
       "      <td>...</td>\n",
       "    </tr>\n",
       "    <tr>\n",
       "      <th>CPHCP-78</th>\n",
       "      <td>0.000000</td>\n",
       "      <td>21.5</td>\n",
       "      <td>NaN</td>\n",
       "      <td>3.0</td>\n",
       "      <td>8.1</td>\n",
       "      <td>NaN</td>\n",
       "      <td>NaN</td>\n",
       "      <td>26.6</td>\n",
       "      <td>23.7</td>\n",
       "      <td>NaN</td>\n",
       "      <td>...</td>\n",
       "      <td>1.5</td>\n",
       "      <td>63.0</td>\n",
       "      <td>18.4</td>\n",
       "      <td>0.000000</td>\n",
       "      <td>10.37</td>\n",
       "      <td>70.124101</td>\n",
       "      <td>-160.501601</td>\n",
       "      <td>30</td>\n",
       "      <td>AKVEG_AIM_NPRA</td>\n",
       "      <td>2017</td>\n",
       "    </tr>\n",
       "    <tr>\n",
       "      <th>ADST-75</th>\n",
       "      <td>33.340000</td>\n",
       "      <td>3.4</td>\n",
       "      <td>NaN</td>\n",
       "      <td>NaN</td>\n",
       "      <td>0.0</td>\n",
       "      <td>NaN</td>\n",
       "      <td>NaN</td>\n",
       "      <td>40.0</td>\n",
       "      <td>0.0</td>\n",
       "      <td>NaN</td>\n",
       "      <td>...</td>\n",
       "      <td>8.1</td>\n",
       "      <td>5.3</td>\n",
       "      <td>22.8</td>\n",
       "      <td>2.670000</td>\n",
       "      <td>0.00</td>\n",
       "      <td>69.292420</td>\n",
       "      <td>-159.875810</td>\n",
       "      <td>30</td>\n",
       "      <td>AKVEG_AIM_NPRA</td>\n",
       "      <td>2017</td>\n",
       "    </tr>\n",
       "    <tr>\n",
       "      <th>ADST-76</th>\n",
       "      <td>0.000000</td>\n",
       "      <td>72.6</td>\n",
       "      <td>8.0</td>\n",
       "      <td>0.7</td>\n",
       "      <td>NaN</td>\n",
       "      <td>NaN</td>\n",
       "      <td>NaN</td>\n",
       "      <td>35.3</td>\n",
       "      <td>NaN</td>\n",
       "      <td>NaN</td>\n",
       "      <td>...</td>\n",
       "      <td>16.0</td>\n",
       "      <td>46.6</td>\n",
       "      <td>4.1</td>\n",
       "      <td>0.670000</td>\n",
       "      <td>0.00</td>\n",
       "      <td>69.210250</td>\n",
       "      <td>-159.875870</td>\n",
       "      <td>30</td>\n",
       "      <td>AKVEG_AIM_NPRA</td>\n",
       "      <td>2017</td>\n",
       "    </tr>\n",
       "    <tr>\n",
       "      <th>ADST-79</th>\n",
       "      <td>28.000000</td>\n",
       "      <td>14.7</td>\n",
       "      <td>8.7</td>\n",
       "      <td>2.0</td>\n",
       "      <td>NaN</td>\n",
       "      <td>NaN</td>\n",
       "      <td>NaN</td>\n",
       "      <td>42.6</td>\n",
       "      <td>0.0</td>\n",
       "      <td>NaN</td>\n",
       "      <td>...</td>\n",
       "      <td>16.8</td>\n",
       "      <td>4.0</td>\n",
       "      <td>18.7</td>\n",
       "      <td>3.330000</td>\n",
       "      <td>0.00</td>\n",
       "      <td>69.233760</td>\n",
       "      <td>-159.988460</td>\n",
       "      <td>30</td>\n",
       "      <td>AKVEG_AIM_NPRA</td>\n",
       "      <td>2017</td>\n",
       "    </tr>\n",
       "    <tr>\n",
       "      <th>FLST-75</th>\n",
       "      <td>0.000000</td>\n",
       "      <td>49.4</td>\n",
       "      <td>NaN</td>\n",
       "      <td>60.0</td>\n",
       "      <td>28.7</td>\n",
       "      <td>NaN</td>\n",
       "      <td>NaN</td>\n",
       "      <td>14.0</td>\n",
       "      <td>2.7</td>\n",
       "      <td>NaN</td>\n",
       "      <td>...</td>\n",
       "      <td>33.4</td>\n",
       "      <td>16.0</td>\n",
       "      <td>0.7</td>\n",
       "      <td>0.000000</td>\n",
       "      <td>0.00</td>\n",
       "      <td>69.169111</td>\n",
       "      <td>-160.005830</td>\n",
       "      <td>30</td>\n",
       "      <td>AKVEG_AIM_NPRA</td>\n",
       "      <td>2017</td>\n",
       "    </tr>\n",
       "  </tbody>\n",
       "</table>\n",
       "<p>185 rows × 22 columns</p>\n",
       "</div>"
      ],
      "text/plain": [
       "           bare ground top cover (%)  bryophyte total cover (%)  \\\n",
       "Site Code                                                         \n",
       "FMTT-5B                     0.000000                        3.0   \n",
       "FWMM-5B                     0.000000                        2.1   \n",
       "AB-1B                      20.666667                        NaN   \n",
       "FMTT-1                      0.000000                        3.4   \n",
       "AFMM-5                      0.000000                        2.0   \n",
       "...                              ...                        ...   \n",
       "CPHCP-78                    0.000000                       21.5   \n",
       "ADST-75                    33.340000                        3.4   \n",
       "ADST-76                     0.000000                       72.6   \n",
       "ADST-79                    28.000000                       14.7   \n",
       "FLST-75                     0.000000                       49.4   \n",
       "\n",
       "           deciduous dwarf shrub total cover (%)  \\\n",
       "Site Code                                          \n",
       "FMTT-5B                                      0.7   \n",
       "FWMM-5B                                      NaN   \n",
       "AB-1B                                        NaN   \n",
       "FMTT-1                                       NaN   \n",
       "AFMM-5                                       0.7   \n",
       "...                                          ...   \n",
       "CPHCP-78                                     NaN   \n",
       "ADST-75                                      NaN   \n",
       "ADST-76                                      8.0   \n",
       "ADST-79                                      8.7   \n",
       "FLST-75                                      NaN   \n",
       "\n",
       "           deciduous dwarf to low shrub total cover (%)  \\\n",
       "Site Code                                                 \n",
       "FMTT-5B                                            13.5   \n",
       "FWMM-5B                                            14.0   \n",
       "AB-1B                                               0.0   \n",
       "FMTT-1                                             15.0   \n",
       "AFMM-5                                              0.0   \n",
       "...                                                 ...   \n",
       "CPHCP-78                                            3.0   \n",
       "ADST-75                                             NaN   \n",
       "ADST-76                                             0.7   \n",
       "ADST-79                                             2.0   \n",
       "FLST-75                                            60.0   \n",
       "\n",
       "           deciduous dwarf to tall shrub total cover (%)  \\\n",
       "Site Code                                                  \n",
       "FMTT-5B                                              NaN   \n",
       "FWMM-5B                                              NaN   \n",
       "AB-1B                                                NaN   \n",
       "FMTT-1                                              14.3   \n",
       "AFMM-5                                               1.3   \n",
       "...                                                  ...   \n",
       "CPHCP-78                                             8.1   \n",
       "ADST-75                                              0.0   \n",
       "ADST-76                                              NaN   \n",
       "ADST-79                                              NaN   \n",
       "FLST-75                                             28.7   \n",
       "\n",
       "           deciduous dwarf to tree total cover (%)  \\\n",
       "Site Code                                            \n",
       "FMTT-5B                                        NaN   \n",
       "FWMM-5B                                        NaN   \n",
       "AB-1B                                          NaN   \n",
       "FMTT-1                                         NaN   \n",
       "AFMM-5                                         NaN   \n",
       "...                                            ...   \n",
       "CPHCP-78                                       NaN   \n",
       "ADST-75                                        NaN   \n",
       "ADST-76                                        NaN   \n",
       "ADST-79                                        NaN   \n",
       "FLST-75                                        NaN   \n",
       "\n",
       "           deciduous tree total cover (%)  \\\n",
       "Site Code                                   \n",
       "FMTT-5B                               NaN   \n",
       "FWMM-5B                               NaN   \n",
       "AB-1B                                 NaN   \n",
       "FMTT-1                                NaN   \n",
       "AFMM-5                                NaN   \n",
       "...                                   ...   \n",
       "CPHCP-78                              NaN   \n",
       "ADST-75                               NaN   \n",
       "ADST-76                               NaN   \n",
       "ADST-79                               NaN   \n",
       "FLST-75                               NaN   \n",
       "\n",
       "           evergreen dwarf shrub total cover (%)  \\\n",
       "Site Code                                          \n",
       "FMTT-5B                                     21.8   \n",
       "FWMM-5B                                      0.7   \n",
       "AB-1B                                        NaN   \n",
       "FMTT-1                                      25.9   \n",
       "AFMM-5                                       3.3   \n",
       "...                                          ...   \n",
       "CPHCP-78                                    26.6   \n",
       "ADST-75                                     40.0   \n",
       "ADST-76                                     35.3   \n",
       "ADST-79                                     42.6   \n",
       "FLST-75                                     14.0   \n",
       "\n",
       "           evergreen dwarf to low shrub total cover (%)  \\\n",
       "Site Code                                                 \n",
       "FMTT-5B                                            21.7   \n",
       "FWMM-5B                                             1.3   \n",
       "AB-1B                                               NaN   \n",
       "FMTT-1                                             11.6   \n",
       "AFMM-5                                              0.0   \n",
       "...                                                 ...   \n",
       "CPHCP-78                                           23.7   \n",
       "ADST-75                                             0.0   \n",
       "ADST-76                                             NaN   \n",
       "ADST-79                                             0.0   \n",
       "FLST-75                                             2.7   \n",
       "\n",
       "           evergreen dwarf to tall shrub total cover (%)  ...  \\\n",
       "Site Code                                                 ...   \n",
       "FMTT-5B                                              NaN  ...   \n",
       "FWMM-5B                                              NaN  ...   \n",
       "AB-1B                                                NaN  ...   \n",
       "FMTT-1                                               NaN  ...   \n",
       "AFMM-5                                               NaN  ...   \n",
       "...                                                  ...  ...   \n",
       "CPHCP-78                                             NaN  ...   \n",
       "ADST-75                                              NaN  ...   \n",
       "ADST-76                                              NaN  ...   \n",
       "ADST-79                                              NaN  ...   \n",
       "FLST-75                                              NaN  ...   \n",
       "\n",
       "           forb total cover (%)  graminoid total cover (%)  \\\n",
       "Site Code                                                    \n",
       "FMTT-5B                     2.3                       37.4   \n",
       "FWMM-5B                     2.7                       76.8   \n",
       "AB-1B                       1.4                        0.7   \n",
       "FMTT-1                      4.7                       34.7   \n",
       "AFMM-5                     32.7                       28.0   \n",
       "...                         ...                        ...   \n",
       "CPHCP-78                    1.5                       63.0   \n",
       "ADST-75                     8.1                        5.3   \n",
       "ADST-76                    16.0                       46.6   \n",
       "ADST-79                    16.8                        4.0   \n",
       "FLST-75                    33.4                       16.0   \n",
       "\n",
       "           lichen total cover (%)  litter total cover (%)  \\\n",
       "Site Code                                                   \n",
       "FMTT-5B                      15.2                4.081633   \n",
       "FWMM-5B                       1.3               11.333333   \n",
       "AB-1B                        12.7                0.000000   \n",
       "FMTT-1                        0.7                2.040816   \n",
       "AFMM-5                        NaN                0.000000   \n",
       "...                           ...                     ...   \n",
       "CPHCP-78                     18.4                0.000000   \n",
       "ADST-75                      22.8                2.670000   \n",
       "ADST-76                       4.1                0.670000   \n",
       "ADST-79                      18.7                3.330000   \n",
       "FLST-75                       0.7                0.000000   \n",
       "\n",
       "           water top cover (%)   latitude   longitude  plot_radius_m  \\\n",
       "Site Code                                                              \n",
       "FMTT-5B                   0.00  68.873887 -156.403748             30   \n",
       "FWMM-5B                   4.00  68.821651 -156.121144             30   \n",
       "AB-1B                     0.00  68.294218 -156.035416             55   \n",
       "FMTT-1                    0.00  69.357297 -155.814138             30   \n",
       "AFMM-5                    4.00  69.827883 -154.564411             30   \n",
       "...                        ...        ...         ...            ...   \n",
       "CPHCP-78                 10.37  70.124101 -160.501601             30   \n",
       "ADST-75                   0.00  69.292420 -159.875810             30   \n",
       "ADST-76                   0.00  69.210250 -159.875870             30   \n",
       "ADST-79                   0.00  69.233760 -159.988460             30   \n",
       "FLST-75                   0.00  69.169111 -160.005830             30   \n",
       "\n",
       "                   source  year  \n",
       "Site Code                        \n",
       "FMTT-5B    AKVEG_AIM_NPRA  2012  \n",
       "FWMM-5B    AKVEG_AIM_NPRA  2012  \n",
       "AB-1B      AKVEG_AIM_NPRA  2012  \n",
       "FMTT-1     AKVEG_AIM_NPRA  2012  \n",
       "AFMM-5     AKVEG_AIM_NPRA  2012  \n",
       "...                   ...   ...  \n",
       "CPHCP-78   AKVEG_AIM_NPRA  2017  \n",
       "ADST-75    AKVEG_AIM_NPRA  2017  \n",
       "ADST-76    AKVEG_AIM_NPRA  2017  \n",
       "ADST-79    AKVEG_AIM_NPRA  2017  \n",
       "FLST-75    AKVEG_AIM_NPRA  2017  \n",
       "\n",
       "[185 rows x 22 columns]"
      ]
     },
     "execution_count": 67,
     "metadata": {},
     "output_type": "execute_result"
    }
   ],
   "source": [
    "allcover = pd.concat([totcover, topcover1], axis=1, join='inner')\n",
    "c = sorted([col for col in allcover.columns if 'cover (%)' in col])\n",
    "o = sorted([col for col in allcover.columns if 'cover (%)' not in col])\n",
    "cover = allcover[c]\n",
    "other = allcover[o]\n",
    "final_allcover = pd.concat([cover, other], axis=1)\n",
    "final_allcover = final_allcover.loc[:,~final_allcover.columns.duplicated()].copy()\n",
    "final_allcover"
   ]
  },
  {
   "cell_type": "code",
   "execution_count": 69,
   "metadata": {},
   "outputs": [],
   "source": [
    "p = '/mnt/poseidon/remotesensing/arctic/data/training/Test_05/temp_fcover/'\n",
    "f = 'VEG_fcover_parent.csv'\n",
    "f1 = 'VEG_fcover_child.csv'\n",
    "final_allcover.to_csv(p+f)\n",
    "final_allcover.to_csv(p+f1)"
   ]
  },
  {
   "cell_type": "markdown",
   "metadata": {},
   "source": [
    "## Misc"
   ]
  },
  {
   "cell_type": "code",
   "execution_count": 129,
   "metadata": {},
   "outputs": [],
   "source": [
    "# # adjust GMT-2 site code names\n",
    "# nonull_proj = nonveg[~nonveg['ProjectName'].isna()]\n",
    "# gmt2_plots = nonull_proj[nonull_proj['ProjectName'].str.contains('GMT2')]\n",
    "# gmt2_plots = gmt2_plots.copy()\n",
    "# gmt2_plots['PlotID2'] = 'GMT2-' + gmt2_plots['PlotID'].astype(str)\n",
    "# new_gmt_ids = gmt2_plots[['PlotID', 'PlotID2']]\n",
    "\n",
    "# # add new IDs to original non-veg data\n",
    "# nonveg2 = nonveg.merge(new_gmt_ids, on='PlotID', how='left')\n",
    "# nonveg2['PlotID2'].fillna(nonveg2['PlotID'], inplace=True)\n",
    "# nonveg2['PlotID'] = nonveg2['PlotID2']"
   ]
  }
 ],
 "metadata": {
  "kernelspec": {
   "display_name": "Python 3 (ipykernel)",
   "language": "python",
   "name": "python3"
  },
  "language_info": {
   "codemirror_mode": {
    "name": "ipython",
    "version": 3
   },
   "file_extension": ".py",
   "mimetype": "text/x-python",
   "name": "python",
   "nbconvert_exporter": "python",
   "pygments_lexer": "ipython3",
   "version": "3.11.5"
  }
 },
 "nbformat": 4,
 "nbformat_minor": 4
}
