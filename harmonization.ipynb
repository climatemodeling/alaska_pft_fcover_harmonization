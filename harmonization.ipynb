{
 "cells": [
  {
   "cell_type": "markdown",
   "id": "672f8fd5-0352-4ab6-949c-fb8f6146aa67",
   "metadata": {},
   "source": [
    "---\n",
    "# <b>1. Create harmonized/standardized PFT table<b>"
   ]
  },
  {
   "cell_type": "code",
   "execution_count": 37,
   "id": "ca59f53a-9985-4a1e-b7bc-2ce998c831ea",
   "metadata": {},
   "outputs": [],
   "source": [
    "import pandas as pd\n",
    "import geopandas as gpd\n",
    "import uuid\n",
    "import matplotlib.pyplot as plt\n",
    "import re\n",
    "from math import ceil\n",
    "import seaborn as sns\n",
    "from sklearn.preprocessing import MinMaxScaler\n",
    "import numpy as np"
   ]
  },
  {
   "cell_type": "markdown",
   "id": "00ed8276-b36c-4a47-82ba-8154a3f32cb5",
   "metadata": {},
   "source": [
    "## 1.a Concatenate fcover tables"
   ]
  },
  {
   "cell_type": "code",
   "execution_count": 25,
   "id": "c6e21ba5-1740-4388-934c-84a9ee5dddc9",
   "metadata": {},
   "outputs": [],
   "source": [
    "sources = ['abr', 'akveg', 'ava', 'neon', 'sp']\n",
    "dfs = []\n",
    "for source in sources:\n",
    "    path = f'{source}/output_data/{source}_standardized_fcover.csv'\n",
    "    df = pd.read_csv(path, index_col=0)\n",
    "    dfs.append(df)\n",
    "fcover = pd.concat(dfs)\n",
    "\n",
    "# set data types\n",
    "intcols = ['surveyYear', 'surveyMonth', 'surveyDay', 'bioclimSubzone']\n",
    "for col in intcols:\n",
    "    fcover[col] = fcover[col].astype('Int64')\n",
    "    \n",
    "# rename columns for ESS-Dive\n",
    "def camel_to_snake(name):\n",
    "    name = re.sub('(.)([A-Z][a-z]+)', r'\\1_\\2', name)\n",
    "    name = re.sub('([a-z0-9])([A-Z])', r'\\1_\\2', name)\n",
    "    return name.lower()\n",
    "\n",
    "# adjust column names and index\n",
    "fcover.columns = [camel_to_snake(col) for col in fcover.columns]\n",
    "fcover.index.name = 'plot_id'\n",
    "fcover['unique_id'] = pd.factorize(fcover.index)[0]\n",
    "fcover = fcover.reset_index()\n",
    "fcover = fcover.set_index('unique_id')\n",
    "\n",
    "# separate into two tables\n",
    "non_cover_columns = [col for col in fcover.columns if not col.endswith('cover') and col not in ['unique_id', 'plot_id']]\n",
    "aux = fcover[['plot_id'] + non_cover_columns]\n",
    "fcover = fcover.drop(non_cover_columns, axis=1)\n",
    "\n",
    "# export\n",
    "fcover.to_csv('harmonized_pft_fcover.csv')\n",
    "aux.to_csv('plot_information.csv')"
   ]
  },
  {
   "cell_type": "code",
   "execution_count": 27,
   "id": "887bc489-a492-4991-88ed-c9c92b21c9e5",
   "metadata": {},
   "outputs": [
    {
     "data": {
      "text/html": [
       "<div>\n",
       "<style scoped>\n",
       "    .dataframe tbody tr th:only-of-type {\n",
       "        vertical-align: middle;\n",
       "    }\n",
       "\n",
       "    .dataframe tbody tr th {\n",
       "        vertical-align: top;\n",
       "    }\n",
       "\n",
       "    .dataframe thead th {\n",
       "        text-align: right;\n",
       "    }\n",
       "</style>\n",
       "<table border=\"1\" class=\"dataframe\">\n",
       "  <thead>\n",
       "    <tr style=\"text-align: right;\">\n",
       "      <th></th>\n",
       "      <th>plot_id</th>\n",
       "      <th>deciduous_shrub_cover</th>\n",
       "      <th>deciduous_tree_cover</th>\n",
       "      <th>evergreen_shrub_cover</th>\n",
       "      <th>evergreen_tree_cover</th>\n",
       "      <th>forb_cover</th>\n",
       "      <th>graminoid_cover</th>\n",
       "      <th>nonvascular_sum_cover</th>\n",
       "      <th>bryophyte_cover</th>\n",
       "      <th>lichen_cover</th>\n",
       "      <th>litter_cover</th>\n",
       "      <th>water_cover</th>\n",
       "      <th>bareground_cover</th>\n",
       "    </tr>\n",
       "    <tr>\n",
       "      <th>unique_id</th>\n",
       "      <th></th>\n",
       "      <th></th>\n",
       "      <th></th>\n",
       "      <th></th>\n",
       "      <th></th>\n",
       "      <th></th>\n",
       "      <th></th>\n",
       "      <th></th>\n",
       "      <th></th>\n",
       "      <th></th>\n",
       "      <th></th>\n",
       "      <th></th>\n",
       "      <th></th>\n",
       "    </tr>\n",
       "  </thead>\n",
       "  <tbody>\n",
       "    <tr>\n",
       "      <th>0</th>\n",
       "      <td>120712b1</td>\n",
       "      <td>32.45</td>\n",
       "      <td>0.0</td>\n",
       "      <td>20.52</td>\n",
       "      <td>0.0</td>\n",
       "      <td>2.64</td>\n",
       "      <td>19.20</td>\n",
       "      <td>33.09</td>\n",
       "      <td>31.77</td>\n",
       "      <td>1.32</td>\n",
       "      <td>18.54</td>\n",
       "      <td>0.0</td>\n",
       "      <td>0.00</td>\n",
       "    </tr>\n",
       "    <tr>\n",
       "      <th>1</th>\n",
       "      <td>120713a1</td>\n",
       "      <td>0.00</td>\n",
       "      <td>0.0</td>\n",
       "      <td>0.00</td>\n",
       "      <td>0.0</td>\n",
       "      <td>1.96</td>\n",
       "      <td>28.75</td>\n",
       "      <td>37.25</td>\n",
       "      <td>36.60</td>\n",
       "      <td>0.65</td>\n",
       "      <td>77.78</td>\n",
       "      <td>0.0</td>\n",
       "      <td>11.11</td>\n",
       "    </tr>\n",
       "    <tr>\n",
       "      <th>2</th>\n",
       "      <td>120713b1</td>\n",
       "      <td>11.34</td>\n",
       "      <td>0.0</td>\n",
       "      <td>38.01</td>\n",
       "      <td>0.0</td>\n",
       "      <td>0.00</td>\n",
       "      <td>14.66</td>\n",
       "      <td>26.00</td>\n",
       "      <td>17.34</td>\n",
       "      <td>8.66</td>\n",
       "      <td>32.67</td>\n",
       "      <td>0.0</td>\n",
       "      <td>0.00</td>\n",
       "    </tr>\n",
       "  </tbody>\n",
       "</table>\n",
       "</div>"
      ],
      "text/plain": [
       "            plot_id  deciduous_shrub_cover  deciduous_tree_cover  \\\n",
       "unique_id                                                          \n",
       "0          120712b1                  32.45                   0.0   \n",
       "1          120713a1                   0.00                   0.0   \n",
       "2          120713b1                  11.34                   0.0   \n",
       "\n",
       "           evergreen_shrub_cover  evergreen_tree_cover  forb_cover  \\\n",
       "unique_id                                                            \n",
       "0                          20.52                   0.0        2.64   \n",
       "1                           0.00                   0.0        1.96   \n",
       "2                          38.01                   0.0        0.00   \n",
       "\n",
       "           graminoid_cover  nonvascular_sum_cover  bryophyte_cover  \\\n",
       "unique_id                                                            \n",
       "0                    19.20                  33.09            31.77   \n",
       "1                    28.75                  37.25            36.60   \n",
       "2                    14.66                  26.00            17.34   \n",
       "\n",
       "           lichen_cover  litter_cover  water_cover  bareground_cover  \n",
       "unique_id                                                             \n",
       "0                  1.32         18.54          0.0              0.00  \n",
       "1                  0.65         77.78          0.0             11.11  \n",
       "2                  8.66         32.67          0.0              0.00  "
      ]
     },
     "execution_count": 27,
     "metadata": {},
     "output_type": "execute_result"
    }
   ],
   "source": [
    "fcover.head(3)"
   ]
  },
  {
   "cell_type": "markdown",
   "id": "550e3b75-e9bb-469d-95b6-7b1899b965e5",
   "metadata": {},
   "source": [
    "## 1.b Fill in missing variables manually"
   ]
  },
  {
   "cell_type": "markdown",
   "id": "c99f0c33-5859-4be6-a06a-959e465b8690",
   "metadata": {},
   "source": [
    "## 1.c Load fixed table"
   ]
  },
  {
   "cell_type": "code",
   "execution_count": 28,
   "id": "8c924077-f628-4ae0-92ff-c523c8641a02",
   "metadata": {},
   "outputs": [
    {
     "data": {
      "text/plain": [
       "Index(['plot_id', 'survey_year', 'survey_month', 'survey_day', 'plot_radius',\n",
       "       'latitude_y', 'longitude_x', 'georef_source', 'georef_accuracy',\n",
       "       'coord_epsg', 'data_subsource', 'data_source', 'survey_method',\n",
       "       'fcover_scale', 'survey_purpose', 'geometry', 'admin_unit',\n",
       "       'admin_country', 'fire_years', 'bioclim_subzone', 'duplicated_coords',\n",
       "       'duplicated_date'],\n",
       "      dtype='object')"
      ]
     },
     "execution_count": 28,
     "metadata": {},
     "output_type": "execute_result"
    }
   ],
   "source": [
    "aux.columns"
   ]
  },
  {
   "cell_type": "code",
   "execution_count": 30,
   "id": "58203eea-a216-4b99-8c62-f3ee00df88f2",
   "metadata": {},
   "outputs": [
    {
     "data": {
      "text/plain": [
       "data_subsource\n",
       "AIM NPR-A Timm Nawrocki                      185\n",
       "Atqasuk Vera Komarkova                        31\n",
       "Barrow DOE NGEE Victoria Sloan                48\n",
       "Barrow IBP Tundra Biome Pat Webber            33\n",
       "Flux Tower Zona Scott Davidson               140\n",
       "NGEE-Arctic Amy Breen                         98\n",
       "Prudhoe ArcSEES road study Donald Walker      29\n",
       "Prudhoe Bay Airport ArcSEES Donald Walker     27\n",
       "Shell Onshore Matthew Macander               107\n",
       "Toolik Field Station NEON                     84\n",
       "Utqiagvik-Barrow NEON                        196\n",
       "Name: plot_id, dtype: int64"
      ]
     },
     "execution_count": 30,
     "metadata": {},
     "output_type": "execute_result"
    }
   ],
   "source": [
    "aux.groupby('data_subsource').count()['plot_id']"
   ]
  },
  {
   "cell_type": "code",
   "execution_count": 22,
   "id": "4bcbe11f-ce2a-45e1-93c5-640cb717f227",
   "metadata": {},
   "outputs": [],
   "source": [
    "# Initialize the MinMaxScaler with the desired feature range\n",
    "scaler = MinMaxScaler(feature_range=(0, 100))\n",
    "\n",
    "# Fit and transform the data\n",
    "cover_cols = [col for col in fcover.columns if 'cover' in col]\n",
    "fcover_scaled = pd.DataFrame(scaler.fit_transform(fcover[cover_cols]), columns=cover_cols)"
   ]
  },
  {
   "cell_type": "markdown",
   "id": "482195fe-d265-42e8-8a84-6c0cde7e72e0",
   "metadata": {},
   "source": [
    "## 1.d Plot PFT distribution"
   ]
  },
  {
   "cell_type": "code",
   "execution_count": 31,
   "id": "ccde535e-5b3a-418a-8c1c-3b5e966861e7",
   "metadata": {},
   "outputs": [
    {
     "data": {
      "image/png": "[encoded data removed]",
      "text/plain": [
       "<Figure size 1500x1000 with 12 Axes>"
      ]
     },
     "metadata": {},
     "output_type": "display_data"
    }
   ],
   "source": [
    "# List of fcover types (assuming columns represent different fcover types)\n",
    "fcover_types = [col for col in fcover_scaled.columns if 'cover' in col]\n",
    "\n",
    "# Number of subplots (assuming 10 fcover types)\n",
    "num_subplots = len(fcover_types)\n",
    "nrows = 3\n",
    "ncols = ceil(num_subplots / nrows)\n",
    "\n",
    "# Determine the common x and y axis ranges\n",
    "all_values = pd.concat([fcover_scaled[col].dropna() for col in fcover_types])\n",
    "x_min, x_max = all_values.min(), all_values.max()\n",
    "\n",
    "# Create a figure and subplots\n",
    "fig, axs = plt.subplots(nrows=nrows, ncols=ncols, figsize=(15, 10), sharex=True)\n",
    "\n",
    "# Flatten the array of axes for easy iteration\n",
    "axs = axs.flatten()\n",
    "\n",
    "# Set Seaborn style and color palette\n",
    "palette = sns.color_palette(\"pastel\")\n",
    "\n",
    "# Define bin edges\n",
    "bin_width = 10  # Adjust as needed\n",
    "# num_bins = int((x_max - x_min) / bin_width)\n",
    "\n",
    "# Define bin edges\n",
    "bin_edges = range(int(x_min), int(x_max) + bin_width, bin_width)\n",
    "\n",
    "# Plot each fcover type in a separate subplot\n",
    "for i, fcover_type in enumerate(fcover_types):\n",
    "    axs[i].hist(fcover[fcover_type], bins=bin_edges, color=palette[0], edgecolor='black', align='mid')\n",
    "    axs[i].set_title(fcover_type, fontsize=14)\n",
    "    axs[i].set_xlim(x_min, x_max)\n",
    "    axs[i].tick_params(axis='both', which='major', labelsize=11)\n",
    "    axs[i].xaxis.set_tick_params(labelbottom=True)\n",
    "    \n",
    "    # Set x-axis label only for the bottom row\n",
    "    if i >= (nrows - 1) * ncols:\n",
    "        axs[i].set_xlabel('Fcover', fontsize=12)\n",
    "    \n",
    "    # Set y-axis label only for the far-left column\n",
    "    if i % ncols == 0:\n",
    "        axs[i].set_ylabel('Frequency', fontsize=12)\n",
    "    \n",
    "# # Set y-axis limits based on the highest bin count across all subplots\n",
    "# max_y = max(ax.get_ylim()[1] for ax in axs[:num_subplots])\n",
    "# for ax in axs[:num_subplots]:\n",
    "#     ax.set_ylim(0, max_y)\n",
    "\n",
    "# Remove any empty subplots\n",
    "for j in range(num_subplots, len(axs)):\n",
    "    fig.delaxes(axs[j])\n",
    "\n",
    "# Adjust layout\n",
    "plt.tight_layout()\n",
    "plt.show()"
   ]
  },
  {
   "cell_type": "markdown",
   "id": "4dd3b6c8-f0c8-44d1-b9d3-bc6609a01e13",
   "metadata": {},
   "source": [
    "---\n",
    "# 2. Create harmonized/standardized species checklist"
   ]
  },
  {
   "cell_type": "code",
   "execution_count": 34,
   "id": "8432e39f-a395-4fce-9438-5d7d33fc93fb",
   "metadata": {},
   "outputs": [
    {
     "data": {
      "text/plain": [
       "2340"
      ]
     },
     "execution_count": 34,
     "metadata": {},
     "output_type": "execute_result"
    }
   ],
   "source": [
    "# create species name dataframe\n",
    "sources = ['abr', 'akveg', 'ava', 'neon', 'sp']\n",
    "dfs = []\n",
    "for source in sources:\n",
    "    path = f'{source}/output_data/{source}_all_habits.csv' \n",
    "    df = pd.read_csv(path, index_col=0)\n",
    "    dfs.append(df)\n",
    "species_habit = pd.concat(dfs, axis=0)\n",
    "pd.DataFrame(species_fcover['datasetSpeciesName'].unique()).shape[0]"
   ]
  },
  {
   "cell_type": "code",
   "execution_count": 44,
   "id": "7087c306-b6ee-4cca-b1ea-da6a796f16de",
   "metadata": {},
   "outputs": [
    {
     "name": "stdout",
     "output_type": "stream",
     "text": [
      "2340\n"
     ]
    },
    {
     "data": {
      "text/html": [
       "<div>\n",
       "<style scoped>\n",
       "    .dataframe tbody tr th:only-of-type {\n",
       "        vertical-align: middle;\n",
       "    }\n",
       "\n",
       "    .dataframe tbody tr th {\n",
       "        vertical-align: top;\n",
       "    }\n",
       "\n",
       "    .dataframe thead th {\n",
       "        text-align: right;\n",
       "    }\n",
       "</style>\n",
       "<table border=\"1\" class=\"dataframe\">\n",
       "  <thead>\n",
       "    <tr style=\"text-align: right;\">\n",
       "      <th></th>\n",
       "      <th>datasetSpeciesName</th>\n",
       "      <th>joinKey</th>\n",
       "      <th>speciesHabit</th>\n",
       "      <th>leafRetention</th>\n",
       "      <th>speciesStature</th>\n",
       "      <th>standardHabit</th>\n",
       "    </tr>\n",
       "  </thead>\n",
       "  <tbody>\n",
       "    <tr>\n",
       "      <th>301</th>\n",
       "      <td>Achillea millefolium</td>\n",
       "      <td>Achillea millefolium</td>\n",
       "      <td>forb</td>\n",
       "      <td>NaN</td>\n",
       "      <td>NaN</td>\n",
       "      <td>forb</td>\n",
       "    </tr>\n",
       "    <tr>\n",
       "      <th>298</th>\n",
       "      <td>Agropyron sp.</td>\n",
       "      <td>Agropyron sp.</td>\n",
       "      <td>graminoid</td>\n",
       "      <td>NaN</td>\n",
       "      <td>NaN</td>\n",
       "      <td>graminoid</td>\n",
       "    </tr>\n",
       "    <tr>\n",
       "      <th>168</th>\n",
       "      <td>Alectoria nigricans</td>\n",
       "      <td>Alectoria nigricans</td>\n",
       "      <td>lichen</td>\n",
       "      <td>NaN</td>\n",
       "      <td>NaN</td>\n",
       "      <td>lichen</td>\n",
       "    </tr>\n",
       "  </tbody>\n",
       "</table>\n",
       "</div>"
      ],
      "text/plain": [
       "       datasetSpeciesName               joinKey speciesHabit leafRetention  \\\n",
       "301  Achillea millefolium  Achillea millefolium         forb           NaN   \n",
       "298         Agropyron sp.         Agropyron sp.    graminoid           NaN   \n",
       "168   Alectoria nigricans   Alectoria nigricans       lichen           NaN   \n",
       "\n",
       "    speciesStature standardHabit  \n",
       "301            NaN          forb  \n",
       "298            NaN     graminoid  \n",
       "168            NaN        lichen  "
      ]
     },
     "execution_count": 44,
     "metadata": {},
     "output_type": "execute_result"
    }
   ],
   "source": [
    "print(len(species_habit['datasetSpeciesName'].unique()))\n",
    "species_habit.head(3)"
   ]
  },
  {
   "cell_type": "markdown",
   "id": "8219073c-0eda-4261-bdf3-30f7e8f5136c",
   "metadata": {},
   "source": [
    "## 2a. Load dataframe with manually assigned acceptedName"
   ]
  },
  {
   "cell_type": "code",
   "execution_count": 45,
   "id": "26282829-c867-45d3-a63b-5479c9c228ba",
   "metadata": {},
   "outputs": [
    {
     "name": "stdout",
     "output_type": "stream",
     "text": [
      "2251\n"
     ]
    },
    {
     "data": {
      "text/html": [
       "<div>\n",
       "<style scoped>\n",
       "    .dataframe tbody tr th:only-of-type {\n",
       "        vertical-align: middle;\n",
       "    }\n",
       "\n",
       "    .dataframe tbody tr th {\n",
       "        vertical-align: top;\n",
       "    }\n",
       "\n",
       "    .dataframe thead th {\n",
       "        text-align: right;\n",
       "    }\n",
       "</style>\n",
       "<table border=\"1\" class=\"dataframe\">\n",
       "  <thead>\n",
       "    <tr style=\"text-align: right;\">\n",
       "      <th></th>\n",
       "      <th>datasetSpeciesName</th>\n",
       "      <th>acceptedName</th>\n",
       "      <th>namingAuthority</th>\n",
       "    </tr>\n",
       "  </thead>\n",
       "  <tbody>\n",
       "    <tr>\n",
       "      <th>0</th>\n",
       "      <td>Juniperus communis</td>\n",
       "      <td>Juniperus communis L.</td>\n",
       "      <td>Adams 2018</td>\n",
       "    </tr>\n",
       "    <tr>\n",
       "      <th>1</th>\n",
       "      <td>Dicranum dispersum</td>\n",
       "      <td>Dicranum dispersum Engelm.</td>\n",
       "      <td>Afonina and Breen 2009</td>\n",
       "    </tr>\n",
       "    <tr>\n",
       "      <th>2</th>\n",
       "      <td>Thelypteris quelpaertensis</td>\n",
       "      <td>Oreopteris quelpaertensis (Christ) Holub</td>\n",
       "      <td>Almeida et al. 2016</td>\n",
       "    </tr>\n",
       "  </tbody>\n",
       "</table>\n",
       "</div>"
      ],
      "text/plain": [
       "           datasetSpeciesName                              acceptedName  \\\n",
       "0          Juniperus communis                     Juniperus communis L.   \n",
       "1          Dicranum dispersum                Dicranum dispersum Engelm.   \n",
       "2  Thelypteris quelpaertensis  Oreopteris quelpaertensis (Christ) Holub   \n",
       "\n",
       "          namingAuthority  \n",
       "0              Adams 2018  \n",
       "1  Afonina and Breen 2009  \n",
       "2     Almeida et al. 2016  "
      ]
     },
     "execution_count": 45,
     "metadata": {},
     "output_type": "execute_result"
    }
   ],
   "source": [
    "# load species name dataframe with corresponding accepted names\n",
    "standard_species = pd.read_csv('species_standardization_mapping.csv')\n",
    "print(len(standard_species['datasetSpeciesName'].unique()))\n",
    "standard_species.head(3)"
   ]
  },
  {
   "cell_type": "markdown",
   "id": "5f785e84-e9f7-43f9-af69-705041b053d9",
   "metadata": {},
   "source": [
    "## 2c. Join PFT and name source to datasetSpeciesName/AcceptedName"
   ]
  },
  {
   "cell_type": "code",
   "execution_count": 47,
   "id": "df83c702-ff43-4e0b-9f83-37b6f98fe20f",
   "metadata": {},
   "outputs": [
    {
     "data": {
      "text/html": [
       "<div>\n",
       "<style scoped>\n",
       "    .dataframe tbody tr th:only-of-type {\n",
       "        vertical-align: middle;\n",
       "    }\n",
       "\n",
       "    .dataframe tbody tr th {\n",
       "        vertical-align: top;\n",
       "    }\n",
       "\n",
       "    .dataframe thead th {\n",
       "        text-align: right;\n",
       "    }\n",
       "</style>\n",
       "<table border=\"1\" class=\"dataframe\">\n",
       "  <thead>\n",
       "    <tr style=\"text-align: right;\">\n",
       "      <th></th>\n",
       "      <th>datasetSpeciesName</th>\n",
       "      <th>acceptedName</th>\n",
       "      <th>namingAuthority</th>\n",
       "      <th>standardHabit</th>\n",
       "      <th>leafRetention</th>\n",
       "      <th>speciesStature</th>\n",
       "    </tr>\n",
       "  </thead>\n",
       "  <tbody>\n",
       "    <tr>\n",
       "      <th>0</th>\n",
       "      <td>Achillea millefolium</td>\n",
       "      <td>Achillea millefolium L.</td>\n",
       "      <td>Flora of North America</td>\n",
       "      <td>forb</td>\n",
       "      <td>NaN</td>\n",
       "      <td>NaN</td>\n",
       "    </tr>\n",
       "    <tr>\n",
       "      <th>1</th>\n",
       "      <td>Agropyron sp.</td>\n",
       "      <td>Agropyron Gaertn.</td>\n",
       "      <td>Flora of North America</td>\n",
       "      <td>graminoid</td>\n",
       "      <td>NaN</td>\n",
       "      <td>NaN</td>\n",
       "    </tr>\n",
       "    <tr>\n",
       "      <th>2</th>\n",
       "      <td>Alectoria nigricans</td>\n",
       "      <td>Alectoria nigricans (Ach.) Nyl.</td>\n",
       "      <td>Divakar et al. 2017</td>\n",
       "      <td>lichen</td>\n",
       "      <td>NaN</td>\n",
       "      <td>NaN</td>\n",
       "    </tr>\n",
       "  </tbody>\n",
       "</table>\n",
       "</div>"
      ],
      "text/plain": [
       "     datasetSpeciesName                     acceptedName  \\\n",
       "0  Achillea millefolium          Achillea millefolium L.   \n",
       "1         Agropyron sp.                Agropyron Gaertn.   \n",
       "2   Alectoria nigricans  Alectoria nigricans (Ach.) Nyl.   \n",
       "\n",
       "          namingAuthority standardHabit leafRetention speciesStature  \n",
       "0  Flora of North America          forb           NaN            NaN  \n",
       "1  Flora of North America     graminoid           NaN            NaN  \n",
       "2     Divakar et al. 2017        lichen           NaN            NaN  "
      ]
     },
     "execution_count": 47,
     "metadata": {},
     "output_type": "execute_result"
    }
   ],
   "source": [
    "standard_species_checklist = pd.merge(left=species_habit, right=standard_species, \n",
    "                                      left_on='datasetSpeciesName', right_on='datasetSpeciesName', \n",
    "                                      how='left')\n",
    "standard_species_checklist.drop_duplicates(inplace=True)\n",
    "species_pft_checklist = standard_species_checklist[['datasetSpeciesName', 'acceptedName', 'namingAuthority', 'standardHabit', 'leafRetention', 'speciesStature']]\n",
    "species_pft_checklist.head(3)"
   ]
  },
  {
   "cell_type": "code",
   "execution_count": 49,
   "id": "6c461cf5-2144-4f27-9086-740406a7257b",
   "metadata": {},
   "outputs": [],
   "source": [
    "species_pft_checklist.to_csv('standard_species_pft_checklist_temp.csv')"
   ]
  },
  {
   "cell_type": "markdown",
   "id": "57e74056-299d-4406-b091-a19b9b6e4141",
   "metadata": {},
   "source": [
    "---\n",
    "# 3. Create standardized species-level fcover file\n",
    "First, I checked the \"temp\" file and added any missing information"
   ]
  },
  {
   "cell_type": "code",
   "execution_count": 90,
   "id": "6f7fa922-261c-42b9-a7db-ec93d4935ea7",
   "metadata": {},
   "outputs": [
    {
     "data": {
      "text/html": [
       "<div>\n",
       "<style scoped>\n",
       "    .dataframe tbody tr th:only-of-type {\n",
       "        vertical-align: middle;\n",
       "    }\n",
       "\n",
       "    .dataframe tbody tr th {\n",
       "        vertical-align: top;\n",
       "    }\n",
       "\n",
       "    .dataframe thead th {\n",
       "        text-align: right;\n",
       "    }\n",
       "</style>\n",
       "<table border=\"1\" class=\"dataframe\">\n",
       "  <thead>\n",
       "    <tr style=\"text-align: right;\">\n",
       "      <th></th>\n",
       "      <th>datasetSpeciesName</th>\n",
       "      <th>acceptedName</th>\n",
       "      <th>namingAuthority</th>\n",
       "      <th>standardHabit</th>\n",
       "      <th>leafRetention</th>\n",
       "      <th>speciesStature</th>\n",
       "    </tr>\n",
       "  </thead>\n",
       "  <tbody>\n",
       "    <tr>\n",
       "      <th>437</th>\n",
       "      <td>Abietinella abietina</td>\n",
       "      <td>Abietinella abietina (Hedw.) Fleisch.</td>\n",
       "      <td>Flora of North America</td>\n",
       "      <td>bryophyte</td>\n",
       "      <td>NaN</td>\n",
       "      <td>NaN</td>\n",
       "    </tr>\n",
       "    <tr>\n",
       "      <th>770</th>\n",
       "      <td>Acarospora schleicheri</td>\n",
       "      <td>Acarospora schleicheri (Ach.) A. Massal.</td>\n",
       "      <td>Consortium of Lichen Herbaria</td>\n",
       "      <td>lichen</td>\n",
       "      <td>NaN</td>\n",
       "      <td>NaN</td>\n",
       "    </tr>\n",
       "    <tr>\n",
       "      <th>771</th>\n",
       "      <td>Achillea lanulosa</td>\n",
       "      <td>Achillea L.</td>\n",
       "      <td>Panarctic Flora Project Checklist</td>\n",
       "      <td>forb</td>\n",
       "      <td>NaN</td>\n",
       "      <td>NaN</td>\n",
       "    </tr>\n",
       "  </tbody>\n",
       "</table>\n",
       "</div>"
      ],
      "text/plain": [
       "         datasetSpeciesName                              acceptedName  \\\n",
       "437    Abietinella abietina     Abietinella abietina (Hedw.) Fleisch.   \n",
       "770  Acarospora schleicheri  Acarospora schleicheri (Ach.) A. Massal.   \n",
       "771       Achillea lanulosa                               Achillea L.   \n",
       "\n",
       "                       namingAuthority standardHabit leafRetention  \\\n",
       "437             Flora of North America     bryophyte           NaN   \n",
       "770      Consortium of Lichen Herbaria        lichen           NaN   \n",
       "771  Panarctic Flora Project Checklist          forb           NaN   \n",
       "\n",
       "    speciesStature  \n",
       "437            NaN  \n",
       "770            NaN  \n",
       "771            NaN  "
      ]
     },
     "execution_count": 90,
     "metadata": {},
     "output_type": "execute_result"
    }
   ],
   "source": [
    "checklist = pd.read_csv('standard_species_pft_checklist.csv', index_col=0)\n",
    "checklist.head(3)"
   ]
  },
  {
   "cell_type": "code",
   "execution_count": 91,
   "id": "92cddf6b-5597-4329-8585-6858d1b097a3",
   "metadata": {},
   "outputs": [
    {
     "data": {
      "text/html": [
       "<div>\n",
       "<style scoped>\n",
       "    .dataframe tbody tr th:only-of-type {\n",
       "        vertical-align: middle;\n",
       "    }\n",
       "\n",
       "    .dataframe tbody tr th {\n",
       "        vertical-align: top;\n",
       "    }\n",
       "\n",
       "    .dataframe thead th {\n",
       "        text-align: right;\n",
       "    }\n",
       "</style>\n",
       "<table border=\"1\" class=\"dataframe\">\n",
       "  <thead>\n",
       "    <tr style=\"text-align: right;\">\n",
       "      <th></th>\n",
       "      <th>plotName</th>\n",
       "      <th>speciesCover</th>\n",
       "      <th>datasetSpeciesName</th>\n",
       "      <th>acceptedName</th>\n",
       "      <th>standardHabit</th>\n",
       "      <th>leafRetention</th>\n",
       "    </tr>\n",
       "  </thead>\n",
       "  <tbody>\n",
       "    <tr>\n",
       "      <th>0</th>\n",
       "      <td>120712b1</td>\n",
       "      <td>18.54</td>\n",
       "      <td>Litter</td>\n",
       "      <td>NaN</td>\n",
       "      <td>litter</td>\n",
       "      <td>NaN</td>\n",
       "    </tr>\n",
       "    <tr>\n",
       "      <th>1</th>\n",
       "      <td>120713a1</td>\n",
       "      <td>77.78</td>\n",
       "      <td>Litter</td>\n",
       "      <td>NaN</td>\n",
       "      <td>litter</td>\n",
       "      <td>NaN</td>\n",
       "    </tr>\n",
       "    <tr>\n",
       "      <th>2</th>\n",
       "      <td>120713b1</td>\n",
       "      <td>32.67</td>\n",
       "      <td>Litter</td>\n",
       "      <td>NaN</td>\n",
       "      <td>litter</td>\n",
       "      <td>NaN</td>\n",
       "    </tr>\n",
       "  </tbody>\n",
       "</table>\n",
       "</div>"
      ],
      "text/plain": [
       "   plotName  speciesCover datasetSpeciesName acceptedName standardHabit  \\\n",
       "0  120712b1         18.54             Litter          NaN        litter   \n",
       "1  120713a1         77.78             Litter          NaN        litter   \n",
       "2  120713b1         32.67             Litter          NaN        litter   \n",
       "\n",
       "  leafRetention  \n",
       "0           NaN  \n",
       "1           NaN  \n",
       "2           NaN  "
      ]
     },
     "execution_count": 91,
     "metadata": {},
     "output_type": "execute_result"
    }
   ],
   "source": [
    "sources = ['abr', 'akveg', 'ava', 'neon', 'sp']\n",
    "dfs = []\n",
    "for source in sources:\n",
    "    path = f'{source}/output_data/{source}_all_species.csv'\n",
    "    df = pd.read_csv(path, index_col=0)\n",
    "    dfs.append(df)\n",
    "sfcover = pd.concat(dfs)\n",
    "sfcover.head(3)"
   ]
  },
  {
   "cell_type": "code",
   "execution_count": 92,
   "id": "0b45a6b8-53d4-453e-a86f-6ba6266a0a61",
   "metadata": {},
   "outputs": [
    {
     "data": {
      "text/html": [
       "<div>\n",
       "<style scoped>\n",
       "    .dataframe tbody tr th:only-of-type {\n",
       "        vertical-align: middle;\n",
       "    }\n",
       "\n",
       "    .dataframe tbody tr th {\n",
       "        vertical-align: top;\n",
       "    }\n",
       "\n",
       "    .dataframe thead th {\n",
       "        text-align: right;\n",
       "    }\n",
       "</style>\n",
       "<table border=\"1\" class=\"dataframe\">\n",
       "  <thead>\n",
       "    <tr style=\"text-align: right;\">\n",
       "      <th></th>\n",
       "      <th>plotName</th>\n",
       "      <th>speciesCover</th>\n",
       "      <th>datasetSpeciesName</th>\n",
       "      <th>acceptedName_checklist</th>\n",
       "    </tr>\n",
       "  </thead>\n",
       "  <tbody>\n",
       "    <tr>\n",
       "      <th>0</th>\n",
       "      <td>120712b1</td>\n",
       "      <td>18.54</td>\n",
       "      <td>Litter</td>\n",
       "      <td>NaN</td>\n",
       "    </tr>\n",
       "    <tr>\n",
       "      <th>1</th>\n",
       "      <td>120713a1</td>\n",
       "      <td>77.78</td>\n",
       "      <td>Litter</td>\n",
       "      <td>NaN</td>\n",
       "    </tr>\n",
       "    <tr>\n",
       "      <th>2</th>\n",
       "      <td>120713b1</td>\n",
       "      <td>32.67</td>\n",
       "      <td>Litter</td>\n",
       "      <td>NaN</td>\n",
       "    </tr>\n",
       "    <tr>\n",
       "      <th>3</th>\n",
       "      <td>120714a1</td>\n",
       "      <td>15.23</td>\n",
       "      <td>Litter</td>\n",
       "      <td>NaN</td>\n",
       "    </tr>\n",
       "    <tr>\n",
       "      <th>4</th>\n",
       "      <td>120714a2</td>\n",
       "      <td>84.87</td>\n",
       "      <td>Litter</td>\n",
       "      <td>NaN</td>\n",
       "    </tr>\n",
       "    <tr>\n",
       "      <th>...</th>\n",
       "      <td>...</td>\n",
       "      <td>...</td>\n",
       "      <td>...</td>\n",
       "      <td>...</td>\n",
       "    </tr>\n",
       "    <tr>\n",
       "      <th>98801</th>\n",
       "      <td>TL_WNAC7_VgComp</td>\n",
       "      <td>1.00</td>\n",
       "      <td>Loeskypnum badium</td>\n",
       "      <td>Loeskypnum badium (Hartm.) Paul</td>\n",
       "    </tr>\n",
       "    <tr>\n",
       "      <th>98802</th>\n",
       "      <td>TL_WNAC7_VgComp</td>\n",
       "      <td>1.00</td>\n",
       "      <td>Blepharostoma trichophyllum</td>\n",
       "      <td>Blepharostoma trichophyllum (L.) Dumort.</td>\n",
       "    </tr>\n",
       "    <tr>\n",
       "      <th>98803</th>\n",
       "      <td>TL_WNAC7_VgComp</td>\n",
       "      <td>1.00</td>\n",
       "      <td>Campylidium, sommerfeltii</td>\n",
       "      <td>Campylophyllum sommerfeltii (Myr.) Hedenäs</td>\n",
       "    </tr>\n",
       "    <tr>\n",
       "      <th>98804</th>\n",
       "      <td>TL_WNAC7_VgComp</td>\n",
       "      <td>1.00</td>\n",
       "      <td>Scorpidium revolvens</td>\n",
       "      <td>Scorpidium revolvens (Sw.) Hedenäs</td>\n",
       "    </tr>\n",
       "    <tr>\n",
       "      <th>98805</th>\n",
       "      <td>TL_WNAC7_VgComp</td>\n",
       "      <td>1.00</td>\n",
       "      <td>Fissidens osmundoides</td>\n",
       "      <td>Fissidens osmundioides Hedw.</td>\n",
       "    </tr>\n",
       "  </tbody>\n",
       "</table>\n",
       "<p>98806 rows × 4 columns</p>\n",
       "</div>"
      ],
      "text/plain": [
       "              plotName  speciesCover           datasetSpeciesName  \\\n",
       "0             120712b1         18.54                       Litter   \n",
       "1             120713a1         77.78                       Litter   \n",
       "2             120713b1         32.67                       Litter   \n",
       "3             120714a1         15.23                       Litter   \n",
       "4             120714a2         84.87                       Litter   \n",
       "...                ...           ...                          ...   \n",
       "98801  TL_WNAC7_VgComp          1.00            Loeskypnum badium   \n",
       "98802  TL_WNAC7_VgComp          1.00  Blepharostoma trichophyllum   \n",
       "98803  TL_WNAC7_VgComp          1.00    Campylidium, sommerfeltii   \n",
       "98804  TL_WNAC7_VgComp          1.00         Scorpidium revolvens   \n",
       "98805  TL_WNAC7_VgComp          1.00        Fissidens osmundoides   \n",
       "\n",
       "                           acceptedName_checklist  \n",
       "0                                             NaN  \n",
       "1                                             NaN  \n",
       "2                                             NaN  \n",
       "3                                             NaN  \n",
       "4                                             NaN  \n",
       "...                                           ...  \n",
       "98801             Loeskypnum badium (Hartm.) Paul  \n",
       "98802    Blepharostoma trichophyllum (L.) Dumort.  \n",
       "98803  Campylophyllum sommerfeltii (Myr.) Hedenäs  \n",
       "98804          Scorpidium revolvens (Sw.) Hedenäs  \n",
       "98805                Fissidens osmundioides Hedw.  \n",
       "\n",
       "[98806 rows x 4 columns]"
      ]
     },
     "execution_count": 92,
     "metadata": {},
     "output_type": "execute_result"
    }
   ],
   "source": [
    "standard_sfcover = pd.merge(left=sfcover, right=checklist, \n",
    "                            left_on='datasetSpeciesName', right_on='datasetSpeciesName', \n",
    "                            how='left', suffixes=('_sfcover', '_checklist'))\n",
    "standard_sfcover = standard_sfcover[['plotName', 'speciesCover', 'datasetSpeciesName', \n",
    "                                     'acceptedName_checklist']]\n",
    "standard_sfcover"
   ]
  },
  {
   "cell_type": "code",
   "execution_count": 93,
   "id": "4dfe258b-418f-4389-942a-ab57c70e7620",
   "metadata": {},
   "outputs": [
    {
     "name": "stdout",
     "output_type": "stream",
     "text": [
      "3429\n"
     ]
    }
   ],
   "source": [
    "print(len(standard_sfcover['plotName'].unique()))"
   ]
  },
  {
   "cell_type": "code",
   "execution_count": 94,
   "id": "d0fd69f9-c34d-46fd-ad23-558ba352b499",
   "metadata": {},
   "outputs": [
    {
     "data": {
      "text/plain": [
       "978"
      ]
     },
     "execution_count": 94,
     "metadata": {},
     "output_type": "execute_result"
    }
   ],
   "source": [
    "plots_of_interest = pd.read_csv('plot_information.csv')\n",
    "standard_sfcover = pd.merge(left=standard_sfcover, right=plots_of_interest[['unique_id', 'plot_id']],\n",
    "                            left_on='plotName', right_on='plot_id', how='right')\n",
    "standard_sfcover = standard_sfcover[['unique_id', 'plot_id', 'acceptedName_checklist', 'speciesCover']]\n",
    "len(standard_sfcover['plot_id'].unique())"
   ]
  },
  {
   "cell_type": "code",
   "execution_count": 95,
   "id": "5ff2b743-b9ec-47be-b2b3-aa67ebdfc9f2",
   "metadata": {},
   "outputs": [
    {
     "name": "stdout",
     "output_type": "stream",
     "text": [
      "948\n"
     ]
    }
   ],
   "source": [
    "# Group by 'plotName' and 'acceptedName_checklist', summing speciesCover for duplicates\n",
    "df_grouped = standard_sfcover.groupby(['plot_id', 'acceptedName_checklist']).agg({\n",
    "    'speciesCover': 'sum'}).reset_index()\n",
    "\n",
    "# Set the multi-index with 'plotName' as the main index and 'acceptedName_checklist' as the secondary index\n",
    "print(len(df_grouped['plot_id'].unique()))\n",
    "df_multi = df_grouped.set_index(['plot_id', 'acceptedName_checklist'])"
   ]
  },
  {
   "cell_type": "code",
   "execution_count": 96,
   "id": "4df97327-2a49-4924-a3e7-023dfca855eb",
   "metadata": {},
   "outputs": [
    {
     "data": {
      "text/plain": [
       "['BES_W3',\n",
       " '2010-0409',\n",
       " 'TL_DBW3_VgComp',\n",
       " 'BES_W1',\n",
       " 'BES_W24',\n",
       " 'T3-010-T',\n",
       " 'BES_W9',\n",
       " 'BES_W7',\n",
       " '2010-0404',\n",
       " 'BES_W6',\n",
       " '2010-0402',\n",
       " '2010-0410',\n",
       " '2010-0405',\n",
       " '2010-0408',\n",
       " '2010-0401',\n",
       " 'BES_W12',\n",
       " '2010-0406',\n",
       " 'T4-010-T',\n",
       " '2010-0208',\n",
       " 'BES_W21',\n",
       " 'BES_W30',\n",
       " 'BEO_LC30',\n",
       " 'BARR_006.basePlot.div.32.2.1',\n",
       " '120728a2',\n",
       " '2010-0206',\n",
       " '120805a2',\n",
       " '2010-0407',\n",
       " 'BES_W27',\n",
       " '2010-0412',\n",
       " 'TL_MS5_VgComp']"
      ]
     },
     "execution_count": 96,
     "metadata": {},
     "output_type": "execute_result"
    }
   ],
   "source": [
    "diff1 = list(set(standard_sfcover['plot_id'].unique()) - set(df_grouped['plot_id'].unique()))\n",
    "diff1"
   ]
  },
  {
   "cell_type": "code",
   "execution_count": null,
   "id": "5a9dc089-e495-40ec-817e-9217af2eb1a9",
   "metadata": {},
   "outputs": [],
   "source": []
  }
 ],
 "metadata": {
  "kernelspec": {
   "display_name": "Python 3 (ipykernel)",
   "language": "python",
   "name": "python3"
  },
  "language_info": {
   "codemirror_mode": {
    "name": "ipython",
    "version": 3
   },
   "file_extension": ".py",
   "mimetype": "text/x-python",
   "name": "python",
   "nbconvert_exporter": "python",
   "pygments_lexer": "ipython3",
   "version": "3.11.5"
  }
 },
 "nbformat": 4,
 "nbformat_minor": 5
}
