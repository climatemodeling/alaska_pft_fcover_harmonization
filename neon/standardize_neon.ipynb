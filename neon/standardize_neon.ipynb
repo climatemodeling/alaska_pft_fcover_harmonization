{
 "cells": [
  {
   "cell_type": "markdown",
   "id": "877935d4-408c-4c06-bca7-2aeeb8ce8e5a",
   "metadata": {},
   "source": [
    "# NEON Standardization Notebook\n",
    "---\n",
    "---"
   ]
  },
  {
   "cell_type": "markdown",
   "id": "8cb16c9d-1ed0-4fe8-ad36-e7858240c6f8",
   "metadata": {},
   "source": [
    "# Table of contents\n",
    "1. [PRE-PROCESSING](#preprocess)\n",
    "    1. [Load fcover data](#loadfcover)\n",
    "    2. [Join fcover to species checklist table](#joinchecklist)\n",
    "    3. [Join fcover to leaf retention table](#joinleafretention)\n",
    "    4. [Export species-PFT tables](#exporthabits)\n",
    "    5. [Clean exported species-PFT tables](#cleanhabits)\n",
    "2. [STANDARDIZATION](#standardization)\n",
    "    1. [Standardize PFT names](#pftnames)\n",
    "    2. [Sum species fcover to PFT-level](#sumfcover)\n",
    "    3. [Standardize table layout](#tablelayout)\n",
    "    4. [Standardize auxiliary columns](#aux)\n",
    "        1. [Basic plot information](#basics)\n",
    "        2. [Geographical intersections](#geo)\n",
    "        3. [Duplicate coordinates](#dupes)\n",
    "3. [EXPORT](#export)"
   ]
  },
  {
   "cell_type": "markdown",
   "id": "36181670-f840-4728-9178-2dfc9c68081e",
   "metadata": {},
   "source": [
    "# Load required packages"
   ]
  },
  {
   "cell_type": "code",
   "execution_count": 23,
   "id": "ebe57879-c575-4632-8e68-74e72fe6f0db",
   "metadata": {},
   "outputs": [],
   "source": [
    "import geopandas as gpd\n",
    "import pandas as pd\n",
    "import numpy as np\n",
    "from datetime import date, timedelta\n",
    "from pyogrio import read_dataframe\n",
    "import glob\n",
    "import geopandas as gpd\n",
    "import sys\n",
    "import os\n",
    "import chardet\n",
    "import tarfile\n",
    "from urllib.request import urlretrieve\n",
    "import regex as re\n",
    "from shapely.validation import make_valid"
   ]
  },
  {
   "cell_type": "code",
   "execution_count": 24,
   "id": "77548174-b901-4e02-a5bd-d2798e2bf4de",
   "metadata": {},
   "outputs": [],
   "source": [
    "# import local functions\n",
    "current_dir = os.path.abspath('..')\n",
    "if current_dir not in sys.path:\n",
    "    sys.path.append(current_dir)\n",
    "import standardize_pft_funcs as spf"
   ]
  },
  {
   "cell_type": "markdown",
   "id": "9d565853-04d5-4c36-bb28-00d6dcf76bbd",
   "metadata": {},
   "source": [
    "---\n",
    "---\n",
    "# 1. Pre-processing <a name=\"preprocess\"></a>\n",
    "After visually inspecting each species-level fcover table for obvious errors, we saved the \"cleaned\" tables to a folder that we then standardized here."
   ]
  },
  {
   "cell_type": "markdown",
   "id": "2531c66e-f66b-4316-97b2-6a46b3b1b30c",
   "metadata": {},
   "source": [
    "---\n",
    "## 1.1. Load fcover data <a name=\"loadfcover\"></a>"
   ]
  },
  {
   "cell_type": "code",
   "execution_count": 25,
   "id": "4f29916b-7256-4565-a89f-2bc22f72b585",
   "metadata": {},
   "outputs": [],
   "source": [
    "# # complete the fcover file by adding coordinates\n",
    "# DIR = '/mnt/poseidon/remotesensing/arctic/data/vectors/neon_2021'\n",
    "# FILES = sorted(glob.glob(DIR + '/*Z.csv'))\n",
    "\n",
    "# dfs = []\n",
    "# for file in FILES:\n",
    "#     df = read_dataframe(file)\n",
    "#     dfs.append(df)\n",
    "    \n",
    "# spf.neon_plot_centroids(dfs, DIR)"
   ]
  },
  {
   "cell_type": "code",
   "execution_count": 26,
   "id": "ed520418-515e-4d2d-afdd-df7b98227c32",
   "metadata": {},
   "outputs": [],
   "source": [
    "source = 'neon'"
   ]
  },
  {
   "cell_type": "code",
   "execution_count": 27,
   "id": "fdd4f4c9-1d78-49d4-a105-fc32347e16af",
   "metadata": {},
   "outputs": [
    {
     "data": {
      "text/html": [
       "<div>\n",
       "<style scoped>\n",
       "    .dataframe tbody tr th:only-of-type {\n",
       "        vertical-align: middle;\n",
       "    }\n",
       "\n",
       "    .dataframe tbody tr th {\n",
       "        vertical-align: top;\n",
       "    }\n",
       "\n",
       "    .dataframe thead th {\n",
       "        text-align: right;\n",
       "    }\n",
       "</style>\n",
       "<table border=\"1\" class=\"dataframe\">\n",
       "  <thead>\n",
       "    <tr style=\"text-align: right;\">\n",
       "      <th></th>\n",
       "      <th>name</th>\n",
       "      <th>scientificName</th>\n",
       "      <th>otherVariables</th>\n",
       "      <th>percentCover</th>\n",
       "    </tr>\n",
       "  </thead>\n",
       "  <tbody>\n",
       "    <tr>\n",
       "      <th>0</th>\n",
       "      <td>BARR_003.basePlot.div.32.2.1</td>\n",
       "      <td>Dupontia fisheri R. Br.</td>\n",
       "      <td>NaN</td>\n",
       "      <td>0.5</td>\n",
       "    </tr>\n",
       "    <tr>\n",
       "      <th>1</th>\n",
       "      <td>BARR_003.basePlot.div.40.3.1</td>\n",
       "      <td>NaN</td>\n",
       "      <td>moss</td>\n",
       "      <td>95.0</td>\n",
       "    </tr>\n",
       "    <tr>\n",
       "      <th>2</th>\n",
       "      <td>BARR_003.basePlot.div.32.4.1</td>\n",
       "      <td>Eriophorum sp.</td>\n",
       "      <td>NaN</td>\n",
       "      <td>0.5</td>\n",
       "    </tr>\n",
       "  </tbody>\n",
       "</table>\n",
       "</div>"
      ],
      "text/plain": [
       "                           name           scientificName otherVariables  \\\n",
       "0  BARR_003.basePlot.div.32.2.1  Dupontia fisheri R. Br.            NaN   \n",
       "1  BARR_003.basePlot.div.40.3.1                      NaN           moss   \n",
       "2  BARR_003.basePlot.div.32.4.1           Eriophorum sp.            NaN   \n",
       "\n",
       "   percentCover  \n",
       "0           0.5  \n",
       "1          95.0  \n",
       "2           0.5  "
      ]
     },
     "execution_count": 27,
     "metadata": {},
     "output_type": "execute_result"
    }
   ],
   "source": [
    "# get data\n",
    "neon = pd.read_csv(f'../{source}/input_data/neon_foliar_cover.csv', index_col='Unnamed: 0')\n",
    "fcover = neon.copy()\n",
    "fcover = fcover[['name', 'scientificName', 'otherVariables', 'percentCover']]\n",
    "fcover.head(3)"
   ]
  },
  {
   "cell_type": "code",
   "execution_count": 28,
   "id": "1e81abe9-023a-4ff2-bba7-cdbf0b520822",
   "metadata": {},
   "outputs": [
    {
     "data": {
      "text/html": [
       "<div>\n",
       "<style scoped>\n",
       "    .dataframe tbody tr th:only-of-type {\n",
       "        vertical-align: middle;\n",
       "    }\n",
       "\n",
       "    .dataframe tbody tr th {\n",
       "        vertical-align: top;\n",
       "    }\n",
       "\n",
       "    .dataframe thead th {\n",
       "        text-align: right;\n",
       "    }\n",
       "</style>\n",
       "<table border=\"1\" class=\"dataframe\">\n",
       "  <thead>\n",
       "    <tr style=\"text-align: right;\">\n",
       "      <th></th>\n",
       "      <th>plotName</th>\n",
       "      <th>datasetSpeciesName</th>\n",
       "      <th>percentCover</th>\n",
       "    </tr>\n",
       "  </thead>\n",
       "  <tbody>\n",
       "    <tr>\n",
       "      <th>0</th>\n",
       "      <td>BARR_003.basePlot.div.32.2.1</td>\n",
       "      <td>Dupontia fisheri R. Br.</td>\n",
       "      <td>0.5</td>\n",
       "    </tr>\n",
       "    <tr>\n",
       "      <th>1</th>\n",
       "      <td>BARR_003.basePlot.div.40.3.1</td>\n",
       "      <td>moss</td>\n",
       "      <td>95.0</td>\n",
       "    </tr>\n",
       "    <tr>\n",
       "      <th>2</th>\n",
       "      <td>BARR_003.basePlot.div.32.4.1</td>\n",
       "      <td>Eriophorum sp.</td>\n",
       "      <td>0.5</td>\n",
       "    </tr>\n",
       "  </tbody>\n",
       "</table>\n",
       "</div>"
      ],
      "text/plain": [
       "                       plotName       datasetSpeciesName  percentCover\n",
       "0  BARR_003.basePlot.div.32.2.1  Dupontia fisheri R. Br.           0.5\n",
       "1  BARR_003.basePlot.div.40.3.1                     moss          95.0\n",
       "2  BARR_003.basePlot.div.32.4.1           Eriophorum sp.           0.5"
      ]
     },
     "execution_count": 28,
     "metadata": {},
     "output_type": "execute_result"
    }
   ],
   "source": [
    "# scientific names are species, \"other variables\" are broad categories like \"moss\"\n",
    "# we want to keep both\n",
    "fcover['speciesName'] = fcover['scientificName'].combine_first(fcover['otherVariables'])\n",
    "fcover = fcover[['name', 'speciesName', 'percentCover']]\n",
    "fcover = fcover.rename(columns={'name':'plotName', 'speciesName':'datasetSpeciesName'})\n",
    "fcover.head(3)"
   ]
  },
  {
   "cell_type": "code",
   "execution_count": 29,
   "id": "e4e79b78-a122-46e8-a366-2753060b4f80",
   "metadata": {},
   "outputs": [
    {
     "name": "stdout",
     "output_type": "stream",
     "text": [
      "123\n",
      "123\n"
     ]
    }
   ],
   "source": [
    "# get unique species names from narrowed down list\n",
    "u_species_names = fcover['datasetSpeciesName'].unique()\n",
    "print(len(u_species_names))\n",
    "u_species_names = [x for x in u_species_names if pd.notnull(x)]\n",
    "print(len(u_species_names))\n",
    "species_names_df = pd.DataFrame(u_species_names, columns=['datasetSpeciesName'])"
   ]
  },
  {
   "cell_type": "markdown",
   "id": "c2bc58a8-eba3-4415-9781-d5481f7b0901",
   "metadata": {},
   "source": [
    "---\n",
    "## 1.2. Join fcover to species checklist table <a name=\"joinchecklist\"></a>"
   ]
  },
  {
   "cell_type": "code",
   "execution_count": 30,
   "id": "1c5ef908-8ec9-4ad3-820c-d4c248634cca",
   "metadata": {},
   "outputs": [
    {
     "data": {
      "text/html": [
       "<div>\n",
       "<style scoped>\n",
       "    .dataframe tbody tr th:only-of-type {\n",
       "        vertical-align: middle;\n",
       "    }\n",
       "\n",
       "    .dataframe tbody tr th {\n",
       "        vertical-align: top;\n",
       "    }\n",
       "\n",
       "    .dataframe thead th {\n",
       "        text-align: right;\n",
       "    }\n",
       "</style>\n",
       "<table border=\"1\" class=\"dataframe\">\n",
       "  <thead>\n",
       "    <tr style=\"text-align: right;\">\n",
       "      <th></th>\n",
       "      <th>nameCode</th>\n",
       "      <th>checklistSpeciesName</th>\n",
       "      <th>nameStatus</th>\n",
       "      <th>nameAccepted</th>\n",
       "      <th>nameFamily</th>\n",
       "      <th>acceptedNameSource</th>\n",
       "      <th>nameLevel</th>\n",
       "      <th>speciesForm</th>\n",
       "      <th>speciesHabit</th>\n",
       "    </tr>\n",
       "  </thead>\n",
       "  <tbody>\n",
       "    <tr>\n",
       "      <th>0</th>\n",
       "      <td>abroth</td>\n",
       "      <td>Abrothallus De Not.</td>\n",
       "      <td>accepted</td>\n",
       "      <td>Abrothallus De Not.</td>\n",
       "      <td>Abrothallaceae</td>\n",
       "      <td>CNALH</td>\n",
       "      <td>genus</td>\n",
       "      <td>lichen</td>\n",
       "      <td>lichen</td>\n",
       "    </tr>\n",
       "    <tr>\n",
       "      <th>1</th>\n",
       "      <td>abrpar</td>\n",
       "      <td>Abrothallus parmeliarum (Sommerf.) Arnold</td>\n",
       "      <td>accepted</td>\n",
       "      <td>Abrothallus parmeliarum (Sommerf.) Arnold</td>\n",
       "      <td>Abrothallaceae</td>\n",
       "      <td>CNALH</td>\n",
       "      <td>species</td>\n",
       "      <td>lichen</td>\n",
       "      <td>lichen</td>\n",
       "    </tr>\n",
       "    <tr>\n",
       "      <th>2</th>\n",
       "      <td>abrpey</td>\n",
       "      <td>Abrothallus peyritschii (Stein) Kotte</td>\n",
       "      <td>accepted</td>\n",
       "      <td>Abrothallus peyritschii (Stein) Kotte</td>\n",
       "      <td>Abrothallaceae</td>\n",
       "      <td>Dillman et al. 2012</td>\n",
       "      <td>species</td>\n",
       "      <td>lichen</td>\n",
       "      <td>lichen</td>\n",
       "    </tr>\n",
       "  </tbody>\n",
       "</table>\n",
       "</div>"
      ],
      "text/plain": [
       "  nameCode                       checklistSpeciesName nameStatus  \\\n",
       "0   abroth                        Abrothallus De Not.   accepted   \n",
       "1   abrpar  Abrothallus parmeliarum (Sommerf.) Arnold   accepted   \n",
       "2   abrpey      Abrothallus peyritschii (Stein) Kotte   accepted   \n",
       "\n",
       "                                nameAccepted      nameFamily  \\\n",
       "0                        Abrothallus De Not.  Abrothallaceae   \n",
       "1  Abrothallus parmeliarum (Sommerf.) Arnold  Abrothallaceae   \n",
       "2      Abrothallus peyritschii (Stein) Kotte  Abrothallaceae   \n",
       "\n",
       "    acceptedNameSource nameLevel speciesForm speciesHabit  \n",
       "0                CNALH     genus      lichen       lichen  \n",
       "1                CNALH   species      lichen       lichen  \n",
       "2  Dillman et al. 2012   species      lichen       lichen  "
      ]
     },
     "execution_count": 30,
     "metadata": {},
     "output_type": "execute_result"
    }
   ],
   "source": [
    "# load species checklist and prep for joining\n",
    "checklist_path = f'../etc/akveg_species_checklist.csv'\n",
    "checklist_df = spf.checklist_df(checklist_path)\n",
    "checklist_df.head(3)"
   ]
  },
  {
   "cell_type": "code",
   "execution_count": 31,
   "id": "ed04ae66-b596-4bcd-bda4-9819a47be4c6",
   "metadata": {},
   "outputs": [
    {
     "data": {
      "text/html": [
       "<div>\n",
       "<style scoped>\n",
       "    .dataframe tbody tr th:only-of-type {\n",
       "        vertical-align: middle;\n",
       "    }\n",
       "\n",
       "    .dataframe tbody tr th {\n",
       "        vertical-align: top;\n",
       "    }\n",
       "\n",
       "    .dataframe thead th {\n",
       "        text-align: right;\n",
       "    }\n",
       "</style>\n",
       "<table border=\"1\" class=\"dataframe\">\n",
       "  <thead>\n",
       "    <tr style=\"text-align: right;\">\n",
       "      <th></th>\n",
       "      <th>datasetSpeciesName</th>\n",
       "    </tr>\n",
       "  </thead>\n",
       "  <tbody>\n",
       "    <tr>\n",
       "      <th>0</th>\n",
       "      <td>Dupontia fisheri R. Br.</td>\n",
       "    </tr>\n",
       "    <tr>\n",
       "      <th>1</th>\n",
       "      <td>moss</td>\n",
       "    </tr>\n",
       "    <tr>\n",
       "      <th>2</th>\n",
       "      <td>Eriophorum sp.</td>\n",
       "    </tr>\n",
       "  </tbody>\n",
       "</table>\n",
       "</div>"
      ],
      "text/plain": [
       "        datasetSpeciesName\n",
       "0  Dupontia fisheri R. Br.\n",
       "1                     moss\n",
       "2           Eriophorum sp."
      ]
     },
     "execution_count": 31,
     "metadata": {},
     "output_type": "execute_result"
    }
   ],
   "source": [
    "species_names_df.head(3)"
   ]
  },
  {
   "cell_type": "code",
   "execution_count": 32,
   "id": "7add8ae9-c2f4-491c-bf96-3acde27112b8",
   "metadata": {},
   "outputs": [
    {
     "name": "stdout",
     "output_type": "stream",
     "text": [
      "49 species are missing habits.\n",
      "26 species still missing habits.\n",
      "15 species still missing habits.\n",
      "14 species still missing habits.\n"
     ]
    },
    {
     "data": {
      "text/html": [
       "<div>\n",
       "<style scoped>\n",
       "    .dataframe tbody tr th:only-of-type {\n",
       "        vertical-align: middle;\n",
       "    }\n",
       "\n",
       "    .dataframe tbody tr th {\n",
       "        vertical-align: top;\n",
       "    }\n",
       "\n",
       "    .dataframe thead th {\n",
       "        text-align: right;\n",
       "    }\n",
       "</style>\n",
       "<table border=\"1\" class=\"dataframe\">\n",
       "  <thead>\n",
       "    <tr style=\"text-align: right;\">\n",
       "      <th></th>\n",
       "      <th>datasetSpeciesName</th>\n",
       "      <th>joinKey</th>\n",
       "      <th>speciesHabit</th>\n",
       "    </tr>\n",
       "    <tr>\n",
       "      <th>index</th>\n",
       "      <th></th>\n",
       "      <th></th>\n",
       "      <th></th>\n",
       "    </tr>\n",
       "  </thead>\n",
       "  <tbody>\n",
       "    <tr>\n",
       "      <th>0</th>\n",
       "      <td>Dupontia fisheri R. Br.</td>\n",
       "      <td>Dupontia fisheri</td>\n",
       "      <td>graminoid</td>\n",
       "    </tr>\n",
       "    <tr>\n",
       "      <th>1</th>\n",
       "      <td>moss</td>\n",
       "      <td>moss</td>\n",
       "      <td>NaN</td>\n",
       "    </tr>\n",
       "    <tr>\n",
       "      <th>2</th>\n",
       "      <td>Eriophorum sp.</td>\n",
       "      <td>Eriophorum sp.</td>\n",
       "      <td>graminoid</td>\n",
       "    </tr>\n",
       "  </tbody>\n",
       "</table>\n",
       "</div>"
      ],
      "text/plain": [
       "            datasetSpeciesName           joinKey speciesHabit\n",
       "index                                                        \n",
       "0      Dupontia fisheri R. Br.  Dupontia fisheri    graminoid\n",
       "1                         moss              moss          NaN\n",
       "2               Eriophorum sp.    Eriophorum sp.    graminoid"
      ]
     },
     "execution_count": 32,
     "metadata": {},
     "output_type": "execute_result"
    }
   ],
   "source": [
    "# get first 2 words (genus-species) from checklist accepted name and data species name\n",
    "checklist_df['joinKey'] = checklist_df['checklistSpeciesName'].apply(spf.get_substrings)\n",
    "species_names_df['joinKey'] = species_names_df['datasetSpeciesName'].apply(spf.get_substrings)\n",
    "habits = spf.join_to_checklist(unique_species=species_names_df, \n",
    "                               checklist=checklist_df, \n",
    "                               u_name='datasetSpeciesName', \n",
    "                               c_unofficial_name='checklistSpeciesName', \n",
    "                               c_official_name='nameAccepted', \n",
    "                               mapping_name='joinKey',\n",
    "                               habit='speciesHabit')\n",
    "habits.head(3)"
   ]
  },
  {
   "cell_type": "code",
   "execution_count": 33,
   "id": "76c312d0-ad0a-4804-9119-cd1c62dc75ab",
   "metadata": {},
   "outputs": [
    {
     "data": {
      "text/html": [
       "<div>\n",
       "<style scoped>\n",
       "    .dataframe tbody tr th:only-of-type {\n",
       "        vertical-align: middle;\n",
       "    }\n",
       "\n",
       "    .dataframe tbody tr th {\n",
       "        vertical-align: top;\n",
       "    }\n",
       "\n",
       "    .dataframe thead th {\n",
       "        text-align: right;\n",
       "    }\n",
       "</style>\n",
       "<table border=\"1\" class=\"dataframe\">\n",
       "  <thead>\n",
       "    <tr style=\"text-align: right;\">\n",
       "      <th></th>\n",
       "      <th>datasetSpeciesName</th>\n",
       "      <th>joinKey</th>\n",
       "    </tr>\n",
       "  </thead>\n",
       "  <tbody>\n",
       "    <tr>\n",
       "      <th>0</th>\n",
       "      <td>Dupontia fisheri R. Br.</td>\n",
       "      <td>Dupontia fisheri</td>\n",
       "    </tr>\n",
       "    <tr>\n",
       "      <th>1</th>\n",
       "      <td>moss</td>\n",
       "      <td>moss</td>\n",
       "    </tr>\n",
       "    <tr>\n",
       "      <th>2</th>\n",
       "      <td>Eriophorum sp.</td>\n",
       "      <td>Eriophorum sp.</td>\n",
       "    </tr>\n",
       "  </tbody>\n",
       "</table>\n",
       "</div>"
      ],
      "text/plain": [
       "        datasetSpeciesName           joinKey\n",
       "0  Dupontia fisheri R. Br.  Dupontia fisheri\n",
       "1                     moss              moss\n",
       "2           Eriophorum sp.    Eriophorum sp."
      ]
     },
     "execution_count": 33,
     "metadata": {},
     "output_type": "execute_result"
    }
   ],
   "source": [
    "species_names_df.head(3)"
   ]
  },
  {
   "cell_type": "code",
   "execution_count": 34,
   "id": "884d6474-fca1-4c9b-a137-20a3612d73cd",
   "metadata": {},
   "outputs": [],
   "source": [
    "habits = species_names_df.merge(habits, how='left', left_on='datasetSpeciesName', right_on='datasetSpeciesName', suffixes=(None, '_1'))\n",
    "habits = habits[['joinKey', 'datasetSpeciesName', 'speciesHabit']]"
   ]
  },
  {
   "cell_type": "markdown",
   "id": "a622d899-d71a-4205-ac62-c0409887b4cb",
   "metadata": {},
   "source": [
    "---\n",
    "## 1.3. Join fcover to leaf retention table <a name=\"joinleafretention\"></a>"
   ]
  },
  {
   "cell_type": "code",
   "execution_count": 35,
   "id": "58dc936e-ef05-48c1-ac28-5a76e7ed2744",
   "metadata": {},
   "outputs": [
    {
     "data": {
      "text/html": [
       "<div>\n",
       "<style scoped>\n",
       "    .dataframe tbody tr th:only-of-type {\n",
       "        vertical-align: middle;\n",
       "    }\n",
       "\n",
       "    .dataframe tbody tr th {\n",
       "        vertical-align: top;\n",
       "    }\n",
       "\n",
       "    .dataframe thead th {\n",
       "        text-align: right;\n",
       "    }\n",
       "</style>\n",
       "<table border=\"1\" class=\"dataframe\">\n",
       "  <thead>\n",
       "    <tr style=\"text-align: right;\">\n",
       "      <th></th>\n",
       "      <th>leafRetention</th>\n",
       "      <th>retentionSpeciesName</th>\n",
       "    </tr>\n",
       "  </thead>\n",
       "  <tbody>\n",
       "    <tr>\n",
       "      <th>0</th>\n",
       "      <td>deciduous</td>\n",
       "      <td>Salix</td>\n",
       "    </tr>\n",
       "    <tr>\n",
       "      <th>1</th>\n",
       "      <td>deciduous</td>\n",
       "      <td>Betula nana</td>\n",
       "    </tr>\n",
       "    <tr>\n",
       "      <th>2</th>\n",
       "      <td>deciduous</td>\n",
       "      <td>Vaccinium uliginosum</td>\n",
       "    </tr>\n",
       "  </tbody>\n",
       "</table>\n",
       "</div>"
      ],
      "text/plain": [
       "  leafRetention  retentionSpeciesName\n",
       "0     deciduous                 Salix\n",
       "1     deciduous           Betula nana\n",
       "2     deciduous  Vaccinium uliginosum"
      ]
     },
     "execution_count": 35,
     "metadata": {},
     "output_type": "execute_result"
    }
   ],
   "source": [
    "leaf_df = spf.leaf_retention_df('../etc/macander_leaf_retention.csv')\n",
    "leaf_df.head(3)"
   ]
  },
  {
   "cell_type": "code",
   "execution_count": 36,
   "id": "81c9b832-465e-4139-b2fa-8f0095f078f1",
   "metadata": {},
   "outputs": [
    {
     "data": {
      "text/html": [
       "<div>\n",
       "<style scoped>\n",
       "    .dataframe tbody tr th:only-of-type {\n",
       "        vertical-align: middle;\n",
       "    }\n",
       "\n",
       "    .dataframe tbody tr th {\n",
       "        vertical-align: top;\n",
       "    }\n",
       "\n",
       "    .dataframe thead th {\n",
       "        text-align: right;\n",
       "    }\n",
       "</style>\n",
       "<table border=\"1\" class=\"dataframe\">\n",
       "  <thead>\n",
       "    <tr style=\"text-align: right;\">\n",
       "      <th></th>\n",
       "      <th>datasetSpeciesName</th>\n",
       "      <th>joinKey</th>\n",
       "      <th>speciesHabit</th>\n",
       "      <th>leafRetention</th>\n",
       "    </tr>\n",
       "  </thead>\n",
       "  <tbody>\n",
       "    <tr>\n",
       "      <th>0</th>\n",
       "      <td>Dupontia fisheri R. Br.</td>\n",
       "      <td>Dupontia fisheri</td>\n",
       "      <td>graminoid</td>\n",
       "      <td></td>\n",
       "    </tr>\n",
       "    <tr>\n",
       "      <th>1</th>\n",
       "      <td>moss</td>\n",
       "      <td>moss</td>\n",
       "      <td>NaN</td>\n",
       "      <td></td>\n",
       "    </tr>\n",
       "    <tr>\n",
       "      <th>2</th>\n",
       "      <td>Eriophorum sp.</td>\n",
       "      <td>Eriophorum sp.</td>\n",
       "      <td>graminoid</td>\n",
       "      <td></td>\n",
       "    </tr>\n",
       "  </tbody>\n",
       "</table>\n",
       "</div>"
      ],
      "text/plain": [
       "        datasetSpeciesName           joinKey speciesHabit leafRetention\n",
       "0  Dupontia fisheri R. Br.  Dupontia fisheri    graminoid              \n",
       "1                     moss              moss          NaN              \n",
       "2           Eriophorum sp.    Eriophorum sp.    graminoid              "
      ]
     },
     "execution_count": 36,
     "metadata": {},
     "output_type": "execute_result"
    }
   ],
   "source": [
    "# add leaf retention column\n",
    "habits_wleaf = spf.add_leaf_retention(habits, leaf_df, 'leafRetention')\n",
    "habits_wleaf = habits_wleaf[['datasetSpeciesName', 'joinKey', 'speciesHabit', 'leafRetention']]\n",
    "habits_wleaf.head(3)"
   ]
  },
  {
   "cell_type": "code",
   "execution_count": 37,
   "id": "61bc9738-4ace-483f-a883-b78d5225326d",
   "metadata": {},
   "outputs": [
    {
     "data": {
      "text/plain": [
       "['graminoid', nan, 'forb', 'shrub', 'spore-bearing']"
      ]
     },
     "execution_count": 37,
     "metadata": {},
     "output_type": "execute_result"
    }
   ],
   "source": [
    "# apply function\n",
    "habits_wleaf['speciesHabit'] = habits_wleaf['speciesHabit'].apply(spf.clean_shrub_habits)\n",
    "list(habits_wleaf['speciesHabit'].unique())"
   ]
  },
  {
   "cell_type": "markdown",
   "id": "e2189641-06ed-4431-8be9-fe5f2af89ab0",
   "metadata": {},
   "source": [
    "---\n",
    "## 1.4. Export species-PFT tables <a name=\"exporthabits\"></a>"
   ]
  },
  {
   "cell_type": "code",
   "execution_count": 38,
   "id": "562082ce-a87b-441f-9aa7-f70489994b8b",
   "metadata": {},
   "outputs": [],
   "source": [
    "# generate 3 files and dataframe of habit types\n",
    "shrubs, nonshrubs, null = spf.export_habit_files(habits_wleaf,\n",
    "                                                 'temp_data', \n",
    "                                                 source, \n",
    "                                                 'speciesHabit')"
   ]
  },
  {
   "cell_type": "code",
   "execution_count": 39,
   "id": "9fcd3119-39fe-47b8-9b67-b309ef719e74",
   "metadata": {},
   "outputs": [
    {
     "data": {
      "text/plain": [
       "True"
      ]
     },
     "execution_count": 39,
     "metadata": {},
     "output_type": "execute_result"
    }
   ],
   "source": [
    "# check to make sure the files make sense\n",
    "len(habits_wleaf) == (len(null) + len(nonshrubs) + len(shrubs))"
   ]
  },
  {
   "cell_type": "markdown",
   "id": "1fd6b015-b6e6-4a50-a4ad-86313dbaabc1",
   "metadata": {},
   "source": [
    "---\n",
    "## 1.5. Clean exported species-PFT tables <a name=\"cleanhabits\"></a>\n",
    "Here, we manually assessed each file. The nonshrubs were usually correct and did not have to be adjusted. Some shrubs were missing leaf retention information, so we consulted with arctic ecologists to determine it. For unknown (null) habits, we consulted arctic ecology expert, Amy Breen, to determine the issue and correct habit. After the tables were complete, all species names had a single associated habit.\n",
    "- null habits\n",
    "    - assign missing habits and consult ecologist when needed\n",
    "- non-shrubs\n",
    "    - assign leaf habit to all trees (ctrl-f to find all trees in excel)\n",
    "        - coniferous tree = evergreen\n",
    "        - deciduous tree  = deciduous\n",
    "    - remove leaf habit if misapplied\n",
    "- shrubs\n",
    "    - check current leaf habits and correct if necessary\n",
    "    - fill empty leaf habits\n",
    "    - choose leaf habit if both evergreen & deciduous listed\n",
    "    - add Stature column (dwarf shrub or not)"
   ]
  },
  {
   "cell_type": "markdown",
   "id": "2a30f2ff-44b7-43d4-9615-25a874cf5fb0",
   "metadata": {},
   "source": [
    "---\n",
    "---\n",
    "# 2. Standardization <a name=\"standardization\"></a>"
   ]
  },
  {
   "cell_type": "markdown",
   "id": "c03c4f51-3434-4bcb-86ba-c342c53fff6d",
   "metadata": {},
   "source": [
    "---\n",
    "## 2.1. Standardize PFT names <a name=\"pftnames\"></a>\n",
    "deciduous shrub, evergreen shrub, graminoid, forb, litter, non-vascular (lichen, brophyte)"
   ]
  },
  {
   "cell_type": "code",
   "execution_count": 40,
   "id": "f9ba4445-418f-419c-bfc3-5c8f514dd4d2",
   "metadata": {},
   "outputs": [],
   "source": [
    "# paths to visually assessed and cleaned habit files\n",
    "all_habit_types = [f'temp_data/{source}_nonshrubs_01.csv',\n",
    "                   f'temp_data/{source}_shrubs_01.csv',\n",
    "                   f'temp_data/{source}_nullhabit_01.csv']\n",
    "\n",
    "# create list of habit dataframes\n",
    "habit_dfs = []\n",
    "for path in all_habit_types:\n",
    "    habit_df = pd.read_csv(path, index_col=0)\n",
    "    habit_dfs.append(habit_df)\n",
    "all_habits = pd.concat(habit_dfs)"
   ]
  },
  {
   "cell_type": "code",
   "execution_count": 41,
   "id": "4d3b73f9-b6d8-444b-b21c-1bfc9f365b08",
   "metadata": {},
   "outputs": [
    {
     "data": {
      "text/plain": [
       "['graminoid',\n",
       " 'forb',\n",
       " 'spore-bearing',\n",
       " 'shrub',\n",
       " 'lichen',\n",
       " 'litter',\n",
       " 'moss',\n",
       " 'other',\n",
       " 'fungus',\n",
       " 'rock',\n",
       " 'scat',\n",
       " 'soil',\n",
       " 'water']"
      ]
     },
     "execution_count": 41,
     "metadata": {},
     "output_type": "execute_result"
    }
   ],
   "source": [
    "# show unique habit names we're working with\n",
    "all_habits['speciesHabit'].unique().tolist()"
   ]
  },
  {
   "cell_type": "code",
   "execution_count": 42,
   "id": "94664ec4-91b7-479c-9629-6bffdef32a1e",
   "metadata": {},
   "outputs": [],
   "source": [
    "# akveg-specific habit name standardization function\n",
    "def standardize_habit(habitrow, leafrow):\n",
    "    \n",
    "    habitrow = habitrow.to_numpy()\n",
    "    leafrow = leafrow.to_numpy()\n",
    "    new_row = []\n",
    "    \n",
    "    for habit, leaf in zip(habitrow, leafrow):\n",
    "        \n",
    "        habit = habit.lower() \n",
    "        # non-shrubs\n",
    "        if 'algae' in habit:\n",
    "            new_habit = 'other'\n",
    "        elif 'moss' in habit or 'liverwort' in habit:\n",
    "            new_habit = 'bryophyte'\n",
    "        elif 'spore-bearing' in habit:\n",
    "            new_habit = 'forb'\n",
    "        elif 'litter' in habit or 'scat' in habit:\n",
    "            new_habit = 'litter'\n",
    "        elif 'bare ground' in habit or 'crust' in habit or 'mineral' in habit or 'soil' in habit:\n",
    "            new_habit = 'bare ground'\n",
    "            \n",
    "        # shrubs\n",
    "        elif 'shrub' in habit:\n",
    "            new_habit = f'{leaf} shrub'\n",
    "            \n",
    "        else:\n",
    "            new_habit = f'{habit}'\n",
    "        new_row.append(new_habit)\n",
    "    \n",
    "    return new_row"
   ]
  },
  {
   "cell_type": "code",
   "execution_count": 43,
   "id": "3a982b51-a464-43b4-90d5-f498d4eb1c12",
   "metadata": {},
   "outputs": [
    {
     "name": "stdout",
     "output_type": "stream",
     "text": [
      "123\n"
     ]
    },
    {
     "data": {
      "text/html": [
       "<div>\n",
       "<style scoped>\n",
       "    .dataframe tbody tr th:only-of-type {\n",
       "        vertical-align: middle;\n",
       "    }\n",
       "\n",
       "    .dataframe tbody tr th {\n",
       "        vertical-align: top;\n",
       "    }\n",
       "\n",
       "    .dataframe thead th {\n",
       "        text-align: right;\n",
       "    }\n",
       "</style>\n",
       "<table border=\"1\" class=\"dataframe\">\n",
       "  <thead>\n",
       "    <tr style=\"text-align: right;\">\n",
       "      <th></th>\n",
       "      <th>datasetSpeciesName</th>\n",
       "      <th>joinKey</th>\n",
       "      <th>speciesHabit</th>\n",
       "      <th>leafRetention</th>\n",
       "      <th>speciesStature</th>\n",
       "      <th>standardHabit</th>\n",
       "    </tr>\n",
       "  </thead>\n",
       "  <tbody>\n",
       "    <tr>\n",
       "      <th>36</th>\n",
       "      <td>Alopecurus magellanicus Lam.</td>\n",
       "      <td>Alopecurus magellanicus</td>\n",
       "      <td>graminoid</td>\n",
       "      <td>NaN</td>\n",
       "      <td>NaN</td>\n",
       "      <td>graminoid</td>\n",
       "    </tr>\n",
       "    <tr>\n",
       "      <th>104</th>\n",
       "      <td>Anemone parviflora Michx.</td>\n",
       "      <td>Anemone parviflora</td>\n",
       "      <td>forb</td>\n",
       "      <td>NaN</td>\n",
       "      <td>NaN</td>\n",
       "      <td>forb</td>\n",
       "    </tr>\n",
       "    <tr>\n",
       "      <th>29</th>\n",
       "      <td>Arctagrostis latifolia (R. Br.) Griseb.</td>\n",
       "      <td>Arctagrostis latifolia</td>\n",
       "      <td>graminoid</td>\n",
       "      <td>NaN</td>\n",
       "      <td>NaN</td>\n",
       "      <td>graminoid</td>\n",
       "    </tr>\n",
       "  </tbody>\n",
       "</table>\n",
       "</div>"
      ],
      "text/plain": [
       "                          datasetSpeciesName                  joinKey  \\\n",
       "36              Alopecurus magellanicus Lam.  Alopecurus magellanicus   \n",
       "104                Anemone parviflora Michx.       Anemone parviflora   \n",
       "29   Arctagrostis latifolia (R. Br.) Griseb.   Arctagrostis latifolia   \n",
       "\n",
       "    speciesHabit leafRetention speciesStature standardHabit  \n",
       "36     graminoid           NaN            NaN     graminoid  \n",
       "104         forb           NaN            NaN          forb  \n",
       "29     graminoid           NaN            NaN     graminoid  "
      ]
     },
     "execution_count": 43,
     "metadata": {},
     "output_type": "execute_result"
    }
   ],
   "source": [
    "# standardized PFT\n",
    "standard_habit_col = standardize_habit(all_habits['speciesHabit'], \n",
    "                                       all_habits['leafRetention'])\n",
    "all_habits['standardHabit'] = standard_habit_col\n",
    "print(len(all_habits))\n",
    "all_habits.head(3)"
   ]
  },
  {
   "cell_type": "markdown",
   "id": "3a7fc1a9-1ef0-45f4-bb65-f513ff00ad63",
   "metadata": {},
   "source": [
    "---\n",
    "## 2.2. Sum species fcover to PFT-level <a name=\"sumfcover\"></a>"
   ]
  },
  {
   "cell_type": "code",
   "execution_count": 44,
   "id": "cefd30c0-a670-4295-8eef-18f822821599",
   "metadata": {},
   "outputs": [
    {
     "data": {
      "text/html": [
       "<div>\n",
       "<style scoped>\n",
       "    .dataframe tbody tr th:only-of-type {\n",
       "        vertical-align: middle;\n",
       "    }\n",
       "\n",
       "    .dataframe tbody tr th {\n",
       "        vertical-align: top;\n",
       "    }\n",
       "\n",
       "    .dataframe thead th {\n",
       "        text-align: right;\n",
       "    }\n",
       "</style>\n",
       "<table border=\"1\" class=\"dataframe\">\n",
       "  <thead>\n",
       "    <tr style=\"text-align: right;\">\n",
       "      <th></th>\n",
       "      <th>plotName</th>\n",
       "      <th>datasetSpeciesName</th>\n",
       "      <th>standardHabit</th>\n",
       "      <th>percentCover</th>\n",
       "    </tr>\n",
       "  </thead>\n",
       "  <tbody>\n",
       "    <tr>\n",
       "      <th>0</th>\n",
       "      <td>BARR_003.basePlot.div.32.2.1</td>\n",
       "      <td>Dupontia fisheri R. Br.</td>\n",
       "      <td>graminoid</td>\n",
       "      <td>0.5</td>\n",
       "    </tr>\n",
       "    <tr>\n",
       "      <th>1</th>\n",
       "      <td>BARR_003.basePlot.div.32.4.1</td>\n",
       "      <td>Dupontia fisheri R. Br.</td>\n",
       "      <td>graminoid</td>\n",
       "      <td>0.5</td>\n",
       "    </tr>\n",
       "    <tr>\n",
       "      <th>2</th>\n",
       "      <td>BARR_006.basePlot.div.31.1.1</td>\n",
       "      <td>Dupontia fisheri R. Br.</td>\n",
       "      <td>graminoid</td>\n",
       "      <td>7.0</td>\n",
       "    </tr>\n",
       "  </tbody>\n",
       "</table>\n",
       "</div>"
      ],
      "text/plain": [
       "                       plotName       datasetSpeciesName standardHabit  \\\n",
       "0  BARR_003.basePlot.div.32.2.1  Dupontia fisheri R. Br.     graminoid   \n",
       "1  BARR_003.basePlot.div.32.4.1  Dupontia fisheri R. Br.     graminoid   \n",
       "2  BARR_006.basePlot.div.31.1.1  Dupontia fisheri R. Br.     graminoid   \n",
       "\n",
       "   percentCover  \n",
       "0           0.5  \n",
       "1           0.5  \n",
       "2           7.0  "
      ]
     },
     "execution_count": 44,
     "metadata": {},
     "output_type": "execute_result"
    }
   ],
   "source": [
    "# loop through each plot and sum fcover per pft\n",
    "all_habits = all_habits[['datasetSpeciesName', 'standardHabit']]\n",
    "species_fcover = fcover.merge(all_habits, \n",
    "                              left_on='datasetSpeciesName', \n",
    "                              right_on='datasetSpeciesName')\n",
    "species_fcover = species_fcover[species_fcover['percentCover'].notna() & (species_fcover['percentCover'] != 0)]\n",
    "species_fcover = species_fcover[['plotName', 'datasetSpeciesName', 'standardHabit', 'percentCover']]\n",
    "species_fcover['standardHabit'] = species_fcover['standardHabit'].replace('fungus', 'other')\n",
    "species_fcover.head(3)"
   ]
  },
  {
   "cell_type": "code",
   "execution_count": 45,
   "id": "f5646d2f-cd44-4a06-9a12-8afbf152c21e",
   "metadata": {},
   "outputs": [],
   "source": [
    "# export\n",
    "species_fcover.to_csv(f'output_data/{source}_nonstandard_species_fcover.csv', index=False)"
   ]
  },
  {
   "cell_type": "code",
   "execution_count": 46,
   "id": "e111d602-d096-440a-b352-b784039274fd",
   "metadata": {},
   "outputs": [],
   "source": [
    "# group by 'Site Code' and 'standardHabit', then sum the 'Cover'\n",
    "temp = species_fcover.groupby(['plotName', 'standardHabit'])['percentCover'].sum().reset_index()\n",
    "pft_fcover = temp.pivot(index='plotName', columns='standardHabit', values='percentCover')\n",
    "pft_fcover = pft_fcover.fillna(0)"
   ]
  },
  {
   "cell_type": "code",
   "execution_count": 47,
   "id": "98492580-a8a9-47c2-be8d-92f56eb191b0",
   "metadata": {},
   "outputs": [
    {
     "data": {
      "text/html": [
       "<div>\n",
       "<style scoped>\n",
       "    .dataframe tbody tr th:only-of-type {\n",
       "        vertical-align: middle;\n",
       "    }\n",
       "\n",
       "    .dataframe tbody tr th {\n",
       "        vertical-align: top;\n",
       "    }\n",
       "\n",
       "    .dataframe thead th {\n",
       "        text-align: right;\n",
       "    }\n",
       "</style>\n",
       "<table border=\"1\" class=\"dataframe\">\n",
       "  <thead>\n",
       "    <tr style=\"text-align: right;\">\n",
       "      <th></th>\n",
       "      <th>bare ground</th>\n",
       "      <th>bryophyte</th>\n",
       "      <th>deciduous shrub</th>\n",
       "      <th>evergreen shrub</th>\n",
       "      <th>forb</th>\n",
       "      <th>graminoid</th>\n",
       "      <th>lichen</th>\n",
       "      <th>litter</th>\n",
       "      <th>other</th>\n",
       "      <th>rock</th>\n",
       "      <th>water</th>\n",
       "    </tr>\n",
       "    <tr>\n",
       "      <th>plotName</th>\n",
       "      <th></th>\n",
       "      <th></th>\n",
       "      <th></th>\n",
       "      <th></th>\n",
       "      <th></th>\n",
       "      <th></th>\n",
       "      <th></th>\n",
       "      <th></th>\n",
       "      <th></th>\n",
       "      <th></th>\n",
       "      <th></th>\n",
       "    </tr>\n",
       "  </thead>\n",
       "  <tbody>\n",
       "    <tr>\n",
       "      <th>BARR_001.basePlot.div.31.1.1</th>\n",
       "      <td>0.0</td>\n",
       "      <td>97.0</td>\n",
       "      <td>0.0</td>\n",
       "      <td>0.0</td>\n",
       "      <td>6.5</td>\n",
       "      <td>8.0</td>\n",
       "      <td>0.5</td>\n",
       "      <td>6.5</td>\n",
       "      <td>12.5</td>\n",
       "      <td>0.0</td>\n",
       "      <td>0.0</td>\n",
       "    </tr>\n",
       "    <tr>\n",
       "      <th>BARR_001.basePlot.div.32.2.1</th>\n",
       "      <td>0.0</td>\n",
       "      <td>96.0</td>\n",
       "      <td>9.0</td>\n",
       "      <td>0.0</td>\n",
       "      <td>1.5</td>\n",
       "      <td>9.0</td>\n",
       "      <td>1.0</td>\n",
       "      <td>8.5</td>\n",
       "      <td>8.0</td>\n",
       "      <td>0.0</td>\n",
       "      <td>0.0</td>\n",
       "    </tr>\n",
       "    <tr>\n",
       "      <th>BARR_001.basePlot.div.32.4.1</th>\n",
       "      <td>0.5</td>\n",
       "      <td>15.0</td>\n",
       "      <td>0.0</td>\n",
       "      <td>0.0</td>\n",
       "      <td>0.0</td>\n",
       "      <td>13.5</td>\n",
       "      <td>0.0</td>\n",
       "      <td>78.0</td>\n",
       "      <td>9.5</td>\n",
       "      <td>0.0</td>\n",
       "      <td>1.0</td>\n",
       "    </tr>\n",
       "  </tbody>\n",
       "</table>\n",
       "</div>"
      ],
      "text/plain": [
       "                              bare ground  bryophyte  deciduous shrub  \\\n",
       "plotName                                                                \n",
       "BARR_001.basePlot.div.31.1.1          0.0       97.0              0.0   \n",
       "BARR_001.basePlot.div.32.2.1          0.0       96.0              9.0   \n",
       "BARR_001.basePlot.div.32.4.1          0.5       15.0              0.0   \n",
       "\n",
       "                              evergreen shrub  forb  graminoid  lichen  \\\n",
       "plotName                                                                 \n",
       "BARR_001.basePlot.div.31.1.1              0.0   6.5        8.0     0.5   \n",
       "BARR_001.basePlot.div.32.2.1              0.0   1.5        9.0     1.0   \n",
       "BARR_001.basePlot.div.32.4.1              0.0   0.0       13.5     0.0   \n",
       "\n",
       "                              litter  other  rock  water  \n",
       "plotName                                                  \n",
       "BARR_001.basePlot.div.31.1.1     6.5   12.5   0.0    0.0  \n",
       "BARR_001.basePlot.div.32.2.1     8.5    8.0   0.0    0.0  \n",
       "BARR_001.basePlot.div.32.4.1    78.0    9.5   0.0    1.0  "
      ]
     },
     "execution_count": 47,
     "metadata": {},
     "output_type": "execute_result"
    }
   ],
   "source": [
    "# clean up\n",
    "pft_fcover.columns.name = None\n",
    "pft_fcover.index.name = 'plotName'\n",
    "pft_fcover.index = pft_fcover.index.astype(str)\n",
    "pft_fcover.head(3)"
   ]
  },
  {
   "cell_type": "markdown",
   "id": "2763309a-e16c-47f6-867c-caec2bbed2c0",
   "metadata": {},
   "source": [
    "---\n",
    "## 2.3. Standardize table layout <a name=\"tablelayout\"></a>"
   ]
  },
  {
   "cell_type": "code",
   "execution_count": 48,
   "id": "6791825e-04f8-49f8-b888-e1c6d9049375",
   "metadata": {},
   "outputs": [],
   "source": [
    "# list of necessary PFTs\n",
    "pfts = ['deciduous shrub', 'deciduous tree',\n",
    "        'evergreen shrub', 'evergreen tree',\n",
    "        'forb', 'graminoid', 'non-vascular',\n",
    "        'bryophyte', 'lichen', 'litter',\n",
    "        'bare ground', 'water', 'other']"
   ]
  },
  {
   "cell_type": "code",
   "execution_count": 49,
   "id": "3966ee2f-2807-487d-92d9-97722da58f66",
   "metadata": {},
   "outputs": [],
   "source": [
    "# create non-vascular\n",
    "pft_fcover['non-vascular'] = pft_fcover['bryophyte'] + pft_fcover['lichen']"
   ]
  },
  {
   "cell_type": "code",
   "execution_count": 50,
   "id": "c79f389f-f8f6-44e9-96c4-4ef53c1ff6ca",
   "metadata": {},
   "outputs": [
    {
     "data": {
      "text/html": [
       "<div>\n",
       "<style scoped>\n",
       "    .dataframe tbody tr th:only-of-type {\n",
       "        vertical-align: middle;\n",
       "    }\n",
       "\n",
       "    .dataframe tbody tr th {\n",
       "        vertical-align: top;\n",
       "    }\n",
       "\n",
       "    .dataframe thead th {\n",
       "        text-align: right;\n",
       "    }\n",
       "</style>\n",
       "<table border=\"1\" class=\"dataframe\">\n",
       "  <thead>\n",
       "    <tr style=\"text-align: right;\">\n",
       "      <th></th>\n",
       "      <th>deciduous shrub</th>\n",
       "      <th>deciduous tree</th>\n",
       "      <th>evergreen shrub</th>\n",
       "      <th>evergreen tree</th>\n",
       "      <th>forb</th>\n",
       "      <th>graminoid</th>\n",
       "      <th>non-vascular</th>\n",
       "      <th>bryophyte</th>\n",
       "      <th>lichen</th>\n",
       "      <th>litter</th>\n",
       "      <th>bare ground</th>\n",
       "      <th>water</th>\n",
       "      <th>other</th>\n",
       "    </tr>\n",
       "    <tr>\n",
       "      <th>plotName</th>\n",
       "      <th></th>\n",
       "      <th></th>\n",
       "      <th></th>\n",
       "      <th></th>\n",
       "      <th></th>\n",
       "      <th></th>\n",
       "      <th></th>\n",
       "      <th></th>\n",
       "      <th></th>\n",
       "      <th></th>\n",
       "      <th></th>\n",
       "      <th></th>\n",
       "      <th></th>\n",
       "    </tr>\n",
       "  </thead>\n",
       "  <tbody>\n",
       "    <tr>\n",
       "      <th>BARR_001.basePlot.div.31.1.1</th>\n",
       "      <td>0.0</td>\n",
       "      <td>NaN</td>\n",
       "      <td>0.0</td>\n",
       "      <td>NaN</td>\n",
       "      <td>6.5</td>\n",
       "      <td>8.0</td>\n",
       "      <td>97.5</td>\n",
       "      <td>97.0</td>\n",
       "      <td>0.5</td>\n",
       "      <td>6.5</td>\n",
       "      <td>0.0</td>\n",
       "      <td>0.0</td>\n",
       "      <td>12.5</td>\n",
       "    </tr>\n",
       "    <tr>\n",
       "      <th>BARR_001.basePlot.div.32.2.1</th>\n",
       "      <td>9.0</td>\n",
       "      <td>NaN</td>\n",
       "      <td>0.0</td>\n",
       "      <td>NaN</td>\n",
       "      <td>1.5</td>\n",
       "      <td>9.0</td>\n",
       "      <td>97.0</td>\n",
       "      <td>96.0</td>\n",
       "      <td>1.0</td>\n",
       "      <td>8.5</td>\n",
       "      <td>0.0</td>\n",
       "      <td>0.0</td>\n",
       "      <td>8.0</td>\n",
       "    </tr>\n",
       "    <tr>\n",
       "      <th>BARR_001.basePlot.div.32.4.1</th>\n",
       "      <td>0.0</td>\n",
       "      <td>NaN</td>\n",
       "      <td>0.0</td>\n",
       "      <td>NaN</td>\n",
       "      <td>0.0</td>\n",
       "      <td>13.5</td>\n",
       "      <td>15.0</td>\n",
       "      <td>15.0</td>\n",
       "      <td>0.0</td>\n",
       "      <td>78.0</td>\n",
       "      <td>0.5</td>\n",
       "      <td>1.0</td>\n",
       "      <td>9.5</td>\n",
       "    </tr>\n",
       "  </tbody>\n",
       "</table>\n",
       "</div>"
      ],
      "text/plain": [
       "                              deciduous shrub  deciduous tree  \\\n",
       "plotName                                                        \n",
       "BARR_001.basePlot.div.31.1.1              0.0             NaN   \n",
       "BARR_001.basePlot.div.32.2.1              9.0             NaN   \n",
       "BARR_001.basePlot.div.32.4.1              0.0             NaN   \n",
       "\n",
       "                              evergreen shrub  evergreen tree  forb  \\\n",
       "plotName                                                              \n",
       "BARR_001.basePlot.div.31.1.1              0.0             NaN   6.5   \n",
       "BARR_001.basePlot.div.32.2.1              0.0             NaN   1.5   \n",
       "BARR_001.basePlot.div.32.4.1              0.0             NaN   0.0   \n",
       "\n",
       "                              graminoid  non-vascular  bryophyte  lichen  \\\n",
       "plotName                                                                   \n",
       "BARR_001.basePlot.div.31.1.1        8.0          97.5       97.0     0.5   \n",
       "BARR_001.basePlot.div.32.2.1        9.0          97.0       96.0     1.0   \n",
       "BARR_001.basePlot.div.32.4.1       13.5          15.0       15.0     0.0   \n",
       "\n",
       "                              litter  bare ground  water  other  \n",
       "plotName                                                         \n",
       "BARR_001.basePlot.div.31.1.1     6.5          0.0    0.0   12.5  \n",
       "BARR_001.basePlot.div.32.2.1     8.5          0.0    0.0    8.0  \n",
       "BARR_001.basePlot.div.32.4.1    78.0          0.5    1.0    9.5  "
      ]
     },
     "execution_count": 50,
     "metadata": {},
     "output_type": "execute_result"
    }
   ],
   "source": [
    "# create standard columns\n",
    "pft_fcover = spf.add_standard_cols(pft_fcover, pfts)\n",
    "pft_fcover = pft_fcover[pfts]\n",
    "pft_fcover.head(3)"
   ]
  },
  {
   "cell_type": "markdown",
   "id": "2894bf11-c1aa-4d8d-abe0-02bc993be175",
   "metadata": {},
   "source": [
    "---\n",
    "## 2.4. Standardize auxiliary columns <a name=\"aux\"></a>"
   ]
  },
  {
   "cell_type": "markdown",
   "id": "1f90bd83-f041-4331-9b48-a7aa0eee1da9",
   "metadata": {},
   "source": [
    "Plot information:\n",
    "- [ ] UID\n",
    "- [x] plotName\n",
    "- [x] dataSource\n",
    "- [x] dataSubsource\n",
    "- [x] fcoverScale\n",
    "- [x] surveyMethod\n",
    "- [x] surveyPurpose\n",
    "- [x] duplicatedCoords\n",
    "- [x] duplicatedDate\n",
    "- [x] surveyYear\n",
    "- [x] surveyMonth\n",
    "- [x] surveyDay\n",
    "\n",
    "Geographical information:\n",
    "- [x] bioclimateSubzone\n",
    "- [x] adminCountry\n",
    "- [x] adminUnit\n",
    "- [x] fireYears\n",
    "- [x] coordEpsg\n",
    "- [x] georefSource\n",
    "- [x] georefAccuracy\n",
    "- [x] plotRadius\n",
    "- [x] longitueX\n",
    "- [x] latitudeY"
   ]
  },
  {
   "cell_type": "code",
   "execution_count": 51,
   "id": "715535ea-5ec0-4b56-b463-defcfc3cf678",
   "metadata": {},
   "outputs": [],
   "source": [
    "# load auxiliary data\n",
    "aux = neon.copy()\n",
    "# sampling methods, coverscale, data source\n",
    "methods = pd.read_csv('../etc/sampling_methods.csv')"
   ]
  },
  {
   "cell_type": "markdown",
   "id": "7ff8cca4-88ba-45c1-a4e5-223051f2c96a",
   "metadata": {},
   "source": [
    "### 2.4.1. Basic plot information <a name=\"basics\"></a>"
   ]
  },
  {
   "cell_type": "code",
   "execution_count": 52,
   "id": "f066abbc-4770-465c-a6e8-8c7930e6ad72",
   "metadata": {},
   "outputs": [],
   "source": [
    "def get_subsource(row):\n",
    "    new_row = []\n",
    "    if 'TOOL' in row:\n",
    "        subsource = 'Toolik Field Station NEON'\n",
    "    elif 'BARR' in row:\n",
    "        subsource = 'Utqiagvik-Barrow NEON'\n",
    "    else:\n",
    "        subsource = np.nan\n",
    "    return subsource"
   ]
  },
  {
   "cell_type": "code",
   "execution_count": 53,
   "id": "f9266660-82eb-49a0-83ea-69ac4d4f16de",
   "metadata": {},
   "outputs": [],
   "source": [
    "new_aux = pd.DataFrame()\n",
    "\n",
    "# date columns\n",
    "aux['surveyDate'] = pd.to_datetime(aux['endDate'], format='mixed')\n",
    "new_aux['surveyYear'] = aux['surveyDate'].dt.year.astype(int)\n",
    "new_aux['surveyMonth'] = aux['surveyDate'].dt.month.astype(int)\n",
    "new_aux['surveyDay'] = aux['surveyDate'].dt.day.astype(int)\n",
    "\n",
    "# plot size\n",
    "new_aux['plotRadius'] = 1\n",
    "\n",
    "# geographical information\n",
    "new_aux['latitudeY'] = aux['subplot_lat'].astype('Float32')\n",
    "new_aux['longitudeX'] = aux['subplot_lon'].astype('Float32')\n",
    "new_aux['georefSource'] = 'GPS'\n",
    "new_aux['georefAccuracy'] = 0.25\n",
    "new_aux['coordEPSG'] = 'EPSG:4326'\n",
    "\n",
    "# main\n",
    "new_aux['plotName'] = aux['name']\n",
    "new_aux['dataSubsource'] = new_aux['plotName'].apply(lambda x: get_subsource(x))\n",
    "new_aux = new_aux.merge(methods, how='left', left_on='dataSubsource', right_on='dataSubsource')\n",
    "new_aux = new_aux.groupby('plotName')[new_aux.columns].first()\n",
    "new_aux = new_aux.set_index(new_aux['plotName'])"
   ]
  },
  {
   "cell_type": "markdown",
   "id": "919148a9-3f7b-4367-adad-759e5435072e",
   "metadata": {},
   "source": [
    "### 2.4.2. Geographical intersections <a name=\"geo\"></a>"
   ]
  },
  {
   "cell_type": "code",
   "execution_count": 54,
   "id": "a67e6dd3-af8d-4f8a-8743-d9ff2de99516",
   "metadata": {},
   "outputs": [],
   "source": [
    "# set geo info\n",
    "geo_paths = ['../etc/gaul1/gaul1_asap.shp',\n",
    "             '../etc/fire/InterAgencyFirePerimeterHistory_All_Years_View.shp',\n",
    "             '../etc/bioclim/bioclimate_la_latlon.shp']\n",
    "geo_names = ['gaul1',\n",
    "             'fire',\n",
    "             'bioclim']\n",
    "geo_cols = [['name1', 'name0', 'geometry'],\n",
    "            ['FIRE_YEAR', 'geometry'],\n",
    "            ['zone', 'geometry']]"
   ]
  },
  {
   "cell_type": "code",
   "execution_count": 55,
   "id": "cfef4685-4ea1-4fd5-a58c-8e1d6fb4a6b9",
   "metadata": {},
   "outputs": [],
   "source": [
    "# create geospatial information\n",
    "fcover_epsg = 'EPSG:4326' # wgs84\n",
    "intersect_epsg = 'EPSG:5936' # alaska projected datum\n",
    "fcover_and_aux = pd.concat([pft_fcover, new_aux], join='inner', axis=1)\n",
    "fcover_and_aux = gpd.GeoDataFrame(fcover_and_aux, \n",
    "                                  geometry=gpd.points_from_xy(fcover_and_aux['longitudeX'],\n",
    "                                                              fcover_and_aux['latitudeY']),\n",
    "                                  crs=fcover_epsg)\n",
    "fcover_and_aux = fcover_and_aux.to_crs(intersect_epsg)\n",
    "\n",
    "# add new geospatial intersections\n",
    "fcover_and_aux = spf.add_geospatial_aux(fcover_and_aux, \n",
    "                                        geo_paths, \n",
    "                                        geo_names, \n",
    "                                        geo_cols,\n",
    "                                        intersect_epsg)\n",
    "\n",
    "# drop unneccesary columns\n",
    "fcover_and_aux = fcover_and_aux.drop(columns=['index_gaul1', \n",
    "                                              'index_fire', \n",
    "                                              'index_bioclim', \n",
    "                                              'plotName'])"
   ]
  },
  {
   "cell_type": "code",
   "execution_count": 56,
   "id": "688c77b4-6af5-4bfb-b560-1f55d21d0a40",
   "metadata": {},
   "outputs": [],
   "source": [
    "# rename new columns\n",
    "fcover_and_aux.rename(columns={'name1':'adminUnit',\n",
    "                               'name0':'adminCountry',\n",
    "                               'FIRE_YEAR':'fireYears',\n",
    "                               'zone':'bioclimSubzone'}, inplace=True)"
   ]
  },
  {
   "cell_type": "markdown",
   "id": "a538118c-28ec-4a26-af70-11d1cdf5a48b",
   "metadata": {},
   "source": [
    "### 2.4.3. Duplicate coordinates <a name=\"dupes\"></a>\n",
    "This indicates that plots may have been revisited, they were very close and GPS accuracy was too low, or there is human error"
   ]
  },
  {
   "cell_type": "code",
   "execution_count": 57,
   "id": "5401ddc4-7cd5-4610-858d-a19d1d70fac6",
   "metadata": {},
   "outputs": [
    {
     "name": "stdout",
     "output_type": "stream",
     "text": [
      "no duplicates found\n",
      "duplicates found\n"
     ]
    }
   ],
   "source": [
    "# duplicate coord column\n",
    "coords = ['longitudeX', 'latitudeY']\n",
    "fcover_and_aux['duplicatedCoords'] = np.nan\n",
    "fcover_and_aux = spf.find_duplicates(fcover_and_aux, coords, 'duplicatedCoords')\n",
    "\n",
    "# duplicate date column\n",
    "date = ['surveyYear', 'surveyMonth', 'surveyDay']\n",
    "fcover_and_aux['duplicatedDate'] = np.nan\n",
    "fcover_and_aux = spf.find_duplicates(fcover_and_aux, date, 'duplicatedDate')"
   ]
  },
  {
   "cell_type": "markdown",
   "id": "5e7fa2d0-2b13-48f7-91d1-c49013d07b61",
   "metadata": {},
   "source": [
    "---\n",
    "# 3. Export <a name=\"export\"></a>"
   ]
  },
  {
   "cell_type": "code",
   "execution_count": 58,
   "id": "1ccdcfc5-16b2-4ff6-875b-14308687bab7",
   "metadata": {},
   "outputs": [],
   "source": [
    "# clean up\n",
    "pfts = {'deciduous shrub':'deciduousShrubCover',\n",
    "        'evergreen shrub':'evergreenShrubCover',\n",
    "        'deciduous tree':'deciduousTreeCover',\n",
    "        'evergreen tree':'evergreenTreeCover',\n",
    "        'forb':'forbCover',\n",
    "        'graminoid':'graminoidCover',\n",
    "        'non-vascular':'nonvascularSumCover',\n",
    "        'bryophyte':'bryophyteCover',\n",
    "        'lichen':'lichenCover',\n",
    "        'litter':'litterCover',\n",
    "        'bare ground':'baregroundCover',\n",
    "        'water':'waterCover',\n",
    "        'other':'otherCover'}\n",
    "\n",
    "# rename columns and replace NaN cover with 0\n",
    "fcover_and_aux.rename(columns=pfts, inplace=True)\n",
    "fcover_cols = list(pfts.values())\n",
    "fcover_and_aux[fcover_cols] = fcover_and_aux[fcover_cols].fillna(0.0)\n",
    "\n",
    "# reproject and set cover data type\n",
    "fcover_and_aux = fcover_and_aux.to_crs('EPSG:4326')\n",
    "fcover_and_aux[fcover_cols] = fcover_and_aux[fcover_cols].astype(np.float32)\n",
    "fcover_and_aux.index.name = 'plotName'"
   ]
  },
  {
   "cell_type": "code",
   "execution_count": 59,
   "id": "5c118237-5023-4dc2-8e07-fb57196f3c20",
   "metadata": {},
   "outputs": [
    {
     "data": {
      "text/plain": [
       "Index(['deciduousShrubCover', 'deciduousTreeCover', 'evergreenShrubCover',\n",
       "       'evergreenTreeCover', 'forbCover', 'graminoidCover',\n",
       "       'nonvascularSumCover', 'bryophyteCover', 'lichenCover', 'litterCover',\n",
       "       'baregroundCover', 'waterCover', 'otherCover', 'surveyYear',\n",
       "       'surveyMonth', 'surveyDay', 'plotRadius', 'latitudeY', 'longitudeX',\n",
       "       'georefSource', 'georefAccuracy', 'coordEPSG', 'dataSubsource',\n",
       "       'dataSource', 'surveyMethod', 'fcoverScale', 'surveyPurpose',\n",
       "       'geometry', 'adminUnit', 'adminCountry', 'fireYears', 'bioclimSubzone',\n",
       "       'duplicatedCoords', 'duplicatedDate'],\n",
       "      dtype='object')"
      ]
     },
     "execution_count": 59,
     "metadata": {},
     "output_type": "execute_result"
    }
   ],
   "source": [
    "fcover_and_aux.columns"
   ]
  },
  {
   "cell_type": "code",
   "execution_count": 60,
   "id": "830f8769-4fc5-4e8b-8085-144522aeae65",
   "metadata": {},
   "outputs": [],
   "source": [
    "# Export cover data\n",
    "covercols = [col for col in fcover_and_aux.columns if 'Cover' in col]\n",
    "auxcols = [col for col in fcover_and_aux.columns if 'Cover' not in col]\n",
    "pft_fcover = fcover_and_aux[covercols]\n",
    "pft_fcover.to_csv(f'output_data/{source}_standard_pft_fcover.csv')\n",
    "\n",
    "# Export aux data\n",
    "pft_aux = fcover_and_aux[auxcols]\n",
    "pft_aux.to_csv(f'output_data/{source}_plot_info.csv')"
   ]
  },
  {
   "cell_type": "code",
   "execution_count": null,
   "id": "68e6451d-ddb6-4405-b6f8-ff5161fea1e9",
   "metadata": {},
   "outputs": [],
   "source": []
  }
 ],
 "metadata": {
  "kernelspec": {
   "display_name": "Python 3 (ipykernel)",
   "language": "python",
   "name": "python3"
  },
  "language_info": {
   "codemirror_mode": {
    "name": "ipython",
    "version": 3
   },
   "file_extension": ".py",
   "mimetype": "text/x-python",
   "name": "python",
   "nbconvert_exporter": "python",
   "pygments_lexer": "ipython3",
   "version": "3.11.5"
  }
 },
 "nbformat": 4,
 "nbformat_minor": 5
}
